{
  "nbformat": 4,
  "nbformat_minor": 0,
  "metadata": {
    "colab": {
      "name": "Untitled3.ipynb",
      "version": "0.3.2",
      "provenance": [],
      "include_colab_link": true
    },
    "kernelspec": {
      "name": "python3",
      "display_name": "Python 3"
    },
    "accelerator": "GPU"
  },
  "cells": [
    {
      "cell_type": "markdown",
      "metadata": {
        "id": "view-in-github",
        "colab_type": "text"
      },
      "source": [
        "<a href=\"https://colab.research.google.com/github/ottermegazord/tf-graphics/blob/master/transformations.ipynb\" target=\"_parent\"><img src=\"https://colab.research.google.com/assets/colab-badge.svg\" alt=\"Open In Colab\"/></a>"
      ]
    },
    {
      "cell_type": "markdown",
      "metadata": {
        "id": "M2oLwlfh9XSQ",
        "colab_type": "text"
      },
      "source": [
        "# Transformation with Tensorflow Graphics!\n",
        "\n",
        "Note: Use TF v.1.14.0"
      ]
    },
    {
      "cell_type": "code",
      "metadata": {
        "id": "nctaAl7O8v87",
        "colab_type": "code",
        "outputId": "a07f0cc5-6784-4003-a9e9-28ebf292dec5",
        "colab": {
          "base_uri": "https://localhost:8080/",
          "height": 34
        }
      },
      "source": [
        "import tensorflow as tf\n",
        "print(tf.__version__)"
      ],
      "execution_count": 1,
      "outputs": [
        {
          "output_type": "stream",
          "text": [
            "1.14.0\n"
          ],
          "name": "stdout"
        }
      ]
    },
    {
      "cell_type": "markdown",
      "metadata": {
        "id": "5o-2nFRw_YH0",
        "colab_type": "text"
      },
      "source": [
        "## Install tensorflow packages"
      ]
    },
    {
      "cell_type": "code",
      "metadata": {
        "id": "2HQWkz6R9hYs",
        "colab_type": "code",
        "colab": {
          "base_uri": "https://localhost:8080/",
          "height": 459
        },
        "outputId": "ca8db479-c1ef-494f-e4f5-31b02e9619e3"
      },
      "source": [
        "#!pip install tensorflow==1.14.0\n",
        "!pip install tensorflow_graphics"
      ],
      "execution_count": 4,
      "outputs": [
        {
          "output_type": "stream",
          "text": [
            "Collecting tensorflow_graphics\n",
            "\u001b[?25l  Downloading https://files.pythonhosted.org/packages/d1/5d/b84b85322723aef25e5069596438a92dc7d5d1035ee11947e2105315eaa2/tensorflow_graphics-1.0.0-py2.py3-none-any.whl (243kB)\n",
            "\u001b[K     |████████████████████████████████| 245kB 2.7MB/s \n",
            "\u001b[?25hRequirement already satisfied: six>=1.11.0 in /usr/local/lib/python3.6/dist-packages (from tensorflow_graphics) (1.12.0)\n",
            "Requirement already satisfied: scipy>=1.1.0 in /usr/local/lib/python3.6/dist-packages (from tensorflow_graphics) (1.3.1)\n",
            "Requirement already satisfied: numpy>=1.15.4 in /usr/local/lib/python3.6/dist-packages (from tensorflow_graphics) (1.16.5)\n",
            "Requirement already satisfied: tensorflow>=1.13.1 in /usr/local/lib/python3.6/dist-packages (from tensorflow_graphics) (1.14.0)\n",
            "Requirement already satisfied: absl-py>=0.6.1 in /usr/local/lib/python3.6/dist-packages (from tensorflow_graphics) (0.8.0)\n",
            "Requirement already satisfied: keras-preprocessing>=1.0.5 in /usr/local/lib/python3.6/dist-packages (from tensorflow>=1.13.1->tensorflow_graphics) (1.1.0)\n",
            "Requirement already satisfied: termcolor>=1.1.0 in /usr/local/lib/python3.6/dist-packages (from tensorflow>=1.13.1->tensorflow_graphics) (1.1.0)\n",
            "Requirement already satisfied: google-pasta>=0.1.6 in /usr/local/lib/python3.6/dist-packages (from tensorflow>=1.13.1->tensorflow_graphics) (0.1.7)\n",
            "Requirement already satisfied: wrapt>=1.11.1 in /usr/local/lib/python3.6/dist-packages (from tensorflow>=1.13.1->tensorflow_graphics) (1.11.2)\n",
            "Requirement already satisfied: astor>=0.6.0 in /usr/local/lib/python3.6/dist-packages (from tensorflow>=1.13.1->tensorflow_graphics) (0.8.0)\n",
            "Requirement already satisfied: wheel>=0.26 in /usr/local/lib/python3.6/dist-packages (from tensorflow>=1.13.1->tensorflow_graphics) (0.33.6)\n",
            "Requirement already satisfied: tensorflow-estimator<1.15.0rc0,>=1.14.0rc0 in /usr/local/lib/python3.6/dist-packages (from tensorflow>=1.13.1->tensorflow_graphics) (1.14.0)\n",
            "Requirement already satisfied: gast>=0.2.0 in /usr/local/lib/python3.6/dist-packages (from tensorflow>=1.13.1->tensorflow_graphics) (0.2.2)\n",
            "Requirement already satisfied: tensorboard<1.15.0,>=1.14.0 in /usr/local/lib/python3.6/dist-packages (from tensorflow>=1.13.1->tensorflow_graphics) (1.14.0)\n",
            "Requirement already satisfied: keras-applications>=1.0.6 in /usr/local/lib/python3.6/dist-packages (from tensorflow>=1.13.1->tensorflow_graphics) (1.0.8)\n",
            "Requirement already satisfied: protobuf>=3.6.1 in /usr/local/lib/python3.6/dist-packages (from tensorflow>=1.13.1->tensorflow_graphics) (3.7.1)\n",
            "Requirement already satisfied: grpcio>=1.8.6 in /usr/local/lib/python3.6/dist-packages (from tensorflow>=1.13.1->tensorflow_graphics) (1.15.0)\n",
            "Requirement already satisfied: markdown>=2.6.8 in /usr/local/lib/python3.6/dist-packages (from tensorboard<1.15.0,>=1.14.0->tensorflow>=1.13.1->tensorflow_graphics) (3.1.1)\n",
            "Requirement already satisfied: setuptools>=41.0.0 in /usr/local/lib/python3.6/dist-packages (from tensorboard<1.15.0,>=1.14.0->tensorflow>=1.13.1->tensorflow_graphics) (41.2.0)\n",
            "Requirement already satisfied: werkzeug>=0.11.15 in /usr/local/lib/python3.6/dist-packages (from tensorboard<1.15.0,>=1.14.0->tensorflow>=1.13.1->tensorflow_graphics) (0.15.5)\n",
            "Requirement already satisfied: h5py in /usr/local/lib/python3.6/dist-packages (from keras-applications>=1.0.6->tensorflow>=1.13.1->tensorflow_graphics) (2.8.0)\n",
            "Installing collected packages: tensorflow-graphics\n",
            "Successfully installed tensorflow-graphics-1.0.0\n"
          ],
          "name": "stdout"
        }
      ]
    },
    {
      "cell_type": "markdown",
      "metadata": {
        "id": "z9LB7ATr_nTi",
        "colab_type": "text"
      },
      "source": [
        "## Import packages"
      ]
    },
    {
      "cell_type": "code",
      "metadata": {
        "id": "Zjdnw1dR-rVu",
        "colab_type": "code",
        "colab": {}
      },
      "source": [
        "from __future__ import absolute_import\n",
        "from __future__ import division\n",
        "from __future__ import print_function\n",
        "\n",
        "import time\n",
        "\n",
        "import matplotlib.pyplot as plt\n",
        "import numpy as np\n",
        "import tensorflow as tf\n",
        "from tensorflow import keras\n",
        "from tensorflow.keras import layers\n",
        "\n",
        "from tensorflow_graphics.geometry.transformation import quaternion\n",
        "from tensorflow_graphics.math import vector\n",
        "from tensorflow_graphics.notebooks import threejs_visualization\n",
        "from tensorflow_graphics.notebooks.resources import triangulated_stripe as tfg_simplified_logo\n"
      ],
      "execution_count": 0,
      "outputs": []
    },
    {
      "cell_type": "code",
      "metadata": {
        "id": "NBTYyUdCD-b5",
        "colab_type": "code",
        "colab": {}
      },
      "source": [
        "# Enable eager execution\n",
        "tf.enable_eager_execution()"
      ],
      "execution_count": 0,
      "outputs": []
    },
    {
      "cell_type": "code",
      "metadata": {
        "id": "ej4FgXlD_sPy",
        "colab_type": "code",
        "colab": {}
      },
      "source": [
        "# Load demo pic\n",
        "vertices = tfg_simplified_logo.mesh['vertices'].astype(np.float32)\n",
        "faces = tfg_simplified_logo.mesh['faces']\n",
        "num_vertices = vertices.shape[0]"
      ],
      "execution_count": 0,
      "outputs": []
    },
    {
      "cell_type": "code",
      "metadata": {
        "id": "M3O3hFvKAVNA",
        "colab_type": "code",
        "outputId": "0ba3f3a4-dcb5-44b6-e528-02e69c0e7fec",
        "colab": {
          "base_uri": "https://localhost:8080/",
          "height": 34
        }
      },
      "source": [
        "print(num_vertices)"
      ],
      "execution_count": 36,
      "outputs": [
        {
          "output_type": "stream",
          "text": [
            "38\n"
          ],
          "name": "stdout"
        }
      ]
    },
    {
      "cell_type": "markdown",
      "metadata": {
        "id": "n7Zha-2HAc_J",
        "colab_type": "text"
      },
      "source": [
        "## Modeling"
      ]
    },
    {
      "cell_type": "code",
      "metadata": {
        "id": "rPZ2uAQBArYO",
        "colab_type": "code",
        "colab": {}
      },
      "source": [
        "# Create model\n",
        "\n",
        "model = tf.keras.Sequential([\n",
        "    \n",
        "    tf.keras.layers.Flatten(input_shape=(num_vertices, 3)),\n",
        "    tf.keras.layers.Dense(64, activation='relu'),\n",
        "    tf.keras.layers.Dense(64, activation='relu'),\n",
        "    tf.keras.layers.Dense(7)\n",
        "    \n",
        "])"
      ],
      "execution_count": 0,
      "outputs": []
    },
    {
      "cell_type": "markdown",
      "metadata": {
        "id": "ebL1VkrYBQAl",
        "colab_type": "text"
      },
      "source": [
        "## Data Processing"
      ]
    },
    {
      "cell_type": "markdown",
      "metadata": {
        "id": "XJ3CXyyfBxCv",
        "colab_type": "text"
      },
      "source": [
        "In mathematics, the quaternions are a number system that extends the complex numbers. "
      ]
    },
    {
      "cell_type": "code",
      "metadata": {
        "id": "rBFTV69hAWyB",
        "colab_type": "code",
        "colab": {}
      },
      "source": [
        "def generate_training_data(num_samples):\n",
        "  \n",
        "  # random_angles.shape: (num_samples, 3)\n",
        "  random_angles = np.random.uniform(-np.pi, np.pi,\n",
        "                                   (num_samples, 3)).astype(np.float32)\n",
        "  \n",
        "  # random_quaternion.shape: (num_samples, 4)\n",
        "  random_quaternion = quaternion.from_euler(random_angles)\n",
        "  \n",
        "  # random_translation.shape: (num_samples, 3)\n",
        "  random_translation = np.random.uniform(-2.0, 2.0,\n",
        "                                        (num_samples, 3)).astype(np.float32)\n",
        "  \n",
        "  # data.shape: (num_samples, num_vertices, 3)\n",
        "  data = quaternion.rotate(vertices[tf.newaxis, :, :],\n",
        "                          random_quaternion[:, tf.newaxis, :]) + random_translation[:, tf.newaxis,:]\n",
        "\n",
        "  # target.shape: (num_samples, 4+3)\n",
        "  target = tf.concat((random_quaternion, random_translation), axis=-1)\n",
        "  \n",
        "  return np.array(data), np.array(target)\n",
        "  "
      ],
      "execution_count": 0,
      "outputs": []
    },
    {
      "cell_type": "code",
      "metadata": {
        "id": "u5il42vDBkIW",
        "colab_type": "code",
        "colab": {}
      },
      "source": [
        "NUM_SAMPLES = 10000\n",
        "\n",
        "# Generate data\n",
        "data, target = generate_training_data(NUM_SAMPLES)"
      ],
      "execution_count": 0,
      "outputs": []
    },
    {
      "cell_type": "markdown",
      "metadata": {
        "id": "PSJ_2-jnCwIf",
        "colab_type": "text"
      },
      "source": [
        "### Sanity check"
      ]
    },
    {
      "cell_type": "code",
      "metadata": {
        "id": "7PHZNRoaCmCV",
        "colab_type": "code",
        "outputId": "009c9d87-7173-466f-8b43-22dca5c9238a",
        "colab": {
          "base_uri": "https://localhost:8080/",
          "height": 51
        }
      },
      "source": [
        "print(data.shape)\n",
        "print(target.shape)"
      ],
      "execution_count": 40,
      "outputs": [
        {
          "output_type": "stream",
          "text": [
            "(10000, 38, 3)\n",
            "(10000, 7)\n"
          ],
          "name": "stdout"
        }
      ]
    },
    {
      "cell_type": "markdown",
      "metadata": {
        "id": "LCWBkZYYC6V7",
        "colab_type": "text"
      },
      "source": [
        "## Training"
      ]
    },
    {
      "cell_type": "markdown",
      "metadata": {
        "id": "fUGJZQ0lEJIp",
        "colab_type": "text"
      },
      "source": [
        "### Define pose estimation loss as loss function\n",
        "\n",
        "We define the\n",
        "pose estimation loss as the distance between the points sampled on the objects model in ground truth pose and corresponding points on the same model transformed by the\n",
        "predicted pose. See [paper](http://ai.stanford.edu/~yukez/papers/cvpr2019wang.pdf)."
      ]
    },
    {
      "cell_type": "code",
      "metadata": {
        "id": "guzO6sPTCt_X",
        "colab_type": "code",
        "colab": {}
      },
      "source": [
        "def pose_estimation_loss(y_true, y_pred):\n",
        "  \"\"\"\n",
        "  params: y_true: Ground truth\n",
        "  params: y_pred: Predicted value\n",
        "  \n",
        "  return: Scalar value of pose estimation loss\n",
        "  \"\"\"\n",
        "  \n",
        "  # y_true.shape: (batch, 7)\n",
        "  y_true_q, y_true_t = tf.split(y_true, (4,3), axis=-1)\n",
        "  \n",
        "  # y_pred.shape: (batch, 7)\n",
        "  y_pred_q, y_pred_t = tf.split(y_pred, (4, 3), axis=-1)\n",
        "  \n",
        "  # vertices.shape: (num_vertices, 3)\n",
        "  # corners.shape: (num_vertices, 1, 3)\n",
        "  corners = tf.expand_dims(vertices, axis=1)\n",
        "  \n",
        "  # transformed_corners.shape: (num_vertices, batch, 3)\n",
        "  # pad (standard broadcast) q and t shape with 1's \n",
        "  transformed_corners = quaternion.rotate(corners, y_pred_q) + y_pred_t\n",
        "  \n",
        "  # recovered_corners.shape: (num_vertices, batch, 3)\n",
        "  recovered_corners = quaternion.rotate(transformed_corners - y_true_t,\n",
        "                                        quaternion.inverse(y_true_q))\n",
        "  \n",
        "  # vertex_error.shape:(num_vertices, batch)\n",
        "  vertex_error = tf.reduce_sum((recovered_corners - corners)**2, axis=-1)\n",
        "  \n",
        "  return tf.reduce_mean(vertex_error)"
      ],
      "execution_count": 0,
      "outputs": []
    },
    {
      "cell_type": "code",
      "metadata": {
        "id": "kSeuMY9_EzhG",
        "colab_type": "code",
        "colab": {}
      },
      "source": [
        "model.compile(\n",
        "    loss=pose_estimation_loss,\n",
        "    optimizer='adam'\n",
        ")"
      ],
      "execution_count": 0,
      "outputs": []
    },
    {
      "cell_type": "markdown",
      "metadata": {
        "id": "ConPXnflGTKE",
        "colab_type": "text"
      },
      "source": [
        "### Summary of model"
      ]
    },
    {
      "cell_type": "code",
      "metadata": {
        "id": "q439GPWHF2OE",
        "colab_type": "code",
        "outputId": "02b63dfc-b4f3-40ee-b5af-59f96ba995c7",
        "colab": {
          "base_uri": "https://localhost:8080/",
          "height": 289
        }
      },
      "source": [
        "model.summary()"
      ],
      "execution_count": 43,
      "outputs": [
        {
          "output_type": "stream",
          "text": [
            "Model: \"sequential_1\"\n",
            "_________________________________________________________________\n",
            "Layer (type)                 Output Shape              Param #   \n",
            "=================================================================\n",
            "flatten_1 (Flatten)          (None, 114)               0         \n",
            "_________________________________________________________________\n",
            "dense_3 (Dense)              (None, 64)                7360      \n",
            "_________________________________________________________________\n",
            "dense_4 (Dense)              (None, 64)                4160      \n",
            "_________________________________________________________________\n",
            "dense_5 (Dense)              (None, 7)                 455       \n",
            "=================================================================\n",
            "Total params: 11,975\n",
            "Trainable params: 11,975\n",
            "Non-trainable params: 0\n",
            "_________________________________________________________________\n"
          ],
          "name": "stdout"
        }
      ]
    },
    {
      "cell_type": "markdown",
      "metadata": {
        "id": "2nyjssxyG9bm",
        "colab_type": "text"
      },
      "source": [
        "### Callbacks"
      ]
    },
    {
      "cell_type": "code",
      "metadata": {
        "id": "5yBp2K9OGWPH",
        "colab_type": "code",
        "colab": {}
      },
      "source": [
        "class ProgressLog(tf.keras.callbacks.Callback):\n",
        "  \n",
        "  def __init__(self, num_epochs, step=5):\n",
        "    self.num_epochs = num_epochs\n",
        "    self.current_epoch = 0\n",
        "    self.step = step\n",
        "    self.last_percentage_report = 0\n",
        "    \n",
        "  def on_epoch_end(self, batch, logs={}):\n",
        "    self.current_epoch += 1\n",
        "    training_percentage = int(self.current_epoch / self.num_epochs * 100)\n",
        "    \n",
        "    if training_percentage - self.last_percentage_report >= self.step:\n",
        "      print('Training ' + str(\n",
        "          training_percentage) + '% complete. Training loss: ' + str(\n",
        "              logs.get('loss')) + ' | Validation loss: ' + str(\n",
        "                  logs.get('val_loss')))\n",
        "      self.last_percentage_report = training_percentage"
      ],
      "execution_count": 0,
      "outputs": []
    },
    {
      "cell_type": "code",
      "metadata": {
        "id": "g-gHfS4qHi4M",
        "colab_type": "code",
        "colab": {}
      },
      "source": [
        "reduce_lr_callback = keras.callbacks.ReduceLROnPlateau(\n",
        "    monitor='val_loss',\n",
        "    factor=0.5,\n",
        "    patience=10,\n",
        "    verbose=1,\n",
        "    mode='auto',\n",
        "    min_delta=0.0001,\n",
        "    cooldown=0,\n",
        "    min_lr=0\n",
        ")"
      ],
      "execution_count": 0,
      "outputs": []
    },
    {
      "cell_type": "markdown",
      "metadata": {
        "id": "4iXHwCIYH5qd",
        "colab_type": "text"
      },
      "source": [
        "### Start training!"
      ]
    },
    {
      "cell_type": "code",
      "metadata": {
        "id": "xeY34KV1H1YL",
        "colab_type": "code",
        "colab": {}
      },
      "source": [
        "EPOCHS = 100\n",
        "pl = ProgressLog(EPOCHS)"
      ],
      "execution_count": 0,
      "outputs": []
    },
    {
      "cell_type": "code",
      "metadata": {
        "id": "YIOZK6TMIAGc",
        "colab_type": "code",
        "outputId": "5abeea59-42e9-49d5-e121-38457c79ceff",
        "colab": {
          "base_uri": "https://localhost:8080/",
          "height": 425
        }
      },
      "source": [
        "history = model.fit(\n",
        "    data,\n",
        "    target,\n",
        "    epochs=EPOCHS,\n",
        "    validation_split=0.2,\n",
        "    verbose=0,\n",
        "    batch_size=32,\n",
        "    callbacks=[pl,reduce_lr_callback]\n",
        ")"
      ],
      "execution_count": 47,
      "outputs": [
        {
          "output_type": "stream",
          "text": [
            "Training 5% complete. Training loss: 0.4399515961408615 | Validation loss: 0.4001403443813324\n",
            "Training 10% complete. Training loss: 0.2551215455532074 | Validation loss: 0.25526334857940675\n",
            "Training 15% complete. Training loss: 0.1771200855076313 | Validation loss: 0.1691175045967102\n",
            "Training 20% complete. Training loss: 0.14011456228792668 | Validation loss: 0.16123454988002778\n",
            "Training 25% complete. Training loss: 0.1198087190836668 | Validation loss: 0.131436408162117\n",
            "Training 30% complete. Training loss: 0.10613469833135605 | Validation loss: 0.11210849833488465\n",
            "Training 35% complete. Training loss: 0.09822969825565815 | Validation loss: 0.11082082134485245\n",
            "Training 40% complete. Training loss: 0.08947826271504164 | Validation loss: 0.09912856906652451\n",
            "Training 45% complete. Training loss: 0.07979811602830887 | Validation loss: 0.10046816235780716\n",
            "Training 50% complete. Training loss: 0.07506256694346666 | Validation loss: 0.08474224215745926\n",
            "Training 55% complete. Training loss: 0.0719240458905697 | Validation loss: 0.07131903299689293\n",
            "Training 60% complete. Training loss: 0.06823196391761303 | Validation loss: 0.06936414922773838\n",
            "Training 65% complete. Training loss: 0.07083352462947369 | Validation loss: 0.07687838132679463\n",
            "Training 70% complete. Training loss: 0.06746874805539846 | Validation loss: 0.06399471440911293\n",
            "Training 75% complete. Training loss: 0.06687195069342852 | Validation loss: 0.06381035315990448\n",
            "\n",
            "Epoch 00078: ReduceLROnPlateau reducing learning rate to 0.0005000000237487257.\n",
            "Training 80% complete. Training loss: 0.044222409635782244 | Validation loss: 0.05078279681503773\n",
            "Training 85% complete. Training loss: 0.0395265053845942 | Validation loss: 0.04811902125179768\n",
            "Training 90% complete. Training loss: 0.040743908289819955 | Validation loss: 0.05096276850998402\n",
            "\n",
            "Epoch 00091: ReduceLROnPlateau reducing learning rate to 0.0002500000118743628.\n",
            "Training 95% complete. Training loss: 0.029652012469246983 | Validation loss: 0.03817274481803179\n",
            "Training 100% complete. Training loss: 0.02615415241383016 | Validation loss: 0.03915252424776554\n"
          ],
          "name": "stdout"
        }
      ]
    },
    {
      "cell_type": "markdown",
      "metadata": {
        "id": "OjL6VnobI6OT",
        "colab_type": "text"
      },
      "source": [
        "### Results"
      ]
    },
    {
      "cell_type": "code",
      "metadata": {
        "id": "5q_o0o_sIK3W",
        "colab_type": "code",
        "outputId": "1ff24d1f-5459-43b2-8097-99d0c25488e7",
        "colab": {
          "base_uri": "https://localhost:8080/",
          "height": 283
        }
      },
      "source": [
        "plt.plot(history.history['loss'])\n",
        "plt.plot(history.history['val_loss'])\n",
        "plt.ylim([0,1])\n",
        "plt.legend(['loss', 'val_loss'], loc='upper left')\n",
        "plt.xlabel('Train epoch')\n",
        "_ = plt.ylabel('Error [Mean Square Distance]')\n"
      ],
      "execution_count": 48,
      "outputs": [
        {
          "output_type": "display_data",
          "data": {
            "image/png": "[encoded data removed]",
            "text/plain": [
              "<Figure size 432x288 with 1 Axes>"
            ]
          },
          "metadata": {
            "tags": []
          }
        }
      ]
    },
    {
      "cell_type": "markdown",
      "metadata": {
        "id": "6SV47ChWKetN",
        "colab_type": "text"
      },
      "source": [
        "## Applying Model"
      ]
    },
    {
      "cell_type": "markdown",
      "metadata": {
        "id": "zk2C8LB1KnAk",
        "colab_type": "text"
      },
      "source": [
        "### Applying a quaternion and a translation"
      ]
    },
    {
      "cell_type": "code",
      "metadata": {
        "id": "x2P8FxSLKsqd",
        "colab_type": "code",
        "colab": {}
      },
      "source": [
        "# Defines the loss function to be optimized.\n",
        "def transform_points(target_points, quaternion_variable, translation_variable):\n",
        "  return quaternion.rotate(target_points,\n",
        "                           quaternion_variable) + translation_variable"
      ],
      "execution_count": 0,
      "outputs": []
    },
    {
      "cell_type": "code",
      "metadata": {
        "id": "2v-WHFCAJyOw",
        "colab_type": "code",
        "colab": {}
      },
      "source": [
        "class Viewer(object):\n",
        "\n",
        "  def __init__(self, my_vertices):\n",
        "    my_vertices = np.asarray(my_vertices)\n",
        "    context = threejs_visualization.build_context()\n",
        "    light1 = context.THREE.PointLight.new_object(0x808080)\n",
        "    light1.position.set(10., 10., 10.)\n",
        "    light2 = context.THREE.AmbientLight.new_object(0x808080)\n",
        "    lights = (light1, light2)\n",
        "\n",
        "    material = context.THREE.MeshLambertMaterial.new_object({\n",
        "        'color': 0xfffacd,\n",
        "    })\n",
        "\n",
        "    material_deformed = context.THREE.MeshLambertMaterial.new_object({\n",
        "        'color': 0xf0fff0,\n",
        "    })\n",
        "\n",
        "    camera = threejs_visualization.build_perspective_camera(\n",
        "        field_of_view=30, position=(10.0, 10.0, 10.0))\n",
        "\n",
        "    mesh = {'vertices': vertices, 'faces': faces, 'material': material}\n",
        "    transformed_mesh = {\n",
        "        'vertices': my_vertices,\n",
        "        'faces': faces,\n",
        "        'material': material_deformed\n",
        "    }\n",
        "    geometries = threejs_visualization.triangular_mesh_renderer(\n",
        "        [mesh, transformed_mesh],\n",
        "        lights=lights,\n",
        "        camera=camera,\n",
        "        width=400,\n",
        "        height=400)\n",
        "\n",
        "    self.geometries = geometries\n",
        "\n",
        "  def update(self, transformed_points):\n",
        "    self.geometries[1].getAttribute('position').copyArray(\n",
        "        transformed_points.numpy().ravel().tolist())\n",
        "    self.geometries[1].getAttribute('position').needsUpdate = True"
      ],
      "execution_count": 0,
      "outputs": []
    },
    {
      "cell_type": "code",
      "metadata": {
        "id": "80PDYcLpJ7UQ",
        "colab_type": "code",
        "colab": {}
      },
      "source": [
        "def get_random_transform():\n",
        "  # Forms a random translation\n",
        "  with tf.name_scope('translation_variable'):\n",
        "    random_translation = tf.Variable(\n",
        "        np.random.uniform(-2.0, 2.0, (3,)), dtype=tf.float32)\n",
        "\n",
        "  # Forms a random quaternion\n",
        "  hi = np.pi\n",
        "  lo = -hi\n",
        "  random_angles = np.random.uniform(lo, hi, (3,)).astype(np.float32)\n",
        "  with tf.name_scope('rotation_variable'):\n",
        "    random_quaternion = tf.Variable(quaternion.from_euler(random_angles))\n",
        "\n",
        "  return random_quaternion, random_translation"
      ],
      "execution_count": 0,
      "outputs": []
    },
    {
      "cell_type": "markdown",
      "metadata": {
        "id": "GTJ0Qt5SK58q",
        "colab_type": "text"
      },
      "source": [
        "### View initial orientation"
      ]
    },
    {
      "cell_type": "code",
      "metadata": {
        "id": "2yzSLulhJQSo",
        "colab_type": "code",
        "outputId": "139894c0-6018-488a-9225-5a8fe3e9c568",
        "colab": {
          "base_uri": "https://localhost:8080/",
          "height": 421
        }
      },
      "source": [
        "random_quaternion, random_translation = get_random_transform()\n",
        "\n",
        "initial_orientation = transform_points(vertices, random_quaternion,\n",
        "                                       random_translation).numpy()\n",
        "viewer = Viewer(initial_orientation)"
      ],
      "execution_count": 52,
      "outputs": [
        {
          "output_type": "display_data",
          "data": {
            "text/html": [
              "<script src='https://www.gstatic.com/external_hosted/threejs-r98/three.min.js'></script>"
            ],
            "text/plain": [
              "<IPython.core.display.HTML object>"
            ]
          },
          "metadata": {
            "tags": []
          }
        },
        {
          "output_type": "display_data",
          "data": {
            "text/html": [
              "<script src='https://www.gstatic.com/external_hosted/threejs-r98/examples/js/controls/OrbitControls.js'></script>"
            ],
            "text/plain": [
              "<IPython.core.display.HTML object>"
            ]
          },
          "metadata": {
            "tags": []
          }
        },
        {
          "output_type": "display_data",
          "data": {
            "application/javascript": [
              "window[\"24b33c3a-d159-11e9-8d65-0242ac1c0002\"] = new THREE.PointLight(8421504);\n",
              "//# sourceURL=js_8b8c5b183b"
            ],
            "text/plain": [
              "<IPython.core.display.Javascript object>"
            ]
          },
          "metadata": {
            "tags": []
          }
        },
        {
          "output_type": "display_data",
          "data": {
            "application/javascript": [
              "window[\"24b39cd4-d159-11e9-8d65-0242ac1c0002\"] = window[\"24b33c3a-d159-11e9-8d65-0242ac1c0002\"].position.set(10.0, 10.0, 10.0);\n",
              "//# sourceURL=js_39628cae25"
            ],
            "text/plain": [
              "<IPython.core.display.Javascript object>"
            ]
          },
          "metadata": {
            "tags": []
          }
        },
        {
          "output_type": "display_data",
          "data": {
            "application/javascript": [
              "window[\"24b420be-d159-11e9-8d65-0242ac1c0002\"] = new THREE.AmbientLight(8421504);\n",
              "//# sourceURL=js_5d8608f6f1"
            ],
            "text/plain": [
              "<IPython.core.display.Javascript object>"
            ]
          },
          "metadata": {
            "tags": []
          }
        },
        {
          "output_type": "display_data",
          "data": {
            "application/javascript": [
              "window[\"24b48c20-d159-11e9-8d65-0242ac1c0002\"] = new THREE.MeshLambertMaterial({\"color\": 16775885});\n",
              "//# sourceURL=js_adef9af273"
            ],
            "text/plain": [
              "<IPython.core.display.Javascript object>"
            ]
          },
          "metadata": {
            "tags": []
          }
        },
        {
          "output_type": "display_data",
          "data": {
            "application/javascript": [
              "window[\"24b4fd2c-d159-11e9-8d65-0242ac1c0002\"] = new THREE.MeshLambertMaterial({\"color\": 15794160});\n",
              "//# sourceURL=js_af5fd1219a"
            ],
            "text/plain": [
              "<IPython.core.display.Javascript object>"
            ]
          },
          "metadata": {
            "tags": []
          }
        },
        {
          "output_type": "display_data",
          "data": {
            "text/html": [
              "<script src='https://www.gstatic.com/external_hosted/threejs-r98/three.min.js'></script>"
            ],
            "text/plain": [
              "<IPython.core.display.HTML object>"
            ]
          },
          "metadata": {
            "tags": []
          }
        },
        {
          "output_type": "display_data",
          "data": {
            "text/html": [
              "<script src='https://www.gstatic.com/external_hosted/threejs-r98/examples/js/controls/OrbitControls.js'></script>"
            ],
            "text/plain": [
              "<IPython.core.display.HTML object>"
            ]
          },
          "metadata": {
            "tags": []
          }
        },
        {
          "output_type": "display_data",
          "data": {
            "application/javascript": [
              "window[\"24b641dc-d159-11e9-8d65-0242ac1c0002\"] = new THREE.PerspectiveCamera(30, 1.0, 0.01, 1000.0);\n",
              "//# sourceURL=js_57a58156db"
            ],
            "text/plain": [
              "<IPython.core.display.Javascript object>"
            ]
          },
          "metadata": {
            "tags": []
          }
        },
        {
          "output_type": "display_data",
          "data": {
            "application/javascript": [
              "window[\"24b6cabc-d159-11e9-8d65-0242ac1c0002\"] = window[\"24b641dc-d159-11e9-8d65-0242ac1c0002\"].position.set(10.0, 10.0, 10.0);\n",
              "//# sourceURL=js_5d06755605"
            ],
            "text/plain": [
              "<IPython.core.display.Javascript object>"
            ]
          },
          "metadata": {
            "tags": []
          }
        },
        {
          "output_type": "display_data",
          "data": {
            "application/javascript": [
              "window[\"24b73e8e-d159-11e9-8d65-0242ac1c0002\"] = new THREE.OrbitControls(window[\"24b641dc-d159-11e9-8d65-0242ac1c0002\"]);\n",
              "//# sourceURL=js_9c45b4d8ef"
            ],
            "text/plain": [
              "<IPython.core.display.Javascript object>"
            ]
          },
          "metadata": {
            "tags": []
          }
        },
        {
          "output_type": "display_data",
          "data": {
            "application/javascript": [
              "window[\"24b73e8e-d159-11e9-8d65-0242ac1c0002\"].enableZoom = false;\n",
              "//# sourceURL=js_574c88cdf5"
            ],
            "text/plain": [
              "<IPython.core.display.Javascript object>"
            ]
          },
          "metadata": {
            "tags": []
          }
        },
        {
          "output_type": "display_data",
          "data": {
            "text/html": [
              "<script src='https://www.gstatic.com/external_hosted/threejs-r98/three.min.js'></script>"
            ],
            "text/plain": [
              "<IPython.core.display.HTML object>"
            ]
          },
          "metadata": {
            "tags": []
          }
        },
        {
          "output_type": "display_data",
          "data": {
            "text/html": [
              "<script src='https://www.gstatic.com/external_hosted/threejs-r98/examples/js/controls/OrbitControls.js'></script>"
            ],
            "text/plain": [
              "<IPython.core.display.HTML object>"
            ]
          },
          "metadata": {
            "tags": []
          }
        },
        {
          "output_type": "display_data",
          "data": {
            "application/javascript": [
              "window[\"24b97e06-d159-11e9-8d65-0242ac1c0002\"] = new THREE.WebGLRenderer({\"antialias\": true});\n",
              "//# sourceURL=js_2b28202a1c"
            ],
            "text/plain": [
              "<IPython.core.display.Javascript object>"
            ]
          },
          "metadata": {
            "tags": []
          }
        },
        {
          "output_type": "display_data",
          "data": {
            "application/javascript": [
              "window[\"24b9fab6-d159-11e9-8d65-0242ac1c0002\"] = window[\"24b97e06-d159-11e9-8d65-0242ac1c0002\"].setSize(400, 400);\n",
              "//# sourceURL=js_437b051d59"
            ],
            "text/plain": [
              "<IPython.core.display.Javascript object>"
            ]
          },
          "metadata": {
            "tags": []
          }
        },
        {
          "output_type": "display_data",
          "data": {
            "application/javascript": [
              "window[\"24ba78d8-d159-11e9-8d65-0242ac1c0002\"] = new THREE.Color(\"rgb(0, 0, 0)\");\n",
              "//# sourceURL=js_bc3bc0387b"
            ],
            "text/plain": [
              "<IPython.core.display.Javascript object>"
            ]
          },
          "metadata": {
            "tags": []
          }
        },
        {
          "output_type": "display_data",
          "data": {
            "application/javascript": [
              "window[\"24bafa06-d159-11e9-8d65-0242ac1c0002\"] = window[\"24b97e06-d159-11e9-8d65-0242ac1c0002\"].setClearColor(window[\"24ba78d8-d159-11e9-8d65-0242ac1c0002\"]);\n",
              "//# sourceURL=js_44632dc162"
            ],
            "text/plain": [
              "<IPython.core.display.Javascript object>"
            ]
          },
          "metadata": {
            "tags": []
          }
        },
        {
          "output_type": "display_data",
          "data": {
            "application/javascript": [
              "window[\"24bb625c-d159-11e9-8d65-0242ac1c0002\"] = window[\"24b97e06-d159-11e9-8d65-0242ac1c0002\"].clear();\n",
              "//# sourceURL=js_718ced53b6"
            ],
            "text/plain": [
              "<IPython.core.display.Javascript object>"
            ]
          },
          "metadata": {
            "tags": []
          }
        },
        {
          "output_type": "display_data",
          "data": {
            "application/javascript": [
              "window[\"24bbe5ec-d159-11e9-8d65-0242ac1c0002\"] = document.body.appendChild(window[\"24b97e06-d159-11e9-8d65-0242ac1c0002\"].domElement);\n",
              "//# sourceURL=js_af6895a54b"
            ],
            "text/plain": [
              "<IPython.core.display.Javascript object>"
            ]
          },
          "metadata": {
            "tags": []
          }
        },
        {
          "output_type": "display_data",
          "data": {
            "application/javascript": [
              "window[\"24bc5dba-d159-11e9-8d65-0242ac1c0002\"] = new THREE.Scene();\n",
              "//# sourceURL=js_755f48de64"
            ],
            "text/plain": [
              "<IPython.core.display.Javascript object>"
            ]
          },
          "metadata": {
            "tags": []
          }
        },
        {
          "output_type": "display_data",
          "data": {
            "application/javascript": [
              "window[\"24bcda10-d159-11e9-8d65-0242ac1c0002\"] = window[\"24bc5dba-d159-11e9-8d65-0242ac1c0002\"].add(window[\"24b33c3a-d159-11e9-8d65-0242ac1c0002\"]);\n",
              "//# sourceURL=js_95ec19f3e4"
            ],
            "text/plain": [
              "<IPython.core.display.Javascript object>"
            ]
          },
          "metadata": {
            "tags": []
          }
        },
        {
          "output_type": "display_data",
          "data": {
            "application/javascript": [
              "window[\"24bd56ca-d159-11e9-8d65-0242ac1c0002\"] = window[\"24bc5dba-d159-11e9-8d65-0242ac1c0002\"].add(window[\"24b420be-d159-11e9-8d65-0242ac1c0002\"]);\n",
              "//# sourceURL=js_95af5670d2"
            ],
            "text/plain": [
              "<IPython.core.display.Javascript object>"
            ]
          },
          "metadata": {
            "tags": []
          }
        },
        {
          "output_type": "display_data",
          "data": {
            "application/javascript": [
              "window[\"24bdd7b2-d159-11e9-8d65-0242ac1c0002\"] = new THREE.MeshLambertMaterial({\"color\": 8421504});\n",
              "//# sourceURL=js_92b2d77fca"
            ],
            "text/plain": [
              "<IPython.core.display.Javascript object>"
            ]
          },
          "metadata": {
            "tags": []
          }
        },
        {
          "output_type": "display_data",
          "data": {
            "application/javascript": [
              "window[\"24bdd7b2-d159-11e9-8d65-0242ac1c0002\"][\"vertexColors\"] = THREE.NoColors;\n",
              "//# sourceURL=js_3cc9357951"
            ],
            "text/plain": [
              "<IPython.core.display.Javascript object>"
            ]
          },
          "metadata": {
            "tags": []
          }
        },
        {
          "output_type": "display_data",
          "data": {
            "application/javascript": [
              "window[\"24bebb0a-d159-11e9-8d65-0242ac1c0002\"] = new Float32Array([-1.7999999523162842, 0.0, 0.0, -1.600000023841858, 0.0, 0.0, -1.399999976158142, 0.0, 0.0, -1.2000000476837158, 0.0, 0.0, -1.0, 0.0, 0.0, -0.800000011920929, 0.0, 0.0, -0.6000000238418579, 0.0, 0.0, -0.4000000059604645, 0.0, 0.0, -0.20000000298023224, 0.0, 0.0, 0.0, 0.0, 0.0, 0.20000000298023224, 0.0, 0.0, 0.4000000059604645, 0.0, 0.0, 0.6000000238418579, 0.0, 0.0, 0.800000011920929, 0.0, 0.0, 1.0, 0.0, 0.0, 1.2000000476837158, 0.0, 0.0, 1.399999976158142, 0.0, 0.0, 1.600000023841858, 0.0, 0.0, 1.7999999523162842, 0.0, 0.0, -1.7999999523162842, 1.0, 0.0, -1.600000023841858, 1.0, 0.0, -1.399999976158142, 1.0, 0.0, -1.2000000476837158, 1.0, 0.0, -1.0, 1.0, 0.0, -0.800000011920929, 1.0, 0.0, -0.6000000238418579, 1.0, 0.0, -0.4000000059604645, 1.0, 0.0, -0.20000000298023224, 1.0, 0.0, 0.0, 1.0, 0.0, 0.20000000298023224, 1.0, 0.0, 0.4000000059604645, 1.0, 0.0, 0.6000000238418579, 1.0, 0.0, 0.800000011920929, 1.0, 0.0, 1.0, 1.0, 0.0, 1.2000000476837158, 1.0, 0.0, 1.399999976158142, 1.0, 0.0, 1.600000023841858, 1.0, 0.0, 1.7999999523162842, 1.0, 0.0]);\n",
              "//# sourceURL=js_de8ec98966"
            ],
            "text/plain": [
              "<IPython.core.display.Javascript object>"
            ]
          },
          "metadata": {
            "tags": []
          }
        },
        {
          "output_type": "display_data",
          "data": {
            "application/javascript": [
              "window[\"24bf3698-d159-11e9-8d65-0242ac1c0002\"] = new Uint32Array([0, 1, 19, 1, 20, 19, 1, 2, 20, 2, 21, 20, 2, 3, 21, 3, 22, 21, 3, 4, 22, 4, 23, 22, 4, 5, 23, 5, 24, 23, 5, 6, 24, 6, 25, 24, 6, 7, 25, 7, 26, 25, 7, 8, 26, 8, 27, 26, 8, 9, 27, 9, 28, 27, 9, 10, 28, 10, 29, 28, 10, 11, 29, 11, 30, 29, 11, 12, 30, 12, 31, 30, 12, 13, 31, 13, 32, 31, 13, 14, 32, 14, 33, 32, 14, 15, 33, 15, 34, 33, 15, 16, 34, 16, 35, 34, 16, 17, 35, 17, 36, 35, 17, 18, 36, 18, 37, 36]);\n",
              "//# sourceURL=js_a624831b23"
            ],
            "text/plain": [
              "<IPython.core.display.Javascript object>"
            ]
          },
          "metadata": {
            "tags": []
          }
        },
        {
          "output_type": "display_data",
          "data": {
            "application/javascript": [
              "window[\"24bf9b74-d159-11e9-8d65-0242ac1c0002\"] = new THREE.BufferGeometry();\n",
              "//# sourceURL=js_06a3de7406"
            ],
            "text/plain": [
              "<IPython.core.display.Javascript object>"
            ]
          },
          "metadata": {
            "tags": []
          }
        },
        {
          "output_type": "display_data",
          "data": {
            "application/javascript": [
              "window[\"24c03002-d159-11e9-8d65-0242ac1c0002\"] = new THREE.BufferAttribute(window[\"24bebb0a-d159-11e9-8d65-0242ac1c0002\"], 3);\n",
              "//# sourceURL=js_d04ec7082b"
            ],
            "text/plain": [
              "<IPython.core.display.Javascript object>"
            ]
          },
          "metadata": {
            "tags": []
          }
        },
        {
          "output_type": "display_data",
          "data": {
            "application/javascript": [
              "window[\"24c0aab4-d159-11e9-8d65-0242ac1c0002\"] = window[\"24bf9b74-d159-11e9-8d65-0242ac1c0002\"].addAttribute(\"position\", window[\"24c03002-d159-11e9-8d65-0242ac1c0002\"]);\n",
              "//# sourceURL=js_7fd62d695b"
            ],
            "text/plain": [
              "<IPython.core.display.Javascript object>"
            ]
          },
          "metadata": {
            "tags": []
          }
        },
        {
          "output_type": "display_data",
          "data": {
            "application/javascript": [
              "window[\"24c12a70-d159-11e9-8d65-0242ac1c0002\"] = new THREE.BufferAttribute(window[\"24bf3698-d159-11e9-8d65-0242ac1c0002\"], 1);\n",
              "//# sourceURL=js_a4dc2579b9"
            ],
            "text/plain": [
              "<IPython.core.display.Javascript object>"
            ]
          },
          "metadata": {
            "tags": []
          }
        },
        {
          "output_type": "display_data",
          "data": {
            "application/javascript": [
              "window[\"24c1ab80-d159-11e9-8d65-0242ac1c0002\"] = window[\"24bf9b74-d159-11e9-8d65-0242ac1c0002\"].setIndex(window[\"24c12a70-d159-11e9-8d65-0242ac1c0002\"]);\n",
              "//# sourceURL=js_49853160c1"
            ],
            "text/plain": [
              "<IPython.core.display.Javascript object>"
            ]
          },
          "metadata": {
            "tags": []
          }
        },
        {
          "output_type": "display_data",
          "data": {
            "application/javascript": [
              "window[\"24c20d00-d159-11e9-8d65-0242ac1c0002\"] = window[\"24bf9b74-d159-11e9-8d65-0242ac1c0002\"].computeVertexNormals();\n",
              "//# sourceURL=js_21c83789b2"
            ],
            "text/plain": [
              "<IPython.core.display.Javascript object>"
            ]
          },
          "metadata": {
            "tags": []
          }
        },
        {
          "output_type": "display_data",
          "data": {
            "application/javascript": [
              "window[\"24c27c7c-d159-11e9-8d65-0242ac1c0002\"] = new THREE.Mesh(window[\"24bf9b74-d159-11e9-8d65-0242ac1c0002\"], window[\"24b48c20-d159-11e9-8d65-0242ac1c0002\"]);\n",
              "//# sourceURL=js_53cbf1ea7f"
            ],
            "text/plain": [
              "<IPython.core.display.Javascript object>"
            ]
          },
          "metadata": {
            "tags": []
          }
        },
        {
          "output_type": "display_data",
          "data": {
            "application/javascript": [
              "window[\"24c30426-d159-11e9-8d65-0242ac1c0002\"] = window[\"24bc5dba-d159-11e9-8d65-0242ac1c0002\"].add(window[\"24c27c7c-d159-11e9-8d65-0242ac1c0002\"]);\n",
              "//# sourceURL=js_7df38628b2"
            ],
            "text/plain": [
              "<IPython.core.display.Javascript object>"
            ]
          },
          "metadata": {
            "tags": []
          }
        },
        {
          "output_type": "display_data",
          "data": {
            "application/javascript": [
              "window[\"24bdd7b2-d159-11e9-8d65-0242ac1c0002\"][\"vertexColors\"] = THREE.NoColors;\n",
              "//# sourceURL=js_3cc9357951"
            ],
            "text/plain": [
              "<IPython.core.display.Javascript object>"
            ]
          },
          "metadata": {
            "tags": []
          }
        },
        {
          "output_type": "display_data",
          "data": {
            "application/javascript": [
              "window[\"24c413f2-d159-11e9-8d65-0242ac1c0002\"] = new Float32Array([1.1524866819381714, -0.6626567840576172, -2.005350112915039, 1.1446644067764282, -0.8054779767990112, -1.8655613660812378, 1.136842131614685, -0.9482992887496948, -1.725772500038147, 1.1290197372436523, -1.0911204814910889, -1.5859837532043457, 1.1211974620819092, -1.2339415550231934, -1.4461948871612549, 1.113375186920166, -1.376762866973877, -1.306406021118164, 1.1055529117584229, -1.519584059715271, -1.1666171550750732, 1.0977306365966797, -1.662405252456665, -1.0268282890319824, 1.089908242225647, -1.805226445198059, -0.8870395421981812, 1.0820859670639038, -1.9480476379394531, -0.7472506761550903, 1.0742636919021606, -2.0908689498901367, -0.6074618101119995, 1.066441297531128, -2.233690023422241, -0.46767300367355347, 1.0586190223693848, -2.3765110969543457, -0.32788416743278503, 1.0507967472076416, -2.5193324089050293, -0.1880953311920166, 1.0429744720458984, -2.662153720855713, -0.04830646514892578, 1.0351521968841553, -2.8049747943878174, 0.09148234128952026, 1.0273298025131226, -2.947795867919922, 0.2312711477279663, 1.0195075273513794, -3.0906171798706055, 0.37106001377105713, 1.0116852521896362, -3.233438491821289, 0.5108487606048584, 2.0714540481567383, -0.413684606552124, -1.6995532512664795, 2.063631772994995, -0.5565057992935181, -1.5597646236419678, 2.055809497833252, -0.6993269920349121, -1.419975757598877, 2.047987222671509, -0.8421480655670166, -1.2801868915557861, 2.0401649475097656, -0.9849693179130554, -1.1403980255126953, 2.0323426723480225, -1.1277905702590942, -1.000609278678894, 2.0245203971862793, -1.2706117630004883, -0.860820472240448, 2.016698122024536, -1.4134330749511719, -0.721031665802002, 2.008875846862793, -1.5562541484832764, -0.5812427997589111, 2.0010533332824707, -1.6990753412246704, -0.4414539635181427, 1.9932310581207275, -1.8418965339660645, -0.30166512727737427, 1.9854087829589844, -1.984717845916748, -0.16187632083892822, 1.9775865077972412, -2.1275389194488525, -0.022087454795837402, 1.969764232635498, -2.270360231399536, 0.11770135164260864, 1.9619419574737549, -2.4131815433502197, 0.25749027729034424, 1.9541196823120117, -2.556002616882324, 0.3972790241241455, 1.9462971687316895, -2.6988236904144287, 0.5370678901672363, 1.9384750127792358, -2.8416452407836914, 0.6768566370010376, 1.9306526184082031, -2.984466075897217, 0.8166455030441284]);\n",
              "//# sourceURL=js_d00b75329c"
            ],
            "text/plain": [
              "<IPython.core.display.Javascript object>"
            ]
          },
          "metadata": {
            "tags": []
          }
        },
        {
          "output_type": "display_data",
          "data": {
            "application/javascript": [
              "window[\"24c492c8-d159-11e9-8d65-0242ac1c0002\"] = new Uint32Array([0, 1, 19, 1, 20, 19, 1, 2, 20, 2, 21, 20, 2, 3, 21, 3, 22, 21, 3, 4, 22, 4, 23, 22, 4, 5, 23, 5, 24, 23, 5, 6, 24, 6, 25, 24, 6, 7, 25, 7, 26, 25, 7, 8, 26, 8, 27, 26, 8, 9, 27, 9, 28, 27, 9, 10, 28, 10, 29, 28, 10, 11, 29, 11, 30, 29, 11, 12, 30, 12, 31, 30, 12, 13, 31, 13, 32, 31, 13, 14, 32, 14, 33, 32, 14, 15, 33, 15, 34, 33, 15, 16, 34, 16, 35, 34, 16, 17, 35, 17, 36, 35, 17, 18, 36, 18, 37, 36]);\n",
              "//# sourceURL=js_94482d055d"
            ],
            "text/plain": [
              "<IPython.core.display.Javascript object>"
            ]
          },
          "metadata": {
            "tags": []
          }
        },
        {
          "output_type": "display_data",
          "data": {
            "application/javascript": [
              "window[\"24c50b90-d159-11e9-8d65-0242ac1c0002\"] = new THREE.BufferGeometry();\n",
              "//# sourceURL=js_931f28e480"
            ],
            "text/plain": [
              "<IPython.core.display.Javascript object>"
            ]
          },
          "metadata": {
            "tags": []
          }
        },
        {
          "output_type": "display_data",
          "data": {
            "application/javascript": [
              "window[\"24c5891c-d159-11e9-8d65-0242ac1c0002\"] = new THREE.BufferAttribute(window[\"24c413f2-d159-11e9-8d65-0242ac1c0002\"], 3);\n",
              "//# sourceURL=js_cbbff5c557"
            ],
            "text/plain": [
              "<IPython.core.display.Javascript object>"
            ]
          },
          "metadata": {
            "tags": []
          }
        },
        {
          "output_type": "display_data",
          "data": {
            "application/javascript": [
              "window[\"24c605a4-d159-11e9-8d65-0242ac1c0002\"] = window[\"24c50b90-d159-11e9-8d65-0242ac1c0002\"].addAttribute(\"position\", window[\"24c5891c-d159-11e9-8d65-0242ac1c0002\"]);\n",
              "//# sourceURL=js_744c140d66"
            ],
            "text/plain": [
              "<IPython.core.display.Javascript object>"
            ]
          },
          "metadata": {
            "tags": []
          }
        },
        {
          "output_type": "display_data",
          "data": {
            "application/javascript": [
              "window[\"24c6889e-d159-11e9-8d65-0242ac1c0002\"] = new THREE.BufferAttribute(window[\"24c492c8-d159-11e9-8d65-0242ac1c0002\"], 1);\n",
              "//# sourceURL=js_8b63180663"
            ],
            "text/plain": [
              "<IPython.core.display.Javascript object>"
            ]
          },
          "metadata": {
            "tags": []
          }
        },
        {
          "output_type": "display_data",
          "data": {
            "application/javascript": [
              "window[\"24c704ea-d159-11e9-8d65-0242ac1c0002\"] = window[\"24c50b90-d159-11e9-8d65-0242ac1c0002\"].setIndex(window[\"24c6889e-d159-11e9-8d65-0242ac1c0002\"]);\n",
              "//# sourceURL=js_d4d6857671"
            ],
            "text/plain": [
              "<IPython.core.display.Javascript object>"
            ]
          },
          "metadata": {
            "tags": []
          }
        },
        {
          "output_type": "display_data",
          "data": {
            "application/javascript": [
              "window[\"24c7810e-d159-11e9-8d65-0242ac1c0002\"] = window[\"24c50b90-d159-11e9-8d65-0242ac1c0002\"].computeVertexNormals();\n",
              "//# sourceURL=js_e302a2f761"
            ],
            "text/plain": [
              "<IPython.core.display.Javascript object>"
            ]
          },
          "metadata": {
            "tags": []
          }
        },
        {
          "output_type": "display_data",
          "data": {
            "application/javascript": [
              "window[\"24c7fe04-d159-11e9-8d65-0242ac1c0002\"] = new THREE.Mesh(window[\"24c50b90-d159-11e9-8d65-0242ac1c0002\"], window[\"24b4fd2c-d159-11e9-8d65-0242ac1c0002\"]);\n",
              "//# sourceURL=js_c264134bde"
            ],
            "text/plain": [
              "<IPython.core.display.Javascript object>"
            ]
          },
          "metadata": {
            "tags": []
          }
        },
        {
          "output_type": "display_data",
          "data": {
            "application/javascript": [
              "window[\"24c86be6-d159-11e9-8d65-0242ac1c0002\"] = window[\"24bc5dba-d159-11e9-8d65-0242ac1c0002\"].add(window[\"24c7fe04-d159-11e9-8d65-0242ac1c0002\"]);\n",
              "//# sourceURL=js_943a06efbc"
            ],
            "text/plain": [
              "<IPython.core.display.Javascript object>"
            ]
          },
          "metadata": {
            "tags": []
          }
        }
      ]
    },
    {
      "cell_type": "markdown",
      "metadata": {
        "id": "xks68pH9K9mV",
        "colab_type": "text"
      },
      "source": [
        "### View predicted orientation"
      ]
    },
    {
      "cell_type": "code",
      "metadata": {
        "id": "q3DlmyK6Kh4D",
        "colab_type": "code",
        "outputId": "af5871d6-73af-4374-dc17-30c357494e6c",
        "colab": {
          "base_uri": "https://localhost:8080/",
          "height": 421
        }
      },
      "source": [
        "predicted_transformation = model.predict(initial_orientation[tf.newaxis, :, :])\n",
        "\n",
        "predicted_inverse_q = quaternion.inverse(predicted_transformation[0, 0:4])\n",
        "predicted_inverse_t = -predicted_transformation[0, 4:]\n",
        "\n",
        "predicted_aligned = quaternion.rotate(initial_orientation + predicted_inverse_t, predicted_inverse_q)\n",
        "\n",
        "viewer = Viewer(predicted_aligned)"
      ],
      "execution_count": 53,
      "outputs": [
        {
          "output_type": "display_data",
          "data": {
            "text/html": [
              "<script src='https://www.gstatic.com/external_hosted/threejs-r98/three.min.js'></script>"
            ],
            "text/plain": [
              "<IPython.core.display.HTML object>"
            ]
          },
          "metadata": {
            "tags": []
          }
        },
        {
          "output_type": "display_data",
          "data": {
            "text/html": [
              "<script src='https://www.gstatic.com/external_hosted/threejs-r98/examples/js/controls/OrbitControls.js'></script>"
            ],
            "text/plain": [
              "<IPython.core.display.HTML object>"
            ]
          },
          "metadata": {
            "tags": []
          }
        },
        {
          "output_type": "display_data",
          "data": {
            "application/javascript": [
              "window[\"2c62914c-d159-11e9-8d65-0242ac1c0002\"] = new THREE.PointLight(8421504);\n",
              "//# sourceURL=js_de454c26f0"
            ],
            "text/plain": [
              "<IPython.core.display.Javascript object>"
            ]
          },
          "metadata": {
            "tags": []
          }
        },
        {
          "output_type": "display_data",
          "data": {
            "application/javascript": [
              "window[\"2c62deea-d159-11e9-8d65-0242ac1c0002\"] = window[\"2c62914c-d159-11e9-8d65-0242ac1c0002\"].position.set(10.0, 10.0, 10.0);\n",
              "//# sourceURL=js_cb053aa11c"
            ],
            "text/plain": [
              "<IPython.core.display.Javascript object>"
            ]
          },
          "metadata": {
            "tags": []
          }
        },
        {
          "output_type": "display_data",
          "data": {
            "application/javascript": [
              "window[\"2c63579e-d159-11e9-8d65-0242ac1c0002\"] = new THREE.AmbientLight(8421504);\n",
              "//# sourceURL=js_afa4c450a2"
            ],
            "text/plain": [
              "<IPython.core.display.Javascript object>"
            ]
          },
          "metadata": {
            "tags": []
          }
        },
        {
          "output_type": "display_data",
          "data": {
            "application/javascript": [
              "window[\"2c63a53c-d159-11e9-8d65-0242ac1c0002\"] = new THREE.MeshLambertMaterial({\"color\": 16775885});\n",
              "//# sourceURL=js_1888b2b8a2"
            ],
            "text/plain": [
              "<IPython.core.display.Javascript object>"
            ]
          },
          "metadata": {
            "tags": []
          }
        },
        {
          "output_type": "display_data",
          "data": {
            "application/javascript": [
              "window[\"2c641490-d159-11e9-8d65-0242ac1c0002\"] = new THREE.MeshLambertMaterial({\"color\": 15794160});\n",
              "//# sourceURL=js_4024e205d6"
            ],
            "text/plain": [
              "<IPython.core.display.Javascript object>"
            ]
          },
          "metadata": {
            "tags": []
          }
        },
        {
          "output_type": "display_data",
          "data": {
            "text/html": [
              "<script src='https://www.gstatic.com/external_hosted/threejs-r98/three.min.js'></script>"
            ],
            "text/plain": [
              "<IPython.core.display.HTML object>"
            ]
          },
          "metadata": {
            "tags": []
          }
        },
        {
          "output_type": "display_data",
          "data": {
            "text/html": [
              "<script src='https://www.gstatic.com/external_hosted/threejs-r98/examples/js/controls/OrbitControls.js'></script>"
            ],
            "text/plain": [
              "<IPython.core.display.HTML object>"
            ]
          },
          "metadata": {
            "tags": []
          }
        },
        {
          "output_type": "display_data",
          "data": {
            "application/javascript": [
              "window[\"2c6512f0-d159-11e9-8d65-0242ac1c0002\"] = new THREE.PerspectiveCamera(30, 1.0, 0.01, 1000.0);\n",
              "//# sourceURL=js_8ee3c64737"
            ],
            "text/plain": [
              "<IPython.core.display.Javascript object>"
            ]
          },
          "metadata": {
            "tags": []
          }
        },
        {
          "output_type": "display_data",
          "data": {
            "application/javascript": [
              "window[\"2c65670a-d159-11e9-8d65-0242ac1c0002\"] = window[\"2c6512f0-d159-11e9-8d65-0242ac1c0002\"].position.set(10.0, 10.0, 10.0);\n",
              "//# sourceURL=js_afc628542b"
            ],
            "text/plain": [
              "<IPython.core.display.Javascript object>"
            ]
          },
          "metadata": {
            "tags": []
          }
        },
        {
          "output_type": "display_data",
          "data": {
            "application/javascript": [
              "window[\"2c65bb74-d159-11e9-8d65-0242ac1c0002\"] = new THREE.OrbitControls(window[\"2c6512f0-d159-11e9-8d65-0242ac1c0002\"]);\n",
              "//# sourceURL=js_5d347a08ec"
            ],
            "text/plain": [
              "<IPython.core.display.Javascript object>"
            ]
          },
          "metadata": {
            "tags": []
          }
        },
        {
          "output_type": "display_data",
          "data": {
            "application/javascript": [
              "window[\"2c65bb74-d159-11e9-8d65-0242ac1c0002\"].enableZoom = false;\n",
              "//# sourceURL=js_680f355830"
            ],
            "text/plain": [
              "<IPython.core.display.Javascript object>"
            ]
          },
          "metadata": {
            "tags": []
          }
        },
        {
          "output_type": "display_data",
          "data": {
            "text/html": [
              "<script src='https://www.gstatic.com/external_hosted/threejs-r98/three.min.js'></script>"
            ],
            "text/plain": [
              "<IPython.core.display.HTML object>"
            ]
          },
          "metadata": {
            "tags": []
          }
        },
        {
          "output_type": "display_data",
          "data": {
            "text/html": [
              "<script src='https://www.gstatic.com/external_hosted/threejs-r98/examples/js/controls/OrbitControls.js'></script>"
            ],
            "text/plain": [
              "<IPython.core.display.HTML object>"
            ]
          },
          "metadata": {
            "tags": []
          }
        },
        {
          "output_type": "display_data",
          "data": {
            "application/javascript": [
              "window[\"2c6754d4-d159-11e9-8d65-0242ac1c0002\"] = new THREE.WebGLRenderer({\"antialias\": true});\n",
              "//# sourceURL=js_e06e821847"
            ],
            "text/plain": [
              "<IPython.core.display.Javascript object>"
            ]
          },
          "metadata": {
            "tags": []
          }
        },
        {
          "output_type": "display_data",
          "data": {
            "application/javascript": [
              "window[\"2c67ae7a-d159-11e9-8d65-0242ac1c0002\"] = window[\"2c6754d4-d159-11e9-8d65-0242ac1c0002\"].setSize(400, 400);\n",
              "//# sourceURL=js_e41fc6e9cb"
            ],
            "text/plain": [
              "<IPython.core.display.Javascript object>"
            ]
          },
          "metadata": {
            "tags": []
          }
        },
        {
          "output_type": "display_data",
          "data": {
            "application/javascript": [
              "window[\"2c680352-d159-11e9-8d65-0242ac1c0002\"] = new THREE.Color(\"rgb(0, 0, 0)\");\n",
              "//# sourceURL=js_bde993c9d5"
            ],
            "text/plain": [
              "<IPython.core.display.Javascript object>"
            ]
          },
          "metadata": {
            "tags": []
          }
        },
        {
          "output_type": "display_data",
          "data": {
            "application/javascript": [
              "window[\"2c686f5e-d159-11e9-8d65-0242ac1c0002\"] = window[\"2c6754d4-d159-11e9-8d65-0242ac1c0002\"].setClearColor(window[\"2c680352-d159-11e9-8d65-0242ac1c0002\"]);\n",
              "//# sourceURL=js_58857924e6"
            ],
            "text/plain": [
              "<IPython.core.display.Javascript object>"
            ]
          },
          "metadata": {
            "tags": []
          }
        },
        {
          "output_type": "display_data",
          "data": {
            "application/javascript": [
              "window[\"2c68c792-d159-11e9-8d65-0242ac1c0002\"] = window[\"2c6754d4-d159-11e9-8d65-0242ac1c0002\"].clear();\n",
              "//# sourceURL=js_5aeeef6c74"
            ],
            "text/plain": [
              "<IPython.core.display.Javascript object>"
            ]
          },
          "metadata": {
            "tags": []
          }
        },
        {
          "output_type": "display_data",
          "data": {
            "application/javascript": [
              "window[\"2c693510-d159-11e9-8d65-0242ac1c0002\"] = document.body.appendChild(window[\"2c6754d4-d159-11e9-8d65-0242ac1c0002\"].domElement);\n",
              "//# sourceURL=js_37a73380c0"
            ],
            "text/plain": [
              "<IPython.core.display.Javascript object>"
            ]
          },
          "metadata": {
            "tags": []
          }
        },
        {
          "output_type": "display_data",
          "data": {
            "application/javascript": [
              "window[\"2c6997ee-d159-11e9-8d65-0242ac1c0002\"] = new THREE.Scene();\n",
              "//# sourceURL=js_c3504f49c5"
            ],
            "text/plain": [
              "<IPython.core.display.Javascript object>"
            ]
          },
          "metadata": {
            "tags": []
          }
        },
        {
          "output_type": "display_data",
          "data": {
            "application/javascript": [
              "window[\"2c6a0832-d159-11e9-8d65-0242ac1c0002\"] = window[\"2c6997ee-d159-11e9-8d65-0242ac1c0002\"].add(window[\"2c62914c-d159-11e9-8d65-0242ac1c0002\"]);\n",
              "//# sourceURL=js_a96bd29574"
            ],
            "text/plain": [
              "<IPython.core.display.Javascript object>"
            ]
          },
          "metadata": {
            "tags": []
          }
        },
        {
          "output_type": "display_data",
          "data": {
            "application/javascript": [
              "window[\"2c6a7344-d159-11e9-8d65-0242ac1c0002\"] = window[\"2c6997ee-d159-11e9-8d65-0242ac1c0002\"].add(window[\"2c63579e-d159-11e9-8d65-0242ac1c0002\"]);\n",
              "//# sourceURL=js_139b363de7"
            ],
            "text/plain": [
              "<IPython.core.display.Javascript object>"
            ]
          },
          "metadata": {
            "tags": []
          }
        },
        {
          "output_type": "display_data",
          "data": {
            "application/javascript": [
              "window[\"2c6ad866-d159-11e9-8d65-0242ac1c0002\"] = new THREE.MeshLambertMaterial({\"color\": 8421504});\n",
              "//# sourceURL=js_aa79d1895d"
            ],
            "text/plain": [
              "<IPython.core.display.Javascript object>"
            ]
          },
          "metadata": {
            "tags": []
          }
        },
        {
          "output_type": "display_data",
          "data": {
            "application/javascript": [
              "window[\"2c6ad866-d159-11e9-8d65-0242ac1c0002\"][\"vertexColors\"] = THREE.NoColors;\n",
              "//# sourceURL=js_784d6f96a6"
            ],
            "text/plain": [
              "<IPython.core.display.Javascript object>"
            ]
          },
          "metadata": {
            "tags": []
          }
        },
        {
          "output_type": "display_data",
          "data": {
            "application/javascript": [
              "window[\"2c6ba336-d159-11e9-8d65-0242ac1c0002\"] = new Float32Array([-1.7999999523162842, 0.0, 0.0, -1.600000023841858, 0.0, 0.0, -1.399999976158142, 0.0, 0.0, -1.2000000476837158, 0.0, 0.0, -1.0, 0.0, 0.0, -0.800000011920929, 0.0, 0.0, -0.6000000238418579, 0.0, 0.0, -0.4000000059604645, 0.0, 0.0, -0.20000000298023224, 0.0, 0.0, 0.0, 0.0, 0.0, 0.20000000298023224, 0.0, 0.0, 0.4000000059604645, 0.0, 0.0, 0.6000000238418579, 0.0, 0.0, 0.800000011920929, 0.0, 0.0, 1.0, 0.0, 0.0, 1.2000000476837158, 0.0, 0.0, 1.399999976158142, 0.0, 0.0, 1.600000023841858, 0.0, 0.0, 1.7999999523162842, 0.0, 0.0, -1.7999999523162842, 1.0, 0.0, -1.600000023841858, 1.0, 0.0, -1.399999976158142, 1.0, 0.0, -1.2000000476837158, 1.0, 0.0, -1.0, 1.0, 0.0, -0.800000011920929, 1.0, 0.0, -0.6000000238418579, 1.0, 0.0, -0.4000000059604645, 1.0, 0.0, -0.20000000298023224, 1.0, 0.0, 0.0, 1.0, 0.0, 0.20000000298023224, 1.0, 0.0, 0.4000000059604645, 1.0, 0.0, 0.6000000238418579, 1.0, 0.0, 0.800000011920929, 1.0, 0.0, 1.0, 1.0, 0.0, 1.2000000476837158, 1.0, 0.0, 1.399999976158142, 1.0, 0.0, 1.600000023841858, 1.0, 0.0, 1.7999999523162842, 1.0, 0.0]);\n",
              "//# sourceURL=js_51f467e735"
            ],
            "text/plain": [
              "<IPython.core.display.Javascript object>"
            ]
          },
          "metadata": {
            "tags": []
          }
        },
        {
          "output_type": "display_data",
          "data": {
            "application/javascript": [
              "window[\"2c6c0c04-d159-11e9-8d65-0242ac1c0002\"] = new Uint32Array([0, 1, 19, 1, 20, 19, 1, 2, 20, 2, 21, 20, 2, 3, 21, 3, 22, 21, 3, 4, 22, 4, 23, 22, 4, 5, 23, 5, 24, 23, 5, 6, 24, 6, 25, 24, 6, 7, 25, 7, 26, 25, 7, 8, 26, 8, 27, 26, 8, 9, 27, 9, 28, 27, 9, 10, 28, 10, 29, 28, 10, 11, 29, 11, 30, 29, 11, 12, 30, 12, 31, 30, 12, 13, 31, 13, 32, 31, 13, 14, 32, 14, 33, 32, 14, 15, 33, 15, 34, 33, 15, 16, 34, 16, 35, 34, 16, 17, 35, 17, 36, 35, 17, 18, 36, 18, 37, 36]);\n",
              "//# sourceURL=js_b6e8e323bf"
            ],
            "text/plain": [
              "<IPython.core.display.Javascript object>"
            ]
          },
          "metadata": {
            "tags": []
          }
        },
        {
          "output_type": "display_data",
          "data": {
            "application/javascript": [
              "window[\"2c6c65f0-d159-11e9-8d65-0242ac1c0002\"] = new THREE.BufferGeometry();\n",
              "//# sourceURL=js_11cd83249b"
            ],
            "text/plain": [
              "<IPython.core.display.Javascript object>"
            ]
          },
          "metadata": {
            "tags": []
          }
        },
        {
          "output_type": "display_data",
          "data": {
            "application/javascript": [
              "window[\"2c6cd2ec-d159-11e9-8d65-0242ac1c0002\"] = new THREE.BufferAttribute(window[\"2c6ba336-d159-11e9-8d65-0242ac1c0002\"], 3);\n",
              "//# sourceURL=js_d90b5cc854"
            ],
            "text/plain": [
              "<IPython.core.display.Javascript object>"
            ]
          },
          "metadata": {
            "tags": []
          }
        },
        {
          "output_type": "display_data",
          "data": {
            "application/javascript": [
              "window[\"2c6d30f2-d159-11e9-8d65-0242ac1c0002\"] = window[\"2c6c65f0-d159-11e9-8d65-0242ac1c0002\"].addAttribute(\"position\", window[\"2c6cd2ec-d159-11e9-8d65-0242ac1c0002\"]);\n",
              "//# sourceURL=js_175edac08c"
            ],
            "text/plain": [
              "<IPython.core.display.Javascript object>"
            ]
          },
          "metadata": {
            "tags": []
          }
        },
        {
          "output_type": "display_data",
          "data": {
            "application/javascript": [
              "window[\"2c6d9bd2-d159-11e9-8d65-0242ac1c0002\"] = new THREE.BufferAttribute(window[\"2c6c0c04-d159-11e9-8d65-0242ac1c0002\"], 1);\n",
              "//# sourceURL=js_7c383f6a22"
            ],
            "text/plain": [
              "<IPython.core.display.Javascript object>"
            ]
          },
          "metadata": {
            "tags": []
          }
        },
        {
          "output_type": "display_data",
          "data": {
            "application/javascript": [
              "window[\"2c6df2b2-d159-11e9-8d65-0242ac1c0002\"] = window[\"2c6c65f0-d159-11e9-8d65-0242ac1c0002\"].setIndex(window[\"2c6d9bd2-d159-11e9-8d65-0242ac1c0002\"]);\n",
              "//# sourceURL=js_44fc6548b5"
            ],
            "text/plain": [
              "<IPython.core.display.Javascript object>"
            ]
          },
          "metadata": {
            "tags": []
          }
        },
        {
          "output_type": "display_data",
          "data": {
            "application/javascript": [
              "window[\"2c6e5720-d159-11e9-8d65-0242ac1c0002\"] = window[\"2c6c65f0-d159-11e9-8d65-0242ac1c0002\"].computeVertexNormals();\n",
              "//# sourceURL=js_ff0c308c63"
            ],
            "text/plain": [
              "<IPython.core.display.Javascript object>"
            ]
          },
          "metadata": {
            "tags": []
          }
        },
        {
          "output_type": "display_data",
          "data": {
            "application/javascript": [
              "window[\"2c6eaf90-d159-11e9-8d65-0242ac1c0002\"] = new THREE.Mesh(window[\"2c6c65f0-d159-11e9-8d65-0242ac1c0002\"], window[\"2c63a53c-d159-11e9-8d65-0242ac1c0002\"]);\n",
              "//# sourceURL=js_5f5cccc6ca"
            ],
            "text/plain": [
              "<IPython.core.display.Javascript object>"
            ]
          },
          "metadata": {
            "tags": []
          }
        },
        {
          "output_type": "display_data",
          "data": {
            "application/javascript": [
              "window[\"2c6f1d9a-d159-11e9-8d65-0242ac1c0002\"] = window[\"2c6997ee-d159-11e9-8d65-0242ac1c0002\"].add(window[\"2c6eaf90-d159-11e9-8d65-0242ac1c0002\"]);\n",
              "//# sourceURL=js_204f187851"
            ],
            "text/plain": [
              "<IPython.core.display.Javascript object>"
            ]
          },
          "metadata": {
            "tags": []
          }
        },
        {
          "output_type": "display_data",
          "data": {
            "application/javascript": [
              "window[\"2c6ad866-d159-11e9-8d65-0242ac1c0002\"][\"vertexColors\"] = THREE.NoColors;\n",
              "//# sourceURL=js_784d6f96a6"
            ],
            "text/plain": [
              "<IPython.core.display.Javascript object>"
            ]
          },
          "metadata": {
            "tags": []
          }
        },
        {
          "output_type": "display_data",
          "data": {
            "application/javascript": [
              "window[\"2c6ff10c-d159-11e9-8d65-0242ac1c0002\"] = new Float32Array([-1.895532250404358, -0.046750470995903015, 0.03904353082180023, -1.6832482814788818, -0.040994442999362946, 0.0387023389339447, -1.4709643125534058, -0.035238489508628845, 0.0383613184094429, -1.2586805820465088, -0.029482603073120117, 0.03802034258842468, -1.0463967323303223, -0.023726526647806168, 0.03767945244908333, -0.8341126441955566, -0.01797051541507244, 0.03733833134174347, -0.6218287944793701, -0.012214485555887222, 0.036997366696596146, -0.40954482555389404, -0.006458442658185959, 0.03665635734796524, -0.19726096093654633, -0.0007025587256066501, 0.03631533309817314, 0.015022949315607548, 0.005053468979895115, 0.03597434610128403, 0.22730696201324463, 0.01080946996808052, 0.03563326597213745, 0.4395907521247864, 0.016565408557653427, 0.0352923758327961, 0.6518746018409729, 0.022321490570902824, 0.034951452165842056, 0.864158570766449, 0.028077438473701477, 0.03461036831140518, 1.0764425992965698, 0.03383348137140274, 0.0342693030834198, 1.2887264490127563, 0.039589475840330124, 0.03392830491065979, 1.5010101795196533, 0.04534544050693512, 0.03358740359544754, 1.7132940292358398, 0.05110139399766922, 0.03324633836746216, 1.925577998161316, 0.05685747414827347, 0.03290519118309021, -1.9243621826171875, 1.0130860805511475, -0.01890064775943756, -1.7120784521102905, 1.018842101097107, -0.019241824746131897, -1.499794363975525, 1.0245981216430664, -0.019582822918891907, -1.2875107526779175, 1.0303542613983154, -0.019923701882362366, -1.0752267837524414, 1.036110281944275, -0.020264700055122375, -0.8629428148269653, 1.0418663024902344, -0.020605817437171936, -0.6506588459014893, 1.0476222038269043, -0.020946890115737915, -0.43837496638298035, 1.0533783435821533, -0.021288007497787476, -0.22609110176563263, 1.0591343641281128, -0.02162894606590271, -0.01380714401602745, 1.0648901462554932, -0.02196982502937317, 0.1984766721725464, 1.070646047592163, -0.02231079339981079, 0.41076070070266724, 1.0764020681381226, -0.022651880979537964, 0.6230445504188538, 1.0821582078933716, -0.022992849349975586, 0.8353285789489746, 1.087914228439331, -0.023333966732025146, 1.0476124286651611, 1.093670129776001, -0.02367502450942993, 1.2598963975906372, 1.09942626953125, -0.024015963077545166, 1.4721802473068237, 1.10518217086792, -0.024356752634048462, 1.6844640970230103, 1.1109380722045898, -0.024698108434677124, 1.8967478275299072, 1.1166940927505493, -0.025038868188858032]);\n",
              "//# sourceURL=js_d1e405fc36"
            ],
            "text/plain": [
              "<IPython.core.display.Javascript object>"
            ]
          },
          "metadata": {
            "tags": []
          }
        },
        {
          "output_type": "display_data",
          "data": {
            "application/javascript": [
              "window[\"2c706038-d159-11e9-8d65-0242ac1c0002\"] = new Uint32Array([0, 1, 19, 1, 20, 19, 1, 2, 20, 2, 21, 20, 2, 3, 21, 3, 22, 21, 3, 4, 22, 4, 23, 22, 4, 5, 23, 5, 24, 23, 5, 6, 24, 6, 25, 24, 6, 7, 25, 7, 26, 25, 7, 8, 26, 8, 27, 26, 8, 9, 27, 9, 28, 27, 9, 10, 28, 10, 29, 28, 10, 11, 29, 11, 30, 29, 11, 12, 30, 12, 31, 30, 12, 13, 31, 13, 32, 31, 13, 14, 32, 14, 33, 32, 14, 15, 33, 15, 34, 33, 15, 16, 34, 16, 35, 34, 16, 17, 35, 17, 36, 35, 17, 18, 36, 18, 37, 36]);\n",
              "//# sourceURL=js_78f47f6151"
            ],
            "text/plain": [
              "<IPython.core.display.Javascript object>"
            ]
          },
          "metadata": {
            "tags": []
          }
        },
        {
          "output_type": "display_data",
          "data": {
            "application/javascript": [
              "window[\"2c70b506-d159-11e9-8d65-0242ac1c0002\"] = new THREE.BufferGeometry();\n",
              "//# sourceURL=js_e56801ee4f"
            ],
            "text/plain": [
              "<IPython.core.display.Javascript object>"
            ]
          },
          "metadata": {
            "tags": []
          }
        },
        {
          "output_type": "display_data",
          "data": {
            "application/javascript": [
              "window[\"2c711cc6-d159-11e9-8d65-0242ac1c0002\"] = new THREE.BufferAttribute(window[\"2c6ff10c-d159-11e9-8d65-0242ac1c0002\"], 3);\n",
              "//# sourceURL=js_f4a9841744"
            ],
            "text/plain": [
              "<IPython.core.display.Javascript object>"
            ]
          },
          "metadata": {
            "tags": []
          }
        },
        {
          "output_type": "display_data",
          "data": {
            "application/javascript": [
              "window[\"2c71734c-d159-11e9-8d65-0242ac1c0002\"] = window[\"2c70b506-d159-11e9-8d65-0242ac1c0002\"].addAttribute(\"position\", window[\"2c711cc6-d159-11e9-8d65-0242ac1c0002\"]);\n",
              "//# sourceURL=js_403c157239"
            ],
            "text/plain": [
              "<IPython.core.display.Javascript object>"
            ]
          },
          "metadata": {
            "tags": []
          }
        },
        {
          "output_type": "display_data",
          "data": {
            "application/javascript": [
              "window[\"2c71e61a-d159-11e9-8d65-0242ac1c0002\"] = new THREE.BufferAttribute(window[\"2c706038-d159-11e9-8d65-0242ac1c0002\"], 1);\n",
              "//# sourceURL=js_8279e07519"
            ],
            "text/plain": [
              "<IPython.core.display.Javascript object>"
            ]
          },
          "metadata": {
            "tags": []
          }
        },
        {
          "output_type": "display_data",
          "data": {
            "application/javascript": [
              "window[\"2c723eb2-d159-11e9-8d65-0242ac1c0002\"] = window[\"2c70b506-d159-11e9-8d65-0242ac1c0002\"].setIndex(window[\"2c71e61a-d159-11e9-8d65-0242ac1c0002\"]);\n",
              "//# sourceURL=js_4f5ad7f690"
            ],
            "text/plain": [
              "<IPython.core.display.Javascript object>"
            ]
          },
          "metadata": {
            "tags": []
          }
        },
        {
          "output_type": "display_data",
          "data": {
            "application/javascript": [
              "window[\"2c72adac-d159-11e9-8d65-0242ac1c0002\"] = window[\"2c70b506-d159-11e9-8d65-0242ac1c0002\"].computeVertexNormals();\n",
              "//# sourceURL=js_a920635534"
            ],
            "text/plain": [
              "<IPython.core.display.Javascript object>"
            ]
          },
          "metadata": {
            "tags": []
          }
        },
        {
          "output_type": "display_data",
          "data": {
            "application/javascript": [
              "window[\"2c7305cc-d159-11e9-8d65-0242ac1c0002\"] = new THREE.Mesh(window[\"2c70b506-d159-11e9-8d65-0242ac1c0002\"], window[\"2c641490-d159-11e9-8d65-0242ac1c0002\"]);\n",
              "//# sourceURL=js_f88948ec1f"
            ],
            "text/plain": [
              "<IPython.core.display.Javascript object>"
            ]
          },
          "metadata": {
            "tags": []
          }
        },
        {
          "output_type": "display_data",
          "data": {
            "application/javascript": [
              "window[\"2c7372e6-d159-11e9-8d65-0242ac1c0002\"] = window[\"2c6997ee-d159-11e9-8d65-0242ac1c0002\"].add(window[\"2c7305cc-d159-11e9-8d65-0242ac1c0002\"]);\n",
              "//# sourceURL=js_c78e880953"
            ],
            "text/plain": [
              "<IPython.core.display.Javascript object>"
            ]
          },
          "metadata": {
            "tags": []
          }
        }
      ]
    },
    {
      "cell_type": "markdown",
      "metadata": {
        "id": "5UD6G5iiKhe2",
        "colab_type": "text"
      },
      "source": [
        "### Comparison with optimizing using [Kabsch Algorithm](https://en.wikipedia.org/wiki/Kabsch_algorithm)"
      ]
    },
    {
      "cell_type": "code",
      "metadata": {
        "id": "3x9SmZwWLcmW",
        "colab_type": "code",
        "colab": {
          "base_uri": "https://localhost:8080/",
          "height": 421
        },
        "outputId": "1d7fd581-67bd-4620-d065-7b64e2747539"
      },
      "source": [
        "def loss(target_points, quaternion_variable, translation_variable):\n",
        "  transformed_points = transform_points(target_points, quaternion_variable,\n",
        "                                        translation_variable)\n",
        "  error = (vertices - transformed_points) / num_vertices\n",
        "  return vector.dot(error, error)\n",
        "\n",
        "\n",
        "def gradient_loss(target_points, quaternion, translation):\n",
        "  with tf.GradientTape() as tape:\n",
        "    loss_value = loss(target_points, quaternion, translation)\n",
        "  return tape.gradient(loss_value, [quaternion, translation])\n",
        "\n",
        "learning_rate = 0.05\n",
        "\n",
        "with tf.name_scope('optimization'):\n",
        "  optimizer = tf.train.AdamOptimizer(learning_rate)\n",
        "  \n",
        "# random_quaternion, random_translation = get_random_transform()\n",
        "\n",
        "initial_orientation = transform_points(vertices, random_quaternion,\n",
        "                                      random_translation)\n",
        "\n",
        "viewer = Viewer(initial_orientation)\n",
        "\n",
        "nb_iterations = 100\n",
        "for it in range(nb_iterations):\n",
        "  gradients_loss = gradient_loss(vertices, random_quaternion,\n",
        "                                 random_translation)\n",
        "  optimizer.apply_gradients(\n",
        "      zip(gradients_loss, (random_quaternion, random_translation)))\n",
        "  transformed_points = transform_points(vertices, random_quaternion,\n",
        "                                        random_translation)\n",
        "\n",
        "  viewer.update(transformed_points)\n",
        "  time.sleep(0.1)"
      ],
      "execution_count": 54,
      "outputs": [
        {
          "output_type": "display_data",
          "data": {
            "text/html": [
              "<script src='https://www.gstatic.com/external_hosted/threejs-r98/three.min.js'></script>"
            ],
            "text/plain": [
              "<IPython.core.display.HTML object>"
            ]
          },
          "metadata": {
            "tags": []
          }
        },
        {
          "output_type": "display_data",
          "data": {
            "text/html": [
              "<script src='https://www.gstatic.com/external_hosted/threejs-r98/examples/js/controls/OrbitControls.js'></script>"
            ],
            "text/plain": [
              "<IPython.core.display.HTML object>"
            ]
          },
          "metadata": {
            "tags": []
          }
        },
        {
          "output_type": "display_data",
          "data": {
            "application/javascript": [
              "window[\"35933a1e-d159-11e9-8d65-0242ac1c0002\"] = new THREE.PointLight(8421504);\n",
              "//# sourceURL=js_87bcde253e"
            ],
            "text/plain": [
              "<IPython.core.display.Javascript object>"
            ]
          },
          "metadata": {
            "tags": []
          }
        },
        {
          "output_type": "display_data",
          "data": {
            "application/javascript": [
              "window[\"35938352-d159-11e9-8d65-0242ac1c0002\"] = window[\"35933a1e-d159-11e9-8d65-0242ac1c0002\"].position.set(10.0, 10.0, 10.0);\n",
              "//# sourceURL=js_bc7d9fc296"
            ],
            "text/plain": [
              "<IPython.core.display.Javascript object>"
            ]
          },
          "metadata": {
            "tags": []
          }
        },
        {
          "output_type": "display_data",
          "data": {
            "application/javascript": [
              "window[\"3593d0fa-d159-11e9-8d65-0242ac1c0002\"] = new THREE.AmbientLight(8421504);\n",
              "//# sourceURL=js_a3a72de2c8"
            ],
            "text/plain": [
              "<IPython.core.display.Javascript object>"
            ]
          },
          "metadata": {
            "tags": []
          }
        },
        {
          "output_type": "display_data",
          "data": {
            "application/javascript": [
              "window[\"35942b0e-d159-11e9-8d65-0242ac1c0002\"] = new THREE.MeshLambertMaterial({\"color\": 16775885});\n",
              "//# sourceURL=js_3c9f5d525c"
            ],
            "text/plain": [
              "<IPython.core.display.Javascript object>"
            ]
          },
          "metadata": {
            "tags": []
          }
        },
        {
          "output_type": "display_data",
          "data": {
            "application/javascript": [
              "window[\"359499f4-d159-11e9-8d65-0242ac1c0002\"] = new THREE.MeshLambertMaterial({\"color\": 15794160});\n",
              "//# sourceURL=js_d2a7a154ee"
            ],
            "text/plain": [
              "<IPython.core.display.Javascript object>"
            ]
          },
          "metadata": {
            "tags": []
          }
        },
        {
          "output_type": "display_data",
          "data": {
            "text/html": [
              "<script src='https://www.gstatic.com/external_hosted/threejs-r98/three.min.js'></script>"
            ],
            "text/plain": [
              "<IPython.core.display.HTML object>"
            ]
          },
          "metadata": {
            "tags": []
          }
        },
        {
          "output_type": "display_data",
          "data": {
            "text/html": [
              "<script src='https://www.gstatic.com/external_hosted/threejs-r98/examples/js/controls/OrbitControls.js'></script>"
            ],
            "text/plain": [
              "<IPython.core.display.HTML object>"
            ]
          },
          "metadata": {
            "tags": []
          }
        },
        {
          "output_type": "display_data",
          "data": {
            "application/javascript": [
              "window[\"359610cc-d159-11e9-8d65-0242ac1c0002\"] = new THREE.PerspectiveCamera(30, 1.0, 0.01, 1000.0);\n",
              "//# sourceURL=js_39717761db"
            ],
            "text/plain": [
              "<IPython.core.display.Javascript object>"
            ]
          },
          "metadata": {
            "tags": []
          }
        },
        {
          "output_type": "display_data",
          "data": {
            "application/javascript": [
              "window[\"3596596a-d159-11e9-8d65-0242ac1c0002\"] = window[\"359610cc-d159-11e9-8d65-0242ac1c0002\"].position.set(10.0, 10.0, 10.0);\n",
              "//# sourceURL=js_8bc9cb43b1"
            ],
            "text/plain": [
              "<IPython.core.display.Javascript object>"
            ]
          },
          "metadata": {
            "tags": []
          }
        },
        {
          "output_type": "display_data",
          "data": {
            "application/javascript": [
              "window[\"3596ba2c-d159-11e9-8d65-0242ac1c0002\"] = new THREE.OrbitControls(window[\"359610cc-d159-11e9-8d65-0242ac1c0002\"]);\n",
              "//# sourceURL=js_9422c01599"
            ],
            "text/plain": [
              "<IPython.core.display.Javascript object>"
            ]
          },
          "metadata": {
            "tags": []
          }
        },
        {
          "output_type": "display_data",
          "data": {
            "application/javascript": [
              "window[\"3596ba2c-d159-11e9-8d65-0242ac1c0002\"].enableZoom = false;\n",
              "//# sourceURL=js_6937feb8f9"
            ],
            "text/plain": [
              "<IPython.core.display.Javascript object>"
            ]
          },
          "metadata": {
            "tags": []
          }
        },
        {
          "output_type": "display_data",
          "data": {
            "text/html": [
              "<script src='https://www.gstatic.com/external_hosted/threejs-r98/three.min.js'></script>"
            ],
            "text/plain": [
              "<IPython.core.display.HTML object>"
            ]
          },
          "metadata": {
            "tags": []
          }
        },
        {
          "output_type": "display_data",
          "data": {
            "text/html": [
              "<script src='https://www.gstatic.com/external_hosted/threejs-r98/examples/js/controls/OrbitControls.js'></script>"
            ],
            "text/plain": [
              "<IPython.core.display.HTML object>"
            ]
          },
          "metadata": {
            "tags": []
          }
        },
        {
          "output_type": "display_data",
          "data": {
            "application/javascript": [
              "window[\"359a9f48-d159-11e9-8d65-0242ac1c0002\"] = new THREE.WebGLRenderer({\"antialias\": true});\n",
              "//# sourceURL=js_c485fc5c63"
            ],
            "text/plain": [
              "<IPython.core.display.Javascript object>"
            ]
          },
          "metadata": {
            "tags": []
          }
        },
        {
          "output_type": "display_data",
          "data": {
            "application/javascript": [
              "window[\"359b19aa-d159-11e9-8d65-0242ac1c0002\"] = window[\"359a9f48-d159-11e9-8d65-0242ac1c0002\"].setSize(400, 400);\n",
              "//# sourceURL=js_10df0c4816"
            ],
            "text/plain": [
              "<IPython.core.display.Javascript object>"
            ]
          },
          "metadata": {
            "tags": []
          }
        },
        {
          "output_type": "display_data",
          "data": {
            "application/javascript": [
              "window[\"359b7daa-d159-11e9-8d65-0242ac1c0002\"] = new THREE.Color(\"rgb(0, 0, 0)\");\n",
              "//# sourceURL=js_a5151d5939"
            ],
            "text/plain": [
              "<IPython.core.display.Javascript object>"
            ]
          },
          "metadata": {
            "tags": []
          }
        },
        {
          "output_type": "display_data",
          "data": {
            "application/javascript": [
              "window[\"359bd82c-d159-11e9-8d65-0242ac1c0002\"] = window[\"359a9f48-d159-11e9-8d65-0242ac1c0002\"].setClearColor(window[\"359b7daa-d159-11e9-8d65-0242ac1c0002\"]);\n",
              "//# sourceURL=js_3c0e91cb04"
            ],
            "text/plain": [
              "<IPython.core.display.Javascript object>"
            ]
          },
          "metadata": {
            "tags": []
          }
        },
        {
          "output_type": "display_data",
          "data": {
            "application/javascript": [
              "window[\"359c87f4-d159-11e9-8d65-0242ac1c0002\"] = window[\"359a9f48-d159-11e9-8d65-0242ac1c0002\"].clear();\n",
              "//# sourceURL=js_74ced49849"
            ],
            "text/plain": [
              "<IPython.core.display.Javascript object>"
            ]
          },
          "metadata": {
            "tags": []
          }
        },
        {
          "output_type": "display_data",
          "data": {
            "application/javascript": [
              "window[\"359d1444-d159-11e9-8d65-0242ac1c0002\"] = document.body.appendChild(window[\"359a9f48-d159-11e9-8d65-0242ac1c0002\"].domElement);\n",
              "//# sourceURL=js_7fdf7a292e"
            ],
            "text/plain": [
              "<IPython.core.display.Javascript object>"
            ]
          },
          "metadata": {
            "tags": []
          }
        },
        {
          "output_type": "display_data",
          "data": {
            "application/javascript": [
              "window[\"359d5a9e-d159-11e9-8d65-0242ac1c0002\"] = new THREE.Scene();\n",
              "//# sourceURL=js_fdb5823990"
            ],
            "text/plain": [
              "<IPython.core.display.Javascript object>"
            ]
          },
          "metadata": {
            "tags": []
          }
        },
        {
          "output_type": "display_data",
          "data": {
            "application/javascript": [
              "window[\"359e07a0-d159-11e9-8d65-0242ac1c0002\"] = window[\"359d5a9e-d159-11e9-8d65-0242ac1c0002\"].add(window[\"35933a1e-d159-11e9-8d65-0242ac1c0002\"]);\n",
              "//# sourceURL=js_03a7b96dd6"
            ],
            "text/plain": [
              "<IPython.core.display.Javascript object>"
            ]
          },
          "metadata": {
            "tags": []
          }
        },
        {
          "output_type": "display_data",
          "data": {
            "application/javascript": [
              "window[\"359e7d48-d159-11e9-8d65-0242ac1c0002\"] = window[\"359d5a9e-d159-11e9-8d65-0242ac1c0002\"].add(window[\"3593d0fa-d159-11e9-8d65-0242ac1c0002\"]);\n",
              "//# sourceURL=js_ca0f682e18"
            ],
            "text/plain": [
              "<IPython.core.display.Javascript object>"
            ]
          },
          "metadata": {
            "tags": []
          }
        },
        {
          "output_type": "display_data",
          "data": {
            "application/javascript": [
              "window[\"359ee896-d159-11e9-8d65-0242ac1c0002\"] = new THREE.MeshLambertMaterial({\"color\": 8421504});\n",
              "//# sourceURL=js_69852fc38b"
            ],
            "text/plain": [
              "<IPython.core.display.Javascript object>"
            ]
          },
          "metadata": {
            "tags": []
          }
        },
        {
          "output_type": "display_data",
          "data": {
            "application/javascript": [
              "window[\"359ee896-d159-11e9-8d65-0242ac1c0002\"][\"vertexColors\"] = THREE.NoColors;\n",
              "//# sourceURL=js_39265d1128"
            ],
            "text/plain": [
              "<IPython.core.display.Javascript object>"
            ]
          },
          "metadata": {
            "tags": []
          }
        },
        {
          "output_type": "display_data",
          "data": {
            "application/javascript": [
              "window[\"359fa592-d159-11e9-8d65-0242ac1c0002\"] = new Float32Array([-1.7999999523162842, 0.0, 0.0, -1.600000023841858, 0.0, 0.0, -1.399999976158142, 0.0, 0.0, -1.2000000476837158, 0.0, 0.0, -1.0, 0.0, 0.0, -0.800000011920929, 0.0, 0.0, -0.6000000238418579, 0.0, 0.0, -0.4000000059604645, 0.0, 0.0, -0.20000000298023224, 0.0, 0.0, 0.0, 0.0, 0.0, 0.20000000298023224, 0.0, 0.0, 0.4000000059604645, 0.0, 0.0, 0.6000000238418579, 0.0, 0.0, 0.800000011920929, 0.0, 0.0, 1.0, 0.0, 0.0, 1.2000000476837158, 0.0, 0.0, 1.399999976158142, 0.0, 0.0, 1.600000023841858, 0.0, 0.0, 1.7999999523162842, 0.0, 0.0, -1.7999999523162842, 1.0, 0.0, -1.600000023841858, 1.0, 0.0, -1.399999976158142, 1.0, 0.0, -1.2000000476837158, 1.0, 0.0, -1.0, 1.0, 0.0, -0.800000011920929, 1.0, 0.0, -0.6000000238418579, 1.0, 0.0, -0.4000000059604645, 1.0, 0.0, -0.20000000298023224, 1.0, 0.0, 0.0, 1.0, 0.0, 0.20000000298023224, 1.0, 0.0, 0.4000000059604645, 1.0, 0.0, 0.6000000238418579, 1.0, 0.0, 0.800000011920929, 1.0, 0.0, 1.0, 1.0, 0.0, 1.2000000476837158, 1.0, 0.0, 1.399999976158142, 1.0, 0.0, 1.600000023841858, 1.0, 0.0, 1.7999999523162842, 1.0, 0.0]);\n",
              "//# sourceURL=js_b97a311047"
            ],
            "text/plain": [
              "<IPython.core.display.Javascript object>"
            ]
          },
          "metadata": {
            "tags": []
          }
        },
        {
          "output_type": "display_data",
          "data": {
            "application/javascript": [
              "window[\"35a011c6-d159-11e9-8d65-0242ac1c0002\"] = new Uint32Array([0, 1, 19, 1, 20, 19, 1, 2, 20, 2, 21, 20, 2, 3, 21, 3, 22, 21, 3, 4, 22, 4, 23, 22, 4, 5, 23, 5, 24, 23, 5, 6, 24, 6, 25, 24, 6, 7, 25, 7, 26, 25, 7, 8, 26, 8, 27, 26, 8, 9, 27, 9, 28, 27, 9, 10, 28, 10, 29, 28, 10, 11, 29, 11, 30, 29, 11, 12, 30, 12, 31, 30, 12, 13, 31, 13, 32, 31, 13, 14, 32, 14, 33, 32, 14, 15, 33, 15, 34, 33, 15, 16, 34, 16, 35, 34, 16, 17, 35, 17, 36, 35, 17, 18, 36, 18, 37, 36]);\n",
              "//# sourceURL=js_a93996a727"
            ],
            "text/plain": [
              "<IPython.core.display.Javascript object>"
            ]
          },
          "metadata": {
            "tags": []
          }
        },
        {
          "output_type": "display_data",
          "data": {
            "application/javascript": [
              "window[\"35a080c0-d159-11e9-8d65-0242ac1c0002\"] = new THREE.BufferGeometry();\n",
              "//# sourceURL=js_9fc86162be"
            ],
            "text/plain": [
              "<IPython.core.display.Javascript object>"
            ]
          },
          "metadata": {
            "tags": []
          }
        },
        {
          "output_type": "display_data",
          "data": {
            "application/javascript": [
              "window[\"35a0def8-d159-11e9-8d65-0242ac1c0002\"] = new THREE.BufferAttribute(window[\"359fa592-d159-11e9-8d65-0242ac1c0002\"], 3);\n",
              "//# sourceURL=js_79a91ddc8a"
            ],
            "text/plain": [
              "<IPython.core.display.Javascript object>"
            ]
          },
          "metadata": {
            "tags": []
          }
        },
        {
          "output_type": "display_data",
          "data": {
            "application/javascript": [
              "window[\"35a13fe2-d159-11e9-8d65-0242ac1c0002\"] = window[\"35a080c0-d159-11e9-8d65-0242ac1c0002\"].addAttribute(\"position\", window[\"35a0def8-d159-11e9-8d65-0242ac1c0002\"]);\n",
              "//# sourceURL=js_a8815b95d7"
            ],
            "text/plain": [
              "<IPython.core.display.Javascript object>"
            ]
          },
          "metadata": {
            "tags": []
          }
        },
        {
          "output_type": "display_data",
          "data": {
            "application/javascript": [
              "window[\"35a1abc6-d159-11e9-8d65-0242ac1c0002\"] = new THREE.BufferAttribute(window[\"35a011c6-d159-11e9-8d65-0242ac1c0002\"], 1);\n",
              "//# sourceURL=js_54cb9167f4"
            ],
            "text/plain": [
              "<IPython.core.display.Javascript object>"
            ]
          },
          "metadata": {
            "tags": []
          }
        },
        {
          "output_type": "display_data",
          "data": {
            "application/javascript": [
              "window[\"35a208fa-d159-11e9-8d65-0242ac1c0002\"] = window[\"35a080c0-d159-11e9-8d65-0242ac1c0002\"].setIndex(window[\"35a1abc6-d159-11e9-8d65-0242ac1c0002\"]);\n",
              "//# sourceURL=js_8e0bb0c8fa"
            ],
            "text/plain": [
              "<IPython.core.display.Javascript object>"
            ]
          },
          "metadata": {
            "tags": []
          }
        },
        {
          "output_type": "display_data",
          "data": {
            "application/javascript": [
              "window[\"35a272f4-d159-11e9-8d65-0242ac1c0002\"] = window[\"35a080c0-d159-11e9-8d65-0242ac1c0002\"].computeVertexNormals();\n",
              "//# sourceURL=js_1fbc95178f"
            ],
            "text/plain": [
              "<IPython.core.display.Javascript object>"
            ]
          },
          "metadata": {
            "tags": []
          }
        },
        {
          "output_type": "display_data",
          "data": {
            "application/javascript": [
              "window[\"35a2d50a-d159-11e9-8d65-0242ac1c0002\"] = new THREE.Mesh(window[\"35a080c0-d159-11e9-8d65-0242ac1c0002\"], window[\"35942b0e-d159-11e9-8d65-0242ac1c0002\"]);\n",
              "//# sourceURL=js_c180b1c87b"
            ],
            "text/plain": [
              "<IPython.core.display.Javascript object>"
            ]
          },
          "metadata": {
            "tags": []
          }
        },
        {
          "output_type": "display_data",
          "data": {
            "application/javascript": [
              "window[\"35a33ae0-d159-11e9-8d65-0242ac1c0002\"] = window[\"359d5a9e-d159-11e9-8d65-0242ac1c0002\"].add(window[\"35a2d50a-d159-11e9-8d65-0242ac1c0002\"]);\n",
              "//# sourceURL=js_a63610ee80"
            ],
            "text/plain": [
              "<IPython.core.display.Javascript object>"
            ]
          },
          "metadata": {
            "tags": []
          }
        },
        {
          "output_type": "display_data",
          "data": {
            "application/javascript": [
              "window[\"359ee896-d159-11e9-8d65-0242ac1c0002\"][\"vertexColors\"] = THREE.NoColors;\n",
              "//# sourceURL=js_39265d1128"
            ],
            "text/plain": [
              "<IPython.core.display.Javascript object>"
            ]
          },
          "metadata": {
            "tags": []
          }
        },
        {
          "output_type": "display_data",
          "data": {
            "application/javascript": [
              "window[\"35a3fb56-d159-11e9-8d65-0242ac1c0002\"] = new Float32Array([1.1524866819381714, -0.6626567840576172, -2.005350112915039, 1.1446644067764282, -0.8054779767990112, -1.8655613660812378, 1.136842131614685, -0.9482992887496948, -1.725772500038147, 1.1290197372436523, -1.0911204814910889, -1.5859837532043457, 1.1211974620819092, -1.2339415550231934, -1.4461948871612549, 1.113375186920166, -1.376762866973877, -1.306406021118164, 1.1055529117584229, -1.519584059715271, -1.1666171550750732, 1.0977306365966797, -1.662405252456665, -1.0268282890319824, 1.089908242225647, -1.805226445198059, -0.8870395421981812, 1.0820859670639038, -1.9480476379394531, -0.7472506761550903, 1.0742636919021606, -2.0908689498901367, -0.6074618101119995, 1.066441297531128, -2.233690023422241, -0.46767300367355347, 1.0586190223693848, -2.3765110969543457, -0.32788416743278503, 1.0507967472076416, -2.5193324089050293, -0.1880953311920166, 1.0429744720458984, -2.662153720855713, -0.04830646514892578, 1.0351521968841553, -2.8049747943878174, 0.09148234128952026, 1.0273298025131226, -2.947795867919922, 0.2312711477279663, 1.0195075273513794, -3.0906171798706055, 0.37106001377105713, 1.0116852521896362, -3.233438491821289, 0.5108487606048584, 2.0714540481567383, -0.413684606552124, -1.6995532512664795, 2.063631772994995, -0.5565057992935181, -1.5597646236419678, 2.055809497833252, -0.6993269920349121, -1.419975757598877, 2.047987222671509, -0.8421480655670166, -1.2801868915557861, 2.0401649475097656, -0.9849693179130554, -1.1403980255126953, 2.0323426723480225, -1.1277905702590942, -1.000609278678894, 2.0245203971862793, -1.2706117630004883, -0.860820472240448, 2.016698122024536, -1.4134330749511719, -0.721031665802002, 2.008875846862793, -1.5562541484832764, -0.5812427997589111, 2.0010533332824707, -1.6990753412246704, -0.4414539635181427, 1.9932310581207275, -1.8418965339660645, -0.30166512727737427, 1.9854087829589844, -1.984717845916748, -0.16187632083892822, 1.9775865077972412, -2.1275389194488525, -0.022087454795837402, 1.969764232635498, -2.270360231399536, 0.11770135164260864, 1.9619419574737549, -2.4131815433502197, 0.25749027729034424, 1.9541196823120117, -2.556002616882324, 0.3972790241241455, 1.9462971687316895, -2.6988236904144287, 0.5370678901672363, 1.9384750127792358, -2.8416452407836914, 0.6768566370010376, 1.9306526184082031, -2.984466075897217, 0.8166455030441284]);\n",
              "//# sourceURL=js_bbf086b460"
            ],
            "text/plain": [
              "<IPython.core.display.Javascript object>"
            ]
          },
          "metadata": {
            "tags": []
          }
        },
        {
          "output_type": "display_data",
          "data": {
            "application/javascript": [
              "window[\"35a4592a-d159-11e9-8d65-0242ac1c0002\"] = new Uint32Array([0, 1, 19, 1, 20, 19, 1, 2, 20, 2, 21, 20, 2, 3, 21, 3, 22, 21, 3, 4, 22, 4, 23, 22, 4, 5, 23, 5, 24, 23, 5, 6, 24, 6, 25, 24, 6, 7, 25, 7, 26, 25, 7, 8, 26, 8, 27, 26, 8, 9, 27, 9, 28, 27, 9, 10, 28, 10, 29, 28, 10, 11, 29, 11, 30, 29, 11, 12, 30, 12, 31, 30, 12, 13, 31, 13, 32, 31, 13, 14, 32, 14, 33, 32, 14, 15, 33, 15, 34, 33, 15, 16, 34, 16, 35, 34, 16, 17, 35, 17, 36, 35, 17, 18, 36, 18, 37, 36]);\n",
              "//# sourceURL=js_b5654840d8"
            ],
            "text/plain": [
              "<IPython.core.display.Javascript object>"
            ]
          },
          "metadata": {
            "tags": []
          }
        },
        {
          "output_type": "display_data",
          "data": {
            "application/javascript": [
              "window[\"35a4ade4-d159-11e9-8d65-0242ac1c0002\"] = new THREE.BufferGeometry();\n",
              "//# sourceURL=js_2a16d6a071"
            ],
            "text/plain": [
              "<IPython.core.display.Javascript object>"
            ]
          },
          "metadata": {
            "tags": []
          }
        },
        {
          "output_type": "display_data",
          "data": {
            "application/javascript": [
              "window[\"35a51a9a-d159-11e9-8d65-0242ac1c0002\"] = new THREE.BufferAttribute(window[\"35a3fb56-d159-11e9-8d65-0242ac1c0002\"], 3);\n",
              "//# sourceURL=js_22a35b9fe5"
            ],
            "text/plain": [
              "<IPython.core.display.Javascript object>"
            ]
          },
          "metadata": {
            "tags": []
          }
        },
        {
          "output_type": "display_data",
          "data": {
            "application/javascript": [
              "window[\"35a57382-d159-11e9-8d65-0242ac1c0002\"] = window[\"35a4ade4-d159-11e9-8d65-0242ac1c0002\"].addAttribute(\"position\", window[\"35a51a9a-d159-11e9-8d65-0242ac1c0002\"]);\n",
              "//# sourceURL=js_e391b6a700"
            ],
            "text/plain": [
              "<IPython.core.display.Javascript object>"
            ]
          },
          "metadata": {
            "tags": []
          }
        },
        {
          "output_type": "display_data",
          "data": {
            "application/javascript": [
              "window[\"35a5d84a-d159-11e9-8d65-0242ac1c0002\"] = new THREE.BufferAttribute(window[\"35a4592a-d159-11e9-8d65-0242ac1c0002\"], 1);\n",
              "//# sourceURL=js_871c825b52"
            ],
            "text/plain": [
              "<IPython.core.display.Javascript object>"
            ]
          },
          "metadata": {
            "tags": []
          }
        },
        {
          "output_type": "display_data",
          "data": {
            "application/javascript": [
              "window[\"35a62b92-d159-11e9-8d65-0242ac1c0002\"] = window[\"35a4ade4-d159-11e9-8d65-0242ac1c0002\"].setIndex(window[\"35a5d84a-d159-11e9-8d65-0242ac1c0002\"]);\n",
              "//# sourceURL=js_ff33a28a3b"
            ],
            "text/plain": [
              "<IPython.core.display.Javascript object>"
            ]
          },
          "metadata": {
            "tags": []
          }
        },
        {
          "output_type": "display_data",
          "data": {
            "application/javascript": [
              "window[\"35a67980-d159-11e9-8d65-0242ac1c0002\"] = window[\"35a4ade4-d159-11e9-8d65-0242ac1c0002\"].computeVertexNormals();\n",
              "//# sourceURL=js_cea0dbf3c0"
            ],
            "text/plain": [
              "<IPython.core.display.Javascript object>"
            ]
          },
          "metadata": {
            "tags": []
          }
        },
        {
          "output_type": "display_data",
          "data": {
            "application/javascript": [
              "window[\"35a6cb38-d159-11e9-8d65-0242ac1c0002\"] = new THREE.Mesh(window[\"35a4ade4-d159-11e9-8d65-0242ac1c0002\"], window[\"359499f4-d159-11e9-8d65-0242ac1c0002\"]);\n",
              "//# sourceURL=js_e05a690b38"
            ],
            "text/plain": [
              "<IPython.core.display.Javascript object>"
            ]
          },
          "metadata": {
            "tags": []
          }
        },
        {
          "output_type": "display_data",
          "data": {
            "application/javascript": [
              "window[\"35a720a6-d159-11e9-8d65-0242ac1c0002\"] = window[\"359d5a9e-d159-11e9-8d65-0242ac1c0002\"].add(window[\"35a6cb38-d159-11e9-8d65-0242ac1c0002\"]);\n",
              "//# sourceURL=js_9e948349e2"
            ],
            "text/plain": [
              "<IPython.core.display.Javascript object>"
            ]
          },
          "metadata": {
            "tags": []
          }
        },
        {
          "output_type": "display_data",
          "data": {
            "application/javascript": [
              "window[\"368f6a6e-d159-11e9-8d65-0242ac1c0002\"] = window[\"35a4ade4-d159-11e9-8d65-0242ac1c0002\"].getAttribute(\"position\");\n",
              "//# sourceURL=js_4c547026f7"
            ],
            "text/plain": [
              "<IPython.core.display.Javascript object>"
            ]
          },
          "metadata": {
            "tags": []
          }
        },
        {
          "output_type": "display_data",
          "data": {
            "application/javascript": [
              "window[\"368fc388-d159-11e9-8d65-0242ac1c0002\"] = window[\"368f6a6e-d159-11e9-8d65-0242ac1c0002\"].copyArray([0.8229207992553711, -0.5503004789352417, -1.7739242315292358, 0.8461613655090332, -0.7000502347946167, -1.6542938947677612, 0.8694020509719849, -0.8497997522354126, -1.534663438796997, 0.8926425576210022, -0.9995495080947876, -1.415033221244812, 0.9158831238746643, -1.149299144744873, -1.2954028844833374, 0.9391237497329712, -1.2990490198135376, -1.1757725477218628, 0.9623643755912781, -1.448798656463623, -1.0561422109603882, 0.9856049418449402, -1.598548412322998, -0.9365118741989136, 1.008845567703247, -1.748298168182373, -0.816881537437439, 1.0320861339569092, -1.8980478048324585, -0.6972512006759644, 1.0553267002105713, -2.047797441482544, -0.5776208639144897, 1.078567385673523, -2.197547197341919, -0.45799052715301514, 1.101807951927185, -2.347296953201294, -0.3383601903915405, 1.1250485181808472, -2.49704647064209, -0.21872985363006592, 1.1482890844345093, -2.646796464920044, -0.09909951686859131, 1.1715296506881714, -2.79654598236084, 0.0205308198928833, 1.1947702169418335, -2.946295738220215, 0.14016103744506836, 1.2180109024047852, -3.09604549407959, 0.2597914934158325, 1.2412514686584473, -3.245795249938965, 0.37942183017730713, 1.6808563470840454, -0.20053589344024658, -1.5027704238891602, 1.704096794128418, -0.35028553009033203, -1.383140206336975, 1.7273374795913696, -0.5000354051589966, -1.263509750366211, 1.7505781650543213, -0.649785041809082, -1.1438795328140259, 1.7738187313079834, -0.7995346784591675, -1.0242491960525513, 1.7970592975616455, -0.9492843747138977, -0.9046188592910767, 1.8202998638153076, -1.0990341901779175, -0.784988522529602, 1.8435404300689697, -1.248783826828003, -0.6653581857681274, 1.8667809963226318, -1.398533582687378, -0.5457278490066528, 1.890021562576294, -1.548283338546753, -0.4260975122451782, 1.9132623672485352, -1.6980329751968384, -0.3064671754837036, 1.9365029335021973, -1.8477827310562134, -0.18683689832687378, 1.9597434997558594, -1.9975323677062988, -0.06720656156539917, 1.9829840660095215, -2.147282123565674, 0.052423834800720215, 2.0062246322631836, -2.297031879425049, 0.17205417156219482, 2.0294651985168457, -2.446781635284424, 0.29168444871902466, 2.052705764770508, -2.5965311527252197, 0.41131484508514404, 2.07594633102417, -2.746281147003174, 0.5309451818466187, 2.099186897277832, -2.8960306644439697, 0.6505753993988037]);\n",
              "//# sourceURL=js_abfedd6fe5"
            ],
            "text/plain": [
              "<IPython.core.display.Javascript object>"
            ]
          },
          "metadata": {
            "tags": []
          }
        },
        {
          "output_type": "display_data",
          "data": {
            "application/javascript": [
              "window[\"36903afc-d159-11e9-8d65-0242ac1c0002\"] = window[\"35a4ade4-d159-11e9-8d65-0242ac1c0002\"].getAttribute(\"position\");\n",
              "//# sourceURL=js_a44c4c650f"
            ],
            "text/plain": [
              "<IPython.core.display.Javascript object>"
            ]
          },
          "metadata": {
            "tags": []
          }
        },
        {
          "output_type": "display_data",
          "data": {
            "application/javascript": [
              "window[\"36903afc-d159-11e9-8d65-0242ac1c0002\"].needsUpdate = true;\n",
              "//# sourceURL=js_7f1a242623"
            ],
            "text/plain": [
              "<IPython.core.display.Javascript object>"
            ]
          },
          "metadata": {
            "tags": []
          }
        },
        {
          "output_type": "display_data",
          "data": {
            "application/javascript": [
              "window[\"36a6e0b8-d159-11e9-8d65-0242ac1c0002\"] = window[\"35a4ade4-d159-11e9-8d65-0242ac1c0002\"].getAttribute(\"position\");\n",
              "//# sourceURL=js_241970993e"
            ],
            "text/plain": [
              "<IPython.core.display.Javascript object>"
            ]
          },
          "metadata": {
            "tags": []
          }
        },
        {
          "output_type": "display_data",
          "data": {
            "application/javascript": [
              "window[\"36a7373e-d159-11e9-8d65-0242ac1c0002\"] = window[\"36a6e0b8-d159-11e9-8d65-0242ac1c0002\"].copyArray([0.49532362818717957, -0.47493231296539307, -1.54477059841156, 0.5494180917739868, -0.627508282661438, -1.4450567960739136, 0.6035126447677612, -0.7800846099853516, -1.3453428745269775, 0.6576071381568909, -0.932660698890686, -1.245628833770752, 0.7117016911506653, -1.08523690700531, -1.1459150314331055, 0.7657961845397949, -1.2378129959106445, -1.0462011098861694, 0.8198907375335693, -1.3903892040252686, -0.9464871287345886, 0.873985230922699, -1.5429654121398926, -0.8467732071876526, 0.9280797243118286, -1.6955416202545166, -0.7470592856407166, 0.982174277305603, -1.8481178283691406, -0.6473453640937805, 1.0362688302993774, -2.0006940364837646, -0.5476314425468445, 1.0903632640838623, -2.1532702445983887, -0.44791752099990845, 1.1444578170776367, -2.3058464527130127, -0.3482035994529724, 1.1985523700714111, -2.4584226608276367, -0.248489648103714, 1.2526469230651855, -2.6109986305236816, -0.14877575635910034, 1.30674147605896, -2.7635750770568848, -0.04906183481216431, 1.3608359098434448, -2.9161510467529297, 0.050652146339416504, 1.4149304628372192, -3.068727493286133, 0.15036606788635254, 1.469024896621704, -3.2213034629821777, 0.250079870223999, 1.2924604415893555, -0.024819016456604004, -1.2884790897369385, 1.3465548753738403, -0.17739498615264893, -1.188765287399292, 1.4006495475769043, -0.3299713134765625, -1.0890512466430664, 1.4547439813613892, -0.482547402381897, -0.9893373847007751, 1.5088385343551636, -0.635123610496521, -0.8896234631538391, 1.5629329681396484, -0.787699818611145, -0.7899094820022583, 1.6170275211334229, -0.940276026725769, -0.690195620059967, 1.6711220741271973, -1.0928521156311035, -0.590481698513031, 1.7252166271209717, -1.2454283237457275, -0.4907677471637726, 1.779311180114746, -1.3980045318603516, -0.39105382561683655, 1.833405613899231, -1.5505807399749756, -0.2913399338722229, 1.887500286102295, -1.7031569480895996, -0.1916259527206421, 1.9415947198867798, -1.8557331562042236, -0.09191203117370605, 1.9956892728805542, -2.0083093643188477, 0.007801830768585205, 2.049783706665039, -2.1608855724334717, 0.10751581192016602, 2.1038784980773926, -2.3134617805480957, 0.20722979307174683, 2.157972812652588, -2.4660377502441406, 0.3069435954093933, 2.212067127227783, -2.6186141967773438, 0.4066576361656189, 2.2661616802215576, -2.7711901664733887, 0.5063714385032654]);\n",
              "//# sourceURL=js_95a2450500"
            ],
            "text/plain": [
              "<IPython.core.display.Javascript object>"
            ]
          },
          "metadata": {
            "tags": []
          }
        },
        {
          "output_type": "display_data",
          "data": {
            "application/javascript": [
              "window[\"36a7b7b8-d159-11e9-8d65-0242ac1c0002\"] = window[\"35a4ade4-d159-11e9-8d65-0242ac1c0002\"].getAttribute(\"position\");\n",
              "//# sourceURL=js_83dcab8ddf"
            ],
            "text/plain": [
              "<IPython.core.display.Javascript object>"
            ]
          },
          "metadata": {
            "tags": []
          }
        },
        {
          "output_type": "display_data",
          "data": {
            "application/javascript": [
              "window[\"36a7b7b8-d159-11e9-8d65-0242ac1c0002\"].needsUpdate = true;\n",
              "//# sourceURL=js_f5016eb8c3"
            ],
            "text/plain": [
              "<IPython.core.display.Javascript object>"
            ]
          },
          "metadata": {
            "tags": []
          }
        },
        {
          "output_type": "display_data",
          "data": {
            "application/javascript": [
              "window[\"36bc10fa-d159-11e9-8d65-0242ac1c0002\"] = window[\"35a4ade4-d159-11e9-8d65-0242ac1c0002\"].getAttribute(\"position\");\n",
              "//# sourceURL=js_647bb170a9"
            ],
            "text/plain": [
              "<IPython.core.display.Javascript object>"
            ]
          },
          "metadata": {
            "tags": []
          }
        },
        {
          "output_type": "display_data",
          "data": {
            "application/javascript": [
              "window[\"36bc6ad2-d159-11e9-8d65-0242ac1c0002\"] = window[\"36bc10fa-d159-11e9-8d65-0242ac1c0002\"].copyArray([0.1692485809326172, -0.43524491786956787, -1.3203781843185425, 0.25404489040374756, -0.5866965055465698, -1.2400758266448975, 0.33884137868881226, -0.7381479740142822, -1.1597731113433838, 0.42363762855529785, -0.8895994424819946, -1.0794706344604492, 0.5084340572357178, -1.0410510301589966, -0.9991681575775146, 0.5932304859161377, -1.192502498626709, -0.9188656806945801, 0.6780267953872681, -1.343954086303711, -0.838563084602356, 0.762823224067688, -1.4954055547714233, -0.7582606077194214, 0.8476196527481079, -1.6468571424484253, -0.6779581308364868, 0.9324160218238831, -1.7983086109161377, -0.5976555943489075, 1.0172123908996582, -1.94976007938385, -0.5173530578613281, 1.1020088195800781, -2.1012115478515625, -0.43705055117607117, 1.186805248260498, -2.2526631355285645, -0.3567480742931366, 1.2716015577316284, -2.4041147232055664, -0.27644550800323486, 1.3563979864120483, -2.5555663108825684, -0.1961430311203003, 1.4411944150924683, -2.7070178985595703, -0.11584055423736572, 1.5259907245635986, -2.858469247817993, -0.03553801774978638, 1.6107871532440186, -3.009920597076416, 0.044764578342437744, 1.695583462715149, -3.161372184753418, 0.12506699562072754, 0.9064064621925354, 0.11546826362609863, -1.0601370334625244, 0.9912028312683105, -0.03598332405090332, -0.9798346161842346, 1.0759992599487305, -0.18743491172790527, -0.8995320796966553, 1.1607955694198608, -0.3388862609863281, -0.8192296028137207, 1.2455919981002808, -0.4903378486633301, -0.7389271259307861, 1.3303883075714111, -0.641789436340332, -0.6586245894432068, 1.415184736251831, -0.7932409048080444, -0.5783220529556274, 1.499981164932251, -0.9446924328804016, -0.4980195164680481, 1.584777593612671, -1.0961439609527588, -0.41771700978279114, 1.6695740222930908, -1.2475955486297607, -0.3374145030975342, 1.7543702125549316, -1.3990470170974731, -0.2571119964122772, 1.8391666412353516, -1.550498604774475, -0.17680948972702026, 1.9239630699157715, -1.7019500732421875, -0.09650695323944092, 2.0087594985961914, -1.8534015417099, -0.016204476356506348, 2.0935559272766113, -2.0048530101776123, 0.064098060131073, 2.1783523559570312, -2.1563045978546143, 0.14440053701400757, 2.263148784637451, -2.307756185531616, 0.22470307350158691, 2.347944974899292, -2.459207773208618, 0.30500560998916626, 2.432741403579712, -2.610659122467041, 0.38530802726745605]);\n",
              "//# sourceURL=js_099672dfd8"
            ],
            "text/plain": [
              "<IPython.core.display.Javascript object>"
            ]
          },
          "metadata": {
            "tags": []
          }
        },
        {
          "output_type": "display_data",
          "data": {
            "application/javascript": [
              "window[\"36bccb62-d159-11e9-8d65-0242ac1c0002\"] = window[\"35a4ade4-d159-11e9-8d65-0242ac1c0002\"].getAttribute(\"position\");\n",
              "//# sourceURL=js_d732a5a0f8"
            ],
            "text/plain": [
              "<IPython.core.display.Javascript object>"
            ]
          },
          "metadata": {
            "tags": []
          }
        },
        {
          "output_type": "display_data",
          "data": {
            "application/javascript": [
              "window[\"36bccb62-d159-11e9-8d65-0242ac1c0002\"].needsUpdate = true;\n",
              "//# sourceURL=js_ae7f212941"
            ],
            "text/plain": [
              "<IPython.core.display.Javascript object>"
            ]
          },
          "metadata": {
            "tags": []
          }
        },
        {
          "output_type": "display_data",
          "data": {
            "application/javascript": [
              "window[\"36d100fa-d159-11e9-8d65-0242ac1c0002\"] = window[\"35a4ade4-d159-11e9-8d65-0242ac1c0002\"].getAttribute(\"position\");\n",
              "//# sourceURL=js_a456291ff5"
            ],
            "text/plain": [
              "<IPython.core.display.Javascript object>"
            ]
          },
          "metadata": {
            "tags": []
          }
        },
        {
          "output_type": "display_data",
          "data": {
            "application/javascript": [
              "window[\"36d15604-d159-11e9-8d65-0242ac1c0002\"] = window[\"36d100fa-d159-11e9-8d65-0242ac1c0002\"].copyArray([-0.1554323434829712, -0.42991065979003906, -1.103003978729248, -0.04006427526473999, -0.5764398574829102, -1.0413774251937866, 0.07530409097671509, -0.7229692935943604, -0.9797508716583252, 0.19067227840423584, -0.8694985508918762, -0.9181244373321533, 0.30604052543640137, -1.0160279273986816, -0.8564978837966919, 0.4214087426662445, -1.1625571250915527, -0.79487144947052, 0.5367770195007324, -1.309086561203003, -0.7332449555397034, 0.652145266532898, -1.4556158781051636, -0.6716184616088867, 0.7675135135650635, -1.6021451950073242, -0.6099919676780701, 0.882881760597229, -1.7486745119094849, -0.5483654737472534, 0.9982500076293945, -1.8952038288116455, -0.48673897981643677, 1.11361825466156, -2.0417332649230957, -0.4251124858856201, 1.2289865016937256, -2.188262462615967, -0.36348599195480347, 1.3443547487258911, -2.334791898727417, -0.3018594980239868, 1.4597229957580566, -2.481321096420288, -0.24023303389549255, 1.5750912427902222, -2.6278505325317383, -0.17860651016235352, 1.6904594898223877, -2.7743797302246094, -0.11698004603385925, 1.8058278560638428, -2.9209091663360596, -0.055353522300720215, 1.9211958646774292, -3.0674383640289307, 0.0062729716300964355, 0.5226489305496216, 0.22234869003295898, -0.8215329051017761, 0.6380169987678528, 0.07581937313079834, -0.7599064111709595, 0.7533853054046631, -0.0707099437713623, -0.6982799172401428, 0.8687535524368286, -0.2172391414642334, -0.636653482913971, 0.9841218590736389, -0.36376845836639404, -0.5750269293785095, 1.0994900465011597, -0.5102978944778442, -0.5134004950523376, 1.2148582935333252, -0.6568269729614258, -0.4517739713191986, 1.3302266597747803, -0.803356409072876, -0.39014750719070435, 1.4455949068069458, -0.9498858451843262, -0.3285210132598877, 1.5609631538391113, -1.0964151620864868, -0.26689451932907104, 1.6763312816619873, -1.2429444789886475, -0.2052680253982544, 1.7916995286941528, -1.3894736766815186, -0.14364153146743774, 1.9070677757263184, -1.5360031127929688, -0.0820150375366211, 2.0224361419677734, -1.6825324296951294, -0.020388484001159668, 2.1378045082092285, -1.82906174659729, 0.04123795032501221, 2.2531723976135254, -1.9755911827087402, 0.10286444425582886, 2.3685407638549805, -2.1221203804016113, 0.1644909381866455, 2.4839091300964355, -2.2686498165130615, 0.22611743211746216, 2.5992774963378906, -2.4151790142059326, 0.28774386644363403]);\n",
              "//# sourceURL=js_c494b67187"
            ],
            "text/plain": [
              "<IPython.core.display.Javascript object>"
            ]
          },
          "metadata": {
            "tags": []
          }
        },
        {
          "output_type": "display_data",
          "data": {
            "application/javascript": [
              "window[\"36d1bc8e-d159-11e9-8d65-0242ac1c0002\"] = window[\"35a4ade4-d159-11e9-8d65-0242ac1c0002\"].getAttribute(\"position\");\n",
              "//# sourceURL=js_9bc5887670"
            ],
            "text/plain": [
              "<IPython.core.display.Javascript object>"
            ]
          },
          "metadata": {
            "tags": []
          }
        },
        {
          "output_type": "display_data",
          "data": {
            "application/javascript": [
              "window[\"36d1bc8e-d159-11e9-8d65-0242ac1c0002\"].needsUpdate = true;\n",
              "//# sourceURL=js_34d8ad829a"
            ],
            "text/plain": [
              "<IPython.core.display.Javascript object>"
            ]
          },
          "metadata": {
            "tags": []
          }
        },
        {
          "output_type": "display_data",
          "data": {
            "application/javascript": [
              "window[\"36e5bbbc-d159-11e9-8d65-0242ac1c0002\"] = window[\"35a4ade4-d159-11e9-8d65-0242ac1c0002\"].getAttribute(\"position\");\n",
              "//# sourceURL=js_01c8d868bc"
            ],
            "text/plain": [
              "<IPython.core.display.Javascript object>"
            ]
          },
          "metadata": {
            "tags": []
          }
        },
        {
          "output_type": "display_data",
          "data": {
            "application/javascript": [
              "window[\"36e6131e-d159-11e9-8d65-0242ac1c0002\"] = window[\"36e5bbbc-d159-11e9-8d65-0242ac1c0002\"].copyArray([-0.4782719612121582, -0.4573092460632324, -0.8949712514877319, -0.33250319957733154, -0.5953052043914795, -0.8510563969612122, -0.18673431873321533, -0.73330157995224, -0.8071415424346924, -0.04096561670303345, -0.8712977170944214, -0.7632266879081726, 0.10480326414108276, -1.009294033050537, -0.7193118333816528, 0.25057220458984375, -1.1472901105880737, -0.6753969192504883, 0.3963409960269928, -1.2852864265441895, -0.6314821243286133, 0.5421099066734314, -1.4232826232910156, -0.5875672101974487, 0.6878787279129028, -1.5612788200378418, -0.543652355670929, 0.833647608757019, -1.699275016784668, -0.4997375011444092, 0.9794164896011353, -1.8372712135314941, -0.4558226466178894, 1.125185251235962, -1.9752674102783203, -0.41190779209136963, 1.2709542512893677, -2.1132636070251465, -0.36799290776252747, 1.4167230129241943, -2.2512598037719727, -0.3240780532360077, 1.5624918937683105, -2.389256000518799, -0.2801631689071655, 1.7082607746124268, -2.527252197265625, -0.23624831438064575, 1.8540295362472534, -2.665248394012451, -0.19233348965644836, 1.9997984170913696, -2.8032448291778564, -0.1484186053276062, 2.1455671787261963, -2.9412407875061035, -0.10450375080108643, 0.141274094581604, 0.29820168018341064, -0.5773763656616211, 0.2870427966117859, 0.16020572185516357, -0.5334615111351013, 0.4328117370605469, 0.0222092866897583, -0.48954665660858154, 0.5785804986953735, -0.11578655242919922, -0.44563180208206177, 0.7243494391441345, -0.2537829875946045, -0.4017169177532196, 0.8701182007789612, -0.39177918434143066, -0.35780206322669983, 1.0158870220184326, -0.5297755002975464, -0.31388723850250244, 1.1616559028625488, -0.6677716970443726, -0.2699723541736603, 1.307424783706665, -0.8057677745819092, -0.22605746984481812, 1.4531936645507812, -0.9437640309333801, -0.18214261531829834, 1.5989625453948975, -1.081760287284851, -0.13822773098945618, 1.7447314262390137, -1.2197563648223877, -0.09431290626525879, 1.8905004262924194, -1.3577526807785034, -0.05039799213409424, 2.036269187927246, -1.4957488775253296, -0.006483167409896851, 2.182037830352783, -1.6337450742721558, 0.03743171691894531, 2.3278069496154785, -1.7717413902282715, 0.08134657144546509, 2.4735755920410156, -1.909737467765808, 0.12526142597198486, 2.619344711303711, -2.047733783721924, 0.16917628049850464, 2.765113353729248, -2.185729742050171, 0.21309113502502441]);\n",
              "//# sourceURL=js_e375907e21"
            ],
            "text/plain": [
              "<IPython.core.display.Javascript object>"
            ]
          },
          "metadata": {
            "tags": []
          }
        },
        {
          "output_type": "display_data",
          "data": {
            "application/javascript": [
              "window[\"36e65e64-d159-11e9-8d65-0242ac1c0002\"] = window[\"35a4ade4-d159-11e9-8d65-0242ac1c0002\"].getAttribute(\"position\");\n",
              "//# sourceURL=js_863080afbe"
            ],
            "text/plain": [
              "<IPython.core.display.Javascript object>"
            ]
          },
          "metadata": {
            "tags": []
          }
        },
        {
          "output_type": "display_data",
          "data": {
            "application/javascript": [
              "window[\"36e65e64-d159-11e9-8d65-0242ac1c0002\"].needsUpdate = true;\n",
              "//# sourceURL=js_8b14ace98f"
            ],
            "text/plain": [
              "<IPython.core.display.Javascript object>"
            ]
          },
          "metadata": {
            "tags": []
          }
        },
        {
          "output_type": "display_data",
          "data": {
            "application/javascript": [
              "window[\"36fa5996-d159-11e9-8d65-0242ac1c0002\"] = window[\"35a4ade4-d159-11e9-8d65-0242ac1c0002\"].getAttribute(\"position\");\n",
              "//# sourceURL=js_8b80f8309e"
            ],
            "text/plain": [
              "<IPython.core.display.Javascript object>"
            ]
          },
          "metadata": {
            "tags": []
          }
        },
        {
          "output_type": "display_data",
          "data": {
            "application/javascript": [
              "window[\"36fb06ca-d159-11e9-8d65-0242ac1c0002\"] = window[\"36fa5996-d159-11e9-8d65-0242ac1c0002\"].copyArray([-0.7979220151901245, -0.5152077674865723, -0.698966383934021, -0.6220648288726807, -0.6413151025772095, -0.6715400815010071, -0.4462069272994995, -0.7674225568771362, -0.6441137790679932, -0.2703496217727661, -0.893530011177063, -0.616687536239624, -0.09449207782745361, -1.0196375846862793, -0.5892611742019653, 0.08136540651321411, -1.1457449197769165, -0.5618348717689514, 0.2572230100631714, -1.2718523740768433, -0.5344085693359375, 0.4330805242061615, -1.39795982837677, -0.5069822669029236, 0.6089380979537964, -1.5240672826766968, -0.47955596446990967, 0.7847956418991089, -1.6501747369766235, -0.45212966203689575, 0.9606531858444214, -1.7762821912765503, -0.42470335960388184, 1.1365107297897339, -1.902389645576477, -0.3972770571708679, 1.3123682737350464, -2.0284972190856934, -0.369850754737854, 1.4882259368896484, -2.154604434967041, -0.3424244523048401, 1.6640833616256714, -2.2807118892669678, -0.31499814987182617, 1.8399409055709839, -2.4068193435668945, -0.28757181763648987, 2.0157980918884277, -2.5329270362854004, -0.26014551520347595, 2.1916561126708984, -2.659034252166748, -0.23271922767162323, 2.3675131797790527, -2.785141706466675, -0.2052929401397705, -0.2371959686279297, 0.34611403942108154, -0.3339453935623169, -0.061338722705841064, 0.22000658512115479, -0.30651912093162537, 0.11451900005340576, 0.09389913082122803, -0.27909278869628906, 0.2903764247894287, -0.03220844268798828, -0.25166651606559753, 0.46623408794403076, -0.1583157777786255, -0.22424019873142242, 0.6420915722846985, -0.28442323207855225, -0.19681388139724731, 0.817949116230011, -0.410530686378479, -0.1693876087665558, 0.9938066005706787, -0.5366381406784058, -0.14196130633354187, 1.1696641445159912, -0.6627455353736877, -0.11453497409820557, 1.3455216884613037, -0.7888530492782593, -0.08710867166519165, 1.5213793516159058, -0.9149604439735413, -0.059682369232177734, 1.6972367763519287, -1.0410678386688232, -0.032256096601486206, 1.8730944395065308, -1.16717529296875, -0.004829764366149902, 2.0489518642425537, -1.2932828664779663, 0.0225965678691864, 2.2248096466064453, -1.419390320777893, 0.050022780895233154, 2.4006669521331787, -1.5454977750778198, 0.07744908332824707, 2.5765247344970703, -1.6716052293777466, 0.10487538576126099, 2.7523818016052246, -1.7977126836776733, 0.13230174779891968, 2.9282398223876953, -1.9238201379776, 0.1597280502319336]);\n",
              "//# sourceURL=js_320af58b78"
            ],
            "text/plain": [
              "<IPython.core.display.Javascript object>"
            ]
          },
          "metadata": {
            "tags": []
          }
        },
        {
          "output_type": "display_data",
          "data": {
            "application/javascript": [
              "window[\"36fb4874-d159-11e9-8d65-0242ac1c0002\"] = window[\"35a4ade4-d159-11e9-8d65-0242ac1c0002\"].getAttribute(\"position\");\n",
              "//# sourceURL=js_30f7b39ce8"
            ],
            "text/plain": [
              "<IPython.core.display.Javascript object>"
            ]
          },
          "metadata": {
            "tags": []
          }
        },
        {
          "output_type": "display_data",
          "data": {
            "application/javascript": [
              "window[\"36fb4874-d159-11e9-8d65-0242ac1c0002\"].needsUpdate = true;\n",
              "//# sourceURL=js_f500292845"
            ],
            "text/plain": [
              "<IPython.core.display.Javascript object>"
            ]
          },
          "metadata": {
            "tags": []
          }
        },
        {
          "output_type": "display_data",
          "data": {
            "application/javascript": [
              "window[\"370f8fdc-d159-11e9-8d65-0242ac1c0002\"] = window[\"35a4ade4-d159-11e9-8d65-0242ac1c0002\"].getAttribute(\"position\");\n",
              "//# sourceURL=js_a9f32a2a7d"
            ],
            "text/plain": [
              "<IPython.core.display.Javascript object>"
            ]
          },
          "metadata": {
            "tags": []
          }
        },
        {
          "output_type": "display_data",
          "data": {
            "application/javascript": [
              "window[\"370fdc80-d159-11e9-8d65-0242ac1c0002\"] = window[\"370f8fdc-d159-11e9-8d65-0242ac1c0002\"].copyArray([-1.1117619276046753, -0.6003807783126831, -0.518284022808075, -0.9064089059829712, -0.711609959602356, -0.5058087706565857, -0.7010558843612671, -0.8228392601013184, -0.49333351850509644, -0.495702862739563, -0.9340685606002808, -0.4808582663536072, -0.29034996032714844, -1.0452978610992432, -0.4683830440044403, -0.08499687910079956, -1.156527042388916, -0.45590776205062866, 0.12035614252090454, -1.267756462097168, -0.4434325397014618, 0.32570913434028625, -1.3789856433868408, -0.43095728754997253, 0.531062126159668, -1.4902149438858032, -0.4184820353984833, 0.7364151477813721, -1.6014442443847656, -0.406006783246994, 0.9417681694030762, -1.712673544883728, -0.39353153109550476, 1.1471211910247803, -1.8239028453826904, -0.3810562789440155, 1.3524742126464844, -1.9351320266723633, -0.36858102679252625, 1.5578272342681885, -2.0463614463806152, -0.3561058044433594, 1.7631802558898926, -2.157590627670288, -0.34363052248954773, 1.9685331583023071, -2.268819808959961, -0.33115530014038086, 2.173886299133301, -2.380049228668213, -0.3186800479888916, 2.379239082336426, -2.491278648376465, -0.30620479583740234, 2.584592342376709, -2.6025075912475586, -0.2937295436859131, -0.6115138530731201, 0.3701401948928833, -0.09962275624275208, -0.40616095066070557, 0.2589108943939209, -0.08714747428894043, -0.20080780982971191, 0.14768171310424805, -0.07467222213745117, 0.004545152187347412, 0.036452412605285645, -0.062196969985961914, 0.20989811420440674, -0.07477700710296631, -0.049721747636795044, 0.41525110602378845, -0.18600618839263916, -0.037246495485305786, 0.6206040978431702, -0.29723548889160156, -0.02477121353149414, 0.8259571194648743, -0.4084649085998535, -0.012296020984649658, 1.0313102006912231, -0.5196940898895264, 0.0001792609691619873, 1.2366631031036377, -0.6309233903884888, 0.012654513120651245, 1.4420161247253418, -0.7421526908874512, 0.025129765272140503, 1.647369146347046, -0.8533819913864136, 0.03760498762130737, 1.85272216796875, -0.964611291885376, 0.05008026957511902, 2.058074951171875, -1.0758404731750488, 0.06255552172660828, 2.263428211212158, -1.1870697736740112, 0.07503074407577515, 2.4687812328338623, -1.2982990741729736, 0.08750602602958679, 2.6741342544555664, -1.409528374671936, 0.09998121857643127, 2.8794872760772705, -1.5207576751708984, 0.11245647072792053, 3.0848402976989746, -1.6319868564605713, 0.12493178248405457]);\n",
              "//# sourceURL=js_8da1c9ef7e"
            ],
            "text/plain": [
              "<IPython.core.display.Javascript object>"
            ]
          },
          "metadata": {
            "tags": []
          }
        },
        {
          "output_type": "display_data",
          "data": {
            "application/javascript": [
              "window[\"37102924-d159-11e9-8d65-0242ac1c0002\"] = window[\"35a4ade4-d159-11e9-8d65-0242ac1c0002\"].getAttribute(\"position\");\n",
              "//# sourceURL=js_0594195a6a"
            ],
            "text/plain": [
              "<IPython.core.display.Javascript object>"
            ]
          },
          "metadata": {
            "tags": []
          }
        },
        {
          "output_type": "display_data",
          "data": {
            "application/javascript": [
              "window[\"37102924-d159-11e9-8d65-0242ac1c0002\"].needsUpdate = true;\n",
              "//# sourceURL=js_75540a0a2a"
            ],
            "text/plain": [
              "<IPython.core.display.Javascript object>"
            ]
          },
          "metadata": {
            "tags": []
          }
        },
        {
          "output_type": "display_data",
          "data": {
            "application/javascript": [
              "window[\"3725b0fa-d159-11e9-8d65-0242ac1c0002\"] = window[\"35a4ade4-d159-11e9-8d65-0242ac1c0002\"].getAttribute(\"position\");\n",
              "//# sourceURL=js_50b901b82c"
            ],
            "text/plain": [
              "<IPython.core.display.Javascript object>"
            ]
          },
          "metadata": {
            "tags": []
          }
        },
        {
          "output_type": "display_data",
          "data": {
            "application/javascript": [
              "window[\"37260456-d159-11e9-8d65-0242ac1c0002\"] = window[\"3725b0fa-d159-11e9-8d65-0242ac1c0002\"].copyArray([-1.4156007766723633, -0.708279013633728, -0.35693463683128357, -1.181800365447998, -0.8021547794342041, -0.3574902415275574, -0.9479996562004089, -0.8960306644439697, -0.35804587602615356, -0.7141990065574646, -0.9899064898490906, -0.35860148072242737, -0.48039835691452026, -1.0837823152542114, -0.35915708541870117, -0.2465975284576416, -1.1776580810546875, -0.35971271991729736, -0.01279681921005249, -1.2715339660644531, -0.36026832461357117, 0.221003919839859, -1.3654098510742188, -0.36082392930984497, 0.4548046588897705, -1.4592856168746948, -0.36137956380844116, 0.6886053681373596, -1.5531615018844604, -0.36193516850471497, 0.9224060773849487, -1.647037386894226, -0.36249077320098877, 1.1562068462371826, -1.7409131526947021, -0.36304640769958496, 1.390007495880127, -1.8347890377044678, -0.36360201239585876, 1.6238082647323608, -1.9286649227142334, -0.36415761709213257, 1.8576090335845947, -2.02254056930542, -0.36471325159072876, 2.091409683227539, -2.1164164543151855, -0.36526885628700256, 2.3252103328704834, -2.210292339324951, -0.36582446098327637, 2.559011220932007, -2.304168224334717, -0.36638009548187256, 2.792811393737793, -2.3980441093444824, -0.36693570017814636, -0.9794513583183289, 0.3751717805862427, 0.11508408188819885, -0.7456508278846741, 0.2812960147857666, 0.11452847719192505, -0.5118499398231506, 0.18742024898529053, 0.11397290229797363, -0.2780493497848511, 0.0935443639755249, 0.11341726779937744, -0.04424852132797241, -0.0003312826156616211, 0.11286163330078125, 0.1895521879196167, -0.0942072868347168, 0.11230602860450745, 0.4233528673648834, -0.18808317184448242, 0.11175039410591125, 0.6571536064147949, -0.2819589376449585, 0.11119481921195984, 0.8909543752670288, -0.3758348226547241, 0.11063918471336365, 1.1247551441192627, -0.46971070766448975, 0.11008358001708984, 1.358555793762207, -0.5635864734649658, 0.10952794551849365, 1.592356562614441, -0.6574622988700867, 0.10897234082221985, 1.8261573314666748, -0.7513381242752075, 0.10841670632362366, 2.059957981109619, -0.8452140092849731, 0.10786113142967224, 2.2937586307525635, -0.9390898942947388, 0.10730549693107605, 2.527559518814087, -1.0329657793045044, 0.10674989223480225, 2.761359930038452, -1.126841425895691, 0.10619425773620605, 2.9951610565185547, -1.2207173109054565, 0.10563865303993225, 3.22896146774292, -1.3145930767059326, 0.10508298873901367]);\n",
              "//# sourceURL=js_7d89fbb7cf"
            ],
            "text/plain": [
              "<IPython.core.display.Javascript object>"
            ]
          },
          "metadata": {
            "tags": []
          }
        },
        {
          "output_type": "display_data",
          "data": {
            "application/javascript": [
              "window[\"37265e24-d159-11e9-8d65-0242ac1c0002\"] = window[\"35a4ade4-d159-11e9-8d65-0242ac1c0002\"].getAttribute(\"position\");\n",
              "//# sourceURL=js_25227e985f"
            ],
            "text/plain": [
              "<IPython.core.display.Javascript object>"
            ]
          },
          "metadata": {
            "tags": []
          }
        },
        {
          "output_type": "display_data",
          "data": {
            "application/javascript": [
              "window[\"37265e24-d159-11e9-8d65-0242ac1c0002\"].needsUpdate = true;\n",
              "//# sourceURL=js_5788d42706"
            ],
            "text/plain": [
              "<IPython.core.display.Javascript object>"
            ]
          },
          "metadata": {
            "tags": []
          }
        },
        {
          "output_type": "display_data",
          "data": {
            "application/javascript": [
              "window[\"373ab6a8-d159-11e9-8d65-0242ac1c0002\"] = window[\"35a4ade4-d159-11e9-8d65-0242ac1c0002\"].getAttribute(\"position\");\n",
              "//# sourceURL=js_03998b142f"
            ],
            "text/plain": [
              "<IPython.core.display.Javascript object>"
            ]
          },
          "metadata": {
            "tags": []
          }
        },
        {
          "output_type": "display_data",
          "data": {
            "application/javascript": [
              "window[\"373b082e-d159-11e9-8d65-0242ac1c0002\"] = window[\"373ab6a8-d159-11e9-8d65-0242ac1c0002\"].copyArray([-1.703535795211792, -0.8330366015434265, -0.2195257693529129, -1.4429786205291748, -0.9077451229095459, -0.23075014352798462, -1.1824212074279785, -0.9824535250663757, -0.24197453260421753, -0.9218642115592957, -1.0571619272232056, -0.25319892168045044, -0.6613070368766785, -1.1318702697753906, -0.26442328095436096, -0.4007498621940613, -1.2065787315368652, -0.27564767003059387, -0.1401926875114441, -1.2812871932983398, -0.2868720591068268, 0.1203644871711731, -1.3559956550598145, -0.2980964183807373, 0.3809216618537903, -1.4307039976119995, -0.3093208074569702, 0.6414788365364075, -1.5054124593734741, -0.3205451965332031, 0.9020360112190247, -1.5801209211349487, -0.33176958560943604, 1.162593126296997, -1.6548292636871338, -0.34299397468566895, 1.4231503009796143, -1.7295377254486084, -0.35421833395957947, 1.6837074756622314, -1.804246187210083, -0.3654427230358124, 1.9442646503448486, -1.8789546489715576, -0.3766671121120453, 2.204821825027466, -1.9536629915237427, -0.3878914713859558, 2.465378999710083, -2.0283713340759277, -0.3991158604621887, 2.7259361743927, -2.1030797958374023, -0.41034024953842163, 2.9864933490753174, -2.177788257598877, -0.42156463861465454, -1.3374383449554443, 0.3659600019454956, 0.2984645962715149, -1.0768811702728271, 0.291251540184021, 0.2872401475906372, -0.8163239359855652, 0.2165433168411255, 0.2760158181190491, -0.5557668805122375, 0.14183473587036133, 0.26479142904281616, -0.2952096462249756, 0.06712639331817627, 0.25356703996658325, -0.034652531147003174, -0.00758206844329834, 0.24234265089035034, 0.22590458393096924, -0.0822904109954834, 0.2311183214187622, 0.4864617586135864, -0.15699899196624756, 0.21989387273788452, 0.7470189929008484, -0.23170733451843262, 0.2086695432662964, 1.0075761079788208, -0.3064156770706177, 0.1974450945854187, 1.2681331634521484, -0.3811241388320923, 0.18622076511383057, 1.5286904573440552, -0.45583271980285645, 0.17499637603759766, 1.789247751235962, -0.5305411219596863, 0.16377198696136475, 2.049804925918579, -0.6052494049072266, 0.15254759788513184, 2.310361862182617, -0.679957926273346, 0.1413232386112213, 2.5709192752838135, -0.7546663880348206, 0.1300988495349884, 2.8314762115478516, -0.8293747305870056, 0.11887449026107788, 3.0920333862304688, -0.9040830731391907, 0.10765010118484497, 3.352590560913086, -0.9787915349006653, 0.09642568230628967]);\n",
              "//# sourceURL=js_84dd429fde"
            ],
            "text/plain": [
              "<IPython.core.display.Javascript object>"
            ]
          },
          "metadata": {
            "tags": []
          }
        },
        {
          "output_type": "display_data",
          "data": {
            "application/javascript": [
              "window[\"373bc3c2-d159-11e9-8d65-0242ac1c0002\"] = window[\"35a4ade4-d159-11e9-8d65-0242ac1c0002\"].getAttribute(\"position\");\n",
              "//# sourceURL=js_e1dd25e552"
            ],
            "text/plain": [
              "<IPython.core.display.Javascript object>"
            ]
          },
          "metadata": {
            "tags": []
          }
        },
        {
          "output_type": "display_data",
          "data": {
            "application/javascript": [
              "window[\"373bc3c2-d159-11e9-8d65-0242ac1c0002\"].needsUpdate = true;\n",
              "//# sourceURL=js_26a4243e20"
            ],
            "text/plain": [
              "<IPython.core.display.Javascript object>"
            ]
          },
          "metadata": {
            "tags": []
          }
        },
        {
          "output_type": "display_data",
          "data": {
            "application/javascript": [
              "window[\"375054c2-d159-11e9-8d65-0242ac1c0002\"] = window[\"35a4ade4-d159-11e9-8d65-0242ac1c0002\"].getAttribute(\"position\");\n",
              "//# sourceURL=js_2dcaffc18c"
            ],
            "text/plain": [
              "<IPython.core.display.Javascript object>"
            ]
          },
          "metadata": {
            "tags": []
          }
        },
        {
          "output_type": "display_data",
          "data": {
            "application/javascript": [
              "window[\"37510dea-d159-11e9-8d65-0242ac1c0002\"] = window[\"375054c2-d159-11e9-8d65-0242ac1c0002\"].copyArray([-1.967652440071106, -0.9680484533309937, -0.11082157492637634, -1.6828950643539429, -1.022519588470459, -0.12989214062690735, -1.3981374502182007, -1.0769909620285034, -0.14896272122859955, -1.1133798360824585, -1.1314622163772583, -0.16803328692913055, -0.8286222219467163, -1.1859334707260132, -0.18710386753082275, -0.5438646078109741, -1.240404725074768, -0.20617444813251495, -0.25910699367523193, -1.294875979423523, -0.22524502873420715, 0.025650620460510254, -1.3493472337722778, -0.24431559443473816, 0.31040823459625244, -1.4038184881210327, -0.26338618993759155, 0.5951658487319946, -1.4582897424697876, -0.28245675563812256, 0.8799234628677368, -1.5127609968185425, -0.30152732133865356, 1.164681077003479, -1.5672322511672974, -0.32059791684150696, 1.4494386911392212, -1.6217035055160522, -0.33966848254203796, 1.7341963052749634, -1.6761747598648071, -0.35873907804489136, 2.018953800201416, -1.730646014213562, -0.37780964374542236, 2.303711414337158, -1.785117268562317, -0.39688020944595337, 2.5884690284729004, -1.8395885229110718, -0.4159507751464844, 2.8732266426086426, -1.8940598964691162, -0.43502137064933777, 3.1579842567443848, -1.9485310316085815, -0.4540919363498688, -1.6795846223831177, 0.34525883197784424, 0.4393453001976013, -1.3948274850845337, 0.29078757762908936, 0.4202747344970703, -1.1100696325302124, 0.23631632328033447, 0.4012041687965393, -0.8253120183944702, 0.1818450689315796, 0.3821336627006531, -0.540554404258728, 0.1273738145828247, 0.3630629777908325, -0.25579679012298584, 0.07290256023406982, 0.3439924716949463, 0.028960764408111572, 0.01843106746673584, 0.32492178678512573, 0.31371837854385376, -0.03603994846343994, 0.3058513402938843, 0.5984760522842407, -0.09051120281219482, 0.2867807149887085, 0.8832336664199829, -0.1449824571609497, 0.2677101492881775, 1.1679911613464355, -0.1994537115097046, 0.2486395239830017, 1.4527488946914673, -0.253925085067749, 0.2295689582824707, 1.7375065088272095, -0.30839622020721436, 0.2104983925819397, 2.022264003753662, -0.36286747455596924, 0.19142785668373108, 2.3070216178894043, -0.4173387289047241, 0.17235726118087769, 2.5917792320251465, -0.47181016206741333, 0.15328669548034668, 2.876537322998047, -0.5262811183929443, 0.13421612977981567, 3.161294460296631, -0.5807526111602783, 0.11514553427696228, 3.446052074432373, -0.6352238059043884, 0.09607496857643127]);\n",
              "//# sourceURL=js_48942d8303"
            ],
            "text/plain": [
              "<IPython.core.display.Javascript object>"
            ]
          },
          "metadata": {
            "tags": []
          }
        },
        {
          "output_type": "display_data",
          "data": {
            "application/javascript": [
              "window[\"375145ee-d159-11e9-8d65-0242ac1c0002\"] = window[\"35a4ade4-d159-11e9-8d65-0242ac1c0002\"].getAttribute(\"position\");\n",
              "//# sourceURL=js_75d8327249"
            ],
            "text/plain": [
              "<IPython.core.display.Javascript object>"
            ]
          },
          "metadata": {
            "tags": []
          }
        },
        {
          "output_type": "display_data",
          "data": {
            "application/javascript": [
              "window[\"375145ee-d159-11e9-8d65-0242ac1c0002\"].needsUpdate = true;\n",
              "//# sourceURL=js_141a1dc36c"
            ],
            "text/plain": [
              "<IPython.core.display.Javascript object>"
            ]
          },
          "metadata": {
            "tags": []
          }
        },
        {
          "output_type": "display_data",
          "data": {
            "application/javascript": [
              "window[\"37683a60-d159-11e9-8d65-0242ac1c0002\"] = window[\"35a4ade4-d159-11e9-8d65-0242ac1c0002\"].getAttribute(\"position\");\n",
              "//# sourceURL=js_e7e8f78d2b"
            ],
            "text/plain": [
              "<IPython.core.display.Javascript object>"
            ]
          },
          "metadata": {
            "tags": []
          }
        },
        {
          "output_type": "display_data",
          "data": {
            "application/javascript": [
              "window[\"37689d34-d159-11e9-8d65-0242ac1c0002\"] = window[\"37683a60-d159-11e9-8d65-0242ac1c0002\"].copyArray([-2.1974940299987793, -1.106801986694336, -0.03475792706012726, -1.8922370672225952, -1.1407005786895752, -0.058471545577049255, -1.5869795083999634, -1.1745991706848145, -0.08218517899513245, -1.2817227840423584, -1.2084977626800537, -0.10589879751205444, -0.9764655828475952, -1.242396354675293, -0.12961243093013763, -0.6712086200714111, -1.2762949466705322, -0.15332606434822083, -0.3659514784812927, -1.3101935386657715, -0.17703968286514282, -0.06069439649581909, -1.3440922498703003, -0.200753316283226, 0.24456271529197693, -1.3779908418655396, -0.224466934800148, 0.549819827079773, -1.4118894338607788, -0.2481805682182312, 0.8550769090652466, -1.445788025856018, -0.2718941867351532, 1.1603341102600098, -1.4796866178512573, -0.2956078350543976, 1.4655911922454834, -1.5135853290557861, -0.3193214535713196, 1.770848274230957, -1.5474839210510254, -0.3430350720882416, 2.0761051177978516, -1.5813825130462646, -0.3667486906051636, 2.3813624382019043, -1.615281105041504, -0.39046233892440796, 2.686619281768799, -1.6491796970367432, -0.41417595744132996, 2.9918766021728516, -1.6830782890319824, -0.43788957595825195, 3.297133445739746, -1.7169768810272217, -0.46160322427749634, -1.996102213859558, 0.3123072385787964, 0.5290716290473938, -1.6908451318740845, 0.27840864658355713, 0.5053580403327942, -1.3855878114700317, 0.24451005458831787, 0.4816443920135498, -1.0803310871124268, 0.2106114625930786, 0.4579308032989502, -0.7750736474990845, 0.17671287059783936, 0.43421709537506104, -0.4698166847229004, 0.1428142786026001, 0.4105035066604614, -0.16455966234207153, 0.10891568660736084, 0.3867899179458618, 0.1406974494457245, 0.07501697540283203, 0.36307621002197266, 0.4459545314311981, 0.04111838340759277, 0.33936262130737305, 0.7512116432189941, 0.007219910621643066, 0.31564897298812866, 1.0564687252044678, -0.026678800582885742, 0.29193538427352905, 1.3617258071899414, -0.060577392578125, 0.26822173595428467, 1.6669830083847046, -0.09447610378265381, 0.2445080578327179, 1.9722399711608887, -0.12837457656860352, 0.22079449892044067, 2.2774972915649414, -0.16227328777313232, 0.19708088040351868, 2.582754135131836, -0.19617187976837158, 0.1733672320842743, 2.8880109786987305, -0.23007047176361084, 0.1496535837650299, 3.193268299102783, -0.2639690637588501, 0.1259399950504303, 3.4985251426696777, -0.2978675365447998, 0.1022263765335083]);\n",
              "//# sourceURL=js_4b6c91e560"
            ],
            "text/plain": [
              "<IPython.core.display.Javascript object>"
            ]
          },
          "metadata": {
            "tags": []
          }
        },
        {
          "output_type": "display_data",
          "data": {
            "application/javascript": [
              "window[\"37696a0c-d159-11e9-8d65-0242ac1c0002\"] = window[\"35a4ade4-d159-11e9-8d65-0242ac1c0002\"].getAttribute(\"position\");\n",
              "//# sourceURL=js_61c5fe759d"
            ],
            "text/plain": [
              "<IPython.core.display.Javascript object>"
            ]
          },
          "metadata": {
            "tags": []
          }
        },
        {
          "output_type": "display_data",
          "data": {
            "application/javascript": [
              "window[\"37696a0c-d159-11e9-8d65-0242ac1c0002\"].needsUpdate = true;\n",
              "//# sourceURL=js_fee64f5e42"
            ],
            "text/plain": [
              "<IPython.core.display.Javascript object>"
            ]
          },
          "metadata": {
            "tags": []
          }
        },
        {
          "output_type": "display_data",
          "data": {
            "application/javascript": [
              "window[\"377e519c-d159-11e9-8d65-0242ac1c0002\"] = window[\"35a4ade4-d159-11e9-8d65-0242ac1c0002\"].getAttribute(\"position\");\n",
              "//# sourceURL=js_7508c3a613"
            ],
            "text/plain": [
              "<IPython.core.display.Javascript object>"
            ]
          },
          "metadata": {
            "tags": []
          }
        },
        {
          "output_type": "display_data",
          "data": {
            "application/javascript": [
              "window[\"377ea1c4-d159-11e9-8d65-0242ac1c0002\"] = window[\"377e519c-d159-11e9-8d65-0242ac1c0002\"].copyArray([-2.3810181617736816, -1.2432805299758911, 0.00709359347820282, -2.0602807998657227, -1.256949543952942, -0.017919406294822693, -1.7395433187484741, -1.2706186771392822, -0.0429324209690094, -1.4188058376312256, -1.284287691116333, -0.0679454356431961, -1.098068118095398, -1.2979567050933838, -0.09295843541622162, -0.7773306369781494, -1.3116258382797241, -0.11797145009040833, -0.4565930962562561, -1.325294852256775, -0.14298446476459503, -0.13585549592971802, -1.3389638662338257, -0.16799747943878174, 0.18488207459449768, -1.352632999420166, -0.19301047921180725, 0.5056196451187134, -1.3663020133972168, -0.21802349388599396, 0.8263572454452515, -1.3799710273742676, -0.24303650856018066, 1.1470947265625, -1.393640160560608, -0.2680495083332062, 1.467832326889038, -1.4073091745376587, -0.2930625081062317, 1.7885699272155762, -1.4209781885147095, -0.3180755376815796, 2.109307289123535, -1.4346473217010498, -0.3430885672569275, 2.4300451278686523, -1.4483163356781006, -0.3681015372276306, 2.7507824897766113, -1.4619853496551514, -0.3931145668029785, 3.0715203285217285, -1.4756544828414917, -0.4181275963783264, 3.3922572135925293, -1.4893234968185425, -0.44314056634902954, -2.273404121398926, 0.26369762420654297, 0.5634776949882507, -1.9526668787002563, 0.2500286102294922, 0.5384646654129028, -1.6319295167922974, 0.23635947704315186, 0.5134516358375549, -1.3111919164657593, 0.22269046306610107, 0.48843860626220703, -0.9904543161392212, 0.20902156829833984, 0.4634256362915039, -0.6697167158126831, 0.19535231590270996, 0.43841254711151123, -0.34897923469543457, 0.18168318271636963, 0.4133995771408081, -0.028241634368896484, 0.1680142879486084, 0.3883865475654602, 0.2924959063529968, 0.15434503555297852, 0.3633735775947571, 0.6132335066795349, 0.14067602157592773, 0.3383605480194092, 0.9339710474014282, 0.1270071268081665, 0.31334757804870605, 1.2547086477279663, 0.11333799362182617, 0.28833454847335815, 1.5754461288452148, 0.09966897964477539, 0.26332151889801025, 1.8961838483810425, 0.08599996566772461, 0.23830850422382355, 2.216921329498291, 0.07233071327209473, 0.21329544484615326, 2.537659168243408, 0.058661699295043945, 0.18828244507312775, 2.858396530151367, 0.044992685317993164, 0.16326947510242462, 3.179133892059326, 0.03132367134094238, 0.13825641572475433, 3.499871253967285, 0.0176546573638916, 0.11324344575405121]);\n",
              "//# sourceURL=js_95a319ad0f"
            ],
            "text/plain": [
              "<IPython.core.display.Javascript object>"
            ]
          },
          "metadata": {
            "tags": []
          }
        },
        {
          "output_type": "display_data",
          "data": {
            "application/javascript": [
              "window[\"377f4c78-d159-11e9-8d65-0242ac1c0002\"] = window[\"35a4ade4-d159-11e9-8d65-0242ac1c0002\"].getAttribute(\"position\");\n",
              "//# sourceURL=js_33d61669d5"
            ],
            "text/plain": [
              "<IPython.core.display.Javascript object>"
            ]
          },
          "metadata": {
            "tags": []
          }
        },
        {
          "output_type": "display_data",
          "data": {
            "application/javascript": [
              "window[\"377f4c78-d159-11e9-8d65-0242ac1c0002\"].needsUpdate = true;\n",
              "//# sourceURL=js_a40ee8699b"
            ],
            "text/plain": [
              "<IPython.core.display.Javascript object>"
            ]
          },
          "metadata": {
            "tags": []
          }
        },
        {
          "output_type": "display_data",
          "data": {
            "application/javascript": [
              "window[\"3793f060-d159-11e9-8d65-0242ac1c0002\"] = window[\"35a4ade4-d159-11e9-8d65-0242ac1c0002\"].getAttribute(\"position\");\n",
              "//# sourceURL=js_605bd1ce27"
            ],
            "text/plain": [
              "<IPython.core.display.Javascript object>"
            ]
          },
          "metadata": {
            "tags": []
          }
        },
        {
          "output_type": "display_data",
          "data": {
            "application/javascript": [
              "window[\"3794420e-d159-11e9-8d65-0242ac1c0002\"] = window[\"3793f060-d159-11e9-8d65-0242ac1c0002\"].copyArray([-2.509075164794922, -1.3719322681427002, 0.016829833388328552, -2.178870439529419, -1.3663398027420044, -0.006376728415489197, -1.848665714263916, -1.3607473373413086, -0.029583320021629333, -1.5184612274169922, -1.3551549911499023, -0.05278988182544708, -1.1882562637329102, -1.3495625257492065, -0.07599646598100662, -0.8580513596534729, -1.3439700603485107, -0.09920303523540497, -0.5278466939926147, -1.3383777141571045, -0.12240961194038391, -0.1976417899131775, -1.3327852487564087, -0.14561618864536285, 0.13256299495697021, -1.3271929025650024, -0.1688227653503418, 0.4627677798271179, -1.3216004371643066, -0.19202934205532074, 0.7929725646972656, -1.3160079717636108, -0.21523591876029968, 1.1231772899627686, -1.3104156255722046, -0.23844249546527863, 1.4533822536468506, -1.3048231601715088, -0.26164907217025757, 1.7835869789123535, -1.2992308139801025, -0.2848556637763977, 2.1137917041778564, -1.2936383485794067, -0.30806222558021545, 2.4439966678619385, -1.288045883178711, -0.3312687873840332, 2.7742013931274414, -1.2824535369873047, -0.35447537899017334, 3.1044061183929443, -1.2768610715866089, -0.3776819705963135, 3.4346108436584473, -1.271268606185913, -0.40088850259780884, -2.4985644817352295, 0.19701755046844482, 0.5444768071174622, -2.1683599948883057, 0.20260989665985107, 0.5212702751159668, -1.8381550312042236, 0.20820248126983643, 0.49806368350982666, -1.5079503059387207, 0.21379494667053223, 0.47485703229904175, -1.1777455806732178, 0.21938717365264893, 0.4516505002975464, -0.8475407958030701, 0.22497975826263428, 0.42844390869140625, -0.5173360109329224, 0.23057222366333008, 0.4052373766899109, -0.18713116645812988, 0.23616456985473633, 0.38203078508377075, 0.14307358860969543, 0.24175691604614258, 0.3588241934776306, 0.47327837347984314, 0.24734938144683838, 0.3356176018714905, 0.8034831285476685, 0.25294196605682373, 0.3124110698699951, 1.133687973022461, 0.25853419303894043, 0.289204478263855, 1.463892936706543, 0.26412665843963623, 0.26599788665771484, 1.7940974235534668, 0.2697192430496216, 0.24279136955738068, 2.1243021488189697, 0.27531158924102783, 0.21958477795124054, 2.454507350921631, 0.2809039354324341, 0.1963781863451004, 2.7847115993499756, 0.2864964008331299, 0.17317159473896027, 3.1149165630340576, 0.29208874702453613, 0.14996500313282013, 3.4451215267181396, 0.2976813316345215, 0.12675847113132477]);\n",
              "//# sourceURL=js_bcb9bb8da4"
            ],
            "text/plain": [
              "<IPython.core.display.Javascript object>"
            ]
          },
          "metadata": {
            "tags": []
          }
        },
        {
          "output_type": "display_data",
          "data": {
            "application/javascript": [
              "window[\"3794ef92-d159-11e9-8d65-0242ac1c0002\"] = window[\"35a4ade4-d159-11e9-8d65-0242ac1c0002\"].getAttribute(\"position\");\n",
              "//# sourceURL=js_96905c782e"
            ],
            "text/plain": [
              "<IPython.core.display.Javascript object>"
            ]
          },
          "metadata": {
            "tags": []
          }
        },
        {
          "output_type": "display_data",
          "data": {
            "application/javascript": [
              "window[\"3794ef92-d159-11e9-8d65-0242ac1c0002\"].needsUpdate = true;\n",
              "//# sourceURL=js_5f3465fd85"
            ],
            "text/plain": [
              "<IPython.core.display.Javascript object>"
            ]
          },
          "metadata": {
            "tags": []
          }
        },
        {
          "output_type": "display_data",
          "data": {
            "application/javascript": [
              "window[\"37a9c7e6-d159-11e9-8d65-0242ac1c0002\"] = window[\"35a4ade4-d159-11e9-8d65-0242ac1c0002\"].getAttribute(\"position\");\n",
              "//# sourceURL=js_eae810a379"
            ],
            "text/plain": [
              "<IPython.core.display.Javascript object>"
            ]
          },
          "metadata": {
            "tags": []
          }
        },
        {
          "output_type": "display_data",
          "data": {
            "application/javascript": [
              "window[\"37aa189a-d159-11e9-8d65-0242ac1c0002\"] = window[\"37a9c7e6-d159-11e9-8d65-0242ac1c0002\"].copyArray([-2.5801916122436523, -1.4879120588302612, 0.0002485811710357666, -2.2466721534729004, -1.4645695686340332, -0.018664881587028503, -1.913152813911438, -1.4412270784378052, -0.03757837414741516, -1.5796335935592651, -1.4178845882415771, -0.05649183690547943, -1.2461142539978027, -1.3945420980453491, -0.07540533691644669, -0.9125946760177612, -1.371199607849121, -0.09431881457567215, -0.5790753364562988, -1.347857117652893, -0.11323229223489761, -0.24555587768554688, -1.324514627456665, -0.13214577734470367, 0.0879635214805603, -1.301172137260437, -0.15105926990509033, 0.4214829206466675, -1.277829647064209, -0.1699727475643158, 0.7550023198127747, -1.254487156867981, -0.18888622522354126, 1.0885217189788818, -1.231144666671753, -0.20779971778392792, 1.4220411777496338, -1.207802176475525, -0.22671321034431458, 1.7555605173110962, -1.1844596862792969, -0.24562668800354004, 2.0890800952911377, -1.1611171960830688, -0.2645401656627655, 2.4225993156433105, -1.1377747058868408, -0.28345364332199097, 2.7561187744140625, -1.1144322156906128, -0.30236712098121643, 3.0896382331848145, -1.0910897254943848, -0.3212805986404419, 3.423157215118408, -1.0677472352981567, -0.34019407629966736, -2.665093421936035, 0.11396133899688721, 0.4800797402858734, -2.3315744400024414, 0.13730382919311523, 0.46116629242897034, -1.9980548620224, 0.1606464385986328, 0.44225284457206726, -1.664535641670227, 0.18398892879486084, 0.42333927750587463, -1.3310160636901855, 0.20733141899108887, 0.40442582964897156, -0.9974967241287231, 0.23067378997802734, 0.3855123817920685, -0.6639772653579712, 0.2540163993835449, 0.36659887433052063, -0.33045774698257446, 0.2773587703704834, 0.347685307264328, 0.003061652183532715, 0.3007012605667114, 0.3287718892097473, 0.3365809917449951, 0.324043869972229, 0.30985838174819946, 0.6701004505157471, 0.34738636016845703, 0.2909449636936188, 1.003619909286499, 0.3707287311553955, 0.2720314562320709, 1.337139368057251, 0.39407122135162354, 0.25311794877052307, 1.6706587076187134, 0.41741371154785156, 0.2342044711112976, 2.004178047180176, 0.4407562017440796, 0.21529099345207214, 2.337697744369507, 0.4640986919403076, 0.19637751579284668, 2.6712169647216797, 0.48744118213653564, 0.17746400833129883, 3.0047364234924316, 0.5107836723327637, 0.15855056047439575, 3.3382554054260254, 0.5341261625289917, 0.1396370828151703]);\n",
              "//# sourceURL=js_e78eacb4d5"
            ],
            "text/plain": [
              "<IPython.core.display.Javascript object>"
            ]
          },
          "metadata": {
            "tags": []
          }
        },
        {
          "output_type": "display_data",
          "data": {
            "application/javascript": [
              "window[\"37aacbd2-d159-11e9-8d65-0242ac1c0002\"] = window[\"35a4ade4-d159-11e9-8d65-0242ac1c0002\"].getAttribute(\"position\");\n",
              "//# sourceURL=js_4a58d942c5"
            ],
            "text/plain": [
              "<IPython.core.display.Javascript object>"
            ]
          },
          "metadata": {
            "tags": []
          }
        },
        {
          "output_type": "display_data",
          "data": {
            "application/javascript": [
              "window[\"37aacbd2-d159-11e9-8d65-0242ac1c0002\"].needsUpdate = true;\n",
              "//# sourceURL=js_c7878b34af"
            ],
            "text/plain": [
              "<IPython.core.display.Javascript object>"
            ]
          },
          "metadata": {
            "tags": []
          }
        },
        {
          "output_type": "display_data",
          "data": {
            "application/javascript": [
              "window[\"37bee086-d159-11e9-8d65-0242ac1c0002\"] = window[\"35a4ade4-d159-11e9-8d65-0242ac1c0002\"].getAttribute(\"position\");\n",
              "//# sourceURL=js_026e59a46e"
            ],
            "text/plain": [
              "<IPython.core.display.Javascript object>"
            ]
          },
          "metadata": {
            "tags": []
          }
        },
        {
          "output_type": "display_data",
          "data": {
            "application/javascript": [
              "window[\"37bf337e-d159-11e9-8d65-0242ac1c0002\"] = window[\"37bee086-d159-11e9-8d65-0242ac1c0002\"].copyArray([-2.600435256958008, -1.5875916481018066, -0.03445814549922943, -2.269054889678955, -1.548414945602417, -0.047451794147491455, -1.937674880027771, -1.5092382431030273, -0.06044544279575348, -1.6062946319580078, -1.4700615406036377, -0.0734390914440155, -1.2749143838882446, -1.430884838104248, -0.08643274009227753, -0.9435340166091919, -1.3917081356048584, -0.09942638874053955, -0.6121538281440735, -1.3525314331054688, -0.11242003738880157, -0.2807735204696655, -1.313354730606079, -0.1254136860370636, 0.050606727600097656, -1.2741780281066895, -0.13840733468532562, 0.38198697566986084, -1.2350013256072998, -0.15140098333358765, 0.713367223739624, -1.1958246231079102, -0.16439463198184967, 1.0447474718093872, -1.1566479206085205, -0.1773882806301117, 1.3761277198791504, -1.1174712181091309, -0.19038192927837372, 1.7075079679489136, -1.0782945156097412, -0.20337557792663574, 2.038888454437256, -1.0391178131103516, -0.21636922657489777, 2.3702685832977295, -0.9999410510063171, -0.2293628752231598, 2.701648712158203, -0.9607643485069275, -0.24235652387142181, 3.033029079437256, -0.9215876460075378, -0.25535017251968384, 3.3644094467163086, -0.8824109435081482, -0.26834380626678467, -2.7741293907165527, 0.019878506660461426, 0.3824149966239929, -2.4427490234375, 0.059055209159851074, 0.3694213032722473, -2.1113686561584473, 0.09823203086853027, 0.3564276695251465, -1.779988408088684, 0.13740849494934082, 0.34343403577804565, -1.4486082792282104, 0.17658531665802002, 0.33044037222862244, -1.1172280311584473, 0.21576213836669922, 0.317446768283844, -0.7858476638793945, 0.25493884086608887, 0.30445313453674316, -0.4544673562049866, 0.2941155433654785, 0.29145947098731995, -0.12308704853057861, 0.33329224586486816, 0.2784658372402191, 0.20829319953918457, 0.3724689483642578, 0.2654722034931183, 0.5396734476089478, 0.41164565086364746, 0.25247853994369507, 0.8710536956787109, 0.45082223415374756, 0.23948487639427185, 1.2024340629577637, 0.4899989366531372, 0.22649124264717102, 1.5338141918182373, 0.5291756391525269, 0.2134975790977478, 1.865194320678711, 0.568352460861206, 0.20050394535064697, 2.1965746879577637, 0.6075291633605957, 0.18751028180122375, 2.5279550552368164, 0.6467058658599854, 0.17451664805412292, 2.859335422515869, 0.6858826875686646, 0.1615230143070221, 3.190715789794922, 0.7250593900680542, 0.14852935075759888]);\n",
              "//# sourceURL=js_615965cbba"
            ],
            "text/plain": [
              "<IPython.core.display.Javascript object>"
            ]
          },
          "metadata": {
            "tags": []
          }
        },
        {
          "output_type": "display_data",
          "data": {
            "application/javascript": [
              "window[\"37bfb95c-d159-11e9-8d65-0242ac1c0002\"] = window[\"35a4ade4-d159-11e9-8d65-0242ac1c0002\"].getAttribute(\"position\");\n",
              "//# sourceURL=js_02f2a93c71"
            ],
            "text/plain": [
              "<IPython.core.display.Javascript object>"
            ]
          },
          "metadata": {
            "tags": []
          }
        },
        {
          "output_type": "display_data",
          "data": {
            "application/javascript": [
              "window[\"37bfb95c-d159-11e9-8d65-0242ac1c0002\"].needsUpdate = true;\n",
              "//# sourceURL=js_42d9ca6446"
            ],
            "text/plain": [
              "<IPython.core.display.Javascript object>"
            ]
          },
          "metadata": {
            "tags": []
          }
        },
        {
          "output_type": "display_data",
          "data": {
            "application/javascript": [
              "window[\"37d42054-d159-11e9-8d65-0242ac1c0002\"] = window[\"35a4ade4-d159-11e9-8d65-0242ac1c0002\"].getAttribute(\"position\");\n",
              "//# sourceURL=js_f7c60c387d"
            ],
            "text/plain": [
              "<IPython.core.display.Javascript object>"
            ]
          },
          "metadata": {
            "tags": []
          }
        },
        {
          "output_type": "display_data",
          "data": {
            "application/javascript": [
              "window[\"37d4745a-d159-11e9-8d65-0242ac1c0002\"] = window[\"37d42054-d159-11e9-8d65-0242ac1c0002\"].copyArray([-2.579702138900757, -1.6687393188476562, -0.07836674898862839, -2.2547919750213623, -1.6158902645111084, -0.08473727107048035, -1.9298816919326782, -1.5630409717559814, -0.0911078080534935, -1.6049715280532837, -1.5101919174194336, -0.09747833013534546, -1.28006112575531, -1.4573426246643066, -0.10384886711835861, -0.9551507234573364, -1.4044934511184692, -0.11021939665079117, -0.6302404403686523, -1.3516442775726318, -0.11658992618322372, -0.3053300082683563, -1.2987949848175049, -0.12296046316623688, 0.019580334424972534, -1.2459458112716675, -0.12933099269866943, 0.3444906771183014, -1.19309663772583, -0.135701522231102, 0.6694010496139526, -1.1402474641799927, -0.14207205176353455, 0.9943113327026367, -1.0873982906341553, -0.1484425812959671, 1.3192217350006104, -1.0345489978790283, -0.15481311082839966, 1.6441320180892944, -0.9816998243331909, -0.1611836552619934, 1.969042420387268, -0.9288506507873535, -0.16755416989326477, 2.2939529418945312, -0.8760014176368713, -0.17392471432685852, 2.618863105773926, -0.8231523036956787, -0.18029522895812988, 2.9437735080718994, -0.7703030109405518, -0.18666577339172363, 3.268683671951294, -0.7174539566040039, -0.193036288022995, -2.8316144943237305, -0.07860350608825684, 0.26516956090927124, -2.506704330444336, -0.025754451751708984, 0.2587989568710327, -2.1817939281463623, 0.027094721794128418, 0.25242847204208374, -1.8568838834762573, 0.07994401454925537, 0.24605794250965118, -1.5319733619689941, 0.13279306888580322, 0.23968733847141266, -1.207062840461731, 0.18564236164093018, 0.23331685364246368, -0.8821526765823364, 0.23849153518676758, 0.22694633901119232, -0.5572422742843628, 0.2913409471511841, 0.22057576477527618, -0.23233196139335632, 0.3441898822784424, 0.21420525014400482, 0.09257844090461731, 0.39703917503356934, 0.20783470571041107, 0.41748881340026855, 0.4498884677886963, 0.2014642208814621, 0.7423991560935974, 0.5027374029159546, 0.19509364664554596, 1.0673094987869263, 0.5555866956710815, 0.1887231022119522, 1.3922197818756104, 0.608435869216919, 0.18235261738300323, 1.7171299457550049, 0.6612852811813354, 0.17598207294940948, 2.0420405864715576, 0.7141342163085938, 0.16961152851581573, 2.366950750350952, 0.7669835090637207, 0.16324101388454437, 2.691861152648926, 0.8198328018188477, 0.15687046945095062, 3.0167715549468994, 0.8726818561553955, 0.15049995481967926]);\n",
              "//# sourceURL=js_5965e520a5"
            ],
            "text/plain": [
              "<IPython.core.display.Javascript object>"
            ]
          },
          "metadata": {
            "tags": []
          }
        },
        {
          "output_type": "display_data",
          "data": {
            "application/javascript": [
              "window[\"37d4d166-d159-11e9-8d65-0242ac1c0002\"] = window[\"35a4ade4-d159-11e9-8d65-0242ac1c0002\"].getAttribute(\"position\");\n",
              "//# sourceURL=js_f5a67a2ff8"
            ],
            "text/plain": [
              "<IPython.core.display.Javascript object>"
            ]
          },
          "metadata": {
            "tags": []
          }
        },
        {
          "output_type": "display_data",
          "data": {
            "application/javascript": [
              "window[\"37d4d166-d159-11e9-8d65-0242ac1c0002\"].needsUpdate = true;\n",
              "//# sourceURL=js_5f37b1c783"
            ],
            "text/plain": [
              "<IPython.core.display.Javascript object>"
            ]
          },
          "metadata": {
            "tags": []
          }
        },
        {
          "output_type": "display_data",
          "data": {
            "application/javascript": [
              "window[\"37e8b762-d159-11e9-8d65-0242ac1c0002\"] = window[\"35a4ade4-d159-11e9-8d65-0242ac1c0002\"].getAttribute(\"position\");\n",
              "//# sourceURL=js_82479a4315"
            ],
            "text/plain": [
              "<IPython.core.display.Javascript object>"
            ]
          },
          "metadata": {
            "tags": []
          }
        },
        {
          "output_type": "display_data",
          "data": {
            "application/javascript": [
              "window[\"37e90ba4-d159-11e9-8d65-0242ac1c0002\"] = window[\"37e8b762-d159-11e9-8d65-0242ac1c0002\"].copyArray([-2.5285401344299316, -1.7302989959716797, -0.12306289374828339, -2.213237762451172, -1.6660516262054443, -0.12296402454376221, -1.8979357481002808, -1.601804256439209, -0.12286515533924103, -1.5826338529586792, -1.5375568866729736, -0.12276629358530045, -1.2673314809799194, -1.4733093976974487, -0.12266742438077927, -0.9520293474197388, -1.4090619087219238, -0.12256855517625809, -0.6367273330688477, -1.3448145389556885, -0.12246968597173691, -0.32142505049705505, -1.2805671691894531, -0.12237082421779633, -0.00612291693687439, -1.2163196802139282, -0.12227195501327515, 0.3091792166233063, -1.1520723104476929, -0.12217308580875397, 0.6244813203811646, -1.0878249406814575, -0.12207421660423279, 0.9397834539413452, -1.0235774517059326, -0.12197534739971161, 1.2550857067108154, -0.9593300223350525, -0.12187648564577103, 1.5703877210617065, -0.8950826525688171, -0.12177761644124985, 1.8856898546218872, -0.830835223197937, -0.12167874723672867, 2.2009923458099365, -0.7665877342224121, -0.12157987803220749, 2.516294240951538, -0.7023403644561768, -0.1214810162782669, 2.8315963745117188, -0.6380929946899414, -0.12138214707374573, 3.1468987464904785, -0.5738455653190613, -0.12128327786922455, -2.845477342605591, -0.17529821395874023, 0.14170639216899872, -2.530174970626831, -0.11105084419250488, 0.1418052762746811, -2.2148728370666504, -0.04680323600769043, 0.14190416038036346, -1.8995710611343384, 0.01744401454925537, 0.14200304448604584, -1.5842688083648682, 0.08169150352478027, 0.14210189878940582, -1.2689666748046875, 0.14593887329101562, 0.1422007828950882, -0.9536645412445068, 0.21018624305725098, 0.1422996073961258, -0.6383622884750366, 0.2744337320327759, 0.14239852130413055, -0.32306012511253357, 0.3386812210083008, 0.14249737560749054, -0.007757991552352905, 0.4029287099838257, 0.14259622991085052, 0.30754420161247253, 0.4671759605407715, 0.1426951140165329, 0.6228463649749756, 0.5314235687255859, 0.14279396831989288, 0.9381484985351562, 0.5956709384918213, 0.14289282262325287, 1.2534507513046265, 0.6599184274673462, 0.14299167692661285, 1.5687527656555176, 0.724165678024292, 0.14309056103229523, 1.8840550184249878, 0.7884132862091064, 0.1431894451379776, 2.199357032775879, 0.8526607751846313, 0.1432882696390152, 2.5146594047546387, 0.9169079065322876, 0.14338718354701996, 2.8299617767333984, 0.981155276298523, 0.14348603785037994]);\n",
              "//# sourceURL=js_5f9696640d"
            ],
            "text/plain": [
              "<IPython.core.display.Javascript object>"
            ]
          },
          "metadata": {
            "tags": []
          }
        },
        {
          "output_type": "display_data",
          "data": {
            "application/javascript": [
              "window[\"37e962e8-d159-11e9-8d65-0242ac1c0002\"] = window[\"35a4ade4-d159-11e9-8d65-0242ac1c0002\"].getAttribute(\"position\");\n",
              "//# sourceURL=js_2b66f94f1a"
            ],
            "text/plain": [
              "<IPython.core.display.Javascript object>"
            ]
          },
          "metadata": {
            "tags": []
          }
        },
        {
          "output_type": "display_data",
          "data": {
            "application/javascript": [
              "window[\"37e962e8-d159-11e9-8d65-0242ac1c0002\"].needsUpdate = true;\n",
              "//# sourceURL=js_f631baac51"
            ],
            "text/plain": [
              "<IPython.core.display.Javascript object>"
            ]
          },
          "metadata": {
            "tags": []
          }
        },
        {
          "output_type": "display_data",
          "data": {
            "application/javascript": [
              "window[\"37fe9ef6-d159-11e9-8d65-0242ac1c0002\"] = window[\"35a4ade4-d159-11e9-8d65-0242ac1c0002\"].getAttribute(\"position\");\n",
              "//# sourceURL=js_26046f0199"
            ],
            "text/plain": [
              "<IPython.core.display.Javascript object>"
            ]
          },
          "metadata": {
            "tags": []
          }
        },
        {
          "output_type": "display_data",
          "data": {
            "application/javascript": [
              "window[\"37fef888-d159-11e9-8d65-0242ac1c0002\"] = window[\"37fe9ef6-d159-11e9-8d65-0242ac1c0002\"].copyArray([-2.4566609859466553, -1.7720468044281006, -0.16142494976520538, -2.1530098915100098, -1.6986936330795288, -0.15572111308574677, -1.849358320236206, -1.625340461730957, -0.15001727640628815, -1.545707106590271, -1.5519872903823853, -0.14431345462799072, -1.2420557737350464, -1.478633999824524, -0.1386096179485321, -0.9384045600891113, -1.4052808284759521, -0.1329057663679123, -0.6347531080245972, -1.3319276571273804, -0.12720194458961487, -0.3311018645763397, -1.2585744857788086, -0.12149810045957565, -0.027450531721115112, -1.1852211952209473, -0.11579426378011703, 0.2762008011341095, -1.1118680238723755, -0.11009042710065842, 0.5798521041870117, -1.0385148525238037, -0.1043865904211998, 0.8835034370422363, -0.9651616215705872, -0.09868275374174118, 1.187154769897461, -0.8918083906173706, -0.09297891706228256, 1.4908061027526855, -0.8184552192687988, -0.08727508038282394, 1.7944573163986206, -0.745102047920227, -0.08157124370336533, 2.0981087684631348, -0.6717487573623657, -0.07586740702390671, 2.4017598628997803, -0.598395586013794, -0.07016357779502869, 2.705411434173584, -0.5250424146652222, -0.06445974111557007, 3.0090625286102295, -0.4516892433166504, -0.05875590071082115, -2.824186086654663, -0.26505738496780396, 0.0238892063498497, -2.5205347537994385, -0.19170409440994263, 0.029593028128147125, -2.216883659362793, -0.11835092306137085, 0.03529687970876694, -1.9132325649261475, -0.04499781131744385, 0.041000716388225555, -1.6095809936523438, 0.02835559844970703, 0.046704553067684174, -1.3059296607971191, 0.10170865058898926, 0.0524083748459816, -1.002278447151184, 0.17506194114685059, 0.058112211525440216, -0.6986271142959595, 0.24841487407684326, 0.06381604820489883, -0.3949757516384125, 0.3217684030532837, 0.06951988488435745, -0.09132444858551025, 0.39512157440185547, 0.07522373646497726, 0.21232691407203674, 0.46847474575042725, 0.08092757314443588, 0.515978217124939, 0.5418280363082886, 0.0866314098238945, 0.8196295499801636, 0.6151810884475708, 0.09233523160219193, 1.1232807636260986, 0.6885342597961426, 0.09803906828165054, 1.4269322156906128, 0.7618874311447144, 0.10374290496110916, 1.7305834293365479, 0.8352408409118652, 0.10944674164056778, 2.0342347621917725, 0.9085937738418579, 0.1151505783200264, 2.337886333465576, 0.9819470643997192, 0.12085441499948502, 2.6415371894836426, 1.0553005933761597, 0.12655827403068542]);\n",
              "//# sourceURL=js_1a49607deb"
            ],
            "text/plain": [
              "<IPython.core.display.Javascript object>"
            ]
          },
          "metadata": {
            "tags": []
          }
        },
        {
          "output_type": "display_data",
          "data": {
            "application/javascript": [
              "window[\"37ff571a-d159-11e9-8d65-0242ac1c0002\"] = window[\"35a4ade4-d159-11e9-8d65-0242ac1c0002\"].getAttribute(\"position\");\n",
              "//# sourceURL=js_2121551ad9"
            ],
            "text/plain": [
              "<IPython.core.display.Javascript object>"
            ]
          },
          "metadata": {
            "tags": []
          }
        },
        {
          "output_type": "display_data",
          "data": {
            "application/javascript": [
              "window[\"37ff571a-d159-11e9-8d65-0242ac1c0002\"].needsUpdate = true;\n",
              "//# sourceURL=js_6b4e285bee"
            ],
            "text/plain": [
              "<IPython.core.display.Javascript object>"
            ]
          },
          "metadata": {
            "tags": []
          }
        },
        {
          "output_type": "display_data",
          "data": {
            "application/javascript": [
              "window[\"3814d1d0-d159-11e9-8d65-0242ac1c0002\"] = window[\"35a4ade4-d159-11e9-8d65-0242ac1c0002\"].getAttribute(\"position\");\n",
              "//# sourceURL=js_464c14473f"
            ],
            "text/plain": [
              "<IPython.core.display.Javascript object>"
            ]
          },
          "metadata": {
            "tags": []
          }
        },
        {
          "output_type": "display_data",
          "data": {
            "application/javascript": [
              "window[\"38155a38-d159-11e9-8d65-0242ac1c0002\"] = window[\"3814d1d0-d159-11e9-8d65-0242ac1c0002\"].copyArray([-2.372471809387207, -1.794311285018921, -0.1881662905216217, -2.081568479537964, -1.7141004800796509, -0.178232342004776, -1.7906652688980103, -1.6338895559310913, -0.1682983785867691, -1.499761939048767, -1.5536787509918213, -0.1583644300699234, -1.2088584899902344, -1.4734679460525513, -0.1484304815530777, -0.9179549217224121, -1.3932571411132812, -0.138496533036232, -0.627051591873169, -1.3130462169647217, -0.1285625845193863, -0.33614805340766907, -1.2328354120254517, -0.11862862855195999, -0.04524463415145874, -1.152624487876892, -0.10869467258453369, 0.2456587851047516, -1.072413682937622, -0.09876072406768799, 0.5365622043609619, -0.9922028183937073, -0.08882677555084229, 0.8274656534194946, -0.9119919538497925, -0.07889281958341599, 1.1183691024780273, -0.8317811489105225, -0.06895887106657028, 1.4092724323272705, -0.7515702843666077, -0.05902491509914398, 1.7001760005950928, -0.6713594198226929, -0.04909097030758858, 1.9910794496536255, -0.5911486148834229, -0.03915701434016228, 2.281982898712158, -0.5109378099441528, -0.029223069548606873, 2.5728862285614014, -0.43072688579559326, -0.019289106130599976, 2.8637895584106445, -0.35051608085632324, -0.00935516506433487, -2.7761590480804443, -0.34379392862319946, -0.07876884192228317, -2.485255479812622, -0.2635831832885742, -0.06883489340543747, -2.194352149963379, -0.18337225914001465, -0.05890094116330147, -1.9034489393234253, -0.1031615138053894, -0.04896699637174606, -1.6125454902648926, -0.02295053005218506, -0.03903304412961006, -1.3216421604156494, 0.05726039409637451, -0.02909909188747406, -1.0307387113571167, 0.13747107982635498, -0.01916513592004776, -0.739835262298584, 0.217681884765625, -0.009231187403202057, -0.44893184304237366, 0.29789280891418457, 0.0007027536630630493, -0.15802833437919617, 0.3781036138534546, 0.010636717081069946, 0.13287504017353058, 0.45831453800201416, 0.020570673048496246, 0.4237784743309021, 0.5385254621505737, 0.030504614114761353, 0.7146819829940796, 0.6187360286712646, 0.040438562631607056, 1.0055853128433228, 0.6989469528198242, 0.05037251114845276, 1.2964887619018555, 0.7791579961776733, 0.060306474566459656, 1.5873922109603882, 0.8593688011169434, 0.07024042308330536, 1.8782955408096313, 0.9395797252655029, 0.08017438650131226, 2.169198989868164, 1.0197904109954834, 0.09010833501815796, 2.4601023197174072, 1.100001335144043, 0.10004226863384247]);\n",
              "//# sourceURL=js_cf146df082"
            ],
            "text/plain": [
              "<IPython.core.display.Javascript object>"
            ]
          },
          "metadata": {
            "tags": []
          }
        },
        {
          "output_type": "display_data",
          "data": {
            "application/javascript": [
              "window[\"38160032-d159-11e9-8d65-0242ac1c0002\"] = window[\"35a4ade4-d159-11e9-8d65-0242ac1c0002\"].getAttribute(\"position\");\n",
              "//# sourceURL=js_5aadeeb6b1"
            ],
            "text/plain": [
              "<IPython.core.display.Javascript object>"
            ]
          },
          "metadata": {
            "tags": []
          }
        },
        {
          "output_type": "display_data",
          "data": {
            "application/javascript": [
              "window[\"38160032-d159-11e9-8d65-0242ac1c0002\"].needsUpdate = true;\n",
              "//# sourceURL=js_96873c73e3"
            ],
            "text/plain": [
              "<IPython.core.display.Javascript object>"
            ]
          },
          "metadata": {
            "tags": []
          }
        },
        {
          "output_type": "display_data",
          "data": {
            "application/javascript": [
              "window[\"382b7b10-d159-11e9-8d65-0242ac1c0002\"] = window[\"35a4ade4-d159-11e9-8d65-0242ac1c0002\"].getAttribute(\"position\");\n",
              "//# sourceURL=js_e134bd5018"
            ],
            "text/plain": [
              "<IPython.core.display.Javascript object>"
            ]
          },
          "metadata": {
            "tags": []
          }
        },
        {
          "output_type": "display_data",
          "data": {
            "application/javascript": [
              "window[\"382bcb88-d159-11e9-8d65-0242ac1c0002\"] = window[\"382b7b10-d159-11e9-8d65-0242ac1c0002\"].copyArray([-2.282993793487549, -1.7978240251541138, -0.20019368827342987, -2.0051493644714355, -1.7129141092300415, -0.18768015503883362, -1.7273045778274536, -1.6280043125152588, -0.17516657710075378, -1.4494599103927612, -1.5430943965911865, -0.16265302896499634, -1.1716151237487793, -1.4581845998764038, -0.1501394808292389, -0.8937704563140869, -1.373274803161621, -0.13762593269348145, -0.615925669670105, -1.2883648872375488, -0.125112384557724, -0.3380809426307678, -1.2034550905227661, -0.11259882897138596, -0.06023617088794708, -1.1185451745986938, -0.10008528083562851, 0.21760858595371246, -1.0336353778839111, -0.08757172524929047, 0.4954533576965332, -0.9487255215644836, -0.07505816966295242, 0.7732980847358704, -0.8638156652450562, -0.06254462152719498, 1.0511428117752075, -0.7789058685302734, -0.05003106966614723, 1.3289875984191895, -0.693996012210846, -0.03751751407980919, 1.6068322658538818, -0.6090861558914185, -0.025003962218761444, 1.8846770524978638, -0.524176299571991, -0.012490414083003998, 2.1625218391418457, -0.4392664432525635, 2.3134052753448486e-05, 2.440366744995117, -0.35435664653778076, 0.012536697089672089, 2.7182111740112305, -0.2694467306137085, 0.025050237774848938, -2.709437847137451, -0.4083603024482727, -0.1597498655319214, -2.431593418121338, -0.32345062494277954, -0.14723630249500275, -2.1537487506866455, -0.23854070901870728, -0.1347227543592453, -1.8759039640426636, -0.15363091230392456, -0.12220920622348785, -1.5980591773986816, -0.0687209963798523, -0.10969565063714981, -1.3202145099639893, 0.016188740730285645, -0.09718210250139236, -1.0423698425292969, 0.10109877586364746, -0.08466854691505432, -0.7645249366760254, 0.18600845336914062, -0.07215499132871628, -0.48668020963668823, 0.2709183692932129, -0.05964143946766853, -0.20883546769618988, 0.3558281660079956, -0.04712788760662079, 0.06900930404663086, 0.44073808193206787, -0.03461433947086334, 0.346854031085968, 0.5256478786468506, -0.0221007838845253, 0.62469881772995, 0.6105576753616333, -0.009587228298187256, 0.9025434851646423, 0.6954677104949951, 0.0029263198375701904, 1.180388331413269, 0.7803775072097778, 0.015439867973327637, 1.458233118057251, 0.8652873039245605, 0.027953431010246277, 1.736077904701233, 0.9501969814300537, 0.04046697914600372, 2.013922691345215, 1.035106897354126, 0.05298052728176117, 2.2917673587799072, 1.1200168132781982, 0.06549409031867981]);\n",
              "//# sourceURL=js_da0e02a98a"
            ],
            "text/plain": [
              "<IPython.core.display.Javascript object>"
            ]
          },
          "metadata": {
            "tags": []
          }
        },
        {
          "output_type": "display_data",
          "data": {
            "application/javascript": [
              "window[\"382c8d3e-d159-11e9-8d65-0242ac1c0002\"] = window[\"35a4ade4-d159-11e9-8d65-0242ac1c0002\"].getAttribute(\"position\");\n",
              "//# sourceURL=js_34ad567890"
            ],
            "text/plain": [
              "<IPython.core.display.Javascript object>"
            ]
          },
          "metadata": {
            "tags": []
          }
        },
        {
          "output_type": "display_data",
          "data": {
            "application/javascript": [
              "window[\"382c8d3e-d159-11e9-8d65-0242ac1c0002\"].needsUpdate = true;\n",
              "//# sourceURL=js_83c608d1a7"
            ],
            "text/plain": [
              "<IPython.core.display.Javascript object>"
            ]
          },
          "metadata": {
            "tags": []
          }
        },
        {
          "output_type": "display_data",
          "data": {
            "application/javascript": [
              "window[\"38424b56-d159-11e9-8d65-0242ac1c0002\"] = window[\"35a4ade4-d159-11e9-8d65-0242ac1c0002\"].getAttribute(\"position\");\n",
              "//# sourceURL=js_3eb90db05a"
            ],
            "text/plain": [
              "<IPython.core.display.Javascript object>"
            ]
          },
          "metadata": {
            "tags": []
          }
        },
        {
          "output_type": "display_data",
          "data": {
            "application/javascript": [
              "window[\"38429d54-d159-11e9-8d65-0242ac1c0002\"] = window[\"38424b56-d159-11e9-8d65-0242ac1c0002\"].copyArray([-2.193885326385498, -1.7836909294128418, -0.19667106866836548, -1.9287806749343872, -1.6961100101470947, -0.18326646089553833, -1.6636755466461182, -1.6085288524627686, -0.16986185312271118, -1.3985707759857178, -1.5209476947784424, -0.15645721554756165, -1.1334657669067383, -1.4333665370941162, -0.1430526077747345, -0.8683609962463379, -1.3457854986190796, -0.12964798510074615, -0.6032559871673584, -1.2582043409347534, -0.11624336242675781, -0.33815112709999084, -1.1706231832504272, -0.10283873975276947, -0.07304620742797852, -1.0830421447753906, -0.08943412452936172, 0.1920587122440338, -0.9954609870910645, -0.07602950185537338, 0.45716363191604614, -0.9078798890113831, -0.06262487918138504, 0.7222685813903809, -0.8202987313270569, -0.049220263957977295, 0.9873734712600708, -0.7327176332473755, -0.03581564128398895, 1.2524783611297607, -0.6451364755630493, -0.02241102233529091, 1.5175831317901611, -0.5575554370880127, -0.009006403386592865, 1.7826881408691406, -0.4699742794036865, 0.004398219287395477, 2.047792911529541, -0.3823931813240051, 0.01780284196138382, 2.3128981590270996, -0.29481202363967896, 0.031207457184791565, 2.5780029296875, -0.2072310447692871, 0.04461206495761871, -2.6313812732696533, -0.456476092338562, -0.21582159399986267, -2.3662760257720947, -0.3688949942588806, -0.20241698622703552, -2.1011710166931152, -0.28131383657455444, -0.189012348651886, -1.8360666036605835, -0.19373279809951782, -0.17560774087905884, -1.570961356163025, -0.10615170001983643, -0.1622031182050705, -1.3058565855026245, -0.018570542335510254, -0.14879849553108215, -1.0407518148422241, 0.06901061534881592, -0.1353938728570938, -0.7756468057632446, 0.15659165382385254, -0.12198925018310547, -0.5105419158935547, 0.24417269229888916, -0.10858462750911713, -0.24543699622154236, 0.33175384998321533, -0.09518001228570938, 0.019667938351631165, 0.41933512687683105, -0.08177538961172104, 0.2847728431224823, 0.5069161653518677, -0.0683707743883133, 0.5498777627944946, 0.5944972038269043, -0.05496615171432495, 0.8149826526641846, 0.6820782423019409, -0.04156153276562691, 1.0800875425338745, 0.7696592807769775, -0.028156913816928864, 1.345192551612854, 0.8572405576705933, -0.014752287417650223, 1.6102972030639648, 0.9448217153549194, -0.0013476759195327759, 1.8754022121429443, 1.032402753829956, 0.012056954205036163, 2.1405069828033447, 1.1199836730957031, 0.025461561977863312]);\n",
              "//# sourceURL=js_3bad20bfc0"
            ],
            "text/plain": [
              "<IPython.core.display.Javascript object>"
            ]
          },
          "metadata": {
            "tags": []
          }
        },
        {
          "output_type": "display_data",
          "data": {
            "application/javascript": [
              "window[\"38435af0-d159-11e9-8d65-0242ac1c0002\"] = window[\"35a4ade4-d159-11e9-8d65-0242ac1c0002\"].getAttribute(\"position\");\n",
              "//# sourceURL=js_8a24456c6d"
            ],
            "text/plain": [
              "<IPython.core.display.Javascript object>"
            ]
          },
          "metadata": {
            "tags": []
          }
        },
        {
          "output_type": "display_data",
          "data": {
            "application/javascript": [
              "window[\"38435af0-d159-11e9-8d65-0242ac1c0002\"].needsUpdate = true;\n",
              "//# sourceURL=js_c5030dd142"
            ],
            "text/plain": [
              "<IPython.core.display.Javascript object>"
            ]
          },
          "metadata": {
            "tags": []
          }
        },
        {
          "output_type": "display_data",
          "data": {
            "application/javascript": [
              "window[\"3858f19e-d159-11e9-8d65-0242ac1c0002\"] = window[\"35a4ade4-d159-11e9-8d65-0242ac1c0002\"].getAttribute(\"position\");\n",
              "//# sourceURL=js_c9319e4500"
            ],
            "text/plain": [
              "<IPython.core.display.Javascript object>"
            ]
          },
          "metadata": {
            "tags": []
          }
        },
        {
          "output_type": "display_data",
          "data": {
            "application/javascript": [
              "window[\"385967b4-d159-11e9-8d65-0242ac1c0002\"] = window[\"3858f19e-d159-11e9-8d65-0242ac1c0002\"].copyArray([-2.109515905380249, -1.7534146308898926, -0.17870596051216125, -1.8563501834869385, -1.665015697479248, -0.1659366935491562, -1.603184461593628, -1.5766170024871826, -0.15316742658615112, -1.3500187397003174, -1.488218069076538, -0.14039817452430725, -1.0968530178070068, -1.399819016456604, -0.12762892246246338, -0.8436874151229858, -1.3114200830459595, -0.11485964059829712, -0.5905216932296753, -1.2230212688446045, -0.10209038853645325, -0.3373560309410095, -1.13462233543396, -0.08932112157344818, -0.08419033885002136, -1.0462234020233154, -0.07655185461044312, 0.1689753532409668, -0.9578244686126709, -0.06378259509801865, 0.42214104533195496, -0.8694255352020264, -0.05101333186030388, 0.6753067374229431, -0.7810266613960266, -0.03824406862258911, 0.9284723997116089, -0.6926276683807373, -0.025474805384874344, 1.1816381216049194, -0.6042288541793823, -0.012705545872449875, 1.4348037242889404, -0.5158299207687378, 6.37248158454895e-05, 1.687969446182251, -0.4274309277534485, 0.012832984328269958, 1.9411351680755615, -0.33903199434280396, 0.025602243840694427, 2.194300889968872, -0.250633180141449, 0.038371503353118896, 2.4474666118621826, -0.16223430633544922, 0.05114077776670456, -2.548377513885498, -0.48671895265579224, -0.24681755900382996, -2.2952120304107666, -0.3983200192451477, -0.23404830694198608, -2.042046546936035, -0.3099210858345032, -0.22127902507781982, -1.7888808250427246, -0.22152221202850342, -0.20850977301597595, -1.535715103149414, -0.13312333822250366, -0.1957404911518097, -1.2825493812561035, -0.044724345207214355, -0.18297123908996582, -1.029383659362793, 0.043674588203430176, -0.17020198702812195, -0.7762179970741272, 0.13207340240478516, -0.1574327051639557, -0.5230523347854614, 0.2204723358154297, -0.14466345310211182, -0.26988664269447327, 0.3088712692260742, -0.13189418613910675, -0.016720950603485107, 0.39727020263671875, -0.11912491917610168, 0.23644471168518066, 0.4856691360473633, -0.10635565966367722, 0.4896104335784912, 0.5740680694580078, -0.09358639270067215, 0.7427760362625122, 0.6624670028686523, -0.08081713318824768, 0.9959418177604675, 0.7508659362792969, -0.06804786622524261, 1.2491075992584229, 0.8392648696899414, -0.05527860298752785, 1.5022730827331543, 0.9276638031005859, -0.04250933974981308, 1.7554388046264648, 1.016062617301941, -0.02974008023738861, 2.0086045265197754, 1.104461431503296, -0.016970816999673843]);\n",
              "//# sourceURL=js_dc66449807"
            ],
            "text/plain": [
              "<IPython.core.display.Javascript object>"
            ]
          },
          "metadata": {
            "tags": []
          }
        },
        {
          "output_type": "display_data",
          "data": {
            "application/javascript": [
              "window[\"3859bf3e-d159-11e9-8d65-0242ac1c0002\"] = window[\"35a4ade4-d159-11e9-8d65-0242ac1c0002\"].getAttribute(\"position\");\n",
              "//# sourceURL=js_23f2131aa9"
            ],
            "text/plain": [
              "<IPython.core.display.Javascript object>"
            ]
          },
          "metadata": {
            "tags": []
          }
        },
        {
          "output_type": "display_data",
          "data": {
            "application/javascript": [
              "window[\"3859bf3e-d159-11e9-8d65-0242ac1c0002\"].needsUpdate = true;\n",
              "//# sourceURL=js_de59ce004e"
            ],
            "text/plain": [
              "<IPython.core.display.Javascript object>"
            ]
          },
          "metadata": {
            "tags": []
          }
        },
        {
          "output_type": "display_data",
          "data": {
            "application/javascript": [
              "window[\"386f22ca-d159-11e9-8d65-0242ac1c0002\"] = window[\"35a4ade4-d159-11e9-8d65-0242ac1c0002\"].getAttribute(\"position\");\n",
              "//# sourceURL=js_f8aacd11b0"
            ],
            "text/plain": [
              "<IPython.core.display.Javascript object>"
            ]
          },
          "metadata": {
            "tags": []
          }
        },
        {
          "output_type": "display_data",
          "data": {
            "application/javascript": [
              "window[\"386f778e-d159-11e9-8d65-0242ac1c0002\"] = window[\"386f22ca-d159-11e9-8d65-0242ac1c0002\"].copyArray([-2.033085584640503, -1.7088820934295654, -0.14875411987304688, -1.7907109260559082, -1.6213029623031616, -0.13785147666931152, -1.5483357906341553, -1.5337238311767578, -0.12694883346557617, -1.3059608936309814, -1.4461445808410645, -0.11604621261358261, -1.0635861158370972, -1.3585654497146606, -0.10514357686042786, -0.8212109804153442, -1.2709863185882568, -0.0942409485578537, -0.5788359642028809, -1.1834070682525635, -0.08333831280469894, -0.33646106719970703, -1.0958279371261597, -0.07243567705154419, -0.09408609569072723, -1.0082488059997559, -0.06153304502367973, 0.14828887581825256, -0.9206696152687073, -0.05063041299581528, 0.39066386222839355, -0.8330904245376587, -0.03972778096795082, 0.6330388188362122, -0.7455112934112549, -0.028825147077441216, 0.8754137754440308, -0.6579321622848511, -0.01792251318693161, 1.1177887916564941, -0.5703529119491577, -0.007019881159067154, 1.3601638078689575, -0.4827738106250763, 0.0038827508687973022, 1.6025385856628418, -0.3951946496963501, 0.014785386621952057, 1.8449134826660156, -0.3076154589653015, 0.025688014924526215, 2.0872886180877686, -0.22003626823425293, 0.03659065067768097, 2.3296635150909424, -0.13245707750320435, 0.047493286430835724, -2.4656550884246826, -0.49852409958839417, -0.25497040152549744, -2.223280668258667, -0.41094499826431274, -0.24406778812408447, -1.9809058904647827, -0.3233657479286194, -0.23316514492034912, -1.7385308742523193, -0.2357867956161499, -0.22226253151893616, -1.4961557388305664, -0.14820748567581177, -0.2113598883152008, -1.2537808418273926, -0.060628294944763184, -0.20045727491378784, -1.0114058256149292, 0.026950955390930176, -0.1895546317100525, -0.7690309286117554, 0.11453002691268921, -0.17865198850631714, -0.526655912399292, 0.20210927724838257, -0.1677493453025818, -0.28428101539611816, 0.2896882891654968, -0.15684670209884644, -0.04190602898597717, 0.37726742029190063, -0.14594408869743347, 0.20046895742416382, 0.464846670627594, -0.13504144549369812, 0.4428439140319824, 0.5524258017539978, -0.12413881719112396, 0.6852189302444458, 0.6400050520896912, -0.11323618143796921, 0.9275938272476196, 0.727584183216095, -0.10233355313539505, 1.1699687242507935, 0.8151634335517883, -0.0914309173822403, 1.4123436212539673, 0.9027425646781921, -0.08052828907966614, 1.6547187566757202, 0.9903215765953064, -0.06962564587593079, 1.897093415260315, 1.0779006481170654, -0.058723025023937225]);\n",
              "//# sourceURL=js_86a837bc2f"
            ],
            "text/plain": [
              "<IPython.core.display.Javascript object>"
            ]
          },
          "metadata": {
            "tags": []
          }
        },
        {
          "output_type": "display_data",
          "data": {
            "application/javascript": [
              "window[\"386fc63a-d159-11e9-8d65-0242ac1c0002\"] = window[\"35a4ade4-d159-11e9-8d65-0242ac1c0002\"].getAttribute(\"position\");\n",
              "//# sourceURL=js_c0ed21ff79"
            ],
            "text/plain": [
              "<IPython.core.display.Javascript object>"
            ]
          },
          "metadata": {
            "tags": []
          }
        },
        {
          "output_type": "display_data",
          "data": {
            "application/javascript": [
              "window[\"386fc63a-d159-11e9-8d65-0242ac1c0002\"].needsUpdate = true;\n",
              "//# sourceURL=js_36348de390"
            ],
            "text/plain": [
              "<IPython.core.display.Javascript object>"
            ]
          },
          "metadata": {
            "tags": []
          }
        },
        {
          "output_type": "display_data",
          "data": {
            "application/javascript": [
              "window[\"388549ba-d159-11e9-8d65-0242ac1c0002\"] = window[\"35a4ade4-d159-11e9-8d65-0242ac1c0002\"].getAttribute(\"position\");\n",
              "//# sourceURL=js_e5b97de687"
            ],
            "text/plain": [
              "<IPython.core.display.Javascript object>"
            ]
          },
          "metadata": {
            "tags": []
          }
        },
        {
          "output_type": "display_data",
          "data": {
            "application/javascript": [
              "window[\"3885a37e-d159-11e9-8d65-0242ac1c0002\"] = window[\"388549ba-d159-11e9-8d65-0242ac1c0002\"].copyArray([-1.9667773246765137, -1.6522712707519531, -0.10995955765247345, -1.7338130474090576, -1.5669023990631104, -0.10179925709962845, -1.5008487701416016, -1.4815337657928467, -0.09363895654678345, -1.2678844928741455, -1.396165132522583, -0.08547864854335785, -1.0349202156066895, -1.3107962608337402, -0.07731834053993225, -0.8019559979438782, -1.2254276275634766, -0.06915803998708725, -0.5689917206764221, -1.1400588750839233, -0.06099773943424225, -0.33602744340896606, -1.0546901226043701, -0.05283743143081665, -0.10306316614151001, -0.9693213701248169, -0.04467712715268135, 0.12990111112594604, -0.8839526772499084, -0.03651682287454605, 0.3628653883934021, -0.798583984375, -0.02835651859641075, 0.5958296656608582, -0.7132152318954468, -0.02019621431827545, 0.8287939429283142, -0.6278464794158936, -0.012035908177495003, 1.061758279800415, -0.5424777865409851, -0.0038756057620048523, 1.294722557067871, -0.4571090638637543, 0.004284694790840149, 1.5276868343353271, -0.37174028158187866, 0.012445006519556046, 1.760650873184204, -0.286371648311615, 0.020605307072401047, 1.9936153888702393, -0.20100289583206177, 0.028765611350536346, 2.2265796661376953, -0.11563408374786377, 0.03692591190338135, -2.387208938598633, -0.4921301305294037, -0.24404454231262207, -2.154244899749756, -0.40676149725914, -0.23588424921035767, -1.9212803840637207, -0.32139265537261963, -0.22772392630577087, -1.6883163452148438, -0.23602402210235596, -0.21956363320350647, -1.4553520679473877, -0.15065521001815796, -0.21140334010124207, -1.2223877906799316, -0.06528651714324951, -0.20324301719665527, -0.9894234538078308, 0.02008223533630371, -0.19508272409439087, -0.7564592957496643, 0.10545104742050171, -0.18692240118980408, -0.5234949588775635, 0.19081956148147583, -0.17876210808753967, -0.2905307114124298, 0.27618855237960815, -0.17060181498527527, -0.05756644904613495, 0.3615571856498718, -0.16244149208068848, 0.1753978580236435, 0.4469258189201355, -0.15428118407726288, 0.40836212038993835, 0.5322945713996887, -0.14612087607383728, 0.6413264274597168, 0.6176633238792419, -0.13796058297157288, 0.8742906451225281, 0.7030320763587952, -0.12980028986930847, 1.1072548627853394, 0.7884007096290588, -0.12163996696472168, 1.3402190208435059, 0.8737694621086121, -0.11347966641187668, 1.573183298110962, 0.9591380953788757, -0.10531935840845108, 1.806147575378418, 1.0445070266723633, -0.09715905785560608]);\n",
              "//# sourceURL=js_000822dccb"
            ],
            "text/plain": [
              "<IPython.core.display.Javascript object>"
            ]
          },
          "metadata": {
            "tags": []
          }
        },
        {
          "output_type": "display_data",
          "data": {
            "application/javascript": [
              "window[\"3885ef1e-d159-11e9-8d65-0242ac1c0002\"] = window[\"35a4ade4-d159-11e9-8d65-0242ac1c0002\"].getAttribute(\"position\");\n",
              "//# sourceURL=js_0895a09e8e"
            ],
            "text/plain": [
              "<IPython.core.display.Javascript object>"
            ]
          },
          "metadata": {
            "tags": []
          }
        },
        {
          "output_type": "display_data",
          "data": {
            "application/javascript": [
              "window[\"3885ef1e-d159-11e9-8d65-0242ac1c0002\"].needsUpdate = true;\n",
              "//# sourceURL=js_ec270399b8"
            ],
            "text/plain": [
              "<IPython.core.display.Javascript object>"
            ]
          },
          "metadata": {
            "tags": []
          }
        },
        {
          "output_type": "display_data",
          "data": {
            "application/javascript": [
              "window[\"389b61a0-d159-11e9-8d65-0242ac1c0002\"] = window[\"35a4ade4-d159-11e9-8d65-0242ac1c0002\"].getAttribute(\"position\");\n",
              "//# sourceURL=js_10d37f6d47"
            ],
            "text/plain": [
              "<IPython.core.display.Javascript object>"
            ]
          },
          "metadata": {
            "tags": []
          }
        },
        {
          "output_type": "display_data",
          "data": {
            "application/javascript": [
              "window[\"389bc046-d159-11e9-8d65-0242ac1c0002\"] = window[\"389b61a0-d159-11e9-8d65-0242ac1c0002\"].copyArray([-1.9119162559509277, -1.585891842842102, -0.06561687588691711, -1.686848759651184, -1.5038642883300781, -0.0607164204120636, -1.4617810249328613, -1.4218368530273438, -0.05581596493721008, -1.2367135286331177, -1.3398094177246094, -0.05091550573706627, -1.0116459131240845, -1.2577818632125854, -0.04601505026221275, -0.7865782976150513, -1.1757543087005615, -0.04111459106206894, -0.5615106821060181, -1.0937268733978271, -0.036214135587215424, -0.3364430367946625, -1.0116994380950928, -0.03131367638707161, -0.11137539893388748, -0.9296718835830688, -0.026413219049572945, 0.11369223147630692, -0.8476443886756897, -0.02151276171207428, 0.3387598693370819, -0.7656168937683105, -0.016612304374575615, 0.5638275146484375, -0.6835893988609314, -0.01171184703707695, 0.7888951301574707, -0.6015619039535522, -0.006811389699578285, 1.013962745666504, -0.5195344090461731, -0.0019109323620796204, 1.2390304803848267, -0.43750691413879395, 0.0029895268380641937, 1.4640980958938599, -0.3554793894290924, 0.00788998231291771, 1.6891655921936035, -0.27345192432403564, 0.012790441513061523, 1.9142333269119263, -0.1914244294166565, 0.01769089698791504, 2.13930082321167, -0.10939693450927734, 0.022591352462768555, -2.3158440589904785, -0.46845677495002747, -0.21852253377437592, -2.0907766819000244, -0.3864293098449707, -0.2136220932006836, -1.8657089471817017, -0.30440187454223633, -0.20872162282466888, -1.640641450881958, -0.22237426042556763, -0.20382116734981537, -1.4155737161636353, -0.14034682512283325, -0.19892071187496185, -1.1905059814453125, -0.05831938982009888, -0.19402024149894714, -0.9654385447502136, 0.023708224296569824, -0.18911980092525482, -0.7403709292411804, 0.10573577880859375, -0.1842193454504013, -0.5153033137321472, 0.1877632737159729, -0.1793188750743866, -0.29023563861846924, 0.2697907090187073, -0.17441841959953308, -0.06516804546117783, 0.3518182635307312, -0.16951797902584076, 0.15989960730075836, 0.433845579624176, -0.16461750864982605, 0.38496723771095276, 0.5158731341362, -0.15971705317497253, 0.6100348234176636, 0.5979006886482239, -0.15481659770011902, 0.8351024985313416, 0.6799281239509583, -0.1499161273241043, 1.0601701736450195, 0.7619556784629822, -0.145015686750412, 1.2852379083633423, 0.8439831137657166, -0.14011521637439728, 1.510305404663086, 0.9260105490684509, -0.13521477580070496, 1.7353729009628296, 1.00803804397583, -0.13031430542469025]);\n",
              "//# sourceURL=js_e5222e9de5"
            ],
            "text/plain": [
              "<IPython.core.display.Javascript object>"
            ]
          },
          "metadata": {
            "tags": []
          }
        },
        {
          "output_type": "display_data",
          "data": {
            "application/javascript": [
              "window[\"389c1c12-d159-11e9-8d65-0242ac1c0002\"] = window[\"35a4ade4-d159-11e9-8d65-0242ac1c0002\"].getAttribute(\"position\");\n",
              "//# sourceURL=js_280265c748"
            ],
            "text/plain": [
              "<IPython.core.display.Javascript object>"
            ]
          },
          "metadata": {
            "tags": []
          }
        },
        {
          "output_type": "display_data",
          "data": {
            "application/javascript": [
              "window[\"389c1c12-d159-11e9-8d65-0242ac1c0002\"].needsUpdate = true;\n",
              "//# sourceURL=js_9dd691703f"
            ],
            "text/plain": [
              "<IPython.core.display.Javascript object>"
            ]
          },
          "metadata": {
            "tags": []
          }
        },
        {
          "output_type": "display_data",
          "data": {
            "application/javascript": [
              "window[\"38b1ba18-d159-11e9-8d65-0242ac1c0002\"] = window[\"35a4ade4-d159-11e9-8d65-0242ac1c0002\"].getAttribute(\"position\");\n",
              "//# sourceURL=js_7ecb0287f0"
            ],
            "text/plain": [
              "<IPython.core.display.Javascript object>"
            ]
          },
          "metadata": {
            "tags": []
          }
        },
        {
          "output_type": "display_data",
          "data": {
            "application/javascript": [
              "window[\"38b219ae-d159-11e9-8d65-0242ac1c0002\"] = window[\"38b1ba18-d159-11e9-8d65-0242ac1c0002\"].copyArray([-1.8691346645355225, -1.51200532913208, -0.018830206245183945, -1.6503944396972656, -1.4341970682144165, -0.017381610348820686, -1.4316543340682983, -1.356388807296753, -0.01593301072716713, -1.2129141092300415, -1.2785805463790894, -0.014484412968158722, -0.994174063205719, -1.2007722854614258, -0.01303581427782774, -0.7754338979721069, -1.1229639053344727, -0.011587216518819332, -0.5566937327384949, -1.0451557636260986, -0.01013861782848835, -0.3379535675048828, -0.9673473834991455, -0.008690020069479942, -0.11921342462301254, -0.8895391225814819, -0.00724142137914896, 0.09952672570943832, -0.8117308616638184, -0.005792822688817978, 0.3182668685913086, -0.7339226007461548, -0.004344223998486996, 0.5370070338249207, -0.6561143398284912, -0.002895625773817301, 0.7557471394538879, -0.5783060193061829, -0.001447027549147606, 0.9744873046875, -0.5004977583885193, 1.5711411833763123e-06, 1.1932275295257568, -0.4226894676685333, 0.001450168900191784, 1.4119676351547241, -0.344881147146225, 0.002898767590522766, 1.630707859992981, -0.2670729160308838, 0.004347365349531174, 1.8494479656219482, -0.18926465511322021, 0.0057959649711847305, 2.068188190460205, -0.11145639419555664, 0.007244560867547989, -2.2533092498779297, -0.4289313554763794, -0.18298834562301636, -2.0345687866210938, -0.35112306475639343, -0.18153975903987885, -1.8158284425735474, -0.273314893245697, -0.18009114265441895, -1.5970884561538696, -0.1955065131187439, -0.17864254117012024, -1.3783482313156128, -0.11769825220108032, -0.17719395458698273, -1.1596081256866455, -0.03988999128341675, -0.17574533820152283, -0.940868079662323, 0.03791838884353638, -0.17429675161838531, -0.7221277952194214, 0.11572664976119995, -0.1728481501340866, -0.5033876895904541, 0.19353485107421875, -0.1713995635509491, -0.28464746475219727, 0.2713431119918823, -0.1699509620666504, -0.065907321870327, 0.3491513729095459, -0.16850236058235168, 0.15283283591270447, 0.4269596338272095, -0.16705375909805298, 0.37157300114631653, 0.5047680139541626, -0.16560515761375427, 0.5903131365776062, 0.5825763940811157, -0.16415657103061676, 0.8090533018112183, 0.6603846549987793, -0.16270796954631805, 1.027793526649475, 0.7381929159164429, -0.16125936806201935, 1.2465336322784424, 0.8160010576248169, -0.15981076657772064, 1.4652737379074097, 0.8938093185424805, -0.15836217999458313, 1.6840139627456665, 0.971617579460144, -0.15691357851028442]);\n",
              "//# sourceURL=js_eba9ddbc29"
            ],
            "text/plain": [
              "<IPython.core.display.Javascript object>"
            ]
          },
          "metadata": {
            "tags": []
          }
        },
        {
          "output_type": "display_data",
          "data": {
            "application/javascript": [
              "window[\"38b26ee0-d159-11e9-8d65-0242ac1c0002\"] = window[\"35a4ade4-d159-11e9-8d65-0242ac1c0002\"].getAttribute(\"position\");\n",
              "//# sourceURL=js_28df68df92"
            ],
            "text/plain": [
              "<IPython.core.display.Javascript object>"
            ]
          },
          "metadata": {
            "tags": []
          }
        },
        {
          "output_type": "display_data",
          "data": {
            "application/javascript": [
              "window[\"38b26ee0-d159-11e9-8d65-0242ac1c0002\"].needsUpdate = true;\n",
              "//# sourceURL=js_df768954ee"
            ],
            "text/plain": [
              "<IPython.core.display.Javascript object>"
            ]
          },
          "metadata": {
            "tags": []
          }
        },
        {
          "output_type": "display_data",
          "data": {
            "application/javascript": [
              "window[\"38c69c26-d159-11e9-8d65-0242ac1c0002\"] = window[\"35a4ade4-d159-11e9-8d65-0242ac1c0002\"].getAttribute(\"position\");\n",
              "//# sourceURL=js_3b49dcc862"
            ],
            "text/plain": [
              "<IPython.core.display.Javascript object>"
            ]
          },
          "metadata": {
            "tags": []
          }
        },
        {
          "output_type": "display_data",
          "data": {
            "application/javascript": [
              "window[\"38c6f05e-d159-11e9-8d65-0242ac1c0002\"] = window[\"38c69c26-d159-11e9-8d65-0242ac1c0002\"].copyArray([-1.8385149240493774, -1.4326703548431396, 0.02765134908258915, -1.6245404481887817, -1.3597307205200195, 0.025733422487974167, -1.4105654954910278, -1.2867910861968994, 0.023815494030714035, -1.1965909004211426, -1.2138515710830688, 0.021897565573453903, -0.9826158881187439, -1.1409119367599487, 0.01997963897883892, -0.7686411142349243, -1.0679723024368286, 0.018061712384223938, -0.5546663403511047, -0.9950327277183533, 0.016143783926963806, -0.3406915068626404, -0.9220930933952332, 0.014225857332348824, -0.12671667337417603, -0.8491535186767578, 0.012307929806411266, 0.08725814521312714, -0.7762138843536377, 0.010390002280473709, 0.3012329638004303, -0.7032742500305176, 0.008472074754536152, 0.5152077674865723, -0.6303346753120422, 0.006554147228598595, 0.7291826605796814, -0.5573950409889221, 0.004636220168322325, 0.943157434463501, -0.4844554662704468, 0.0027182926423847675, 1.1571321487426758, -0.41151586174964905, 0.0008003655821084976, 1.3711071014404297, -0.33857622742652893, -0.0011175619438290596, 1.585081696510315, -0.265636682510376, -0.003035489469766617, 1.7990566492080688, -0.19269704818725586, -0.004953416995704174, 2.013031244277954, -0.11975741386413574, -0.006871344521641731, -2.2004683017730713, -0.37530261278152466, -0.1417320966720581, -1.9864935874938965, -0.30236315727233887, -0.14365002512931824, -1.772518515586853, -0.22942352294921875, -0.14556795358657837, -1.5585438013076782, -0.1564839482307434, -0.1474858820438385, -1.3445689678192139, -0.08354437351226807, -0.14940381050109863, -1.1305941343307495, -0.01060473918914795, -0.15132172405719757, -0.9166193604469299, 0.06233495473861694, -0.1532396525144577, -0.7026445269584656, 0.13527452945709229, -0.15515758097171783, -0.4886696934700012, 0.2082141637802124, -0.15707550942897797, -0.2746949791908264, 0.28115367889404297, -0.1589934527873993, -0.06072013080120087, 0.3540933132171631, -0.16091136634349823, 0.1532546579837799, 0.4270329475402832, -0.16282930970191956, 0.36722952127456665, 0.4999725818634033, -0.1647472232580185, 0.5812042951583862, 0.5729122161865234, -0.16666516661643982, 0.7951790690422058, 0.6458518505096436, -0.16858308017253876, 1.009153962135315, 0.7187913656234741, -0.1705010086297989, 1.2231286764144897, 0.7917308807373047, -0.17241893708705902, 1.4371036291122437, 0.8646706342697144, -0.17433688044548035, 1.651078224182129, 0.9376101493835449, -0.17625479400157928]);\n",
              "//# sourceURL=js_8f0264d490"
            ],
            "text/plain": [
              "<IPython.core.display.Javascript object>"
            ]
          },
          "metadata": {
            "tags": []
          }
        },
        {
          "output_type": "display_data",
          "data": {
            "application/javascript": [
              "window[\"38c73988-d159-11e9-8d65-0242ac1c0002\"] = window[\"35a4ade4-d159-11e9-8d65-0242ac1c0002\"].getAttribute(\"position\");\n",
              "//# sourceURL=js_a69b362d0c"
            ],
            "text/plain": [
              "<IPython.core.display.Javascript object>"
            ]
          },
          "metadata": {
            "tags": []
          }
        },
        {
          "output_type": "display_data",
          "data": {
            "application/javascript": [
              "window[\"38c73988-d159-11e9-8d65-0242ac1c0002\"].needsUpdate = true;\n",
              "//# sourceURL=js_7aa202503e"
            ],
            "text/plain": [
              "<IPython.core.display.Javascript object>"
            ]
          },
          "metadata": {
            "tags": []
          }
        },
        {
          "output_type": "display_data",
          "data": {
            "application/javascript": [
              "window[\"38db26aa-d159-11e9-8d65-0242ac1c0002\"] = window[\"35a4ade4-d159-11e9-8d65-0242ac1c0002\"].getAttribute(\"position\");\n",
              "//# sourceURL=js_ebbc7d9551"
            ],
            "text/plain": [
              "<IPython.core.display.Javascript object>"
            ]
          },
          "metadata": {
            "tags": []
          }
        },
        {
          "output_type": "display_data",
          "data": {
            "application/javascript": [
              "window[\"38db7506-d159-11e9-8d65-0242ac1c0002\"] = window[\"38db26aa-d159-11e9-8d65-0242ac1c0002\"].copyArray([-1.8197232484817505, -1.349640130996704, 0.07148358970880508, -1.6090059280395508, -1.2820255756378174, 0.06651082634925842, -1.3982884883880615, -1.2144111394882202, 0.061538055539131165, -1.1875712871551514, -1.146796703338623, 0.0565652921795845, -0.9768538475036621, -1.0791822671890259, 0.05159252509474754, -0.766136646270752, -1.0115678310394287, 0.046619758009910583, -0.5554193258285522, -0.9439533948898315, 0.041646990925073624, -0.34470200538635254, -0.8763389587402344, 0.036674223840236664, -0.13398468494415283, -0.8087245225906372, 0.031701456755399704, 0.07673264294862747, -0.74111008644104, 0.026728687807917595, 0.2874499559402466, -0.6734956502914429, 0.021755920723080635, 0.4981672763824463, -0.6058812141418457, 0.016783151775598526, 0.708884596824646, -0.5382667779922485, 0.011810384690761566, 0.9196019172668457, -0.470652312040329, 0.006837617605924606, 1.1303191184997559, -0.4030378758907318, 0.0018648505210876465, 1.3410365581512451, -0.33542340993881226, -0.0031079184263944626, 1.5517537593841553, -0.2678090035915375, -0.008080681785941124, 1.7624711990356445, -0.20019453763961792, -0.013053452596068382, 1.9731885194778442, -0.13258004188537598, -0.018026215955615044, -2.1575026512145996, -0.3094698190689087, -0.09853574633598328, -1.9467854499816895, -0.2418554723262787, -0.10350850224494934, -1.7360681295394897, -0.17424100637435913, -0.1084812730550766, -1.52535080909729, -0.10662657022476196, -0.11345404386520386, -1.3146334886550903, -0.039012014865875244, -0.11842679977416992, -1.1039161682128906, 0.028602302074432373, -0.12339957058429718, -0.8931988477706909, 0.09621685743331909, -0.12837234139442444, -0.682481586933136, 0.16383123397827148, -0.1333451122045517, -0.4717642068862915, 0.23144567012786865, -0.13831788301467896, -0.2610469162464142, 0.2990601062774658, -0.14329063892364502, -0.05032957345247269, 0.366674542427063, -0.14826342463493347, 0.16038772463798523, 0.4342890977859497, -0.15323619544506073, 0.37110504508018494, 0.5019035339355469, -0.1582089513540268, 0.581822395324707, 0.5695178508758545, -0.16318170726299286, 0.792539656162262, 0.6371322870254517, -0.1681544929742813, 1.0032570362091064, 0.7047468423843384, -0.17312724888324738, 1.213974118232727, 0.7723612785339355, -0.17810001969337463, 1.4246916770935059, 0.8399758338928223, -0.1830727905035019, 1.6354089975357056, 0.9075901508331299, -0.18804554641246796]);\n",
              "//# sourceURL=js_48b8c653f2"
            ],
            "text/plain": [
              "<IPython.core.display.Javascript object>"
            ]
          },
          "metadata": {
            "tags": []
          }
        },
        {
          "output_type": "display_data",
          "data": {
            "application/javascript": [
              "window[\"38dbbb56-d159-11e9-8d65-0242ac1c0002\"] = window[\"35a4ade4-d159-11e9-8d65-0242ac1c0002\"].getAttribute(\"position\");\n",
              "//# sourceURL=js_e2670fc5d1"
            ],
            "text/plain": [
              "<IPython.core.display.Javascript object>"
            ]
          },
          "metadata": {
            "tags": []
          }
        },
        {
          "output_type": "display_data",
          "data": {
            "application/javascript": [
              "window[\"38dbbb56-d159-11e9-8d65-0242ac1c0002\"].needsUpdate = true;\n",
              "//# sourceURL=js_c7328cfd00"
            ],
            "text/plain": [
              "<IPython.core.display.Javascript object>"
            ]
          },
          "metadata": {
            "tags": []
          }
        },
        {
          "output_type": "display_data",
          "data": {
            "application/javascript": [
              "window[\"38efb868-d159-11e9-8d65-0242ac1c0002\"] = window[\"35a4ade4-d159-11e9-8d65-0242ac1c0002\"].getAttribute(\"position\");\n",
              "//# sourceURL=js_0506621055"
            ],
            "text/plain": [
              "<IPython.core.display.Javascript object>"
            ]
          },
          "metadata": {
            "tags": []
          }
        },
        {
          "output_type": "display_data",
          "data": {
            "application/javascript": [
              "window[\"38f00778-d159-11e9-8d65-0242ac1c0002\"] = window[\"38efb868-d159-11e9-8d65-0242ac1c0002\"].copyArray([-1.8121092319488525, -1.2643189430236816, 0.11072451621294022, -1.6032313108444214, -1.2023334503173828, 0.1031867116689682, -1.3943533897399902, -1.1403480768203735, 0.09564890712499619, -1.1854755878448486, -1.0783627033233643, 0.08811110258102417, -0.976597785949707, -1.0163770914077759, 0.08057330548763275, -0.7677198648452759, -0.9543917179107666, 0.07303549349308014, -0.5588420033454895, -0.8924062252044678, 0.06549769639968872, -0.3499641418457031, -0.8304207921028137, 0.057959891855716705, -0.14108628034591675, -0.7684352993965149, 0.05042208731174469, 0.06779158115386963, -0.7064498662948608, 0.042884282767772675, 0.276669442653656, -0.6444644331932068, 0.03534647822380066, 0.4855473041534424, -0.582478940486908, 0.027808675542473793, 0.6944251656532288, -0.5204935073852539, 0.020270870998501778, 0.9033030271530151, -0.45850804448127747, 0.012733068317174911, 1.1121809482574463, -0.3965226113796234, 0.005195263773202896, 1.321058750152588, -0.3345370888710022, -0.0023425407707691193, 1.5299365520477295, -0.27255168557167053, -0.009880341589450836, 1.7388144731521606, -0.2105662226676941, -0.01741814613342285, 1.9476923942565918, -0.14858084917068481, -0.024955950677394867, -2.1240921020507812, -0.23334798216819763, -0.05657739192247391, -1.9152140617370605, -0.1713625192642212, -0.06411518901586533, -1.7063361406326294, -0.10937702655792236, -0.07165299355983734, -1.4974583387374878, -0.047391653060913086, -0.07919079810380936, -1.2885804176330566, 0.014593899250030518, -0.08672859519720078, -1.079702615737915, 0.07657933235168457, -0.09426642209291458, -0.8708248138427734, 0.13856476545333862, -0.101804219186306, -0.6619468927383423, 0.20055019855499268, -0.10934200137853622, -0.4530690312385559, 0.2625356912612915, -0.11687982827425003, -0.24419119954109192, 0.3245210647583008, -0.12441762536764145, -0.03531333804130554, 0.3865065574645996, -0.13195541501045227, 0.17356453835964203, 0.44849205017089844, -0.13949322700500488, 0.3824423849582672, 0.5104776620864868, -0.1470310389995575, 0.5913202166557312, 0.5724630355834961, -0.15456882119178772, 0.8001981377601624, 0.6344485282897949, -0.16210663318634033, 1.0090758800506592, 0.6964337825775146, -0.16964444518089294, 1.2179538011550903, 0.758419394493103, -0.17718222737312317, 1.426831603050232, 0.8204047679901123, -0.18472003936767578, 1.635709524154663, 0.8823902606964111, -0.1922578513622284]);\n",
              "//# sourceURL=js_9c273f10de"
            ],
            "text/plain": [
              "<IPython.core.display.Javascript object>"
            ]
          },
          "metadata": {
            "tags": []
          }
        },
        {
          "output_type": "display_data",
          "data": {
            "application/javascript": [
              "window[\"38f04bf2-d159-11e9-8d65-0242ac1c0002\"] = window[\"35a4ade4-d159-11e9-8d65-0242ac1c0002\"].getAttribute(\"position\");\n",
              "//# sourceURL=js_95d8e676ab"
            ],
            "text/plain": [
              "<IPython.core.display.Javascript object>"
            ]
          },
          "metadata": {
            "tags": []
          }
        },
        {
          "output_type": "display_data",
          "data": {
            "application/javascript": [
              "window[\"38f04bf2-d159-11e9-8d65-0242ac1c0002\"].needsUpdate = true;\n",
              "//# sourceURL=js_310b58f594"
            ],
            "text/plain": [
              "<IPython.core.display.Javascript object>"
            ]
          },
          "metadata": {
            "tags": []
          }
        },
        {
          "output_type": "display_data",
          "data": {
            "application/javascript": [
              "window[\"39042d02-d159-11e9-8d65-0242ac1c0002\"] = window[\"35a4ade4-d159-11e9-8d65-0242ac1c0002\"].getAttribute(\"position\");\n",
              "//# sourceURL=js_6916eebb93"
            ],
            "text/plain": [
              "<IPython.core.display.Javascript object>"
            ]
          },
          "metadata": {
            "tags": []
          }
        },
        {
          "output_type": "display_data",
          "data": {
            "application/javascript": [
              "window[\"39047f28-d159-11e9-8d65-0242ac1c0002\"] = window[\"39042d02-d159-11e9-8d65-0242ac1c0002\"].copyArray([-1.814777135848999, -1.1777701377868652, 0.14382348954677582, -1.6064382791519165, -1.121604084968567, 0.1343437135219574, -1.3980990648269653, -1.0654380321502686, 0.12486392259597778, -1.1897603273391724, -1.0092719793319702, 0.11538413912057877, -0.9814212918281555, -0.9531059265136719, 0.10590435564517975, -0.7730823755264282, -0.896939754486084, 0.09642457216978073, -0.5647433996200562, -0.8407737016677856, 0.08694478869438171, -0.35640445351600647, -0.7846076488494873, 0.0774650052189827, -0.1480654925107956, -0.7284415364265442, 0.06798522174358368, 0.060273464769124985, -0.6722754836082458, 0.05850543826818466, 0.26861241459846497, -0.6161094307899475, 0.049025654792785645, 0.47695139050483704, -0.5599433183670044, 0.03954587131738663, 0.6852903366088867, -0.503777265548706, 0.03006608784198761, 0.8936293125152588, -0.4476111829280853, 0.020586304366588593, 1.1019681692123413, -0.3914450705051422, 0.011106520891189575, 1.3103071451187134, -0.3352789878845215, 0.0016267374157905579, 1.5186458826065063, -0.27911293506622314, -0.00785304605960846, 1.7269850969314575, -0.2229468822479248, -0.017332829535007477, 1.93532395362854, -0.16678082942962646, -0.026812613010406494, -2.0995640754699707, -0.14878028631210327, -0.018400363624095917, -1.891224980354309, -0.09261417388916016, -0.02788015455007553, -1.6828858852386475, -0.036448121070861816, -0.037359945476055145, -1.4745471477508545, 0.019717931747436523, -0.046839721500873566, -1.2662080526351929, 0.07588398456573486, -0.05631950497627258, -1.0578691959381104, 0.1320500373840332, -0.0657992884516716, -0.8495301604270935, 0.1882162094116211, -0.07527907937765121, -0.6411912441253662, 0.24438226222991943, -0.08475885540246964, -0.43285229802131653, 0.30054837465286255, -0.09423864632844925, -0.22451326251029968, 0.3567144274711609, -0.10371843725442886, -0.01617434248328209, 0.4128805994987488, -0.11319821327924728, 0.1921646147966385, 0.469046413898468, -0.1226779893040657, 0.400503545999527, 0.5252127051353455, -0.13215777277946472, 0.6088426113128662, 0.5813786387443542, -0.14163756370544434, 0.8171814680099487, 0.6375448107719421, -0.15111732482910156, 1.0255204439163208, 0.69371098279953, -0.16059714555740356, 1.2338591814041138, 0.7498769164085388, -0.1700769066810608, 1.442198395729065, 0.8060432076454163, -0.1795566976070404, 1.650537133216858, 0.862209141254425, -0.18903645873069763]);\n",
              "//# sourceURL=js_a02e709b04"
            ],
            "text/plain": [
              "<IPython.core.display.Javascript object>"
            ]
          },
          "metadata": {
            "tags": []
          }
        },
        {
          "output_type": "display_data",
          "data": {
            "application/javascript": [
              "window[\"3904c604-d159-11e9-8d65-0242ac1c0002\"] = window[\"35a4ade4-d159-11e9-8d65-0242ac1c0002\"].getAttribute(\"position\");\n",
              "//# sourceURL=js_071eecc681"
            ],
            "text/plain": [
              "<IPython.core.display.Javascript object>"
            ]
          },
          "metadata": {
            "tags": []
          }
        },
        {
          "output_type": "display_data",
          "data": {
            "application/javascript": [
              "window[\"3904c604-d159-11e9-8d65-0242ac1c0002\"].needsUpdate = true;\n",
              "//# sourceURL=js_d4774d25c0"
            ],
            "text/plain": [
              "<IPython.core.display.Javascript object>"
            ]
          },
          "metadata": {
            "tags": []
          }
        },
        {
          "output_type": "display_data",
          "data": {
            "application/javascript": [
              "window[\"3918e86e-d159-11e9-8d65-0242ac1c0002\"] = window[\"35a4ade4-d159-11e9-8d65-0242ac1c0002\"].getAttribute(\"position\");\n",
              "//# sourceURL=js_6f6d01d441"
            ],
            "text/plain": [
              "<IPython.core.display.Javascript object>"
            ]
          },
          "metadata": {
            "tags": []
          }
        },
        {
          "output_type": "display_data",
          "data": {
            "application/javascript": [
              "window[\"39193972-d159-11e9-8d65-0242ac1c0002\"] = window[\"3918e86e-d159-11e9-8d65-0242ac1c0002\"].copyArray([-1.8266199827194214, -1.0907623767852783, 0.16962428390979767, -1.6176605224609375, -1.0405265092849731, 0.15891553461551666, -1.4087010622024536, -0.9902905821800232, 0.14820678532123566, -1.1997416019439697, -0.9400546550750732, 0.13749802112579346, -0.9907819628715515, -0.8898187279701233, 0.12678927183151245, -0.7818225026130676, -0.8395828008651733, 0.11608051508665085, -0.5728630423545837, -0.7893468737602234, 0.10537175834178925, -0.3639035224914551, -0.7391108870506287, 0.09466300904750824, -0.15494404733181, -0.6888749599456787, 0.08395425230264664, 0.054015446454286575, -0.6386390328407288, 0.07324549555778503, 0.26297494769096375, -0.5884031057357788, 0.06253673881292343, 0.47193443775177, -0.5381671786308289, 0.05182798579335213, 0.6808939576148987, -0.48793119192123413, 0.041119229048490524, 0.8898534178733826, -0.43769529461860657, 0.03041047602891922, 1.0988128185272217, -0.38745933771133423, 0.019701719284057617, 1.3077723979949951, -0.3372233808040619, 0.008992962539196014, 1.516731858253479, -0.2869874835014343, -0.0017157942056655884, 1.725691318511963, -0.23675155639648438, -0.012424543499946594, 1.9346507787704468, -0.18651562929153442, -0.0231332927942276, -2.082998275756836, -0.05749642848968506, 0.014088347554206848, -1.874038815498352, -0.007260501384735107, 0.003379605710506439, -1.6650793552398682, 0.042975425720214844, -0.0073291584849357605, -1.4561200141906738, 0.09321129322052002, -0.01803790032863617, -1.2471604347229004, 0.14344727993011475, -0.02874666452407837, -1.038200855255127, 0.19368326663970947, -0.03945542126893997, -0.8292413353919983, 0.24391919374465942, -0.05016416311264038, -0.6202818155288696, 0.2941550612449646, -0.06087292730808258, -0.41132238507270813, 0.3443911075592041, -0.07158169150352478, -0.20236285030841827, 0.39462703466415405, -0.08229044079780579, 0.0065966323018074036, 0.4448627829551697, -0.09299919009208679, 0.2155561000108719, 0.4950990080833435, -0.1037079393863678, 0.42451563477516174, 0.5453348755836487, -0.11441670358181, 0.633475124835968, 0.5955707430839539, -0.125125452876091, 0.8424346446990967, 0.6458067297935486, -0.1358342170715332, 1.0513942241668701, 0.6960425972938538, -0.1465429812669754, 1.2603535652160645, 0.7462784647941589, -0.15725171566009521, 1.4693129062652588, 0.7965143322944641, -0.16796046495437622, 1.6782726049423218, 0.8467504382133484, -0.17866924405097961]);\n",
              "//# sourceURL=js_516d45523c"
            ],
            "text/plain": [
              "<IPython.core.display.Javascript object>"
            ]
          },
          "metadata": {
            "tags": []
          }
        },
        {
          "output_type": "display_data",
          "data": {
            "application/javascript": [
              "window[\"391983dc-d159-11e9-8d65-0242ac1c0002\"] = window[\"35a4ade4-d159-11e9-8d65-0242ac1c0002\"].getAttribute(\"position\");\n",
              "//# sourceURL=js_4ee042925d"
            ],
            "text/plain": [
              "<IPython.core.display.Javascript object>"
            ]
          },
          "metadata": {
            "tags": []
          }
        },
        {
          "output_type": "display_data",
          "data": {
            "application/javascript": [
              "window[\"391983dc-d159-11e9-8d65-0242ac1c0002\"].needsUpdate = true;\n",
              "//# sourceURL=js_d0408f4d5c"
            ],
            "text/plain": [
              "<IPython.core.display.Javascript object>"
            ]
          },
          "metadata": {
            "tags": []
          }
        },
        {
          "output_type": "display_data",
          "data": {
            "application/javascript": [
              "window[\"392dc8d8-d159-11e9-8d65-0242ac1c0002\"] = window[\"35a4ade4-d159-11e9-8d65-0242ac1c0002\"].getAttribute(\"position\");\n",
              "//# sourceURL=js_9996a889a5"
            ],
            "text/plain": [
              "<IPython.core.display.Javascript object>"
            ]
          },
          "metadata": {
            "tags": []
          }
        },
        {
          "output_type": "display_data",
          "data": {
            "application/javascript": [
              "window[\"392e1b80-d159-11e9-8d65-0242ac1c0002\"] = window[\"392dc8d8-d159-11e9-8d65-0242ac1c0002\"].copyArray([-1.846329927444458, -1.0038416385650635, 0.1873849779367447, -1.6357539892196655, -0.9595925807952881, 0.1762063354253769, -1.425177812576294, -0.9153435230255127, 0.1650276929140091, -1.2146018743515015, -0.8710944652557373, 0.1538490653038025, -1.0040256977081299, -0.8268454074859619, 0.1426704078912735, -0.7934496402740479, -0.7825963497161865, 0.1314917653799057, -0.5828735828399658, -0.7383472919464111, 0.1203131228685379, -0.3722974956035614, -0.6940982937812805, 0.1091344803571701, -0.1617213934659958, -0.6498492360115051, 0.09795583784580231, 0.04885469004511833, -0.6056001782417297, 0.08677719533443451, 0.25943076610565186, -0.5613511204719543, 0.07559855282306671, 0.4700068533420563, -0.517102062702179, 0.06441991031169891, 0.6805830001831055, -0.47285303473472595, 0.05324126407504082, 0.8911590576171875, -0.42860397696495056, 0.04206262528896332, 1.1017351150512695, -0.38435491919517517, 0.03088398277759552, 1.3123112916946411, -0.34010589122772217, 0.019705332815647125, 1.5228872299194336, -0.2958568036556244, 0.008526697754859924, 1.7334634065628052, -0.2516077756881714, -0.0026519447565078735, 1.9440393447875977, -0.20735877752304077, -0.013830587267875671, -2.07328724861145, 0.038887083530426025, 0.03960740566253662, -1.862710952758789, 0.08313608169555664, 0.028428763151168823, -1.6521347761154175, 0.12738507986068726, 0.017250120639801025, -1.441558837890625, 0.17163413763046265, 0.0060714781284332275, -1.2309825420379639, 0.21588319540023804, -0.00510716438293457, -1.0204066038131714, 0.2601323127746582, -0.016285814344882965, -0.8098304867744446, 0.3043813705444336, -0.027464456856250763, -0.5992543697357178, 0.3486303687095642, -0.03864310681819916, -0.38867831230163574, 0.3928793668746948, -0.04982173442840576, -0.17810223996639252, 0.43712836503982544, -0.06100039184093475, 0.03247382491827011, 0.4813775420188904, -0.07217903435230255, 0.24304991960525513, 0.5256265997886658, -0.08335767686367035, 0.4536260664463043, 0.5698755383491516, -0.09453631937503815, 0.6642021536827087, 0.614124596118927, -0.10571494698524475, 0.874778151512146, 0.6583736538887024, -0.11689358949661255, 1.0853543281555176, 0.7026225924491882, -0.12807224690914154, 1.2959303855895996, 0.7468718886375427, -0.13925087451934814, 1.5065064430236816, 0.7911208271980286, -0.15042950212955475, 1.7170823812484741, 0.835369884967804, -0.16160817444324493]);\n",
              "//# sourceURL=js_78f6c21681"
            ],
            "text/plain": [
              "<IPython.core.display.Javascript object>"
            ]
          },
          "metadata": {
            "tags": []
          }
        },
        {
          "output_type": "display_data",
          "data": {
            "application/javascript": [
              "window[\"392e6a5e-d159-11e9-8d65-0242ac1c0002\"] = window[\"35a4ade4-d159-11e9-8d65-0242ac1c0002\"].getAttribute(\"position\");\n",
              "//# sourceURL=js_34a780086d"
            ],
            "text/plain": [
              "<IPython.core.display.Javascript object>"
            ]
          },
          "metadata": {
            "tags": []
          }
        },
        {
          "output_type": "display_data",
          "data": {
            "application/javascript": [
              "window[\"392e6a5e-d159-11e9-8d65-0242ac1c0002\"].needsUpdate = true;\n",
              "//# sourceURL=js_172fbe51e5"
            ],
            "text/plain": [
              "<IPython.core.display.Javascript object>"
            ]
          },
          "metadata": {
            "tags": []
          }
        },
        {
          "output_type": "display_data",
          "data": {
            "application/javascript": [
              "window[\"39428318-d159-11e9-8d65-0242ac1c0002\"] = window[\"35a4ade4-d159-11e9-8d65-0242ac1c0002\"].getAttribute(\"position\");\n",
              "//# sourceURL=js_d7a8a1607e"
            ],
            "text/plain": [
              "<IPython.core.display.Javascript object>"
            ]
          },
          "metadata": {
            "tags": []
          }
        },
        {
          "output_type": "display_data",
          "data": {
            "application/javascript": [
              "window[\"3942d868-d159-11e9-8d65-0242ac1c0002\"] = window[\"39428318-d159-11e9-8d65-0242ac1c0002\"].copyArray([-1.8723970651626587, -0.9174150228500366, 0.1968071609735489, -1.6593942642211914, -0.87917160987854, 0.18591804802417755, -1.4463911056518555, -0.8409280776977539, 0.1750289350748062, -1.233388066291809, -0.8026846647262573, 0.16413982212543488, -1.0203851461410522, -0.7644411325454712, 0.15325070917606354, -0.8073822855949402, -0.7261977195739746, 0.1423615962266922, -0.594379186630249, -0.6879542469978333, 0.13147248327732086, -0.3813762664794922, -0.6497107744216919, 0.12058337032794952, -0.168373242020607, -0.6114673018455505, 0.10969425737857819, 0.044629767537117004, -0.5732238292694092, 0.09880514442920685, 0.2576327919960022, -0.5349803566932678, 0.08791603147983551, 0.4706357717514038, -0.49673688411712646, 0.07702691853046417, 0.6836386919021606, -0.4584934115409851, 0.06613780558109283, 0.8966417908668518, -0.42024993896484375, 0.0552486926317215, 1.1096447706222534, -0.3820064961910248, 0.04435957968235016, 1.3226476907730103, -0.3437630236148834, 0.03347046673297882, 1.5356507301330566, -0.30551958084106445, 0.022581353783607483, 1.7486538887023926, -0.2672760784626007, 0.011692240834236145, 1.9616566896438599, -0.22903266549110413, 0.0008031278848648071, -2.069162607192993, 0.13883179426193237, 0.057482633739709854, -1.8561596870422363, 0.17707520723342896, 0.046593524515628815, -1.6431567668914795, 0.2153186798095703, 0.03570441156625748, -1.430153727531433, 0.25356215238571167, 0.024815291166305542, -1.2171505689620972, 0.291805624961853, 0.013926178216934204, -1.0041476488113403, 0.3300490975379944, 0.003037072718143463, -0.7911447882652283, 0.36829257011413574, -0.007852040231227875, -0.5781417489051819, 0.4065360426902771, -0.018741153180599213, -0.3651387691497803, 0.4447793960571289, -0.029630258679389954, -0.15213580429553986, 0.4830228090286255, -0.040519386529922485, 0.06086719036102295, 0.5212663412094116, -0.05140849947929382, 0.27387017011642456, 0.5595098733901978, -0.06229759752750397, 0.48687320947647095, 0.5977534055709839, -0.0731867253780365, 0.6998761892318726, 0.6359966993331909, -0.08407582342624664, 0.9128791689872742, 0.674240231513977, -0.09496493637561798, 1.1258822679519653, 0.7124836444854736, -0.10585406422615051, 1.3388851881027222, 0.7507271766662598, -0.11674317717552185, 1.551888108253479, 0.7889707088470459, -0.1276322901248932, 1.764891266822815, 0.8272140026092529, -0.13852138817310333]);\n",
              "//# sourceURL=js_fa6a6947b2"
            ],
            "text/plain": [
              "<IPython.core.display.Javascript object>"
            ]
          },
          "metadata": {
            "tags": []
          }
        },
        {
          "output_type": "display_data",
          "data": {
            "application/javascript": [
              "window[\"39432610-d159-11e9-8d65-0242ac1c0002\"] = window[\"35a4ade4-d159-11e9-8d65-0242ac1c0002\"].getAttribute(\"position\");\n",
              "//# sourceURL=js_447d167081"
            ],
            "text/plain": [
              "<IPython.core.display.Javascript object>"
            ]
          },
          "metadata": {
            "tags": []
          }
        },
        {
          "output_type": "display_data",
          "data": {
            "application/javascript": [
              "window[\"39432610-d159-11e9-8d65-0242ac1c0002\"].needsUpdate = true;\n",
              "//# sourceURL=js_0a1b3412b6"
            ],
            "text/plain": [
              "<IPython.core.display.Javascript object>"
            ]
          },
          "metadata": {
            "tags": []
          }
        },
        {
          "output_type": "display_data",
          "data": {
            "application/javascript": [
              "window[\"3957db50-d159-11e9-8d65-0242ac1c0002\"] = window[\"35a4ade4-d159-11e9-8d65-0242ac1c0002\"].getAttribute(\"position\");\n",
              "//# sourceURL=js_2d17c23c94"
            ],
            "text/plain": [
              "<IPython.core.display.Javascript object>"
            ]
          },
          "metadata": {
            "tags": []
          }
        },
        {
          "output_type": "display_data",
          "data": {
            "application/javascript": [
              "window[\"39583b72-d159-11e9-8d65-0242ac1c0002\"] = window[\"3957db50-d159-11e9-8d65-0242ac1c0002\"].copyArray([-1.9031108617782593, -0.8318352699279785, 0.19806282222270966, -1.6870784759521484, -0.7995843887329102, 0.18817542493343353, -1.471045732498169, -0.7673336267471313, 0.17828801274299622, -1.2550134658813477, -0.735082745552063, 0.1684006005525589, -1.0389806032180786, -0.7028319239616394, 0.15851318836212158, -0.822948157787323, -0.6705811023712158, 0.14862579107284546, -0.6069156527519226, -0.6383302807807922, 0.13873837888240814, -0.3908829987049103, -0.6060793995857239, 0.12885096669197083, -0.17485041916370392, -0.5738285779953003, 0.1189635694026947, 0.04118216410279274, -0.5415777564048767, 0.10907615721225739, 0.25721475481987, -0.5093269348144531, 0.09918874502182007, 0.47324731945991516, -0.47707608342170715, 0.08930134028196335, 0.6892799735069275, -0.44482526183128357, 0.07941393554210663, 0.9053124785423279, -0.4125744104385376, 0.06952652335166931, 1.1213449239730835, -0.380323588848114, 0.05963911861181259, 1.3373777866363525, -0.34807276725769043, 0.04975171014666557, 1.5534100532531738, -0.31582191586494446, 0.039864301681518555, 1.7694427967071533, -0.2835710942745209, 0.029976889491081238, 1.9854751825332642, -0.2513202428817749, 0.020089492201805115, -2.0692145824432373, 0.24082177877426147, 0.06762088090181351, -1.853182315826416, 0.27307265996932983, 0.05773347616195679, -1.6371495723724365, 0.3053235411643982, 0.04784606397151947, -1.4211171865463257, 0.337574303150177, 0.03795865923166275, -1.2050845623016357, 0.36982518434524536, 0.02807125449180603, -0.9890518188476562, 0.4020760655403137, 0.01818384975194931, -0.7730193734169006, 0.4343268871307373, 0.008296437561511993, -0.5569867491722107, 0.4665777087211609, -0.0015909746289253235, -0.34095415472984314, 0.4988284707069397, -0.011478371918201447, -0.12492156028747559, 0.5310793519020081, -0.02136579155921936, 0.09111101925373077, 0.5633302330970764, -0.03125318884849548, 0.30714356899261475, 0.5955811142921448, -0.041140615940093994, 0.5231761932373047, 0.6278318762779236, -0.05102801322937012, 0.7392087578773499, 0.6600827574729919, -0.060915425419807434, 0.955241322517395, 0.6923334002494812, -0.07080282270908356, 1.1712738275527954, 0.72458416223526, -0.08069023489952087, 1.3873064517974854, 0.7568350434303284, -0.090577632188797, 1.6033390760421753, 0.7890859246253967, -0.10046504437923431, 1.8193714618682861, 0.8213368058204651, -0.11035244166851044]);\n",
              "//# sourceURL=js_3a8d9f6526"
            ],
            "text/plain": [
              "<IPython.core.display.Javascript object>"
            ]
          },
          "metadata": {
            "tags": []
          }
        },
        {
          "output_type": "display_data",
          "data": {
            "application/javascript": [
              "window[\"3958b50c-d159-11e9-8d65-0242ac1c0002\"] = window[\"35a4ade4-d159-11e9-8d65-0242ac1c0002\"].getAttribute(\"position\");\n",
              "//# sourceURL=js_32a86244bd"
            ],
            "text/plain": [
              "<IPython.core.display.Javascript object>"
            ]
          },
          "metadata": {
            "tags": []
          }
        },
        {
          "output_type": "display_data",
          "data": {
            "application/javascript": [
              "window[\"3958b50c-d159-11e9-8d65-0242ac1c0002\"].needsUpdate = true;\n",
              "//# sourceURL=js_9d3d4c7c11"
            ],
            "text/plain": [
              "<IPython.core.display.Javascript object>"
            ]
          },
          "metadata": {
            "tags": []
          }
        },
        {
          "output_type": "display_data",
          "data": {
            "application/javascript": [
              "window[\"396cbc82-d159-11e9-8d65-0242ac1c0002\"] = window[\"35a4ade4-d159-11e9-8d65-0242ac1c0002\"].getAttribute(\"position\");\n",
              "//# sourceURL=js_10ad30bf3d"
            ],
            "text/plain": [
              "<IPython.core.display.Javascript object>"
            ]
          },
          "metadata": {
            "tags": []
          }
        },
        {
          "output_type": "display_data",
          "data": {
            "application/javascript": [
              "window[\"396d124a-d159-11e9-8d65-0242ac1c0002\"] = window[\"396cbc82-d159-11e9-8d65-0242ac1c0002\"].copyArray([-1.9365830421447754, -0.747474193572998, 0.19180695712566376, -1.7171452045440674, -0.7211693525314331, 0.18353810906410217, -1.4977073669433594, -0.6948643922805786, 0.1752692461013794, -1.2782694101333618, -0.6685595512390137, 0.1670003980398178, -1.0588315725326538, -0.642254650592804, 0.15873154997825623, -0.8393936157226562, -0.6159497499465942, 0.15046270191669464, -0.6199557185173035, -0.5896448493003845, 0.14219383895397186, -0.40051785111427307, -0.5633400082588196, 0.13392499089241028, -0.1810799539089203, -0.5370351076126099, 0.1256561428308487, 0.038357947021722794, -0.5107302069664001, 0.11738728731870651, 0.2577958405017853, -0.48442530632019043, 0.10911843180656433, 0.47723373770713806, -0.4581204354763031, 0.10084958374500275, 0.6966716647148132, -0.4318155348300934, 0.09258072823286057, 0.916109561920166, -0.40551066398620605, 0.08431187272071838, 1.1355475187301636, -0.37920576333999634, 0.0760430246591568, 1.3549853563308716, -0.3529008626937866, 0.06777417659759521, 1.5744233131408691, -0.3265960216522217, 0.05950532481074333, 1.7938611507415771, -0.3002910912036896, 0.05123646557331085, 2.013298988342285, -0.27398622035980225, 0.04296761751174927, -2.071910858154297, 0.3433040380477905, 0.07047240436077118, -1.852473258972168, 0.36960887908935547, 0.062203552573919296, -1.6330351829528809, 0.39591383934020996, 0.05393470078706741, -1.413597583770752, 0.4222186803817749, 0.04566585272550583, -1.1941596269607544, 0.4485235810279846, 0.03739698976278305, -0.9747216701507568, 0.47482848167419434, 0.029128141701221466, -0.755283772945404, 0.501133382320404, 0.02085930109024048, -0.5358458757400513, 0.5274383425712585, 0.012590445578098297, -0.3164079487323761, 0.5537430644035339, 0.004321590065956116, -0.09697005152702332, 0.5800480246543884, -0.003947257995605469, 0.12246783077716827, 0.6063529849052429, -0.01221611350774765, 0.34190574288368225, 0.6326577067375183, -0.020484961569309235, 0.5613436698913574, 0.6589626669883728, -0.028753824532032013, 0.780781626701355, 0.6852677464485168, -0.03702268749475479, 1.000219464302063, 0.7115723490715027, -0.04529152065515518, 1.2196574211120605, 0.7378773093223572, -0.053560368716716766, 1.4390952587127686, 0.7641822695732117, -0.06182921677827835, 1.6585332155227661, 0.7904869914054871, -0.07009807974100113, 1.8779710531234741, 0.8167920708656311, -0.07836692780256271]);\n",
              "//# sourceURL=js_e9095c7e71"
            ],
            "text/plain": [
              "<IPython.core.display.Javascript object>"
            ]
          },
          "metadata": {
            "tags": []
          }
        },
        {
          "output_type": "display_data",
          "data": {
            "application/javascript": [
              "window[\"396d625e-d159-11e9-8d65-0242ac1c0002\"] = window[\"35a4ade4-d159-11e9-8d65-0242ac1c0002\"].getAttribute(\"position\");\n",
              "//# sourceURL=js_ad7b94bcf7"
            ],
            "text/plain": [
              "<IPython.core.display.Javascript object>"
            ]
          },
          "metadata": {
            "tags": []
          }
        },
        {
          "output_type": "display_data",
          "data": {
            "application/javascript": [
              "window[\"396d625e-d159-11e9-8d65-0242ac1c0002\"].needsUpdate = true;\n",
              "//# sourceURL=js_a124f993a0"
            ],
            "text/plain": [
              "<IPython.core.display.Javascript object>"
            ]
          },
          "metadata": {
            "tags": []
          }
        },
        {
          "output_type": "display_data",
          "data": {
            "application/javascript": [
              "window[\"3981b33a-d159-11e9-8d65-0242ac1c0002\"] = window[\"35a4ade4-d159-11e9-8d65-0242ac1c0002\"].getAttribute(\"position\");\n",
              "//# sourceURL=js_0bb43fca0d"
            ],
            "text/plain": [
              "<IPython.core.display.Javascript object>"
            ]
          },
          "metadata": {
            "tags": []
          }
        },
        {
          "output_type": "display_data",
          "data": {
            "application/javascript": [
              "window[\"398203f8-d159-11e9-8d65-0242ac1c0002\"] = window[\"3981b33a-d159-11e9-8d65-0242ac1c0002\"].copyArray([-1.970794677734375, -0.6647771596908569, 0.17916400730609894, -1.7478164434432983, -0.6443294286727905, 0.17298930883407593, -1.5248380899429321, -0.6238816976547241, 0.16681459546089172, -1.301859974861145, -0.6034339666366577, 0.16063988208770752, -1.0788816213607788, -0.5829862356185913, 0.15446516871452332, -0.8559033870697021, -0.5625385046005249, 0.1482904553413391, -0.6329251527786255, -0.5420907735824585, 0.1421157419681549, -0.40994688868522644, -0.5216429829597473, 0.1359410434961319, -0.18696865439414978, -0.5011952519416809, 0.1297663301229477, 0.03600959852337837, -0.4807475209236145, 0.12359161674976349, 0.2589878439903259, -0.4602997899055481, 0.11741690337657928, 0.481966108083725, -0.4398520290851593, 0.11124219745397568, 0.704944372177124, -0.4194042980670929, 0.10506748408079147, 0.9279226064682007, -0.3989565372467041, 0.09889277070760727, 1.1509007215499878, -0.3785088062286377, 0.09271806478500366, 1.373879075050354, -0.3580610752105713, 0.08654335141181946, 1.5968571901321411, -0.3376133441925049, 0.08036864548921585, 1.8198355436325073, -0.3171655833721161, 0.07419392466545105, 2.042813777923584, -0.29671788215637207, 0.06801922619342804, -2.0756380558013916, 0.444641649723053, 0.06697743386030197, -1.8526599407196045, 0.4650893807411194, 0.060802727937698364, -1.6296815872192383, 0.48553723096847534, 0.05462801456451416, -1.4067034721374512, 0.5059848427772522, 0.04845331609249115, -1.1837252378463745, 0.5264326930046082, 0.04227859526872635, -0.9607468843460083, 0.5468804240226746, 0.036103881895542145, -0.7377686500549316, 0.567328155040741, 0.029929175972938538, -0.514790415763855, 0.5877758860588074, 0.02375447005033493, -0.2918121814727783, 0.6082234978675842, 0.01757974922657013, -0.06883394718170166, 0.6286714673042297, 0.011405043303966522, 0.154144287109375, 0.6491190791130066, 0.005230329930782318, 0.37712258100509644, 0.6695669293403625, -0.0009443759918212891, 0.6001008749008179, 0.6900145411491394, -0.007119074463844299, 0.8230791091918945, 0.7104623913764954, -0.013293787837028503, 1.0460572242736816, 0.7309101223945618, -0.0194685161113739, 1.2690355777740479, 0.7513578534126282, -0.025643229484558105, 1.492013692855835, 0.7718055844306946, -0.031817927956581116, 1.7149919271469116, 0.792253315448761, -0.03799264132976532, 1.9379700422286987, 0.8127010464668274, -0.04416733980178833]);\n",
              "//# sourceURL=js_b7ee03de50"
            ],
            "text/plain": [
              "<IPython.core.display.Javascript object>"
            ]
          },
          "metadata": {
            "tags": []
          }
        },
        {
          "output_type": "display_data",
          "data": {
            "application/javascript": [
              "window[\"39824a7a-d159-11e9-8d65-0242ac1c0002\"] = window[\"35a4ade4-d159-11e9-8d65-0242ac1c0002\"].getAttribute(\"position\");\n",
              "//# sourceURL=js_2df140116d"
            ],
            "text/plain": [
              "<IPython.core.display.Javascript object>"
            ]
          },
          "metadata": {
            "tags": []
          }
        },
        {
          "output_type": "display_data",
          "data": {
            "application/javascript": [
              "window[\"39824a7a-d159-11e9-8d65-0242ac1c0002\"].needsUpdate = true;\n",
              "//# sourceURL=js_f23a81958a"
            ],
            "text/plain": [
              "<IPython.core.display.Javascript object>"
            ]
          },
          "metadata": {
            "tags": []
          }
        },
        {
          "output_type": "display_data",
          "data": {
            "application/javascript": [
              "window[\"399672a2-d159-11e9-8d65-0242ac1c0002\"] = window[\"35a4ade4-d159-11e9-8d65-0242ac1c0002\"].getAttribute(\"position\");\n",
              "//# sourceURL=js_0350103a96"
            ],
            "text/plain": [
              "<IPython.core.display.Javascript object>"
            ]
          },
          "metadata": {
            "tags": []
          }
        },
        {
          "output_type": "display_data",
          "data": {
            "application/javascript": [
              "window[\"3996c18a-d159-11e9-8d65-0242ac1c0002\"] = window[\"399672a2-d159-11e9-8d65-0242ac1c0002\"].copyArray([-2.0036773681640625, -0.5842923521995544, 0.16167616844177246, -1.7772690057754517, -0.5695589780807495, 0.15789012610912323, -1.5508607625961304, -0.5548256039619446, 0.154104083776474, -1.3244524002075195, -0.5400921702384949, 0.15031805634498596, -1.0980437994003296, -0.5253587961196899, 0.14653201401233673, -0.8716355562210083, -0.510625422000885, 0.1427459716796875, -0.6452272534370422, -0.4958919882774353, 0.13895992934703827, -0.41881880164146423, -0.48115861415863037, 0.13517388701438904, -0.192410409450531, -0.46642521023750305, 0.131387859582901, 0.03399796038866043, -0.45169180631637573, 0.12760181725025177, 0.26040634512901306, -0.4369584023952484, 0.12381577491760254, 0.4868147075176239, -0.4222249984741211, 0.1200297400355339, 0.7132231593132019, -0.40749162435531616, 0.11624370515346527, 0.939631462097168, -0.39275822043418884, 0.11245766282081604, 1.1660398244857788, -0.3780248165130615, 0.10867162048816681, 1.3924484252929688, -0.3632914423942566, 0.10488558560609818, 1.6188567876815796, -0.3485580384731293, 0.10109955072402954, 1.8452650308609009, -0.33382463455200195, 0.09731350839138031, 2.0716733932495117, -0.319091260433197, 0.09352747350931168, -2.0787672996520996, 0.5431019067764282, 0.058488428592681885, -1.8523592948913574, 0.5578355193138123, 0.054702386260032654, -1.625950813293457, 0.5725688338279724, 0.05091634392738342, -1.3995424509048462, 0.5873021483421326, 0.04713030904531479, -1.173134207725525, 0.6020354628562927, 0.043344274163246155, -0.9467257261276245, 0.6167688965797424, 0.039558231830596924, -0.7203173041343689, 0.6315022110939026, 0.03577219694852829, -0.4939088821411133, 0.6462356448173523, 0.03198615461587906, -0.26750051975250244, 0.6609691977500916, 0.028200112283229828, -0.04109211266040802, 0.6757025122642517, 0.024414077401161194, 0.185316264629364, 0.6904359459877014, 0.02062804251909256, 0.41172468662261963, 0.7051692605018616, 0.01684200018644333, 0.6381330490112305, 0.7199026942253113, 0.013055972754955292, 0.8645414710044861, 0.7346360087394714, 0.009269922971725464, 1.0909498929977417, 0.7493695616722107, 0.005483895540237427, 1.317358374595642, 0.7641028761863708, 0.0016978532075881958, 1.543766736984253, 0.7788363099098206, -0.002088189125061035, 1.7701750993728638, 0.7935697436332703, -0.005874231457710266, 1.9965834617614746, 0.8083032965660095, -0.00966024398803711]);\n",
              "//# sourceURL=js_146b675021"
            ],
            "text/plain": [
              "<IPython.core.display.Javascript object>"
            ]
          },
          "metadata": {
            "tags": []
          }
        },
        {
          "output_type": "display_data",
          "data": {
            "application/javascript": [
              "window[\"39970b18-d159-11e9-8d65-0242ac1c0002\"] = window[\"35a4ade4-d159-11e9-8d65-0242ac1c0002\"].getAttribute(\"position\");\n",
              "//# sourceURL=js_b7aae08943"
            ],
            "text/plain": [
              "<IPython.core.display.Javascript object>"
            ]
          },
          "metadata": {
            "tags": []
          }
        },
        {
          "output_type": "display_data",
          "data": {
            "application/javascript": [
              "window[\"39970b18-d159-11e9-8d65-0242ac1c0002\"].needsUpdate = true;\n",
              "//# sourceURL=js_672a4741a2"
            ],
            "text/plain": [
              "<IPython.core.display.Javascript object>"
            ]
          },
          "metadata": {
            "tags": []
          }
        },
        {
          "output_type": "display_data",
          "data": {
            "application/javascript": [
              "window[\"39ab410a-d159-11e9-8d65-0242ac1c0002\"] = window[\"35a4ade4-d159-11e9-8d65-0242ac1c0002\"].getAttribute(\"position\");\n",
              "//# sourceURL=js_d25bf0d875"
            ],
            "text/plain": [
              "<IPython.core.display.Javascript object>"
            ]
          },
          "metadata": {
            "tags": []
          }
        },
        {
          "output_type": "display_data",
          "data": {
            "application/javascript": [
              "window[\"39abe4a2-d159-11e9-8d65-0242ac1c0002\"] = window[\"39ab410a-d159-11e9-8d65-0242ac1c0002\"].copyArray([-2.033226728439331, -0.506671130657196, 0.14120079576969147, -1.8037357330322266, -0.4974430799484253, 0.13988864421844482, -1.574244499206543, -0.48821502923965454, 0.13857650756835938, -1.3447532653808594, -0.4789869487285614, 0.13726435601711273, -1.1152620315551758, -0.46975886821746826, 0.13595221936702728, -0.8857707381248474, -0.4605308175086975, 0.13464008271694183, -0.6562795639038086, -0.45130276679992676, 0.1333279311656952, -0.4267882704734802, -0.4420746862888336, 0.13201579451560974, -0.19729703664779663, -0.4328466057777405, 0.1307036429643631, 0.03219419717788696, -0.4236185550689697, 0.12939150631427765, 0.26168543100357056, -0.414390504360199, 0.1280793696641922, 0.49117666482925415, -0.40516242384910583, 0.12676721811294556, 0.7206679582595825, -0.3959343433380127, 0.1254550814628601, 0.9501591324806213, -0.38670629262924194, 0.12414293736219406, 1.1796503067016602, -0.3774782419204712, 0.12283079326152802, 1.4091417789459229, -0.36825016140937805, 0.12151864916086197, 1.6386330127716064, -0.3590220808982849, 0.12020650506019592, 1.868124008178711, -0.34979403018951416, 0.11889436841011047, 2.0976150035858154, -0.3405659794807434, 0.11758222430944443, -2.0797510147094727, 0.6368868350982666, 0.046657495200634, -1.8502600193023682, 0.6461148262023926, 0.04534535855054855, -1.6207687854766846, 0.6553429365158081, 0.04403321444988251, -1.3912773132324219, 0.6645709276199341, 0.04272107034921646, -1.1617860794067383, 0.6737990379333496, 0.041408926248550415, -0.9322949051856995, 0.6830271482467651, 0.04009678214788437, -0.7028036713600159, 0.6922551393508911, 0.03878463804721832, -0.4733124375343323, 0.7014832496643066, 0.037472501397132874, -0.24382120370864868, 0.7107113599777222, 0.03616035729646683, -0.0143299400806427, 0.7199394702911377, 0.03484821319580078, 0.2151612937450409, 0.7291675806045532, 0.03353607654571533, 0.4446525275707245, 0.7383955717086792, 0.03222392499446869, 0.6741437911987305, 0.7476235628128052, 0.03091178834438324, 0.9036350250244141, 0.7568516731262207, 0.029599644243717194, 1.1331262588500977, 0.7660797834396362, 0.028287500143051147, 1.3626174926757812, 0.7753078937530518, 0.0269753560423851, 1.5921087265014648, 0.7845358848571777, 0.025663219392299652, 1.8215999603271484, 0.7937639951705933, 0.02435106784105301, 2.051091432571411, 0.8029919862747192, 0.02303893119096756]);\n",
              "//# sourceURL=js_9b720654f1"
            ],
            "text/plain": [
              "<IPython.core.display.Javascript object>"
            ]
          },
          "metadata": {
            "tags": []
          }
        },
        {
          "output_type": "display_data",
          "data": {
            "application/javascript": [
              "window[\"39ac2ade-d159-11e9-8d65-0242ac1c0002\"] = window[\"35a4ade4-d159-11e9-8d65-0242ac1c0002\"].getAttribute(\"position\");\n",
              "//# sourceURL=js_c4c4350d99"
            ],
            "text/plain": [
              "<IPython.core.display.Javascript object>"
            ]
          },
          "metadata": {
            "tags": []
          }
        },
        {
          "output_type": "display_data",
          "data": {
            "application/javascript": [
              "window[\"39ac2ade-d159-11e9-8d65-0242ac1c0002\"].needsUpdate = true;\n",
              "//# sourceURL=js_3ea1466143"
            ],
            "text/plain": [
              "<IPython.core.display.Javascript object>"
            ]
          },
          "metadata": {
            "tags": []
          }
        },
        {
          "output_type": "display_data",
          "data": {
            "application/javascript": [
              "window[\"39c0892a-d159-11e9-8d65-0242ac1c0002\"] = window[\"35a4ade4-d159-11e9-8d65-0242ac1c0002\"].getAttribute(\"position\");\n",
              "//# sourceURL=js_4c0231a3be"
            ],
            "text/plain": [
              "<IPython.core.display.Javascript object>"
            ]
          },
          "metadata": {
            "tags": []
          }
        },
        {
          "output_type": "display_data",
          "data": {
            "application/javascript": [
              "window[\"39c0db32-d159-11e9-8d65-0242ac1c0002\"] = window[\"39c0892a-d159-11e9-8d65-0242ac1c0002\"].copyArray([-2.057631015777588, -0.43264105916023254, 0.11975111067295074, -1.8256186246871948, -0.4286336898803711, 0.1207781657576561, -1.5936062335968018, -0.42462629079818726, 0.12180522084236145, -1.3615936040878296, -0.4206188917160034, 0.1228322759270668, -1.129581093788147, -0.4166114926338196, 0.12385933101177216, -0.8975684642791748, -0.41260409355163574, 0.1248863935470581, -0.6655559539794922, -0.4085966944694519, 0.12591344118118286, -0.4335433542728424, -0.40458932518959045, 0.1269405037164688, -0.2015308141708374, -0.4005819261074066, 0.12796755135059357, 0.030481722205877304, -0.3965745270252228, 0.12899461388587952, 0.2624942660331726, -0.39256712794303894, 0.13002167642116547, 0.4945068061351776, -0.3885597288608551, 0.13104872405529022, 0.7265193462371826, -0.38455235958099365, 0.13207578659057617, 0.9585318565368652, -0.3805449604988098, 0.13310283422470093, 1.1905444860458374, -0.376537561416626, 0.13412989675998688, 1.42255699634552, -0.37253016233444214, 0.13515694439411163, 1.6545696258544922, -0.3685227632522583, 0.13618400692939758, 1.8865820169448853, -0.36451536417007446, 0.13721105456352234, 2.1185946464538574, -0.360507994890213, 0.1382381170988083, -2.0772297382354736, 0.7242133617401123, 0.03328236937522888, -1.8452175855636597, 0.7282209396362305, 0.03430943191051483, -1.6132049560546875, 0.7322282791137695, 0.03533647209405899, -1.3811924457550049, 0.7362356185913086, 0.03636353462934494, -1.1491799354553223, 0.7402430772781372, 0.03739058971405029, -0.9171673059463501, 0.7442504167556763, 0.03841765224933624, -0.6851546764373779, 0.7482578754425049, 0.039444699883461, -0.4531421363353729, 0.7522653341293335, 0.04047175496816635, -0.22112959623336792, 0.7562727928161621, 0.0414988175034523, 0.010882938280701637, 0.7602798938751221, 0.042525872588157654, 0.24289549887180328, 0.7642874717712402, 0.04355292767286301, 0.4749080538749695, 0.7682948112487793, 0.04457998275756836, 0.7069205641746521, 0.7723021507263184, 0.04560703784227371, 0.9389331340789795, 0.7763097286224365, 0.046634092926979065, 1.170945644378662, 0.780316948890686, 0.04766114056110382, 1.4029581546783447, 0.7843244075775146, 0.04868821054697037, 1.6349705457687378, 0.7883318662643433, 0.04971525818109512, 1.8669832944869995, 0.7923393249511719, 0.05074232071638107, 2.0989956855773926, 0.7963466644287109, 0.05176936835050583]);\n",
              "//# sourceURL=js_24e4bd2f8e"
            ],
            "text/plain": [
              "<IPython.core.display.Javascript object>"
            ]
          },
          "metadata": {
            "tags": []
          }
        },
        {
          "output_type": "display_data",
          "data": {
            "application/javascript": [
              "window[\"39c11e08-d159-11e9-8d65-0242ac1c0002\"] = window[\"35a4ade4-d159-11e9-8d65-0242ac1c0002\"].getAttribute(\"position\");\n",
              "//# sourceURL=js_040abf83c6"
            ],
            "text/plain": [
              "<IPython.core.display.Javascript object>"
            ]
          },
          "metadata": {
            "tags": []
          }
        },
        {
          "output_type": "display_data",
          "data": {
            "application/javascript": [
              "window[\"39c11e08-d159-11e9-8d65-0242ac1c0002\"].needsUpdate = true;\n",
              "//# sourceURL=js_696694b92f"
            ],
            "text/plain": [
              "<IPython.core.display.Javascript object>"
            ]
          },
          "metadata": {
            "tags": []
          }
        },
        {
          "output_type": "display_data",
          "data": {
            "application/javascript": [
              "window[\"39d513ea-d159-11e9-8d65-0242ac1c0002\"] = window[\"35a4ade4-d159-11e9-8d65-0242ac1c0002\"].getAttribute(\"position\");\n",
              "//# sourceURL=js_69aa1da64c"
            ],
            "text/plain": [
              "<IPython.core.display.Javascript object>"
            ]
          },
          "metadata": {
            "tags": []
          }
        },
        {
          "output_type": "display_data",
          "data": {
            "application/javascript": [
              "window[\"39d56476-d159-11e9-8d65-0242ac1c0002\"] = window[\"39d513ea-d159-11e9-8d65-0242ac1c0002\"].copyArray([-2.075411319732666, -0.3629559874534607, 0.09928718954324722, -1.8416146039962769, -0.3638048470020294, 0.1023111417889595, -1.6078180074691772, -0.36465370655059814, 0.10533509403467178, -1.3740214109420776, -0.3655025362968445, 0.10835903882980347, -1.140224814414978, -0.3663513958454132, 0.11138299107551575, -0.9064282774925232, -0.36720025539398193, 0.11440694332122803, -0.6726316809654236, -0.36804911494255066, 0.11743089556694031, -0.43883514404296875, -0.3688979744911194, 0.12045484781265259, -0.20503857731819153, -0.3697468340396881, 0.12347880005836487, 0.028757985681295395, -0.37059569358825684, 0.12650275230407715, 0.2625545561313629, -0.37144455313682556, 0.12952670454978943, 0.49635112285614014, -0.3722934126853943, 0.1325506567955017, 0.730147659778595, -0.373142272233963, 0.135574609041214, 0.9639442563056946, -0.37399113178253174, 0.13859856128692627, 1.1977406740188599, -0.37483999133110046, 0.14162251353263855, 1.4315372705459595, -0.3756888508796692, 0.14464646577835083, 1.665333867073059, -0.3765376806259155, 0.1476704180240631, 1.8991304636001587, -0.37738654017448425, 0.1506943702697754, 2.132927417755127, -0.378235399723053, 0.15371832251548767, -2.0701522827148438, 0.8034367561340332, 0.020115233957767487, -1.8363556861877441, 0.802587628364563, 0.023139193654060364, -1.6025593280792236, 0.8017388582229614, 0.026163145899772644, -1.368762731552124, 0.8008900880813599, 0.029187090694904327, -1.1349660158157349, 0.8000411987304688, 0.03221104294061661, -0.9011693596839905, 0.7991924285888672, 0.03523499518632889, -0.6673728227615356, 0.7983434200286865, 0.03825893998146057, -0.4335762560367584, 0.797494649887085, 0.04128289967775345, -0.1997796893119812, 0.7966456413269043, 0.04430685192346573, 0.03401688486337662, 0.7957968711853027, 0.04733079671859741, 0.26781344413757324, 0.7949479818344116, 0.05035474896430969, 0.5016100406646729, 0.7940992116928101, 0.05337870121002197, 0.7354065775871277, 0.793250322341919, 0.056402646005153656, 0.9692031741142273, 0.7924014329910278, 0.05942660570144653, 1.2029997110366821, 0.7915527820587158, 0.062450557947158813, 1.4367963075637817, 0.7907036542892456, 0.0654745101928711, 1.6705927848815918, 0.7898550033569336, 0.06849846243858337, 1.904389500617981, 0.7890059947967529, 0.07152241468429565, 2.138185739517212, 0.7881571054458618, 0.07454635947942734]);\n",
              "//# sourceURL=js_e059418a63"
            ],
            "text/plain": [
              "<IPython.core.display.Javascript object>"
            ]
          },
          "metadata": {
            "tags": []
          }
        },
        {
          "output_type": "display_data",
          "data": {
            "application/javascript": [
              "window[\"39d5bac0-d159-11e9-8d65-0242ac1c0002\"] = window[\"35a4ade4-d159-11e9-8d65-0242ac1c0002\"].getAttribute(\"position\");\n",
              "//# sourceURL=js_6851afe0e1"
            ],
            "text/plain": [
              "<IPython.core.display.Javascript object>"
            ]
          },
          "metadata": {
            "tags": []
          }
        },
        {
          "output_type": "display_data",
          "data": {
            "application/javascript": [
              "window[\"39d5bac0-d159-11e9-8d65-0242ac1c0002\"].needsUpdate = true;\n",
              "//# sourceURL=js_c992b67fda"
            ],
            "text/plain": [
              "<IPython.core.display.Javascript object>"
            ]
          },
          "metadata": {
            "tags": []
          }
        },
        {
          "output_type": "display_data",
          "data": {
            "application/javascript": [
              "window[\"39ea067e-d159-11e9-8d65-0242ac1c0002\"] = window[\"35a4ade4-d159-11e9-8d65-0242ac1c0002\"].getAttribute(\"position\");\n",
              "//# sourceURL=js_7ef00a630c"
            ],
            "text/plain": [
              "<IPython.core.display.Javascript object>"
            ]
          },
          "metadata": {
            "tags": []
          }
        },
        {
          "output_type": "display_data",
          "data": {
            "application/javascript": [
              "window[\"39ea593a-d159-11e9-8d65-0242ac1c0002\"] = window[\"39ea067e-d159-11e9-8d65-0242ac1c0002\"].copyArray([-2.0855367183685303, -0.29833200573921204, 0.08148549497127533, -1.8508175611495972, -0.30359575152397156, 0.08599388599395752, -1.616098403930664, -0.3088594973087311, 0.09050227701663971, -1.3813791275024414, -0.314123272895813, 0.0950106680393219, -1.1466599702835083, -0.3193870186805725, 0.09951905906200409, -0.9119408130645752, -0.32465076446533203, 0.10402745753526688, -0.6772215962409973, -0.32991454005241394, 0.10853584855794907, -0.4425024092197418, -0.33517828583717346, 0.11304424703121185, -0.20778319239616394, -0.34044206142425537, 0.11755263805389404, 0.026936005800962448, -0.3457058072090149, 0.12206102907657623, 0.26165521144866943, -0.3509695529937744, 0.12656942009925842, 0.4963743984699249, -0.3562333285808563, 0.1310778111219406, 0.7310935854911804, -0.36149707436561584, 0.1355862021446228, 0.9658128023147583, -0.36676084995269775, 0.1400946080684662, 1.200532078742981, -0.3720245957374573, 0.14460299909114838, 1.435251235961914, -0.3772883415222168, 0.14911139011383057, 1.6699705123901367, -0.3825521171092987, 0.15361978113651276, 1.9046896696090698, -0.3878158628940582, 0.15812817215919495, 2.139408826828003, -0.39307960867881775, 0.16263656318187714, -2.057865619659424, 0.8731879591941833, 0.00865810364484787, -1.8231465816497803, 0.8679242730140686, 0.013166487216949463, -1.5884274244308472, 0.8626604676246643, 0.01767488569021225, -1.3537081480026245, 0.85739666223526, 0.022183284163475037, -1.1189889907836914, 0.8521328568458557, 0.026691682636737823, -0.8842697143554688, 0.8468690514564514, 0.031200066208839417, -0.6495505571365356, 0.8416053652763367, 0.0357084646821022, -0.41483134031295776, 0.8363416790962219, 0.04021685570478439, -0.1801121085882187, 0.8310778737068176, 0.04472525417804718, 0.05460707098245621, 0.8258140683174133, 0.04923364520072937, 0.2893262803554535, 0.820550262928009, 0.05374203622341156, 0.524045467376709, 0.8152865767478943, 0.05825041979551315, 0.7587647438049316, 0.8100228905677795, 0.06275881826877594, 0.9934839010238647, 0.8047592043876648, 0.06726720929145813, 1.2282031774520874, 0.7994953989982605, 0.07177560776472092, 1.4629223346710205, 0.7942315936088562, 0.0762840062379837, 1.6976414918899536, 0.7889677882194519, 0.0807923972606659, 1.9323606491088867, 0.7837042212486267, 0.08530078828334808, 2.1670799255371094, 0.7784402966499329, 0.08980917930603027]);\n",
              "//# sourceURL=js_5f4c3f3ad7"
            ],
            "text/plain": [
              "<IPython.core.display.Javascript object>"
            ]
          },
          "metadata": {
            "tags": []
          }
        },
        {
          "output_type": "display_data",
          "data": {
            "application/javascript": [
              "window[\"39eaa8a4-d159-11e9-8d65-0242ac1c0002\"] = window[\"35a4ade4-d159-11e9-8d65-0242ac1c0002\"].getAttribute(\"position\");\n",
              "//# sourceURL=js_3d23bff002"
            ],
            "text/plain": [
              "<IPython.core.display.Javascript object>"
            ]
          },
          "metadata": {
            "tags": []
          }
        },
        {
          "output_type": "display_data",
          "data": {
            "application/javascript": [
              "window[\"39eaa8a4-d159-11e9-8d65-0242ac1c0002\"].needsUpdate = true;\n",
              "//# sourceURL=js_751ef7f7f6"
            ],
            "text/plain": [
              "<IPython.core.display.Javascript object>"
            ]
          },
          "metadata": {
            "tags": []
          }
        },
        {
          "output_type": "display_data",
          "data": {
            "application/javascript": [
              "window[\"39feb7f4-d159-11e9-8d65-0242ac1c0002\"] = window[\"35a4ade4-d159-11e9-8d65-0242ac1c0002\"].getAttribute(\"position\");\n",
              "//# sourceURL=js_56d07ccedb"
            ],
            "text/plain": [
              "<IPython.core.display.Javascript object>"
            ]
          },
          "metadata": {
            "tags": []
          }
        },
        {
          "output_type": "display_data",
          "data": {
            "application/javascript": [
              "window[\"39ff0358-d159-11e9-8d65-0242ac1c0002\"] = window[\"39feb7f4-d159-11e9-8d65-0242ac1c0002\"].copyArray([-2.08750581741333, -0.23938138782978058, 0.06753186881542206, -1.8527889251708984, -0.24855181574821472, 0.07290191203355789, -1.6180721521377563, -0.25772225856781006, 0.07827195525169373, -1.3833553791046143, -0.266892671585083, 0.08364199101924896, -1.1486386060714722, -0.27606311440467834, 0.0890120267868042, -0.9139216542243958, -0.2852335572242737, 0.09438207000494003, -0.6792048811912537, -0.294404000043869, 0.09975211322307587, -0.4444880485534668, -0.30357441306114197, 0.1051221489906311, -0.2097712606191635, -0.3127448558807373, 0.11049218475818634, 0.024945545941591263, -0.32191529870033264, 0.11586222797632217, 0.25966235995292664, -0.331085741519928, 0.12123227119445801, 0.4943791627883911, -0.3402561843395233, 0.12660230696201324, 0.729095995426178, -0.34942659735679626, 0.13197234272956848, 0.9638127684593201, -0.3585970401763916, 0.1373423933982849, 1.198529601097107, -0.36776748299598694, 0.14271242916584015, 1.433246374130249, -0.3769379258155823, 0.14808246493339539, 1.6679631471633911, -0.3861083388328552, 0.15345250070095062, 1.9026799201965332, -0.39527878165245056, 0.15882253646850586, 2.137396812438965, -0.4044492244720459, 0.1641925871372223, -2.0401744842529297, 0.9325059652328491, -1.718848943710327e-05, -1.8054577112197876, 0.9233355522155762, 0.0053528547286987305, -1.5707409381866455, 0.9141650199890137, 0.010722897946834564, -1.3360241651535034, 0.9049946069717407, 0.016092941164970398, -1.1013073921203613, 0.8958241939544678, 0.021462976932525635, -0.8665903210639954, 0.8866539001464844, 0.026833005249500275, -0.6318735480308533, 0.8774833679199219, 0.032203055918216705, -0.3971567153930664, 0.8683128356933594, 0.03757309913635254, -0.16243994235992432, 0.8591424226760864, 0.042943134903907776, 0.07227687537670135, 0.8499720096588135, 0.04831317812204361, 0.306993693113327, 0.8408015966415405, 0.053683217614889145, 0.5417104959487915, 0.8316311836242676, 0.05905324965715408, 0.7764272689819336, 0.8224606513977051, 0.06442329287528992, 1.0111440420150757, 0.8132902383804321, 0.06979332864284515, 1.2458609342575073, 0.8041199445724487, 0.07516336441040039, 1.4805777072906494, 0.7949494123458862, 0.08053341507911682, 1.7152944803237915, 0.7857789993286133, 0.08590345084667206, 1.9500112533569336, 0.7766084671020508, 0.0912734866142273, 2.1847281455993652, 0.7674380540847778, 0.09664352983236313]);\n",
              "//# sourceURL=js_79f1e4fdfb"
            ],
            "text/plain": [
              "<IPython.core.display.Javascript object>"
            ]
          },
          "metadata": {
            "tags": []
          }
        },
        {
          "output_type": "display_data",
          "data": {
            "application/javascript": [
              "window[\"39ff461a-d159-11e9-8d65-0242ac1c0002\"] = window[\"35a4ade4-d159-11e9-8d65-0242ac1c0002\"].getAttribute(\"position\");\n",
              "//# sourceURL=js_daf022fe55"
            ],
            "text/plain": [
              "<IPython.core.display.Javascript object>"
            ]
          },
          "metadata": {
            "tags": []
          }
        },
        {
          "output_type": "display_data",
          "data": {
            "application/javascript": [
              "window[\"39ff461a-d159-11e9-8d65-0242ac1c0002\"].needsUpdate = true;\n",
              "//# sourceURL=js_e19f459000"
            ],
            "text/plain": [
              "<IPython.core.display.Javascript object>"
            ]
          },
          "metadata": {
            "tags": []
          }
        },
        {
          "output_type": "display_data",
          "data": {
            "application/javascript": [
              "window[\"3a1333e6-d159-11e9-8d65-0242ac1c0002\"] = window[\"35a4ade4-d159-11e9-8d65-0242ac1c0002\"].getAttribute(\"position\");\n",
              "//# sourceURL=js_f653851aaf"
            ],
            "text/plain": [
              "<IPython.core.display.Javascript object>"
            ]
          },
          "metadata": {
            "tags": []
          }
        },
        {
          "output_type": "display_data",
          "data": {
            "application/javascript": [
              "window[\"3a138256-d159-11e9-8d65-0242ac1c0002\"] = window[\"3a1333e6-d159-11e9-8d65-0242ac1c0002\"].copyArray([-2.0813684463500977, -0.1865568459033966, 0.05798637494444847, -1.8475794792175293, -0.19907508790493011, 0.06355896592140198, -1.6137902736663818, -0.211593359708786, 0.06913156807422638, -1.3800010681152344, -0.22411158680915833, 0.07470415532588959, -1.1462119817733765, -0.23662985861301422, 0.08027675002813339, -0.912422776222229, -0.24914810061454773, 0.0858493447303772, -0.6786335706710815, -0.26166635751724243, 0.091421939432621, -0.44484448432922363, -0.27418461441993713, 0.09699453413486481, -0.21105530858039856, -0.28670287132263184, 0.10256712883710861, 0.022733846679329872, -0.29922112822532654, 0.10813972353935242, 0.2565230131149292, -0.31173938512802124, 0.11371231824159622, 0.4903121590614319, -0.32425764203071594, 0.11928491294384003, 0.7241013050079346, -0.33677589893341064, 0.12485750764608383, 0.957890510559082, -0.34929415583610535, 0.13043010234832764, 1.19167959690094, -0.36181241273880005, 0.13600268959999084, 1.4254686832427979, -0.37433066964149475, 0.14157529175281525, 1.6592578887939453, -0.38684889674186707, 0.14714787900447845, 1.8930470943450928, -0.39936715364456177, 0.15272048115730286, 2.1268362998962402, -0.41188541054725647, 0.15829306840896606, -2.0173449516296387, 0.9809248447418213, -0.00538298487663269, -1.7835561037063599, 0.9684064388275146, 0.00018960237503051758, -1.5497668981552124, 0.9558882713317871, 0.005762204527854919, -1.3159778118133545, 0.9433701038360596, 0.011334791779518127, -1.082188606262207, 0.9308516979217529, 0.016907386481761932, -0.8483994603157043, 0.9183335304260254, 0.022479981184005737, -0.6146102547645569, 0.9058153629302979, 0.028052575886249542, -0.3808210790157318, 0.8932969570159912, 0.03362517058849335, -0.14703193306922913, 0.8807787895202637, 0.03919776529073715, 0.08675720542669296, 0.8682607412338257, 0.04477035999298096, 0.32054632902145386, 0.855742335319519, 0.050342950969934464, 0.5543355345726013, 0.843224048614502, 0.05591554567217827, 0.788124680519104, 0.8307058811187744, 0.06148814037442207, 1.021913766860962, 0.8181874752044678, 0.06706073880195618, 1.2557029724121094, 0.8056693077087402, 0.07263332605361938, 1.4894921779632568, 0.7931511402130127, 0.07820592075586319, 1.7232812643051147, 0.780632734298706, 0.083778515458107, 1.9570704698562622, 0.7681145668029785, 0.0893511101603508, 2.19085955619812, 0.755596399307251, 0.0949237048625946]);\n",
              "//# sourceURL=js_d55b257407"
            ],
            "text/plain": [
              "<IPython.core.display.Javascript object>"
            ]
          },
          "metadata": {
            "tags": []
          }
        },
        {
          "output_type": "display_data",
          "data": {
            "application/javascript": [
              "window[\"3a13d3d2-d159-11e9-8d65-0242ac1c0002\"] = window[\"35a4ade4-d159-11e9-8d65-0242ac1c0002\"].getAttribute(\"position\");\n",
              "//# sourceURL=js_1ea9cf57c5"
            ],
            "text/plain": [
              "<IPython.core.display.Javascript object>"
            ]
          },
          "metadata": {
            "tags": []
          }
        },
        {
          "output_type": "display_data",
          "data": {
            "application/javascript": [
              "window[\"3a13d3d2-d159-11e9-8d65-0242ac1c0002\"].needsUpdate = true;\n",
              "//# sourceURL=js_04f5ed1cf3"
            ],
            "text/plain": [
              "<IPython.core.display.Javascript object>"
            ]
          },
          "metadata": {
            "tags": []
          }
        },
        {
          "output_type": "display_data",
          "data": {
            "application/javascript": [
              "window[\"3a27dcba-d159-11e9-8d65-0242ac1c0002\"] = window[\"35a4ade4-d159-11e9-8d65-0242ac1c0002\"].getAttribute(\"position\");\n",
              "//# sourceURL=js_8e2caac64a"
            ],
            "text/plain": [
              "<IPython.core.display.Javascript object>"
            ]
          },
          "metadata": {
            "tags": []
          }
        },
        {
          "output_type": "display_data",
          "data": {
            "application/javascript": [
              "window[\"3a282a8a-d159-11e9-8d65-0242ac1c0002\"] = window[\"3a27dcba-d159-11e9-8d65-0242ac1c0002\"].copyArray([-2.0676963329315186, -0.140115886926651, 0.05275147408246994, -1.8357003927230835, -0.15539270639419556, 0.05790788680315018, -1.603704571723938, -0.1706695258617401, 0.06306430697441101, -1.371708869934082, -0.18594634532928467, 0.06822071969509125, -1.139713168144226, -0.2012231945991516, 0.07337713986635208, -0.9077172875404358, -0.21650001406669617, 0.07853356003761292, -0.6757215261459351, -0.23177683353424072, 0.08368997275829315, -0.44372573494911194, -0.24705366790294647, 0.08884639292955399, -0.21172994375228882, -0.2623305022716522, 0.09400280565023422, 0.02026582695543766, -0.2776073217391968, 0.09915922582149506, 0.25226160883903503, -0.29288414120674133, 0.10431564599275589, 0.48425737023353577, -0.3081609904766083, 0.10947205871343613, 0.7162531614303589, -0.32343780994415283, 0.11462847888469696, 0.9482489228248596, -0.3387146294116974, 0.1197848916053772, 1.18024480342865, -0.35399144887924194, 0.12494131177663803, 1.4122405052185059, -0.3692682981491089, 0.13009773194789886, 1.6442362070083618, -0.38454511761665344, 0.1352541446685791, 1.8762320280075073, -0.399821937084198, 0.14041057229042053, 2.1082279682159424, -0.41509875655174255, 0.14556697010993958, -1.990062952041626, 1.0185022354125977, -0.007478035986423492, -1.7580671310424805, 1.003225326538086, -0.0023216158151626587, -1.5260714292526245, 0.9879486560821533, 0.002834796905517578, -1.2940757274627686, 0.9726717472076416, 0.007991217076778412, -1.0620797872543335, 0.9573949575424194, 0.013147637248039246, -0.8300840854644775, 0.9421180486679077, 0.018304049968719482, -0.5980883240699768, 0.9268413782119751, 0.023460470139980316, -0.3660925328731537, 0.9115643501281738, 0.028616882860660553, -0.13409672677516937, 0.8962874412536621, 0.03377330303192139, 0.09789903461933136, 0.8810107707977295, 0.03892971947789192, 0.3298948109149933, 0.8657339811325073, 0.04408613219857216, 0.5618906021118164, 0.8504570722579956, 0.04924255609512329, 0.7938863635063171, 0.8351802825927734, 0.05439896881580353, 1.0258822441101074, 0.8199036121368408, 0.05955538898706436, 1.257878065109253, 0.80462646484375, 0.0647118091583252, 1.4898737668991089, 0.7893497943878174, 0.06986822187900543, 1.7218695878982544, 0.7740730047225952, 0.07502463459968567, 1.9538654088974, 0.7587960958480835, 0.0801810547709465, 2.185861110687256, 0.7435191869735718, 0.08533747494220734]);\n",
              "//# sourceURL=js_30ebb11068"
            ],
            "text/plain": [
              "<IPython.core.display.Javascript object>"
            ]
          },
          "metadata": {
            "tags": []
          }
        },
        {
          "output_type": "display_data",
          "data": {
            "application/javascript": [
              "window[\"3a28684c-d159-11e9-8d65-0242ac1c0002\"] = window[\"35a4ade4-d159-11e9-8d65-0242ac1c0002\"].getAttribute(\"position\");\n",
              "//# sourceURL=js_b15b528615"
            ],
            "text/plain": [
              "<IPython.core.display.Javascript object>"
            ]
          },
          "metadata": {
            "tags": []
          }
        },
        {
          "output_type": "display_data",
          "data": {
            "application/javascript": [
              "window[\"3a28684c-d159-11e9-8d65-0242ac1c0002\"].needsUpdate = true;\n",
              "//# sourceURL=js_a111fc01a6"
            ],
            "text/plain": [
              "<IPython.core.display.Javascript object>"
            ]
          },
          "metadata": {
            "tags": []
          }
        },
        {
          "output_type": "display_data",
          "data": {
            "application/javascript": [
              "window[\"3a3cd58e-d159-11e9-8d65-0242ac1c0002\"] = window[\"35a4ade4-d159-11e9-8d65-0242ac1c0002\"].getAttribute(\"position\");\n",
              "//# sourceURL=js_ba7a36325e"
            ],
            "text/plain": [
              "<IPython.core.display.Javascript object>"
            ]
          },
          "metadata": {
            "tags": []
          }
        },
        {
          "output_type": "display_data",
          "data": {
            "application/javascript": [
              "window[\"3a3d228c-d159-11e9-8d65-0242ac1c0002\"] = window[\"3a3cd58e-d159-11e9-8d65-0242ac1c0002\"].copyArray([-2.0475046634674072, -0.10010966658592224, 0.05114702880382538, -1.8180570602416992, -0.11754706501960754, 0.055376194417476654, -1.588609218597412, -0.13498449325561523, 0.05960536003112793, -1.3591617345809937, -0.15242190659046173, 0.0638345256447792, -1.1297141313552856, -0.16985931992530823, 0.06806369125843048, -0.9002666473388672, -0.18729671835899353, 0.07229286432266235, -0.6708189845085144, -0.20473414659500122, 0.07652202993631363, -0.44137147068977356, -0.22217154502868652, 0.0807511955499649, -0.21192386746406555, -0.23960895836353302, 0.08498036116361618, 0.017523739486932755, -0.2570463716983795, 0.08920952677726746, 0.24697133898735046, -0.2744837999343872, 0.09343869239091873, 0.47641894221305847, -0.2919211983680725, 0.09766785800457001, 0.7058665156364441, -0.3093585968017578, 0.10189702361822128, 0.9353141784667969, -0.3267960250377655, 0.10612618923187256, 1.1647616624832153, -0.3442334234714508, 0.11035536229610443, 1.3942092657089233, -0.3616708517074585, 0.1145845279097557, 1.6236567497253418, -0.3791082501411438, 0.11881369352340698, 1.853104591369629, -0.3965456783771515, 0.12304285913705826, 2.082552194595337, -0.4139830768108368, 0.12727202475070953, -1.9593509435653687, 1.045783281326294, -0.006837144494056702, -1.7299033403396606, 1.0283458232879639, -0.002607978880405426, -1.500455617904663, 1.0109083652496338, 0.0016211941838264465, -1.2710082530975342, 0.9934709072113037, 0.005850352346897125, -1.0415605306625366, 0.9760336875915527, 0.010079510509967804, -0.8121129870414734, 0.9585962295532227, 0.014308683574199677, -0.5826653242111206, 0.9411587715148926, 0.018537849187850952, -0.35321786999702454, 0.9237213134765625, 0.022767014801502228, -0.12377028167247772, 0.9062838554382324, 0.026996184140443802, 0.10567733645439148, 0.8888466358184814, 0.031225353479385376, 0.3351249396800995, 0.8714090585708618, 0.03545451536774635, 0.5645726323127747, 0.8539717197418213, 0.039683688431978226, 0.7940201163291931, 0.8365342617034912, 0.0439128540456295, 1.0234678983688354, 0.8190968036651611, 0.04814201593399048, 1.2529152631759644, 0.801659345626831, 0.052371181547641754, 1.4823628664016724, 0.7842220067977905, 0.05660035088658333, 1.7118103504180908, 0.7667845487594604, 0.060829516500234604, 1.941258192062378, 0.7493472099304199, 0.06505868583917618, 2.170705795288086, 0.7319098711013794, 0.06928784400224686]);\n",
              "//# sourceURL=js_7f1d38a50f"
            ],
            "text/plain": [
              "<IPython.core.display.Javascript object>"
            ]
          },
          "metadata": {
            "tags": []
          }
        },
        {
          "output_type": "display_data",
          "data": {
            "application/javascript": [
              "window[\"3a3d6224-d159-11e9-8d65-0242ac1c0002\"] = window[\"35a4ade4-d159-11e9-8d65-0242ac1c0002\"].getAttribute(\"position\");\n",
              "//# sourceURL=js_35e0579115"
            ],
            "text/plain": [
              "<IPython.core.display.Javascript object>"
            ]
          },
          "metadata": {
            "tags": []
          }
        },
        {
          "output_type": "display_data",
          "data": {
            "application/javascript": [
              "window[\"3a3d6224-d159-11e9-8d65-0242ac1c0002\"].needsUpdate = true;\n",
              "//# sourceURL=js_d97bf586ea"
            ],
            "text/plain": [
              "<IPython.core.display.Javascript object>"
            ]
          },
          "metadata": {
            "tags": []
          }
        },
        {
          "output_type": "display_data",
          "data": {
            "application/javascript": [
              "window[\"3a514dca-d159-11e9-8d65-0242ac1c0002\"] = window[\"35a4ade4-d159-11e9-8d65-0242ac1c0002\"].getAttribute(\"position\");\n",
              "//# sourceURL=js_038f101245"
            ],
            "text/plain": [
              "<IPython.core.display.Javascript object>"
            ]
          },
          "metadata": {
            "tags": []
          }
        },
        {
          "output_type": "display_data",
          "data": {
            "application/javascript": [
              "window[\"3a5198c0-d159-11e9-8d65-0242ac1c0002\"] = window[\"3a514dca-d159-11e9-8d65-0242ac1c0002\"].copyArray([-2.022145986557007, -0.06639498472213745, 0.052069008350372314, -1.7958513498306274, -0.08540675044059753, 0.05501607060432434, -1.5695565938949585, -0.1044185608625412, 0.05796313285827637, -1.3432618379592896, -0.12343034148216248, 0.0609101876616478, -1.1169672012329102, -0.14244213700294495, 0.06385724991559982, -0.890672504901886, -0.16145391762256622, 0.06680430471897125, -0.664377748966217, -0.1804657131433487, 0.06975136697292328, -0.43808314204216003, -0.19947749376296997, 0.0726984292268753, -0.21178844571113586, -0.21848928928375244, 0.07564548403024673, 0.014506256207823753, -0.2375010848045349, 0.07859254628419876, 0.24080094695091248, -0.2565128803253174, 0.08153960853815079, 0.46709564328193665, -0.27552467584609985, 0.08448666334152222, 0.6933903098106384, -0.2945364713668823, 0.08743372559547424, 0.9196850657463074, -0.3135482668876648, 0.09038078784942627, 1.145979642868042, -0.3325600326061249, 0.0933278426527977, 1.3722742795944214, -0.35157182812690735, 0.09627490490674973, 1.5985690355300903, -0.37058359384536743, 0.09922195971012115, 1.8248637914657593, -0.3895954191684723, 0.10216902196407318, 2.0511586666107178, -0.4086071848869324, 0.10511608421802521, -1.9264668226242065, 1.0637147426605225, -0.004350535571575165, -1.7001721858978271, 1.0447030067443848, -0.0014034807682037354, -1.4738773107528687, 1.025691032409668, 0.001543581485748291, -1.2475827932357788, 1.0066792964935303, 0.0044906362891197205, -1.0212880373001099, 0.9876675009727478, 0.007437698543071747, -0.7949934601783752, 0.9686557650566101, 0.010384753346443176, -0.5686987042427063, 0.9496440291404724, 0.013331815600395203, -0.3424040377140045, 0.9306322932243347, 0.01627887785434723, -0.11610928922891617, 0.9116204380989075, 0.019225936383008957, 0.11018539220094681, 0.8926085829734802, 0.022172994911670685, 0.33648011088371277, 0.8735968470573425, 0.02512005716562271, 0.5627748370170593, 0.8545848727226257, 0.02806711569428444, 0.7890695333480835, 0.835573136806488, 0.031014177948236465, 1.0153640508651733, 0.8165612816810608, 0.03396123647689819, 1.2416589260101318, 0.7975495457649231, 0.03690829500555992, 1.4679535627365112, 0.7785380482673645, 0.03985535353422165, 1.6942481994628906, 0.7595260739326477, 0.04280241206288338, 1.9205430746078491, 0.7405142188072205, 0.0457494780421257, 2.1468377113342285, 0.7215024828910828, 0.04869653284549713]);\n",
              "//# sourceURL=js_2f9a5c6313"
            ],
            "text/plain": [
              "<IPython.core.display.Javascript object>"
            ]
          },
          "metadata": {
            "tags": []
          }
        },
        {
          "output_type": "display_data",
          "data": {
            "application/javascript": [
              "window[\"3a51d61e-d159-11e9-8d65-0242ac1c0002\"] = window[\"35a4ade4-d159-11e9-8d65-0242ac1c0002\"].getAttribute(\"position\");\n",
              "//# sourceURL=js_70c25e63f6"
            ],
            "text/plain": [
              "<IPython.core.display.Javascript object>"
            ]
          },
          "metadata": {
            "tags": []
          }
        },
        {
          "output_type": "display_data",
          "data": {
            "application/javascript": [
              "window[\"3a51d61e-d159-11e9-8d65-0242ac1c0002\"].needsUpdate = true;\n",
              "//# sourceURL=js_b59203cf7a"
            ],
            "text/plain": [
              "<IPython.core.display.Javascript object>"
            ]
          },
          "metadata": {
            "tags": []
          }
        },
        {
          "output_type": "display_data",
          "data": {
            "application/javascript": [
              "window[\"3a659f6e-d159-11e9-8d65-0242ac1c0002\"] = window[\"35a4ade4-d159-11e9-8d65-0242ac1c0002\"].getAttribute(\"position\");\n",
              "//# sourceURL=js_6133b6f4c8"
            ],
            "text/plain": [
              "<IPython.core.display.Javascript object>"
            ]
          },
          "metadata": {
            "tags": []
          }
        },
        {
          "output_type": "display_data",
          "data": {
            "application/javascript": [
              "window[\"3a65f0cc-d159-11e9-8d65-0242ac1c0002\"] = window[\"3a659f6e-d159-11e9-8d65-0242ac1c0002\"].copyArray([-1.9931877851486206, -0.038663268089294434, 0.054194074124097824, -1.770475149154663, -0.058692559599876404, 0.05568506568670273, -1.547762393951416, -0.07872188091278076, 0.057176053524017334, -1.3250495195388794, -0.09875120222568512, 0.05866704508662224, -1.1023368835449219, -0.11878052353858948, 0.06015803664922714, -0.8796240091323853, -0.13880982995033264, 0.061649028211832047, -0.6569111943244934, -0.1588391661643982, 0.06314001977443695, -0.4341984987258911, -0.17886847257614136, 0.06463100761175156, -0.21148571372032166, -0.19889779388904572, 0.06612200289964676, 0.011227055452764034, -0.21892711520195007, 0.06761299073696136, 0.23393982648849487, -0.23895643651485443, 0.06910397857427597, 0.45665258169174194, -0.2589857578277588, 0.07059497386217117, 0.679365336894989, -0.27901506423950195, 0.07208596169948578, 0.9020781517028809, -0.2990444004535675, 0.07357695698738098, 1.124790906906128, -0.31907370686531067, 0.07506794482469559, 1.3475035429000854, -0.3391030430793762, 0.07655893266201019, 1.570216417312622, -0.3591323494911194, 0.0780499279499054, 1.7929291725158691, -0.37916165590286255, 0.07954091578722, 2.015641927719116, -0.3991909623146057, 0.0810319110751152, -1.8927944898605347, 1.0735303163528442, -0.0010863542556762695, -1.670081615447998, 1.0535008907318115, 0.0004046410322189331, -1.4473689794540405, 1.0334715843200684, 0.0018956288695335388, -1.2246562242507935, 1.0134423971176147, 0.0033866167068481445, -1.0019433498382568, 0.9934130907058716, 0.004877611994743347, -0.779230535030365, 0.9733836650848389, 0.006368599832057953, -0.5565177798271179, 0.9533544778823853, 0.007859595119953156, -0.33380505442619324, 0.933324933052063, 0.00935058668255806, -0.11109227687120438, 0.9132958650588989, 0.010841574519872665, 0.11162050068378448, 0.8932663202285767, 0.012332562357187271, 0.33433324098587036, 0.873237133026123, 0.013823557645082474, 0.5570459961891174, 0.8532078266143799, 0.01531454548239708, 0.779758870601654, 0.8331784009933472, 0.016805540770292282, 1.0024715662002563, 0.8131492137908936, 0.018296528607606888, 1.2251842021942139, 0.7931197881698608, 0.019787520170211792, 1.4478970766067505, 0.7730906009674072, 0.021278508007526398, 1.670609951019287, 0.7530611753463745, 0.0227695070207119, 1.8933225870132446, 0.7330319881439209, 0.024260491132736206, 2.116035223007202, 0.7130026817321777, 0.02575148642063141]);\n",
              "//# sourceURL=js_1af772f639"
            ],
            "text/plain": [
              "<IPython.core.display.Javascript object>"
            ]
          },
          "metadata": {
            "tags": []
          }
        },
        {
          "output_type": "display_data",
          "data": {
            "application/javascript": [
              "window[\"3a663578-d159-11e9-8d65-0242ac1c0002\"] = window[\"35a4ade4-d159-11e9-8d65-0242ac1c0002\"].getAttribute(\"position\");\n",
              "//# sourceURL=js_6ccce93273"
            ],
            "text/plain": [
              "<IPython.core.display.Javascript object>"
            ]
          },
          "metadata": {
            "tags": []
          }
        },
        {
          "output_type": "display_data",
          "data": {
            "application/javascript": [
              "window[\"3a663578-d159-11e9-8d65-0242ac1c0002\"].needsUpdate = true;\n",
              "//# sourceURL=js_d69b1ae7cd"
            ],
            "text/plain": [
              "<IPython.core.display.Javascript object>"
            ]
          },
          "metadata": {
            "tags": []
          }
        },
        {
          "output_type": "display_data",
          "data": {
            "application/javascript": [
              "window[\"3a79d664-d159-11e9-8d65-0242ac1c0002\"] = window[\"35a4ade4-d159-11e9-8d65-0242ac1c0002\"].getAttribute(\"position\");\n",
              "//# sourceURL=js_16f4636b9b"
            ],
            "text/plain": [
              "<IPython.core.display.Javascript object>"
            ]
          },
          "metadata": {
            "tags": []
          }
        },
        {
          "output_type": "display_data",
          "data": {
            "application/javascript": [
              "window[\"3a7a24a2-d159-11e9-8d65-0242ac1c0002\"] = window[\"3a79d664-d159-11e9-8d65-0242ac1c0002\"].copyArray([-1.9622857570648193, -0.0164794921875, 0.056190263479948044, -1.7433971166610718, -0.037012383341789246, 0.056232236325740814, -1.5245084762573242, -0.057545289397239685, 0.056274205446243286, -1.3056198358535767, -0.07807815819978714, 0.056316178292036057, -1.0867308378219604, -0.09861106425523758, 0.05635814741253853, -0.8678420186042786, -0.11914396286010742, 0.0564001202583313, -0.648953378200531, -0.13967685401439667, 0.05644208937883377, -0.43006452918052673, -0.1602097451686859, 0.05648406222462654, -0.21117576956748962, -0.18074265122413635, 0.05652603134512901, 0.007712994702160358, -0.2012755423784256, 0.05656800419092178, 0.2266017496585846, -0.22180843353271484, 0.056609977036714554, 0.4454905092716217, -0.24234133958816528, 0.056651946157217026, 0.6643794178962708, -0.2628742456436157, 0.056693919003009796, 0.8832680583000183, -0.2834071218967438, 0.05673588812351227, 1.1021567583084106, -0.3039400279521942, 0.05677786096930504, 1.3210457563400269, -0.32447293400764465, 0.05681983008980751, 1.5399343967437744, -0.3450058102607727, 0.05686180293560028, 1.758823037147522, -0.36553871631622314, 0.05690377205610275, 1.9777116775512695, -0.3860715925693512, 0.05694574490189552, -1.859736442565918, 1.0766273736953735, 0.0018894299864768982, -1.6408476829528809, 1.0560942888259888, 0.0019314028322696686, -1.4219589233398438, 1.0355613231658936, 0.001973375678062439, -1.2030702829360962, 1.0150285959243774, 0.002015344798564911, -0.98418128490448, 0.9944958090782166, 0.0020573101937770844, -0.7652925252914429, 0.9739627242088318, 0.0020992830395698547, -0.5464038848876953, 0.9534298777580261, 0.0021412596106529236, -0.32751503586769104, 0.9328970313072205, 0.002183225005865097, -0.10862628370523453, 0.9123641848564148, 0.002225201576948166, 0.11026246845722198, 0.8918312191963196, 0.002267170697450638, 0.3291512429714203, 0.8712983727455139, 0.0023091398179531097, 0.548039972782135, 0.8507654070854187, 0.0023511089384555817, 0.7669288516044617, 0.830232560634613, 0.002393081784248352, 0.9858176112174988, 0.8096997141838074, 0.002435050904750824, 1.2047061920166016, 0.7891666889190674, 0.0024770237505435944, 1.4235950708389282, 0.7686339020729065, 0.0025189928710460663, 1.6424838304519653, 0.7481008768081665, 0.0025609657168388367, 1.861372470855713, 0.7275679707527161, 0.002602938562631607, 2.080261468887329, 0.7070351839065552, 0.0026449039578437805]);\n",
              "//# sourceURL=js_2b706240c9"
            ],
            "text/plain": [
              "<IPython.core.display.Javascript object>"
            ]
          },
          "metadata": {
            "tags": []
          }
        },
        {
          "output_type": "display_data",
          "data": {
            "application/javascript": [
              "window[\"3a7a64ee-d159-11e9-8d65-0242ac1c0002\"] = window[\"35a4ade4-d159-11e9-8d65-0242ac1c0002\"].getAttribute(\"position\");\n",
              "//# sourceURL=js_12288cf7f9"
            ],
            "text/plain": [
              "<IPython.core.display.Javascript object>"
            ]
          },
          "metadata": {
            "tags": []
          }
        },
        {
          "output_type": "display_data",
          "data": {
            "application/javascript": [
              "window[\"3a7a64ee-d159-11e9-8d65-0242ac1c0002\"].needsUpdate = true;\n",
              "//# sourceURL=js_1fe77e7b54"
            ],
            "text/plain": [
              "<IPython.core.display.Javascript object>"
            ]
          },
          "metadata": {
            "tags": []
          }
        },
        {
          "output_type": "display_data",
          "data": {
            "application/javascript": [
              "window[\"3a8e01fc-d159-11e9-8d65-0242ac1c0002\"] = window[\"35a4ade4-d159-11e9-8d65-0242ac1c0002\"].getAttribute(\"position\");\n",
              "//# sourceURL=js_7fe4cc9dd2"
            ],
            "text/plain": [
              "<IPython.core.display.Javascript object>"
            ]
          },
          "metadata": {
            "tags": []
          }
        },
        {
          "output_type": "display_data",
          "data": {
            "application/javascript": [
              "window[\"3a8e496e-d159-11e9-8d65-0242ac1c0002\"] = window[\"3a8e01fc-d159-11e9-8d65-0242ac1c0002\"].copyArray([-1.9310673475265503, 0.0006772726774215698, 0.056900475174188614, -1.7160598039627075, -0.0198974609375, 0.05566012114286423, -1.5010520219802856, -0.04047222435474396, 0.054419759660959244, -1.2860442399978638, -0.06104697287082672, 0.05317940190434456, -1.0710365772247314, -0.08162172138690948, 0.051939044147729874, -0.8560289144515991, -0.10219646990299225, 0.05069868639111519, -0.6410211324691772, -0.12277122586965561, 0.049458324909210205, -0.4260134696960449, -0.14334598183631897, 0.04821796715259552, -0.21100574731826782, -0.16392073035240173, 0.046977609395980835, 0.004001982510089874, -0.1844954788684845, 0.04573725163936615, 0.21900969743728638, -0.20507022738456726, 0.044496893882751465, 0.4340174198150635, -0.22564497590065002, 0.04325653612613678, 0.6490250825881958, -0.2462197244167328, 0.042016178369522095, 0.8640328645706177, -0.26679450273513794, 0.04077581688761711, 1.07904052734375, -0.2873692512512207, 0.039535459131002426, 1.2940481901168823, -0.30794399976730347, 0.03829510137438774, 1.5090559720993042, -0.32851874828338623, 0.037054743617773056, 1.724063754081726, -0.349093496799469, 0.03581438213586807, 1.9390712976455688, -0.36966824531555176, 0.034574028104543686, -1.8286212682724, 1.074455976486206, 0.0036679133772850037, -1.6136137247085571, 1.053881049156189, 0.00242755189538002, -1.3986059427261353, 1.0333064794540405, 0.0011871978640556335, -1.183598279953003, 1.012731671333313, -5.3159892559051514e-05, -0.968590497970581, 0.9921568632125854, -0.001293521374464035, -0.7535828351974487, 0.971582293510437, -0.00253387913107872, -0.5385751128196716, 0.9510073661804199, -0.0037742331624031067, -0.32356739044189453, 0.9304326772689819, -0.00501459464430809, -0.10855964571237564, 0.9098578691482544, -0.006254948675632477, 0.10644807666540146, 0.8892830610275269, -0.00749531015753746, 0.32145580649375916, 0.8687084913253784, -0.008735671639442444, 0.5364634990692139, 0.8481336832046509, -0.00997602567076683, 0.7514712810516357, 0.8275588750839233, -0.011216387152671814, 0.9664789438247681, 0.8069841861724854, -0.012456744909286499, 1.1814866065979004, 0.7864093780517578, -0.013697098940610886, 1.3964942693710327, 0.7658346891403198, -0.01493746042251587, 1.611501932144165, 0.7452598810195923, -0.016177821904420853, 1.826509952545166, 0.7246851921081543, -0.017418183386325836, 2.041517496109009, 0.7041103839874268, -0.018658533692359924]);\n",
              "//# sourceURL=js_c1e7f394ef"
            ],
            "text/plain": [
              "<IPython.core.display.Javascript object>"
            ]
          },
          "metadata": {
            "tags": []
          }
        },
        {
          "output_type": "display_data",
          "data": {
            "application/javascript": [
              "window[\"3a8e92c0-d159-11e9-8d65-0242ac1c0002\"] = window[\"35a4ade4-d159-11e9-8d65-0242ac1c0002\"].getAttribute(\"position\");\n",
              "//# sourceURL=js_a17c07a28d"
            ],
            "text/plain": [
              "<IPython.core.display.Javascript object>"
            ]
          },
          "metadata": {
            "tags": []
          }
        },
        {
          "output_type": "display_data",
          "data": {
            "application/javascript": [
              "window[\"3a8e92c0-d159-11e9-8d65-0242ac1c0002\"].needsUpdate = true;\n",
              "//# sourceURL=js_d653242b65"
            ],
            "text/plain": [
              "<IPython.core.display.Javascript object>"
            ]
          },
          "metadata": {
            "tags": []
          }
        },
        {
          "output_type": "display_data",
          "data": {
            "application/javascript": [
              "window[\"3aa235aa-d159-11e9-8d65-0242ac1c0002\"] = window[\"35a4ade4-d159-11e9-8d65-0242ac1c0002\"].getAttribute(\"position\");\n",
              "//# sourceURL=js_0fab6c3338"
            ],
            "text/plain": [
              "<IPython.core.display.Javascript object>"
            ]
          },
          "metadata": {
            "tags": []
          }
        },
        {
          "output_type": "display_data",
          "data": {
            "application/javascript": [
              "window[\"3aa295cc-d159-11e9-8d65-0242ac1c0002\"] = window[\"3aa235aa-d159-11e9-8d65-0242ac1c0002\"].copyArray([-1.901029109954834, 0.013376221060752869, 0.055475763976573944, -1.6897881031036377, -0.006836295127868652, 0.05324223265051842, -1.4785468578338623, -0.027048826217651367, 0.051008693873882294, -1.2673059701919556, -0.04726134240627289, 0.04877515882253647, -1.0560648441314697, -0.0674738809466362, 0.046541620045900345, -0.8448237180709839, -0.08768639713525772, 0.04430808126926422, -0.6335826516151428, -0.10789892077445984, 0.042074546217918396, -0.4223414957523346, -0.12811145186424255, 0.03984100744128227, -0.21110041439533234, -0.14832396805286407, 0.03760747238993645, 0.00014068535529077053, -0.1685364991426468, 0.035373933613300323, 0.21138177812099457, -0.1887490302324295, 0.0331403948366642, 0.4226228892803192, -0.20896154642105103, 0.030906859785318375, 0.6338639855384827, -0.22917407751083374, 0.02867332100868225, 0.8451050519943237, -0.24938660860061646, 0.026439784094691277, 1.0563461780548096, -0.2695991098880768, 0.024206247180700302, 1.2675873041152954, -0.2898116707801819, 0.021972710266709328, 1.4788281917572021, -0.3100241720676422, 0.019739175215363503, 1.6900694370269775, -0.3302367031574249, 0.01750563457608223, 1.9013104438781738, -0.35044920444488525, 0.015272101387381554, -1.8006250858306885, 1.0684293508529663, 0.0036085769534111023, -1.5893840789794922, 1.0482169389724731, 0.0013750381767749786, -1.3781429529190063, 1.0280042886734009, -0.0008584968745708466, -1.1669018268585205, 1.0077918767929077, -0.00309203565120697, -0.9556609392166138, 0.9875792860984802, -0.005325570702552795, -0.7444198727607727, 0.9673667550086975, -0.007559105753898621, -0.5331786870956421, 0.9471543431282043, -0.009792640805244446, -0.32193756103515625, 0.9269416928291321, -0.012026187032461166, -0.1106964647769928, 0.9067291617393494, -0.014259718358516693, 0.10054463893175125, 0.8865167498588562, -0.016493257135152817, 0.3117857575416565, 0.866304337978363, -0.018726792186498642, 0.5230268239974976, 0.8460914492607117, -0.020960330963134766, 0.7342678308486938, 0.8258790969848633, -0.02319386601448059, 0.9455089569091797, 0.8056666254997253, -0.025427401065826416, 1.156750202178955, 0.7854540944099426, -0.027660943567752838, 1.3679912090301514, 0.7652415633201599, -0.029894478619098663, 1.5792323350906372, 0.7450290322303772, -0.03212800621986389, 1.7904735803604126, 0.7248165011405945, -0.034361548721790314, 2.0017144680023193, 0.704603910446167, -0.036595091223716736]);\n",
              "//# sourceURL=js_84f3ac816e"
            ],
            "text/plain": [
              "<IPython.core.display.Javascript object>"
            ]
          },
          "metadata": {
            "tags": []
          }
        },
        {
          "output_type": "display_data",
          "data": {
            "application/javascript": [
              "window[\"3aa2e02c-d159-11e9-8d65-0242ac1c0002\"] = window[\"35a4ade4-d159-11e9-8d65-0242ac1c0002\"].getAttribute(\"position\");\n",
              "//# sourceURL=js_41bb5bdd92"
            ],
            "text/plain": [
              "<IPython.core.display.Javascript object>"
            ]
          },
          "metadata": {
            "tags": []
          }
        },
        {
          "output_type": "display_data",
          "data": {
            "application/javascript": [
              "window[\"3aa2e02c-d159-11e9-8d65-0242ac1c0002\"].needsUpdate = true;\n",
              "//# sourceURL=js_03ce503470"
            ],
            "text/plain": [
              "<IPython.core.display.Javascript object>"
            ]
          },
          "metadata": {
            "tags": []
          }
        },
        {
          "output_type": "display_data",
          "data": {
            "application/javascript": [
              "window[\"3ab6913a-d159-11e9-8d65-0242ac1c0002\"] = window[\"35a4ade4-d159-11e9-8d65-0242ac1c0002\"].getAttribute(\"position\");\n",
              "//# sourceURL=js_46471e4c87"
            ],
            "text/plain": [
              "<IPython.core.display.Javascript object>"
            ]
          },
          "metadata": {
            "tags": []
          }
        },
        {
          "output_type": "display_data",
          "data": {
            "application/javascript": [
              "window[\"3ab6dc58-d159-11e9-8d65-0242ac1c0002\"] = window[\"3ab6913a-d159-11e9-8d65-0242ac1c0002\"].copyArray([-1.8734549283981323, 0.022203192114830017, 0.05144780874252319, -1.665717601776123, 0.002697199583053589, 0.048586633056402206, -1.4579800367355347, -0.01680879294872284, 0.04572545737028122, -1.2502427101135254, -0.03631478548049927, 0.042864277958869934, -1.042505145072937, -0.055820778012275696, 0.04000310227274895, -0.8347676992416382, -0.07532677799463272, 0.03714192658662796, -0.6270302534103394, -0.09483277052640915, 0.034280747175216675, -0.41929274797439575, -0.11433877050876617, 0.03141957148909569, -0.21155527234077454, -0.1338447630405426, 0.02855839394032955, -0.003817798336967826, -0.15335075557231903, 0.025697216391563416, 0.2039196789264679, -0.17285674810409546, 0.02283603884279728, 0.4116571545600891, -0.1923627406358719, 0.019974861294031143, 0.6193946599960327, -0.21186873316764832, 0.017113685607910156, 0.8271321058273315, -0.23137474060058594, 0.01425250805914402, 1.0348695516586304, -0.25088071823120117, 0.011391330510377884, 1.2426071166992188, -0.2703867256641388, 0.008530154824256897, 1.450344443321228, -0.2898927330970764, 0.005668977275490761, 1.6580820083618164, -0.30939871072769165, 0.0028077997267246246, 1.8658193349838257, -0.3289046883583069, -5.3375959396362305e-05, -1.7767114639282227, 1.0598562955856323, 0.001398509368300438, -1.5689740180969238, 1.040350317955017, -0.0014626681804656982, -1.361236572265625, 1.0208443403244019, -0.004323843866586685, -1.1534991264343262, 1.0013383626937866, -0.007185023277997971, -0.9457616209983826, 0.9818320870399475, -0.010046195238828659, -0.7380242347717285, 0.9623262286186218, -0.012907378375530243, -0.5302866697311401, 0.9428202509880066, -0.01576855033636093, -0.3225492238998413, 0.9233143925666809, -0.018629729747772217, -0.11481175571680069, 0.9038084149360657, -0.021490905433893204, 0.09292572736740112, 0.8843023180961609, -0.02435208484530449, 0.30066317319869995, 0.8647962212562561, -0.027213260531425476, 0.5084006786346436, 0.8452903032302856, -0.03007443994283676, 0.7161381244659424, 0.8257843255996704, -0.03293561190366745, 0.923875629901886, 0.8062783479690552, -0.035796791315078735, 1.13161301612854, 0.7867723703384399, -0.03865797072649002, 1.3393505811691284, 0.7672662734985352, -0.04151914268732071, 1.5470879077911377, 0.7477603554725647, -0.04438032954931259, 1.754825472831726, 0.7282543778419495, -0.04724150151014328, 1.962562918663025, 0.7087483406066895, -0.05010267347097397]);\n",
              "//# sourceURL=js_b6c99c3611"
            ],
            "text/plain": [
              "<IPython.core.display.Javascript object>"
            ]
          },
          "metadata": {
            "tags": []
          }
        },
        {
          "output_type": "display_data",
          "data": {
            "application/javascript": [
              "window[\"3ab71a6a-d159-11e9-8d65-0242ac1c0002\"] = window[\"35a4ade4-d159-11e9-8d65-0242ac1c0002\"].getAttribute(\"position\");\n",
              "//# sourceURL=js_4ea891dbcc"
            ],
            "text/plain": [
              "<IPython.core.display.Javascript object>"
            ]
          },
          "metadata": {
            "tags": []
          }
        },
        {
          "output_type": "display_data",
          "data": {
            "application/javascript": [
              "window[\"3ab71a6a-d159-11e9-8d65-0242ac1c0002\"].needsUpdate = true;\n",
              "//# sourceURL=js_a1cf682c8b"
            ],
            "text/plain": [
              "<IPython.core.display.Javascript object>"
            ]
          },
          "metadata": {
            "tags": []
          }
        },
        {
          "output_type": "display_data",
          "data": {
            "application/javascript": [
              "window[\"3acae612-d159-11e9-8d65-0242ac1c0002\"] = window[\"35a4ade4-d159-11e9-8d65-0242ac1c0002\"].getAttribute(\"position\");\n",
              "//# sourceURL=js_bca6a23386"
            ],
            "text/plain": [
              "<IPython.core.display.Javascript object>"
            ]
          },
          "metadata": {
            "tags": []
          }
        },
        {
          "output_type": "display_data",
          "data": {
            "application/javascript": [
              "window[\"3acb3b12-d159-11e9-8d65-0242ac1c0002\"] = window[\"3acae612-d159-11e9-8d65-0242ac1c0002\"].copyArray([-1.8493620157241821, 0.02773594856262207, 0.044741690158843994, -1.6447458267211914, 0.009221449494361877, 0.04164665937423706, -1.4401296377182007, -0.009293094277381897, 0.03855162858963013, -1.23551344871521, -0.027807578444480896, 0.03545659780502319, -1.0308971405029297, -0.04632209986448288, 0.03236156329512596, -0.8262810111045837, -0.06483660638332367, 0.029266532510519028, -0.621664822101593, -0.08335112035274506, 0.026171501725912094, -0.4170486032962799, -0.10186563432216644, 0.02307646907866001, -0.2124323844909668, -0.12038014829158783, 0.01998143643140793, -0.007816183380782604, -0.13889466226100922, 0.016886405646800995, 0.19680002331733704, -0.1574091762304306, 0.013791373930871487, 0.40141621232032776, -0.175923690199852, 0.010696342214941978, 0.6060324311256409, -0.19443820416927338, 0.00760131049901247, 0.8106486201286316, -0.21295271813869476, 0.004506279714405537, 1.0152647495269775, -0.23146721720695496, 0.0014112470671534538, 1.2198810577392578, -0.24998174607753754, -0.0016837846487760544, 1.4244972467422485, -0.26849621534347534, -0.004778815433382988, 1.6291134357452393, -0.2870107889175415, -0.007873846217989922, 1.83372962474823, -0.3055252730846405, -0.010968880727887154, -1.7575939893722534, 1.0498950481414795, -0.002938896417617798, -1.5529778003692627, 1.0313804149627686, -0.006033929064869881, -1.3483617305755615, 1.0128659009933472, -0.009128959849476814, -1.1437454223632812, 0.9943513870239258, -0.01222398690879345, -0.9391292333602905, 0.975836992263794, -0.01531902328133583, -0.7345131039619446, 0.957322359085083, -0.018414050340652466, -0.5298969149589539, 0.9388078451156616, -0.021509084850549698, -0.32528063654899597, 0.9202933311462402, -0.02460411936044693, -0.12066444009542465, 0.9017788171768188, -0.027699150145053864, 0.08395174890756607, 0.8832643032073975, -0.030794180929660797, 0.2885679602622986, 0.8647497892379761, -0.03388921171426773, 0.4931841492652893, 0.8462352752685547, -0.036984242498874664, 0.69780033826828, 0.8277208805084229, -0.0400792732834816, 0.9024165272712708, 0.8092062473297119, -0.04317430406808853, 1.1070327758789062, 0.7906918525695801, -0.046269334852695465, 1.311648964881897, 0.7721772789955139, -0.0493643656373024, 1.5162652730941772, 0.7536627650260925, -0.05245940387248993, 1.7208813428878784, 0.7351482510566711, -0.055554427206516266, 1.9254975318908691, 0.7166337370872498, -0.0586494579911232]);\n",
              "//# sourceURL=js_43c55c0476"
            ],
            "text/plain": [
              "<IPython.core.display.Javascript object>"
            ]
          },
          "metadata": {
            "tags": []
          }
        },
        {
          "output_type": "display_data",
          "data": {
            "application/javascript": [
              "window[\"3acb875c-d159-11e9-8d65-0242ac1c0002\"] = window[\"35a4ade4-d159-11e9-8d65-0242ac1c0002\"].getAttribute(\"position\");\n",
              "//# sourceURL=js_ec94f9f20f"
            ],
            "text/plain": [
              "<IPython.core.display.Javascript object>"
            ]
          },
          "metadata": {
            "tags": []
          }
        },
        {
          "output_type": "display_data",
          "data": {
            "application/javascript": [
              "window[\"3acb875c-d159-11e9-8d65-0242ac1c0002\"].needsUpdate = true;\n",
              "//# sourceURL=js_298413ac66"
            ],
            "text/plain": [
              "<IPython.core.display.Javascript object>"
            ]
          },
          "metadata": {
            "tags": []
          }
        },
        {
          "output_type": "display_data",
          "data": {
            "application/javascript": [
              "window[\"3adf3d88-d159-11e9-8d65-0242ac1c0002\"] = window[\"35a4ade4-d159-11e9-8d65-0242ac1c0002\"].getAttribute(\"position\");\n",
              "//# sourceURL=js_4246dfdf83"
            ],
            "text/plain": [
              "<IPython.core.display.Javascript object>"
            ]
          },
          "metadata": {
            "tags": []
          }
        },
        {
          "output_type": "display_data",
          "data": {
            "application/javascript": [
              "window[\"3adf89a0-d159-11e9-8d65-0242ac1c0002\"] = window[\"3adf3d88-d159-11e9-8d65-0242ac1c0002\"].copyArray([-1.8294731378555298, 0.03052602708339691, 0.0356399267911911, -1.6275087594985962, 0.013230875134468079, 0.032688505947589874, -1.4255447387695312, -0.004064247012138367, 0.029737090691924095, -1.2235805988311768, -0.02135937660932541, 0.026785673573613167, -1.0216161012649536, -0.03865451365709305, 0.02383425645530224, -0.8196519017219543, -0.05594964325428009, 0.02088283933699131, -0.6176878213882446, -0.07324476540088654, 0.017931422218680382, -0.4157235026359558, -0.09053990244865417, 0.014980005100369453, -0.21375928819179535, -0.10783503204584122, 0.012028587982058525, -0.011795071884989738, -0.12513016164302826, 0.009077170863747597, 0.19016914069652557, -0.1424252986907959, 0.006125753745436668, 0.39213335514068604, -0.15972042083740234, 0.00317433662712574, 0.5940977334976196, -0.17701555788516998, 0.0002229195088148117, 0.7960618138313293, -0.19431068003177643, -0.0027284976094961166, 0.9980260133743286, -0.21160581707954407, -0.005679914727807045, 1.1999905109405518, -0.2289009392261505, -0.008631331846117973, 1.4019546508789062, -0.24619607627391815, -0.011582748964428902, 1.6039186716079712, -0.2634912133216858, -0.01453416608273983, 1.8058830499649048, -0.28078633546829224, -0.01748558320105076, -1.7437210083007812, 1.0395264625549316, -0.009076414629817009, -1.5417569875717163, 1.022231101989746, -0.012027828022837639, -1.3397927284240723, 1.0049362182617188, -0.014979245141148567, -1.1378287076950073, 0.9876408576965332, -0.017930662259459496, -0.9358643293380737, 0.9703457355499268, -0.020882083103060722, -0.7339000701904297, 0.9530507326126099, -0.023833496496081352, -0.5319358706474304, 0.9357554912567139, -0.026784909889101982, -0.32997167110443115, 0.9184603691101074, -0.02973632700741291, -0.12800739705562592, 0.901165246963501, -0.03268774598836899, 0.07395682483911514, 0.8838702440261841, -0.035639166831970215, 0.2759210765361786, 0.8665750026702881, -0.03859058767557144, 0.47788527607917786, 0.8492798805236816, -0.04154200106859207, 0.6798495054244995, 0.83198481798172, -0.0444934219121933, 0.8818138241767883, 0.8146896958351135, -0.04744483530521393, 1.0837781429290771, 0.7973945140838623, -0.050396256148815155, 1.2857424020767212, 0.7800993323326111, -0.05334766209125519, 1.4877064228057861, 0.7628042101860046, -0.05629909038543701, 1.6896705627441406, 0.7455090880393982, -0.05925050377845764, 1.8916349411010742, 0.7282139658927917, -0.062201932072639465]);\n",
              "//# sourceURL=js_c9180d83f9"
            ],
            "text/plain": [
              "<IPython.core.display.Javascript object>"
            ]
          },
          "metadata": {
            "tags": []
          }
        },
        {
          "output_type": "display_data",
          "data": {
            "application/javascript": [
              "window[\"3adfcffa-d159-11e9-8d65-0242ac1c0002\"] = window[\"35a4ade4-d159-11e9-8d65-0242ac1c0002\"].getAttribute(\"position\");\n",
              "//# sourceURL=js_f8d92389f0"
            ],
            "text/plain": [
              "<IPython.core.display.Javascript object>"
            ]
          },
          "metadata": {
            "tags": []
          }
        },
        {
          "output_type": "display_data",
          "data": {
            "application/javascript": [
              "window[\"3adfcffa-d159-11e9-8d65-0242ac1c0002\"].needsUpdate = true;\n",
              "//# sourceURL=js_5d8bc13cdc"
            ],
            "text/plain": [
              "<IPython.core.display.Javascript object>"
            ]
          },
          "metadata": {
            "tags": []
          }
        },
        {
          "output_type": "display_data",
          "data": {
            "application/javascript": [
              "window[\"3af382f2-d159-11e9-8d65-0242ac1c0002\"] = window[\"35a4ade4-d159-11e9-8d65-0242ac1c0002\"].getAttribute(\"position\");\n",
              "//# sourceURL=js_dfe7100089"
            ],
            "text/plain": [
              "<IPython.core.display.Javascript object>"
            ]
          },
          "metadata": {
            "tags": []
          }
        },
        {
          "output_type": "display_data",
          "data": {
            "application/javascript": [
              "window[\"3af3d7a2-d159-11e9-8d65-0242ac1c0002\"] = window[\"3af382f2-d159-11e9-8d65-0242ac1c0002\"].copyArray([-1.8142166137695312, 0.031085923314094543, 0.024713298305869102, -1.6143808364868164, 0.015184655785560608, 0.02222958207130432, -1.4145450592041016, -0.0007166117429733276, 0.01974586397409439, -1.2147094011306763, -0.016617871820926666, 0.01726214587688446, -1.0148735046386719, -0.032519154250621796, 0.01477842777967453, -0.8150377869606018, -0.04842042177915573, 0.01229470781981945, -0.6152020692825317, -0.06432168185710907, 0.00981098972260952, -0.4153662919998169, -0.0802229642868042, 0.007327271159738302, -0.21553054451942444, -0.09612423181533813, 0.0048435525968670845, -0.01569479890167713, -0.11202549934387207, 0.0023598340339958668, 0.18414095044136047, -0.127926766872406, -0.00012388452887535095, 0.38397669792175293, -0.14382803440093994, -0.0026076030917465687, 0.5838124752044678, -0.15972931683063507, -0.005091321654617786, 0.7836481928825378, -0.1756305694580078, -0.007575040217489004, 0.9834839105606079, -0.19153183698654175, -0.010058758780360222, 1.1833196878433228, -0.20743313431739807, -0.012542476877570152, 1.383155345916748, -0.2233343869447708, -0.015026196837425232, 1.582991123199463, -0.23923565447330475, -0.017509914934635162, 1.7828269004821777, -0.2551369071006775, -0.019993631169199944, -1.7352794408798218, 1.0295389890670776, -0.01644362322986126, -1.5354437828063965, 1.0136377811431885, -0.01892734132707119, -1.335607886314392, 0.9977366924285889, -0.02141105942428112, -1.1357723474502563, 0.9818352460861206, -0.0238947756588459, -0.935936450958252, 0.9659339189529419, -0.02637849748134613, -0.7361007332801819, 0.9500325918197632, -0.02886221557855606, -0.5362650156021118, 0.9341316223144531, -0.03134593367576599, -0.3364292085170746, 0.9182301759719849, -0.03382965177297592, -0.13659347593784332, 0.9023288488388062, -0.036313366144895554, 0.06324229389429092, 0.8864275813102722, -0.03879709169268608, 0.2630780339241028, 0.8705263733863831, -0.04128080978989601, 0.46291378140449524, 0.8546251058578491, -0.04376452416181564, 0.6627494692802429, 0.8387238383293152, -0.04624824598431587, 0.8625852465629578, 0.8228225111961365, -0.0487319640815258, 1.0624209642410278, 0.8069213032722473, -0.051215678453445435, 1.2622567415237427, 0.7910199761390686, -0.053699396550655365, 1.462092399597168, 0.7751187682151794, -0.056183114647865295, 1.6619281768798828, 0.7592174410820007, -0.05866684019565582, 1.8617640733718872, 0.7433162927627563, -0.061150554567575455]);\n",
              "//# sourceURL=js_8d1d46e3fe"
            ],
            "text/plain": [
              "<IPython.core.display.Javascript object>"
            ]
          },
          "metadata": {
            "tags": []
          }
        },
        {
          "output_type": "display_data",
          "data": {
            "application/javascript": [
              "window[\"3af41816-d159-11e9-8d65-0242ac1c0002\"] = window[\"35a4ade4-d159-11e9-8d65-0242ac1c0002\"].getAttribute(\"position\");\n",
              "//# sourceURL=js_4ca3e17d73"
            ],
            "text/plain": [
              "<IPython.core.display.Javascript object>"
            ]
          },
          "metadata": {
            "tags": []
          }
        },
        {
          "output_type": "display_data",
          "data": {
            "application/javascript": [
              "window[\"3af41816-d159-11e9-8d65-0242ac1c0002\"].needsUpdate = true;\n",
              "//# sourceURL=js_07133d1155"
            ],
            "text/plain": [
              "<IPython.core.display.Javascript object>"
            ]
          },
          "metadata": {
            "tags": []
          }
        },
        {
          "output_type": "display_data",
          "data": {
            "application/javascript": [
              "window[\"3b07ec56-d159-11e9-8d65-0242ac1c0002\"] = window[\"35a4ade4-d159-11e9-8d65-0242ac1c0002\"].getAttribute(\"position\");\n",
              "//# sourceURL=js_672fb17bfa"
            ],
            "text/plain": [
              "<IPython.core.display.Javascript object>"
            ]
          },
          "metadata": {
            "tags": []
          }
        },
        {
          "output_type": "display_data",
          "data": {
            "application/javascript": [
              "window[\"3b083a94-d159-11e9-8d65-0242ac1c0002\"] = window[\"3b07ec56-d159-11e9-8d65-0242ac1c0002\"].copyArray([-1.8037410974502563, 0.02988128364086151, 0.012734122574329376, -1.6054874658584595, 0.015499398112297058, 0.010961409658193588, -1.407233476638794, 0.001117520034313202, 0.009188694879412651, -1.208979845046997, -0.013264350593090057, 0.0074159810319542885, -1.010725975036621, -0.027646228671073914, 0.005643265321850777, -0.8124722838401794, -0.04202809929847717, 0.003870551474392414, -0.6142184734344482, -0.05640997365117073, 0.002097837161272764, -0.41596463322639465, -0.07079184800386429, 0.000325122382491827, -0.21771083772182465, -0.08517372608184814, -0.0014475921634584665, -0.019457025453448296, -0.0995555967092514, -0.00322030670940876, 0.17879678308963776, -0.11393746733665466, -0.004993021488189697, 0.37705060839653015, -0.12831935286521912, -0.006765735801309347, 0.575304388999939, -0.14270122349262238, -0.008538451045751572, 0.7735581994056702, -0.15708309412002563, -0.010311164893209934, 0.9718119502067566, -0.1714649647474289, -0.012083878740668297, 1.1700658798217773, -0.18584683537483215, -0.013856594450771809, 1.3683195114135742, -0.2002287209033966, -0.01562930829823017, 1.5665735006332397, -0.21461059153079987, -0.01740202307701111, 1.7648271322250366, -0.22899247705936432, -0.019174735993146896, -1.7322083711624146, 1.0205249786376953, -0.024302959442138672, -1.5339547395706177, 1.0061432123184204, -0.02607567422091961, -1.335700511932373, 0.9917612075805664, -0.027848387137055397, -1.1374469995498657, 0.9773794412612915, -0.029621101915836334, -0.9391931891441345, 0.9629974365234375, -0.03139381483197212, -0.7409393787384033, 0.9486156702041626, -0.03316653147339821, -0.5426856279373169, 0.9342336654663086, -0.034939244389534, -0.3444317877292633, 0.9198518991470337, -0.03671196103096008, -0.1461779922246933, 0.9054698944091797, -0.03848467767238617, 0.0520758181810379, 0.8910881280899048, -0.04025738686323166, 0.2503296434879303, 0.8767062425613403, -0.042030103504657745, 0.4485834240913391, 0.8623243570327759, -0.04380282014608383, 0.6468372344970703, 0.8479424715042114, -0.04557552933692932, 0.8450911045074463, 0.833560585975647, -0.04734824597835541, 1.0433447360992432, 0.8191788196563721, -0.049120962619781494, 1.2415987253189087, 0.8047969341278076, -0.050893671810626984, 1.4398523569107056, 0.7904150485992432, -0.05266638845205307, 1.6381062269210815, 0.7760331630706787, -0.054439105093479156, 1.836359977722168, 0.7616512775421143, -0.056211814284324646]);\n",
              "//# sourceURL=js_36551635a2"
            ],
            "text/plain": [
              "<IPython.core.display.Javascript object>"
            ]
          },
          "metadata": {
            "tags": []
          }
        },
        {
          "output_type": "display_data",
          "data": {
            "application/javascript": [
              "window[\"3b08845e-d159-11e9-8d65-0242ac1c0002\"] = window[\"35a4ade4-d159-11e9-8d65-0242ac1c0002\"].getAttribute(\"position\");\n",
              "//# sourceURL=js_a5a5014d25"
            ],
            "text/plain": [
              "<IPython.core.display.Javascript object>"
            ]
          },
          "metadata": {
            "tags": []
          }
        },
        {
          "output_type": "display_data",
          "data": {
            "application/javascript": [
              "window[\"3b08845e-d159-11e9-8d65-0242ac1c0002\"].needsUpdate = true;\n",
              "//# sourceURL=js_ca32d17681"
            ],
            "text/plain": [
              "<IPython.core.display.Javascript object>"
            ]
          },
          "metadata": {
            "tags": []
          }
        },
        {
          "output_type": "display_data",
          "data": {
            "application/javascript": [
              "window[\"3b1c2b6c-d159-11e9-8d65-0242ac1c0002\"] = window[\"35a4ade4-d159-11e9-8d65-0242ac1c0002\"].getAttribute(\"position\");\n",
              "//# sourceURL=js_8070367da0"
            ],
            "text/plain": [
              "<IPython.core.display.Javascript object>"
            ]
          },
          "metadata": {
            "tags": []
          }
        },
        {
          "output_type": "display_data",
          "data": {
            "application/javascript": [
              "window[\"3b1c7680-d159-11e9-8d65-0242ac1c0002\"] = window[\"3b1c2b6c-d159-11e9-8d65-0242ac1c0002\"].copyArray([-1.7979463338851929, 0.027326419949531555, 0.000583697110414505, -1.6007331609725952, 0.0145455002784729, -0.0003323652781546116, -1.4035197496414185, 0.001764550805091858, -0.0012484285980463028, -1.2063064575195312, -0.011016368865966797, -0.0021644914522767067, -1.0090930461883545, -0.02379731833934784, -0.003080555237829685, -0.8118796348571777, -0.036578238010406494, -0.003996619023382664, -0.6146662831306458, -0.04935917258262634, -0.004912682343274355, -0.4174528419971466, -0.06214010715484619, -0.0058287461288273335, -0.22023947536945343, -0.07492104172706604, -0.006744809914380312, -0.02302609011530876, -0.08770197629928589, -0.007660873234272003, 0.1741872876882553, -0.10048291087150574, -0.008576937019824982, 0.3714006841182709, -0.11326384544372559, -0.009492999874055386, 0.5686140656471252, -0.12604478001594543, -0.010409064590930939, 0.7658274173736572, -0.13882571458816528, -0.011325127445161343, 0.963040828704834, -0.15160663425922394, -0.012241191230714321, 1.1602542400360107, -0.16438758373260498, -0.0131572550162673, 1.357467532157898, -0.17716850340366364, -0.014073317870497704, 1.5546809434890747, -0.18994945287704468, -0.014989381656050682, 1.7518941164016724, -0.20273037254810333, -0.01590544357895851, -1.7342253923416138, 1.012882947921753, -0.03183187544345856, -1.5370121002197266, 1.0001018047332764, -0.032747939229011536, -1.3397986888885498, 0.9873209595680237, -0.033664003014564514, -1.1425855159759521, 0.9745400547981262, -0.034580063074827194, -0.9453719854354858, 0.9617591500282288, -0.03549613058567047, -0.7481586337089539, 0.9489782452583313, -0.03641219064593315, -0.5509453415870667, 0.9361972212791443, -0.03732825815677643, -0.35373178124427795, 0.9234163165092468, -0.03824431821703911, -0.15651845932006836, 0.9106354117393494, -0.03916038200259209, 0.04069492593407631, 0.8978545069694519, -0.040076449513435364, 0.23790831863880157, 0.8850736021995544, -0.040992509573698044, 0.43512168526649475, 0.8722925782203674, -0.04190857335925102, 0.6323350667953491, 0.8595117330551147, -0.0428246408700943, 0.8295484185218811, 0.8467307686805725, -0.04374070093035698, 1.0267618894577026, 0.833949863910675, -0.04465676099061966, 1.2239751815795898, 0.8211689591407776, -0.045572828501462936, 1.4211885929107666, 0.8083879947662354, -0.046488892287015915, 1.6184020042419434, 0.7956069707870483, -0.047404952347278595, 1.8156152963638306, 0.7828261256217957, -0.04832101985812187]);\n",
              "//# sourceURL=js_46998ddb32"
            ],
            "text/plain": [
              "<IPython.core.display.Javascript object>"
            ]
          },
          "metadata": {
            "tags": []
          }
        },
        {
          "output_type": "display_data",
          "data": {
            "application/javascript": [
              "window[\"3b1cb7d0-d159-11e9-8d65-0242ac1c0002\"] = window[\"35a4ade4-d159-11e9-8d65-0242ac1c0002\"].getAttribute(\"position\");\n",
              "//# sourceURL=js_53098aea17"
            ],
            "text/plain": [
              "<IPython.core.display.Javascript object>"
            ]
          },
          "metadata": {
            "tags": []
          }
        },
        {
          "output_type": "display_data",
          "data": {
            "application/javascript": [
              "window[\"3b1cb7d0-d159-11e9-8d65-0242ac1c0002\"].needsUpdate = true;\n",
              "//# sourceURL=js_d7d185f549"
            ],
            "text/plain": [
              "<IPython.core.display.Javascript object>"
            ]
          },
          "metadata": {
            "tags": []
          }
        },
        {
          "output_type": "display_data",
          "data": {
            "application/javascript": [
              "window[\"3b3078ba-d159-11e9-8d65-0242ac1c0002\"] = window[\"35a4ade4-d159-11e9-8d65-0242ac1c0002\"].getAttribute(\"position\");\n",
              "//# sourceURL=js_7cb807a61a"
            ],
            "text/plain": [
              "<IPython.core.display.Javascript object>"
            ]
          },
          "metadata": {
            "tags": []
          }
        },
        {
          "output_type": "display_data",
          "data": {
            "application/javascript": [
              "window[\"3b30c3ec-d159-11e9-8d65-0242ac1c0002\"] = window[\"3b3078ba-d159-11e9-8d65-0242ac1c0002\"].copyArray([-1.7965173721313477, 0.023783810436725616, -0.010838691145181656, -1.5998320579528809, 0.012646473944187164, -0.010856480337679386, -1.4031469821929932, 0.0015091225504875183, -0.010874270461499691, -1.2064616680145264, -0.009628228843212128, -0.010892059653997421, -1.0097763538360596, -0.020765576511621475, -0.010909848846495152, -0.8130910992622375, -0.031902920454740524, -0.010927638970315456, -0.6164059042930603, -0.04304027184844017, -0.010945428162813187, -0.4197206199169159, -0.05417761951684952, -0.010963217355310917, -0.22303536534309387, -0.06531496345996857, -0.010981007479131222, -0.026350127533078194, -0.07645231485366821, -0.010998796671628952, 0.17033511400222778, -0.08758966624736786, -0.011016585864126682, 0.3670203387737274, -0.09872701019048691, -0.011034375987946987, 0.5637056231498718, -0.10986435413360596, -0.011052165180444717, 0.7603908181190491, -0.1210017055273056, -0.011069954372942448, 0.9570761322975159, -0.13213905692100525, -0.011087744496762753, 1.153761386871338, -0.1432763934135437, -0.011105533689260483, 1.3504467010498047, -0.15441375970840454, -0.011123322881758213, 1.5471317768096924, -0.165551096200943, -0.011141113005578518, 1.7438170909881592, -0.17668843269348145, -0.011158902198076248, -1.7408545017242432, 1.0068304538726807, -0.038205552846193314, -1.5441694259643555, 0.9956932663917542, -0.03822334110736847, -1.3474841117858887, 0.9845559000968933, -0.03824113309383392, -1.1507987976074219, 0.9734185338020325, -0.03825891762971878, -0.9541135430335999, 0.9622812867164612, -0.038276709616184235, -0.7574284076690674, 0.9511438012123108, -0.03829450160264969, -0.5607430934906006, 0.9400065541267395, -0.038312289863824844, -0.36405783891677856, 0.9288691878318787, -0.038330078125, -0.16737258434295654, 0.917731761932373, -0.038347870111465454, 0.029312649741768837, 0.9065943956375122, -0.03836565464735031, 0.2259979397058487, 0.8954570293426514, -0.038383446633815765, 0.42268311977386475, 0.8843197226524353, -0.03840123862028122, 0.6193683743476868, 0.8731824159622192, -0.03841902315616608, 0.8160536885261536, 0.8620450496673584, -0.03843681514263153, 1.0127389430999756, 0.8509076833724976, -0.038454603403806686, 1.2094242572784424, 0.8397703170776367, -0.03847239539027214, 1.40610933303833, 0.8286330103874207, -0.038490183651447296, 1.6027946472167969, 0.8174956440925598, -0.03850797563791275, 1.7994799613952637, 0.806358277797699, -0.038525767624378204]);\n",
              "//# sourceURL=js_2f64c9ee0b"
            ],
            "text/plain": [
              "<IPython.core.display.Javascript object>"
            ]
          },
          "metadata": {
            "tags": []
          }
        },
        {
          "output_type": "display_data",
          "data": {
            "application/javascript": [
              "window[\"3b310136-d159-11e9-8d65-0242ac1c0002\"] = window[\"35a4ade4-d159-11e9-8d65-0242ac1c0002\"].getAttribute(\"position\");\n",
              "//# sourceURL=js_253afa4619"
            ],
            "text/plain": [
              "<IPython.core.display.Javascript object>"
            ]
          },
          "metadata": {
            "tags": []
          }
        },
        {
          "output_type": "display_data",
          "data": {
            "application/javascript": [
              "window[\"3b310136-d159-11e9-8d65-0242ac1c0002\"].needsUpdate = true;\n",
              "//# sourceURL=js_2254646e67"
            ],
            "text/plain": [
              "<IPython.core.display.Javascript object>"
            ]
          },
          "metadata": {
            "tags": []
          }
        },
        {
          "output_type": "display_data",
          "data": {
            "application/javascript": [
              "window[\"3b44be10-d159-11e9-8d65-0242ac1c0002\"] = window[\"35a4ade4-d159-11e9-8d65-0242ac1c0002\"].getAttribute(\"position\");\n",
              "//# sourceURL=js_30e20a1a80"
            ],
            "text/plain": [
              "<IPython.core.display.Javascript object>"
            ]
          },
          "metadata": {
            "tags": []
          }
        },
        {
          "output_type": "display_data",
          "data": {
            "application/javascript": [
              "window[\"3b450b04-d159-11e9-8d65-0242ac1c0002\"] = window[\"3b44be10-d159-11e9-8d65-0242ac1c0002\"].copyArray([-1.7989590167999268, 0.019565917551517487, -0.02070126309990883, -1.6023393869400024, 0.01008085161447525, -0.01987951621413231, -1.4057197570800781, 0.0005957707762718201, -0.01905776746571064, -1.2091000080108643, -0.008889276534318924, -0.01823601871728897, -1.01248037815094, -0.018374349921941757, -0.01741427183151245, -0.8158606886863708, -0.027859412133693695, -0.016592523083090782, -0.6192409992218018, -0.03734447807073593, -0.015770774334669113, -0.42262136936187744, -0.04682954400777817, -0.014949027448892593, -0.22600167989730835, -0.056314609944820404, -0.014127278700470924, -0.02938201278448105, -0.06579967588186264, -0.01330553088337183, 0.16723766922950745, -0.07528474181890488, -0.012483783066272736, 0.36385732889175415, -0.08476980775594711, -0.011662034317851067, 0.5604770183563232, -0.09425487369298935, -0.010840286500751972, 0.7570967078208923, -0.10373993963003159, -0.010018538683652878, 0.9537163376808167, -0.11322499811649323, -0.009196789935231209, 1.1503360271453857, -0.12271007895469666, -0.008375043049454689, 1.3469557762145996, -0.1321951150894165, -0.00755329430103302, 1.543575406074524, -0.14168021082878113, -0.006731546018272638, 1.7401950359344482, -0.15116527676582336, -0.005909798201173544, -1.7514536380767822, 1.0024231672286987, -0.04267697036266327, -1.5548337697982788, 0.9929383397102356, -0.04185522347688675, -1.358214259147644, 0.9834532141685486, -0.04103347286581993, -1.1615945100784302, 0.9739682078361511, -0.04021172598004341, -0.9649747610092163, 0.9644830822944641, -0.03938997536897659, -0.768355131149292, 0.9549981951713562, -0.03856822848320007, -0.5717354416847229, 0.9455128312110901, -0.037746477872133255, -0.37511584162712097, 0.9360279440879822, -0.036924730986356735, -0.17849615216255188, 0.9265428185462952, -0.036102984100580215, 0.01812354102730751, 0.9170577526092529, -0.035281237214803696, 0.21474319696426392, 0.9075728058815002, -0.034459490329027176, 0.4113628566265106, 0.8980876803398132, -0.03363773971796036, 0.6079826354980469, 0.8886025547981262, -0.03281599283218384, 0.804602324962616, 0.8791175484657288, -0.03199424222111702, 1.0012218952178955, 0.8696324229240417, -0.0311724953353405, 1.197841763496399, 0.8601473569869995, -0.03035074472427368, 1.3944611549377441, 0.8506622910499573, -0.029528997838497162, 1.5910810232162476, 0.8411772847175598, -0.028707250952720642, 1.7877005338668823, 0.8316922187805176, -0.027885504066944122]);\n",
              "//# sourceURL=js_f93444b816"
            ],
            "text/plain": [
              "<IPython.core.display.Javascript object>"
            ]
          },
          "metadata": {
            "tags": []
          }
        },
        {
          "output_type": "display_data",
          "data": {
            "application/javascript": [
              "window[\"3b455e10-d159-11e9-8d65-0242ac1c0002\"] = window[\"35a4ade4-d159-11e9-8d65-0242ac1c0002\"].getAttribute(\"position\");\n",
              "//# sourceURL=js_284fe9cabd"
            ],
            "text/plain": [
              "<IPython.core.display.Javascript object>"
            ]
          },
          "metadata": {
            "tags": []
          }
        },
        {
          "output_type": "display_data",
          "data": {
            "application/javascript": [
              "window[\"3b455e10-d159-11e9-8d65-0242ac1c0002\"].needsUpdate = true;\n",
              "//# sourceURL=js_afc4d4a54b"
            ],
            "text/plain": [
              "<IPython.core.display.Javascript object>"
            ]
          },
          "metadata": {
            "tags": []
          }
        },
        {
          "output_type": "display_data",
          "data": {
            "application/javascript": [
              "window[\"3b596e5a-d159-11e9-8d65-0242ac1c0002\"] = window[\"35a4ade4-d159-11e9-8d65-0242ac1c0002\"].getAttribute(\"position\");\n",
              "//# sourceURL=js_5a121b34b9"
            ],
            "text/plain": [
              "<IPython.core.display.Javascript object>"
            ]
          },
          "metadata": {
            "tags": []
          }
        },
        {
          "output_type": "display_data",
          "data": {
            "application/javascript": [
              "window[\"3b59bc3e-d159-11e9-8d65-0242ac1c0002\"] = window[\"3b596e5a-d159-11e9-8d65-0242ac1c0002\"].copyArray([-1.8046315908432007, 0.014939766377210617, -0.028316669166088104, -1.6076815128326416, 0.007086288183927536, -0.026801640167832375, -1.410731315612793, -0.0007671825587749481, -0.025286611169576645, -1.2137812376022339, -0.008620653301477432, -0.023771580308675766, -1.0168309211730957, -0.016474124044179916, -0.022256549447774887, -0.8198807835578918, -0.0243275947868824, -0.020741518586874008, -0.622930645942688, -0.032181065529584885, -0.01922648958861828, -0.42598047852516174, -0.04003453627228737, -0.0177114587277174, -0.2290303111076355, -0.04788800701498985, -0.01619642972946167, -0.032080139964818954, -0.05574147775769234, -0.014681398868560791, 0.164870023727417, -0.06359495222568512, -0.013166368938982487, 0.36182019114494324, -0.071448415517807, -0.011651339009404182, 0.5587704181671143, -0.07930189371109009, -0.010136308148503304, 0.7557205557823181, -0.08715535700321198, -0.008621278218925, 0.952670693397522, -0.09500883519649506, -0.007106248289346695, 1.1496208906173706, -0.10286229848861694, -0.005591217428445816, 1.3465709686279297, -0.11071577668190002, -0.004076187498867512, 1.5435211658477783, -0.11856923997402191, -0.0025611575692892075, 1.7404712438583374, -0.126422718167305, -0.0010461276397109032, -1.7652430534362793, 0.9995792508125305, -0.044651247560977936, -1.5682929754257202, 0.9917258620262146, -0.043136220425367355, -1.3713427782058716, 0.9838724732398987, -0.04162118583917618, -1.1743927001953125, 0.9760189652442932, -0.040106162428855896, -0.9774423241615295, 0.9681656956672668, -0.03859112784266472, -0.7804922461509705, 0.9603118300437927, -0.03707610070705414, -0.583541989326477, 0.9524584412574768, -0.03556106984615326, -0.38659191131591797, 0.9446050524711609, -0.03404603898525238, -0.18964172899723053, 0.9367516040802002, -0.0325310081243515, 0.007308434695005417, 0.9288982152938843, -0.031015979126095772, 0.20425860583782196, 0.9210445880889893, -0.029500950127840042, 0.401208758354187, 0.9131911993026733, -0.027985919266939163, 0.5981589555740356, 0.9053376913070679, -0.026470888406038284, 0.7951091527938843, 0.8974841833114624, -0.024955857545137405, 0.9920592904090881, 0.8896307349205017, -0.023440826684236526, 1.1890093088150024, 0.8817773461341858, -0.021925797685980797, 1.3859596252441406, 0.8739238381385803, -0.020410766825079918, 1.5829097032546997, 0.8660703301429749, -0.01889573596417904, 1.7798597812652588, 0.8582169413566589, -0.01738070696592331]);\n",
              "//# sourceURL=js_0a0c452d54"
            ],
            "text/plain": [
              "<IPython.core.display.Javascript object>"
            ]
          },
          "metadata": {
            "tags": []
          }
        },
        {
          "output_type": "display_data",
          "data": {
            "application/javascript": [
              "window[\"3b5a0770-d159-11e9-8d65-0242ac1c0002\"] = window[\"35a4ade4-d159-11e9-8d65-0242ac1c0002\"].getAttribute(\"position\");\n",
              "//# sourceURL=js_d3807ac140"
            ],
            "text/plain": [
              "<IPython.core.display.Javascript object>"
            ]
          },
          "metadata": {
            "tags": []
          }
        },
        {
          "output_type": "display_data",
          "data": {
            "application/javascript": [
              "window[\"3b5a0770-d159-11e9-8d65-0242ac1c0002\"].needsUpdate = true;\n",
              "//# sourceURL=js_4fc626791d"
            ],
            "text/plain": [
              "<IPython.core.display.Javascript object>"
            ]
          },
          "metadata": {
            "tags": []
          }
        },
        {
          "output_type": "display_data",
          "data": {
            "application/javascript": [
              "window[\"3b6e022a-d159-11e9-8d65-0242ac1c0002\"] = window[\"35a4ade4-d159-11e9-8d65-0242ac1c0002\"].getAttribute(\"position\");\n",
              "//# sourceURL=js_0a8c5ab333"
            ],
            "text/plain": [
              "<IPython.core.display.Javascript object>"
            ]
          },
          "metadata": {
            "tags": []
          }
        },
        {
          "output_type": "display_data",
          "data": {
            "application/javascript": [
              "window[\"3b6e5144-d159-11e9-8d65-0242ac1c0002\"] = window[\"3b6e022a-d159-11e9-8d65-0242ac1c0002\"].copyArray([-1.8127825260162354, 0.010133378207683563, -0.03320660442113876, -1.6151853799819946, 0.0038654208183288574, -0.031211355701088905, -1.417588233947754, -0.0024025440216064453, -0.029216105118393898, -1.2199913263320923, -0.008670501410961151, -0.02722085639834404, -1.0223942995071411, -0.014938462525606155, -0.025225605815649033, -0.8247972726821899, -0.02120642364025116, -0.023230355232954025, -0.6272002458572388, -0.027474384754896164, -0.021235104650259018, -0.4296031594276428, -0.03374234586954117, -0.01923985406756401, -0.23200611770153046, -0.04001030698418617, -0.017244603484869003, -0.03440907970070839, -0.04627826809883118, -0.015249352902173996, 0.16318796575069427, -0.05254622921347618, -0.013254102319478989, 0.36078500747680664, -0.058814190328121185, -0.011258851736783981, 0.5583820343017578, -0.06508214771747589, -0.009263601154088974, 0.755979061126709, -0.0713501125574112, -0.007268351502716541, 0.9535761475563049, -0.0776180773973465, -0.005273100920021534, 1.1511732339859009, -0.0838860347867012, -0.0032778503373265266, 1.3487701416015625, -0.09015399217605591, -0.001282600685954094, 1.5463672876358032, -0.09642195701599121, 0.0007126498967409134, 1.743964433670044, -0.10268991440534592, 0.0027078986167907715, -1.7813365459442139, 0.9981093406677246, -0.0437498465180397, -1.5837393999099731, 0.9918415546417236, -0.0417545922100544, -1.386142373085022, 0.9855732917785645, -0.03975934535264969, -1.1885453462600708, 0.9793055057525635, -0.03776409476995468, -0.9909484386444092, 0.9730374813079834, -0.035768844187259674, -0.7933512926101685, 0.9667695760726929, -0.03377359360456467, -0.5957543253898621, 0.9605014324188232, -0.03177834302186966, -0.39815714955329895, 0.9542336463928223, -0.029783092439174652, -0.20056012272834778, 0.9479656219482422, -0.027787841856479645, -0.0029631033539772034, 0.9416977167129517, -0.025792591273784637, 0.19463394582271576, 0.9354296922683716, -0.02379734069108963, 0.3922309875488281, 0.9291616678237915, -0.021802090108394623, 0.5898280143737793, 0.922893762588501, -0.019806839525699615, 0.7874249815940857, 0.9166257381439209, -0.017811588943004608, 0.985022246837616, 0.9103578329086304, -0.0158163383603096, 1.182619333267212, 0.9040900468826294, -0.013821087777614594, 1.380216121673584, 0.8978220224380493, -0.01182583812624216, 1.5778131484985352, 0.8915539979934692, -0.009830588474869728, 1.7754102945327759, 0.8852860927581787, -0.00783533789217472]);\n",
              "//# sourceURL=js_41b179f5d4"
            ],
            "text/plain": [
              "<IPython.core.display.Javascript object>"
            ]
          },
          "metadata": {
            "tags": []
          }
        },
        {
          "output_type": "display_data",
          "data": {
            "application/javascript": [
              "window[\"3b6ea608-d159-11e9-8d65-0242ac1c0002\"] = window[\"35a4ade4-d159-11e9-8d65-0242ac1c0002\"].getAttribute(\"position\");\n",
              "//# sourceURL=js_ccea5e1aa8"
            ],
            "text/plain": [
              "<IPython.core.display.Javascript object>"
            ]
          },
          "metadata": {
            "tags": []
          }
        },
        {
          "output_type": "display_data",
          "data": {
            "application/javascript": [
              "window[\"3b6ea608-d159-11e9-8d65-0242ac1c0002\"].needsUpdate = true;\n",
              "//# sourceURL=js_44289c97b0"
            ],
            "text/plain": [
              "<IPython.core.display.Javascript object>"
            ]
          },
          "metadata": {
            "tags": []
          }
        },
        {
          "output_type": "display_data",
          "data": {
            "application/javascript": [
              "window[\"3b839428-d159-11e9-8d65-0242ac1c0002\"] = window[\"35a4ade4-d159-11e9-8d65-0242ac1c0002\"].getAttribute(\"position\");\n",
              "//# sourceURL=js_79ced82b5e"
            ],
            "text/plain": [
              "<IPython.core.display.Javascript object>"
            ]
          },
          "metadata": {
            "tags": []
          }
        },
        {
          "output_type": "display_data",
          "data": {
            "application/javascript": [
              "window[\"3b84041c-d159-11e9-8d65-0242ac1c0002\"] = window[\"3b839428-d159-11e9-8d65-0242ac1c0002\"].copyArray([-1.8225812911987305, 0.005343236029148102, -0.035148985683918, -1.624110221862793, 0.0005926154553890228, -0.03292669728398323, -1.4256389141082764, -0.004158008843660355, -0.030704407021403313, -1.2271677255630493, -0.008908629417419434, -0.028482116758823395, -1.0286964178085327, -0.013659249991178513, -0.026259828358888626, -0.8302251696586609, -0.01840987242758274, -0.024037539958953857, -0.6317539215087891, -0.02316049486398697, -0.02181524969637394, -0.43328264355659485, -0.027911115437746048, -0.01959295943379402, -0.23481138050556183, -0.032661739736795425, -0.017370671033859253, -0.03634012117981911, -0.037412360310554504, -0.01514838170260191, 0.1621311455965042, -0.04216298088431358, -0.012926092371344566, 0.36060240864753723, -0.04691360518336296, -0.010703803040087223, 0.5590736865997314, -0.05166422575712204, -0.00848151370882988, 0.7575449347496033, -0.05641485005617142, -0.0062592243775725365, 0.9560161828994751, -0.061165470629930496, -0.0040369341149926186, 1.1544874906539917, -0.06591609120368958, -0.0018146457150578499, 1.3529586791992188, -0.07066671550273895, 0.0004076436161994934, 1.5514299869537354, -0.07541733980178833, 0.0026299329474568367, 1.7499010562896729, -0.08016795665025711, 0.004852221347391605, -1.798774242401123, 0.997749388217926, -0.039858292788267136, -1.6003031730651855, 0.9929987788200378, -0.037636008113622665, -1.4018317461013794, 0.9882480502128601, -0.0354137159883976, -1.203360676765442, 0.9834974408149719, -0.03319142758846283, -1.0048894882202148, 0.9787468314170837, -0.030969135463237762, -0.8064181804656982, 0.9739963412284851, -0.028746847063302994, -0.6079469323158264, 0.9692454934120178, -0.026524558663368225, -0.4094756543636322, 0.9644948840141296, -0.024302270263433456, -0.2110043615102768, 0.9597443342208862, -0.02207998000085354, -0.012533091008663177, 0.9549936652183533, -0.01985768973827362, 0.18593817949295044, 0.9502431154251099, -0.017635401338338852, 0.38440945744514465, 0.9454924464225769, -0.015413112007081509, 0.5828807950019836, 0.9407418370246887, -0.013190822675824165, 0.7813519835472107, 0.9359912276268005, -0.010968532413244247, 0.9798233509063721, 0.9312405586242676, -0.008746243081986904, 1.1782946586608887, 0.9264899492263794, -0.006523952819406986, 1.3767657279968262, 0.921739399433136, -0.004301665350794792, 1.5752370357513428, 0.916988730430603, -0.002079376019537449, 1.7737081050872803, 0.9122380614280701, 0.00014291144907474518]);\n",
              "//# sourceURL=js_21a128a460"
            ],
            "text/plain": [
              "<IPython.core.display.Javascript object>"
            ]
          },
          "metadata": {
            "tags": []
          }
        },
        {
          "output_type": "display_data",
          "data": {
            "application/javascript": [
              "window[\"3b847744-d159-11e9-8d65-0242ac1c0002\"] = window[\"35a4ade4-d159-11e9-8d65-0242ac1c0002\"].getAttribute(\"position\");\n",
              "//# sourceURL=js_b216b2cac7"
            ],
            "text/plain": [
              "<IPython.core.display.Javascript object>"
            ]
          },
          "metadata": {
            "tags": []
          }
        },
        {
          "output_type": "display_data",
          "data": {
            "application/javascript": [
              "window[\"3b847744-d159-11e9-8d65-0242ac1c0002\"].needsUpdate = true;\n",
              "//# sourceURL=js_33fd8847eb"
            ],
            "text/plain": [
              "<IPython.core.display.Javascript object>"
            ]
          },
          "metadata": {
            "tags": []
          }
        },
        {
          "output_type": "display_data",
          "data": {
            "application/javascript": [
              "window[\"3b98c3f2-d159-11e9-8d65-0242ac1c0002\"] = window[\"35a4ade4-d159-11e9-8d65-0242ac1c0002\"].getAttribute(\"position\");\n",
              "//# sourceURL=js_c8923dc63d"
            ],
            "text/plain": [
              "<IPython.core.display.Javascript object>"
            ]
          },
          "metadata": {
            "tags": []
          }
        },
        {
          "output_type": "display_data",
          "data": {
            "application/javascript": [
              "window[\"3b991172-d159-11e9-8d65-0242ac1c0002\"] = window[\"3b98c3f2-d159-11e9-8d65-0242ac1c0002\"].copyArray([-1.8331589698791504, 0.0007415413856506348, -0.03420193865895271, -1.6336805820465088, -0.0025793425738811493, -0.032015811651945114, -1.434201955795288, -0.0059002358466386795, -0.029829680919647217, -1.2347233295440674, -0.009221125394105911, -0.02764355018734932, -1.0352447032928467, -0.012542013078927994, -0.02545742318034172, -0.8357661366462708, -0.015862902626395226, -0.023271292448043823, -0.63628751039505, -0.019183794036507607, -0.021085163578391075, -0.4368089437484741, -0.022504683583974838, -0.018899034708738327, -0.23733031749725342, -0.02582557313144207, -0.01671290583908558, -0.03785170987248421, -0.029146462678909302, -0.014526776038110256, 0.1616269052028656, -0.03246735408902168, -0.012340646237134933, 0.3611055016517639, -0.035788241773843765, -0.010154517367482185, 0.5605841279029846, -0.039109133183956146, -0.007968388497829437, 0.7600627541542053, -0.04243002086877823, -0.0057822586968541145, 0.9595413208007812, -0.04575091227889061, -0.0035961298272013664, 1.159019947052002, -0.04907179996371269, -0.0014100009575486183, 1.3584985733032227, -0.05239269137382507, 0.0007761279121041298, 1.5579771995544434, -0.055713582783937454, 0.002962258644402027, 1.757455587387085, -0.05903446674346924, 0.005148387514054775, -1.8165652751922607, 0.9981940984725952, -0.033150557428598404, -1.6170867681503296, 0.9948732852935791, -0.030964426696300507, -1.4176081418991089, 0.9915523529052734, -0.02877829782664776, -1.2181295156478882, 0.9882315397262573, -0.02659216895699501, -1.018650770187378, 0.9849106073379517, -0.024406040087342262, -0.8191722631454468, 0.981589674949646, -0.022219911217689514, -0.6196935772895813, 0.9782687425613403, -0.020033780485391617, -0.42021504044532776, 0.9749479293823242, -0.01784765161573887, -0.22073641419410706, 0.971626877784729, -0.01566152274608612, -0.02125779539346695, 0.9683060646057129, -0.013475393876433372, 0.17822082340717316, 0.9649851322174072, -0.01128926407545805, 0.37769943475723267, 0.9616641998291016, -0.009103135205805302, 0.5771780610084534, 0.958343505859375, -0.006917005404829979, 0.7766566872596741, 0.9550225734710693, -0.004730876535177231, 0.97613525390625, 0.9517016410827637, -0.0025447476655244827, 1.1756138801574707, 0.948380708694458, -0.0003586187958717346, 1.3750925064086914, 0.9450597763061523, 0.001827511005103588, 1.5745710134506226, 0.9417389631271362, 0.004013639874756336, 1.7740495204925537, 0.9384181499481201, 0.0061997706070542336]);\n",
              "//# sourceURL=js_3decf119d3"
            ],
            "text/plain": [
              "<IPython.core.display.Javascript object>"
            ]
          },
          "metadata": {
            "tags": []
          }
        },
        {
          "output_type": "display_data",
          "data": {
            "application/javascript": [
              "window[\"3b99647e-d159-11e9-8d65-0242ac1c0002\"] = window[\"35a4ade4-d159-11e9-8d65-0242ac1c0002\"].getAttribute(\"position\");\n",
              "//# sourceURL=js_388bcecbb3"
            ],
            "text/plain": [
              "<IPython.core.display.Javascript object>"
            ]
          },
          "metadata": {
            "tags": []
          }
        },
        {
          "output_type": "display_data",
          "data": {
            "application/javascript": [
              "window[\"3b99647e-d159-11e9-8d65-0242ac1c0002\"].needsUpdate = true;\n",
              "//# sourceURL=js_7f9b2170ad"
            ],
            "text/plain": [
              "<IPython.core.display.Javascript object>"
            ]
          },
          "metadata": {
            "tags": []
          }
        },
        {
          "output_type": "display_data",
          "data": {
            "application/javascript": [
              "window[\"3bad1d0c-d159-11e9-8d65-0242ac1c0002\"] = window[\"35a4ade4-d159-11e9-8d65-0242ac1c0002\"].getAttribute(\"position\");\n",
              "//# sourceURL=js_a7f6f1bc0e"
            ],
            "text/plain": [
              "<IPython.core.display.Javascript object>"
            ]
          },
          "metadata": {
            "tags": []
          }
        },
        {
          "output_type": "display_data",
          "data": {
            "application/javascript": [
              "window[\"3bad6e74-d159-11e9-8d65-0242ac1c0002\"] = window[\"3bad1d0c-d159-11e9-8d65-0242ac1c0002\"].copyArray([-1.8436490297317505, -0.0035177096724510193, -0.030699700117111206, -1.6431248188018799, -0.0055137742310762405, -0.02879256010055542, -1.4426003694534302, -0.007509843446314335, -0.026885420083999634, -1.2420761585235596, -0.009505909867584705, -0.0249782782047987, -1.0415517091751099, -0.01150197722017765, -0.023071136325597763, -0.8410273194313049, -0.013498044572770596, -0.021163996309041977, -0.6405029892921448, -0.01549411192536354, -0.01925685629248619, -0.4399785101413727, -0.01749018020927906, -0.017349714413285255, -0.23945413529872894, -0.01948624663054943, -0.01544257439672947, -0.03892974182963371, -0.02148231491446495, -0.013535433448851109, 0.16159464418888092, -0.02347838319838047, -0.011628292500972748, 0.36211904883384705, -0.02547444961965084, -0.009721151553094387, 0.5626434683799744, -0.02747051790356636, -0.007814010605216026, 0.7631677985191345, -0.02946658432483673, -0.005906870122998953, 0.9636922478675842, -0.0314626544713974, -0.003999729640781879, 1.1642167568206787, -0.03345872089266777, -0.0020925886929035187, 1.3647409677505493, -0.03545478731393814, -0.00018544774502515793, 1.565265417098999, -0.03745085746049881, 0.0017216932028532028, 1.7657896280288696, -0.03944692015647888, 0.0036288341507315636, -1.8337314128875732, 0.9991282820701599, -0.024083808064460754, -1.6332072019577026, 0.9971323609352112, -0.022176668047904968, -1.432682752609253, 0.9951363205909729, -0.020269528031349182, -1.2321584224700928, 0.9931402802467346, -0.018362386152148247, -1.031633973121643, 0.9911441206932068, -0.01645524427294731, -0.8311096429824829, 0.9891480803489685, -0.014548104256391525, -0.630585253238678, 0.9871519207954407, -0.012640963308513165, -0.43006083369255066, 0.9851559996604919, -0.010733822360634804, -0.22953647375106812, 0.9831599593162537, -0.008826681412756443, -0.029012085869908333, 0.9811637997627258, -0.00691954093053937, 0.17151230573654175, 0.979167640209198, -0.005012400448322296, 0.37203672528266907, 0.9771716594696045, -0.0031052595004439354, 0.5725610852241516, 0.9751755595207214, -0.0011981185525655746, 0.7730854749679565, 0.9731795191764832, 0.0007090223953127861, 0.9736098647117615, 0.9711834788322449, 0.0026161624118685722, 1.1741344928741455, 0.9691873788833618, 0.004523306153714657, 1.3746587038040161, 0.9671912789344788, 0.006430446170270443, 1.5751830339431763, 0.9651952385902405, 0.008337588049471378, 1.7757073640823364, 0.9631991386413574, 0.010244726203382015]);\n",
              "//# sourceURL=js_a0c7ae0649"
            ],
            "text/plain": [
              "<IPython.core.display.Javascript object>"
            ]
          },
          "metadata": {
            "tags": []
          }
        },
        {
          "output_type": "display_data",
          "data": {
            "application/javascript": [
              "window[\"3badb910-d159-11e9-8d65-0242ac1c0002\"] = window[\"35a4ade4-d159-11e9-8d65-0242ac1c0002\"].getAttribute(\"position\");\n",
              "//# sourceURL=js_60400f5f6e"
            ],
            "text/plain": [
              "<IPython.core.display.Javascript object>"
            ]
          },
          "metadata": {
            "tags": []
          }
        },
        {
          "output_type": "display_data",
          "data": {
            "application/javascript": [
              "window[\"3badb910-d159-11e9-8d65-0242ac1c0002\"].needsUpdate = true;\n",
              "//# sourceURL=js_55583dd180"
            ],
            "text/plain": [
              "<IPython.core.display.Javascript object>"
            ]
          },
          "metadata": {
            "tags": []
          }
        },
        {
          "output_type": "display_data",
          "data": {
            "application/javascript": [
              "window[\"3bc1452a-d159-11e9-8d65-0242ac1c0002\"] = window[\"35a4ade4-d159-11e9-8d65-0242ac1c0002\"].getAttribute(\"position\");\n",
              "//# sourceURL=js_0907304145"
            ],
            "text/plain": [
              "<IPython.core.display.Javascript object>"
            ]
          },
          "metadata": {
            "tags": []
          }
        },
        {
          "output_type": "display_data",
          "data": {
            "application/javascript": [
              "window[\"3bc192c8-d159-11e9-8d65-0242ac1c0002\"] = window[\"3bc1452a-d159-11e9-8d65-0242ac1c0002\"].copyArray([-1.8532363176345825, -0.007295205257833004, -0.025218039751052856, -1.6517175436019897, -0.008086787536740303, -0.023785080760717392, -1.450198769569397, -0.008878370746970177, -0.022352121770381927, -1.2486802339553833, -0.00966995395720005, -0.020919162780046463, -1.047161340713501, -0.01046153623610735, -0.019486203789711, -0.8456426858901978, -0.011253118515014648, -0.018053242936730385, -0.6441240310668945, -0.012044701725244522, -0.01662028394639492, -0.442605197429657, -0.012836284004151821, -0.015187324024736881, -0.24108648300170898, -0.013627867214381695, -0.013754365034401417, -0.039567749947309494, -0.014419449493288994, -0.012321405112743378, 0.1619509756565094, -0.015211031772196293, -0.010888445191085339, 0.3634697198867798, -0.016002614051103592, -0.009455486200749874, 0.5649884939193726, -0.016794197261333466, -0.008022526279091835, 0.7665071487426758, -0.01758578047156334, -0.006589566823095083, 0.9680258631706238, -0.018377363681793213, -0.0051566073670983315, 1.1695448160171509, -0.019168945029377937, -0.0037236474454402924, 1.3710633516311646, -0.01996052823960781, -0.0022906875237822533, 1.5725821256637573, -0.020752111449837685, -0.0008577285334467888, 1.77410089969635, -0.02154369279742241, 0.0005752304568886757, -1.849362850189209, 1.0002543926239014, -0.013360640034079552, -1.6478439569473267, 0.9994630813598633, -0.011927681043744087, -1.4463255405426025, 0.998671293258667, -0.010494722053408623, -1.2448067665100098, 0.9978797435760498, -0.009061762131750584, -1.043287992477417, 0.9970883131027222, -0.007628801744431257, -0.841769278049469, 0.9962965250015259, -0.006195842754095793, -0.6402506232261658, 0.9955049753189087, -0.004762883763760328, -0.4387317895889282, 0.9947134256362915, -0.003329923376441002, -0.23721306025981903, 0.9939217567443848, -0.001896965317428112, -0.03569432348012924, 0.9931303262710571, -0.00046400539577007294, 0.16582439839839935, 0.9923387765884399, 0.0009689545258879662, 0.36734315752983093, 0.9915471076965332, 0.0024019135162234306, 0.5688619017601013, 0.990755558013916, 0.003834875300526619, 0.7703806161880493, 0.9899638891220093, 0.005267832428216934, 0.9718994498252869, 0.9891723394393921, 0.006700793281197548, 1.1734182834625244, 0.9883807897567749, 0.008133754134178162, 1.3749369382858276, 0.9875891208648682, 0.009566713124513626, 1.5764555931091309, 0.986797571182251, 0.01099967211484909, 1.777974247932434, 0.9860061407089233, 0.012432631105184555]);\n",
              "//# sourceURL=js_da5dceba1a"
            ],
            "text/plain": [
              "<IPython.core.display.Javascript object>"
            ]
          },
          "metadata": {
            "tags": []
          }
        },
        {
          "output_type": "display_data",
          "data": {
            "application/javascript": [
              "window[\"3bc21d56-d159-11e9-8d65-0242ac1c0002\"] = window[\"35a4ade4-d159-11e9-8d65-0242ac1c0002\"].getAttribute(\"position\");\n",
              "//# sourceURL=js_cac071d990"
            ],
            "text/plain": [
              "<IPython.core.display.Javascript object>"
            ]
          },
          "metadata": {
            "tags": []
          }
        },
        {
          "output_type": "display_data",
          "data": {
            "application/javascript": [
              "window[\"3bc21d56-d159-11e9-8d65-0242ac1c0002\"].needsUpdate = true;\n",
              "//# sourceURL=js_9420cb4b88"
            ],
            "text/plain": [
              "<IPython.core.display.Javascript object>"
            ]
          },
          "metadata": {
            "tags": []
          }
        },
        {
          "output_type": "display_data",
          "data": {
            "application/javascript": [
              "window[\"3bd7449c-d159-11e9-8d65-0242ac1c0002\"] = window[\"35a4ade4-d159-11e9-8d65-0242ac1c0002\"].getAttribute(\"position\");\n",
              "//# sourceURL=js_a05409fc79"
            ],
            "text/plain": [
              "<IPython.core.display.Javascript object>"
            ]
          },
          "metadata": {
            "tags": []
          }
        },
        {
          "output_type": "display_data",
          "data": {
            "application/javascript": [
              "window[\"3bd7a040-d159-11e9-8d65-0242ac1c0002\"] = window[\"3bd7449c-d159-11e9-8d65-0242ac1c0002\"].copyArray([-1.8612034320831299, -0.01046588271856308, -0.018510645255446434, -1.6588215827941895, -0.010186797939240932, -0.01767856255173683, -1.456439733505249, -0.009907713159918785, -0.01684647798538208, -1.2540578842163086, -0.009628628380596638, -0.01601439341902733, -1.0516761541366577, -0.00934954360127449, -0.015182310715317726, -0.8492942452430725, -0.009070458821952343, -0.01435022708028555, -0.6469123959541321, -0.008791374042630196, -0.013518143445253372, -0.44453057646751404, -0.008512288331985474, -0.012686059810221195, -0.2421487420797348, -0.008233203552663326, -0.011853976175189018, -0.039766911417245865, -0.007954118773341179, -0.011021892540156841, 0.16261492669582367, -0.0076750339940190315, -0.010189808905124664, 0.3649967610836029, -0.007395948749035597, -0.009357725270092487, 0.567378580570221, -0.0071168639697134495, -0.00852564163506031, 0.7697604298591614, -0.006837779190391302, -0.007693558000028133, 0.9721423387527466, -0.006558693945407867, -0.006861474364995956, 1.1745240688323975, -0.00627960916608572, -0.0060293907299637794, 1.376905918121338, -0.006000524386763573, -0.0051973070949316025, 1.5792877674102783, -0.005721439607441425, -0.0043652234598994255, 1.7816696166992188, -0.005442354362457991, -0.0035331398248672485, -1.8626670837402344, 1.0013147592544556, -0.0018598726019263268, -1.660285234451294, 1.001593828201294, -0.001027790829539299, -1.457903504371643, 1.0018728971481323, -0.00019570626318454742, -1.2555216550827026, 1.0021520853042603, 0.0006363773718476295, -1.0531399250030518, 1.002431035041809, 0.0014684610068798065, -0.8507579565048218, 1.0027101039886475, 0.0023005446419119835, -0.6483761668205261, 1.0029892921447754, 0.0031326282769441605, -0.4459942877292633, 1.0032682418823242, 0.003964711911976337, -0.24361245334148407, 1.0035474300384521, 0.004796796478331089, -0.041230618953704834, 1.00382661819458, 0.005628879182040691, 0.1611512154340744, 1.0041056871414185, 0.006460963748395443, 0.36353304982185364, 1.0043846368789673, 0.007293044589459896, 0.5659148693084717, 1.0046637058258057, 0.008125129155814648, 0.7682967185974121, 1.0049430131912231, 0.008957215584814548, 0.9706785678863525, 1.005221962928772, 0.00978929828852415, 1.173060417175293, 1.0055010318756104, 0.010621380992233753, 1.3754422664642334, 1.0057801008224487, 0.011453463695943356, 1.5778241157531738, 1.006059169769287, 0.012285548262298107, 1.7802058458328247, 1.0063382387161255, 0.01311763096600771]);\n",
              "//# sourceURL=js_07d7a6f154"
            ],
            "text/plain": [
              "<IPython.core.display.Javascript object>"
            ]
          },
          "metadata": {
            "tags": []
          }
        },
        {
          "output_type": "display_data",
          "data": {
            "application/javascript": [
              "window[\"3bd7f1c6-d159-11e9-8d65-0242ac1c0002\"] = window[\"35a4ade4-d159-11e9-8d65-0242ac1c0002\"].getAttribute(\"position\");\n",
              "//# sourceURL=js_bfaf379cb4"
            ],
            "text/plain": [
              "<IPython.core.display.Javascript object>"
            ]
          },
          "metadata": {
            "tags": []
          }
        },
        {
          "output_type": "display_data",
          "data": {
            "application/javascript": [
              "window[\"3bd7f1c6-d159-11e9-8d65-0242ac1c0002\"].needsUpdate = true;\n",
              "//# sourceURL=js_4bb8dcf4f8"
            ],
            "text/plain": [
              "<IPython.core.display.Javascript object>"
            ]
          },
          "metadata": {
            "tags": []
          }
        },
        {
          "output_type": "display_data",
          "data": {
            "application/javascript": [
              "window[\"3bebe8f2-d159-11e9-8d65-0242ac1c0002\"] = window[\"35a4ade4-d159-11e9-8d65-0242ac1c0002\"].getAttribute(\"position\");\n",
              "//# sourceURL=js_1d1e069ff5"
            ],
            "text/plain": [
              "<IPython.core.display.Javascript object>"
            ]
          },
          "metadata": {
            "tags": []
          }
        },
        {
          "output_type": "display_data",
          "data": {
            "application/javascript": [
              "window[\"3bec3578-d159-11e9-8d65-0242ac1c0002\"] = window[\"3bebe8f2-d159-11e9-8d65-0242ac1c0002\"].copyArray([-1.8669737577438354, -0.012921597808599472, -0.011422408744692802, -1.663925051689148, -0.011716803535819054, -0.011237576603889465, -1.46087646484375, -0.010512009263038635, -0.011052744463086128, -1.257827877998352, -0.009307216852903366, -0.010867913253605366, -1.054779052734375, -0.008102422580122948, -0.010683081112802029, -0.851730465888977, -0.006897628773003817, -0.010498248971998692, -0.6486818790435791, -0.00569283589720726, -0.010313416831195354, -0.4456331729888916, -0.004488041624426842, -0.010128585621714592, -0.24258452653884888, -0.0032832480501383543, -0.009943753480911255, -0.03953588381409645, -0.002078454475849867, -0.009758921340107918, 0.16351276636123657, -0.0008736609015613794, -0.00957408919930458, 0.3665614128112793, 0.000331132672727108, -0.009389257058501244, 0.5696101188659668, 0.0015359267126768827, -0.009204425849020481, 0.7726587057113647, 0.002740719821304083, -0.009019593708217144, 0.9757072925567627, 0.003945513628423214, -0.008834761567413807, 1.1787561178207397, 0.005150307901203632, -0.00864992942661047, 1.3818047046661377, 0.006355100777000189, -0.008465098217129707, 1.5848532915115356, 0.007559894118458033, -0.00828026607632637, 1.7879019975662231, 0.008764687925577164, -0.008095433935523033, -1.873015284538269, 1.0021071434020996, 0.00945759005844593, -1.6699668169021606, 1.0033119916915894, 0.009642420336604118, -1.4669179916381836, 1.004516839981079, 0.009827252477407455, -1.2638694047927856, 1.0057216882705688, 0.010012084618210793, -1.0608208179473877, 1.006926417350769, 0.010196918621659279, -0.857772171497345, 1.0081312656402588, 0.010381750762462616, -0.654723584651947, 1.0093361139297485, 0.010566579177975655, -0.45167484879493713, 1.0105407238006592, 0.010751413181424141, -0.2486262321472168, 1.0117456912994385, 0.010936245322227478, -0.04557758569717407, 1.0129504203796387, 0.011121077463030815, 0.15747106075286865, 1.0141552686691284, 0.011305909603834152, 0.36051973700523376, 1.0153599977493286, 0.01149073988199234, 0.5635684728622437, 1.0165647268295288, 0.011675570160150528, 0.7666170001029968, 1.0177695751190186, 0.011860404163599014, 0.9696656465530396, 1.0189743041992188, 0.012045236304402351, 1.172714352607727, 1.0201791524887085, 0.01223006658256054, 1.3757630586624146, 1.0213840007781982, 0.012414900586009026, 1.578811526298523, 1.022588849067688, 0.012599732726812363, 1.781860113143921, 1.0237934589385986, 0.01278456300497055]);\n",
              "//# sourceURL=js_29ba636e7d"
            ],
            "text/plain": [
              "<IPython.core.display.Javascript object>"
            ]
          },
          "metadata": {
            "tags": []
          }
        },
        {
          "output_type": "display_data",
          "data": {
            "application/javascript": [
              "window[\"3bec7d8a-d159-11e9-8d65-0242ac1c0002\"] = window[\"35a4ade4-d159-11e9-8d65-0242ac1c0002\"].getAttribute(\"position\");\n",
              "//# sourceURL=js_33b3a6293e"
            ],
            "text/plain": [
              "<IPython.core.display.Javascript object>"
            ]
          },
          "metadata": {
            "tags": []
          }
        },
        {
          "output_type": "display_data",
          "data": {
            "application/javascript": [
              "window[\"3bec7d8a-d159-11e9-8d65-0242ac1c0002\"].needsUpdate = true;\n",
              "//# sourceURL=js_04b530f4d1"
            ],
            "text/plain": [
              "<IPython.core.display.Javascript object>"
            ]
          },
          "metadata": {
            "tags": []
          }
        },
        {
          "output_type": "display_data",
          "data": {
            "application/javascript": [
              "window[\"3c0071e6-d159-11e9-8d65-0242ac1c0002\"] = window[\"35a4ade4-d159-11e9-8d65-0242ac1c0002\"].getAttribute(\"position\");\n",
              "//# sourceURL=js_04ae3ea56a"
            ],
            "text/plain": [
              "<IPython.core.display.Javascript object>"
            ]
          },
          "metadata": {
            "tags": []
          }
        },
        {
          "output_type": "display_data",
          "data": {
            "application/javascript": [
              "window[\"3c00c290-d159-11e9-8d65-0242ac1c0002\"] = window[\"3c0071e6-d159-11e9-8d65-0242ac1c0002\"].copyArray([-1.8701448440551758, -0.01457615289837122, -0.004789998754858971, -1.6666721105575562, -0.012598793022334576, -0.005217214114964008, -1.4631993770599365, -0.010621431283652782, -0.005644429940730333, -1.2597267627716064, -0.008644073270261288, -0.006071645766496658, -1.0562541484832764, -0.0066667115315794945, -0.006498861126601696, -0.8527812957763672, -0.004689352586865425, -0.006926076486706734, -0.6493086218833923, -0.002711992710828781, -0.007353292312473059, -0.4458358883857727, -0.0007346323691308498, -0.007780507672578096, -0.24236318469047546, 0.0012427277397364378, -0.008207723498344421, -0.03889048099517822, 0.0032200878486037254, -0.008634938858449459, 0.16458222270011902, 0.005197447724640369, -0.009062154218554497, 0.36805492639541626, 0.007174808066338301, -0.009489369578659534, 0.5715276598930359, 0.009152168408036232, -0.009916585870087147, 0.7750003337860107, 0.011129528284072876, -0.010343801230192184, 0.9784731864929199, 0.013106887228786945, -0.010771016590297222, 1.18194580078125, 0.015084248967468739, -0.01119823195040226, 1.38541841506958, 0.01706160604953766, -0.011625448241829872, 1.5888911485671997, 0.019038967788219452, -0.01205266360193491, 1.7923638820648193, 0.021016329526901245, -0.012479878962039948, -1.8799775838851929, 1.0024964809417725, 0.01965651661157608, -1.6765048503875732, 1.0044738054275513, 0.019229300320148468, -1.4730322360992432, 1.0064510107040405, 0.018802084028720856, -1.269559621810913, 1.0084285736083984, 0.018374867737293243, -1.0660866498947144, 1.0104057788848877, 0.01794765144586563, -0.8626139163970947, 1.0123833417892456, 0.017520438879728317, -0.6591413021087646, 1.0143605470657349, 0.017093222588300705, -0.45566853880882263, 1.0163379907608032, 0.016666006296873093, -0.2521958351135254, 1.018315315246582, 0.01623879000544548, -0.04872312396764755, 1.0202926397323608, 0.015811577439308167, 0.15474958717823029, 1.0222702026367188, 0.01538436021655798, 0.3582223355770111, 1.0242472887039185, 0.014957143925130367, 0.5616950988769531, 1.0262247323989868, 0.014529929496347904, 0.7651677131652832, 1.0282020568847656, 0.014102713204920292, 0.9686404466629028, 1.030179500579834, 0.013675498776137829, 1.172113299369812, 1.0321568250656128, 0.013248280622065067, 1.375585913658142, 1.0341341495513916, 0.012821068055927753, 1.5790585279464722, 1.0361114740371704, 0.012393849901854992, 1.7825312614440918, 1.0380889177322388, 0.011966637335717678]);\n",
              "//# sourceURL=js_0cdc1bb735"
            ],
            "text/plain": [
              "<IPython.core.display.Javascript object>"
            ]
          },
          "metadata": {
            "tags": []
          }
        },
        {
          "output_type": "display_data",
          "data": {
            "application/javascript": [
              "window[\"3c01139e-d159-11e9-8d65-0242ac1c0002\"] = window[\"35a4ade4-d159-11e9-8d65-0242ac1c0002\"].getAttribute(\"position\");\n",
              "//# sourceURL=js_6354405404"
            ],
            "text/plain": [
              "<IPython.core.display.Javascript object>"
            ]
          },
          "metadata": {
            "tags": []
          }
        },
        {
          "output_type": "display_data",
          "data": {
            "application/javascript": [
              "window[\"3c01139e-d159-11e9-8d65-0242ac1c0002\"].needsUpdate = true;\n",
              "//# sourceURL=js_fc18486a08"
            ],
            "text/plain": [
              "<IPython.core.display.Javascript object>"
            ]
          },
          "metadata": {
            "tags": []
          }
        },
        {
          "output_type": "display_data",
          "data": {
            "application/javascript": [
              "window[\"3c1685ee-d159-11e9-8d65-0242ac1c0002\"] = window[\"35a4ade4-d159-11e9-8d65-0242ac1c0002\"].getAttribute(\"position\");\n",
              "//# sourceURL=js_2d0408bb8c"
            ],
            "text/plain": [
              "<IPython.core.display.Javascript object>"
            ]
          },
          "metadata": {
            "tags": []
          }
        },
        {
          "output_type": "display_data",
          "data": {
            "application/javascript": [
              "window[\"3c16d35a-d159-11e9-8d65-0242ac1c0002\"] = window[\"3c1685ee-d159-11e9-8d65-0242ac1c0002\"].copyArray([-1.8705083131790161, -0.015371281653642654, 0.0006568166427314281, -1.6668801307678223, -0.012779032811522484, -0.0002749999985098839, -1.4632515907287598, -0.010186774656176567, -0.0012068175710737705, -1.2596232891082764, -0.007594524882733822, -0.002138635143637657, -1.0559948682785034, -0.005002271384000778, -0.003070452716201544, -0.8523666858673096, -0.0024100206792354584, -0.0040022702887654305, -0.6487382650375366, 0.0001822332851588726, -0.00493408739566803, -0.44510990381240845, 0.0027744853869080544, -0.005865904968231916, -0.24148154258728027, 0.005366738419979811, -0.006797722540795803, -0.03785316273570061, 0.007958991453051567, -0.00772954011335969, 0.16577520966529846, 0.010551244020462036, -0.008661357685923576, 0.369403600692749, 0.01314349751919508, -0.009593174792826176, 0.5730319023132324, 0.015735749155282974, -0.01052499283105135, 0.7766603231430054, 0.018328003585338593, -0.011456809937953949, 0.980288565158844, 0.020920254290103912, -0.012388627976179123, 1.1839170455932617, 0.02351250872015953, -0.013320445083081722, 1.3875453472137451, 0.0261047575622797, -0.014252262189984322, 1.5911738872528076, 0.028697015717625618, -0.015184080228209496, 1.7948020696640015, 0.03128926455974579, -0.01611589640378952, -1.8833403587341309, 1.0024174451828003, 0.02793392352759838, -1.6797120571136475, 1.0050095319747925, 0.027002105489373207, -1.476083517074585, 1.0076018571853638, 0.026070287451148033, -1.2724552154541016, 1.010194182395935, 0.02513846941292286, -1.0688269138336182, 1.0127862691879272, 0.024206651374697685, -0.8651986718177795, 1.015378713607788, 0.02327483519911766, -0.6615702509880066, 1.0179709196090698, 0.022343017160892487, -0.45794183015823364, 1.0205631256103516, 0.021411199122667313, -0.25431346893310547, 1.0231554508209229, 0.020479382947087288, -0.050685107707977295, 1.0257476568222046, 0.019547563046216965, 0.15294328331947327, 1.0283398628234863, 0.01861574687063694, 0.35657167434692383, 1.0309321880340576, 0.017683930695056915, 0.5601999759674072, 1.0335243940353394, 0.016752110794186592, 0.7638282775878906, 1.036116600036621, 0.015820292755961418, 0.9674566388130188, 1.0387089252471924, 0.014888478443026543, 1.171085000038147, 1.0413011312484741, 0.01395665854215622, 1.3747133016586304, 1.0438934564590454, 0.013024840503931046, 1.5783418416976929, 1.0464857816696167, 0.01209302619099617, 1.7819701433181763, 1.0490778684616089, 0.011161206290125847]);\n",
              "//# sourceURL=js_45f08b7f32"
            ],
            "text/plain": [
              "<IPython.core.display.Javascript object>"
            ]
          },
          "metadata": {
            "tags": []
          }
        },
        {
          "output_type": "display_data",
          "data": {
            "application/javascript": [
              "window[\"3c17a0fa-d159-11e9-8d65-0242ac1c0002\"] = window[\"35a4ade4-d159-11e9-8d65-0242ac1c0002\"].getAttribute(\"position\");\n",
              "//# sourceURL=js_f8eafe37db"
            ],
            "text/plain": [
              "<IPython.core.display.Javascript object>"
            ]
          },
          "metadata": {
            "tags": []
          }
        },
        {
          "output_type": "display_data",
          "data": {
            "application/javascript": [
              "window[\"3c17a0fa-d159-11e9-8d65-0242ac1c0002\"].needsUpdate = true;\n",
              "//# sourceURL=js_97d8aeeff9"
            ],
            "text/plain": [
              "<IPython.core.display.Javascript object>"
            ]
          },
          "metadata": {
            "tags": []
          }
        },
        {
          "output_type": "display_data",
          "data": {
            "application/javascript": [
              "window[\"3c2c2b10-d159-11e9-8d65-0242ac1c0002\"] = window[\"35a4ade4-d159-11e9-8d65-0242ac1c0002\"].getAttribute(\"position\");\n",
              "//# sourceURL=js_12ad6f721e"
            ],
            "text/plain": [
              "<IPython.core.display.Javascript object>"
            ]
          },
          "metadata": {
            "tags": []
          }
        },
        {
          "output_type": "display_data",
          "data": {
            "application/javascript": [
              "window[\"3c2c7c64-d159-11e9-8d65-0242ac1c0002\"] = window[\"3c2c2b10-d159-11e9-8d65-0242ac1c0002\"].copyArray([-1.8680528402328491, -0.015281889587640762, 0.00437851483002305, -1.6645418405532837, -0.012232722714543343, 0.0031034029088914394, -1.4610306024551392, -0.009183553978800774, 0.001828290056437254, -1.2575193643569946, -0.006134385243058205, 0.0005531772039830685, -1.05400812625885, -0.0030852193012833595, -0.000721935648471117, -0.8504971265792847, -3.605149686336517e-05, -0.001997048035264015, -0.6469858884811401, 0.003013117238879204, -0.0032721608877182007, -0.44347473978996277, 0.0060622841119766235, -0.004547273740172386, -0.239963561296463, 0.009111451916396618, -0.005822386126965284, -0.036452386528253555, 0.012160619720816612, -0.00709749897941947, 0.1670587956905365, 0.015209787525236607, -0.008372611366212368, 0.37056997418403625, 0.0182589553296566, -0.009647724218666553, 0.5740810632705688, 0.02130812220275402, -0.010922837071120739, 0.7775923013687134, 0.02435729093849659, -0.012197949923574924, 0.9811033010482788, 0.02740645781159401, -0.013473061844706535, 1.1846145391464233, 0.03045562468469143, -0.01474817469716072, 1.3881257772445679, 0.03350479155778885, -0.016023287549614906, 1.5916370153427124, 0.036553964018821716, -0.017298400402069092, 1.7951480150222778, 0.03960312902927399, -0.018573513254523277, -1.8831089735031128, 1.0018739700317383, 0.033708538860082626, -1.6795979738235474, 1.0049231052398682, 0.03243342787027359, -1.4760866165161133, 1.0079723596572876, 0.031158311292529106, -1.2725756168365479, 1.011021375656128, 0.02988320030272007, -1.0690642595291138, 1.0140706300735474, 0.028608085587620735, -0.8655531406402588, 1.0171197652816772, 0.0273329745978117, -0.6620420217514038, 1.0201690196990967, 0.026057859882712364, -0.4585307836532593, 1.0232181549072266, 0.02478274516761303, -0.2550196349620819, 1.0262672901153564, 0.02350763790309429, -0.05150846391916275, 1.0293165445327759, 0.022232525050640106, 0.15200269222259521, 1.0323655605316162, 0.02095741219818592, 0.3555138409137726, 1.0354149341583252, 0.019682299345731735, 0.5590250492095947, 1.0384639501571655, 0.0184071846306324, 0.7625361680984497, 1.0415130853652954, 0.017132071778178215, 0.9660471677780151, 1.0445624589920044, 0.01585696078836918, 1.1695584058761597, 1.0476114749908447, 0.014581849798560143, 1.3730696439743042, 1.0506607294082642, 0.013306735083460808, 1.5765808820724487, 1.0537097454071045, 0.012031624093651772, 1.7800920009613037, 1.056758999824524, 0.010756511241197586]);\n",
              "//# sourceURL=js_3318c62aba"
            ],
            "text/plain": [
              "<IPython.core.display.Javascript object>"
            ]
          },
          "metadata": {
            "tags": []
          }
        },
        {
          "output_type": "display_data",
          "data": {
            "application/javascript": [
              "window[\"3c2cda1a-d159-11e9-8d65-0242ac1c0002\"] = window[\"35a4ade4-d159-11e9-8d65-0242ac1c0002\"].getAttribute(\"position\");\n",
              "//# sourceURL=js_35d5b3278a"
            ],
            "text/plain": [
              "<IPython.core.display.Javascript object>"
            ]
          },
          "metadata": {
            "tags": []
          }
        },
        {
          "output_type": "display_data",
          "data": {
            "application/javascript": [
              "window[\"3c2cda1a-d159-11e9-8d65-0242ac1c0002\"].needsUpdate = true;\n",
              "//# sourceURL=js_a18725a20c"
            ],
            "text/plain": [
              "<IPython.core.display.Javascript object>"
            ]
          },
          "metadata": {
            "tags": []
          }
        },
        {
          "output_type": "display_data",
          "data": {
            "application/javascript": [
              "window[\"3c4110ca-d159-11e9-8d65-0242ac1c0002\"] = window[\"35a4ade4-d159-11e9-8d65-0242ac1c0002\"].getAttribute(\"position\");\n",
              "//# sourceURL=js_e902f99a51"
            ],
            "text/plain": [
              "<IPython.core.display.Javascript object>"
            ]
          },
          "metadata": {
            "tags": []
          }
        },
        {
          "output_type": "display_data",
          "data": {
            "application/javascript": [
              "window[\"3c4163fe-d159-11e9-8d65-0242ac1c0002\"] = window[\"3c4110ca-d159-11e9-8d65-0242ac1c0002\"].copyArray([-1.8629510402679443, -0.01431894488632679, 0.006081270519644022, -1.659814715385437, -0.01096663810312748, 0.004653553012758493, -1.4566779136657715, -0.007614323869347572, 0.0032258336432278156, -1.2535415887832642, -0.004262017086148262, 0.001798116136342287, -1.0504047870635986, -0.0009097084403038025, 0.0003703972324728966, -0.847268283367157, 0.0024426020681858063, -0.0010573212057352066, -0.6441317200660706, 0.005794912576675415, -0.00248503964394331, -0.4409950375556946, 0.00914722215384245, -0.003912758082151413, -0.23785844445228577, 0.012499531731009483, -0.0053404769860208035, -0.03472183272242546, 0.015851842239499092, -0.006768195424228907, 0.16841477155685425, 0.0192041527479887, -0.008195914328098297, 0.37155139446258545, 0.02255646139383316, -0.0096236327663064, 0.5746880173683167, 0.02590877190232277, -0.011051351204514503, 0.7778245806694031, 0.029261082410812378, -0.012479069642722607, 0.9809610843658447, 0.03261339291930199, -0.01390678808093071, 1.1840978860855103, 0.035965703427791595, -0.015334507450461388, 1.3872342109680176, 0.039318010210990906, -0.016762224957346916, 1.590371012687683, 0.04267032444477081, -0.018189944326877594, 1.7935073375701904, 0.04602263122797012, -0.019617661833763123, -1.879490613937378, 1.0009318590164185, 0.03667956963181496, -1.676354169845581, 1.0042840242385864, 0.03525185585021973, -1.473217487335205, 1.007636547088623, 0.0338241346180439, -1.2700810432434082, 1.010988712310791, 0.03239641711115837, -1.0669442415237427, 1.0143409967422485, 0.030968697741627693, -0.8638076782226562, 1.017693281173706, 0.029540980234742165, -0.6606711149215698, 1.0210455656051636, 0.028113262727856636, -0.4575343728065491, 1.0243980884552002, 0.026685545220971107, -0.25439780950546265, 1.0277503728866577, 0.02525782771408558, -0.05126119405031204, 1.0311025381088257, 0.023830106481909752, 0.15187540650367737, 1.0344548225402832, 0.022402387112379074, 0.35501202940940857, 1.0378072261810303, 0.020974669605493546, 0.5581486821174622, 1.0411596298217773, 0.019546952098608017, 0.7612852454185486, 1.0445119142532349, 0.01811923459172249, 0.964421808719635, 1.0478641986846924, 0.01669151335954666, 1.1675585508346558, 1.05121648311615, 0.015263795852661133, 1.370694875717163, 1.0545687675476074, 0.013836076483130455, 1.5738316774368286, 1.057921051979065, 0.012408358976244926, 1.776968002319336, 1.0612733364105225, 0.010980641469359398]);\n",
              "//# sourceURL=js_60210a923d"
            ],
            "text/plain": [
              "<IPython.core.display.Javascript object>"
            ]
          },
          "metadata": {
            "tags": []
          }
        },
        {
          "output_type": "display_data",
          "data": {
            "application/javascript": [
              "window[\"3c41c146-d159-11e9-8d65-0242ac1c0002\"] = window[\"35a4ade4-d159-11e9-8d65-0242ac1c0002\"].getAttribute(\"position\");\n",
              "//# sourceURL=js_780e890afe"
            ],
            "text/plain": [
              "<IPython.core.display.Javascript object>"
            ]
          },
          "metadata": {
            "tags": []
          }
        },
        {
          "output_type": "display_data",
          "data": {
            "application/javascript": [
              "window[\"3c41c146-d159-11e9-8d65-0242ac1c0002\"].needsUpdate = true;\n",
              "//# sourceURL=js_937ebc6861"
            ],
            "text/plain": [
              "<IPython.core.display.Javascript object>"
            ]
          },
          "metadata": {
            "tags": []
          }
        },
        {
          "output_type": "display_data",
          "data": {
            "application/javascript": [
              "window[\"3c55e0e0-d159-11e9-8d65-0242ac1c0002\"] = window[\"35a4ade4-d159-11e9-8d65-0242ac1c0002\"].getAttribute(\"position\");\n",
              "//# sourceURL=js_17cf29642a"
            ],
            "text/plain": [
              "<IPython.core.display.Javascript object>"
            ]
          },
          "metadata": {
            "tags": []
          }
        },
        {
          "output_type": "display_data",
          "data": {
            "application/javascript": [
              "window[\"3c563ae0-d159-11e9-8d65-0242ac1c0002\"] = window[\"3c55e0e0-d159-11e9-8d65-0242ac1c0002\"].copyArray([-1.8555375337600708, -0.012529117986559868, 0.0057368287816643715, -1.652999997138977, -0.00901884026825428, 0.004349801689386368, -1.4504624605178833, -0.005508558824658394, 0.0029627708718180656, -1.247925043106079, -0.0019982848316431046, 0.0015757428482174873, -1.0453875064849854, 0.0015119966119527817, 0.0001887138932943344, -0.8428497314453125, 0.00502227246761322, -0.0011983145959675312, -0.6403122544288635, 0.008532550185918808, -0.0025853440165519714, -0.4377746284008026, 0.01204282883554697, -0.003972372971475124, -0.23523709177970886, 0.015553107485175133, -0.005359401926398277, -0.03269953280687332, 0.01906338520348072, -0.00674643088132143, 0.16983801126480103, 0.02257366292178631, -0.008133459836244583, 0.37237557768821716, 0.026083942502737045, -0.009520488791167736, 0.5749132037162781, 0.029594220221042633, -0.010907517746090889, 0.777450680732727, 0.03310449793934822, -0.012294547632336617, 0.9799883961677551, 0.03661477565765381, -0.013681575655937195, 1.182525873184204, 0.040125057101249695, -0.015068604610860348, 1.3850632905960083, 0.043635331094264984, -0.01645563170313835, 1.587600827217102, 0.04714561253786087, -0.017842663452029228, 1.7901383638381958, 0.05065588653087616, -0.019229691475629807, -1.8728679418563843, 0.999708354473114, 0.036846525967121124, -1.67033052444458, 1.0032185316085815, 0.0354594923555851, -1.4677928686141968, 1.0067287683486938, 0.03407246619462967, -1.2652555704116821, 1.0102390050888062, 0.03268543630838394, -1.0627177953720093, 1.0137494802474976, 0.031298406422138214, -0.8601803183555603, 1.0172597169876099, 0.029911380261182785, -0.6576427817344666, 1.0207699537277222, 0.028524350374937057, -0.455105185508728, 1.0242801904678345, 0.02713732048869133, -0.2525676190853119, 1.0277904272079468, 0.025750290602445602, -0.050030071288347244, 1.031300663948059, 0.024363264441490173, 0.152507483959198, 1.034811019897461, 0.022976230829954147, 0.35504505038261414, 1.0383212566375732, 0.021589204668998718, 0.5575826168060303, 1.0418314933776855, 0.02020217478275299, 0.760120153427124, 1.0453418493270874, 0.018815144896507263, 0.9626576900482178, 1.0488522052764893, 0.017428118735551834, 1.1651952266693115, 1.052362322807312, 0.016041088849306107, 1.3677327632904053, 1.0558727979660034, 0.014654058031737804, 1.5702704191207886, 1.0593830347061157, 0.013267028145492077, 1.7728078365325928, 1.0628931522369385, 0.011880001984536648]);\n",
              "//# sourceURL=js_640521c0ee"
            ],
            "text/plain": [
              "<IPython.core.display.Javascript object>"
            ]
          },
          "metadata": {
            "tags": []
          }
        },
        {
          "output_type": "display_data",
          "data": {
            "application/javascript": [
              "window[\"3c569648-d159-11e9-8d65-0242ac1c0002\"] = window[\"35a4ade4-d159-11e9-8d65-0242ac1c0002\"].getAttribute(\"position\");\n",
              "//# sourceURL=js_1207ce3633"
            ],
            "text/plain": [
              "<IPython.core.display.Javascript object>"
            ]
          },
          "metadata": {
            "tags": []
          }
        },
        {
          "output_type": "display_data",
          "data": {
            "application/javascript": [
              "window[\"3c569648-d159-11e9-8d65-0242ac1c0002\"].needsUpdate = true;\n",
              "//# sourceURL=js_f5c258eaf1"
            ],
            "text/plain": [
              "<IPython.core.display.Javascript object>"
            ]
          },
          "metadata": {
            "tags": []
          }
        },
        {
          "output_type": "display_data",
          "data": {
            "application/javascript": [
              "window[\"3c6a7776-d159-11e9-8d65-0242ac1c0002\"] = window[\"35a4ade4-d159-11e9-8d65-0242ac1c0002\"].getAttribute(\"position\");\n",
              "//# sourceURL=js_c4b0461f92"
            ],
            "text/plain": [
              "<IPython.core.display.Javascript object>"
            ]
          },
          "metadata": {
            "tags": []
          }
        },
        {
          "output_type": "display_data",
          "data": {
            "application/javascript": [
              "window[\"3c6ac974-d159-11e9-8d65-0242ac1c0002\"] = window[\"3c6a7776-d159-11e9-8d65-0242ac1c0002\"].copyArray([-1.8462700843811035, -0.00999082624912262, 0.003565517719835043, -1.6445095539093018, -0.0064552947878837585, 0.0023899576626718044, -1.4427493810653687, -0.0029197633266448975, 0.001214397605508566, -1.2409892082214355, 0.0006157681345939636, 3.883708268404007e-05, -1.0392285585403442, 0.004151299595832825, -0.0011367234401404858, -0.8374682664871216, 0.007686832919716835, -0.002312284894287586, -0.6357080936431885, 0.011222364380955696, -0.0034878451842814684, -0.4339475929737091, 0.014757896773517132, -0.004663405939936638, -0.23218728601932526, 0.018293429166078568, -0.005838966928422451, -0.030426960438489914, 0.02182896062731743, -0.007014527451246977, 0.17133335769176483, 0.02536449208855629, -0.008190087974071503, 0.37309369444847107, 0.02890002354979515, -0.009365648962557316, 0.5748541355133057, 0.03243555873632431, -0.010541209951043129, 0.7766143083572388, 0.03597109019756317, -0.011716770008206367, 0.9783746004104614, 0.03950662165880203, -0.012892331928014755, 1.1801352500915527, 0.043042153120040894, -0.014067891985177994, 1.3818954229354858, 0.046577684581279755, -0.015243452042341232, 1.583655595779419, 0.050113216042518616, -0.01641901209950447, 1.7854161262512207, 0.05364874750375748, -0.01759457215666771, -1.8637596368789673, 0.9983572363853455, 0.034488823264837265, -1.661999225616455, 1.0018928050994873, 0.033313263207674026, -1.4602388143539429, 1.0054283142089844, 0.03213770315051079, -1.2584786415100098, 1.0089638233184814, 0.03096214309334755, -1.0567182302474976, 1.0124993324279785, 0.02978658303618431, -0.8549578189849854, 1.0160349607467651, 0.028611022979021072, -0.6531975865364075, 1.0195704698562622, 0.027435462921857834, -0.4514371454715729, 1.0231060981750488, 0.026259895414114, -0.24967683851718903, 1.026641607284546, 0.02508433908224106, -0.04791649430990219, 1.030177116394043, 0.02390877902507782, 0.15384384989738464, 1.03371262550354, 0.02273321896791458, 0.3556042015552521, 1.037248134613037, 0.021557658910751343, 0.5573645830154419, 1.0407835245132446, 0.020382096990942955, 0.7591248750686646, 1.0443191528320312, 0.019206536933779716, 0.960885226726532, 1.0478546619415283, 0.018030976876616478, 1.1626455783843994, 1.051390290260315, 0.01685541495680809, 1.364405870437622, 1.054925799369812, 0.01567985489964485, 1.5661662817001343, 1.058461308479309, 0.014504291117191315, 1.767926573753357, 1.0619969367980957, 0.013328732922673225]);\n",
              "//# sourceURL=js_6237c8a726"
            ],
            "text/plain": [
              "<IPython.core.display.Javascript object>"
            ]
          },
          "metadata": {
            "tags": []
          }
        },
        {
          "output_type": "display_data",
          "data": {
            "application/javascript": [
              "window[\"3c6b1730-d159-11e9-8d65-0242ac1c0002\"] = window[\"35a4ade4-d159-11e9-8d65-0242ac1c0002\"].getAttribute(\"position\");\n",
              "//# sourceURL=js_87b1c0dd8a"
            ],
            "text/plain": [
              "<IPython.core.display.Javascript object>"
            ]
          },
          "metadata": {
            "tags": []
          }
        },
        {
          "output_type": "display_data",
          "data": {
            "application/javascript": [
              "window[\"3c6b1730-d159-11e9-8d65-0242ac1c0002\"].needsUpdate = true;\n",
              "//# sourceURL=js_b6c37a809d"
            ],
            "text/plain": [
              "<IPython.core.display.Javascript object>"
            ]
          },
          "metadata": {
            "tags": []
          }
        },
        {
          "output_type": "display_data",
          "data": {
            "application/javascript": [
              "window[\"3c7eccbc-d159-11e9-8d65-0242ac1c0002\"] = window[\"35a4ade4-d159-11e9-8d65-0242ac1c0002\"].getAttribute(\"position\");\n",
              "//# sourceURL=js_b019cf7c2b"
            ],
            "text/plain": [
              "<IPython.core.display.Javascript object>"
            ]
          },
          "metadata": {
            "tags": []
          }
        },
        {
          "output_type": "display_data",
          "data": {
            "application/javascript": [
              "window[\"3c7f207c-d159-11e9-8d65-0242ac1c0002\"] = window[\"3c7eccbc-d159-11e9-8d65-0242ac1c0002\"].copyArray([-1.8356918096542358, -0.006807498633861542, -1.2419186532497406e-05, -1.634831428527832, -0.003363974392414093, -0.000848318450152874, -1.4339710474014282, 7.955357432365417e-05, -0.001684216782450676, -1.2331106662750244, 0.003523077815771103, -0.002520115114748478, -1.032250165939331, 0.006966602057218552, -0.0033560143783688545, -0.8313897848129272, 0.010410124436020851, -0.004191913176327944, -0.6305294036865234, 0.013853650540113449, -0.005027811508625746, -0.4296689033508301, 0.017297174781560898, -0.005863710306584835, -0.22880849242210388, 0.020740699023008347, -0.006699609104543924, -0.027948061004281044, 0.024184223264455795, -0.007535507902503014, 0.1729123592376709, 0.027627747505903244, -0.008371406234800816, 0.3737727999687195, 0.031071271747350693, -0.009207305498421192, 0.5746332406997681, 0.03451479598879814, -0.010043203830718994, 0.7754936218261719, 0.03795832395553589, -0.01087910309433937, 0.9763540625572205, 0.04140184447169304, -0.011715001426637173, 1.1772146224975586, 0.04484536871314049, -0.01255090069025755, 1.3780750036239624, 0.048288892954587936, -0.013386799022555351, 1.5789353847503662, 0.051732420921325684, -0.014222697354853153, 1.77979576587677, 0.05517594516277313, -0.01505859661847353, -1.8527764081954956, 0.9970537424087524, 0.030111173167824745, -1.6519160270690918, 1.0004972219467163, 0.029275277629494667, -1.4510557651519775, 1.0039408206939697, 0.02843938209116459, -1.2501953840255737, 1.0073843002319336, 0.027603479102253914, -1.0493348836898804, 1.010827898979187, 0.026767583563923836, -0.8484744429588318, 1.0142713785171509, 0.02593168430030346, -0.647614061832428, 1.0177148580551147, 0.025095785036683083, -0.4467536211013794, 1.0211583375930786, 0.024259885773062706, -0.2458932101726532, 1.0246018171310425, 0.02342398464679718, -0.04503276199102402, 1.0280455350875854, 0.022588087245821953, 0.15582764148712158, 1.0314890146255493, 0.021752187982201576, 0.35668808221817017, 1.0349326133728027, 0.02091629058122635, 0.5575485229492188, 1.0383760929107666, 0.020080391317605972, 0.7584089636802673, 1.0418195724487305, 0.019244493916630745, 0.9592693448066711, 1.0452630519866943, 0.01840859279036522, 1.1601299047470093, 1.0487066507339478, 0.017572695389389992, 1.360990285873413, 1.0521501302719116, 0.016736794263124466, 1.561850666999817, 1.055593729019165, 0.01590089686214924, 1.7627110481262207, 1.059037208557129, 0.015064999461174011]);\n",
              "//# sourceURL=js_73de03f09f"
            ],
            "text/plain": [
              "<IPython.core.display.Javascript object>"
            ]
          },
          "metadata": {
            "tags": []
          }
        },
        {
          "output_type": "display_data",
          "data": {
            "application/javascript": [
              "window[\"3c7f67da-d159-11e9-8d65-0242ac1c0002\"] = window[\"35a4ade4-d159-11e9-8d65-0242ac1c0002\"].getAttribute(\"position\");\n",
              "//# sourceURL=js_1e73a38557"
            ],
            "text/plain": [
              "<IPython.core.display.Javascript object>"
            ]
          },
          "metadata": {
            "tags": []
          }
        },
        {
          "output_type": "display_data",
          "data": {
            "application/javascript": [
              "window[\"3c7f67da-d159-11e9-8d65-0242ac1c0002\"].needsUpdate = true;\n",
              "//# sourceURL=js_d4047bf481"
            ],
            "text/plain": [
              "<IPython.core.display.Javascript object>"
            ]
          },
          "metadata": {
            "tags": []
          }
        },
        {
          "output_type": "display_data",
          "data": {
            "application/javascript": [
              "window[\"3c937202-d159-11e9-8d65-0242ac1c0002\"] = window[\"35a4ade4-d159-11e9-8d65-0242ac1c0002\"].getAttribute(\"position\");\n",
              "//# sourceURL=js_15246d87f7"
            ],
            "text/plain": [
              "<IPython.core.display.Javascript object>"
            ]
          },
          "metadata": {
            "tags": []
          }
        },
        {
          "output_type": "display_data",
          "data": {
            "application/javascript": [
              "window[\"3c93c8ce-d159-11e9-8d65-0242ac1c0002\"] = window[\"3c937202-d159-11e9-8d65-0242ac1c0002\"].copyArray([-1.8243895769119263, -0.003099163994193077, -0.00444728834554553, -1.6244916915893555, 0.00015248358249664307, -0.004870600067079067, -1.4245938062667847, 0.0034041330218315125, -0.0052939122542738914, -1.2246958017349243, 0.006655776873230934, -0.005717223975807428, -1.0247979164123535, 0.009907426312565804, -0.006140536163002253, -0.8249000310897827, 0.013159073889255524, -0.0065638478845357895, -0.6250020861625671, 0.016410719603300095, -0.006987160071730614, -0.42510414123535156, 0.019662369042634964, -0.007410471793264151, -0.22520622611045837, 0.022914016619324684, -0.007833783514797688, -0.02530829608440399, 0.026165664196014404, -0.008257095701992512, 0.1745896339416504, 0.029417311772704124, -0.008680407889187336, 0.37448757886886597, 0.032668959349393845, -0.009103719145059586, 0.5743854641914368, 0.035920608788728714, -0.00952703133225441, 0.7742834091186523, 0.039172254502773285, -0.009950343519449234, 0.9741813540458679, 0.042423903942108154, -0.010373655706644058, 1.1740792989730835, 0.045675553381443024, -0.010796967893838882, 1.3739773035049438, 0.048927195370197296, -0.011220279149711132, 1.5738751888275146, 0.052178844809532166, -0.011643591336905956, 1.7737730741500854, 0.055430494248867035, -0.012066902592778206, -1.8405801057815552, 0.9959783554077148, 0.024365413933992386, -1.6406822204589844, 0.9992300868034363, 0.02394210174679756, -1.440784215927124, 1.0024816989898682, 0.02351878583431244, -1.2408863306045532, 1.0057333707809448, 0.02309548109769821, -1.0409884452819824, 1.0089850425720215, 0.022672168910503387, -0.8410905599594116, 1.0122365951538086, 0.022248856723308563, -0.641192615032196, 1.0154882669448853, 0.02182554081082344, -0.44129467010498047, 1.018739938735962, 0.021402232348918915, -0.24139675498008728, 1.0219916105270386, 0.02097892016172409, -0.0414988175034523, 1.0252432823181152, 0.020555604249238968, 0.15839911997318268, 1.0284948348999023, 0.020132295787334442, 0.35829704999923706, 1.0317466259002686, 0.019708983600139618, 0.5581949949264526, 1.0349981784820557, 0.019285671412944794, 0.7580928802490234, 1.0382499694824219, 0.01886235922574997, 0.957990825176239, 1.041501522064209, 0.018439047038555145, 1.1578887701034546, 1.0447533130645752, 0.01801573485136032, 1.357786774635315, 1.0480048656463623, 0.017592422664165497, 1.5576846599578857, 1.0512564182281494, 0.017169110476970673, 1.757582664489746, 1.0545082092285156, 0.016745802015066147]);\n",
              "//# sourceURL=js_06bf7f4da0"
            ],
            "text/plain": [
              "<IPython.core.display.Javascript object>"
            ]
          },
          "metadata": {
            "tags": []
          }
        },
        {
          "output_type": "display_data",
          "data": {
            "application/javascript": [
              "window[\"3c941388-d159-11e9-8d65-0242ac1c0002\"] = window[\"35a4ade4-d159-11e9-8d65-0242ac1c0002\"].getAttribute(\"position\");\n",
              "//# sourceURL=js_96e1c9e926"
            ],
            "text/plain": [
              "<IPython.core.display.Javascript object>"
            ]
          },
          "metadata": {
            "tags": []
          }
        },
        {
          "output_type": "display_data",
          "data": {
            "application/javascript": [
              "window[\"3c941388-d159-11e9-8d65-0242ac1c0002\"].needsUpdate = true;\n",
              "//# sourceURL=js_e497a03af8"
            ],
            "text/plain": [
              "<IPython.core.display.Javascript object>"
            ]
          },
          "metadata": {
            "tags": []
          }
        },
        {
          "output_type": "display_data",
          "data": {
            "application/javascript": [
              "window[\"3ca8f7d0-d159-11e9-8d65-0242ac1c0002\"] = window[\"35a4ade4-d159-11e9-8d65-0242ac1c0002\"].getAttribute(\"position\");\n",
              "//# sourceURL=js_3bc1be17aa"
            ],
            "text/plain": [
              "<IPython.core.display.Javascript object>"
            ]
          },
          "metadata": {
            "tags": []
          }
        },
        {
          "output_type": "display_data",
          "data": {
            "application/javascript": [
              "window[\"3ca95824-d159-11e9-8d65-0242ac1c0002\"] = window[\"3ca8f7d0-d159-11e9-8d65-0242ac1c0002\"].copyArray([-1.812950611114502, 0.001006104052066803, -0.00914008542895317, -1.6140176057815552, 0.003984261304140091, -0.00913743395358324, -1.4150844812393188, 0.0069624148309230804, -0.009134783409535885, -1.2161515951156616, 0.009940572082996368, -0.009132131934165955, -1.0172185897827148, 0.012918727472424507, -0.009129480458796024, -0.8182856440544128, 0.015896884724497795, -0.009126828983426094, -0.6193526387214661, 0.018875040113925934, -0.009124177508056164, -0.42041969299316406, 0.021853197365999222, -0.009121526964008808, -0.22148668766021729, 0.02483135275542736, -0.009118875488638878, -0.02255370281636715, 0.0278095081448555, -0.009116224013268948, 0.17637929320335388, 0.030787663534283638, -0.009113572537899017, 0.37531226873397827, 0.03376581892371178, -0.009110921062529087, 0.574245274066925, 0.036743976175785065, -0.009108270518481731, 0.7731782793998718, 0.039722129702568054, -0.009105619043111801, 0.9721112251281738, 0.04270029067993164, -0.009102967567741871, 1.1710442304611206, 0.04567844420671463, -0.00910031609237194, 1.3699771165847778, 0.04865660145878792, -0.00909766461700201, 1.5689102411270142, 0.05163475498557091, -0.009095014072954655, 1.767843246459961, 0.054612912237644196, -0.009092362597584724, -1.8278361558914185, 0.9953017830848694, 0.017962206155061722, -1.6289032697677612, 0.9982799291610718, 0.017964858561754227, -1.4299700260162354, 1.001258134841919, 0.01796751096844673, -1.2310372591018677, 1.0042363405227661, 0.017970159649848938, -1.0321041345596313, 1.0072144269943237, 0.017972812056541443, -0.8331711888313293, 1.010192632675171, 0.017975464463233948, -0.6342382431030273, 1.0131707191467285, 0.017978116869926453, -0.4353053569793701, 1.0161489248275757, 0.01798076555132866, -0.23637229204177856, 1.0191270112991333, 0.017983417958021164, -0.037439316511154175, 1.0221052169799805, 0.01798607036471367, 0.1614936888217926, 1.025083303451538, 0.017988719046115875, 0.3604266345500946, 1.0280615091323853, 0.01799137145280838, 0.5593596696853638, 1.0310397148132324, 0.017994020134210587, 0.7582927346229553, 1.0340179204940796, 0.01799667626619339, 0.9572256207466125, 1.0369958877563477, 0.017999324947595596, 1.1561585664749146, 1.0399739742279053, 0.018001973628997803, 1.3550915718078613, 1.0429521799087524, 0.018004629760980606, 1.5540246963500977, 1.0459305047988892, 0.018007278442382812, 1.7529575824737549, 1.0489085912704468, 0.018009930849075317]);\n",
              "//# sourceURL=js_b5e101f479"
            ],
            "text/plain": [
              "<IPython.core.display.Javascript object>"
            ]
          },
          "metadata": {
            "tags": []
          }
        },
        {
          "output_type": "display_data",
          "data": {
            "application/javascript": [
              "window[\"3ca9b8dc-d159-11e9-8d65-0242ac1c0002\"] = window[\"35a4ade4-d159-11e9-8d65-0242ac1c0002\"].getAttribute(\"position\");\n",
              "//# sourceURL=js_0cd5515071"
            ],
            "text/plain": [
              "<IPython.core.display.Javascript object>"
            ]
          },
          "metadata": {
            "tags": []
          }
        },
        {
          "output_type": "display_data",
          "data": {
            "application/javascript": [
              "window[\"3ca9b8dc-d159-11e9-8d65-0242ac1c0002\"].needsUpdate = true;\n",
              "//# sourceURL=js_6e1e580785"
            ],
            "text/plain": [
              "<IPython.core.display.Javascript object>"
            ]
          },
          "metadata": {
            "tags": []
          }
        },
        {
          "output_type": "display_data",
          "data": {
            "application/javascript": [
              "window[\"3cbf1556-d159-11e9-8d65-0242ac1c0002\"] = window[\"35a4ade4-d159-11e9-8d65-0242ac1c0002\"].getAttribute(\"position\");\n",
              "//# sourceURL=js_0477133b9c"
            ],
            "text/plain": [
              "<IPython.core.display.Javascript object>"
            ]
          },
          "metadata": {
            "tags": []
          }
        },
        {
          "output_type": "display_data",
          "data": {
            "application/javascript": [
              "window[\"3cbf91fc-d159-11e9-8d65-0242ac1c0002\"] = window[\"3cbf1556-d159-11e9-8d65-0242ac1c0002\"].copyArray([-1.8019256591796875, 0.005379663780331612, -0.013520345091819763, -1.603903889656067, 0.008020887151360512, -0.013134056702256203, -1.4058822393417358, 0.010662112385034561, -0.012747767381370068, -1.2078605890274048, 0.013303335756063461, -0.012361478060483932, -1.0098388195037842, 0.01594455912709236, -0.011975189670920372, -0.811816930770874, 0.01858578436076641, -0.011588900350034237, -0.613795280456543, 0.02122700959444046, -0.011202611029148102, -0.4157734513282776, 0.02386823296546936, -0.010816321708261967, -0.21775172650814056, 0.02650945633649826, -0.010430033318698406, -0.019729983061552048, 0.02915068157017231, -0.010043743997812271, 0.17829175293445587, 0.03179190680384636, -0.009657454676926136, 0.3763135075569153, 0.03443313017487526, -0.009271166287362576, 0.5743353366851807, 0.03707435354590416, -0.00888487696647644, 0.7723569869995117, 0.03971558064222336, -0.008498587645590305, 0.9703788161277771, 0.04235680401325226, -0.00811229832470417, 1.1684006452560425, 0.04499802738428116, -0.007726009469479322, 1.3664222955703735, 0.04763925075531006, -0.007339720614254475, 1.5644439458847046, 0.05028047412633896, -0.0069534312933683395, 1.7624657154083252, 0.05292169749736786, -0.006567142903804779, -1.8151764869689941, 0.9951713681221008, 0.011585544794797897, -1.617154836654663, 0.9978125095367432, 0.011971831321716309, -1.4191330671310425, 1.0004538297653198, 0.012358121573925018, -1.2211114168167114, 1.0030949115753174, 0.01274440810084343, -1.0230895280838013, 1.005736231803894, 0.01313069835305214, -0.8250678777694702, 1.0083774328231812, 0.0135169867426157, -0.6270461082458496, 1.0110187530517578, 0.01390327699482441, -0.4290243685245514, 1.013659954071045, 0.01428956538438797, -0.2310025990009308, 1.016301155090332, 0.01467585563659668, -0.03298085182905197, 1.0189423561096191, 0.01506214402616024, 0.16504091024398804, 1.0215836763381958, 0.0154484324157238, 0.36306267976760864, 1.0242247581481934, 0.01583472266793251, 0.5610844492912292, 1.02686607837677, 0.01622101105749607, 0.7591062188148499, 1.0295072793960571, 0.01660730130970478, 0.9571278691291809, 1.0321485996246338, 0.01699358969926834, 1.1551496982574463, 1.034789800643921, 0.01737987995147705, 1.3531713485717773, 1.037431001663208, 0.01776616834104061, 1.5511932373046875, 1.0400720834732056, 0.018152454867959023, 1.749214768409729, 1.0427135229110718, 0.018538743257522583]);\n",
              "//# sourceURL=js_58200c3b21"
            ],
            "text/plain": [
              "<IPython.core.display.Javascript object>"
            ]
          },
          "metadata": {
            "tags": []
          }
        },
        {
          "output_type": "display_data",
          "data": {
            "application/javascript": [
              "window[\"3cbfe5f8-d159-11e9-8d65-0242ac1c0002\"] = window[\"35a4ade4-d159-11e9-8d65-0242ac1c0002\"].getAttribute(\"position\");\n",
              "//# sourceURL=js_1589274802"
            ],
            "text/plain": [
              "<IPython.core.display.Javascript object>"
            ]
          },
          "metadata": {
            "tags": []
          }
        },
        {
          "output_type": "display_data",
          "data": {
            "application/javascript": [
              "window[\"3cbfe5f8-d159-11e9-8d65-0242ac1c0002\"].needsUpdate = true;\n",
              "//# sourceURL=js_a59c33dbca"
            ],
            "text/plain": [
              "<IPython.core.display.Javascript object>"
            ]
          },
          "metadata": {
            "tags": []
          }
        },
        {
          "output_type": "display_data",
          "data": {
            "application/javascript": [
              "window[\"3cd54ede-d159-11e9-8d65-0242ac1c0002\"] = window[\"35a4ade4-d159-11e9-8d65-0242ac1c0002\"].getAttribute(\"position\");\n",
              "//# sourceURL=js_bb49784b38"
            ],
            "text/plain": [
              "<IPython.core.display.Javascript object>"
            ]
          },
          "metadata": {
            "tags": []
          }
        },
        {
          "output_type": "display_data",
          "data": {
            "application/javascript": [
              "window[\"3cd5a730-d159-11e9-8d65-0242ac1c0002\"] = window[\"3cd54ede-d159-11e9-8d65-0242ac1c0002\"].copyArray([-1.7917988300323486, 0.009897831827402115, -0.017111845314502716, -1.594585657119751, 0.012156061828136444, -0.016429312527179718, -1.3973729610443115, 0.014414295554161072, -0.01574677787721157, -1.2001597881317139, 0.0166725292801857, -0.015064245089888573, -1.0029467344284058, 0.018930764868855476, -0.014381711371243, -0.8057336807250977, 0.021188996732234955, -0.013699177652597427, -0.6085207462310791, 0.023447230458259583, -0.01301664486527443, -0.4113076627254486, 0.02570546418428421, -0.012334111146628857, -0.21409465372562408, 0.027963697910308838, -0.011651578359305859, -0.01688164472579956, 0.030221931636333466, -0.010969044640660286, 0.18033136427402496, 0.03248016536235809, -0.010286510922014713, 0.3775443732738495, 0.03473839908838272, -0.009603978134691715, 0.57475745677948, 0.03699663281440735, -0.008921444416046143, 0.7719703912734985, 0.039254866540431976, -0.008238911628723145, 0.9691834449768066, 0.041513100266456604, -0.007556377910077572, 1.1663966178894043, 0.04377133399248123, -0.006873844191431999, 1.3636095523834229, 0.04602956771850586, -0.006191311404109001, 1.5608224868774414, 0.04828780144453049, -0.0055087776854634285, 1.758035659790039, 0.050546031445264816, -0.004826244432479143, -1.803166389465332, 0.9957011938095093, 0.005820633843541145, -1.6059534549713135, 0.9979594945907593, 0.006503166630864143, -1.408740520477295, 1.0002176761627197, 0.007185699418187141, -1.2115273475646973, 1.0024759769439697, 0.00786823220551014, -1.0143141746520996, 1.0047341585159302, 0.008550768718123436, -0.8171012997627258, 1.0069923400878906, 0.009233301505446434, -0.6198882460594177, 1.009250521659851, 0.009915834292769432, -0.422675222158432, 1.011508822441101, 0.01059836708009243, -0.22546221315860748, 1.013767123222351, 0.011280901730060577, -0.028249183669686317, 1.0160253047943115, 0.011963432654738426, 0.16896381974220276, 1.018283486366272, 0.012645969167351723, 0.3661768436431885, 1.020541787147522, 0.01332850195467472, 0.5633898973464966, 1.0227999687194824, 0.014011034741997719, 0.7606028914451599, 1.0250582695007324, 0.014693565666675568, 0.957815945148468, 1.0273164510726929, 0.015376102179288864, 1.1550288200378418, 1.0295747518539429, 0.016058634966611862, 1.3522419929504395, 1.0318330526351929, 0.01674116775393486, 1.549454927444458, 1.0340912342071533, 0.017423704266548157, 1.7466681003570557, 1.0363495349884033, 0.018106235191226006]);\n",
              "//# sourceURL=js_1052f2cdde"
            ],
            "text/plain": [
              "<IPython.core.display.Javascript object>"
            ]
          },
          "metadata": {
            "tags": []
          }
        },
        {
          "output_type": "display_data",
          "data": {
            "application/javascript": [
              "window[\"3cd6b88c-d159-11e9-8d65-0242ac1c0002\"] = window[\"35a4ade4-d159-11e9-8d65-0242ac1c0002\"].getAttribute(\"position\");\n",
              "//# sourceURL=js_47e21be9ec"
            ],
            "text/plain": [
              "<IPython.core.display.Javascript object>"
            ]
          },
          "metadata": {
            "tags": []
          }
        },
        {
          "output_type": "display_data",
          "data": {
            "application/javascript": [
              "window[\"3cd6b88c-d159-11e9-8d65-0242ac1c0002\"].needsUpdate = true;\n",
              "//# sourceURL=js_ec86490ce5"
            ],
            "text/plain": [
              "<IPython.core.display.Javascript object>"
            ]
          },
          "metadata": {
            "tags": []
          }
        },
        {
          "output_type": "display_data",
          "data": {
            "application/javascript": [
              "window[\"3cec85c2-d159-11e9-8d65-0242ac1c0002\"] = window[\"35a4ade4-d159-11e9-8d65-0242ac1c0002\"].getAttribute(\"position\");\n",
              "//# sourceURL=js_dcd0c926de"
            ],
            "text/plain": [
              "<IPython.core.display.Javascript object>"
            ]
          },
          "metadata": {
            "tags": []
          }
        },
        {
          "output_type": "display_data",
          "data": {
            "application/javascript": [
              "window[\"3ced588a-d159-11e9-8d65-0242ac1c0002\"] = window[\"3cec85c2-d159-11e9-8d65-0242ac1c0002\"].copyArray([-1.7829610109329224, 0.014445219188928604, -0.01957937330007553, -1.5864155292510986, 0.016290541738271713, -0.018717702478170395, -1.3898698091506958, 0.018135864287614822, -0.01785602979362011, -1.1933245658874512, 0.01998118869960308, -0.016994357109069824, -0.9967788457870483, 0.02182651124894619, -0.01613268442451954, -0.8002333641052246, 0.023671835660934448, -0.015271012671291828, -0.6036878824234009, 0.025517158210277557, -0.014409339986741543, -0.4071422815322876, 0.027362480759620667, -0.013547667302191257, -0.21059675514698029, 0.029207805171608925, -0.012685995548963547, -0.01405121199786663, 0.031053127720952034, -0.011824322864413261, 0.18249432742595673, 0.03289845213294029, -0.010962650179862976, 0.3790398836135864, 0.0347437746822834, -0.010100978426635265, 0.5755854845046997, 0.03658909723162651, -0.00923930574208498, 0.7721309661865234, 0.03843441978096962, -0.008377633057534695, 0.9686764478683472, 0.04027974605560303, -0.007515961304306984, 1.16522216796875, 0.042125068604946136, -0.006654288619756699, 1.3617674112319946, 0.043970391154289246, -0.005792616400867701, 1.5583131313323975, 0.045815713703632355, -0.004930943716317415, 1.7548586130142212, 0.047661036252975464, -0.0040692719630897045, -1.7922762632369995, 0.9969637989997864, 0.0011023469269275665, -1.5957307815551758, 0.9988091588020325, 0.0019640186801552773, -1.3991851806640625, 1.0006545782089233, 0.0028256913647055626, -1.2026398181915283, 1.0024998188018799, 0.0036873631179332733, -1.006094217300415, 1.0043452978134155, 0.004549035802483559, -0.8095486760139465, 1.006190538406372, 0.005410706624388695, -0.613003134727478, 1.0080358982086182, 0.00627237930893898, -0.4164576530456543, 1.0098812580108643, 0.0071340519934892654, -0.2199120968580246, 1.0117264986038208, 0.00799572467803955, -0.02336653508245945, 1.013571858406067, 0.008857397362589836, 0.1731790006160736, 1.0154170989990234, 0.009719070047140121, 0.3697245121002197, 1.0172624588012695, 0.010580742731690407, 0.566270112991333, 1.0191078186035156, 0.011442415416240692, 0.7628155946731567, 1.0209530591964722, 0.012304088100790977, 0.95936119556427, 1.0227985382080078, 0.013165758922696114, 1.1559069156646729, 1.0246437788009644, 0.014027431607246399, 1.3524521589279175, 1.0264891386032104, 0.014889104291796684, 1.5489977598190308, 1.028334379196167, 0.01575077697634697, 1.745543360710144, 1.030179738998413, 0.016612449660897255]);\n",
              "//# sourceURL=js_2a3d5aea3e"
            ],
            "text/plain": [
              "<IPython.core.display.Javascript object>"
            ]
          },
          "metadata": {
            "tags": []
          }
        },
        {
          "output_type": "display_data",
          "data": {
            "application/javascript": [
              "window[\"3ced9386-d159-11e9-8d65-0242ac1c0002\"] = window[\"35a4ade4-d159-11e9-8d65-0242ac1c0002\"].getAttribute(\"position\");\n",
              "//# sourceURL=js_058b52c457"
            ],
            "text/plain": [
              "<IPython.core.display.Javascript object>"
            ]
          },
          "metadata": {
            "tags": []
          }
        },
        {
          "output_type": "display_data",
          "data": {
            "application/javascript": [
              "window[\"3ced9386-d159-11e9-8d65-0242ac1c0002\"].needsUpdate = true;\n",
              "//# sourceURL=js_4ddb76be5a"
            ],
            "text/plain": [
              "<IPython.core.display.Javascript object>"
            ]
          },
          "metadata": {
            "tags": []
          }
        },
        {
          "output_type": "display_data",
          "data": {
            "application/javascript": [
              "window[\"3d01e69c-d159-11e9-8d65-0242ac1c0002\"] = window[\"35a4ade4-d159-11e9-8d65-0242ac1c0002\"].getAttribute(\"position\");\n",
              "//# sourceURL=js_6c46f4dc25"
            ],
            "text/plain": [
              "<IPython.core.display.Javascript object>"
            ]
          },
          "metadata": {
            "tags": []
          }
        },
        {
          "output_type": "display_data",
          "data": {
            "application/javascript": [
              "window[\"3d023aa2-d159-11e9-8d65-0242ac1c0002\"] = window[\"3d01e69c-d159-11e9-8d65-0242ac1c0002\"].copyArray([-1.7756959199905396, 0.01891617849469185, -0.02075328305363655, -1.579649567604065, 0.02033335529267788, -0.019841620698571205, -1.3836032152175903, 0.02175053209066391, -0.01892995834350586, -1.1875569820404053, 0.02316770702600479, -0.018018294125795364, -0.9915105104446411, 0.024584883823990822, -0.01710663177073002, -0.795464038848877, 0.026002060621976852, -0.016194969415664673, -0.5994177460670471, 0.027419237419962883, -0.015283307060599327, -0.40337127447128296, 0.028836414217948914, -0.014371643774211407, -0.20732489228248596, 0.030253591015934944, -0.013459980487823486, -0.011278515681624413, 0.031670767813920975, -0.01254831813275814, 0.18476787209510803, 0.033087942749261856, -0.011636655777692795, 0.38081425428390503, 0.034505121409893036, -0.010724992491304874, 0.5768607258796692, 0.03592229634523392, -0.009813329204916954, 0.772907018661499, 0.0373394750058651, -0.008901666849851608, 0.9689534902572632, 0.03875665366649628, -0.007990004494786263, 1.1649999618530273, 0.04017382860183716, -0.007078341208398342, 1.3610461950302124, 0.04159100353717804, -0.006166678853332996, 1.557092547416687, 0.04300817847251892, -0.005255016032606363, 1.7531388998031616, 0.0444253571331501, -0.00434335321187973, -1.7828664779663086, 0.998984694480896, -0.0023124897852540016, -1.586820125579834, 1.0004018545150757, -0.0014008283615112305, -1.3907737731933594, 1.0018190145492554, -0.0004891641438007355, -1.1947274208068848, 1.003236174583435, 0.0004224972799420357, -0.998680830001831, 1.0046533346176147, 0.001334160566329956, -0.8026344776153564, 1.0060704946517944, 0.0022458238527178764, -0.6065881252288818, 1.0074876546859741, 0.003157487139105797, -0.41054174304008484, 1.0089048147201538, 0.004069147631525993, -0.21449536085128784, 1.0103219747543335, 0.004980811849236488, -0.018448971211910248, 1.0117392539978027, 0.005892474204301834, 0.17759740352630615, 1.0131564140319824, 0.006804134696722031, 0.37364381551742554, 1.014573574066162, 0.007715800777077675, 0.5696902275085449, 1.0159907341003418, 0.008627461269497871, 0.7657365798950195, 1.0174078941345215, 0.009539125487208366, 0.9617829918861389, 1.0188251733779907, 0.010450789704918861, 1.1578294038772583, 1.0202423334121704, 0.011362452059984207, 1.3538756370544434, 1.02165949344635, 0.012274114415049553, 1.5499221086502075, 1.0230766534805298, 0.0131857730448246, 1.7459685802459717, 1.0244938135147095, 0.014097439125180244]);\n",
              "//# sourceURL=js_887e4b02e8"
            ],
            "text/plain": [
              "<IPython.core.display.Javascript object>"
            ]
          },
          "metadata": {
            "tags": []
          }
        },
        {
          "output_type": "display_data",
          "data": {
            "application/javascript": [
              "window[\"3d02841c-d159-11e9-8d65-0242ac1c0002\"] = window[\"35a4ade4-d159-11e9-8d65-0242ac1c0002\"].getAttribute(\"position\");\n",
              "//# sourceURL=js_dbe92a2f72"
            ],
            "text/plain": [
              "<IPython.core.display.Javascript object>"
            ]
          },
          "metadata": {
            "tags": []
          }
        },
        {
          "output_type": "display_data",
          "data": {
            "application/javascript": [
              "window[\"3d02841c-d159-11e9-8d65-0242ac1c0002\"].needsUpdate = true;\n",
              "//# sourceURL=js_a2ee1bfc79"
            ],
            "text/plain": [
              "<IPython.core.display.Javascript object>"
            ]
          },
          "metadata": {
            "tags": []
          }
        },
        {
          "output_type": "display_data",
          "data": {
            "application/javascript": [
              "window[\"3d16b7de-d159-11e9-8d65-0242ac1c0002\"] = window[\"35a4ade4-d159-11e9-8d65-0242ac1c0002\"].getAttribute(\"position\");\n",
              "//# sourceURL=js_35bf8af1ed"
            ],
            "text/plain": [
              "<IPython.core.display.Javascript object>"
            ]
          },
          "metadata": {
            "tags": []
          }
        },
        {
          "output_type": "display_data",
          "data": {
            "application/javascript": [
              "window[\"3d170fc2-d159-11e9-8d65-0242ac1c0002\"] = window[\"3d16b7de-d159-11e9-8d65-0242ac1c0002\"].copyArray([-1.7701717615127563, 0.023214876651763916, -0.02063162624835968, -1.5744414329528809, 0.024201858788728714, -0.019793596118688583, -1.378711223602295, 0.02518884278833866, -0.018955565989017487, -1.182981252670288, 0.02617582492530346, -0.01811753585934639, -0.9872509241104126, 0.027162808924913406, -0.017279505729675293, -0.7915207147598267, 0.028149791061878204, -0.016441475600004196, -0.5957906246185303, 0.02913677506148815, -0.0156034454703331, -0.40006041526794434, 0.03012375719845295, -0.014765414409339428, -0.2043302357196808, 0.031110741198062897, -0.013927384279668331, -0.008600075729191303, 0.032097723335027695, -0.013089354149997234, 0.18713009357452393, 0.03308470547199249, -0.012251324020326138, 0.3828602433204651, 0.03407169133424759, -0.01141329389065504, 0.5785905122756958, 0.03505867347121239, -0.01057526282966137, 0.7743206024169922, 0.036045655608177185, -0.009737232699990273, 0.9700508117675781, 0.03703263774514198, -0.00889920350164175, 1.165781021118164, 0.03801961988210678, -0.008061172440648079, 1.361510992050171, 0.03900660574436188, -0.007223142776638269, 1.5572412014007568, 0.039993587881326675, -0.006385111715644598, 1.7529715299606323, 0.04098057001829147, -0.0055470820516347885, -1.7751755714416504, 1.0017389059066772, -0.004348950460553169, -1.579445481300354, 1.0027258396148682, -0.0035109203308820724, -1.3837151527404785, 1.0037128925323486, -0.002672889269888401, -1.1879853010177612, 1.0046998262405396, -0.0018348591402173042, -0.992254912853241, 1.0056867599487305, -0.0009968290105462074, -0.7965247631072998, 1.0066739320755005, -0.00015879888087511063, -0.6007944941520691, 1.0076608657836914, 0.0006792312487959862, -0.4050644338130951, 1.0086477994918823, 0.001517261378467083, -0.20933422446250916, 1.0096347332000732, 0.0023552924394607544, -0.013604067265987396, 1.0106217861175537, 0.003193323500454426, 0.18212610483169556, 1.0116087198257446, 0.004031351767480373, 0.3778562843799591, 1.0125956535339355, 0.004869383759796619, 0.5735865235328674, 1.013582706451416, 0.005707412026822567, 0.7693167328834534, 1.014569640159607, 0.006545444019138813, 0.9650468230247498, 1.0155565738677979, 0.007383472286164761, 1.160776972770691, 1.0165436267852783, 0.008221502415835857, 1.3565071821212769, 1.0175306797027588, 0.009059532545506954, 1.5522372722625732, 1.0185176134109497, 0.0098975645378232, 1.7479673624038696, 1.0195045471191406, 0.010735592804849148]);\n",
              "//# sourceURL=js_033cb0a863"
            ],
            "text/plain": [
              "<IPython.core.display.Javascript object>"
            ]
          },
          "metadata": {
            "tags": []
          }
        },
        {
          "output_type": "display_data",
          "data": {
            "application/javascript": [
              "window[\"3d176526-d159-11e9-8d65-0242ac1c0002\"] = window[\"35a4ade4-d159-11e9-8d65-0242ac1c0002\"].getAttribute(\"position\");\n",
              "//# sourceURL=js_03606a8d10"
            ],
            "text/plain": [
              "<IPython.core.display.Javascript object>"
            ]
          },
          "metadata": {
            "tags": []
          }
        },
        {
          "output_type": "display_data",
          "data": {
            "application/javascript": [
              "window[\"3d176526-d159-11e9-8d65-0242ac1c0002\"].needsUpdate = true;\n",
              "//# sourceURL=js_a2eccbc984"
            ],
            "text/plain": [
              "<IPython.core.display.Javascript object>"
            ]
          },
          "metadata": {
            "tags": []
          }
        },
        {
          "output_type": "display_data",
          "data": {
            "application/javascript": [
              "window[\"3d2bb3aa-d159-11e9-8d65-0242ac1c0002\"] = window[\"35a4ade4-d159-11e9-8d65-0242ac1c0002\"].getAttribute(\"position\");\n",
              "//# sourceURL=js_7497f6709e"
            ],
            "text/plain": [
              "<IPython.core.display.Javascript object>"
            ]
          },
          "metadata": {
            "tags": []
          }
        },
        {
          "output_type": "display_data",
          "data": {
            "application/javascript": [
              "window[\"3d2c0918-d159-11e9-8d65-0242ac1c0002\"] = window[\"3d2bb3aa-d159-11e9-8d65-0242ac1c0002\"].copyArray([-1.7664415836334229, 0.027254782617092133, -0.019362330436706543, -1.5708425045013428, 0.027821268886327744, -0.018700696527957916, -1.3752431869506836, 0.028387757018208504, -0.01803906075656414, -1.179643988609314, 0.028954245150089264, -0.017377426847815514, -0.9840446710586548, 0.029520733281970024, -0.016715791076421738, -0.7884455323219299, 0.030087221413850784, -0.01605415530502796, -0.5928462743759155, 0.030653709545731544, -0.01539252046495676, -0.3972470760345459, 0.031220197677612305, -0.014730885624885559, -0.2016478180885315, 0.031786687672138214, -0.014069249853491783, -0.006048581562936306, 0.032353173941373825, -0.013407615013420582, 0.18955066800117493, 0.032919660210609436, -0.01274598017334938, 0.38514989614486694, 0.033486150205135345, -0.012084344401955605, 0.5807491540908813, 0.034052636474370956, -0.011422709561884403, 0.7763484120368958, 0.034619126468896866, -0.010761074721813202, 0.9719475507736206, 0.03518561273813248, -0.010099438950419426, 1.1675468683242798, 0.035752102732658386, -0.00943780317902565, 1.3631460666656494, 0.036318592727184296, -0.008776169270277023, 1.5587453842163086, 0.03688507899641991, -0.008114533498883247, 1.7543444633483887, 0.03745156526565552, -0.007452899124473333, -1.7693220376968384, 1.0051523447036743, -0.005096839740872383, -1.5737228393554688, 1.0057188272476196, -0.004435203969478607, -1.3781235218048096, 1.006285309791565, -0.0037735700607299805, -1.182524561882019, 1.0068517923355103, -0.003111935220658779, -0.9869251251220703, 1.0074183940887451, -0.002450299449265003, -0.7913258671760559, 1.0079847574234009, -0.0017886636778712273, -0.5957266092300415, 1.0085512399673462, -0.0011270307004451752, -0.40012744069099426, 1.0091177225112915, -0.0004653939977288246, -0.20452822744846344, 1.0096843242645264, 0.0001962408423423767, -0.008928990922868252, 1.0102506875991821, 0.0008578766137361526, 0.1866702437400818, 1.0108171701431274, 0.001519511453807354, 0.3822694718837738, 1.0113837718963623, 0.0021811462938785553, 0.5778688192367554, 1.0119502544403076, 0.002842782996594906, 0.773468017578125, 1.0125166177749634, 0.003504418767988682, 0.9690671563148499, 1.0130831003189087, 0.0041660526767373085, 1.1646664142608643, 1.0136497020721436, 0.004827686585485935, 1.3602657318115234, 1.0142161846160889, 0.005489322356879711, 1.5558648109436035, 1.0147825479507446, 0.006150956265628338, 1.7514640092849731, 1.0153491497039795, 0.006812592037022114]);\n",
              "//# sourceURL=js_3a44f304e8"
            ],
            "text/plain": [
              "<IPython.core.display.Javascript object>"
            ]
          },
          "metadata": {
            "tags": []
          }
        },
        {
          "output_type": "display_data",
          "data": {
            "application/javascript": [
              "window[\"3d2cc2cc-d159-11e9-8d65-0242ac1c0002\"] = window[\"35a4ade4-d159-11e9-8d65-0242ac1c0002\"].getAttribute(\"position\");\n",
              "//# sourceURL=js_2e4777e46b"
            ],
            "text/plain": [
              "<IPython.core.display.Javascript object>"
            ]
          },
          "metadata": {
            "tags": []
          }
        },
        {
          "output_type": "display_data",
          "data": {
            "application/javascript": [
              "window[\"3d2cc2cc-d159-11e9-8d65-0242ac1c0002\"].needsUpdate = true;\n",
              "//# sourceURL=js_d5b227e756"
            ],
            "text/plain": [
              "<IPython.core.display.Javascript object>"
            ]
          },
          "metadata": {
            "tags": []
          }
        },
        {
          "output_type": "display_data",
          "data": {
            "application/javascript": [
              "window[\"3d41f58e-d159-11e9-8d65-0242ac1c0002\"] = window[\"35a4ade4-d159-11e9-8d65-0242ac1c0002\"].getAttribute(\"position\");\n",
              "//# sourceURL=js_c48beaeed0"
            ],
            "text/plain": [
              "<IPython.core.display.Javascript object>"
            ]
          },
          "metadata": {
            "tags": []
          }
        },
        {
          "output_type": "display_data",
          "data": {
            "application/javascript": [
              "window[\"3d42542a-d159-11e9-8d65-0242ac1c0002\"] = window[\"3d41f58e-d159-11e9-8d65-0242ac1c0002\"].copyArray([-1.7644528150558472, 0.030958164483308792, -0.01720951870083809, -1.5688084363937378, 0.031124232336878777, -0.016794750466942787, -1.3731639385223389, 0.03129030019044876, -0.016379980370402336, -1.17751944065094, 0.031456366181373596, -0.015965212136507034, -0.9818750023841858, 0.03162243589758873, -0.015550442971289158, -0.7862305045127869, 0.031788505613803864, -0.015135673806071281, -0.5905860066413879, 0.0319545716047287, -0.014720904640853405, -0.3949414789676666, 0.03212064132094383, -0.014306135475635529, -0.1992969959974289, 0.03228670731186867, -0.013891366310417652, -0.0036524925380945206, 0.0324527770280838, -0.013476597145199776, 0.19199199974536896, 0.032618846744298935, -0.0130618279799819, 0.3876365125179291, 0.03278491273522377, -0.012647058814764023, 0.5832809805870056, 0.032950982451438904, -0.012232289649546146, 0.7789254784584045, 0.03311704844236374, -0.01181752048432827, 0.9745699763298035, 0.03328311815857887, -0.011402751319110394, 1.1702145338058472, 0.033449187874794006, -0.010987982153892517, 1.365859031677246, 0.03361525386571884, -0.01057321298867464, 1.561503529548645, 0.033781323581933975, -0.010158443823456764, 1.7571479082107544, 0.03394738957285881, -0.009743675589561462, -1.7653095722198486, 1.0091038942337036, -0.004776984453201294, -1.5696649551391602, 1.0092699527740479, -0.004362216219305992, -1.3740204572677612, 1.009436011314392, -0.003947447054088116, -1.1783760786056519, 1.0096019506454468, -0.0035326769575476646, -0.9827316403388977, 1.0097681283950806, -0.003117908723652363, -0.7870872020721436, 1.0099341869354248, -0.0027031386271119118, -0.5914426445960999, 1.010100245475769, -0.00228837039321661, -0.39579811692237854, 1.0102663040161133, -0.0018736012279987335, -0.20015361905097961, 1.0104323625564575, -0.0014588311314582825, -0.004509125370532274, 1.0105984210968018, -0.0010440628975629807, 0.19113536179065704, 1.010764479637146, -0.0006292937323451042, 0.38677990436553955, 1.0109305381774902, -0.00021452456712722778, 0.5824243426322937, 1.0110965967178345, 0.00020024552941322327, 0.7780689001083374, 1.0112626552581787, 0.0006150137633085251, 0.9737133383750916, 1.0114288330078125, 0.0010297829285264015, 1.1693578958511353, 1.0115948915481567, 0.001444552093744278, 1.3650023937225342, 1.011760950088501, 0.0018593203276395798, 1.560646891593933, 1.0119270086288452, 0.002274090424180031, 1.756291151046753, 1.0120930671691895, 0.0026888586580753326]);\n",
              "//# sourceURL=js_e0abc4d406"
            ],
            "text/plain": [
              "<IPython.core.display.Javascript object>"
            ]
          },
          "metadata": {
            "tags": []
          }
        },
        {
          "output_type": "display_data",
          "data": {
            "application/javascript": [
              "window[\"3d42ac9a-d159-11e9-8d65-0242ac1c0002\"] = window[\"35a4ade4-d159-11e9-8d65-0242ac1c0002\"].getAttribute(\"position\");\n",
              "//# sourceURL=js_2e344baabc"
            ],
            "text/plain": [
              "<IPython.core.display.Javascript object>"
            ]
          },
          "metadata": {
            "tags": []
          }
        },
        {
          "output_type": "display_data",
          "data": {
            "application/javascript": [
              "window[\"3d42ac9a-d159-11e9-8d65-0242ac1c0002\"].needsUpdate = true;\n",
              "//# sourceURL=js_250c1d4e59"
            ],
            "text/plain": [
              "<IPython.core.display.Javascript object>"
            ]
          },
          "metadata": {
            "tags": []
          }
        },
        {
          "output_type": "display_data",
          "data": {
            "application/javascript": [
              "window[\"3d589794-d159-11e9-8d65-0242ac1c0002\"] = window[\"35a4ade4-d159-11e9-8d65-0242ac1c0002\"].getAttribute(\"position\");\n",
              "//# sourceURL=js_93ea775c46"
            ],
            "text/plain": [
              "<IPython.core.display.Javascript object>"
            ]
          },
          "metadata": {
            "tags": []
          }
        },
        {
          "output_type": "display_data",
          "data": {
            "application/javascript": [
              "window[\"3d58f658-d159-11e9-8d65-0242ac1c0002\"] = window[\"3d589794-d159-11e9-8d65-0242ac1c0002\"].copyArray([-1.7640591859817505, 0.03425602242350578, -0.014509277418255806, -1.5682120323181152, 0.034050796180963516, -0.014373108744621277, -1.372365117073059, 0.03384556993842125, -0.014236940070986748, -1.1765179634094238, 0.03364034369587898, -0.014100771397352219, -0.9806710481643677, 0.033435121178627014, -0.013964601792395115, -0.7848238945007324, 0.03322989493608475, -0.013828433118760586, -0.5889768600463867, 0.03302466869354248, -0.013692264445126057, -0.39312979578971863, 0.032819442451000214, -0.013556095771491528, -0.19728277623653412, 0.03261421620845795, -0.013419926166534424, -0.0014357392210513353, 0.03240898996591568, -0.013283757492899895, 0.1944112926721573, 0.03220376372337341, -0.013147588819265366, 0.3902583420276642, 0.031998537480831146, -0.013011419214308262, 0.5861053466796875, 0.03179331123828888, -0.012875250540673733, 0.7819523811340332, 0.03158808499574661, -0.012739081867039204, 0.9777995347976685, 0.031382858753204346, -0.012602913193404675, 1.1736464500427246, 0.031177634373307228, -0.01246674358844757, 1.3694936037063599, 0.03097240813076496, -0.012330574914813042, 1.565340518951416, 0.030767181888222694, -0.012194406241178513, 1.7611876726150513, 0.030561957508325577, -0.012058237567543983, -1.7630406618118286, 1.0134317874908447, -0.0036965692415833473, -1.567193627357483, 1.0132266283035278, -0.003560400567948818, -1.371346354484558, 1.0130213499069214, -0.003424231894314289, -1.175499439239502, 1.012816071510315, -0.0032880622893571854, -0.979652464389801, 1.012610912322998, -0.0031518926844000816, -0.7838053107261658, 1.0124056339263916, -0.003015724942088127, -0.5879583358764648, 1.0122003555297852, -0.0028795553371310234, -0.39211127161979675, 1.0119951963424683, -0.0027433866634964943, -0.19626425206661224, 1.0117900371551514, -0.00260721892118454, -0.0004171897890046239, 1.011584758758545, -0.0024710502475500107, 0.19542983174324036, 1.011379599571228, -0.0023348815739154816, 0.39127689599990845, 1.0111743211746216, -0.0021987110376358032, 0.5871239304542542, 1.0109690427780151, -0.002062542364001274, 0.7829710245132446, 1.0107638835906982, -0.001926373690366745, 0.9788180589675903, 1.0105586051940918, -0.0017902050167322159, 1.174665093421936, 1.0103533267974854, -0.0016540363430976868, 1.3705121278762817, 1.010148286819458, -0.001517866738140583, 1.566359043121338, 1.009942889213562, -0.001381698064506054, 1.7622060775756836, 1.0097377300262451, -0.0012455293908715248]);\n",
              "//# sourceURL=js_85345d6623"
            ],
            "text/plain": [
              "<IPython.core.display.Javascript object>"
            ]
          },
          "metadata": {
            "tags": []
          }
        },
        {
          "output_type": "display_data",
          "data": {
            "application/javascript": [
              "window[\"3d595076-d159-11e9-8d65-0242ac1c0002\"] = window[\"35a4ade4-d159-11e9-8d65-0242ac1c0002\"].getAttribute(\"position\");\n",
              "//# sourceURL=js_a69ee23dbf"
            ],
            "text/plain": [
              "<IPython.core.display.Javascript object>"
            ]
          },
          "metadata": {
            "tags": []
          }
        },
        {
          "output_type": "display_data",
          "data": {
            "application/javascript": [
              "window[\"3d595076-d159-11e9-8d65-0242ac1c0002\"].needsUpdate = true;\n",
              "//# sourceURL=js_5e222a6588"
            ],
            "text/plain": [
              "<IPython.core.display.Javascript object>"
            ]
          },
          "metadata": {
            "tags": []
          }
        },
        {
          "output_type": "display_data",
          "data": {
            "application/javascript": [
              "window[\"3d6ec3c0-d159-11e9-8d65-0242ac1c0002\"] = window[\"35a4ade4-d159-11e9-8d65-0242ac1c0002\"].getAttribute(\"position\");\n",
              "//# sourceURL=js_b1877168d8"
            ],
            "text/plain": [
              "<IPython.core.display.Javascript object>"
            ]
          },
          "metadata": {
            "tags": []
          }
        },
        {
          "output_type": "display_data",
          "data": {
            "application/javascript": [
              "window[\"3d6f91c4-d159-11e9-8d65-0242ac1c0002\"] = window[\"3d6ec3c0-d159-11e9-8d65-0242ac1c0002\"].copyArray([-1.7650372982025146, 0.03708861768245697, -0.011620686389505863, -1.5688574314117432, 0.03654894232749939, -0.011755096726119518, -1.3726773262023926, 0.03600927069783211, -0.011889507062733173, -1.1764973402023315, 0.03546959534287453, -0.012023918330669403, -0.9803174138069153, 0.034929919987916946, -0.012158328667283058, -0.784137487411499, 0.034390248358249664, -0.012292739003896713, -0.5879574418067932, 0.033850573003292084, -0.012427149340510368, -0.39177751541137695, 0.0333108976483345, -0.012561560608446598, -0.19559752941131592, 0.03277122601866722, -0.012695970945060253, 0.0005824561230838299, 0.03223155066370964, -0.012830381281673908, 0.19676244258880615, 0.03169187530875206, -0.012964791618287563, 0.3929424285888672, 0.03115220181643963, -0.013099201954901218, 0.5891223549842834, 0.030612528324127197, -0.013233613222837448, 0.7853024005889893, 0.030072854831814766, -0.013368023559451103, 0.9814823269844055, 0.029533181339502335, -0.013502433896064758, 1.1776622533798218, 0.028993505984544754, -0.013636844232678413, 1.3738422393798828, 0.028453832492232323, -0.013771255500614643, 1.5700223445892334, 0.02791415899991989, -0.013905665837228298, 1.7662022113800049, 0.02737448364496231, -0.014040076173841953, -1.7623324394226074, 1.0179435014724731, -0.0021995026618242264, -1.566152572631836, 1.0174037218093872, -0.002333912067115307, -1.3699724674224854, 1.0168641805648804, -0.002468322403728962, -1.1737926006317139, 1.0163244009017944, -0.002602732740342617, -0.9776127338409424, 1.015784740447998, -0.0027371421456336975, -0.7814327478408813, 1.0152450799942017, -0.002871553413569927, -0.5852527022361755, 1.0147053003311157, -0.0030059656128287315, -0.3890727758407593, 1.0141657590866089, -0.003140375018119812, -0.19289280474185944, 1.013625979423523, -0.0032747862860560417, 0.0032871575094759464, 1.0130863189697266, -0.003409195691347122, 0.19946715235710144, 1.0125466585159302, -0.0035436060279607773, 0.3956471085548401, 1.0120069980621338, -0.003678017295897007, 0.5918270349502563, 1.0114673376083374, -0.003812427632510662, 0.7880070209503174, 1.010927677154541, -0.003946838900446892, 0.9841870069503784, 1.0103880167007446, -0.004081249237060547, 1.18036687374115, 1.0098483562469482, -0.004215658642351627, 1.376546859741211, 1.0093086957931519, -0.004350070841610432, 1.5727269649505615, 1.008768916130066, -0.004484480246901512, 1.7689069509506226, 1.008229374885559, -0.004618890583515167]);\n",
              "//# sourceURL=js_9e4cc2b7c7"
            ],
            "text/plain": [
              "<IPython.core.display.Javascript object>"
            ]
          },
          "metadata": {
            "tags": []
          }
        },
        {
          "output_type": "display_data",
          "data": {
            "application/javascript": [
              "window[\"3d6fcec8-d159-11e9-8d65-0242ac1c0002\"] = window[\"35a4ade4-d159-11e9-8d65-0242ac1c0002\"].getAttribute(\"position\");\n",
              "//# sourceURL=js_c3a74e13cf"
            ],
            "text/plain": [
              "<IPython.core.display.Javascript object>"
            ]
          },
          "metadata": {
            "tags": []
          }
        },
        {
          "output_type": "display_data",
          "data": {
            "application/javascript": [
              "window[\"3d6fcec8-d159-11e9-8d65-0242ac1c0002\"].needsUpdate = true;\n",
              "//# sourceURL=js_bfd0af0999"
            ],
            "text/plain": [
              "<IPython.core.display.Javascript object>"
            ]
          },
          "metadata": {
            "tags": []
          }
        },
        {
          "output_type": "display_data",
          "data": {
            "application/javascript": [
              "window[\"3d85a7a2-d159-11e9-8d65-0242ac1c0002\"] = window[\"35a4ade4-d159-11e9-8d65-0242ac1c0002\"].getAttribute(\"position\");\n",
              "//# sourceURL=js_d961d85b55"
            ],
            "text/plain": [
              "<IPython.core.display.Javascript object>"
            ]
          },
          "metadata": {
            "tags": []
          }
        },
        {
          "output_type": "display_data",
          "data": {
            "application/javascript": [
              "window[\"3d86009e-d159-11e9-8d65-0242ac1c0002\"] = window[\"3d85a7a2-d159-11e9-8d65-0242ac1c0002\"].copyArray([-1.7671085596084595, 0.03940650075674057, -0.008878056891262531, -1.570497989654541, 0.038575563579797745, -0.009239466860890388, -1.373887062072754, 0.03774462640285492, -0.009600876830518246, -1.177276611328125, 0.036913689225912094, -0.009962286800146103, -0.9806658029556274, 0.03608275204896927, -0.01032369676977396, -0.7840551733970642, 0.035251814872026443, -0.010685106739401817, -0.5874444842338562, 0.03442087769508362, -0.011046516709029675, -0.3908337652683258, 0.033589936792850494, -0.011407926678657532, -0.1942230463027954, 0.03275899961590767, -0.011769336648285389, 0.0023876538034528494, 0.031928062438964844, -0.012130746617913246, 0.198998361825943, 0.03109712526202202, -0.012492156587541103, 0.395609050989151, 0.030266186222434044, -0.01285356655716896, 0.5922197699546814, 0.02943524904549122, -0.013214976526796818, 0.7888304591178894, 0.028604311868548393, -0.013576386496424675, 0.9854410886764526, 0.027773374691605568, -0.013937796466052532, 1.1820518970489502, 0.026942435652017593, -0.01429920643568039, 1.378662347793579, 0.026111498475074768, -0.014660616405308247, 1.5752732753753662, 0.025280561298131943, -0.015022026374936104, 1.7718838453292847, 0.024449622258543968, -0.015383436344563961, -1.7629388570785522, 1.0224268436431885, -0.00061781145632267, -1.5663282871246338, 1.0215959548950195, -0.0009792223572731018, -1.3697173595428467, 1.020764946937561, -0.0013406313955783844, -1.1731066703796387, 1.019934058189392, -0.0017020413652062416, -0.9764960408210754, 1.0191031694412231, -0.002063451334834099, -0.779885470867157, 1.0182721614837646, -0.0024248622357845306, -0.5832747220993042, 1.0174412727355957, -0.0027862712740898132, -0.3866640627384186, 1.0166102647781372, -0.003147682175040245, -0.1900533139705658, 1.0157793760299683, -0.0035090912133455276, 0.006557386368513107, 1.0149484872817993, -0.0038705021142959595, 0.2031680792570114, 1.0141174793243408, -0.004231911152601242, 0.3997787535190582, 1.0132865905761719, -0.004593322053551674, 0.5963894724845886, 1.012455701828003, -0.004954731557518244, 0.7930001616477966, 1.0116246938705444, -0.005316141992807388, 0.9896107912063599, 1.010793685913086, -0.005677551496773958, 1.1862214803695679, 1.009962797164917, -0.006038961932063103, 1.3828322887420654, 1.009131908416748, -0.006400371436029673, 1.579443097114563, 1.008301019668579, -0.00676178140565753, 1.7760536670684814, 1.007469892501831, -0.007123191375285387]);\n",
              "//# sourceURL=js_3dd26778c1"
            ],
            "text/plain": [
              "<IPython.core.display.Javascript object>"
            ]
          },
          "metadata": {
            "tags": []
          }
        },
        {
          "output_type": "display_data",
          "data": {
            "application/javascript": [
              "window[\"3d86cf06-d159-11e9-8d65-0242ac1c0002\"] = window[\"35a4ade4-d159-11e9-8d65-0242ac1c0002\"].getAttribute(\"position\");\n",
              "//# sourceURL=js_a09279f3a4"
            ],
            "text/plain": [
              "<IPython.core.display.Javascript object>"
            ]
          },
          "metadata": {
            "tags": []
          }
        },
        {
          "output_type": "display_data",
          "data": {
            "application/javascript": [
              "window[\"3d86cf06-d159-11e9-8d65-0242ac1c0002\"].needsUpdate = true;\n",
              "//# sourceURL=js_747b3e305c"
            ],
            "text/plain": [
              "<IPython.core.display.Javascript object>"
            ]
          },
          "metadata": {
            "tags": []
          }
        },
        {
          "output_type": "display_data",
          "data": {
            "application/javascript": [
              "window[\"3d9b9454-d159-11e9-8d65-0242ac1c0002\"] = window[\"35a4ade4-d159-11e9-8d65-0242ac1c0002\"].getAttribute(\"position\");\n",
              "//# sourceURL=js_ce8652f01c"
            ],
            "text/plain": [
              "<IPython.core.display.Javascript object>"
            ]
          },
          "metadata": {
            "tags": []
          }
        },
        {
          "output_type": "display_data",
          "data": {
            "application/javascript": [
              "window[\"3d9bf534-d159-11e9-8d65-0242ac1c0002\"] = window[\"3d9b9454-d159-11e9-8d65-0242ac1c0002\"].copyArray([-1.7699596881866455, 0.0411718413233757, -0.006550013553351164, -1.5728564262390137, 0.040097709745168686, -0.007067863829433918, -1.3757529258728027, 0.03902357444167137, -0.0075857145711779594, -1.178649663925171, 0.037949442863464355, -0.008103564381599426, -0.9815464615821838, 0.03687530755996704, -0.008621415123343468, -0.7844431400299072, 0.03580117225646973, -0.009139264933764935, -0.5873397588729858, 0.03472704067826271, -0.009657114744186401, -0.3902364671230316, 0.033652905374765396, -0.010174965485930443, -0.193133145570755, 0.03257877379655838, -0.010692816227674484, 0.0039701685309410095, 0.031504638493061066, -0.011210666038095951, 0.20107349753379822, 0.0304305050522089, -0.011728515848517418, 0.39817681908607483, 0.029356371611356735, -0.01224636659026146, 0.5952800512313843, 0.02828223630785942, -0.0127642173320055, 0.7923834323883057, 0.027208102867007256, -0.013282067142426968, 0.9894867539405823, 0.02613396942615509, -0.013799916952848434, 1.1865899562835693, 0.025059835985302925, -0.014317767694592476, 1.3836932182312012, 0.02398570254445076, -0.014835617505013943, 1.580796718597412, 0.022911567240953445, -0.015353468246757984, 1.777899980545044, 0.02183743566274643, -0.01587131805717945, -1.764569878578186, 1.0266644954681396, 0.0007703229784965515, -1.5674664974212646, 1.025590419769287, 0.0002524731680750847, -1.3703629970550537, 1.024516224861145, -0.00026537757366895676, -1.173259973526001, 1.0234421491622925, -0.000783226452767849, -0.9761565923690796, 1.0223679542541504, -0.0013010771945118904, -0.7790533900260925, 1.0212937593460083, -0.0018189279362559319, -0.5819500684738159, 1.0202196836471558, -0.002336776815354824, -0.38484668731689453, 1.0191456079483032, -0.0028546275570988655, -0.18774336576461792, 1.0180714130401611, -0.003372478298842907, 0.009359939955174923, 1.0169973373413086, -0.0038903281092643738, 0.20646324753761292, 1.0159231424331665, -0.004408178851008415, 0.4035665988922119, 1.014849066734314, -0.004926029127091169, 0.6006698608398438, 1.0137748718261719, -0.0054438794031739235, 0.7977732419967651, 1.0127007961273193, -0.005961729679256678, 0.9948764443397522, 1.0116266012191772, -0.0064795794896781445, 1.1919797658920288, 1.0105525255203247, -0.006997430697083473, 1.3890830278396606, 1.0094784498214722, -0.007515280041843653, 1.5861866474151611, 1.00840425491333, -0.008033130317926407, 1.7832897901535034, 1.007330060005188, -0.008550981059670448]);\n",
              "//# sourceURL=js_eec601c51e"
            ],
            "text/plain": [
              "<IPython.core.display.Javascript object>"
            ]
          },
          "metadata": {
            "tags": []
          }
        },
        {
          "output_type": "display_data",
          "data": {
            "application/javascript": [
              "window[\"3d9c5f56-d159-11e9-8d65-0242ac1c0002\"] = window[\"35a4ade4-d159-11e9-8d65-0242ac1c0002\"].getAttribute(\"position\");\n",
              "//# sourceURL=js_81035149c3"
            ],
            "text/plain": [
              "<IPython.core.display.Javascript object>"
            ]
          },
          "metadata": {
            "tags": []
          }
        },
        {
          "output_type": "display_data",
          "data": {
            "application/javascript": [
              "window[\"3d9c5f56-d159-11e9-8d65-0242ac1c0002\"].needsUpdate = true;\n",
              "//# sourceURL=js_2b29aa22de"
            ],
            "text/plain": [
              "<IPython.core.display.Javascript object>"
            ]
          },
          "metadata": {
            "tags": []
          }
        },
        {
          "output_type": "display_data",
          "data": {
            "application/javascript": [
              "window[\"3db22b88-d159-11e9-8d65-0242ac1c0002\"] = window[\"35a4ade4-d159-11e9-8d65-0242ac1c0002\"].getAttribute(\"position\");\n",
              "//# sourceURL=js_014ab35cdb"
            ],
            "text/plain": [
              "<IPython.core.display.Javascript object>"
            ]
          },
          "metadata": {
            "tags": []
          }
        },
        {
          "output_type": "display_data",
          "data": {
            "application/javascript": [
              "window[\"3db28dd0-d159-11e9-8d65-0242ac1c0002\"] = window[\"3db22b88-d159-11e9-8d65-0242ac1c0002\"].copyArray([-1.7732645273208618, 0.04235970228910446, -0.004810202866792679, -1.5756436586380005, 0.041093796491622925, -0.005398571956902742, -1.37802255153656, 0.039827894419431686, -0.005986941512674093, -1.1804015636444092, 0.03856198862195015, -0.006575309671461582, -0.9827803373336792, 0.03729608282446861, -0.007163679227232933, -0.7851593494415283, 0.036030177026987076, -0.007752048783004284, -0.5875383019447327, 0.03476427122950554, -0.00834041740745306, -0.38991719484329224, 0.033498365432024, -0.008928786963224411, -0.1922961324453354, 0.032232459634542465, -0.009517155587673187, 0.005324946716427803, 0.030966555699706078, -0.010105525143444538, 0.2029460221529007, 0.02970064990222454, -0.010693894699215889, 0.40056711435317993, 0.028434745967388153, -0.011282263323664665, 0.5981882214546204, 0.027168840169906616, -0.011870632879436016, 0.795809268951416, 0.02590293437242508, -0.012459001503884792, 0.9934302568435669, 0.024637028574943542, -0.013047371059656143, 1.1910514831542969, 0.023371122777462006, -0.013635740615427494, 1.3886724710464478, 0.02210521697998047, -0.014224108308553696, 1.5862935781478882, 0.02083931304514408, -0.014812478795647621, 1.7839144468307495, 0.019573409110307693, -0.015400847420096397, -1.7669156789779663, 1.0304473638534546, 0.0017712702974677086, -1.5692945718765259, 1.0291814804077148, 0.0011829007416963577, -1.3716734647750854, 1.0279154777526855, 0.0005945321172475815, -1.1740524768829346, 1.0266497135162354, 6.163492798805237e-06, -0.9764313697814941, 1.025383710861206, -0.000582205131649971, -0.7788102626800537, 1.0241178274154663, -0.0011705756187438965, -0.5811892747879028, 1.0228519439697266, -0.0017589442431926727, -0.3835681676864624, 1.0215860605239868, -0.0023473133333027363, -0.18594710528850555, 1.0203200578689575, -0.002935682889074087, 0.011673955246806145, 1.0190541744232178, -0.0035240519791841507, 0.20929501950740814, 1.0177884101867676, -0.004112420603632927, 0.406916081905365, 1.0165222883224487, -0.004700790159404278, 0.6045371890068054, 1.0152565240859985, -0.005289159249514341, 0.8021582365036011, 1.0139906406402588, -0.005877528339624405, 0.9997793436050415, 1.0127246379852295, -0.006465897895395756, 1.1974002122879028, 1.0114587545394897, -0.007054266519844532, 1.3950213193893433, 1.0101929903030396, -0.007642635144293308, 1.5926423072814941, 1.0089268684387207, -0.008231004700064659, 1.7902634143829346, 1.0076611042022705, -0.00881937425583601]);\n",
              "//# sourceURL=js_ce50745012"
            ],
            "text/plain": [
              "<IPython.core.display.Javascript object>"
            ]
          },
          "metadata": {
            "tags": []
          }
        },
        {
          "output_type": "display_data",
          "data": {
            "application/javascript": [
              "window[\"3db2f98c-d159-11e9-8d65-0242ac1c0002\"] = window[\"35a4ade4-d159-11e9-8d65-0242ac1c0002\"].getAttribute(\"position\");\n",
              "//# sourceURL=js_1395ff7ff3"
            ],
            "text/plain": [
              "<IPython.core.display.Javascript object>"
            ]
          },
          "metadata": {
            "tags": []
          }
        },
        {
          "output_type": "display_data",
          "data": {
            "application/javascript": [
              "window[\"3db2f98c-d159-11e9-8d65-0242ac1c0002\"].needsUpdate = true;\n",
              "//# sourceURL=js_851d0d9666"
            ],
            "text/plain": [
              "<IPython.core.display.Javascript object>"
            ]
          },
          "metadata": {
            "tags": []
          }
        },
        {
          "output_type": "display_data",
          "data": {
            "application/javascript": [
              "window[\"3dc8a692-d159-11e9-8d65-0242ac1c0002\"] = window[\"35a4ade4-d159-11e9-8d65-0242ac1c0002\"].getAttribute(\"position\");\n",
              "//# sourceURL=js_b1a9538ac8"
            ],
            "text/plain": [
              "<IPython.core.display.Javascript object>"
            ]
          },
          "metadata": {
            "tags": []
          }
        },
        {
          "output_type": "display_data",
          "data": {
            "application/javascript": [
              "window[\"3dc8fdfe-d159-11e9-8d65-0242ac1c0002\"] = window[\"3dc8a692-d159-11e9-8d65-0242ac1c0002\"].copyArray([-1.7767071723937988, 0.0429590567946434, -0.0037229652516543865, -1.5785785913467407, 0.04155459627509117, -0.004293517209589481, -1.3804497718811035, 0.04015013203024864, -0.0048640696331858635, -1.1823209524154663, 0.03874567151069641, -0.005434622056782246, -0.9841923117637634, 0.03734120726585388, -0.006005174480378628, -0.7860636115074158, 0.03593674302101135, -0.006575726438313723, -0.5879347920417786, 0.03453228250145912, -0.007146278861910105, -0.3898061215877533, 0.03312781825661659, -0.0077168308198452, -0.19167739152908325, 0.03172335773706436, -0.008287383243441582, 0.006451357156038284, 0.030318893492221832, -0.008857935667037964, 0.20458009839057922, 0.028914431110024452, -0.009428488090634346, 0.40270885825157166, 0.027509968727827072, -0.009999040514230728, 0.6008375287055969, 0.026105504482984543, -0.01056959293782711, 0.7989663481712341, 0.024701042100787163, -0.011140145361423492, 0.9970950484275818, 0.023296579718589783, -0.0117106968536973, 1.1952236890792847, 0.021892115473747253, -0.012281249277293682, 1.3933525085449219, 0.020487654954195023, -0.012851801700890064, 1.591481328010559, 0.019083190709352493, -0.013422354124486446, 1.7896099090576172, 0.017678728327155113, -0.013992905616760254, -1.769667625427246, 1.0335885286331177, 0.002292049117386341, -1.571539044380188, 1.0321838855743408, 0.0017214976251125336, -1.3734102249145508, 1.030779480934143, 0.0011509452015161514, -1.1752815246582031, 1.0293750762939453, 0.0005803937092423439, -0.9771527647972107, 1.027970552444458, 9.840354323387146e-06, -0.7790241241455078, 1.0265661478042603, -0.0005607102066278458, -0.5808953046798706, 1.0251617431640625, -0.0011312635615468025, -0.3827665448188782, 1.0237572193145752, -0.0017018159851431847, -0.18463784456253052, 1.022352695465088, -0.0022723679430782795, 0.013490892015397549, 1.0209482908248901, -0.0028429199010133743, 0.21161963045597076, 1.0195438861846924, -0.0034134723246097565, 0.409748375415802, 1.018139362335205, -0.003984024282544851, 0.6078770756721497, 1.0167349576950073, -0.0045545767061412334, 0.8060057759284973, 1.01533043384552, -0.005125129595398903, 1.0041345357894897, 1.0139260292053223, -0.005695681553333998, 1.202263355255127, 1.012521505355835, -0.006266234442591667, 1.4003920555114746, 1.0111169815063477, -0.006836785934865475, 1.5985207557678223, 1.00971257686615, -0.007407338358461857, 1.79664945602417, 1.0083080530166626, -0.007977890782058239]);\n",
              "//# sourceURL=js_97725ddca7"
            ],
            "text/plain": [
              "<IPython.core.display.Javascript object>"
            ]
          },
          "metadata": {
            "tags": []
          }
        },
        {
          "output_type": "display_data",
          "data": {
            "application/javascript": [
              "window[\"3dc96afa-d159-11e9-8d65-0242ac1c0002\"] = window[\"35a4ade4-d159-11e9-8d65-0242ac1c0002\"].getAttribute(\"position\");\n",
              "//# sourceURL=js_f57f657c45"
            ],
            "text/plain": [
              "<IPython.core.display.Javascript object>"
            ]
          },
          "metadata": {
            "tags": []
          }
        },
        {
          "output_type": "display_data",
          "data": {
            "application/javascript": [
              "window[\"3dc96afa-d159-11e9-8d65-0242ac1c0002\"].needsUpdate = true;\n",
              "//# sourceURL=js_8259a276e8"
            ],
            "text/plain": [
              "<IPython.core.display.Javascript object>"
            ]
          },
          "metadata": {
            "tags": []
          }
        },
        {
          "output_type": "display_data",
          "data": {
            "application/javascript": [
              "window[\"3ddef0dc-d159-11e9-8d65-0242ac1c0002\"] = window[\"35a4ade4-d159-11e9-8d65-0242ac1c0002\"].getAttribute(\"position\");\n",
              "//# sourceURL=js_3a8a6d58bf"
            ],
            "text/plain": [
              "<IPython.core.display.Javascript object>"
            ]
          },
          "metadata": {
            "tags": []
          }
        },
        {
          "output_type": "display_data",
          "data": {
            "application/javascript": [
              "window[\"3ddf52fc-d159-11e9-8d65-0242ac1c0002\"] = window[\"3ddef0dc-d159-11e9-8d65-0242ac1c0002\"].copyArray([-1.780001163482666, 0.04297330975532532, -0.0032453243620693684, -1.5814062356948853, 0.04148373007774353, -0.0037197493948042393, -1.3828115463256836, 0.03999415040016174, -0.0041941748932003975, -1.1842163801193237, 0.038504570722579956, -0.004668599925935268, -0.9856215715408325, 0.03701498731970787, -0.005143024958670139, -0.7870267033576965, 0.03552540764212608, -0.00561744999140501, -0.5884317755699158, 0.034035827964544296, -0.0060918754898011684, -0.3898368775844574, 0.03254624828696251, -0.006566300522536039, -0.19124199450016022, 0.031056666746735573, -0.007040726020932198, 0.007352904416620731, 0.029567087069153786, -0.0075151510536670685, 0.20594780147075653, 0.028077507391572, -0.00798957608640194, 0.4045427143573761, 0.026587925851345062, -0.00846400111913681, 0.6031375527381897, 0.025098346173763275, -0.008938426151871681, 0.8017324805259705, 0.02360876463353634, -0.009412852115929127, 1.0003273487091064, 0.02211918495595455, -0.009887277148663998, 1.1989222764968872, 0.020629603415727615, -0.010361702181398869, 1.397517442703247, 0.019140023738145828, -0.01083612721413374, 1.5961121320724487, 0.01765044406056404, -0.011310553178191185, 1.7947070598602295, 0.016160864382982254, -0.011784978210926056, -1.7725398540496826, 1.0359349250793457, 0.0023405738174915314, -1.573945164680481, 1.0344451665878296, 0.0018661487847566605, -1.3753502368927002, 1.0329556465148926, 0.0013917237520217896, -1.176755428314209, 1.0314661264419556, 0.000917297787964344, -0.9781604409217834, 1.029976487159729, 0.0004428727552294731, -0.7795655131340027, 1.028486967086792, -3.155181184411049e-05, -0.5809706449508667, 1.0269973278045654, -0.0005059773102402687, -0.3823757469654083, 1.0255078077316284, -0.0009804023429751396, -0.18378084897994995, 1.0240181684494019, -0.0014548273757100105, 0.014814052730798721, 1.0225285291671753, -0.0019292524084448814, 0.213408961892128, 1.0210390090942383, -0.0024036779068410397, 0.41200384497642517, 1.0195494890213013, -0.0028781029395759106, 0.6105988025665283, 1.0180598497390747, -0.0033525279723107815, 0.8091936111450195, 1.0165703296661377, -0.0038269534707069397, 1.0077885389328003, 1.0150806903839111, -0.004301378503441811, 1.2063835859298706, 1.0135911703109741, -0.004775804001837969, 1.4049782752990723, 1.0121015310287476, -0.005250228568911552, 1.6035734415054321, 1.010611891746521, -0.005724654067307711, 1.8021682500839233, 1.009122371673584, -0.006199079565703869]);\n",
              "//# sourceURL=js_fdd8b054a5"
            ],
            "text/plain": [
              "<IPython.core.display.Javascript object>"
            ]
          },
          "metadata": {
            "tags": []
          }
        },
        {
          "output_type": "display_data",
          "data": {
            "application/javascript": [
              "window[\"3ddfc46c-d159-11e9-8d65-0242ac1c0002\"] = window[\"35a4ade4-d159-11e9-8d65-0242ac1c0002\"].getAttribute(\"position\");\n",
              "//# sourceURL=js_2976a59824"
            ],
            "text/plain": [
              "<IPython.core.display.Javascript object>"
            ]
          },
          "metadata": {
            "tags": []
          }
        },
        {
          "output_type": "display_data",
          "data": {
            "application/javascript": [
              "window[\"3ddfc46c-d159-11e9-8d65-0242ac1c0002\"].needsUpdate = true;\n",
              "//# sourceURL=js_060b578896"
            ],
            "text/plain": [
              "<IPython.core.display.Javascript object>"
            ]
          },
          "metadata": {
            "tags": []
          }
        },
        {
          "output_type": "display_data",
          "data": {
            "application/javascript": [
              "window[\"3df56092-d159-11e9-8d65-0242ac1c0002\"] = window[\"35a4ade4-d159-11e9-8d65-0242ac1c0002\"].getAttribute(\"position\");\n",
              "//# sourceURL=js_403ddd33e3"
            ],
            "text/plain": [
              "<IPython.core.display.Javascript object>"
            ]
          },
          "metadata": {
            "tags": []
          }
        },
        {
          "output_type": "display_data",
          "data": {
            "application/javascript": [
              "window[\"3df5bede-d159-11e9-8d65-0242ac1c0002\"] = window[\"3df56092-d159-11e9-8d65-0242ac1c0002\"].copyArray([-1.7829073667526245, 0.042420223355293274, -0.003244327148422599, -1.5839134454727173, 0.040897682309150696, -0.0035645561292767525, -1.3849197626113892, 0.039375148713588715, -0.0038847855757921934, -1.1859259605407715, 0.037852607667446136, -0.004205014556646347, -0.986932098865509, 0.036330074071884155, -0.004525243770331144, -0.7879382967948914, 0.03480753302574158, -0.004845472984015942, -0.5889445543289185, 0.0332849957048893, -0.005165702197700739, -0.389950692653656, 0.03176245838403702, -0.005485931411385536, -0.19095692038536072, 0.030239921063184738, -0.0058061606250703335, 0.008036872372031212, 0.02871738374233246, -0.006126389838755131, 0.20703065395355225, 0.02719484642148018, -0.006446619052439928, 0.4060244560241699, 0.0256723091006279, -0.006766848266124725, 0.6050182580947876, 0.02414977177977562, -0.007087077479809523, 0.8040120005607605, 0.02262723445892334, -0.00740730669349432, 1.003005862236023, 0.02110469527542591, -0.007727535907179117, 1.2019996643066406, 0.01958215795457363, -0.008047765120863914, 1.4009934663772583, 0.01805962063372135, -0.008367993868887424, 1.5999871492385864, 0.016537083312869072, -0.008688223548233509, 1.7989810705184937, 0.015014544129371643, -0.009008452296257019, -1.7752861976623535, 1.0373766422271729, 0.0020108772441744804, -1.5762925148010254, 1.0358541011810303, 0.0016906475648283958, -1.3772985935211182, 1.0343315601348877, 0.0013704188168048859, -1.17830491065979, 1.0328090190887451, 0.0010501891374588013, -0.9793111085891724, 1.031286358833313, 0.000729959923774004, -0.7803172469139099, 1.02976393699646, 0.000409731175750494, -0.5813235640525818, 1.0282412767410278, 8.950149640440941e-05, -0.38232964277267456, 1.0267187356948853, -0.00023072771728038788, -0.18333588540554047, 1.0251961946487427, -0.0005509569309651852, 0.015657920390367508, 1.0236736536026, -0.0008711861446499825, 0.21465171873569489, 1.0221511125564575, -0.0011914148926734924, 0.41364550590515137, 1.0206286907196045, -0.0015116441063582897, 0.612639307975769, 1.0191060304641724, -0.0018318737857043743, 0.8116330504417419, 1.0175834894180298, -0.0021521029993891716, 1.0106267929077148, 1.0160610675811768, -0.0024723317474126816, 1.2096208333969116, 1.0145385265350342, -0.002792561426758766, 1.4086143970489502, 1.0130159854888916, -0.003112790174782276, 1.6076083183288574, 1.011493444442749, -0.003433019621297717, 1.806602120399475, 1.0099709033966064, -0.0037532486021518707]);\n",
              "//# sourceURL=js_4fe4b9bac5"
            ],
            "text/plain": [
              "<IPython.core.display.Javascript object>"
            ]
          },
          "metadata": {
            "tags": []
          }
        },
        {
          "output_type": "display_data",
          "data": {
            "application/javascript": [
              "window[\"3df61208-d159-11e9-8d65-0242ac1c0002\"] = window[\"35a4ade4-d159-11e9-8d65-0242ac1c0002\"].getAttribute(\"position\");\n",
              "//# sourceURL=js_48a24e67b2"
            ],
            "text/plain": [
              "<IPython.core.display.Javascript object>"
            ]
          },
          "metadata": {
            "tags": []
          }
        },
        {
          "output_type": "display_data",
          "data": {
            "application/javascript": [
              "window[\"3df61208-d159-11e9-8d65-0242ac1c0002\"].needsUpdate = true;\n",
              "//# sourceURL=js_d3b29832ab"
            ],
            "text/plain": [
              "<IPython.core.display.Javascript object>"
            ]
          },
          "metadata": {
            "tags": []
          }
        },
        {
          "output_type": "display_data",
          "data": {
            "application/javascript": [
              "window[\"3e0a644c-d159-11e9-8d65-0242ac1c0002\"] = window[\"35a4ade4-d159-11e9-8d65-0242ac1c0002\"].getAttribute(\"position\");\n",
              "//# sourceURL=js_0b92c060d2"
            ],
            "text/plain": [
              "<IPython.core.display.Javascript object>"
            ]
          },
          "metadata": {
            "tags": []
          }
        },
        {
          "output_type": "display_data",
          "data": {
            "application/javascript": [
              "window[\"3e0ab708-d159-11e9-8d65-0242ac1c0002\"] = window[\"3e0a644c-d159-11e9-8d65-0242ac1c0002\"].copyArray([-1.7852470874786377, 0.04133129119873047, -0.003526494838297367, -1.5859405994415283, 0.039825279265642166, -0.0036613517440855503, -1.3866337537765503, 0.038319263607263565, -0.003796209115535021, -1.1873270273208618, 0.03681325167417526, -0.003931066021323204, -0.9880200624465942, 0.03530723601579666, -0.0040659233927726746, -0.7887133359909058, 0.03380122035741806, -0.004200780764222145, -0.5894065499305725, 0.03229520842432976, -0.004335637670010328, -0.39009973406791687, 0.030789192765951157, -0.004470495041459799, -0.19079290330410004, 0.029283177107572556, -0.004605351947247982, 0.00851390976458788, 0.027777163311839104, -0.0047402093186974525, 0.20782072842121124, 0.026271149516105652, -0.004875066690146923, 0.4071275293827057, 0.02476513385772705, -0.005009923595935106, 0.6064344048500061, 0.0232591200619936, -0.005144780967384577, 0.8057411909103394, 0.021753106266260147, -0.00527963787317276, 1.0050479173660278, 0.020247090607881546, -0.0054144952446222305, 1.2043548822402954, 0.018741074949502945, -0.005549352616071701, 1.4036616086959839, 0.017235063016414642, -0.005684209521859884, 1.602968454360962, 0.01572904735803604, -0.005819066893309355, 1.8022749423980713, 0.01422303356230259, -0.005953923799097538, -1.7777137756347656, 1.0378531217575073, 0.0014564413577318192, -1.5784071683883667, 1.0363471508026123, 0.0013215839862823486, -1.3791004419326782, 1.0348409414291382, 0.0011867270804941654, -1.1797935962677002, 1.0333349704742432, 0.0010518701747059822, -0.9804867506027222, 1.0318289995193481, 0.0009170123375952244, -0.7811799049377441, 1.0303229093551636, 0.0007821549661457539, -0.5818731188774109, 1.028817057609558, 0.0006472980603575706, -0.3825663626194, 1.027310848236084, 0.0005124411545693874, -0.18325956165790558, 1.025804877281189, 0.0003775837831199169, 0.01604725979268551, 1.024298906326294, 0.0002427268773317337, 0.2153540700674057, 1.022792935371399, 0.00010786997154355049, 0.41466084122657776, 1.0212868452072144, -2.698739990592003e-05, 0.6139677166938782, 1.0197808742523193, -0.00016184477135539055, 0.8132744431495667, 1.0182749032974243, -0.00029670214280486107, 1.0125812292099, 1.0167689323425293, -0.0004315590485930443, 1.2118881940841675, 1.0152628421783447, -0.0005664164200425148, 1.411194920539856, 1.0137568712234497, -0.0007012737914919853, 1.6105016469955444, 1.0122507810592651, -0.0008361309301108122, 1.809808373451233, 1.0107448101043701, -0.000970988068729639]);\n",
              "//# sourceURL=js_b1da50ee93"
            ],
            "text/plain": [
              "<IPython.core.display.Javascript object>"
            ]
          },
          "metadata": {
            "tags": []
          }
        },
        {
          "output_type": "display_data",
          "data": {
            "application/javascript": [
              "window[\"3e0b0154-d159-11e9-8d65-0242ac1c0002\"] = window[\"35a4ade4-d159-11e9-8d65-0242ac1c0002\"].getAttribute(\"position\");\n",
              "//# sourceURL=js_e9cd1e5219"
            ],
            "text/plain": [
              "<IPython.core.display.Javascript object>"
            ]
          },
          "metadata": {
            "tags": []
          }
        },
        {
          "output_type": "display_data",
          "data": {
            "application/javascript": [
              "window[\"3e0b0154-d159-11e9-8d65-0242ac1c0002\"].needsUpdate = true;\n",
              "//# sourceURL=js_e745bf8bdf"
            ],
            "text/plain": [
              "<IPython.core.display.Javascript object>"
            ]
          },
          "metadata": {
            "tags": []
          }
        },
        {
          "output_type": "display_data",
          "data": {
            "application/javascript": [
              "window[\"3e1f472c-d159-11e9-8d65-0242ac1c0002\"] = window[\"35a4ade4-d159-11e9-8d65-0242ac1c0002\"].getAttribute(\"position\");\n",
              "//# sourceURL=js_2d39fd2690"
            ],
            "text/plain": [
              "<IPython.core.display.Javascript object>"
            ]
          },
          "metadata": {
            "tags": []
          }
        },
        {
          "output_type": "display_data",
          "data": {
            "application/javascript": [
              "window[\"3e1fa672-d159-11e9-8d65-0242ac1c0002\"] = window[\"3e1f472c-d159-11e9-8d65-0242ac1c0002\"].copyArray([-1.7869114875793457, 0.03975055739283562, -0.0038743505720049143, -1.5873881578445435, 0.038306619971990585, -0.003821875434368849, -1.3878650665283203, 0.036862682551145554, -0.0037694002967327833, -1.1883418560028076, 0.03541874513030052, -0.0037169253919273615, -0.9888185262680054, 0.03397480398416519, -0.003664450254291296, -0.7892952561378479, 0.03253086656332016, -0.0036119751166552305, -0.58977210521698, 0.031086929142475128, -0.003559499979019165, -0.3902488648891449, 0.029642989858984947, -0.003507025074213743, -0.190725639462471, 0.028199050575494766, -0.0034545499365776777, 0.008797568269073963, 0.026755113154649734, -0.0034020747989416122, 0.20832078158855438, 0.025311175733804703, -0.0033495996613055468, 0.4078439772129059, 0.023867236450314522, -0.0032971245236694813, 0.6073672771453857, 0.02242329716682434, -0.0032446496188640594, 0.8068904280662537, 0.02097935974597931, -0.003192174481227994, 1.0064136981964111, 0.019535422325134277, -0.0031396993435919285, 1.2059369087219238, 0.018091481178998947, -0.003087224205955863, 1.4054601192474365, 0.016647543758153915, -0.003034749301150441, 1.6049832105636597, 0.015203606337308884, -0.0029822741635143757, 1.804506540298462, 0.013759667985141277, -0.00292979902587831, -1.7796928882598877, 1.0373553037643433, 0.000856427475810051, -1.5801697969436646, 1.0359115600585938, 0.0009089023806154728, -1.3806467056274414, 1.0344675779342651, 0.0009613777510821819, -1.1811234951019287, 1.033023476600647, 0.0010138535872101784, -0.9816001057624817, 1.031579613685608, 0.0010663284920156002, -0.7820768356323242, 1.0301356315612793, 0.001118803396821022, -0.5825536847114563, 1.0286917686462402, 0.0011712783016264439, -0.3830305337905884, 1.0272477865219116, 0.0012237532064318657, -0.1835072636604309, 1.0258039236068726, 0.0012762281112372875, 0.01601593568921089, 1.0243600606918335, 0.001328703947365284, 0.21553915739059448, 1.0229160785675049, 0.0013811788521707058, 0.4150623381137848, 1.0214722156524658, 0.0014336537569761276, 0.6145856380462646, 1.0200282335281372, 0.0014861286617815495, 0.8141087889671326, 1.0185842514038086, 0.0015386040322482586, 1.013631820678711, 1.01714026927948, 0.0015910789370536804, 1.2131552696228027, 1.015696406364441, 0.0016435538418591022, 1.4126783609390259, 1.0142524242401123, 0.0016960292123258114, 1.6122015714645386, 1.0128084421157837, 0.0017485041171312332, 1.8117249011993408, 1.0113645792007446, 0.0018009794875979424]);\n",
              "//# sourceURL=js_dbb442b13e"
            ],
            "text/plain": [
              "<IPython.core.display.Javascript object>"
            ]
          },
          "metadata": {
            "tags": []
          }
        },
        {
          "output_type": "display_data",
          "data": {
            "application/javascript": [
              "window[\"3e1fef6a-d159-11e9-8d65-0242ac1c0002\"] = window[\"35a4ade4-d159-11e9-8d65-0242ac1c0002\"].getAttribute(\"position\");\n",
              "//# sourceURL=js_b43bde75ce"
            ],
            "text/plain": [
              "<IPython.core.display.Javascript object>"
            ]
          },
          "metadata": {
            "tags": []
          }
        },
        {
          "output_type": "display_data",
          "data": {
            "application/javascript": [
              "window[\"3e1fef6a-d159-11e9-8d65-0242ac1c0002\"].needsUpdate = true;\n",
              "//# sourceURL=js_c3612b8e67"
            ],
            "text/plain": [
              "<IPython.core.display.Javascript object>"
            ]
          },
          "metadata": {
            "tags": []
          }
        },
        {
          "output_type": "display_data",
          "data": {
            "application/javascript": [
              "window[\"3e35409a-d159-11e9-8d65-0242ac1c0002\"] = window[\"35a4ade4-d159-11e9-8d65-0242ac1c0002\"].getAttribute(\"position\");\n",
              "//# sourceURL=js_866fa41b5d"
            ],
            "text/plain": [
              "<IPython.core.display.Javascript object>"
            ]
          },
          "metadata": {
            "tags": []
          }
        },
        {
          "output_type": "display_data",
          "data": {
            "application/javascript": [
              "window[\"3e359996-d159-11e9-8d65-0242ac1c0002\"] = window[\"3e35409a-d159-11e9-8d65-0242ac1c0002\"].copyArray([-1.78786039352417, 0.03773295134305954, -0.00408398499712348, -1.5882200002670288, 0.03639165312051773, -0.00386934750713408, -1.3885796070098877, 0.03505035489797592, -0.00365471001714468, -1.1889389753341675, 0.033709049224853516, -0.00344007252715528, -0.9892985820770264, 0.03236775100231171, -0.00322543503716588, -0.7896581292152405, 0.031026452779769897, -0.0030107973143458366, -0.5900176167488098, 0.02968515083193779, -0.0027961598243564367, -0.3903771638870239, 0.02834385260939598, -0.002581522334367037, -0.19073668122291565, 0.027002552524209023, -0.0023668846115469933, 0.008903805166482925, 0.025661252439022064, -0.0021522471215575933, 0.2085442841053009, 0.024319952353835106, -0.0019376096315681934, 0.4081847667694092, 0.022978652268648148, -0.0017229720251634717, 0.6078252196311951, 0.02163735404610634, -0.00150833441875875, 0.8074657320976257, 0.02029605209827423, -0.00129369692876935, 1.0071061849594116, 0.018954752013087273, -0.0010790593223646283, 1.2067466974258423, 0.017613453790545464, -0.0008644217159599066, 1.4063873291015625, 0.016272151842713356, -0.0006497842259705067, 1.6060277223587036, 0.014930851757526398, -0.00043514673598110676, 1.8056681156158447, 0.013589552603662014, -0.00022050924599170685, -1.781158685684204, 1.035926103591919, 0.00038059824146330357, -1.581518292427063, 1.0345847606658936, 0.0005952354986220598, -1.3818778991699219, 1.0332432985305786, 0.0008098732214421034, -1.1822373867034912, 1.0319019556045532, 0.0010245104786008596, -0.9825969338417053, 1.0305607318878174, 0.0012391484342515469, -0.7829564213752747, 1.0292195081710815, 0.0014537861570715904, -0.5833160281181335, 1.0278781652450562, 0.0016684234142303467, -0.38367554545402527, 1.0265368223190308, 0.0018830609042197466, -0.1840350478887558, 1.025195598602295, 0.0020976990927010775, 0.015605442225933075, 1.0238542556762695, 0.0023123363498598337, 0.21524590253829956, 1.0225130319595337, 0.0025269740726798773, 0.41488638520240784, 1.0211716890335083, 0.0027416113298386335, 0.6145268678665161, 1.019830346107483, 0.002956249052658677, 0.8141673803329468, 1.018489122390747, 0.0031708863098174334, 1.0138078927993774, 1.0171477794647217, 0.003385524032637477, 1.213448405265808, 1.0158064365386963, 0.0036001617554575205, 1.4130887985229492, 1.014465093612671, 0.0038147990126162767, 1.6127294301986694, 1.013123869895935, 0.004029436968266964, 1.812369704246521, 1.0117825269699097, 0.00424407422542572]);\n",
              "//# sourceURL=js_0be5bcd04c"
            ],
            "text/plain": [
              "<IPython.core.display.Javascript object>"
            ]
          },
          "metadata": {
            "tags": []
          }
        },
        {
          "output_type": "display_data",
          "data": {
            "application/javascript": [
              "window[\"3e35fd64-d159-11e9-8d65-0242ac1c0002\"] = window[\"35a4ade4-d159-11e9-8d65-0242ac1c0002\"].getAttribute(\"position\");\n",
              "//# sourceURL=js_04c793ebc8"
            ],
            "text/plain": [
              "<IPython.core.display.Javascript object>"
            ]
          },
          "metadata": {
            "tags": []
          }
        },
        {
          "output_type": "display_data",
          "data": {
            "application/javascript": [
              "window[\"3e35fd64-d159-11e9-8d65-0242ac1c0002\"].needsUpdate = true;\n",
              "//# sourceURL=js_fefee3466e"
            ],
            "text/plain": [
              "<IPython.core.display.Javascript object>"
            ]
          },
          "metadata": {
            "tags": []
          }
        },
        {
          "output_type": "display_data",
          "data": {
            "application/javascript": [
              "window[\"3e4b95ca-d159-11e9-8d65-0242ac1c0002\"] = window[\"35a4ade4-d159-11e9-8d65-0242ac1c0002\"].getAttribute(\"position\");\n",
              "//# sourceURL=js_b27a47be39"
            ],
            "text/plain": [
              "<IPython.core.display.Javascript object>"
            ]
          },
          "metadata": {
            "tags": []
          }
        },
        {
          "output_type": "display_data",
          "data": {
            "application/javascript": [
              "window[\"3e4bf3f8-d159-11e9-8d65-0242ac1c0002\"] = window[\"3e4b95ca-d159-11e9-8d65-0242ac1c0002\"].copyArray([-1.7881227731704712, 0.0353422537446022, -0.003997672814875841, -1.5884591341018677, 0.03413831815123558, -0.0036672749556601048, -1.3887954950332642, 0.03293438255786896, -0.003336877329275012, -1.1891316175460815, 0.031730443239212036, -0.0030064797028899193, -0.989467978477478, 0.030526505783200264, -0.002676081843674183, -0.7898043394088745, 0.029322568327188492, -0.00234568421728909, -0.5901405811309814, 0.02811863273382187, -0.0020152865909039974, -0.39047694206237793, 0.026914695277810097, -0.0016848888481035829, -0.19081322848796844, 0.025710757821798325, -0.0013544911053031683, 0.008850464597344398, 0.024506820365786552, -0.0010240934789180756, 0.20851416885852814, 0.02330288290977478, -0.0006936957943253219, 0.40817785263061523, 0.022098945453763008, -0.00036329810973256826, 0.6078414916992188, 0.020895007997751236, -3.29003669321537e-05, 0.8075052499771118, 0.019691072404384613, 0.00029749725945293903, 1.0071688890457153, 0.01848713494837284, 0.0006278950022533536, 1.2068325281143188, 0.01728319749236107, 0.0009582927450537682, 1.4064964056015015, 0.016079260036349297, 0.001288690371438861, 1.606160044670105, 0.014875322580337524, 0.0016190879978239536, 1.8058236837387085, 0.013671386986970901, 0.00194948585703969, -1.7821099758148193, 1.0336534976959229, 0.00015871517825871706, -1.5824462175369263, 1.03244948387146, 0.0004891128046438098, -1.3827825784683228, 1.031245470046997, 0.0008195105474442244, -1.1831190586090088, 1.0300415754318237, 0.0011499079409986734, -0.9834551811218262, 1.0288376808166504, 0.0014803060330450535, -0.7837916016578674, 1.0276336669921875, 0.0018107034265995026, -0.5841278433799744, 1.0264298915863037, 0.002141101285815239, -0.38446417450904846, 1.0252259969711304, 0.002471498679369688, -0.18480046093463898, 1.024021863937378, 0.002801896771416068, 0.014863228425383568, 1.0228180885314941, 0.0031322939321398735, 0.2145269215106964, 1.0216140747070312, 0.003462692257016897, 0.4141906201839447, 1.020410180091858, 0.0037930901162326336, 0.6138542890548706, 1.019206166267395, 0.00412348797544837, 0.8135179877281189, 1.0180022716522217, 0.004453885369002819, 1.0131818056106567, 1.0167983770370483, 0.004784282762557268, 1.2128454446792603, 1.015594482421875, 0.0051146806217730045, 1.4125089645385742, 1.014390468597412, 0.005445078015327454, 1.6121726036071777, 1.0131865739822388, 0.005775475408881903, 1.8118364810943604, 1.0119825601577759, 0.006105873733758926]);\n",
              "//# sourceURL=js_b1f5e6ab26"
            ],
            "text/plain": [
              "<IPython.core.display.Javascript object>"
            ]
          },
          "metadata": {
            "tags": []
          }
        },
        {
          "output_type": "display_data",
          "data": {
            "application/javascript": [
              "window[\"3e4c4a6a-d159-11e9-8d65-0242ac1c0002\"] = window[\"35a4ade4-d159-11e9-8d65-0242ac1c0002\"].getAttribute(\"position\");\n",
              "//# sourceURL=js_2e584be452"
            ],
            "text/plain": [
              "<IPython.core.display.Javascript object>"
            ]
          },
          "metadata": {
            "tags": []
          }
        },
        {
          "output_type": "display_data",
          "data": {
            "application/javascript": [
              "window[\"3e4c4a6a-d159-11e9-8d65-0242ac1c0002\"].needsUpdate = true;\n",
              "//# sourceURL=js_b1730fb1be"
            ],
            "text/plain": [
              "<IPython.core.display.Javascript object>"
            ]
          },
          "metadata": {
            "tags": []
          }
        },
        {
          "output_type": "display_data",
          "data": {
            "application/javascript": [
              "window[\"3e60cd6e-d159-11e9-8d65-0242ac1c0002\"] = window[\"35a4ade4-d159-11e9-8d65-0242ac1c0002\"].getAttribute(\"position\");\n",
              "//# sourceURL=js_92a119b332"
            ],
            "text/plain": [
              "<IPython.core.display.Javascript object>"
            ]
          },
          "metadata": {
            "tags": []
          }
        },
        {
          "output_type": "display_data",
          "data": {
            "application/javascript": [
              "window[\"3e612368-d159-11e9-8d65-0242ac1c0002\"] = window[\"3e60cd6e-d159-11e9-8d65-0242ac1c0002\"].copyArray([-1.787784457206726, 0.032648760825395584, -0.0035266485065221786, -1.5881799459457397, 0.031610459089279175, -0.0031395633704960346, -1.3885753154754639, 0.030572153627872467, -0.002752478700131178, -1.188970685005188, 0.02953385002911091, -0.002365394029766321, -0.9893661141395569, 0.02849554643034935, -0.001978308893740177, -0.7897616028785706, 0.02745724283158779, -0.001591223874129355, -0.5901569724082947, 0.026418939232826233, -0.0012041390873491764, -0.39055243134498596, 0.025380635634064674, -0.0008170540677383542, -0.19094783067703247, 0.024342332035303116, -0.00042996916454285383, 0.008656751364469528, 0.023304028436541557, -4.288426134735346e-05, 0.20826134085655212, 0.02226572483778, 0.0003442006418481469, 0.4078659117221832, 0.02122742123901844, 0.0007312855450436473, 0.6074704527854919, 0.02018911764025688, 0.0011183705646544695, 0.8070750832557678, 0.019150814041495323, 0.001505455351434648, 1.006679654121399, 0.018112510442733765, 0.0018925402546301484, 1.2062841653823853, 0.017074206843972206, 0.0022796252742409706, 1.4058887958526611, 0.016035903245210648, 0.0026667099446058273, 1.605493426322937, 0.014997598715126514, 0.0030537950806319714, 1.8050979375839233, 0.013959295116364956, 0.003440879750996828, -1.7826002836227417, 1.0306663513183594, 0.0002591427182778716, -1.5829957723617554, 1.029628038406372, 0.0006462274468503892, -1.3833911418914795, 1.0285899639129639, 0.0010333125246688724, -1.1837866306304932, 1.027551531791687, 0.001420397311449051, -0.9841819405555725, 1.0265129804611206, 0.0018074820982292295, -0.7845774292945862, 1.0254746675491333, 0.0021945671178400517, -0.5849727988243103, 1.0244364738464355, 0.0025816517882049084, -0.385368287563324, 1.0233981609344482, 0.0029687369242310524, -0.18576368689537048, 1.0223599672317505, 0.0033558220602571964, 0.013840900734066963, 1.0213216543197632, 0.003742906730622053, 0.2134454846382141, 1.0202833414077759, 0.00412999140098691, 0.4130500257015228, 1.0192450284957886, 0.004517076537013054, 0.6126546859741211, 1.0182067155838013, 0.004904161673039198, 0.8122591972351074, 1.017168402671814, 0.005291246809065342, 1.0118638277053833, 1.0161300897598267, 0.005678331013768911, 1.2114684581756592, 1.0150917768478394, 0.006065416615456343, 1.4110729694366455, 1.0140535831451416, 0.006452500820159912, 1.6106775999069214, 1.0130151510238647, 0.006839585956186056, 1.8102821111679077, 1.0119768381118774, 0.0072266710922122]);\n",
              "//# sourceURL=js_6cb4eb8b80"
            ],
            "text/plain": [
              "<IPython.core.display.Javascript object>"
            ]
          },
          "metadata": {
            "tags": []
          }
        },
        {
          "output_type": "display_data",
          "data": {
            "application/javascript": [
              "window[\"3e616dd2-d159-11e9-8d65-0242ac1c0002\"] = window[\"35a4ade4-d159-11e9-8d65-0242ac1c0002\"].getAttribute(\"position\");\n",
              "//# sourceURL=js_1f37b3843a"
            ],
            "text/plain": [
              "<IPython.core.display.Javascript object>"
            ]
          },
          "metadata": {
            "tags": []
          }
        },
        {
          "output_type": "display_data",
          "data": {
            "application/javascript": [
              "window[\"3e616dd2-d159-11e9-8d65-0242ac1c0002\"].needsUpdate = true;\n",
              "//# sourceURL=js_7c2a98071b"
            ],
            "text/plain": [
              "<IPython.core.display.Javascript object>"
            ]
          },
          "metadata": {
            "tags": []
          }
        },
        {
          "output_type": "display_data",
          "data": {
            "application/javascript": [
              "window[\"3e75a3f6-d159-11e9-8d65-0242ac1c0002\"] = window[\"35a4ade4-d159-11e9-8d65-0242ac1c0002\"].getAttribute(\"position\");\n",
              "//# sourceURL=js_e2e33ac855"
            ],
            "text/plain": [
              "<IPython.core.display.Javascript object>"
            ]
          },
          "metadata": {
            "tags": []
          }
        },
        {
          "output_type": "display_data",
          "data": {
            "application/javascript": [
              "window[\"3e75f766-d159-11e9-8d65-0242ac1c0002\"] = window[\"3e75a3f6-d159-11e9-8d65-0242ac1c0002\"].copyArray([-1.7869776487350464, 0.029726725071668625, -0.0026610619388520718, -1.5874977111816406, 0.028875503689050674, -0.0022792909294366837, -1.3880176544189453, 0.028024280443787575, -0.001897519687190652, -1.18853759765625, 0.027173059061169624, -0.0015157486777752638, -0.9890576004981995, 0.026321835815906525, -0.0011339772026985884, -0.7895775437355042, 0.025470614433288574, -0.0007522059022448957, -0.5900974869728088, 0.024619393050670624, -0.00037043477641418576, -0.39061740040779114, 0.023768169805407524, 1.1336582247167826e-05, -0.19113734364509583, 0.022916948422789574, 0.0003931078244931996, 0.008342710323631763, 0.022065725177526474, 0.0007748790667392313, 0.2078227698802948, 0.021214501932263374, 0.0011566502507776022, 0.4073028266429901, 0.020363280549645424, 0.001538421493023634, 0.606782853603363, 0.019512057304382324, 0.0019201929681003094, 0.8062629103660583, 0.018660835921764374, 0.0023019639775156975, 1.0057430267333984, 0.017809614539146423, 0.0026837352197617292, 1.2052230834960938, 0.016958391293883324, 0.0030655066948384047, 1.404703140258789, 0.016107169911265373, 0.0034472777042537928, 1.6041831970214844, 0.015255945734679699, 0.0038290489464998245, 1.8036631345748901, 0.014404724352061749, 0.004210819955915213, -1.7827281951904297, 1.027123212814331, 0.0006795815424993634, -1.5832480192184448, 1.0262720584869385, 0.0010613526683300734, -1.3837679624557495, 1.025420904159546, 0.0014431239105761051, -1.1842879056930542, 1.0245696306228638, 0.0018248949199914932, -0.9848079085350037, 1.0237183570861816, 0.0022066663950681686, -0.7853278517723083, 1.0228670835494995, 0.0025884376373142004, -0.585847795009613, 1.022015929222107, 0.002970208413898945, -0.38636764883995056, 1.0211646556854248, 0.003351980121806264, -0.18688762187957764, 1.0203135013580322, 0.003733751131221652, 0.012592412531375885, 1.01946222782135, 0.004115522373467684, 0.2120724767446518, 1.0186110734939575, 0.004497293848544359, 0.4115525484085083, 1.0177597999572754, 0.004879064857959747, 0.6110325455665588, 1.0169085264205933, 0.005260836333036423, 0.8105126023292542, 1.0160573720932007, 0.005642607808113098, 1.0099927186965942, 1.015206217765808, 0.006024378351867199, 1.2094727754592896, 1.014354944229126, 0.006406149826943874, 1.4089528322219849, 1.0135037899017334, 0.00678792130202055, 1.6084327697753906, 1.0126523971557617, 0.007169691845774651, 1.8079129457473755, 1.0118012428283691, 0.007551463786512613]);\n",
              "//# sourceURL=js_2e4eb05fb4"
            ],
            "text/plain": [
              "<IPython.core.display.Javascript object>"
            ]
          },
          "metadata": {
            "tags": []
          }
        },
        {
          "output_type": "display_data",
          "data": {
            "application/javascript": [
              "window[\"3e763f0a-d159-11e9-8d65-0242ac1c0002\"] = window[\"35a4ade4-d159-11e9-8d65-0242ac1c0002\"].getAttribute(\"position\");\n",
              "//# sourceURL=js_b4e3d1c8bf"
            ],
            "text/plain": [
              "<IPython.core.display.Javascript object>"
            ]
          },
          "metadata": {
            "tags": []
          }
        },
        {
          "output_type": "display_data",
          "data": {
            "application/javascript": [
              "window[\"3e763f0a-d159-11e9-8d65-0242ac1c0002\"].needsUpdate = true;\n",
              "//# sourceURL=js_99714a0054"
            ],
            "text/plain": [
              "<IPython.core.display.Javascript object>"
            ]
          },
          "metadata": {
            "tags": []
          }
        },
        {
          "output_type": "display_data",
          "data": {
            "application/javascript": [
              "window[\"3e8bf110-d159-11e9-8d65-0242ac1c0002\"] = window[\"35a4ade4-d159-11e9-8d65-0242ac1c0002\"].getAttribute(\"position\");\n",
              "//# sourceURL=js_c5256509c3"
            ],
            "text/plain": [
              "<IPython.core.display.Javascript object>"
            ]
          },
          "metadata": {
            "tags": []
          }
        },
        {
          "output_type": "display_data",
          "data": {
            "application/javascript": [
              "window[\"3e8ca326-d159-11e9-8d65-0242ac1c0002\"] = window[\"3e8bf110-d159-11e9-8d65-0242ac1c0002\"].copyArray([-1.785865306854248, 0.026651732623577118, -0.0014664556365460157, -1.5865548849105835, 0.026002096012234688, -0.0011455595958977938, -1.3872443437576294, 0.02535245753824711, -0.0008246637880802155, -1.1879338026046753, 0.02470281720161438, -0.0005037678638473153, -0.9886234998703003, 0.0240531787276268, -0.00018287182319909334, -0.7893130779266357, 0.02340354025363922, 0.00013802421744912863, -0.5900025367736816, 0.022753901779651642, 0.00045892008347436786, -0.39069217443466187, 0.022104263305664062, 0.0007798161241225898, -0.19138172268867493, 0.021454624831676483, 0.0011007121065631509, 0.007928728125989437, 0.020804986357688904, 0.001421608030796051, 0.20723918080329895, 0.020155347883701324, 0.0017425039550289512, 0.4065496325492859, 0.019505709409713745, 0.0020633998792618513, 0.6058599948883057, 0.018856070935726166, 0.0023842959199100733, 0.8051705360412598, 0.018206432461738586, 0.0027051917277276516, 1.0044809579849243, 0.017556793987751007, 0.0030260877683758736, 1.2037912607192993, 0.016907155513763428, 0.0033469838090240955, 1.4031018018722534, 0.0162575151771307, 0.0036678798496723175, 1.6024123430252075, 0.01560787670314312, 0.003988775424659252, 1.801722764968872, 0.014958239160478115, 0.0043096719309687614, -1.7826217412948608, 1.0232012271881104, 0.0013506067916750908, -1.5833112001419067, 1.0225517749786377, 0.0016715029487386346, -1.3840007781982422, 1.021902084350586, 0.0019923988729715347, -1.1846903562545776, 1.0212523937225342, 0.002313294680789113, -0.9853798151016235, 1.0206027030944824, 0.0026341909542679787, -0.786069393157959, 1.0199531316757202, 0.002955086762085557, -0.5867589712142944, 1.0193034410476685, 0.0032759825699031353, -0.3874484896659851, 1.0186537504196167, 0.003596878843382001, -0.18813806772232056, 1.018004059791565, 0.003917774651199579, 0.011172376573085785, 1.0173546075820923, 0.004238670691847801, 0.21048282086849213, 1.0167049169540405, 0.004559566732496023, 0.40979328751564026, 1.0160552263259888, 0.004880462773144245, 0.6091036796569824, 1.015405535697937, 0.005201358813792467, 0.8084141612052917, 1.0147559642791748, 0.0055222539231181145, 1.0077245235443115, 1.0141063928604126, 0.005843150429427624, 1.2070350646972656, 1.0134567022323608, 0.006164046470075846, 1.4063454866409302, 1.012807011604309, 0.006484942510724068, 1.6056560277938843, 1.0121574401855469, 0.006805838085711002, 1.8049663305282593, 1.0115078687667847, 0.007126734592020512]);\n",
              "//# sourceURL=js_93c799d6fe"
            ],
            "text/plain": [
              "<IPython.core.display.Javascript object>"
            ]
          },
          "metadata": {
            "tags": []
          }
        },
        {
          "output_type": "display_data",
          "data": {
            "application/javascript": [
              "window[\"3e8d0da2-d159-11e9-8d65-0242ac1c0002\"] = window[\"35a4ade4-d159-11e9-8d65-0242ac1c0002\"].getAttribute(\"position\");\n",
              "//# sourceURL=js_61ce70808f"
            ],
            "text/plain": [
              "<IPython.core.display.Javascript object>"
            ]
          },
          "metadata": {
            "tags": []
          }
        },
        {
          "output_type": "display_data",
          "data": {
            "application/javascript": [
              "window[\"3e8d0da2-d159-11e9-8d65-0242ac1c0002\"].needsUpdate = true;\n",
              "//# sourceURL=js_baaf6c8f94"
            ],
            "text/plain": [
              "<IPython.core.display.Javascript object>"
            ]
          },
          "metadata": {
            "tags": []
          }
        },
        {
          "output_type": "display_data",
          "data": {
            "application/javascript": [
              "window[\"3ea1aee2-d159-11e9-8d65-0242ac1c0002\"] = window[\"35a4ade4-d159-11e9-8d65-0242ac1c0002\"].getAttribute(\"position\");\n",
              "//# sourceURL=js_44e564a241"
            ],
            "text/plain": [
              "<IPython.core.display.Javascript object>"
            ]
          },
          "metadata": {
            "tags": []
          }
        },
        {
          "output_type": "display_data",
          "data": {
            "application/javascript": [
              "window[\"3ea1feb0-d159-11e9-8d65-0242ac1c0002\"] = window[\"3ea1aee2-d159-11e9-8d65-0242ac1c0002\"].copyArray([-1.7846243381500244, 0.023498134687542915, -6.83788675814867e-05, -1.585506796836853, 0.02305775135755539, 0.00015013793017715216, -1.386388897895813, 0.022617368027567863, 0.000368654727935791, -1.1872713565826416, 0.022176984697580338, 0.000587171409279108, -0.9881535768508911, 0.02173660136759281, 0.0008056882070377469, -0.7890358567237854, 0.021296218037605286, 0.0010242050047963858, -0.5899181365966797, 0.02085583470761776, 0.0012427216861397028, -0.390800416469574, 0.020415451377630234, 0.0014612384838983417, -0.19168266654014587, 0.019975068047642708, 0.0016797551652416587, 0.00743506196886301, 0.019534684717655182, 0.0018982719630002975, 0.20655280351638794, 0.019094301387667656, 0.0021167886443436146, 0.40567052364349365, 0.01865391805768013, 0.0023353055585175753, 0.6047883033752441, 0.018213534727692604, 0.0025538222398608923, 0.8039060235023499, 0.017773151397705078, 0.0027723389212042093, 1.0030237436294556, 0.017332768067717552, 0.00299085583537817, 1.202141523361206, 0.016892384737730026, 0.003209372516721487, 1.4012590646743774, 0.0164520014077425, 0.003427889198064804, 1.6003769636154175, 0.016011618077754974, 0.003646405879408121, 1.7994945049285889, 0.015571234747767448, 0.003864922793582082, -1.782424807548523, 1.0190848112106323, 0.0021505006588995457, -1.5833072662353516, 1.0186444520950317, 0.0023690173402428627, -1.384189486503601, 1.0182040929794312, 0.0025875340215861797, -1.1850718259811401, 1.0177637338638306, 0.0028060509357601404, -0.9859540462493896, 1.01732337474823, 0.003024567849934101, -0.7868363261222839, 1.0168828964233398, 0.0032430842984467745, -0.587718665599823, 1.0164425373077393, 0.003461601212620735, -0.3886009156703949, 1.0160021781921387, 0.003680117893964052, -0.189483180642128, 1.015561819076538, 0.0038986345753073692, 0.009634539484977722, 1.0151214599609375, 0.004117151722311974, 0.20875228941440582, 1.0146809816360474, 0.004335667937994003, 0.40786996483802795, 1.0142406225204468, 0.004554185084998608, 0.6069878339767456, 1.0138002634048462, 0.004772701766341925, 0.8061054348945618, 1.0133599042892456, 0.004991218447685242, 1.0052231550216675, 1.012919545173645, 0.005209734663367271, 1.204340934753418, 1.0124791860580444, 0.005428251810371876, 1.4034584760665894, 1.0120387077331543, 0.005646768491715193, 1.6025763750076294, 1.0115983486175537, 0.005865285638719797, 1.8016940355300903, 1.0111579895019531, 0.006083802320063114]);\n",
              "//# sourceURL=js_4297cb862e"
            ],
            "text/plain": [
              "<IPython.core.display.Javascript object>"
            ]
          },
          "metadata": {
            "tags": []
          }
        },
        {
          "output_type": "display_data",
          "data": {
            "application/javascript": [
              "window[\"3ea2bf8a-d159-11e9-8d65-0242ac1c0002\"] = window[\"35a4ade4-d159-11e9-8d65-0242ac1c0002\"].getAttribute(\"position\");\n",
              "//# sourceURL=js_9b51ab5a1e"
            ],
            "text/plain": [
              "<IPython.core.display.Javascript object>"
            ]
          },
          "metadata": {
            "tags": []
          }
        },
        {
          "output_type": "display_data",
          "data": {
            "application/javascript": [
              "window[\"3ea2bf8a-d159-11e9-8d65-0242ac1c0002\"].needsUpdate = true;\n",
              "//# sourceURL=js_e673c7fe59"
            ],
            "text/plain": [
              "<IPython.core.display.Javascript object>"
            ]
          },
          "metadata": {
            "tags": []
          }
        },
        {
          "output_type": "display_data",
          "data": {
            "application/javascript": [
              "window[\"3eb66152-d159-11e9-8d65-0242ac1c0002\"] = window[\"35a4ade4-d159-11e9-8d65-0242ac1c0002\"].getAttribute(\"position\");\n",
              "//# sourceURL=js_66606bff5d"
            ],
            "text/plain": [
              "<IPython.core.display.Javascript object>"
            ]
          },
          "metadata": {
            "tags": []
          }
        },
        {
          "output_type": "display_data",
          "data": {
            "application/javascript": [
              "window[\"3eb6b6d4-d159-11e9-8d65-0242ac1c0002\"] = window[\"3eb66152-d159-11e9-8d65-0242ac1c0002\"].copyArray([-1.7834312915802002, 0.020336687564849854, 0.0013714786618947983, -1.584507703781128, 0.02010672725737095, 0.001465048175305128, -1.3855839967727661, 0.019876768812537193, 0.0015586178051307797, -1.1866605281829834, 0.01964680850505829, 0.0016521873185411096, -0.987736701965332, 0.019416850060224533, 0.0017457569483667612, -0.7888131141662598, 0.01918688975274563, 0.001839326461777091, -0.5898895263671875, 0.018956931307911873, 0.0019328959751874208, -0.39096584916114807, 0.018726971000432968, 0.0020264657214283943, -0.19204221665859222, 0.018497012555599213, 0.002120035234838724, 0.006881412118673325, 0.018267052248120308, 0.002213604748249054, 0.20580504834651947, 0.018037091940641403, 0.0023071742616593838, 0.4047286808490753, 0.017807133495807648, 0.0024007437750697136, 0.6036523580551147, 0.017577173188328743, 0.002494313521310687, 0.802575945854187, 0.017347214743494987, 0.002587883034721017, 1.0014995336532593, 0.017117254436016083, 0.0026814525481313467, 1.200423240661621, 0.016887295991182327, 0.00277502229437232, 1.3993467092514038, 0.016657335683703423, 0.00286859180778265, 1.5982704162597656, 0.016427377238869667, 0.00296216132119298, 1.797194004058838, 0.016197416931390762, 0.0030557308346033096, -1.7822823524475098, 1.0149537324905396, 0.0029281273018568754, -1.583358645439148, 1.014723777770996, 0.0030216968152672052, -1.3844350576400757, 1.014493703842163, 0.0031152665615081787, -1.185511589050293, 1.0142638683319092, 0.003208835842087865, -0.986587643623352, 1.0140339136123657, 0.0033024055883288383, -0.787663996219635, 1.0138039588928223, 0.003395975101739168, -0.5887405276298523, 1.0135740041732788, 0.003489544615149498, -0.3898167610168457, 1.0133439302444458, 0.003583114128559828, -0.19089314341545105, 1.013114094734192, 0.0036766838748008013, 0.008030476048588753, 1.0128841400146484, 0.0037702531553804874, 0.20695412158966064, 1.0126540660858154, 0.003863822901621461, 0.4058777391910553, 1.0124242305755615, 0.003957392647862434, 0.6048014163970947, 1.0121941566467285, 0.004050962161272764, 0.803725004196167, 1.011964201927185, 0.004144531674683094, 1.0026485919952393, 1.0117343664169312, 0.004238101188093424, 1.2015724182128906, 1.0115042924880981, 0.004331670701503754, 1.4004958868026733, 1.0112743377685547, 0.0044252402149140835, 1.5994195938110352, 1.0110445022583008, 0.004518809728324413, 1.7983431816101074, 1.0108144283294678, 0.004612379241734743]);\n",
              "//# sourceURL=js_7c05db1b40"
            ],
            "text/plain": [
              "<IPython.core.display.Javascript object>"
            ]
          },
          "metadata": {
            "tags": []
          }
        },
        {
          "output_type": "display_data",
          "data": {
            "application/javascript": [
              "window[\"3eb6fe46-d159-11e9-8d65-0242ac1c0002\"] = window[\"35a4ade4-d159-11e9-8d65-0242ac1c0002\"].getAttribute(\"position\");\n",
              "//# sourceURL=js_1abbe94aab"
            ],
            "text/plain": [
              "<IPython.core.display.Javascript object>"
            ]
          },
          "metadata": {
            "tags": []
          }
        },
        {
          "output_type": "display_data",
          "data": {
            "application/javascript": [
              "window[\"3eb6fe46-d159-11e9-8d65-0242ac1c0002\"].needsUpdate = true;\n",
              "//# sourceURL=js_b85f3dd61e"
            ],
            "text/plain": [
              "<IPython.core.display.Javascript object>"
            ]
          },
          "metadata": {
            "tags": []
          }
        },
        {
          "output_type": "display_data",
          "data": {
            "application/javascript": [
              "window[\"3ecb14f8-d159-11e9-8d65-0242ac1c0002\"] = window[\"35a4ade4-d159-11e9-8d65-0242ac1c0002\"].getAttribute(\"position\");\n",
              "//# sourceURL=js_5fc84df2b6"
            ],
            "text/plain": [
              "<IPython.core.display.Javascript object>"
            ]
          },
          "metadata": {
            "tags": []
          }
        },
        {
          "output_type": "display_data",
          "data": {
            "application/javascript": [
              "window[\"3ecb6944-d159-11e9-8d65-0242ac1c0002\"] = window[\"3ecb14f8-d159-11e9-8d65-0242ac1c0002\"].copyArray([-1.7824465036392212, 0.017232559621334076, 0.002683194587007165, -1.5836982727050781, 0.017208196222782135, 0.0026498339138925076, -1.3849502801895142, 0.017183832824230194, 0.00261647324077785, -1.1862022876739502, 0.017159469425678253, 0.0025831125676631927, -0.9874539971351624, 0.017135106027126312, 0.002549752127379179, -0.7887058258056641, 0.01711074262857437, 0.0025163914542645216, -0.5899578332901001, 0.01708637923002243, 0.002483030781149864, -0.3912096619606018, 0.01706201583147049, 0.002449670108035207, -0.1924615502357483, 0.01703765243291855, 0.0024163094349205494, 0.006286542862653732, 0.017013289034366608, 0.002382948761805892, 0.20503464341163635, 0.016988925635814667, 0.0023495880886912346, 0.4037827253341675, 0.016964562237262726, 0.002316227415576577, 0.6025309562683105, 0.016940198838710785, 0.00228286674246192, 0.8012789487838745, 0.016915835440158844, 0.0022495060693472624, 1.000027060508728, 0.016891472041606903, 0.002216145396232605, 1.198775291442871, 0.016867108643054962, 0.0021827849559485912, 1.397523283958435, 0.01684274524450302, 0.002149424282833934, 1.596271276473999, 0.01681838184595108, 0.0021160636097192764, 1.795019507408142, 0.01679401844739914, 0.002082702936604619, -1.7823244333267212, 1.0109727382659912, 0.003529568202793598, -1.5835764408111572, 1.0109484195709229, 0.0034962077625095844, -1.3848284482955933, 1.010923981666565, 0.0034628468565642834, -1.1860803365707397, 1.0108996629714966, 0.0034294864162802696, -0.9873319268226624, 1.0108753442764282, 0.0033961255103349686, -0.7885838747024536, 1.0108509063720703, 0.003362765070050955, -0.5898357629776001, 1.010826587677002, 0.0033294043969362974, -0.39108774065971375, 1.0108022689819336, 0.00329604372382164, -0.19233959913253784, 1.0107778310775757, 0.0032626830507069826, 0.006408501882106066, 1.0107535123825073, 0.003229322377592325, 0.205156609416008, 1.0107290744781494, 0.003195961704477668, 0.4039047062397003, 1.010704755783081, 0.0031626010313630104, 0.6026528477668762, 1.0106803178787231, 0.0031292405910789967, 0.8014009594917297, 1.0106559991836548, 0.0030958796851336956, 1.0001490116119385, 1.0106316804885864, 0.003062519244849682, 1.198897123336792, 1.010607361793518, 0.0030291585717350245, 1.397645115852356, 1.0105829238891602, 0.002995797898620367, 1.596393346786499, 1.0105586051940918, 0.0029624372255057096, 1.795141339302063, 1.0105341672897339, 0.0029290765523910522]);\n",
              "//# sourceURL=js_6216f9e992"
            ],
            "text/plain": [
              "<IPython.core.display.Javascript object>"
            ]
          },
          "metadata": {
            "tags": []
          }
        },
        {
          "output_type": "display_data",
          "data": {
            "application/javascript": [
              "window[\"3ecbd226-d159-11e9-8d65-0242ac1c0002\"] = window[\"35a4ade4-d159-11e9-8d65-0242ac1c0002\"].getAttribute(\"position\");\n",
              "//# sourceURL=js_335ebce420"
            ],
            "text/plain": [
              "<IPython.core.display.Javascript object>"
            ]
          },
          "metadata": {
            "tags": []
          }
        },
        {
          "output_type": "display_data",
          "data": {
            "application/javascript": [
              "window[\"3ecbd226-d159-11e9-8d65-0242ac1c0002\"].needsUpdate = true;\n",
              "//# sourceURL=js_892ff44a03"
            ],
            "text/plain": [
              "<IPython.core.display.Javascript object>"
            ]
          },
          "metadata": {
            "tags": []
          }
        }
      ]
    },
    {
      "cell_type": "code",
      "metadata": {
        "id": "QONkW8FGKSgD",
        "colab_type": "code",
        "colab": {}
      },
      "source": [
        ""
      ],
      "execution_count": 0,
      "outputs": []
    }
  ]
}