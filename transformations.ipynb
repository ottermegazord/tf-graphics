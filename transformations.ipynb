{
  "nbformat": 4,
  "nbformat_minor": 0,
  "metadata": {
    "colab": {
      "name": "Untitled3.ipynb",
      "version": "0.3.2",
      "provenance": [],
      "include_colab_link": true
    },
    "kernelspec": {
      "name": "python3",
      "display_name": "Python 3"
    },
    "accelerator": "GPU"
  },
  "cells": [
    {
      "cell_type": "markdown",
      "metadata": {
        "id": "view-in-github",
        "colab_type": "text"
      },
      "source": [
        "<a href=\"https://colab.research.google.com/github/ottermegazord/tf-graphics/blob/master/transformations.ipynb\" target=\"_parent\"><img src=\"https://colab.research.google.com/assets/colab-badge.svg\" alt=\"Open In Colab\"/></a>"
      ]
    },
    {
      "cell_type": "markdown",
      "metadata": {
        "id": "M2oLwlfh9XSQ",
        "colab_type": "text"
      },
      "source": [
        "# Transformation with Tensorflow Graphics!\n",
        "\n",
        "Note: Use TF v.1.14.0"
      ]
    },
    {
      "cell_type": "code",
      "metadata": {
        "id": "nctaAl7O8v87",
        "colab_type": "code",
        "outputId": "a07f0cc5-6784-4003-a9e9-28ebf292dec5",
        "colab": {
          "base_uri": "https://localhost:8080/",
          "height": 34
        }
      },
      "source": [
        "import tensorflow as tf\n",
        "print(tf.__version__)"
      ],
      "execution_count": 1,
      "outputs": [
        {
          "output_type": "stream",
          "text": [
            "1.14.0\n"
          ],
          "name": "stdout"
        }
      ]
    },
    {
      "cell_type": "markdown",
      "metadata": {
        "id": "5o-2nFRw_YH0",
        "colab_type": "text"
      },
      "source": [
        "## Install tensorflow packages"
      ]
    },
    {
      "cell_type": "code",
      "metadata": {
        "id": "2HQWkz6R9hYs",
        "colab_type": "code",
        "colab": {
          "base_uri": "https://localhost:8080/",
          "height": 459
        },
        "outputId": "ca8db479-c1ef-494f-e4f5-31b02e9619e3"
      },
      "source": [
        "#!pip install tensorflow==1.14.0\n",
        "!pip install tensorflow_graphics"
      ],
      "execution_count": 4,
      "outputs": [
        {
          "output_type": "stream",
          "text": [
            "Collecting tensorflow_graphics\n",
            "\u001b[?25l  Downloading https://files.pythonhosted.org/packages/d1/5d/b84b85322723aef25e5069596438a92dc7d5d1035ee11947e2105315eaa2/tensorflow_graphics-1.0.0-py2.py3-none-any.whl (243kB)\n",
            "\u001b[K     |████████████████████████████████| 245kB 2.7MB/s \n",
            "\u001b[?25hRequirement already satisfied: six>=1.11.0 in /usr/local/lib/python3.6/dist-packages (from tensorflow_graphics) (1.12.0)\n",
            "Requirement already satisfied: scipy>=1.1.0 in /usr/local/lib/python3.6/dist-packages (from tensorflow_graphics) (1.3.1)\n",
            "Requirement already satisfied: numpy>=1.15.4 in /usr/local/lib/python3.6/dist-packages (from tensorflow_graphics) (1.16.5)\n",
            "Requirement already satisfied: tensorflow>=1.13.1 in /usr/local/lib/python3.6/dist-packages (from tensorflow_graphics) (1.14.0)\n",
            "Requirement already satisfied: absl-py>=0.6.1 in /usr/local/lib/python3.6/dist-packages (from tensorflow_graphics) (0.8.0)\n",
            "Requirement already satisfied: keras-preprocessing>=1.0.5 in /usr/local/lib/python3.6/dist-packages (from tensorflow>=1.13.1->tensorflow_graphics) (1.1.0)\n",
            "Requirement already satisfied: termcolor>=1.1.0 in /usr/local/lib/python3.6/dist-packages (from tensorflow>=1.13.1->tensorflow_graphics) (1.1.0)\n",
            "Requirement already satisfied: google-pasta>=0.1.6 in /usr/local/lib/python3.6/dist-packages (from tensorflow>=1.13.1->tensorflow_graphics) (0.1.7)\n",
            "Requirement already satisfied: wrapt>=1.11.1 in /usr/local/lib/python3.6/dist-packages (from tensorflow>=1.13.1->tensorflow_graphics) (1.11.2)\n",
            "Requirement already satisfied: astor>=0.6.0 in /usr/local/lib/python3.6/dist-packages (from tensorflow>=1.13.1->tensorflow_graphics) (0.8.0)\n",
            "Requirement already satisfied: wheel>=0.26 in /usr/local/lib/python3.6/dist-packages (from tensorflow>=1.13.1->tensorflow_graphics) (0.33.6)\n",
            "Requirement already satisfied: tensorflow-estimator<1.15.0rc0,>=1.14.0rc0 in /usr/local/lib/python3.6/dist-packages (from tensorflow>=1.13.1->tensorflow_graphics) (1.14.0)\n",
            "Requirement already satisfied: gast>=0.2.0 in /usr/local/lib/python3.6/dist-packages (from tensorflow>=1.13.1->tensorflow_graphics) (0.2.2)\n",
            "Requirement already satisfied: tensorboard<1.15.0,>=1.14.0 in /usr/local/lib/python3.6/dist-packages (from tensorflow>=1.13.1->tensorflow_graphics) (1.14.0)\n",
            "Requirement already satisfied: keras-applications>=1.0.6 in /usr/local/lib/python3.6/dist-packages (from tensorflow>=1.13.1->tensorflow_graphics) (1.0.8)\n",
            "Requirement already satisfied: protobuf>=3.6.1 in /usr/local/lib/python3.6/dist-packages (from tensorflow>=1.13.1->tensorflow_graphics) (3.7.1)\n",
            "Requirement already satisfied: grpcio>=1.8.6 in /usr/local/lib/python3.6/dist-packages (from tensorflow>=1.13.1->tensorflow_graphics) (1.15.0)\n",
            "Requirement already satisfied: markdown>=2.6.8 in /usr/local/lib/python3.6/dist-packages (from tensorboard<1.15.0,>=1.14.0->tensorflow>=1.13.1->tensorflow_graphics) (3.1.1)\n",
            "Requirement already satisfied: setuptools>=41.0.0 in /usr/local/lib/python3.6/dist-packages (from tensorboard<1.15.0,>=1.14.0->tensorflow>=1.13.1->tensorflow_graphics) (41.2.0)\n",
            "Requirement already satisfied: werkzeug>=0.11.15 in /usr/local/lib/python3.6/dist-packages (from tensorboard<1.15.0,>=1.14.0->tensorflow>=1.13.1->tensorflow_graphics) (0.15.5)\n",
            "Requirement already satisfied: h5py in /usr/local/lib/python3.6/dist-packages (from keras-applications>=1.0.6->tensorflow>=1.13.1->tensorflow_graphics) (2.8.0)\n",
            "Installing collected packages: tensorflow-graphics\n",
            "Successfully installed tensorflow-graphics-1.0.0\n"
          ],
          "name": "stdout"
        }
      ]
    },
    {
      "cell_type": "markdown",
      "metadata": {
        "id": "z9LB7ATr_nTi",
        "colab_type": "text"
      },
      "source": [
        "## Import packages"
      ]
    },
    {
      "cell_type": "code",
      "metadata": {
        "id": "Zjdnw1dR-rVu",
        "colab_type": "code",
        "colab": {}
      },
      "source": [
        "from __future__ import absolute_import\n",
        "from __future__ import division\n",
        "from __future__ import print_function\n",
        "\n",
        "import time\n",
        "\n",
        "import matplotlib.pyplot as plt\n",
        "import numpy as np\n",
        "import tensorflow as tf\n",
        "from tensorflow import keras\n",
        "from tensorflow.keras import layers\n",
        "\n",
        "from tensorflow_graphics.geometry.transformation import quaternion\n",
        "from tensorflow_graphics.math import vector\n",
        "from tensorflow_graphics.notebooks import threejs_visualization\n",
        "from tensorflow_graphics.notebooks.resources import triangulated_stripe as tfg_simplified_logo\n"
      ],
      "execution_count": 0,
      "outputs": []
    },
    {
      "cell_type": "code",
      "metadata": {
        "id": "REswVyNAWS-Q",
        "colab_type": "code",
        "colab": {
          "base_uri": "https://localhost:8080/",
          "height": 34
        },
        "outputId": "e8c3d1d3-59c0-4a92-ccac-5b8c5480aab3"
      },
      "source": [
        "print(tfg_simplified_logo)"
      ],
      "execution_count": 55,
      "outputs": [
        {
          "output_type": "stream",
          "text": [
            "<module 'tensorflow_graphics.notebooks.resources.triangulated_stripe' from '/usr/local/lib/python3.6/dist-packages/tensorflow_graphics/notebooks/resources/triangulated_stripe.py'>\n"
          ],
          "name": "stdout"
        }
      ]
    },
    {
      "cell_type": "code",
      "metadata": {
        "id": "NBTYyUdCD-b5",
        "colab_type": "code",
        "colab": {}
      },
      "source": [
        "# Enable eager execution\n",
        "tf.enable_eager_execution()"
      ],
      "execution_count": 0,
      "outputs": []
    },
    {
      "cell_type": "code",
      "metadata": {
        "id": "DxNhaF8JWg3J",
        "colab_type": "code",
        "colab": {}
      },
      "source": [
        "vertices = np.array([\\\n",
        "    [-1, -1, -1],\n",
        "    [+1, -1, -1],\n",
        "    [+1, +1, -1],\n",
        "    [-1, +1, -1],\n",
        "    [-1, -1, +1],\n",
        "    [+1, -1, +1],\n",
        "    [+1, +1, +1],\n",
        "    [-1, +1, +1]])\n",
        "\n",
        "faces = np.array([\\\n",
        "    [0,3,1],\n",
        "    [1,3,2],\n",
        "    [0,4,7],\n",
        "    [0,7,3],\n",
        "    [4,5,6],\n",
        "    [4,6,7],\n",
        "    [5,1,2],\n",
        "    [5,2,6],\n",
        "    [2,3,6],\n",
        "    [3,7,6],\n",
        "    [0,1,5],\n",
        "    [0,5,4]])"
      ],
      "execution_count": 0,
      "outputs": []
    },
    {
      "cell_type": "code",
      "metadata": {
        "id": "WH8Zc9UDWhDn",
        "colab_type": "code",
        "colab": {}
      },
      "source": [
        ""
      ],
      "execution_count": 0,
      "outputs": []
    },
    {
      "cell_type": "code",
      "metadata": {
        "id": "ej4FgXlD_sPy",
        "colab_type": "code",
        "colab": {}
      },
      "source": [
        "# Load demo pic\n",
        "vertices = vertices.astype(np.float32)\n",
        "# faces = tfg_simplified_logo.mesh['faces']\n",
        "num_vertices = vertices.shape[0]"
      ],
      "execution_count": 0,
      "outputs": []
    },
    {
      "cell_type": "code",
      "metadata": {
        "id": "M3O3hFvKAVNA",
        "colab_type": "code",
        "outputId": "288d9398-145c-48cf-ed59-3f6c3ecdd98b",
        "colab": {
          "base_uri": "https://localhost:8080/",
          "height": 34
        }
      },
      "source": [
        "print(num_vertices)"
      ],
      "execution_count": 65,
      "outputs": [
        {
          "output_type": "stream",
          "text": [
            "8\n"
          ],
          "name": "stdout"
        }
      ]
    },
    {
      "cell_type": "markdown",
      "metadata": {
        "id": "n7Zha-2HAc_J",
        "colab_type": "text"
      },
      "source": [
        "## Modeling"
      ]
    },
    {
      "cell_type": "code",
      "metadata": {
        "id": "rPZ2uAQBArYO",
        "colab_type": "code",
        "colab": {}
      },
      "source": [
        "# Create model\n",
        "\n",
        "model = tf.keras.Sequential([\n",
        "    \n",
        "    tf.keras.layers.Flatten(input_shape=(num_vertices, 3)),\n",
        "    tf.keras.layers.Dense(64, activation='relu'),\n",
        "    tf.keras.layers.Dense(64, activation='relu'),\n",
        "    tf.keras.layers.Dense(7)\n",
        "    \n",
        "])"
      ],
      "execution_count": 0,
      "outputs": []
    },
    {
      "cell_type": "markdown",
      "metadata": {
        "id": "ebL1VkrYBQAl",
        "colab_type": "text"
      },
      "source": [
        "## Data Processing"
      ]
    },
    {
      "cell_type": "markdown",
      "metadata": {
        "id": "XJ3CXyyfBxCv",
        "colab_type": "text"
      },
      "source": [
        "In mathematics, the quaternions are a number system that extends the complex numbers. "
      ]
    },
    {
      "cell_type": "code",
      "metadata": {
        "id": "rBFTV69hAWyB",
        "colab_type": "code",
        "colab": {}
      },
      "source": [
        "def generate_training_data(num_samples):\n",
        "  \n",
        "  # random_angles.shape: (num_samples, 3)\n",
        "  random_angles = np.random.uniform(-np.pi, np.pi,\n",
        "                                   (num_samples, 3)).astype(np.float32)\n",
        "  \n",
        "  # random_quaternion.shape: (num_samples, 4)\n",
        "  random_quaternion = quaternion.from_euler(random_angles)\n",
        "  \n",
        "  # random_translation.shape: (num_samples, 3)\n",
        "  random_translation = np.random.uniform(-2.0, 2.0,\n",
        "                                        (num_samples, 3)).astype(np.float32)\n",
        "  \n",
        "  # data.shape: (num_samples, num_vertices, 3)\n",
        "  data = quaternion.rotate(vertices[tf.newaxis, :, :],\n",
        "                          random_quaternion[:, tf.newaxis, :]) + random_translation[:, tf.newaxis,:]\n",
        "\n",
        "  # target.shape: (num_samples, 4+3)\n",
        "  target = tf.concat((random_quaternion, random_translation), axis=-1)\n",
        "  \n",
        "  return np.array(data), np.array(target)\n",
        "  "
      ],
      "execution_count": 0,
      "outputs": []
    },
    {
      "cell_type": "code",
      "metadata": {
        "id": "u5il42vDBkIW",
        "colab_type": "code",
        "colab": {}
      },
      "source": [
        "NUM_SAMPLES = 10000\n",
        "\n",
        "# Generate data\n",
        "data, target = generate_training_data(NUM_SAMPLES)"
      ],
      "execution_count": 0,
      "outputs": []
    },
    {
      "cell_type": "markdown",
      "metadata": {
        "id": "PSJ_2-jnCwIf",
        "colab_type": "text"
      },
      "source": [
        "### Sanity check"
      ]
    },
    {
      "cell_type": "code",
      "metadata": {
        "id": "7PHZNRoaCmCV",
        "colab_type": "code",
        "outputId": "2acf6d68-d767-4161-a06d-8afe83604c79",
        "colab": {
          "base_uri": "https://localhost:8080/",
          "height": 51
        }
      },
      "source": [
        "print(data.shape)\n",
        "print(target.shape)"
      ],
      "execution_count": 69,
      "outputs": [
        {
          "output_type": "stream",
          "text": [
            "(10000, 8, 3)\n",
            "(10000, 7)\n"
          ],
          "name": "stdout"
        }
      ]
    },
    {
      "cell_type": "markdown",
      "metadata": {
        "id": "LCWBkZYYC6V7",
        "colab_type": "text"
      },
      "source": [
        "## Training"
      ]
    },
    {
      "cell_type": "markdown",
      "metadata": {
        "id": "fUGJZQ0lEJIp",
        "colab_type": "text"
      },
      "source": [
        "### Define pose estimation loss as loss function\n",
        "\n",
        "We define the\n",
        "pose estimation loss as the distance between the points sampled on the objects model in ground truth pose and corresponding points on the same model transformed by the\n",
        "predicted pose. See [paper](http://ai.stanford.edu/~yukez/papers/cvpr2019wang.pdf)."
      ]
    },
    {
      "cell_type": "code",
      "metadata": {
        "id": "guzO6sPTCt_X",
        "colab_type": "code",
        "colab": {}
      },
      "source": [
        "def pose_estimation_loss(y_true, y_pred):\n",
        "  \"\"\"\n",
        "  params: y_true: Ground truth\n",
        "  params: y_pred: Predicted value\n",
        "  \n",
        "  return: Scalar value of pose estimation loss\n",
        "  \"\"\"\n",
        "  \n",
        "  # y_true.shape: (batch, 7)\n",
        "  y_true_q, y_true_t = tf.split(y_true, (4,3), axis=-1)\n",
        "  \n",
        "  # y_pred.shape: (batch, 7)\n",
        "  y_pred_q, y_pred_t = tf.split(y_pred, (4, 3), axis=-1)\n",
        "  \n",
        "  # vertices.shape: (num_vertices, 3)\n",
        "  # corners.shape: (num_vertices, 1, 3)\n",
        "  corners = tf.expand_dims(vertices, axis=1)\n",
        "  \n",
        "  # transformed_corners.shape: (num_vertices, batch, 3)\n",
        "  # pad (standard broadcast) q and t shape with 1's \n",
        "  transformed_corners = quaternion.rotate(corners, y_pred_q) + y_pred_t\n",
        "  \n",
        "  # recovered_corners.shape: (num_vertices, batch, 3)\n",
        "  recovered_corners = quaternion.rotate(transformed_corners - y_true_t,\n",
        "                                        quaternion.inverse(y_true_q))\n",
        "  \n",
        "  # vertex_error.shape:(num_vertices, batch)\n",
        "  vertex_error = tf.reduce_sum((recovered_corners - corners)**2, axis=-1)\n",
        "  \n",
        "  return tf.reduce_mean(vertex_error)"
      ],
      "execution_count": 0,
      "outputs": []
    },
    {
      "cell_type": "code",
      "metadata": {
        "id": "kSeuMY9_EzhG",
        "colab_type": "code",
        "colab": {}
      },
      "source": [
        "model.compile(\n",
        "    loss=pose_estimation_loss,\n",
        "    optimizer='adam'\n",
        ")"
      ],
      "execution_count": 0,
      "outputs": []
    },
    {
      "cell_type": "markdown",
      "metadata": {
        "id": "ConPXnflGTKE",
        "colab_type": "text"
      },
      "source": [
        "### Summary of model"
      ]
    },
    {
      "cell_type": "code",
      "metadata": {
        "id": "q439GPWHF2OE",
        "colab_type": "code",
        "outputId": "bd87f871-006e-4a3c-b429-0a784901accc",
        "colab": {
          "base_uri": "https://localhost:8080/",
          "height": 289
        }
      },
      "source": [
        "model.summary()"
      ],
      "execution_count": 72,
      "outputs": [
        {
          "output_type": "stream",
          "text": [
            "Model: \"sequential_3\"\n",
            "_________________________________________________________________\n",
            "Layer (type)                 Output Shape              Param #   \n",
            "=================================================================\n",
            "flatten_3 (Flatten)          (None, 24)                0         \n",
            "_________________________________________________________________\n",
            "dense_9 (Dense)              (None, 64)                1600      \n",
            "_________________________________________________________________\n",
            "dense_10 (Dense)             (None, 64)                4160      \n",
            "_________________________________________________________________\n",
            "dense_11 (Dense)             (None, 7)                 455       \n",
            "=================================================================\n",
            "Total params: 6,215\n",
            "Trainable params: 6,215\n",
            "Non-trainable params: 0\n",
            "_________________________________________________________________\n"
          ],
          "name": "stdout"
        }
      ]
    },
    {
      "cell_type": "markdown",
      "metadata": {
        "id": "2nyjssxyG9bm",
        "colab_type": "text"
      },
      "source": [
        "### Callbacks"
      ]
    },
    {
      "cell_type": "code",
      "metadata": {
        "id": "5yBp2K9OGWPH",
        "colab_type": "code",
        "colab": {}
      },
      "source": [
        "class ProgressLog(tf.keras.callbacks.Callback):\n",
        "  \n",
        "  def __init__(self, num_epochs, step=5):\n",
        "    self.num_epochs = num_epochs\n",
        "    self.current_epoch = 0\n",
        "    self.step = step\n",
        "    self.last_percentage_report = 0\n",
        "    \n",
        "  def on_epoch_end(self, batch, logs={}):\n",
        "    self.current_epoch += 1\n",
        "    training_percentage = int(self.current_epoch / self.num_epochs * 100)\n",
        "    \n",
        "    if training_percentage - self.last_percentage_report >= self.step:\n",
        "      print('Training ' + str(\n",
        "          training_percentage) + '% complete. Training loss: ' + str(\n",
        "              logs.get('loss')) + ' | Validation loss: ' + str(\n",
        "                  logs.get('val_loss')))\n",
        "      self.last_percentage_report = training_percentage"
      ],
      "execution_count": 0,
      "outputs": []
    },
    {
      "cell_type": "code",
      "metadata": {
        "id": "g-gHfS4qHi4M",
        "colab_type": "code",
        "colab": {}
      },
      "source": [
        "reduce_lr_callback = keras.callbacks.ReduceLROnPlateau(\n",
        "    monitor='val_loss',\n",
        "    factor=0.5,\n",
        "    patience=10,\n",
        "    verbose=1,\n",
        "    mode='auto',\n",
        "    min_delta=0.0001,\n",
        "    cooldown=0,\n",
        "    min_lr=0\n",
        ")"
      ],
      "execution_count": 0,
      "outputs": []
    },
    {
      "cell_type": "markdown",
      "metadata": {
        "id": "4iXHwCIYH5qd",
        "colab_type": "text"
      },
      "source": [
        "### Start training!"
      ]
    },
    {
      "cell_type": "code",
      "metadata": {
        "id": "xeY34KV1H1YL",
        "colab_type": "code",
        "colab": {}
      },
      "source": [
        "EPOCHS = 100\n",
        "pl = ProgressLog(EPOCHS)"
      ],
      "execution_count": 0,
      "outputs": []
    },
    {
      "cell_type": "code",
      "metadata": {
        "id": "YIOZK6TMIAGc",
        "colab_type": "code",
        "outputId": "51b02a19-c848-4f4b-c5d5-017322d4181d",
        "colab": {
          "base_uri": "https://localhost:8080/",
          "height": 425
        }
      },
      "source": [
        "history = model.fit(\n",
        "    data,\n",
        "    target,\n",
        "    epochs=EPOCHS,\n",
        "    validation_split=0.2,\n",
        "    verbose=0,\n",
        "    batch_size=32,\n",
        "    callbacks=[pl,reduce_lr_callback]\n",
        ")"
      ],
      "execution_count": 76,
      "outputs": [
        {
          "output_type": "stream",
          "text": [
            "Training 5% complete. Training loss: 0.43788326293230057 | Validation loss: 0.42395756888389585\n",
            "Training 10% complete. Training loss: 0.1960673481822014 | Validation loss: 0.2129460114836693\n",
            "Training 15% complete. Training loss: 0.12867627742886542 | Validation loss: 0.1366236464381218\n",
            "Training 20% complete. Training loss: 0.09855241659283638 | Validation loss: 0.10822369828820229\n",
            "Training 25% complete. Training loss: 0.08085919532179832 | Validation loss: 0.0944219451546669\n",
            "Training 30% complete. Training loss: 0.07397531156986951 | Validation loss: 0.08636261340975761\n",
            "Training 35% complete. Training loss: 0.06356122767180204 | Validation loss: 0.07202836653590203\n",
            "Training 40% complete. Training loss: 0.056790093805640936 | Validation loss: 0.06977062064409256\n",
            "Training 45% complete. Training loss: 0.06093365188315511 | Validation loss: 0.06968293921649456\n",
            "Training 50% complete. Training loss: 0.05080168460309505 | Validation loss: 0.07323352986574173\n",
            "Training 55% complete. Training loss: 0.05261158659309149 | Validation loss: 0.06439266516268254\n",
            "Training 60% complete. Training loss: 0.052589881617575884 | Validation loss: 0.0625759405195713\n",
            "Training 65% complete. Training loss: 0.04226413635164499 | Validation loss: 0.05911554208397865\n",
            "Training 70% complete. Training loss: 0.04714319859072566 | Validation loss: 0.05147148355841637\n",
            "Training 75% complete. Training loss: 0.04487152310460806 | Validation loss: 0.05591802701354027\n",
            "Training 80% complete. Training loss: 0.04064961051940918 | Validation loss: 0.0600224122107029\n",
            "\n",
            "Epoch 00083: ReduceLROnPlateau reducing learning rate to 0.0005000000237487257.\n",
            "Training 85% complete. Training loss: 0.02451630507223308 | Validation loss: 0.04428573307394981\n",
            "Training 90% complete. Training loss: 0.022283182874321936 | Validation loss: 0.04753077022731304\n",
            "Training 95% complete. Training loss: 0.021561985790729522 | Validation loss: 0.050922936283051966\n",
            "\n",
            "Epoch 00095: ReduceLROnPlateau reducing learning rate to 0.0002500000118743628.\n",
            "Training 100% complete. Training loss: 0.013790713624097407 | Validation loss: 0.04661747279763222\n"
          ],
          "name": "stdout"
        }
      ]
    },
    {
      "cell_type": "markdown",
      "metadata": {
        "id": "OjL6VnobI6OT",
        "colab_type": "text"
      },
      "source": [
        "### Results"
      ]
    },
    {
      "cell_type": "code",
      "metadata": {
        "id": "5q_o0o_sIK3W",
        "colab_type": "code",
        "outputId": "e8a75bc5-b052-412a-f851-5aaadf62a8e7",
        "colab": {
          "base_uri": "https://localhost:8080/",
          "height": 283
        }
      },
      "source": [
        "plt.plot(history.history['loss'])\n",
        "plt.plot(history.history['val_loss'])\n",
        "plt.ylim([0,1])\n",
        "plt.legend(['loss', 'val_loss'], loc='upper left')\n",
        "plt.xlabel('Train epoch')\n",
        "_ = plt.ylabel('Error [Mean Square Distance]')\n"
      ],
      "execution_count": 77,
      "outputs": [
        {
          "output_type": "display_data",
          "data": {
            "image/png": "[encoded data removed]",
            "text/plain": [
              "<Figure size 432x288 with 1 Axes>"
            ]
          },
          "metadata": {
            "tags": []
          }
        }
      ]
    },
    {
      "cell_type": "markdown",
      "metadata": {
        "id": "6SV47ChWKetN",
        "colab_type": "text"
      },
      "source": [
        "## Applying Model"
      ]
    },
    {
      "cell_type": "markdown",
      "metadata": {
        "id": "zk2C8LB1KnAk",
        "colab_type": "text"
      },
      "source": [
        "### Applying a quaternion and a translation"
      ]
    },
    {
      "cell_type": "code",
      "metadata": {
        "id": "x2P8FxSLKsqd",
        "colab_type": "code",
        "colab": {}
      },
      "source": [
        "# Defines the loss function to be optimized.\n",
        "def transform_points(target_points, quaternion_variable, translation_variable):\n",
        "  return quaternion.rotate(target_points,\n",
        "                           quaternion_variable) + translation_variable"
      ],
      "execution_count": 0,
      "outputs": []
    },
    {
      "cell_type": "code",
      "metadata": {
        "id": "2v-WHFCAJyOw",
        "colab_type": "code",
        "colab": {}
      },
      "source": [
        "class Viewer(object):\n",
        "\n",
        "  def __init__(self, my_vertices):\n",
        "    my_vertices = np.asarray(my_vertices)\n",
        "    context = threejs_visualization.build_context()\n",
        "    light1 = context.THREE.PointLight.new_object(0x808080)\n",
        "    light1.position.set(10., 10., 10.)\n",
        "    light2 = context.THREE.AmbientLight.new_object(0x808080)\n",
        "    lights = (light1, light2)\n",
        "\n",
        "    material = context.THREE.MeshLambertMaterial.new_object({\n",
        "        'color': 0xfffacd,\n",
        "    })\n",
        "\n",
        "    material_deformed = context.THREE.MeshLambertMaterial.new_object({\n",
        "        'color': 0xf0fff0,\n",
        "    })\n",
        "\n",
        "    camera = threejs_visualization.build_perspective_camera(\n",
        "        field_of_view=30, position=(10.0, 10.0, 10.0))\n",
        "\n",
        "    mesh = {'vertices': vertices, 'faces': faces, 'material': material}\n",
        "    transformed_mesh = {\n",
        "        'vertices': my_vertices,\n",
        "        'faces': faces,\n",
        "        'material': material_deformed\n",
        "    }\n",
        "    geometries = threejs_visualization.triangular_mesh_renderer(\n",
        "        [mesh, transformed_mesh],\n",
        "        lights=lights,\n",
        "        camera=camera,\n",
        "        width=400,\n",
        "        height=400)\n",
        "\n",
        "    self.geometries = geometries\n",
        "\n",
        "  def update(self, transformed_points):\n",
        "    self.geometries[1].getAttribute('position').copyArray(\n",
        "        transformed_points.numpy().ravel().tolist())\n",
        "    self.geometries[1].getAttribute('position').needsUpdate = True"
      ],
      "execution_count": 0,
      "outputs": []
    },
    {
      "cell_type": "code",
      "metadata": {
        "id": "80PDYcLpJ7UQ",
        "colab_type": "code",
        "colab": {}
      },
      "source": [
        "def get_random_transform():\n",
        "  # Forms a random translation\n",
        "  with tf.name_scope('translation_variable'):\n",
        "    random_translation = tf.Variable(\n",
        "        np.random.uniform(-2.0, 2.0, (3,)), dtype=tf.float32)\n",
        "\n",
        "  # Forms a random quaternion\n",
        "  hi = np.pi\n",
        "  lo = -hi\n",
        "  random_angles = np.random.uniform(lo, hi, (3,)).astype(np.float32)\n",
        "  with tf.name_scope('rotation_variable'):\n",
        "    random_quaternion = tf.Variable(quaternion.from_euler(random_angles))\n",
        "\n",
        "  return random_quaternion, random_translation"
      ],
      "execution_count": 0,
      "outputs": []
    },
    {
      "cell_type": "markdown",
      "metadata": {
        "id": "GTJ0Qt5SK58q",
        "colab_type": "text"
      },
      "source": [
        "### View initial orientation"
      ]
    },
    {
      "cell_type": "code",
      "metadata": {
        "id": "2yzSLulhJQSo",
        "colab_type": "code",
        "outputId": "8f7e1cf5-463f-4c55-b68c-4314595b841d",
        "colab": {
          "base_uri": "https://localhost:8080/",
          "height": 421
        }
      },
      "source": [
        "random_quaternion, random_translation = get_random_transform()\n",
        "\n",
        "initial_orientation = transform_points(vertices, random_quaternion,\n",
        "                                       random_translation).numpy()\n",
        "viewer = Viewer(initial_orientation)"
      ],
      "execution_count": 86,
      "outputs": [
        {
          "output_type": "display_data",
          "data": {
            "text/html": [
              "<script src='https://www.gstatic.com/external_hosted/threejs-r98/three.min.js'></script>"
            ],
            "text/plain": [
              "<IPython.core.display.HTML object>"
            ]
          },
          "metadata": {
            "tags": []
          }
        },
        {
          "output_type": "display_data",
          "data": {
            "text/html": [
              "<script src='https://www.gstatic.com/external_hosted/threejs-r98/examples/js/controls/OrbitControls.js'></script>"
            ],
            "text/plain": [
              "<IPython.core.display.HTML object>"
            ]
          },
          "metadata": {
            "tags": []
          }
        },
        {
          "output_type": "display_data",
          "data": {
            "application/javascript": [
              "window[\"68d1d660-d15e-11e9-8d65-0242ac1c0002\"] = new THREE.PointLight(8421504);\n",
              "//# sourceURL=js_700e54fed2"
            ],
            "text/plain": [
              "<IPython.core.display.Javascript object>"
            ]
          },
          "metadata": {
            "tags": []
          }
        },
        {
          "output_type": "display_data",
          "data": {
            "application/javascript": [
              "window[\"68d21d32-d15e-11e9-8d65-0242ac1c0002\"] = window[\"68d1d660-d15e-11e9-8d65-0242ac1c0002\"].position.set(10.0, 10.0, 10.0);\n",
              "//# sourceURL=js_d295a10c96"
            ],
            "text/plain": [
              "<IPython.core.display.Javascript object>"
            ]
          },
          "metadata": {
            "tags": []
          }
        },
        {
          "output_type": "display_data",
          "data": {
            "application/javascript": [
              "window[\"68d264ae-d15e-11e9-8d65-0242ac1c0002\"] = new THREE.AmbientLight(8421504);\n",
              "//# sourceURL=js_3188ae2b26"
            ],
            "text/plain": [
              "<IPython.core.display.Javascript object>"
            ]
          },
          "metadata": {
            "tags": []
          }
        },
        {
          "output_type": "display_data",
          "data": {
            "application/javascript": [
              "window[\"68d2b6fc-d15e-11e9-8d65-0242ac1c0002\"] = new THREE.MeshLambertMaterial({\"color\": 16775885});\n",
              "//# sourceURL=js_163b407a3d"
            ],
            "text/plain": [
              "<IPython.core.display.Javascript object>"
            ]
          },
          "metadata": {
            "tags": []
          }
        },
        {
          "output_type": "display_data",
          "data": {
            "application/javascript": [
              "window[\"68d30594-d15e-11e9-8d65-0242ac1c0002\"] = new THREE.MeshLambertMaterial({\"color\": 15794160});\n",
              "//# sourceURL=js_ac7c8124ba"
            ],
            "text/plain": [
              "<IPython.core.display.Javascript object>"
            ]
          },
          "metadata": {
            "tags": []
          }
        },
        {
          "output_type": "display_data",
          "data": {
            "text/html": [
              "<script src='https://www.gstatic.com/external_hosted/threejs-r98/three.min.js'></script>"
            ],
            "text/plain": [
              "<IPython.core.display.HTML object>"
            ]
          },
          "metadata": {
            "tags": []
          }
        },
        {
          "output_type": "display_data",
          "data": {
            "text/html": [
              "<script src='https://www.gstatic.com/external_hosted/threejs-r98/examples/js/controls/OrbitControls.js'></script>"
            ],
            "text/plain": [
              "<IPython.core.display.HTML object>"
            ]
          },
          "metadata": {
            "tags": []
          }
        },
        {
          "output_type": "display_data",
          "data": {
            "application/javascript": [
              "window[\"68d3db54-d15e-11e9-8d65-0242ac1c0002\"] = new THREE.PerspectiveCamera(30, 1.0, 0.01, 1000.0);\n",
              "//# sourceURL=js_80dd186955"
            ],
            "text/plain": [
              "<IPython.core.display.Javascript object>"
            ]
          },
          "metadata": {
            "tags": []
          }
        },
        {
          "output_type": "display_data",
          "data": {
            "application/javascript": [
              "window[\"68d43360-d15e-11e9-8d65-0242ac1c0002\"] = window[\"68d3db54-d15e-11e9-8d65-0242ac1c0002\"].position.set(10.0, 10.0, 10.0);\n",
              "//# sourceURL=js_a04ed58541"
            ],
            "text/plain": [
              "<IPython.core.display.Javascript object>"
            ]
          },
          "metadata": {
            "tags": []
          }
        },
        {
          "output_type": "display_data",
          "data": {
            "application/javascript": [
              "window[\"68d48040-d15e-11e9-8d65-0242ac1c0002\"] = new THREE.OrbitControls(window[\"68d3db54-d15e-11e9-8d65-0242ac1c0002\"]);\n",
              "//# sourceURL=js_eb61c132f6"
            ],
            "text/plain": [
              "<IPython.core.display.Javascript object>"
            ]
          },
          "metadata": {
            "tags": []
          }
        },
        {
          "output_type": "display_data",
          "data": {
            "application/javascript": [
              "window[\"68d48040-d15e-11e9-8d65-0242ac1c0002\"].enableZoom = false;\n",
              "//# sourceURL=js_f5fb1e0721"
            ],
            "text/plain": [
              "<IPython.core.display.Javascript object>"
            ]
          },
          "metadata": {
            "tags": []
          }
        },
        {
          "output_type": "display_data",
          "data": {
            "text/html": [
              "<script src='https://www.gstatic.com/external_hosted/threejs-r98/three.min.js'></script>"
            ],
            "text/plain": [
              "<IPython.core.display.HTML object>"
            ]
          },
          "metadata": {
            "tags": []
          }
        },
        {
          "output_type": "display_data",
          "data": {
            "text/html": [
              "<script src='https://www.gstatic.com/external_hosted/threejs-r98/examples/js/controls/OrbitControls.js'></script>"
            ],
            "text/plain": [
              "<IPython.core.display.HTML object>"
            ]
          },
          "metadata": {
            "tags": []
          }
        },
        {
          "output_type": "display_data",
          "data": {
            "application/javascript": [
              "window[\"68d5a448-d15e-11e9-8d65-0242ac1c0002\"] = new THREE.WebGLRenderer({\"antialias\": true});\n",
              "//# sourceURL=js_ad539c6c93"
            ],
            "text/plain": [
              "<IPython.core.display.Javascript object>"
            ]
          },
          "metadata": {
            "tags": []
          }
        },
        {
          "output_type": "display_data",
          "data": {
            "application/javascript": [
              "window[\"68d5f196-d15e-11e9-8d65-0242ac1c0002\"] = window[\"68d5a448-d15e-11e9-8d65-0242ac1c0002\"].setSize(400, 400);\n",
              "//# sourceURL=js_6ed97e4c50"
            ],
            "text/plain": [
              "<IPython.core.display.Javascript object>"
            ]
          },
          "metadata": {
            "tags": []
          }
        },
        {
          "output_type": "display_data",
          "data": {
            "application/javascript": [
              "window[\"68d6385e-d15e-11e9-8d65-0242ac1c0002\"] = new THREE.Color(\"rgb(0, 0, 0)\");\n",
              "//# sourceURL=js_fbd7ff6b35"
            ],
            "text/plain": [
              "<IPython.core.display.Javascript object>"
            ]
          },
          "metadata": {
            "tags": []
          }
        },
        {
          "output_type": "display_data",
          "data": {
            "application/javascript": [
              "window[\"68d67df0-d15e-11e9-8d65-0242ac1c0002\"] = window[\"68d5a448-d15e-11e9-8d65-0242ac1c0002\"].setClearColor(window[\"68d6385e-d15e-11e9-8d65-0242ac1c0002\"]);\n",
              "//# sourceURL=js_cea09f4b72"
            ],
            "text/plain": [
              "<IPython.core.display.Javascript object>"
            ]
          },
          "metadata": {
            "tags": []
          }
        },
        {
          "output_type": "display_data",
          "data": {
            "application/javascript": [
              "window[\"68d6cac6-d15e-11e9-8d65-0242ac1c0002\"] = window[\"68d5a448-d15e-11e9-8d65-0242ac1c0002\"].clear();\n",
              "//# sourceURL=js_1f9e91dfe3"
            ],
            "text/plain": [
              "<IPython.core.display.Javascript object>"
            ]
          },
          "metadata": {
            "tags": []
          }
        },
        {
          "output_type": "display_data",
          "data": {
            "application/javascript": [
              "window[\"68d71e7c-d15e-11e9-8d65-0242ac1c0002\"] = document.body.appendChild(window[\"68d5a448-d15e-11e9-8d65-0242ac1c0002\"].domElement);\n",
              "//# sourceURL=js_6796112805"
            ],
            "text/plain": [
              "<IPython.core.display.Javascript object>"
            ]
          },
          "metadata": {
            "tags": []
          }
        },
        {
          "output_type": "display_data",
          "data": {
            "application/javascript": [
              "window[\"68d78da8-d15e-11e9-8d65-0242ac1c0002\"] = new THREE.Scene();\n",
              "//# sourceURL=js_991bf0ccc0"
            ],
            "text/plain": [
              "<IPython.core.display.Javascript object>"
            ]
          },
          "metadata": {
            "tags": []
          }
        },
        {
          "output_type": "display_data",
          "data": {
            "application/javascript": [
              "window[\"68d7df1a-d15e-11e9-8d65-0242ac1c0002\"] = window[\"68d78da8-d15e-11e9-8d65-0242ac1c0002\"].add(window[\"68d1d660-d15e-11e9-8d65-0242ac1c0002\"]);\n",
              "//# sourceURL=js_d26d96815f"
            ],
            "text/plain": [
              "<IPython.core.display.Javascript object>"
            ]
          },
          "metadata": {
            "tags": []
          }
        },
        {
          "output_type": "display_data",
          "data": {
            "application/javascript": [
              "window[\"68d831fe-d15e-11e9-8d65-0242ac1c0002\"] = window[\"68d78da8-d15e-11e9-8d65-0242ac1c0002\"].add(window[\"68d264ae-d15e-11e9-8d65-0242ac1c0002\"]);\n",
              "//# sourceURL=js_97e89d6a22"
            ],
            "text/plain": [
              "<IPython.core.display.Javascript object>"
            ]
          },
          "metadata": {
            "tags": []
          }
        },
        {
          "output_type": "display_data",
          "data": {
            "application/javascript": [
              "window[\"68d87c22-d15e-11e9-8d65-0242ac1c0002\"] = new THREE.MeshLambertMaterial({\"color\": 8421504});\n",
              "//# sourceURL=js_e0f0fb1d50"
            ],
            "text/plain": [
              "<IPython.core.display.Javascript object>"
            ]
          },
          "metadata": {
            "tags": []
          }
        },
        {
          "output_type": "display_data",
          "data": {
            "application/javascript": [
              "window[\"68d87c22-d15e-11e9-8d65-0242ac1c0002\"][\"vertexColors\"] = THREE.NoColors;\n",
              "//# sourceURL=js_63a4160f33"
            ],
            "text/plain": [
              "<IPython.core.display.Javascript object>"
            ]
          },
          "metadata": {
            "tags": []
          }
        },
        {
          "output_type": "display_data",
          "data": {
            "application/javascript": [
              "window[\"68d911d2-d15e-11e9-8d65-0242ac1c0002\"] = new Float32Array([-1.0, -1.0, -1.0, 1.0, -1.0, -1.0, 1.0, 1.0, -1.0, -1.0, 1.0, -1.0, -1.0, -1.0, 1.0, 1.0, -1.0, 1.0, 1.0, 1.0, 1.0, -1.0, 1.0, 1.0]);\n",
              "//# sourceURL=js_9da8ccafdd"
            ],
            "text/plain": [
              "<IPython.core.display.Javascript object>"
            ]
          },
          "metadata": {
            "tags": []
          }
        },
        {
          "output_type": "display_data",
          "data": {
            "application/javascript": [
              "window[\"68d9607e-d15e-11e9-8d65-0242ac1c0002\"] = new Uint32Array([0, 3, 1, 1, 3, 2, 0, 4, 7, 0, 7, 3, 4, 5, 6, 4, 6, 7, 5, 1, 2, 5, 2, 6, 2, 3, 6, 3, 7, 6, 0, 1, 5, 0, 5, 4]);\n",
              "//# sourceURL=js_ff5764aaed"
            ],
            "text/plain": [
              "<IPython.core.display.Javascript object>"
            ]
          },
          "metadata": {
            "tags": []
          }
        },
        {
          "output_type": "display_data",
          "data": {
            "application/javascript": [
              "window[\"68d9a9f8-d15e-11e9-8d65-0242ac1c0002\"] = new THREE.BufferGeometry();\n",
              "//# sourceURL=js_4ec5c28493"
            ],
            "text/plain": [
              "<IPython.core.display.Javascript object>"
            ]
          },
          "metadata": {
            "tags": []
          }
        },
        {
          "output_type": "display_data",
          "data": {
            "application/javascript": [
              "window[\"68da2112-d15e-11e9-8d65-0242ac1c0002\"] = new THREE.BufferAttribute(window[\"68d911d2-d15e-11e9-8d65-0242ac1c0002\"], 3);\n",
              "//# sourceURL=js_70ae671ba7"
            ],
            "text/plain": [
              "<IPython.core.display.Javascript object>"
            ]
          },
          "metadata": {
            "tags": []
          }
        },
        {
          "output_type": "display_data",
          "data": {
            "application/javascript": [
              "window[\"68da71da-d15e-11e9-8d65-0242ac1c0002\"] = window[\"68d9a9f8-d15e-11e9-8d65-0242ac1c0002\"].addAttribute(\"position\", window[\"68da2112-d15e-11e9-8d65-0242ac1c0002\"]);\n",
              "//# sourceURL=js_55036ef9fa"
            ],
            "text/plain": [
              "<IPython.core.display.Javascript object>"
            ]
          },
          "metadata": {
            "tags": []
          }
        },
        {
          "output_type": "display_data",
          "data": {
            "application/javascript": [
              "window[\"68dac608-d15e-11e9-8d65-0242ac1c0002\"] = new THREE.BufferAttribute(window[\"68d9607e-d15e-11e9-8d65-0242ac1c0002\"], 1);\n",
              "//# sourceURL=js_91b45752a2"
            ],
            "text/plain": [
              "<IPython.core.display.Javascript object>"
            ]
          },
          "metadata": {
            "tags": []
          }
        },
        {
          "output_type": "display_data",
          "data": {
            "application/javascript": [
              "window[\"68db17f2-d15e-11e9-8d65-0242ac1c0002\"] = window[\"68d9a9f8-d15e-11e9-8d65-0242ac1c0002\"].setIndex(window[\"68dac608-d15e-11e9-8d65-0242ac1c0002\"]);\n",
              "//# sourceURL=js_cb82d72289"
            ],
            "text/plain": [
              "<IPython.core.display.Javascript object>"
            ]
          },
          "metadata": {
            "tags": []
          }
        },
        {
          "output_type": "display_data",
          "data": {
            "application/javascript": [
              "window[\"68db628e-d15e-11e9-8d65-0242ac1c0002\"] = window[\"68d9a9f8-d15e-11e9-8d65-0242ac1c0002\"].computeVertexNormals();\n",
              "//# sourceURL=js_fce6f681f7"
            ],
            "text/plain": [
              "<IPython.core.display.Javascript object>"
            ]
          },
          "metadata": {
            "tags": []
          }
        },
        {
          "output_type": "display_data",
          "data": {
            "application/javascript": [
              "window[\"68dbb7e8-d15e-11e9-8d65-0242ac1c0002\"] = new THREE.Mesh(window[\"68d9a9f8-d15e-11e9-8d65-0242ac1c0002\"], window[\"68d2b6fc-d15e-11e9-8d65-0242ac1c0002\"]);\n",
              "//# sourceURL=js_32899e1f04"
            ],
            "text/plain": [
              "<IPython.core.display.Javascript object>"
            ]
          },
          "metadata": {
            "tags": []
          }
        },
        {
          "output_type": "display_data",
          "data": {
            "application/javascript": [
              "window[\"68dc0040-d15e-11e9-8d65-0242ac1c0002\"] = window[\"68d78da8-d15e-11e9-8d65-0242ac1c0002\"].add(window[\"68dbb7e8-d15e-11e9-8d65-0242ac1c0002\"]);\n",
              "//# sourceURL=js_ca277d8eb2"
            ],
            "text/plain": [
              "<IPython.core.display.Javascript object>"
            ]
          },
          "metadata": {
            "tags": []
          }
        },
        {
          "output_type": "display_data",
          "data": {
            "application/javascript": [
              "window[\"68d87c22-d15e-11e9-8d65-0242ac1c0002\"][\"vertexColors\"] = THREE.NoColors;\n",
              "//# sourceURL=js_63a4160f33"
            ],
            "text/plain": [
              "<IPython.core.display.Javascript object>"
            ]
          },
          "metadata": {
            "tags": []
          }
        },
        {
          "output_type": "display_data",
          "data": {
            "application/javascript": [
              "window[\"68dc9bfe-d15e-11e9-8d65-0242ac1c0002\"] = new Float32Array([-0.7366894483566284, 1.3804137706756592, 0.5345038175582886, -0.7231161594390869, 2.114501476287842, -1.3258541822433472, -1.15879225730896, 0.29986572265625, -2.045078754425049, -1.172365427017212, -0.4342219829559326, -0.18472081422805786, -2.688612222671509, 1.7905514240264893, 0.682100772857666, -2.675039052963257, 2.524639129638672, -1.1782572269439697, -3.110714912414551, 0.7100033760070801, -1.8974817991256714, -3.124288320541382, -0.02408421039581299, -0.037123799324035645]);\n",
              "//# sourceURL=js_4e55e19dea"
            ],
            "text/plain": [
              "<IPython.core.display.Javascript object>"
            ]
          },
          "metadata": {
            "tags": []
          }
        },
        {
          "output_type": "display_data",
          "data": {
            "application/javascript": [
              "window[\"68dcf39c-d15e-11e9-8d65-0242ac1c0002\"] = new Uint32Array([0, 3, 1, 1, 3, 2, 0, 4, 7, 0, 7, 3, 4, 5, 6, 4, 6, 7, 5, 1, 2, 5, 2, 6, 2, 3, 6, 3, 7, 6, 0, 1, 5, 0, 5, 4]);\n",
              "//# sourceURL=js_1858a6ebde"
            ],
            "text/plain": [
              "<IPython.core.display.Javascript object>"
            ]
          },
          "metadata": {
            "tags": []
          }
        },
        {
          "output_type": "display_data",
          "data": {
            "application/javascript": [
              "window[\"68dd43b0-d15e-11e9-8d65-0242ac1c0002\"] = new THREE.BufferGeometry();\n",
              "//# sourceURL=js_f295c8ab9b"
            ],
            "text/plain": [
              "<IPython.core.display.Javascript object>"
            ]
          },
          "metadata": {
            "tags": []
          }
        },
        {
          "output_type": "display_data",
          "data": {
            "application/javascript": [
              "window[\"68dd98b0-d15e-11e9-8d65-0242ac1c0002\"] = new THREE.BufferAttribute(window[\"68dc9bfe-d15e-11e9-8d65-0242ac1c0002\"], 3);\n",
              "//# sourceURL=js_ee5872e812"
            ],
            "text/plain": [
              "<IPython.core.display.Javascript object>"
            ]
          },
          "metadata": {
            "tags": []
          }
        },
        {
          "output_type": "display_data",
          "data": {
            "application/javascript": [
              "window[\"68ddf1b6-d15e-11e9-8d65-0242ac1c0002\"] = window[\"68dd43b0-d15e-11e9-8d65-0242ac1c0002\"].addAttribute(\"position\", window[\"68dd98b0-d15e-11e9-8d65-0242ac1c0002\"]);\n",
              "//# sourceURL=js_79a5328e66"
            ],
            "text/plain": [
              "<IPython.core.display.Javascript object>"
            ]
          },
          "metadata": {
            "tags": []
          }
        },
        {
          "output_type": "display_data",
          "data": {
            "application/javascript": [
              "window[\"68de433c-d15e-11e9-8d65-0242ac1c0002\"] = new THREE.BufferAttribute(window[\"68dcf39c-d15e-11e9-8d65-0242ac1c0002\"], 1);\n",
              "//# sourceURL=js_8937645699"
            ],
            "text/plain": [
              "<IPython.core.display.Javascript object>"
            ]
          },
          "metadata": {
            "tags": []
          }
        },
        {
          "output_type": "display_data",
          "data": {
            "application/javascript": [
              "window[\"68de8fe0-d15e-11e9-8d65-0242ac1c0002\"] = window[\"68dd43b0-d15e-11e9-8d65-0242ac1c0002\"].setIndex(window[\"68de433c-d15e-11e9-8d65-0242ac1c0002\"]);\n",
              "//# sourceURL=js_7e5ea6195d"
            ],
            "text/plain": [
              "<IPython.core.display.Javascript object>"
            ]
          },
          "metadata": {
            "tags": []
          }
        },
        {
          "output_type": "display_data",
          "data": {
            "application/javascript": [
              "window[\"68dee512-d15e-11e9-8d65-0242ac1c0002\"] = window[\"68dd43b0-d15e-11e9-8d65-0242ac1c0002\"].computeVertexNormals();\n",
              "//# sourceURL=js_a7fad05a36"
            ],
            "text/plain": [
              "<IPython.core.display.Javascript object>"
            ]
          },
          "metadata": {
            "tags": []
          }
        },
        {
          "output_type": "display_data",
          "data": {
            "application/javascript": [
              "window[\"68df4868-d15e-11e9-8d65-0242ac1c0002\"] = new THREE.Mesh(window[\"68dd43b0-d15e-11e9-8d65-0242ac1c0002\"], window[\"68d30594-d15e-11e9-8d65-0242ac1c0002\"]);\n",
              "//# sourceURL=js_a7ac00ac31"
            ],
            "text/plain": [
              "<IPython.core.display.Javascript object>"
            ]
          },
          "metadata": {
            "tags": []
          }
        },
        {
          "output_type": "display_data",
          "data": {
            "application/javascript": [
              "window[\"68df9ec6-d15e-11e9-8d65-0242ac1c0002\"] = window[\"68d78da8-d15e-11e9-8d65-0242ac1c0002\"].add(window[\"68df4868-d15e-11e9-8d65-0242ac1c0002\"]);\n",
              "//# sourceURL=js_0ac7acec08"
            ],
            "text/plain": [
              "<IPython.core.display.Javascript object>"
            ]
          },
          "metadata": {
            "tags": []
          }
        }
      ]
    },
    {
      "cell_type": "markdown",
      "metadata": {
        "id": "xks68pH9K9mV",
        "colab_type": "text"
      },
      "source": [
        "### View predicted orientation"
      ]
    },
    {
      "cell_type": "code",
      "metadata": {
        "id": "q3DlmyK6Kh4D",
        "colab_type": "code",
        "outputId": "8d7e29a6-2e62-44e7-d376-f4a733c8b9b0",
        "colab": {
          "base_uri": "https://localhost:8080/",
          "height": 421
        }
      },
      "source": [
        "predicted_transformation = model.predict(initial_orientation[tf.newaxis, :, :])\n",
        "\n",
        "predicted_inverse_q = quaternion.inverse(predicted_transformation[0, 0:4])\n",
        "predicted_inverse_t = -predicted_transformation[0, 4:]\n",
        "\n",
        "predicted_aligned = quaternion.rotate(initial_orientation + predicted_inverse_t, predicted_inverse_q)\n",
        "\n",
        "viewer = Viewer(predicted_aligned)"
      ],
      "execution_count": 82,
      "outputs": [
        {
          "output_type": "display_data",
          "data": {
            "text/html": [
              "<script src='https://www.gstatic.com/external_hosted/threejs-r98/three.min.js'></script>"
            ],
            "text/plain": [
              "<IPython.core.display.HTML object>"
            ]
          },
          "metadata": {
            "tags": []
          }
        },
        {
          "output_type": "display_data",
          "data": {
            "text/html": [
              "<script src='https://www.gstatic.com/external_hosted/threejs-r98/examples/js/controls/OrbitControls.js'></script>"
            ],
            "text/plain": [
              "<IPython.core.display.HTML object>"
            ]
          },
          "metadata": {
            "tags": []
          }
        },
        {
          "output_type": "display_data",
          "data": {
            "application/javascript": [
              "window[\"36d828a8-d15e-11e9-8d65-0242ac1c0002\"] = new THREE.PointLight(8421504);\n",
              "//# sourceURL=js_0d5a06fe3e"
            ],
            "text/plain": [
              "<IPython.core.display.Javascript object>"
            ]
          },
          "metadata": {
            "tags": []
          }
        },
        {
          "output_type": "display_data",
          "data": {
            "application/javascript": [
              "window[\"36d87de4-d15e-11e9-8d65-0242ac1c0002\"] = window[\"36d828a8-d15e-11e9-8d65-0242ac1c0002\"].position.set(10.0, 10.0, 10.0);\n",
              "//# sourceURL=js_6076156120"
            ],
            "text/plain": [
              "<IPython.core.display.Javascript object>"
            ]
          },
          "metadata": {
            "tags": []
          }
        },
        {
          "output_type": "display_data",
          "data": {
            "application/javascript": [
              "window[\"36d8c0ec-d15e-11e9-8d65-0242ac1c0002\"] = new THREE.AmbientLight(8421504);\n",
              "//# sourceURL=js_481fd890b3"
            ],
            "text/plain": [
              "<IPython.core.display.Javascript object>"
            ]
          },
          "metadata": {
            "tags": []
          }
        },
        {
          "output_type": "display_data",
          "data": {
            "application/javascript": [
              "window[\"36d90584-d15e-11e9-8d65-0242ac1c0002\"] = new THREE.MeshLambertMaterial({\"color\": 16775885});\n",
              "//# sourceURL=js_1651d0f9e8"
            ],
            "text/plain": [
              "<IPython.core.display.Javascript object>"
            ]
          },
          "metadata": {
            "tags": []
          }
        },
        {
          "output_type": "display_data",
          "data": {
            "application/javascript": [
              "window[\"36d94f1c-d15e-11e9-8d65-0242ac1c0002\"] = new THREE.MeshLambertMaterial({\"color\": 15794160});\n",
              "//# sourceURL=js_b83525e93e"
            ],
            "text/plain": [
              "<IPython.core.display.Javascript object>"
            ]
          },
          "metadata": {
            "tags": []
          }
        },
        {
          "output_type": "display_data",
          "data": {
            "text/html": [
              "<script src='https://www.gstatic.com/external_hosted/threejs-r98/three.min.js'></script>"
            ],
            "text/plain": [
              "<IPython.core.display.HTML object>"
            ]
          },
          "metadata": {
            "tags": []
          }
        },
        {
          "output_type": "display_data",
          "data": {
            "text/html": [
              "<script src='https://www.gstatic.com/external_hosted/threejs-r98/examples/js/controls/OrbitControls.js'></script>"
            ],
            "text/plain": [
              "<IPython.core.display.HTML object>"
            ]
          },
          "metadata": {
            "tags": []
          }
        },
        {
          "output_type": "display_data",
          "data": {
            "application/javascript": [
              "window[\"36da2d4c-d15e-11e9-8d65-0242ac1c0002\"] = new THREE.PerspectiveCamera(30, 1.0, 0.01, 1000.0);\n",
              "//# sourceURL=js_e813d4a108"
            ],
            "text/plain": [
              "<IPython.core.display.Javascript object>"
            ]
          },
          "metadata": {
            "tags": []
          }
        },
        {
          "output_type": "display_data",
          "data": {
            "application/javascript": [
              "window[\"36da85bc-d15e-11e9-8d65-0242ac1c0002\"] = window[\"36da2d4c-d15e-11e9-8d65-0242ac1c0002\"].position.set(10.0, 10.0, 10.0);\n",
              "//# sourceURL=js_f87937e628"
            ],
            "text/plain": [
              "<IPython.core.display.Javascript object>"
            ]
          },
          "metadata": {
            "tags": []
          }
        },
        {
          "output_type": "display_data",
          "data": {
            "application/javascript": [
              "window[\"36dad166-d15e-11e9-8d65-0242ac1c0002\"] = new THREE.OrbitControls(window[\"36da2d4c-d15e-11e9-8d65-0242ac1c0002\"]);\n",
              "//# sourceURL=js_7879d20043"
            ],
            "text/plain": [
              "<IPython.core.display.Javascript object>"
            ]
          },
          "metadata": {
            "tags": []
          }
        },
        {
          "output_type": "display_data",
          "data": {
            "application/javascript": [
              "window[\"36dad166-d15e-11e9-8d65-0242ac1c0002\"].enableZoom = false;\n",
              "//# sourceURL=js_fd521e31d6"
            ],
            "text/plain": [
              "<IPython.core.display.Javascript object>"
            ]
          },
          "metadata": {
            "tags": []
          }
        },
        {
          "output_type": "display_data",
          "data": {
            "text/html": [
              "<script src='https://www.gstatic.com/external_hosted/threejs-r98/three.min.js'></script>"
            ],
            "text/plain": [
              "<IPython.core.display.HTML object>"
            ]
          },
          "metadata": {
            "tags": []
          }
        },
        {
          "output_type": "display_data",
          "data": {
            "text/html": [
              "<script src='https://www.gstatic.com/external_hosted/threejs-r98/examples/js/controls/OrbitControls.js'></script>"
            ],
            "text/plain": [
              "<IPython.core.display.HTML object>"
            ]
          },
          "metadata": {
            "tags": []
          }
        },
        {
          "output_type": "display_data",
          "data": {
            "application/javascript": [
              "window[\"36dbfd02-d15e-11e9-8d65-0242ac1c0002\"] = new THREE.WebGLRenderer({\"antialias\": true});\n",
              "//# sourceURL=js_f5555dda7c"
            ],
            "text/plain": [
              "<IPython.core.display.Javascript object>"
            ]
          },
          "metadata": {
            "tags": []
          }
        },
        {
          "output_type": "display_data",
          "data": {
            "application/javascript": [
              "window[\"36dc46d6-d15e-11e9-8d65-0242ac1c0002\"] = window[\"36dbfd02-d15e-11e9-8d65-0242ac1c0002\"].setSize(400, 400);\n",
              "//# sourceURL=js_52a006a261"
            ],
            "text/plain": [
              "<IPython.core.display.Javascript object>"
            ]
          },
          "metadata": {
            "tags": []
          }
        },
        {
          "output_type": "display_data",
          "data": {
            "application/javascript": [
              "window[\"36dc9c8a-d15e-11e9-8d65-0242ac1c0002\"] = new THREE.Color(\"rgb(0, 0, 0)\");\n",
              "//# sourceURL=js_e1be49a231"
            ],
            "text/plain": [
              "<IPython.core.display.Javascript object>"
            ]
          },
          "metadata": {
            "tags": []
          }
        },
        {
          "output_type": "display_data",
          "data": {
            "application/javascript": [
              "window[\"36dce55a-d15e-11e9-8d65-0242ac1c0002\"] = window[\"36dbfd02-d15e-11e9-8d65-0242ac1c0002\"].setClearColor(window[\"36dc9c8a-d15e-11e9-8d65-0242ac1c0002\"]);\n",
              "//# sourceURL=js_079602f983"
            ],
            "text/plain": [
              "<IPython.core.display.Javascript object>"
            ]
          },
          "metadata": {
            "tags": []
          }
        },
        {
          "output_type": "display_data",
          "data": {
            "application/javascript": [
              "window[\"36dd3d5c-d15e-11e9-8d65-0242ac1c0002\"] = window[\"36dbfd02-d15e-11e9-8d65-0242ac1c0002\"].clear();\n",
              "//# sourceURL=js_ab3dcbe01c"
            ],
            "text/plain": [
              "<IPython.core.display.Javascript object>"
            ]
          },
          "metadata": {
            "tags": []
          }
        },
        {
          "output_type": "display_data",
          "data": {
            "application/javascript": [
              "window[\"36dd896a-d15e-11e9-8d65-0242ac1c0002\"] = document.body.appendChild(window[\"36dbfd02-d15e-11e9-8d65-0242ac1c0002\"].domElement);\n",
              "//# sourceURL=js_a0e3ec2f4a"
            ],
            "text/plain": [
              "<IPython.core.display.Javascript object>"
            ]
          },
          "metadata": {
            "tags": []
          }
        },
        {
          "output_type": "display_data",
          "data": {
            "application/javascript": [
              "window[\"36dddcd0-d15e-11e9-8d65-0242ac1c0002\"] = new THREE.Scene();\n",
              "//# sourceURL=js_1b5136c04c"
            ],
            "text/plain": [
              "<IPython.core.display.Javascript object>"
            ]
          },
          "metadata": {
            "tags": []
          }
        },
        {
          "output_type": "display_data",
          "data": {
            "application/javascript": [
              "window[\"36de2866-d15e-11e9-8d65-0242ac1c0002\"] = window[\"36dddcd0-d15e-11e9-8d65-0242ac1c0002\"].add(window[\"36d828a8-d15e-11e9-8d65-0242ac1c0002\"]);\n",
              "//# sourceURL=js_d4c7bfc18f"
            ],
            "text/plain": [
              "<IPython.core.display.Javascript object>"
            ]
          },
          "metadata": {
            "tags": []
          }
        },
        {
          "output_type": "display_data",
          "data": {
            "application/javascript": [
              "window[\"36de7a82-d15e-11e9-8d65-0242ac1c0002\"] = window[\"36dddcd0-d15e-11e9-8d65-0242ac1c0002\"].add(window[\"36d8c0ec-d15e-11e9-8d65-0242ac1c0002\"]);\n",
              "//# sourceURL=js_e38ff133e3"
            ],
            "text/plain": [
              "<IPython.core.display.Javascript object>"
            ]
          },
          "metadata": {
            "tags": []
          }
        },
        {
          "output_type": "display_data",
          "data": {
            "application/javascript": [
              "window[\"36dec582-d15e-11e9-8d65-0242ac1c0002\"] = new THREE.MeshLambertMaterial({\"color\": 8421504});\n",
              "//# sourceURL=js_73ed0335ca"
            ],
            "text/plain": [
              "<IPython.core.display.Javascript object>"
            ]
          },
          "metadata": {
            "tags": []
          }
        },
        {
          "output_type": "display_data",
          "data": {
            "application/javascript": [
              "window[\"36dec582-d15e-11e9-8d65-0242ac1c0002\"][\"vertexColors\"] = THREE.NoColors;\n",
              "//# sourceURL=js_dc8478410b"
            ],
            "text/plain": [
              "<IPython.core.display.Javascript object>"
            ]
          },
          "metadata": {
            "tags": []
          }
        },
        {
          "output_type": "display_data",
          "data": {
            "application/javascript": [
              "window[\"36df63f2-d15e-11e9-8d65-0242ac1c0002\"] = new Float32Array([-1.0, -1.0, -1.0, 1.0, -1.0, -1.0, 1.0, 1.0, -1.0, -1.0, 1.0, -1.0, -1.0, -1.0, 1.0, 1.0, -1.0, 1.0, 1.0, 1.0, 1.0, -1.0, 1.0, 1.0]);\n",
              "//# sourceURL=js_3dc83dc891"
            ],
            "text/plain": [
              "<IPython.core.display.Javascript object>"
            ]
          },
          "metadata": {
            "tags": []
          }
        },
        {
          "output_type": "display_data",
          "data": {
            "application/javascript": [
              "window[\"36dfc5d6-d15e-11e9-8d65-0242ac1c0002\"] = new Uint32Array([0, 3, 1, 1, 3, 2, 0, 4, 7, 0, 7, 3, 4, 5, 6, 4, 6, 7, 5, 1, 2, 5, 2, 6, 2, 3, 6, 3, 7, 6, 0, 1, 5, 0, 5, 4]);\n",
              "//# sourceURL=js_88576cd1cf"
            ],
            "text/plain": [
              "<IPython.core.display.Javascript object>"
            ]
          },
          "metadata": {
            "tags": []
          }
        },
        {
          "output_type": "display_data",
          "data": {
            "application/javascript": [
              "window[\"36e014b4-d15e-11e9-8d65-0242ac1c0002\"] = new THREE.BufferGeometry();\n",
              "//# sourceURL=js_ee7778a0d0"
            ],
            "text/plain": [
              "<IPython.core.display.Javascript object>"
            ]
          },
          "metadata": {
            "tags": []
          }
        },
        {
          "output_type": "display_data",
          "data": {
            "application/javascript": [
              "window[\"36e07634-d15e-11e9-8d65-0242ac1c0002\"] = new THREE.BufferAttribute(window[\"36df63f2-d15e-11e9-8d65-0242ac1c0002\"], 3);\n",
              "//# sourceURL=js_7259c42d24"
            ],
            "text/plain": [
              "<IPython.core.display.Javascript object>"
            ]
          },
          "metadata": {
            "tags": []
          }
        },
        {
          "output_type": "display_data",
          "data": {
            "application/javascript": [
              "window[\"36e0cc6a-d15e-11e9-8d65-0242ac1c0002\"] = window[\"36e014b4-d15e-11e9-8d65-0242ac1c0002\"].addAttribute(\"position\", window[\"36e07634-d15e-11e9-8d65-0242ac1c0002\"]);\n",
              "//# sourceURL=js_343c2901f3"
            ],
            "text/plain": [
              "<IPython.core.display.Javascript object>"
            ]
          },
          "metadata": {
            "tags": []
          }
        },
        {
          "output_type": "display_data",
          "data": {
            "application/javascript": [
              "window[\"36e12db8-d15e-11e9-8d65-0242ac1c0002\"] = new THREE.BufferAttribute(window[\"36dfc5d6-d15e-11e9-8d65-0242ac1c0002\"], 1);\n",
              "//# sourceURL=js_371147942d"
            ],
            "text/plain": [
              "<IPython.core.display.Javascript object>"
            ]
          },
          "metadata": {
            "tags": []
          }
        },
        {
          "output_type": "display_data",
          "data": {
            "application/javascript": [
              "window[\"36e178d6-d15e-11e9-8d65-0242ac1c0002\"] = window[\"36e014b4-d15e-11e9-8d65-0242ac1c0002\"].setIndex(window[\"36e12db8-d15e-11e9-8d65-0242ac1c0002\"]);\n",
              "//# sourceURL=js_afa2070081"
            ],
            "text/plain": [
              "<IPython.core.display.Javascript object>"
            ]
          },
          "metadata": {
            "tags": []
          }
        },
        {
          "output_type": "display_data",
          "data": {
            "application/javascript": [
              "window[\"36e1cb2e-d15e-11e9-8d65-0242ac1c0002\"] = window[\"36e014b4-d15e-11e9-8d65-0242ac1c0002\"].computeVertexNormals();\n",
              "//# sourceURL=js_5a096ec642"
            ],
            "text/plain": [
              "<IPython.core.display.Javascript object>"
            ]
          },
          "metadata": {
            "tags": []
          }
        },
        {
          "output_type": "display_data",
          "data": {
            "application/javascript": [
              "window[\"36e21bc4-d15e-11e9-8d65-0242ac1c0002\"] = new THREE.Mesh(window[\"36e014b4-d15e-11e9-8d65-0242ac1c0002\"], window[\"36d90584-d15e-11e9-8d65-0242ac1c0002\"]);\n",
              "//# sourceURL=js_e94c25bfa3"
            ],
            "text/plain": [
              "<IPython.core.display.Javascript object>"
            ]
          },
          "metadata": {
            "tags": []
          }
        },
        {
          "output_type": "display_data",
          "data": {
            "application/javascript": [
              "window[\"36e26a16-d15e-11e9-8d65-0242ac1c0002\"] = window[\"36dddcd0-d15e-11e9-8d65-0242ac1c0002\"].add(window[\"36e21bc4-d15e-11e9-8d65-0242ac1c0002\"]);\n",
              "//# sourceURL=js_30f459af46"
            ],
            "text/plain": [
              "<IPython.core.display.Javascript object>"
            ]
          },
          "metadata": {
            "tags": []
          }
        },
        {
          "output_type": "display_data",
          "data": {
            "application/javascript": [
              "window[\"36dec582-d15e-11e9-8d65-0242ac1c0002\"][\"vertexColors\"] = THREE.NoColors;\n",
              "//# sourceURL=js_dc8478410b"
            ],
            "text/plain": [
              "<IPython.core.display.Javascript object>"
            ]
          },
          "metadata": {
            "tags": []
          }
        },
        {
          "output_type": "display_data",
          "data": {
            "application/javascript": [
              "window[\"36e30160-d15e-11e9-8d65-0242ac1c0002\"] = new Float32Array([-0.9910596609115601, -0.9650942087173462, -0.9080736637115479, 0.9117749929428101, -0.9449616074562073, -1.0057926177978516, 0.8919107913970947, 0.960374653339386, -1.00005042552948, -1.0109238624572754, 0.9402420520782471, -0.9023312926292419, -0.893285870552063, -0.9698101282119751, 0.9948586225509644, 1.0095487833023071, -0.9496776461601257, 0.8971397876739502, 0.9896847009658813, 0.9556589126586914, 0.9028821587562561, -0.9131500720977783, 0.9355263710021973, 1.000601053237915]);\n",
              "//# sourceURL=js_e3af7dc5f9"
            ],
            "text/plain": [
              "<IPython.core.display.Javascript object>"
            ]
          },
          "metadata": {
            "tags": []
          }
        },
        {
          "output_type": "display_data",
          "data": {
            "application/javascript": [
              "window[\"36e34fee-d15e-11e9-8d65-0242ac1c0002\"] = new Uint32Array([0, 3, 1, 1, 3, 2, 0, 4, 7, 0, 7, 3, 4, 5, 6, 4, 6, 7, 5, 1, 2, 5, 2, 6, 2, 3, 6, 3, 7, 6, 0, 1, 5, 0, 5, 4]);\n",
              "//# sourceURL=js_1078753e0c"
            ],
            "text/plain": [
              "<IPython.core.display.Javascript object>"
            ]
          },
          "metadata": {
            "tags": []
          }
        },
        {
          "output_type": "display_data",
          "data": {
            "application/javascript": [
              "window[\"36e3a124-d15e-11e9-8d65-0242ac1c0002\"] = new THREE.BufferGeometry();\n",
              "//# sourceURL=js_cc3f021b75"
            ],
            "text/plain": [
              "<IPython.core.display.Javascript object>"
            ]
          },
          "metadata": {
            "tags": []
          }
        },
        {
          "output_type": "display_data",
          "data": {
            "application/javascript": [
              "window[\"36e3fea8-d15e-11e9-8d65-0242ac1c0002\"] = new THREE.BufferAttribute(window[\"36e30160-d15e-11e9-8d65-0242ac1c0002\"], 3);\n",
              "//# sourceURL=js_70edb91889"
            ],
            "text/plain": [
              "<IPython.core.display.Javascript object>"
            ]
          },
          "metadata": {
            "tags": []
          }
        },
        {
          "output_type": "display_data",
          "data": {
            "application/javascript": [
              "window[\"36e44eee-d15e-11e9-8d65-0242ac1c0002\"] = window[\"36e3a124-d15e-11e9-8d65-0242ac1c0002\"].addAttribute(\"position\", window[\"36e3fea8-d15e-11e9-8d65-0242ac1c0002\"]);\n",
              "//# sourceURL=js_2f7cf99844"
            ],
            "text/plain": [
              "<IPython.core.display.Javascript object>"
            ]
          },
          "metadata": {
            "tags": []
          }
        },
        {
          "output_type": "display_data",
          "data": {
            "application/javascript": [
              "window[\"36e49f3e-d15e-11e9-8d65-0242ac1c0002\"] = new THREE.BufferAttribute(window[\"36e34fee-d15e-11e9-8d65-0242ac1c0002\"], 1);\n",
              "//# sourceURL=js_14a82cf163"
            ],
            "text/plain": [
              "<IPython.core.display.Javascript object>"
            ]
          },
          "metadata": {
            "tags": []
          }
        },
        {
          "output_type": "display_data",
          "data": {
            "application/javascript": [
              "window[\"36e4f4a2-d15e-11e9-8d65-0242ac1c0002\"] = window[\"36e3a124-d15e-11e9-8d65-0242ac1c0002\"].setIndex(window[\"36e49f3e-d15e-11e9-8d65-0242ac1c0002\"]);\n",
              "//# sourceURL=js_13c657a1b5"
            ],
            "text/plain": [
              "<IPython.core.display.Javascript object>"
            ]
          },
          "metadata": {
            "tags": []
          }
        },
        {
          "output_type": "display_data",
          "data": {
            "application/javascript": [
              "window[\"36e54628-d15e-11e9-8d65-0242ac1c0002\"] = window[\"36e3a124-d15e-11e9-8d65-0242ac1c0002\"].computeVertexNormals();\n",
              "//# sourceURL=js_1d71dc7b37"
            ],
            "text/plain": [
              "<IPython.core.display.Javascript object>"
            ]
          },
          "metadata": {
            "tags": []
          }
        },
        {
          "output_type": "display_data",
          "data": {
            "application/javascript": [
              "window[\"36e59a24-d15e-11e9-8d65-0242ac1c0002\"] = new THREE.Mesh(window[\"36e3a124-d15e-11e9-8d65-0242ac1c0002\"], window[\"36d94f1c-d15e-11e9-8d65-0242ac1c0002\"]);\n",
              "//# sourceURL=js_60f2ecec5f"
            ],
            "text/plain": [
              "<IPython.core.display.Javascript object>"
            ]
          },
          "metadata": {
            "tags": []
          }
        },
        {
          "output_type": "display_data",
          "data": {
            "application/javascript": [
              "window[\"36e5f122-d15e-11e9-8d65-0242ac1c0002\"] = window[\"36dddcd0-d15e-11e9-8d65-0242ac1c0002\"].add(window[\"36e59a24-d15e-11e9-8d65-0242ac1c0002\"]);\n",
              "//# sourceURL=js_59284334d0"
            ],
            "text/plain": [
              "<IPython.core.display.Javascript object>"
            ]
          },
          "metadata": {
            "tags": []
          }
        }
      ]
    },
    {
      "cell_type": "markdown",
      "metadata": {
        "id": "5UD6G5iiKhe2",
        "colab_type": "text"
      },
      "source": [
        "### Comparison with optimizing using [Kabsch Algorithm](https://en.wikipedia.org/wiki/Kabsch_algorithm)"
      ]
    },
    {
      "cell_type": "code",
      "metadata": {
        "id": "3x9SmZwWLcmW",
        "colab_type": "code",
        "colab": {
          "base_uri": "https://localhost:8080/",
          "height": 421
        },
        "outputId": "a2cc3bc8-b0b6-4149-96c1-8631f00af77c"
      },
      "source": [
        "def loss(target_points, quaternion_variable, translation_variable):\n",
        "  transformed_points = transform_points(target_points, quaternion_variable,\n",
        "                                        translation_variable)\n",
        "  error = (vertices - transformed_points) / num_vertices\n",
        "  return vector.dot(error, error)\n",
        "\n",
        "\n",
        "def gradient_loss(target_points, quaternion, translation):\n",
        "  with tf.GradientTape() as tape:\n",
        "    loss_value = loss(target_points, quaternion, translation)\n",
        "  return tape.gradient(loss_value, [quaternion, translation])\n",
        "\n",
        "learning_rate = 0.05\n",
        "\n",
        "with tf.name_scope('optimization'):\n",
        "  optimizer = tf.train.AdamOptimizer(learning_rate)\n",
        "  \n",
        "# random_quaternion, random_translation = get_random_transform()\n",
        "\n",
        "initial_orientation = transform_points(vertices, random_quaternion,\n",
        "                                      random_translation)\n",
        "\n",
        "viewer = Viewer(initial_orientation)\n",
        "\n",
        "nb_iterations = 100\n",
        "for it in range(nb_iterations):\n",
        "  gradients_loss = gradient_loss(vertices, random_quaternion,\n",
        "                                 random_translation)\n",
        "  optimizer.apply_gradients(\n",
        "      zip(gradients_loss, (random_quaternion, random_translation)))\n",
        "  transformed_points = transform_points(vertices, random_quaternion,\n",
        "                                        random_translation)\n",
        "\n",
        "  viewer.update(transformed_points)\n",
        "  time.sleep(0.1)"
      ],
      "execution_count": 87,
      "outputs": [
        {
          "output_type": "display_data",
          "data": {
            "text/html": [
              "<script src='https://www.gstatic.com/external_hosted/threejs-r98/three.min.js'></script>"
            ],
            "text/plain": [
              "<IPython.core.display.HTML object>"
            ]
          },
          "metadata": {
            "tags": []
          }
        },
        {
          "output_type": "display_data",
          "data": {
            "text/html": [
              "<script src='https://www.gstatic.com/external_hosted/threejs-r98/examples/js/controls/OrbitControls.js'></script>"
            ],
            "text/plain": [
              "<IPython.core.display.HTML object>"
            ]
          },
          "metadata": {
            "tags": []
          }
        },
        {
          "output_type": "display_data",
          "data": {
            "application/javascript": [
              "window[\"743bf968-d15e-11e9-8d65-0242ac1c0002\"] = new THREE.PointLight(8421504);\n",
              "//# sourceURL=js_4cb8035e3e"
            ],
            "text/plain": [
              "<IPython.core.display.Javascript object>"
            ]
          },
          "metadata": {
            "tags": []
          }
        },
        {
          "output_type": "display_data",
          "data": {
            "application/javascript": [
              "window[\"743c51ba-d15e-11e9-8d65-0242ac1c0002\"] = window[\"743bf968-d15e-11e9-8d65-0242ac1c0002\"].position.set(10.0, 10.0, 10.0);\n",
              "//# sourceURL=js_286e621a03"
            ],
            "text/plain": [
              "<IPython.core.display.Javascript object>"
            ]
          },
          "metadata": {
            "tags": []
          }
        },
        {
          "output_type": "display_data",
          "data": {
            "application/javascript": [
              "window[\"743ccdf2-d15e-11e9-8d65-0242ac1c0002\"] = new THREE.AmbientLight(8421504);\n",
              "//# sourceURL=js_8d4206e899"
            ],
            "text/plain": [
              "<IPython.core.display.Javascript object>"
            ]
          },
          "metadata": {
            "tags": []
          }
        },
        {
          "output_type": "display_data",
          "data": {
            "application/javascript": [
              "window[\"743d3152-d15e-11e9-8d65-0242ac1c0002\"] = new THREE.MeshLambertMaterial({\"color\": 16775885});\n",
              "//# sourceURL=js_7c0c146549"
            ],
            "text/plain": [
              "<IPython.core.display.Javascript object>"
            ]
          },
          "metadata": {
            "tags": []
          }
        },
        {
          "output_type": "display_data",
          "data": {
            "application/javascript": [
              "window[\"743d8ac6-d15e-11e9-8d65-0242ac1c0002\"] = new THREE.MeshLambertMaterial({\"color\": 15794160});\n",
              "//# sourceURL=js_5542dd1084"
            ],
            "text/plain": [
              "<IPython.core.display.Javascript object>"
            ]
          },
          "metadata": {
            "tags": []
          }
        },
        {
          "output_type": "display_data",
          "data": {
            "text/html": [
              "<script src='https://www.gstatic.com/external_hosted/threejs-r98/three.min.js'></script>"
            ],
            "text/plain": [
              "<IPython.core.display.HTML object>"
            ]
          },
          "metadata": {
            "tags": []
          }
        },
        {
          "output_type": "display_data",
          "data": {
            "text/html": [
              "<script src='https://www.gstatic.com/external_hosted/threejs-r98/examples/js/controls/OrbitControls.js'></script>"
            ],
            "text/plain": [
              "<IPython.core.display.HTML object>"
            ]
          },
          "metadata": {
            "tags": []
          }
        },
        {
          "output_type": "display_data",
          "data": {
            "application/javascript": [
              "window[\"743ec2b0-d15e-11e9-8d65-0242ac1c0002\"] = new THREE.PerspectiveCamera(30, 1.0, 0.01, 1000.0);\n",
              "//# sourceURL=js_3e07786e3f"
            ],
            "text/plain": [
              "<IPython.core.display.Javascript object>"
            ]
          },
          "metadata": {
            "tags": []
          }
        },
        {
          "output_type": "display_data",
          "data": {
            "application/javascript": [
              "window[\"743f306a-d15e-11e9-8d65-0242ac1c0002\"] = window[\"743ec2b0-d15e-11e9-8d65-0242ac1c0002\"].position.set(10.0, 10.0, 10.0);\n",
              "//# sourceURL=js_5d44e3ee3d"
            ],
            "text/plain": [
              "<IPython.core.display.Javascript object>"
            ]
          },
          "metadata": {
            "tags": []
          }
        },
        {
          "output_type": "display_data",
          "data": {
            "application/javascript": [
              "window[\"743fa2de-d15e-11e9-8d65-0242ac1c0002\"] = new THREE.OrbitControls(window[\"743ec2b0-d15e-11e9-8d65-0242ac1c0002\"]);\n",
              "//# sourceURL=js_d22636ff9d"
            ],
            "text/plain": [
              "<IPython.core.display.Javascript object>"
            ]
          },
          "metadata": {
            "tags": []
          }
        },
        {
          "output_type": "display_data",
          "data": {
            "application/javascript": [
              "window[\"743fa2de-d15e-11e9-8d65-0242ac1c0002\"].enableZoom = false;\n",
              "//# sourceURL=js_54817aa1e6"
            ],
            "text/plain": [
              "<IPython.core.display.Javascript object>"
            ]
          },
          "metadata": {
            "tags": []
          }
        },
        {
          "output_type": "display_data",
          "data": {
            "text/html": [
              "<script src='https://www.gstatic.com/external_hosted/threejs-r98/three.min.js'></script>"
            ],
            "text/plain": [
              "<IPython.core.display.HTML object>"
            ]
          },
          "metadata": {
            "tags": []
          }
        },
        {
          "output_type": "display_data",
          "data": {
            "text/html": [
              "<script src='https://www.gstatic.com/external_hosted/threejs-r98/examples/js/controls/OrbitControls.js'></script>"
            ],
            "text/plain": [
              "<IPython.core.display.HTML object>"
            ]
          },
          "metadata": {
            "tags": []
          }
        },
        {
          "output_type": "display_data",
          "data": {
            "application/javascript": [
              "window[\"7440e8e2-d15e-11e9-8d65-0242ac1c0002\"] = new THREE.WebGLRenderer({\"antialias\": true});\n",
              "//# sourceURL=js_0dc76de6dc"
            ],
            "text/plain": [
              "<IPython.core.display.Javascript object>"
            ]
          },
          "metadata": {
            "tags": []
          }
        },
        {
          "output_type": "display_data",
          "data": {
            "application/javascript": [
              "window[\"74415318-d15e-11e9-8d65-0242ac1c0002\"] = window[\"7440e8e2-d15e-11e9-8d65-0242ac1c0002\"].setSize(400, 400);\n",
              "//# sourceURL=js_6c1c24a4ce"
            ],
            "text/plain": [
              "<IPython.core.display.Javascript object>"
            ]
          },
          "metadata": {
            "tags": []
          }
        },
        {
          "output_type": "display_data",
          "data": {
            "application/javascript": [
              "window[\"74421762-d15e-11e9-8d65-0242ac1c0002\"] = new THREE.Color(\"rgb(0, 0, 0)\");\n",
              "//# sourceURL=js_201a01a48d"
            ],
            "text/plain": [
              "<IPython.core.display.Javascript object>"
            ]
          },
          "metadata": {
            "tags": []
          }
        },
        {
          "output_type": "display_data",
          "data": {
            "application/javascript": [
              "window[\"74429ea8-d15e-11e9-8d65-0242ac1c0002\"] = window[\"7440e8e2-d15e-11e9-8d65-0242ac1c0002\"].setClearColor(window[\"74421762-d15e-11e9-8d65-0242ac1c0002\"]);\n",
              "//# sourceURL=js_dbdfe9f5c3"
            ],
            "text/plain": [
              "<IPython.core.display.Javascript object>"
            ]
          },
          "metadata": {
            "tags": []
          }
        },
        {
          "output_type": "display_data",
          "data": {
            "application/javascript": [
              "window[\"74438ade-d15e-11e9-8d65-0242ac1c0002\"] = window[\"7440e8e2-d15e-11e9-8d65-0242ac1c0002\"].clear();\n",
              "//# sourceURL=js_541b2e78da"
            ],
            "text/plain": [
              "<IPython.core.display.Javascript object>"
            ]
          },
          "metadata": {
            "tags": []
          }
        },
        {
          "output_type": "display_data",
          "data": {
            "application/javascript": [
              "window[\"7443d9c6-d15e-11e9-8d65-0242ac1c0002\"] = document.body.appendChild(window[\"7440e8e2-d15e-11e9-8d65-0242ac1c0002\"].domElement);\n",
              "//# sourceURL=js_7bb7dd1d2f"
            ],
            "text/plain": [
              "<IPython.core.display.Javascript object>"
            ]
          },
          "metadata": {
            "tags": []
          }
        },
        {
          "output_type": "display_data",
          "data": {
            "application/javascript": [
              "window[\"7444b652-d15e-11e9-8d65-0242ac1c0002\"] = new THREE.Scene();\n",
              "//# sourceURL=js_910929af1b"
            ],
            "text/plain": [
              "<IPython.core.display.Javascript object>"
            ]
          },
          "metadata": {
            "tags": []
          }
        },
        {
          "output_type": "display_data",
          "data": {
            "application/javascript": [
              "window[\"74451ce6-d15e-11e9-8d65-0242ac1c0002\"] = window[\"7444b652-d15e-11e9-8d65-0242ac1c0002\"].add(window[\"743bf968-d15e-11e9-8d65-0242ac1c0002\"]);\n",
              "//# sourceURL=js_a48eba490b"
            ],
            "text/plain": [
              "<IPython.core.display.Javascript object>"
            ]
          },
          "metadata": {
            "tags": []
          }
        },
        {
          "output_type": "display_data",
          "data": {
            "application/javascript": [
              "window[\"74456b88-d15e-11e9-8d65-0242ac1c0002\"] = window[\"7444b652-d15e-11e9-8d65-0242ac1c0002\"].add(window[\"743ccdf2-d15e-11e9-8d65-0242ac1c0002\"]);\n",
              "//# sourceURL=js_f34d837f05"
            ],
            "text/plain": [
              "<IPython.core.display.Javascript object>"
            ]
          },
          "metadata": {
            "tags": []
          }
        },
        {
          "output_type": "display_data",
          "data": {
            "application/javascript": [
              "window[\"74462be0-d15e-11e9-8d65-0242ac1c0002\"] = new THREE.MeshLambertMaterial({\"color\": 8421504});\n",
              "//# sourceURL=js_4f4b975e85"
            ],
            "text/plain": [
              "<IPython.core.display.Javascript object>"
            ]
          },
          "metadata": {
            "tags": []
          }
        },
        {
          "output_type": "display_data",
          "data": {
            "application/javascript": [
              "window[\"74462be0-d15e-11e9-8d65-0242ac1c0002\"][\"vertexColors\"] = THREE.NoColors;\n",
              "//# sourceURL=js_bebdebb2d6"
            ],
            "text/plain": [
              "<IPython.core.display.Javascript object>"
            ]
          },
          "metadata": {
            "tags": []
          }
        },
        {
          "output_type": "display_data",
          "data": {
            "application/javascript": [
              "window[\"7446c3e8-d15e-11e9-8d65-0242ac1c0002\"] = new Float32Array([-1.0, -1.0, -1.0, 1.0, -1.0, -1.0, 1.0, 1.0, -1.0, -1.0, 1.0, -1.0, -1.0, -1.0, 1.0, 1.0, -1.0, 1.0, 1.0, 1.0, 1.0, -1.0, 1.0, 1.0]);\n",
              "//# sourceURL=js_e6258b67c8"
            ],
            "text/plain": [
              "<IPython.core.display.Javascript object>"
            ]
          },
          "metadata": {
            "tags": []
          }
        },
        {
          "output_type": "display_data",
          "data": {
            "application/javascript": [
              "window[\"74471f5a-d15e-11e9-8d65-0242ac1c0002\"] = new Uint32Array([0, 3, 1, 1, 3, 2, 0, 4, 7, 0, 7, 3, 4, 5, 6, 4, 6, 7, 5, 1, 2, 5, 2, 6, 2, 3, 6, 3, 7, 6, 0, 1, 5, 0, 5, 4]);\n",
              "//# sourceURL=js_2f172df6ee"
            ],
            "text/plain": [
              "<IPython.core.display.Javascript object>"
            ]
          },
          "metadata": {
            "tags": []
          }
        },
        {
          "output_type": "display_data",
          "data": {
            "application/javascript": [
              "window[\"74477432-d15e-11e9-8d65-0242ac1c0002\"] = new THREE.BufferGeometry();\n",
              "//# sourceURL=js_4d15c286d2"
            ],
            "text/plain": [
              "<IPython.core.display.Javascript object>"
            ]
          },
          "metadata": {
            "tags": []
          }
        },
        {
          "output_type": "display_data",
          "data": {
            "application/javascript": [
              "window[\"7447c1bc-d15e-11e9-8d65-0242ac1c0002\"] = new THREE.BufferAttribute(window[\"7446c3e8-d15e-11e9-8d65-0242ac1c0002\"], 3);\n",
              "//# sourceURL=js_b4efa0276d"
            ],
            "text/plain": [
              "<IPython.core.display.Javascript object>"
            ]
          },
          "metadata": {
            "tags": []
          }
        },
        {
          "output_type": "display_data",
          "data": {
            "application/javascript": [
              "window[\"7448189c-d15e-11e9-8d65-0242ac1c0002\"] = window[\"74477432-d15e-11e9-8d65-0242ac1c0002\"].addAttribute(\"position\", window[\"7447c1bc-d15e-11e9-8d65-0242ac1c0002\"]);\n",
              "//# sourceURL=js_4de96dc0b2"
            ],
            "text/plain": [
              "<IPython.core.display.Javascript object>"
            ]
          },
          "metadata": {
            "tags": []
          }
        },
        {
          "output_type": "display_data",
          "data": {
            "application/javascript": [
              "window[\"744858f2-d15e-11e9-8d65-0242ac1c0002\"] = new THREE.BufferAttribute(window[\"74471f5a-d15e-11e9-8d65-0242ac1c0002\"], 1);\n",
              "//# sourceURL=js_754bd0bac9"
            ],
            "text/plain": [
              "<IPython.core.display.Javascript object>"
            ]
          },
          "metadata": {
            "tags": []
          }
        },
        {
          "output_type": "display_data",
          "data": {
            "application/javascript": [
              "window[\"7448a514-d15e-11e9-8d65-0242ac1c0002\"] = window[\"74477432-d15e-11e9-8d65-0242ac1c0002\"].setIndex(window[\"744858f2-d15e-11e9-8d65-0242ac1c0002\"]);\n",
              "//# sourceURL=js_4905bac00a"
            ],
            "text/plain": [
              "<IPython.core.display.Javascript object>"
            ]
          },
          "metadata": {
            "tags": []
          }
        },
        {
          "output_type": "display_data",
          "data": {
            "application/javascript": [
              "window[\"7448e38a-d15e-11e9-8d65-0242ac1c0002\"] = window[\"74477432-d15e-11e9-8d65-0242ac1c0002\"].computeVertexNormals();\n",
              "//# sourceURL=js_d9a4ce4538"
            ],
            "text/plain": [
              "<IPython.core.display.Javascript object>"
            ]
          },
          "metadata": {
            "tags": []
          }
        },
        {
          "output_type": "display_data",
          "data": {
            "application/javascript": [
              "window[\"74492e8a-d15e-11e9-8d65-0242ac1c0002\"] = new THREE.Mesh(window[\"74477432-d15e-11e9-8d65-0242ac1c0002\"], window[\"743d3152-d15e-11e9-8d65-0242ac1c0002\"]);\n",
              "//# sourceURL=js_48e0ab2ad6"
            ],
            "text/plain": [
              "<IPython.core.display.Javascript object>"
            ]
          },
          "metadata": {
            "tags": []
          }
        },
        {
          "output_type": "display_data",
          "data": {
            "application/javascript": [
              "window[\"744973c2-d15e-11e9-8d65-0242ac1c0002\"] = window[\"7444b652-d15e-11e9-8d65-0242ac1c0002\"].add(window[\"74492e8a-d15e-11e9-8d65-0242ac1c0002\"]);\n",
              "//# sourceURL=js_eaf0605c66"
            ],
            "text/plain": [
              "<IPython.core.display.Javascript object>"
            ]
          },
          "metadata": {
            "tags": []
          }
        },
        {
          "output_type": "display_data",
          "data": {
            "application/javascript": [
              "window[\"74462be0-d15e-11e9-8d65-0242ac1c0002\"][\"vertexColors\"] = THREE.NoColors;\n",
              "//# sourceURL=js_bebdebb2d6"
            ],
            "text/plain": [
              "<IPython.core.display.Javascript object>"
            ]
          },
          "metadata": {
            "tags": []
          }
        },
        {
          "output_type": "display_data",
          "data": {
            "application/javascript": [
              "window[\"744a0120-d15e-11e9-8d65-0242ac1c0002\"] = new Float32Array([-0.7366894483566284, 1.3804137706756592, 0.5345038175582886, -0.7231161594390869, 2.114501476287842, -1.3258541822433472, -1.15879225730896, 0.29986572265625, -2.045078754425049, -1.172365427017212, -0.4342219829559326, -0.18472081422805786, -2.688612222671509, 1.7905514240264893, 0.682100772857666, -2.675039052963257, 2.524639129638672, -1.1782572269439697, -3.110714912414551, 0.7100033760070801, -1.8974817991256714, -3.124288320541382, -0.02408421039581299, -0.037123799324035645]);\n",
              "//# sourceURL=js_9ac6f3c4fd"
            ],
            "text/plain": [
              "<IPython.core.display.Javascript object>"
            ]
          },
          "metadata": {
            "tags": []
          }
        },
        {
          "output_type": "display_data",
          "data": {
            "application/javascript": [
              "window[\"744a5436-d15e-11e9-8d65-0242ac1c0002\"] = new Uint32Array([0, 3, 1, 1, 3, 2, 0, 4, 7, 0, 7, 3, 4, 5, 6, 4, 6, 7, 5, 1, 2, 5, 2, 6, 2, 3, 6, 3, 7, 6, 0, 1, 5, 0, 5, 4]);\n",
              "//# sourceURL=js_fe697ef1f7"
            ],
            "text/plain": [
              "<IPython.core.display.Javascript object>"
            ]
          },
          "metadata": {
            "tags": []
          }
        },
        {
          "output_type": "display_data",
          "data": {
            "application/javascript": [
              "window[\"744a96a8-d15e-11e9-8d65-0242ac1c0002\"] = new THREE.BufferGeometry();\n",
              "//# sourceURL=js_de7977c941"
            ],
            "text/plain": [
              "<IPython.core.display.Javascript object>"
            ]
          },
          "metadata": {
            "tags": []
          }
        },
        {
          "output_type": "display_data",
          "data": {
            "application/javascript": [
              "window[\"744addfc-d15e-11e9-8d65-0242ac1c0002\"] = new THREE.BufferAttribute(window[\"744a0120-d15e-11e9-8d65-0242ac1c0002\"], 3);\n",
              "//# sourceURL=js_92295e3748"
            ],
            "text/plain": [
              "<IPython.core.display.Javascript object>"
            ]
          },
          "metadata": {
            "tags": []
          }
        },
        {
          "output_type": "display_data",
          "data": {
            "application/javascript": [
              "window[\"744b1f42-d15e-11e9-8d65-0242ac1c0002\"] = window[\"744a96a8-d15e-11e9-8d65-0242ac1c0002\"].addAttribute(\"position\", window[\"744addfc-d15e-11e9-8d65-0242ac1c0002\"]);\n",
              "//# sourceURL=js_b91655a5c0"
            ],
            "text/plain": [
              "<IPython.core.display.Javascript object>"
            ]
          },
          "metadata": {
            "tags": []
          }
        },
        {
          "output_type": "display_data",
          "data": {
            "application/javascript": [
              "window[\"744b6376-d15e-11e9-8d65-0242ac1c0002\"] = new THREE.BufferAttribute(window[\"744a5436-d15e-11e9-8d65-0242ac1c0002\"], 1);\n",
              "//# sourceURL=js_f40d3df8dd"
            ],
            "text/plain": [
              "<IPython.core.display.Javascript object>"
            ]
          },
          "metadata": {
            "tags": []
          }
        },
        {
          "output_type": "display_data",
          "data": {
            "application/javascript": [
              "window[\"744ba606-d15e-11e9-8d65-0242ac1c0002\"] = window[\"744a96a8-d15e-11e9-8d65-0242ac1c0002\"].setIndex(window[\"744b6376-d15e-11e9-8d65-0242ac1c0002\"]);\n",
              "//# sourceURL=js_ad93415e9f"
            ],
            "text/plain": [
              "<IPython.core.display.Javascript object>"
            ]
          },
          "metadata": {
            "tags": []
          }
        },
        {
          "output_type": "display_data",
          "data": {
            "application/javascript": [
              "window[\"744be788-d15e-11e9-8d65-0242ac1c0002\"] = window[\"744a96a8-d15e-11e9-8d65-0242ac1c0002\"].computeVertexNormals();\n",
              "//# sourceURL=js_5927c907bf"
            ],
            "text/plain": [
              "<IPython.core.display.Javascript object>"
            ]
          },
          "metadata": {
            "tags": []
          }
        },
        {
          "output_type": "display_data",
          "data": {
            "application/javascript": [
              "window[\"744c29be-d15e-11e9-8d65-0242ac1c0002\"] = new THREE.Mesh(window[\"744a96a8-d15e-11e9-8d65-0242ac1c0002\"], window[\"743d8ac6-d15e-11e9-8d65-0242ac1c0002\"]);\n",
              "//# sourceURL=js_b00c8cd0da"
            ],
            "text/plain": [
              "<IPython.core.display.Javascript object>"
            ]
          },
          "metadata": {
            "tags": []
          }
        },
        {
          "output_type": "display_data",
          "data": {
            "application/javascript": [
              "window[\"744c6a50-d15e-11e9-8d65-0242ac1c0002\"] = window[\"7444b652-d15e-11e9-8d65-0242ac1c0002\"].add(window[\"744c29be-d15e-11e9-8d65-0242ac1c0002\"]);\n",
              "//# sourceURL=js_a6a36aa679"
            ],
            "text/plain": [
              "<IPython.core.display.Javascript object>"
            ]
          },
          "metadata": {
            "tags": []
          }
        },
        {
          "output_type": "display_data",
          "data": {
            "application/javascript": [
              "window[\"7537b776-d15e-11e9-8d65-0242ac1c0002\"] = window[\"744a96a8-d15e-11e9-8d65-0242ac1c0002\"].getAttribute(\"position\");\n",
              "//# sourceURL=js_77a1c2dcf3"
            ],
            "text/plain": [
              "<IPython.core.display.Javascript object>"
            ]
          },
          "metadata": {
            "tags": []
          }
        },
        {
          "output_type": "display_data",
          "data": {
            "application/javascript": [
              "window[\"75388a52-d15e-11e9-8d65-0242ac1c0002\"] = window[\"7537b776-d15e-11e9-8d65-0242ac1c0002\"].copyArray([-0.8049097061157227, 1.260557770729065, 0.3741639256477356, -0.7862777709960938, 1.797886610031128, -1.2617918252944946, -1.2985074520111084, 0.2376280426979065, -1.7800917625427246, -1.3171393871307373, -0.29970085620880127, -0.14413607120513916, -2.448897123336792, 1.7527892589569092, 0.5171136260032654, -2.430265188217163, 2.2901182174682617, -1.1188421249389648, -2.9424948692321777, 0.729859471321106, -1.6371421813964844, -2.9611268043518066, 0.1925305724143982, -0.001186370849609375]);\n",
              "//# sourceURL=js_d2f6c66857"
            ],
            "text/plain": [
              "<IPython.core.display.Javascript object>"
            ]
          },
          "metadata": {
            "tags": []
          }
        },
        {
          "output_type": "display_data",
          "data": {
            "application/javascript": [
              "window[\"7538d1f6-d15e-11e9-8d65-0242ac1c0002\"] = window[\"744a96a8-d15e-11e9-8d65-0242ac1c0002\"].getAttribute(\"position\");\n",
              "//# sourceURL=js_9a5705f526"
            ],
            "text/plain": [
              "<IPython.core.display.Javascript object>"
            ]
          },
          "metadata": {
            "tags": []
          }
        },
        {
          "output_type": "display_data",
          "data": {
            "application/javascript": [
              "window[\"7538d1f6-d15e-11e9-8d65-0242ac1c0002\"].needsUpdate = true;\n",
              "//# sourceURL=js_1c9074b5a1"
            ],
            "text/plain": [
              "<IPython.core.display.Javascript object>"
            ]
          },
          "metadata": {
            "tags": []
          }
        },
        {
          "output_type": "display_data",
          "data": {
            "application/javascript": [
              "window[\"754cb450-d15e-11e9-8d65-0242ac1c0002\"] = window[\"744a96a8-d15e-11e9-8d65-0242ac1c0002\"].getAttribute(\"position\");\n",
              "//# sourceURL=js_cfbc52ee0f"
            ],
            "text/plain": [
              "<IPython.core.display.Javascript object>"
            ]
          },
          "metadata": {
            "tags": []
          }
        },
        {
          "output_type": "display_data",
          "data": {
            "application/javascript": [
              "window[\"754cf6fe-d15e-11e9-8d65-0242ac1c0002\"] = window[\"754cb450-d15e-11e9-8d65-0242ac1c0002\"].copyArray([-0.8441567420959473, 1.0214557647705078, 0.2847626209259033, -0.7899271249771118, 1.5233980417251587, -1.141116738319397, -1.437327265739441, 0.24178701639175415, -1.6168954372406006, -1.4915568828582764, -0.26015520095825195, -0.1910160481929779, -2.2101550102233887, 1.6487884521484375, 0.4536459445953369, -2.1559252738952637, 2.150730609893799, -0.9722334146499634, -2.8033254146575928, 0.8691197037696838, -1.448012113571167, -2.8575549125671387, 0.3671773672103882, -0.0221327543258667]);\n",
              "//# sourceURL=js_a10b9ee29f"
            ],
            "text/plain": [
              "<IPython.core.display.Javascript object>"
            ]
          },
          "metadata": {
            "tags": []
          }
        },
        {
          "output_type": "display_data",
          "data": {
            "application/javascript": [
              "window[\"754d3998-d15e-11e9-8d65-0242ac1c0002\"] = window[\"744a96a8-d15e-11e9-8d65-0242ac1c0002\"].getAttribute(\"position\");\n",
              "//# sourceURL=js_18d3a8b106"
            ],
            "text/plain": [
              "<IPython.core.display.Javascript object>"
            ]
          },
          "metadata": {
            "tags": []
          }
        },
        {
          "output_type": "display_data",
          "data": {
            "application/javascript": [
              "window[\"754d3998-d15e-11e9-8d65-0242ac1c0002\"].needsUpdate = true;\n",
              "//# sourceURL=js_25cd631734"
            ],
            "text/plain": [
              "<IPython.core.display.Javascript object>"
            ]
          },
          "metadata": {
            "tags": []
          }
        },
        {
          "output_type": "display_data",
          "data": {
            "application/javascript": [
              "window[\"75625f62-d15e-11e9-8d65-0242ac1c0002\"] = window[\"744a96a8-d15e-11e9-8d65-0242ac1c0002\"].getAttribute(\"position\");\n",
              "//# sourceURL=js_d8095dc06f"
            ],
            "text/plain": [
              "<IPython.core.display.Javascript object>"
            ]
          },
          "metadata": {
            "tags": []
          }
        },
        {
          "output_type": "display_data",
          "data": {
            "application/javascript": [
              "window[\"7562b05c-d15e-11e9-8d65-0242ac1c0002\"] = window[\"75625f62-d15e-11e9-8d65-0242ac1c0002\"].copyArray([-0.9050470590591431, 0.7952526211738586, 0.22510725259780884, -0.8051038980484009, 1.3226923942565918, -0.997971773147583, -1.5167067050933838, 0.3070306181907654, -1.4941132068634033, -1.616649866104126, -0.22040921449661255, -0.27103421092033386, -2.030985116958618, 1.4839777946472168, 0.4301072955131531, -1.931041955947876, 2.0114176273345947, -0.7929717302322388, -2.6426448822021484, 0.9957557320594788, -1.2891132831573486, -2.7425880432128906, 0.4683159589767456, -0.06603419780731201]);\n",
              "//# sourceURL=js_07cbaa1a96"
            ],
            "text/plain": [
              "<IPython.core.display.Javascript object>"
            ]
          },
          "metadata": {
            "tags": []
          }
        },
        {
          "output_type": "display_data",
          "data": {
            "application/javascript": [
              "window[\"7562f6c0-d15e-11e9-8d65-0242ac1c0002\"] = window[\"744a96a8-d15e-11e9-8d65-0242ac1c0002\"].getAttribute(\"position\");\n",
              "//# sourceURL=js_88cf24df1a"
            ],
            "text/plain": [
              "<IPython.core.display.Javascript object>"
            ]
          },
          "metadata": {
            "tags": []
          }
        },
        {
          "output_type": "display_data",
          "data": {
            "application/javascript": [
              "window[\"7562f6c0-d15e-11e9-8d65-0242ac1c0002\"].needsUpdate = true;\n",
              "//# sourceURL=js_f6e26fcdc6"
            ],
            "text/plain": [
              "<IPython.core.display.Javascript object>"
            ]
          },
          "metadata": {
            "tags": []
          }
        },
        {
          "output_type": "display_data",
          "data": {
            "application/javascript": [
              "window[\"7576f576-d15e-11e9-8d65-0242ac1c0002\"] = window[\"744a96a8-d15e-11e9-8d65-0242ac1c0002\"].getAttribute(\"position\");\n",
              "//# sourceURL=js_b34c683dec"
            ],
            "text/plain": [
              "<IPython.core.display.Javascript object>"
            ]
          },
          "metadata": {
            "tags": []
          }
        },
        {
          "output_type": "display_data",
          "data": {
            "application/javascript": [
              "window[\"75773bd0-d15e-11e9-8d65-0242ac1c0002\"] = window[\"7576f576-d15e-11e9-8d65-0242ac1c0002\"].copyArray([-0.9760497212409973, 0.589364767074585, 0.17555075883865356, -0.8185850381851196, 1.168577790260315, -0.84976726770401, -1.5457894802093506, 0.402762770652771, -1.3940657377243042, -1.703254222869873, -0.17645025253295898, -0.3687477111816406, -1.902299404144287, 1.2890785932540894, 0.4285764694213867, -1.7448346614837646, 1.8682916164398193, -0.5967415571212769, -2.472039222717285, 1.1024765968322754, -1.1410400867462158, -2.6295037269592285, 0.5232635736465454, -0.11572200059890747]);\n",
              "//# sourceURL=js_0d02384e45"
            ],
            "text/plain": [
              "<IPython.core.display.Javascript object>"
            ]
          },
          "metadata": {
            "tags": []
          }
        },
        {
          "output_type": "display_data",
          "data": {
            "application/javascript": [
              "window[\"757788b0-d15e-11e9-8d65-0242ac1c0002\"] = window[\"744a96a8-d15e-11e9-8d65-0242ac1c0002\"].getAttribute(\"position\");\n",
              "//# sourceURL=js_1a2279f44d"
            ],
            "text/plain": [
              "<IPython.core.display.Javascript object>"
            ]
          },
          "metadata": {
            "tags": []
          }
        },
        {
          "output_type": "display_data",
          "data": {
            "application/javascript": [
              "window[\"757788b0-d15e-11e9-8d65-0242ac1c0002\"].needsUpdate = true;\n",
              "//# sourceURL=js_3571a64d91"
            ],
            "text/plain": [
              "<IPython.core.display.Javascript object>"
            ]
          },
          "metadata": {
            "tags": []
          }
        },
        {
          "output_type": "display_data",
          "data": {
            "application/javascript": [
              "window[\"758b4634-d15e-11e9-8d65-0242ac1c0002\"] = window[\"744a96a8-d15e-11e9-8d65-0242ac1c0002\"].getAttribute(\"position\");\n",
              "//# sourceURL=js_505ecd1d4d"
            ],
            "text/plain": [
              "<IPython.core.display.Javascript object>"
            ]
          },
          "metadata": {
            "tags": []
          }
        },
        {
          "output_type": "display_data",
          "data": {
            "application/javascript": [
              "window[\"758b8b1c-d15e-11e9-8d65-0242ac1c0002\"] = window[\"758b4634-d15e-11e9-8d65-0242ac1c0002\"].copyArray([-1.0467102527618408, 0.40365687012672424, 0.1250106394290924, -0.8214896321296692, 1.035328984260559, -0.7104830741882324, -1.5386099815368652, 0.5054478645324707, -1.3044089078903198, -1.763830542564392, -0.12622421979904175, -0.46891534328460693, -1.810122013092041, 1.0877621173858643, 0.436436265707016, -1.5849014520645142, 1.7194342613220215, -0.3990573287010193, -2.3020217418670654, 1.189553141593933, -0.992983341217041, -2.527242422103882, 0.5578809976577759, -0.1574896275997162]);\n",
              "//# sourceURL=js_5e8a86a08e"
            ],
            "text/plain": [
              "<IPython.core.display.Javascript object>"
            ]
          },
          "metadata": {
            "tags": []
          }
        },
        {
          "output_type": "display_data",
          "data": {
            "application/javascript": [
              "window[\"758bce38-d15e-11e9-8d65-0242ac1c0002\"] = window[\"744a96a8-d15e-11e9-8d65-0242ac1c0002\"].getAttribute(\"position\");\n",
              "//# sourceURL=js_c428026fd3"
            ],
            "text/plain": [
              "<IPython.core.display.Javascript object>"
            ]
          },
          "metadata": {
            "tags": []
          }
        },
        {
          "output_type": "display_data",
          "data": {
            "application/javascript": [
              "window[\"758bce38-d15e-11e9-8d65-0242ac1c0002\"].needsUpdate = true;\n",
              "//# sourceURL=js_e7fd4a69bb"
            ],
            "text/plain": [
              "<IPython.core.display.Javascript object>"
            ]
          },
          "metadata": {
            "tags": []
          }
        },
        {
          "output_type": "display_data",
          "data": {
            "application/javascript": [
              "window[\"759f7582-d15e-11e9-8d65-0242ac1c0002\"] = window[\"744a96a8-d15e-11e9-8d65-0242ac1c0002\"].getAttribute(\"position\");\n",
              "//# sourceURL=js_50afac0ce5"
            ],
            "text/plain": [
              "<IPython.core.display.Javascript object>"
            ]
          },
          "metadata": {
            "tags": []
          }
        },
        {
          "output_type": "display_data",
          "data": {
            "application/javascript": [
              "window[\"759fb948-d15e-11e9-8d65-0242ac1c0002\"] = window[\"759f7582-d15e-11e9-8d65-0242ac1c0002\"].copyArray([-1.112353801727295, 0.23674428462982178, 0.06862872838973999, -0.8103046417236328, 0.9081680178642273, -0.5883274078369141, -1.5046864748001099, 0.6030014753341675, -1.2194706201553345, -1.8067355155944824, -0.06842225790023804, -0.56251460313797, -1.7449949979782104, 0.8922580480575562, 0.44770845770835876, -1.442945957183838, 1.5636818408966064, -0.20924757421016693, -2.1373276710510254, 1.2585152387619019, -0.8403909206390381, -2.4393768310546875, 0.5870915055274963, -0.18343481421470642]);\n",
              "//# sourceURL=js_f756ec4209"
            ],
            "text/plain": [
              "<IPython.core.display.Javascript object>"
            ]
          },
          "metadata": {
            "tags": []
          }
        },
        {
          "output_type": "display_data",
          "data": {
            "application/javascript": [
              "window[\"75a00420-d15e-11e9-8d65-0242ac1c0002\"] = window[\"744a96a8-d15e-11e9-8d65-0242ac1c0002\"].getAttribute(\"position\");\n",
              "//# sourceURL=js_463da3e640"
            ],
            "text/plain": [
              "<IPython.core.display.Javascript object>"
            ]
          },
          "metadata": {
            "tags": []
          }
        },
        {
          "output_type": "display_data",
          "data": {
            "application/javascript": [
              "window[\"75a00420-d15e-11e9-8d65-0242ac1c0002\"].needsUpdate = true;\n",
              "//# sourceURL=js_66288ba134"
            ],
            "text/plain": [
              "<IPython.core.display.Javascript object>"
            ]
          },
          "metadata": {
            "tags": []
          }
        },
        {
          "output_type": "display_data",
          "data": {
            "application/javascript": [
              "window[\"75b3b182-d15e-11e9-8d65-0242ac1c0002\"] = window[\"744a96a8-d15e-11e9-8d65-0242ac1c0002\"].getAttribute(\"position\");\n",
              "//# sourceURL=js_6eba59f3ff"
            ],
            "text/plain": [
              "<IPython.core.display.Javascript object>"
            ]
          },
          "metadata": {
            "tags": []
          }
        },
        {
          "output_type": "display_data",
          "data": {
            "application/javascript": [
              "window[\"75b3fb1a-d15e-11e9-8d65-0242ac1c0002\"] = window[\"75b3b182-d15e-11e9-8d65-0242ac1c0002\"].copyArray([-1.1725417375564575, 0.08725625276565552, 0.004724472761154175, -0.7846076488494873, 0.7788100242614746, -0.48925209045410156, -1.450891375541687, 0.6892141699790955, -1.1379358768463135, -1.8388255834579468, -0.0023395419120788574, -0.6439594030380249, -1.700107216835022, 0.7089300751686096, 0.4607383608818054, -1.3121730089187622, 1.4004838466644287, -0.03323814272880554, -1.9784568548202515, 1.3108880519866943, -0.6819220781326294, -2.3663909435272217, 0.6193342208862305, -0.18794548511505127]);\n",
              "//# sourceURL=js_3b17d1a9ec"
            ],
            "text/plain": [
              "<IPython.core.display.Javascript object>"
            ]
          },
          "metadata": {
            "tags": []
          }
        },
        {
          "output_type": "display_data",
          "data": {
            "application/javascript": [
              "window[\"75b448ea-d15e-11e9-8d65-0242ac1c0002\"] = window[\"744a96a8-d15e-11e9-8d65-0242ac1c0002\"].getAttribute(\"position\");\n",
              "//# sourceURL=js_aa73543ee0"
            ],
            "text/plain": [
              "<IPython.core.display.Javascript object>"
            ]
          },
          "metadata": {
            "tags": []
          }
        },
        {
          "output_type": "display_data",
          "data": {
            "application/javascript": [
              "window[\"75b448ea-d15e-11e9-8d65-0242ac1c0002\"].needsUpdate = true;\n",
              "//# sourceURL=js_fb45831a03"
            ],
            "text/plain": [
              "<IPython.core.display.Javascript object>"
            ]
          },
          "metadata": {
            "tags": []
          }
        },
        {
          "output_type": "display_data",
          "data": {
            "application/javascript": [
              "window[\"75c81834-d15e-11e9-8d65-0242ac1c0002\"] = window[\"744a96a8-d15e-11e9-8d65-0242ac1c0002\"].getAttribute(\"position\");\n",
              "//# sourceURL=js_f314d7d140"
            ],
            "text/plain": [
              "<IPython.core.display.Javascript object>"
            ]
          },
          "metadata": {
            "tags": []
          }
        },
        {
          "output_type": "display_data",
          "data": {
            "application/javascript": [
              "window[\"75c85bdc-d15e-11e9-8d65-0242ac1c0002\"] = window[\"75c81834-d15e-11e9-8d65-0242ac1c0002\"].copyArray([-1.2299405336380005, -0.04592317342758179, -0.06631705164909363, -0.7461127042770386, 0.6433417797088623, -0.41806191205978394, -1.3823778629302979, 0.7615785598754883, -1.0615575313568115, -1.8662056922912598, 0.07231360673904419, -0.7098127603530884, -1.6703691482543945, 0.5404503345489502, 0.4769037365913391, -1.1865413188934326, 1.229715347290039, 0.1251588761806488, -1.822806477546692, 1.347952127456665, -0.5183367729187012, -2.3066344261169434, 0.6586871147155762, -0.16659194231033325]);\n",
              "//# sourceURL=js_b7a7ddbc6d"
            ],
            "text/plain": [
              "<IPython.core.display.Javascript object>"
            ]
          },
          "metadata": {
            "tags": []
          }
        },
        {
          "output_type": "display_data",
          "data": {
            "application/javascript": [
              "window[\"75c8a114-d15e-11e9-8d65-0242ac1c0002\"] = window[\"744a96a8-d15e-11e9-8d65-0242ac1c0002\"].getAttribute(\"position\");\n",
              "//# sourceURL=js_38fee2bdb1"
            ],
            "text/plain": [
              "<IPython.core.display.Javascript object>"
            ]
          },
          "metadata": {
            "tags": []
          }
        },
        {
          "output_type": "display_data",
          "data": {
            "application/javascript": [
              "window[\"75c8a114-d15e-11e9-8d65-0242ac1c0002\"].needsUpdate = true;\n",
              "//# sourceURL=js_ebd46b945f"
            ],
            "text/plain": [
              "<IPython.core.display.Javascript object>"
            ]
          },
          "metadata": {
            "tags": []
          }
        },
        {
          "output_type": "display_data",
          "data": {
            "application/javascript": [
              "window[\"75dc664a-d15e-11e9-8d65-0242ac1c0002\"] = window[\"744a96a8-d15e-11e9-8d65-0242ac1c0002\"].getAttribute(\"position\");\n",
              "//# sourceURL=js_d7a400b64b"
            ],
            "text/plain": [
              "<IPython.core.display.Javascript object>"
            ]
          },
          "metadata": {
            "tags": []
          }
        },
        {
          "output_type": "display_data",
          "data": {
            "application/javascript": [
              "window[\"75dcb0c8-d15e-11e9-8d65-0242ac1c0002\"] = window[\"75dc664a-d15e-11e9-8d65-0242ac1c0002\"].copyArray([-1.2889857292175293, -0.16377097368240356, -0.14275026321411133, -0.6979274749755859, 0.5013201832771301, -0.3778678774833679, -1.3024626970291138, 0.8208032846450806, -0.9938581585884094, -1.8935209512710571, 0.15571215748786926, -0.7587406039237976, -1.6525288820266724, 0.3862842321395874, 0.4993181824684143, -1.061470627784729, 1.051375389099121, 0.2642006278038025, -1.6660058498382568, 1.3708584308624268, -0.3517897129058838, -2.2570641040802, 0.7057673335075378, -0.116672083735466]);\n",
              "//# sourceURL=js_5a93aef11f"
            ],
            "text/plain": [
              "<IPython.core.display.Javascript object>"
            ]
          },
          "metadata": {
            "tags": []
          }
        },
        {
          "output_type": "display_data",
          "data": {
            "application/javascript": [
              "window[\"75dcf65a-d15e-11e9-8d65-0242ac1c0002\"] = window[\"744a96a8-d15e-11e9-8d65-0242ac1c0002\"].getAttribute(\"position\");\n",
              "//# sourceURL=js_2e7876eada"
            ],
            "text/plain": [
              "<IPython.core.display.Javascript object>"
            ]
          },
          "metadata": {
            "tags": []
          }
        },
        {
          "output_type": "display_data",
          "data": {
            "application/javascript": [
              "window[\"75dcf65a-d15e-11e9-8d65-0242ac1c0002\"].needsUpdate = true;\n",
              "//# sourceURL=js_bbe4a7a976"
            ],
            "text/plain": [
              "<IPython.core.display.Javascript object>"
            ]
          },
          "metadata": {
            "tags": []
          }
        },
        {
          "output_type": "display_data",
          "data": {
            "application/javascript": [
              "window[\"75f17d00-d15e-11e9-8d65-0242ac1c0002\"] = window[\"744a96a8-d15e-11e9-8d65-0242ac1c0002\"].getAttribute(\"position\");\n",
              "//# sourceURL=js_185aa90032"
            ],
            "text/plain": [
              "<IPython.core.display.Javascript object>"
            ]
          },
          "metadata": {
            "tags": []
          }
        },
        {
          "output_type": "display_data",
          "data": {
            "application/javascript": [
              "window[\"75f1cb8e-d15e-11e9-8d65-0242ac1c0002\"] = window[\"75f17d00-d15e-11e9-8d65-0242ac1c0002\"].copyArray([-1.354223370552063, -0.267363965511322, -0.22236941754817963, -0.6435754895210266, 0.3545762896537781, -0.36943483352661133, -1.2125684022903442, 0.8701516389846802, -0.9385458827018738, -1.9232163429260254, 0.2482113540172577, -0.791480541229248, -1.6452301740646362, 0.24335184693336487, 0.5312502980232239, -0.9345822334289551, 0.8652920722961426, 0.38418495655059814, -1.5035752058029175, 1.3808674812316895, -0.18492619693279266, -2.2142231464385986, 0.7589271664619446, -0.037860795855522156]);\n",
              "//# sourceURL=js_458e28bcbc"
            ],
            "text/plain": [
              "<IPython.core.display.Javascript object>"
            ]
          },
          "metadata": {
            "tags": []
          }
        },
        {
          "output_type": "display_data",
          "data": {
            "application/javascript": [
              "window[\"75f216b6-d15e-11e9-8d65-0242ac1c0002\"] = window[\"744a96a8-d15e-11e9-8d65-0242ac1c0002\"].getAttribute(\"position\");\n",
              "//# sourceURL=js_bed86d714e"
            ],
            "text/plain": [
              "<IPython.core.display.Javascript object>"
            ]
          },
          "metadata": {
            "tags": []
          }
        },
        {
          "output_type": "display_data",
          "data": {
            "application/javascript": [
              "window[\"75f216b6-d15e-11e9-8d65-0242ac1c0002\"].needsUpdate = true;\n",
              "//# sourceURL=js_05c1d64aac"
            ],
            "text/plain": [
              "<IPython.core.display.Javascript object>"
            ]
          },
          "metadata": {
            "tags": []
          }
        },
        {
          "output_type": "display_data",
          "data": {
            "application/javascript": [
              "window[\"76073136-d15e-11e9-8d65-0242ac1c0002\"] = window[\"744a96a8-d15e-11e9-8d65-0242ac1c0002\"].getAttribute(\"position\");\n",
              "//# sourceURL=js_28d4660d0e"
            ],
            "text/plain": [
              "<IPython.core.display.Javascript object>"
            ]
          },
          "metadata": {
            "tags": []
          }
        },
        {
          "output_type": "display_data",
          "data": {
            "application/javascript": [
              "window[\"76077b0a-d15e-11e9-8d65-0242ac1c0002\"] = window[\"76073136-d15e-11e9-8d65-0242ac1c0002\"].copyArray([-1.4290577173233032, -0.3579970598220825, -0.3033856749534607, -0.5860622525215149, 0.20571395754814148, -0.3913925290107727, -1.1126960515975952, 0.9141213297843933, -0.8983172178268433, -1.9556915760040283, 0.3504102826118469, -0.8103103041648865, -1.648539423942566, 0.10734754800796509, 0.5749303102493286, -0.8055439591407776, 0.6710585951805115, 0.4869233965873718, -1.332177758216858, 1.379465937614441, -0.02000121772289276, -2.175173282623291, 0.8157548904418945, 0.06800562143325806]);\n",
              "//# sourceURL=js_f537f8794c"
            ],
            "text/plain": [
              "<IPython.core.display.Javascript object>"
            ]
          },
          "metadata": {
            "tags": []
          }
        },
        {
          "output_type": "display_data",
          "data": {
            "application/javascript": [
              "window[\"7607c59c-d15e-11e9-8d65-0242ac1c0002\"] = window[\"744a96a8-d15e-11e9-8d65-0242ac1c0002\"].getAttribute(\"position\");\n",
              "//# sourceURL=js_28ca755532"
            ],
            "text/plain": [
              "<IPython.core.display.Javascript object>"
            ]
          },
          "metadata": {
            "tags": []
          }
        },
        {
          "output_type": "display_data",
          "data": {
            "application/javascript": [
              "window[\"7607c59c-d15e-11e9-8d65-0242ac1c0002\"].needsUpdate = true;\n",
              "//# sourceURL=js_aec670c6ae"
            ],
            "text/plain": [
              "<IPython.core.display.Javascript object>"
            ]
          },
          "metadata": {
            "tags": []
          }
        },
        {
          "output_type": "display_data",
          "data": {
            "application/javascript": [
              "window[\"761bce3e-d15e-11e9-8d65-0242ac1c0002\"] = window[\"744a96a8-d15e-11e9-8d65-0242ac1c0002\"].getAttribute(\"position\");\n",
              "//# sourceURL=js_398e503b00"
            ],
            "text/plain": [
              "<IPython.core.display.Javascript object>"
            ]
          },
          "metadata": {
            "tags": []
          }
        },
        {
          "output_type": "display_data",
          "data": {
            "application/javascript": [
              "window[\"761c1e84-d15e-11e9-8d65-0242ac1c0002\"] = window[\"761bce3e-d15e-11e9-8d65-0242ac1c0002\"].copyArray([-1.515223503112793, -0.4371142089366913, -0.38501185178756714, -0.5272518992424011, 0.0570504367351532, -0.4409123957157135, -1.0019848346710205, 0.9571404457092285, -0.8743611574172974, -1.9899564981460571, 0.4629758894443512, -0.8184607028961182, -1.6633861064910889, -0.02595648169517517, 0.6310632228851318, -0.6754144430160522, 0.46820810437202454, 0.5751626491546631, -1.1501474380493164, 1.3682981729507446, 0.14171385765075684, -2.1381189823150635, 0.8741335868835449, 0.1976144015789032]);\n",
              "//# sourceURL=js_ecec931931"
            ],
            "text/plain": [
              "<IPython.core.display.Javascript object>"
            ]
          },
          "metadata": {
            "tags": []
          }
        },
        {
          "output_type": "display_data",
          "data": {
            "application/javascript": [
              "window[\"761ca926-d15e-11e9-8d65-0242ac1c0002\"] = window[\"744a96a8-d15e-11e9-8d65-0242ac1c0002\"].getAttribute(\"position\");\n",
              "//# sourceURL=js_59abeaa18a"
            ],
            "text/plain": [
              "<IPython.core.display.Javascript object>"
            ]
          },
          "metadata": {
            "tags": []
          }
        },
        {
          "output_type": "display_data",
          "data": {
            "application/javascript": [
              "window[\"761ca926-d15e-11e9-8d65-0242ac1c0002\"].needsUpdate = true;\n",
              "//# sourceURL=js_d1dccc6a83"
            ],
            "text/plain": [
              "<IPython.core.display.Javascript object>"
            ]
          },
          "metadata": {
            "tags": []
          }
        },
        {
          "output_type": "display_data",
          "data": {
            "application/javascript": [
              "window[\"76304968-d15e-11e9-8d65-0242ac1c0002\"] = window[\"744a96a8-d15e-11e9-8d65-0242ac1c0002\"].getAttribute(\"position\");\n",
              "//# sourceURL=js_97928f9c4a"
            ],
            "text/plain": [
              "<IPython.core.display.Javascript object>"
            ]
          },
          "metadata": {
            "tags": []
          }
        },
        {
          "output_type": "display_data",
          "data": {
            "application/javascript": [
              "window[\"763089a0-d15e-11e9-8d65-0242ac1c0002\"] = window[\"76304968-d15e-11e9-8d65-0242ac1c0002\"].copyArray([-1.6126078367233276, -0.5061532855033875, -0.46782034635543823, -0.46746671199798584, -0.08977854251861572, -0.514143168926239, -0.8789486289024353, 1.0027365684509277, -0.8662160038948059, -2.024089813232422, 0.5863617658615112, -0.8198933005332947, -1.6913254261016846, -0.15988081693649292, 0.6986960768699646, -0.5461844205856323, 0.2564939260482788, 0.6523733735084534, -0.957666277885437, 1.3490090370178223, 0.3003004193305969, -2.1028075218200684, 0.9326342344284058, 0.3466232419013977]);\n",
              "//# sourceURL=js_f39281b8c6"
            ],
            "text/plain": [
              "<IPython.core.display.Javascript object>"
            ]
          },
          "metadata": {
            "tags": []
          }
        },
        {
          "output_type": "display_data",
          "data": {
            "application/javascript": [
              "window[\"7630ca78-d15e-11e9-8d65-0242ac1c0002\"] = window[\"744a96a8-d15e-11e9-8d65-0242ac1c0002\"].getAttribute(\"position\");\n",
              "//# sourceURL=js_d19a176813"
            ],
            "text/plain": [
              "<IPython.core.display.Javascript object>"
            ]
          },
          "metadata": {
            "tags": []
          }
        },
        {
          "output_type": "display_data",
          "data": {
            "application/javascript": [
              "window[\"7630ca78-d15e-11e9-8d65-0242ac1c0002\"].needsUpdate = true;\n",
              "//# sourceURL=js_d2f30e1c36"
            ],
            "text/plain": [
              "<IPython.core.display.Javascript object>"
            ]
          },
          "metadata": {
            "tags": []
          }
        },
        {
          "output_type": "display_data",
          "data": {
            "application/javascript": [
              "window[\"7644a994-d15e-11e9-8d65-0242ac1c0002\"] = window[\"744a96a8-d15e-11e9-8d65-0242ac1c0002\"].getAttribute(\"position\");\n",
              "//# sourceURL=js_b42ac4699f"
            ],
            "text/plain": [
              "<IPython.core.display.Javascript object>"
            ]
          },
          "metadata": {
            "tags": []
          }
        },
        {
          "output_type": "display_data",
          "data": {
            "application/javascript": [
              "window[\"7644f462-d15e-11e9-8d65-0242ac1c0002\"] = window[\"7644a994-d15e-11e9-8d65-0242ac1c0002\"].copyArray([-1.7190768718719482, -0.566391110420227, -0.5539774894714355, -0.4051990509033203, -0.2338356375694275, -0.6062667369842529, -0.7414853572845459, 1.0530568361282349, -0.8716371059417725, -2.055363178253174, 0.7205013036727905, -0.8193477392196655, -1.7345302104949951, -0.2963601350784302, 0.7750998735427856, -0.4206523299217224, 0.03619539737701416, 0.7228106260299683, -0.7569387555122375, 1.3230878114700317, 0.4574402868747711, -2.0708165168762207, 0.9905323386192322, 0.5097295045852661]);\n",
              "//# sourceURL=js_f6c7d7e70d"
            ],
            "text/plain": [
              "<IPython.core.display.Javascript object>"
            ]
          },
          "metadata": {
            "tags": []
          }
        },
        {
          "output_type": "display_data",
          "data": {
            "application/javascript": [
              "window[\"76453dd2-d15e-11e9-8d65-0242ac1c0002\"] = window[\"744a96a8-d15e-11e9-8d65-0242ac1c0002\"].getAttribute(\"position\");\n",
              "//# sourceURL=js_90512c1af3"
            ],
            "text/plain": [
              "<IPython.core.display.Javascript object>"
            ]
          },
          "metadata": {
            "tags": []
          }
        },
        {
          "output_type": "display_data",
          "data": {
            "application/javascript": [
              "window[\"76453dd2-d15e-11e9-8d65-0242ac1c0002\"].needsUpdate = true;\n",
              "//# sourceURL=js_b042720084"
            ],
            "text/plain": [
              "<IPython.core.display.Javascript object>"
            ]
          },
          "metadata": {
            "tags": []
          }
        },
        {
          "output_type": "display_data",
          "data": {
            "application/javascript": [
              "window[\"76591f28-d15e-11e9-8d65-0242ac1c0002\"] = window[\"744a96a8-d15e-11e9-8d65-0242ac1c0002\"].getAttribute(\"position\");\n",
              "//# sourceURL=js_2c0d0a2b11"
            ],
            "text/plain": [
              "<IPython.core.display.Javascript object>"
            ]
          },
          "metadata": {
            "tags": []
          }
        },
        {
          "output_type": "display_data",
          "data": {
            "application/javascript": [
              "window[\"7659658c-d15e-11e9-8d65-0242ac1c0002\"] = window[\"76591f28-d15e-11e9-8d65-0242ac1c0002\"].copyArray([-1.8303958177566528, -0.6188336610794067, -0.6471024751663208, -0.33718663454055786, -0.37479937076568604, -0.7115187048912048, -0.5871566534042358, 1.1085243225097656, -0.8865670561790466, -2.0803658962249756, 0.8644900918006897, -0.8221508264541626, -1.7955089807510376, -0.4356008768081665, 0.8557563424110413, -0.3022996783256531, -0.19156664609909058, 0.7913401126861572, -0.5522698163986206, 1.2917571067810059, 0.6162917613983154, -2.0454790592193604, 1.0477228164672852, 0.6807079911231995]);\n",
              "//# sourceURL=js_a92c466c71"
            ],
            "text/plain": [
              "<IPython.core.display.Javascript object>"
            ]
          },
          "metadata": {
            "tags": []
          }
        },
        {
          "output_type": "display_data",
          "data": {
            "application/javascript": [
              "window[\"7659a614-d15e-11e9-8d65-0242ac1c0002\"] = window[\"744a96a8-d15e-11e9-8d65-0242ac1c0002\"].getAttribute(\"position\");\n",
              "//# sourceURL=js_4c816f3b0c"
            ],
            "text/plain": [
              "<IPython.core.display.Javascript object>"
            ]
          },
          "metadata": {
            "tags": []
          }
        },
        {
          "output_type": "display_data",
          "data": {
            "application/javascript": [
              "window[\"7659a614-d15e-11e9-8d65-0242ac1c0002\"].needsUpdate = true;\n",
              "//# sourceURL=js_37a24cd350"
            ],
            "text/plain": [
              "<IPython.core.display.Javascript object>"
            ]
          },
          "metadata": {
            "tags": []
          }
        },
        {
          "output_type": "display_data",
          "data": {
            "application/javascript": [
              "window[\"766d74c8-d15e-11e9-8d65-0242ac1c0002\"] = window[\"744a96a8-d15e-11e9-8d65-0242ac1c0002\"].getAttribute(\"position\");\n",
              "//# sourceURL=js_14a45cf5c3"
            ],
            "text/plain": [
              "<IPython.core.display.Javascript object>"
            ]
          },
          "metadata": {
            "tags": []
          }
        },
        {
          "output_type": "display_data",
          "data": {
            "application/javascript": [
              "window[\"766db8ac-d15e-11e9-8d65-0242ac1c0002\"] = window[\"766d74c8-d15e-11e9-8d65-0242ac1c0002\"].copyArray([-1.9407105445861816, -0.6641882658004761, -0.7510986924171448, -0.2595070004463196, -0.5127918720245361, -0.8236315250396729, -0.4143750071525574, 1.1676580905914307, -0.9056734442710876, -2.095578670501709, 1.0162616968154907, -0.8331405520439148, -1.8759205341339111, -0.5759038925170898, 0.9349129796028137, -0.19471698999404907, -0.4245074689388275, 0.8623800873756409, -0.34958505630493164, 1.255942463874817, 0.7803382277488708, -2.0307886600494385, 1.104546070098877, 0.8528710603713989]);\n",
              "//# sourceURL=js_15eba8ffd8"
            ],
            "text/plain": [
              "<IPython.core.display.Javascript object>"
            ]
          },
          "metadata": {
            "tags": []
          }
        },
        {
          "output_type": "display_data",
          "data": {
            "application/javascript": [
              "window[\"766dfae2-d15e-11e9-8d65-0242ac1c0002\"] = window[\"744a96a8-d15e-11e9-8d65-0242ac1c0002\"].getAttribute(\"position\");\n",
              "//# sourceURL=js_da1b78f40e"
            ],
            "text/plain": [
              "<IPython.core.display.Javascript object>"
            ]
          },
          "metadata": {
            "tags": []
          }
        },
        {
          "output_type": "display_data",
          "data": {
            "application/javascript": [
              "window[\"766dfae2-d15e-11e9-8d65-0242ac1c0002\"].needsUpdate = true;\n",
              "//# sourceURL=js_eaef4bdab1"
            ],
            "text/plain": [
              "<IPython.core.display.Javascript object>"
            ]
          },
          "metadata": {
            "tags": []
          }
        },
        {
          "output_type": "display_data",
          "data": {
            "application/javascript": [
              "window[\"7681f79a-d15e-11e9-8d65-0242ac1c0002\"] = window[\"744a96a8-d15e-11e9-8d65-0242ac1c0002\"].getAttribute(\"position\");\n",
              "//# sourceURL=js_6dc1b9a84d"
            ],
            "text/plain": [
              "<IPython.core.display.Javascript object>"
            ]
          },
          "metadata": {
            "tags": []
          }
        },
        {
          "output_type": "display_data",
          "data": {
            "application/javascript": [
              "window[\"76823f98-d15e-11e9-8d65-0242ac1c0002\"] = window[\"7681f79a-d15e-11e9-8d65-0242ac1c0002\"].copyArray([-2.0437185764312744, -0.7028630971908569, -0.8677593469619751, -0.1698649525642395, -0.6478313207626343, -0.9366059899330139, -0.22445529699325562, 1.2272542715072632, -0.9236038327217102, -2.098308563232422, 1.1722224950790405, -0.8547571301460266, -1.9745211601257324, -0.7138475179672241, 1.006856918334961, -0.10066783428192139, -0.6588157415390015, 0.9380102753639221, -0.15525799989700317, 1.216269850730896, 0.9510124921798706, -2.029111623764038, 1.1612380743026733, 1.0198590755462646]);\n",
              "//# sourceURL=js_63154606c7"
            ],
            "text/plain": [
              "<IPython.core.display.Javascript object>"
            ]
          },
          "metadata": {
            "tags": []
          }
        },
        {
          "output_type": "display_data",
          "data": {
            "application/javascript": [
              "window[\"76827ef4-d15e-11e9-8d65-0242ac1c0002\"] = window[\"744a96a8-d15e-11e9-8d65-0242ac1c0002\"].getAttribute(\"position\");\n",
              "//# sourceURL=js_6576e2d6f5"
            ],
            "text/plain": [
              "<IPython.core.display.Javascript object>"
            ]
          },
          "metadata": {
            "tags": []
          }
        },
        {
          "output_type": "display_data",
          "data": {
            "application/javascript": [
              "window[\"76827ef4-d15e-11e9-8d65-0242ac1c0002\"].needsUpdate = true;\n",
              "//# sourceURL=js_f6acc25fe0"
            ],
            "text/plain": [
              "<IPython.core.display.Javascript object>"
            ]
          },
          "metadata": {
            "tags": []
          }
        },
        {
          "output_type": "display_data",
          "data": {
            "application/javascript": [
              "window[\"7697bac6-d15e-11e9-8d65-0242ac1c0002\"] = window[\"744a96a8-d15e-11e9-8d65-0242ac1c0002\"].getAttribute(\"position\");\n",
              "//# sourceURL=js_ed0e5a9797"
            ],
            "text/plain": [
              "<IPython.core.display.Javascript object>"
            ]
          },
          "metadata": {
            "tags": []
          }
        },
        {
          "output_type": "display_data",
          "data": {
            "application/javascript": [
              "window[\"76980940-d15e-11e9-8d65-0242ac1c0002\"] = window[\"7697bac6-d15e-11e9-8d65-0242ac1c0002\"].copyArray([-2.1337409019470215, -0.7348113059997559, -0.9943113923072815, -0.0698888897895813, -0.7787388563156128, -1.0450084209442139, -0.023337483406066895, 1.2828083038330078, -0.9361923336982727, -2.0871896743774414, 1.3267358541488647, -0.8854956030845642, -2.085442066192627, -0.8447127342224121, 1.0671378374099731, -0.021590113639831543, -0.888640284538269, 1.0164411067962646, 0.024961233139038086, 1.1729068756103516, 1.125256896018982, -2.038890838623047, 1.2168344259262085, 1.1759538650512695]);\n",
              "//# sourceURL=js_95955ece7e"
            ],
            "text/plain": [
              "<IPython.core.display.Javascript object>"
            ]
          },
          "metadata": {
            "tags": []
          }
        },
        {
          "output_type": "display_data",
          "data": {
            "application/javascript": [
              "window[\"76985710-d15e-11e9-8d65-0242ac1c0002\"] = window[\"744a96a8-d15e-11e9-8d65-0242ac1c0002\"].getAttribute(\"position\");\n",
              "//# sourceURL=js_a6a5848777"
            ],
            "text/plain": [
              "<IPython.core.display.Javascript object>"
            ]
          },
          "metadata": {
            "tags": []
          }
        },
        {
          "output_type": "display_data",
          "data": {
            "application/javascript": [
              "window[\"76985710-d15e-11e9-8d65-0242ac1c0002\"].needsUpdate = true;\n",
              "//# sourceURL=js_0325ccff85"
            ],
            "text/plain": [
              "<IPython.core.display.Javascript object>"
            ]
          },
          "metadata": {
            "tags": []
          }
        },
        {
          "output_type": "display_data",
          "data": {
            "application/javascript": [
              "window[\"76ac40ea-d15e-11e9-8d65-0242ac1c0002\"] = window[\"744a96a8-d15e-11e9-8d65-0242ac1c0002\"].getAttribute(\"position\");\n",
              "//# sourceURL=js_52a76bfa8d"
            ],
            "text/plain": [
              "<IPython.core.display.Javascript object>"
            ]
          },
          "metadata": {
            "tags": []
          }
        },
        {
          "output_type": "display_data",
          "data": {
            "application/javascript": [
              "window[\"76ac8a00-d15e-11e9-8d65-0242ac1c0002\"] = window[\"76ac40ea-d15e-11e9-8d65-0242ac1c0002\"].copyArray([-2.2062253952026367, -0.7592514753341675, -1.1222105026245117, 0.03382766246795654, -0.9019976258277893, -1.1437419652938843, 0.17793750762939453, 1.3288867473602295, -0.9410982728004456, -2.062115430831909, 1.471632957458496, -0.9195666909217834, -2.1977131366729736, -0.9628580212593079, 1.113219976425171, 0.04233980178833008, -1.1056041717529297, 1.0916883945465088, 0.18644964694976807, 1.1252801418304443, 1.2943322658538818, -2.053603172302246, 1.268026351928711, 1.3158637285232544]);\n",
              "//# sourceURL=js_8e4aa4dae4"
            ],
            "text/plain": [
              "<IPython.core.display.Javascript object>"
            ]
          },
          "metadata": {
            "tags": []
          }
        },
        {
          "output_type": "display_data",
          "data": {
            "application/javascript": [
              "window[\"76accb82-d15e-11e9-8d65-0242ac1c0002\"] = window[\"744a96a8-d15e-11e9-8d65-0242ac1c0002\"].getAttribute(\"position\");\n",
              "//# sourceURL=js_1119b06167"
            ],
            "text/plain": [
              "<IPython.core.display.Javascript object>"
            ]
          },
          "metadata": {
            "tags": []
          }
        },
        {
          "output_type": "display_data",
          "data": {
            "application/javascript": [
              "window[\"76accb82-d15e-11e9-8d65-0242ac1c0002\"].needsUpdate = true;\n",
              "//# sourceURL=js_f3deb42815"
            ],
            "text/plain": [
              "<IPython.core.display.Javascript object>"
            ]
          },
          "metadata": {
            "tags": []
          }
        },
        {
          "output_type": "display_data",
          "data": {
            "application/javascript": [
              "window[\"76c0c768-d15e-11e9-8d65-0242ac1c0002\"] = window[\"744a96a8-d15e-11e9-8d65-0242ac1c0002\"].getAttribute(\"position\");\n",
              "//# sourceURL=js_f207849093"
            ],
            "text/plain": [
              "<IPython.core.display.Javascript object>"
            ]
          },
          "metadata": {
            "tags": []
          }
        },
        {
          "output_type": "display_data",
          "data": {
            "application/javascript": [
              "window[\"76c11416-d15e-11e9-8d65-0242ac1c0002\"] = window[\"76c0c768-d15e-11e9-8d65-0242ac1c0002\"].copyArray([-2.258420467376709, -0.7748026847839355, -1.2377760410308838, 0.1303451657295227, -1.0115845203399658, -1.2283817529678345, 0.36426597833633423, 1.3598216772079468, -0.9384358525276184, -2.0244996547698975, 1.5966036319732666, -0.9478301405906677, -2.2963008880615234, -1.062416911125183, 1.1451209783554077, 0.09246474504470825, -1.299198865890503, 1.154515266418457, 0.3263856768608093, 1.0722074508666992, 1.4444611072540283, -2.062380075454712, 1.3089892864227295, 1.435066819190979]);\n",
              "//# sourceURL=js_60fcc97b3c"
            ],
            "text/plain": [
              "<IPython.core.display.Javascript object>"
            ]
          },
          "metadata": {
            "tags": []
          }
        },
        {
          "output_type": "display_data",
          "data": {
            "application/javascript": [
              "window[\"76c157fa-d15e-11e9-8d65-0242ac1c0002\"] = window[\"744a96a8-d15e-11e9-8d65-0242ac1c0002\"].getAttribute(\"position\");\n",
              "//# sourceURL=js_83bf6ffb63"
            ],
            "text/plain": [
              "<IPython.core.display.Javascript object>"
            ]
          },
          "metadata": {
            "tags": []
          }
        },
        {
          "output_type": "display_data",
          "data": {
            "application/javascript": [
              "window[\"76c157fa-d15e-11e9-8d65-0242ac1c0002\"].needsUpdate = true;\n",
              "//# sourceURL=js_8f1bde5f7e"
            ],
            "text/plain": [
              "<IPython.core.display.Javascript object>"
            ]
          },
          "metadata": {
            "tags": []
          }
        },
        {
          "output_type": "display_data",
          "data": {
            "application/javascript": [
              "window[\"76d551b0-d15e-11e9-8d65-0242ac1c0002\"] = window[\"744a96a8-d15e-11e9-8d65-0242ac1c0002\"].getAttribute(\"position\");\n",
              "//# sourceURL=js_5ccb51eba1"
            ],
            "text/plain": [
              "<IPython.core.display.Javascript object>"
            ]
          },
          "metadata": {
            "tags": []
          }
        },
        {
          "output_type": "display_data",
          "data": {
            "application/javascript": [
              "window[\"76d59cf6-d15e-11e9-8d65-0242ac1c0002\"] = window[\"76d551b0-d15e-11e9-8d65-0242ac1c0002\"].copyArray([-2.2902112007141113, -0.7805342674255371, -1.3256810903549194, 0.20743238925933838, -1.1006437540054321, -1.296183705329895, 0.519940972328186, 1.3713293075561523, -0.9311510324478149, -1.9777021408081055, 1.6914390325546265, -0.9606482982635498, -2.365567684173584, -1.1389195919036865, 1.1657930612564087, 0.13207530975341797, -1.4590293169021606, 1.1952903270721436, 0.4445842504501343, 1.012943983078003, 1.5603231191635132, -2.0530591011047363, 1.333053469657898, 1.5308257341384888]);\n",
              "//# sourceURL=js_3935526b9f"
            ],
            "text/plain": [
              "<IPython.core.display.Javascript object>"
            ]
          },
          "metadata": {
            "tags": []
          }
        },
        {
          "output_type": "display_data",
          "data": {
            "application/javascript": [
              "window[\"76d5dc20-d15e-11e9-8d65-0242ac1c0002\"] = window[\"744a96a8-d15e-11e9-8d65-0242ac1c0002\"].getAttribute(\"position\");\n",
              "//# sourceURL=js_6994421b0d"
            ],
            "text/plain": [
              "<IPython.core.display.Javascript object>"
            ]
          },
          "metadata": {
            "tags": []
          }
        },
        {
          "output_type": "display_data",
          "data": {
            "application/javascript": [
              "window[\"76d5dc20-d15e-11e9-8d65-0242ac1c0002\"].needsUpdate = true;\n",
              "//# sourceURL=js_4bb82a679c"
            ],
            "text/plain": [
              "<IPython.core.display.Javascript object>"
            ]
          },
          "metadata": {
            "tags": []
          }
        },
        {
          "output_type": "display_data",
          "data": {
            "application/javascript": [
              "window[\"76e9c00a-d15e-11e9-8d65-0242ac1c0002\"] = window[\"744a96a8-d15e-11e9-8d65-0242ac1c0002\"].getAttribute(\"position\");\n",
              "//# sourceURL=js_66580261aa"
            ],
            "text/plain": [
              "<IPython.core.display.Javascript object>"
            ]
          },
          "metadata": {
            "tags": []
          }
        },
        {
          "output_type": "display_data",
          "data": {
            "application/javascript": [
              "window[\"76ea0768-d15e-11e9-8d65-0242ac1c0002\"] = window[\"76e9c00a-d15e-11e9-8d65-0242ac1c0002\"].copyArray([-2.303213357925415, -0.7773087024688721, -1.3751388788223267, 0.25693804025650024, -1.1644930839538574, -1.3459819555282593, 0.634246289730072, 1.3621858358383179, -0.9232903718948364, -1.9259049892425537, 1.7493702173233032, -0.9524470567703247, -2.394866466522217, -1.190972924232483, 1.1793900728225708, 0.16528469324111938, -1.5781573057174683, 1.208546757698059, 0.5425930619239807, 0.948521614074707, 1.631238579750061, -2.0175583362579346, 1.3357059955596924, 1.6020816564559937]);\n",
              "//# sourceURL=js_9ea039be39"
            ],
            "text/plain": [
              "<IPython.core.display.Javascript object>"
            ]
          },
          "metadata": {
            "tags": []
          }
        },
        {
          "output_type": "display_data",
          "data": {
            "application/javascript": [
              "window[\"76ea5632-d15e-11e9-8d65-0242ac1c0002\"] = window[\"744a96a8-d15e-11e9-8d65-0242ac1c0002\"].getAttribute(\"position\");\n",
              "//# sourceURL=js_a56880db77"
            ],
            "text/plain": [
              "<IPython.core.display.Javascript object>"
            ]
          },
          "metadata": {
            "tags": []
          }
        },
        {
          "output_type": "display_data",
          "data": {
            "application/javascript": [
              "window[\"76ea5632-d15e-11e9-8d65-0242ac1c0002\"].needsUpdate = true;\n",
              "//# sourceURL=js_38ce20baab"
            ],
            "text/plain": [
              "<IPython.core.display.Javascript object>"
            ]
          },
          "metadata": {
            "tags": []
          }
        },
        {
          "output_type": "display_data",
          "data": {
            "application/javascript": [
              "window[\"76fe5754-d15e-11e9-8d65-0242ac1c0002\"] = window[\"744a96a8-d15e-11e9-8d65-0242ac1c0002\"].getAttribute(\"position\");\n",
              "//# sourceURL=js_d75502a046"
            ],
            "text/plain": [
              "<IPython.core.display.Javascript object>"
            ]
          },
          "metadata": {
            "tags": []
          }
        },
        {
          "output_type": "display_data",
          "data": {
            "application/javascript": [
              "window[\"76fe9e4e-d15e-11e9-8d65-0242ac1c0002\"] = window[\"76fe5754-d15e-11e9-8d65-0242ac1c0002\"].copyArray([-2.2982659339904785, -0.7679824829101562, -1.3844213485717773, 0.2786009907722473, -1.2026376724243164, -1.3767426013946533, 0.705139696598053, 1.3342374563217163, -0.9167895913124084, -1.8717272281646729, 1.768892526626587, -0.9244683384895325, -2.3822219371795654, -1.2202733755111694, 1.1880505084991455, 0.1946449875831604, -1.65492844581604, 1.1957292556762695, 0.6211838126182556, 0.8819464445114136, 1.65568208694458, -1.9556832313537598, 1.3166017532348633, 1.648003339767456]);\n",
              "//# sourceURL=js_e6e0c18dba"
            ],
            "text/plain": [
              "<IPython.core.display.Javascript object>"
            ]
          },
          "metadata": {
            "tags": []
          }
        },
        {
          "output_type": "display_data",
          "data": {
            "application/javascript": [
              "window[\"76feebb0-d15e-11e9-8d65-0242ac1c0002\"] = window[\"744a96a8-d15e-11e9-8d65-0242ac1c0002\"].getAttribute(\"position\");\n",
              "//# sourceURL=js_65e2e7ef1e"
            ],
            "text/plain": [
              "<IPython.core.display.Javascript object>"
            ]
          },
          "metadata": {
            "tags": []
          }
        },
        {
          "output_type": "display_data",
          "data": {
            "application/javascript": [
              "window[\"76feebb0-d15e-11e9-8d65-0242ac1c0002\"].needsUpdate = true;\n",
              "//# sourceURL=js_a8646728b9"
            ],
            "text/plain": [
              "<IPython.core.display.Javascript object>"
            ]
          },
          "metadata": {
            "tags": []
          }
        },
        {
          "output_type": "display_data",
          "data": {
            "application/javascript": [
              "window[\"7712bd5c-d15e-11e9-8d65-0242ac1c0002\"] = window[\"744a96a8-d15e-11e9-8d65-0242ac1c0002\"].getAttribute(\"position\");\n",
              "//# sourceURL=js_4518be2412"
            ],
            "text/plain": [
              "<IPython.core.display.Javascript object>"
            ]
          },
          "metadata": {
            "tags": []
          }
        },
        {
          "output_type": "display_data",
          "data": {
            "application/javascript": [
              "window[\"77130762-d15e-11e9-8d65-0242ac1c0002\"] = window[\"7712bd5c-d15e-11e9-8d65-0242ac1c0002\"].copyArray([-2.2742857933044434, -0.7562485337257385, -1.3601231575012207, 0.27912235260009766, -1.2183034420013428, -1.3869247436523438, 0.7381812334060669, 1.2908942699432373, -0.9101662635803223, -1.8152270317077637, 1.7529492378234863, -0.8833646774291992, -2.3332595825195312, -1.2301042079925537, 1.1905806064605713, 0.22014856338500977, -1.6921591758728027, 1.1637790203094482, 0.679207444190979, 0.8170385956764221, 1.6405375003814697, -1.8742008209228516, 1.2790935039520264, 1.6673390865325928]);\n",
              "//# sourceURL=js_c5879fd1b1"
            ],
            "text/plain": [
              "<IPython.core.display.Javascript object>"
            ]
          },
          "metadata": {
            "tags": []
          }
        },
        {
          "output_type": "display_data",
          "data": {
            "application/javascript": [
              "window[\"771359f6-d15e-11e9-8d65-0242ac1c0002\"] = window[\"744a96a8-d15e-11e9-8d65-0242ac1c0002\"].getAttribute(\"position\");\n",
              "//# sourceURL=js_79920f8cff"
            ],
            "text/plain": [
              "<IPython.core.display.Javascript object>"
            ]
          },
          "metadata": {
            "tags": []
          }
        },
        {
          "output_type": "display_data",
          "data": {
            "application/javascript": [
              "window[\"771359f6-d15e-11e9-8d65-0242ac1c0002\"].needsUpdate = true;\n",
              "//# sourceURL=js_256bd0b7db"
            ],
            "text/plain": [
              "<IPython.core.display.Javascript object>"
            ]
          },
          "metadata": {
            "tags": []
          }
        },
        {
          "output_type": "display_data",
          "data": {
            "application/javascript": [
              "window[\"7727307a-d15e-11e9-8d65-0242ac1c0002\"] = window[\"744a96a8-d15e-11e9-8d65-0242ac1c0002\"].getAttribute(\"position\");\n",
              "//# sourceURL=js_d2b338b27e"
            ],
            "text/plain": [
              "<IPython.core.display.Javascript object>"
            ]
          },
          "metadata": {
            "tags": []
          }
        },
        {
          "output_type": "display_data",
          "data": {
            "application/javascript": [
              "window[\"77277e86-d15e-11e9-8d65-0242ac1c0002\"] = window[\"7727307a-d15e-11e9-8d65-0242ac1c0002\"].copyArray([-2.229045867919922, -0.7453250288963318, -1.313510537147522, 0.26874828338623047, -1.2166221141815186, -1.3750289678573608, 0.7431703805923462, 1.235671877861023, -0.8995721340179443, -1.7546238899230957, 1.706969141960144, -0.8380537033081055, -2.257843494415283, -1.2238794565200806, 1.183495283126831, 0.23995089530944824, -1.6951767206192017, 1.1219767332077026, 0.714372992515564, 0.7571173310279846, 1.5974336862564087, -1.783421277999878, 1.228414535522461, 1.6589521169662476]);\n",
              "//# sourceURL=js_46c6348e15"
            ],
            "text/plain": [
              "<IPython.core.display.Javascript object>"
            ]
          },
          "metadata": {
            "tags": []
          }
        },
        {
          "output_type": "display_data",
          "data": {
            "application/javascript": [
              "window[\"7727d21e-d15e-11e9-8d65-0242ac1c0002\"] = window[\"744a96a8-d15e-11e9-8d65-0242ac1c0002\"].getAttribute(\"position\");\n",
              "//# sourceURL=js_bcbdc5e055"
            ],
            "text/plain": [
              "<IPython.core.display.Javascript object>"
            ]
          },
          "metadata": {
            "tags": []
          }
        },
        {
          "output_type": "display_data",
          "data": {
            "application/javascript": [
              "window[\"7727d21e-d15e-11e9-8d65-0242ac1c0002\"].needsUpdate = true;\n",
              "//# sourceURL=js_4afb77201f"
            ],
            "text/plain": [
              "<IPython.core.display.Javascript object>"
            ]
          },
          "metadata": {
            "tags": []
          }
        },
        {
          "output_type": "display_data",
          "data": {
            "application/javascript": [
              "window[\"773b7cc4-d15e-11e9-8d65-0242ac1c0002\"] = window[\"744a96a8-d15e-11e9-8d65-0242ac1c0002\"].getAttribute(\"position\");\n",
              "//# sourceURL=js_cc78dd1b67"
            ],
            "text/plain": [
              "<IPython.core.display.Javascript object>"
            ]
          },
          "metadata": {
            "tags": []
          }
        },
        {
          "output_type": "display_data",
          "data": {
            "application/javascript": [
              "window[\"773bc4a4-d15e-11e9-8d65-0242ac1c0002\"] = window[\"773b7cc4-d15e-11e9-8d65-0242ac1c0002\"].copyArray([-2.1610405445098877, -0.7373427152633667, -1.2565548419952393, 0.2576834559440613, -1.2029330730438232, -1.3407875299453735, 0.7307978868484497, 1.1717100143432617, -0.8810831308364868, -1.687926173210144, 1.637300729751587, -0.7968504428863525, -2.1667256355285645, -1.2046658992767334, 1.1632949113845825, 0.25199854373931885, -1.6702563762664795, 1.0790621042251587, 0.7251129150390625, 0.7043869495391846, 1.538766622543335, -1.6936111450195312, 1.1699774265289307, 1.6229993104934692]);\n",
              "//# sourceURL=js_c161accd60"
            ],
            "text/plain": [
              "<IPython.core.display.Javascript object>"
            ]
          },
          "metadata": {
            "tags": []
          }
        },
        {
          "output_type": "display_data",
          "data": {
            "application/javascript": [
              "window[\"773c10bc-d15e-11e9-8d65-0242ac1c0002\"] = window[\"744a96a8-d15e-11e9-8d65-0242ac1c0002\"].getAttribute(\"position\");\n",
              "//# sourceURL=js_f270b40c27"
            ],
            "text/plain": [
              "<IPython.core.display.Javascript object>"
            ]
          },
          "metadata": {
            "tags": []
          }
        },
        {
          "output_type": "display_data",
          "data": {
            "application/javascript": [
              "window[\"773c10bc-d15e-11e9-8d65-0242ac1c0002\"].needsUpdate = true;\n",
              "//# sourceURL=js_0209d80726"
            ],
            "text/plain": [
              "<IPython.core.display.Javascript object>"
            ]
          },
          "metadata": {
            "tags": []
          }
        },
        {
          "output_type": "display_data",
          "data": {
            "application/javascript": [
              "window[\"77511200-d15e-11e9-8d65-0242ac1c0002\"] = window[\"744a96a8-d15e-11e9-8d65-0242ac1c0002\"].getAttribute(\"position\");\n",
              "//# sourceURL=js_c7f84ca151"
            ],
            "text/plain": [
              "<IPython.core.display.Javascript object>"
            ]
          },
          "metadata": {
            "tags": []
          }
        },
        {
          "output_type": "display_data",
          "data": {
            "application/javascript": [
              "window[\"77515972-d15e-11e9-8d65-0242ac1c0002\"] = window[\"77511200-d15e-11e9-8d65-0242ac1c0002\"].copyArray([-2.0716934204101562, -0.7334303855895996, -1.1983693838119507, 0.2528916001319885, -1.1817052364349365, -1.286563515663147, 0.7097497582435608, 1.1021497249603271, -0.8533083200454712, -1.614835262298584, 1.550424575805664, -0.7651140689849854, -2.0686519145965576, -1.175560474395752, 1.1290616989135742, 0.25593310594558716, -1.6238353252410889, 1.0408674478530884, 0.7127912640571594, 0.6600197553634644, 1.4741226434707642, -1.6117937564849854, 1.1082944869995117, 1.5623167753219604]);\n",
              "//# sourceURL=js_14cf2126ef"
            ],
            "text/plain": [
              "<IPython.core.display.Javascript object>"
            ]
          },
          "metadata": {
            "tags": []
          }
        },
        {
          "output_type": "display_data",
          "data": {
            "application/javascript": [
              "window[\"7751a256-d15e-11e9-8d65-0242ac1c0002\"] = window[\"744a96a8-d15e-11e9-8d65-0242ac1c0002\"].getAttribute(\"position\");\n",
              "//# sourceURL=js_0ffadd803c"
            ],
            "text/plain": [
              "<IPython.core.display.Javascript object>"
            ]
          },
          "metadata": {
            "tags": []
          }
        },
        {
          "output_type": "display_data",
          "data": {
            "application/javascript": [
              "window[\"7751a256-d15e-11e9-8d65-0242ac1c0002\"].needsUpdate = true;\n",
              "//# sourceURL=js_550a428bf6"
            ],
            "text/plain": [
              "<IPython.core.display.Javascript object>"
            ]
          },
          "metadata": {
            "tags": []
          }
        },
        {
          "output_type": "display_data",
          "data": {
            "application/javascript": [
              "window[\"77655634-d15e-11e9-8d65-0242ac1c0002\"] = window[\"744a96a8-d15e-11e9-8d65-0242ac1c0002\"].getAttribute(\"position\");\n",
              "//# sourceURL=js_f3268151c3"
            ],
            "text/plain": [
              "<IPython.core.display.Javascript object>"
            ]
          },
          "metadata": {
            "tags": []
          }
        },
        {
          "output_type": "display_data",
          "data": {
            "application/javascript": [
              "window[\"77659c84-d15e-11e9-8d65-0242ac1c0002\"] = window[\"77655634-d15e-11e9-8d65-0242ac1c0002\"].copyArray([-1.9661641120910645, -0.7340857982635498, -1.14350426197052, 0.2566944360733032, -1.1561943292617798, -1.2177056074142456, 0.6852663159370422, 1.0305306911468506, -0.8185293674468994, -1.5375921726226807, 1.452639102935791, -0.7443281412124634, -1.9689197540283203, -1.1400904655456543, 1.0835868120193481, 0.25393885374069214, -1.5621988773345947, 1.009385585784912, 0.6825106739997864, 0.6245260238647461, 1.4085615873336792, -1.5403478145599365, 1.046634554862976, 1.4827629327774048]);\n",
              "//# sourceURL=js_70d3efdb48"
            ],
            "text/plain": [
              "<IPython.core.display.Javascript object>"
            ]
          },
          "metadata": {
            "tags": []
          }
        },
        {
          "output_type": "display_data",
          "data": {
            "application/javascript": [
              "window[\"7765ffe4-d15e-11e9-8d65-0242ac1c0002\"] = window[\"744a96a8-d15e-11e9-8d65-0242ac1c0002\"].getAttribute(\"position\");\n",
              "//# sourceURL=js_3188c114ad"
            ],
            "text/plain": [
              "<IPython.core.display.Javascript object>"
            ]
          },
          "metadata": {
            "tags": []
          }
        },
        {
          "output_type": "display_data",
          "data": {
            "application/javascript": [
              "window[\"7765ffe4-d15e-11e9-8d65-0242ac1c0002\"].needsUpdate = true;\n",
              "//# sourceURL=js_d47fe56e75"
            ],
            "text/plain": [
              "<IPython.core.display.Javascript object>"
            ]
          },
          "metadata": {
            "tags": []
          }
        },
        {
          "output_type": "display_data",
          "data": {
            "application/javascript": [
              "window[\"77799b4e-d15e-11e9-8d65-0242ac1c0002\"] = window[\"744a96a8-d15e-11e9-8d65-0242ac1c0002\"].getAttribute(\"position\");\n",
              "//# sourceURL=js_39fed75ed6"
            ],
            "text/plain": [
              "<IPython.core.display.Javascript object>"
            ]
          },
          "metadata": {
            "tags": []
          }
        },
        {
          "output_type": "display_data",
          "data": {
            "application/javascript": [
              "window[\"7779df1e-d15e-11e9-8d65-0242ac1c0002\"] = window[\"77799b4e-d15e-11e9-8d65-0242ac1c0002\"].copyArray([-1.8521286249160767, -0.7394635677337646, -1.092748761177063, 0.2678074240684509, -1.1286592483520508, -1.141448974609375, 0.6596366167068481, 0.9606097936630249, -0.7817286252975464, -1.4602994918823242, 1.3498053550720215, -0.7330282926559448, -1.8698722124099731, -1.1020318269729614, 1.032387137413025, 0.25006383657455444, -1.491227388381958, 0.9836869239807129, 0.6418930292129517, 0.5980415344238281, 1.3434072732925415, -1.4780430793762207, 0.9872372150421143, 1.3921074867248535]);\n",
              "//# sourceURL=js_3a84be3d22"
            ],
            "text/plain": [
              "<IPython.core.display.Javascript object>"
            ]
          },
          "metadata": {
            "tags": []
          }
        },
        {
          "output_type": "display_data",
          "data": {
            "application/javascript": [
              "window[\"777a2fc8-d15e-11e9-8d65-0242ac1c0002\"] = window[\"744a96a8-d15e-11e9-8d65-0242ac1c0002\"].getAttribute(\"position\");\n",
              "//# sourceURL=js_7d7290d374"
            ],
            "text/plain": [
              "<IPython.core.display.Javascript object>"
            ]
          },
          "metadata": {
            "tags": []
          }
        },
        {
          "output_type": "display_data",
          "data": {
            "application/javascript": [
              "window[\"777a2fc8-d15e-11e9-8d65-0242ac1c0002\"].needsUpdate = true;\n",
              "//# sourceURL=js_3641e92f99"
            ],
            "text/plain": [
              "<IPython.core.display.Javascript object>"
            ]
          },
          "metadata": {
            "tags": []
          }
        },
        {
          "output_type": "display_data",
          "data": {
            "application/javascript": [
              "window[\"778e1722-d15e-11e9-8d65-0242ac1c0002\"] = window[\"744a96a8-d15e-11e9-8d65-0242ac1c0002\"].getAttribute(\"position\");\n",
              "//# sourceURL=js_d3a667fee6"
            ],
            "text/plain": [
              "<IPython.core.display.Javascript object>"
            ]
          },
          "metadata": {
            "tags": []
          }
        },
        {
          "output_type": "display_data",
          "data": {
            "application/javascript": [
              "window[\"778e602e-d15e-11e9-8d65-0242ac1c0002\"] = window[\"778e1722-d15e-11e9-8d65-0242ac1c0002\"].copyArray([-1.7378231287002563, -0.7494975328445435, -1.045005202293396, 0.28336578607559204, -1.100730538368225, -1.0653678178787231, 0.6335046291351318, 0.8958083391189575, -0.748794674873352, -1.3876843452453613, 1.2470414638519287, -0.7284321784973145, -1.7722046375274658, -1.0648561716079712, 0.9819015264511108, 0.24898433685302734, -1.4160892963409424, 0.9615390300750732, 0.5991231203079224, 0.5804498195648193, 1.2781120538711548, -1.4220657348632812, 0.9316827058792114, 1.298474669456482]);\n",
              "//# sourceURL=js_ecda4fd1b3"
            ],
            "text/plain": [
              "<IPython.core.display.Javascript object>"
            ]
          },
          "metadata": {
            "tags": []
          }
        },
        {
          "output_type": "display_data",
          "data": {
            "application/javascript": [
              "window[\"778ecc80-d15e-11e9-8d65-0242ac1c0002\"] = window[\"744a96a8-d15e-11e9-8d65-0242ac1c0002\"].getAttribute(\"position\");\n",
              "//# sourceURL=js_c40df495fa"
            ],
            "text/plain": [
              "<IPython.core.display.Javascript object>"
            ]
          },
          "metadata": {
            "tags": []
          }
        },
        {
          "output_type": "display_data",
          "data": {
            "application/javascript": [
              "window[\"778ecc80-d15e-11e9-8d65-0242ac1c0002\"].needsUpdate = true;\n",
              "//# sourceURL=js_cf818f8bfe"
            ],
            "text/plain": [
              "<IPython.core.display.Javascript object>"
            ]
          },
          "metadata": {
            "tags": []
          }
        },
        {
          "output_type": "display_data",
          "data": {
            "application/javascript": [
              "window[\"77a29a62-d15e-11e9-8d65-0242ac1c0002\"] = window[\"744a96a8-d15e-11e9-8d65-0242ac1c0002\"].getAttribute(\"position\");\n",
              "//# sourceURL=js_612065f4d2"
            ],
            "text/plain": [
              "<IPython.core.display.Javascript object>"
            ]
          },
          "metadata": {
            "tags": []
          }
        },
        {
          "output_type": "display_data",
          "data": {
            "application/javascript": [
              "window[\"77a2dea0-d15e-11e9-8d65-0242ac1c0002\"] = window[\"77a29a62-d15e-11e9-8d65-0242ac1c0002\"].copyArray([-1.6303291320800781, -0.7639645934104919, -0.9989917278289795, 0.30070143938064575, -1.0737360715866089, -0.9960328340530396, 0.6070764064788818, 0.8387117981910706, -0.7248807549476624, -1.3239541053771973, 1.1484832763671875, -0.7278395891189575, -1.676170825958252, -1.0312299728393555, 0.9378390908241272, 0.2548596262931824, -1.3410015106201172, 0.9407979249954224, 0.561234712600708, 0.5714464783668518, 1.2119500637054443, -1.369795799255371, 0.8812179565429688, 1.2089911699295044]);\n",
              "//# sourceURL=js_dc4e02fe7e"
            ],
            "text/plain": [
              "<IPython.core.display.Javascript object>"
            ]
          },
          "metadata": {
            "tags": []
          }
        },
        {
          "output_type": "display_data",
          "data": {
            "application/javascript": [
              "window[\"77a32554-d15e-11e9-8d65-0242ac1c0002\"] = window[\"744a96a8-d15e-11e9-8d65-0242ac1c0002\"].getAttribute(\"position\");\n",
              "//# sourceURL=js_b0ac3f06f6"
            ],
            "text/plain": [
              "<IPython.core.display.Javascript object>"
            ]
          },
          "metadata": {
            "tags": []
          }
        },
        {
          "output_type": "display_data",
          "data": {
            "application/javascript": [
              "window[\"77a32554-d15e-11e9-8d65-0242ac1c0002\"].needsUpdate = true;\n",
              "//# sourceURL=js_396a421a18"
            ],
            "text/plain": [
              "<IPython.core.display.Javascript object>"
            ]
          },
          "metadata": {
            "tags": []
          }
        },
        {
          "output_type": "display_data",
          "data": {
            "application/javascript": [
              "window[\"77b87d96-d15e-11e9-8d65-0242ac1c0002\"] = window[\"744a96a8-d15e-11e9-8d65-0242ac1c0002\"].getAttribute(\"position\");\n",
              "//# sourceURL=js_4d036d4441"
            ],
            "text/plain": [
              "<IPython.core.display.Javascript object>"
            ]
          },
          "metadata": {
            "tags": []
          }
        },
        {
          "output_type": "display_data",
          "data": {
            "application/javascript": [
              "window[\"77b9458c-d15e-11e9-8d65-0242ac1c0002\"] = window[\"77b87d96-d15e-11e9-8d65-0242ac1c0002\"].copyArray([-1.5343594551086426, -0.7825741171836853, -0.9543701410293579, 0.3184778690338135, -1.0489228963851929, -0.9380085468292236, 0.580963671207428, 0.7908532023429871, -0.7131962180137634, -1.2718734741210938, 1.0572017431259155, -0.7295577526092529, -1.5824267864227295, -1.0027965307235718, 0.9039642214775085, 0.270410418510437, -1.269145131111145, 0.920325756072998, 0.5328963398933411, 0.5706308484077454, 1.145138144493103, -1.3199409246444702, 0.8369795680046082, 1.1287765502929688]);\n",
              "//# sourceURL=js_2c3dd0cb73"
            ],
            "text/plain": [
              "<IPython.core.display.Javascript object>"
            ]
          },
          "metadata": {
            "tags": []
          }
        },
        {
          "output_type": "display_data",
          "data": {
            "application/javascript": [
              "window[\"77b9a2d4-d15e-11e9-8d65-0242ac1c0002\"] = window[\"744a96a8-d15e-11e9-8d65-0242ac1c0002\"].getAttribute(\"position\");\n",
              "//# sourceURL=js_df5ce7cb1d"
            ],
            "text/plain": [
              "<IPython.core.display.Javascript object>"
            ]
          },
          "metadata": {
            "tags": []
          }
        },
        {
          "output_type": "display_data",
          "data": {
            "application/javascript": [
              "window[\"77b9a2d4-d15e-11e9-8d65-0242ac1c0002\"].needsUpdate = true;\n",
              "//# sourceURL=js_9d24c815d4"
            ],
            "text/plain": [
              "<IPython.core.display.Javascript object>"
            ]
          },
          "metadata": {
            "tags": []
          }
        },
        {
          "output_type": "display_data",
          "data": {
            "application/javascript": [
              "window[\"77cdc494-d15e-11e9-8d65-0242ac1c0002\"] = window[\"744a96a8-d15e-11e9-8d65-0242ac1c0002\"].getAttribute(\"position\");\n",
              "//# sourceURL=js_e1bb54bb95"
            ],
            "text/plain": [
              "<IPython.core.display.Javascript object>"
            ]
          },
          "metadata": {
            "tags": []
          }
        },
        {
          "output_type": "display_data",
          "data": {
            "application/javascript": [
              "window[\"77ce0cd8-d15e-11e9-8d65-0242ac1c0002\"] = window[\"77cdc494-d15e-11e9-8d65-0242ac1c0002\"].copyArray([-1.4518438577651978, -0.8050639629364014, -0.9121037721633911, 0.3370009958744049, -1.0275167226791382, -0.8934146165847778, 0.5565274953842163, 0.7528239488601685, -0.7145408391952515, -1.2323174476623535, 0.9752768278121948, -0.7332299947738647, -1.4923738241195679, -0.9802850484848022, 0.8816230297088623, 0.29647108912467957, -1.2027379274368286, 0.900312066078186, 0.5159975290298462, 0.5776029825210571, 1.0791858434677124, -1.2728474140167236, 0.800055742263794, 1.0604968070983887]);\n",
              "//# sourceURL=js_6021a7819f"
            ],
            "text/plain": [
              "<IPython.core.display.Javascript object>"
            ]
          },
          "metadata": {
            "tags": []
          }
        },
        {
          "output_type": "display_data",
          "data": {
            "application/javascript": [
              "window[\"77ce614c-d15e-11e9-8d65-0242ac1c0002\"] = window[\"744a96a8-d15e-11e9-8d65-0242ac1c0002\"].getAttribute(\"position\");\n",
              "//# sourceURL=js_4ab7d6d568"
            ],
            "text/plain": [
              "<IPython.core.display.Javascript object>"
            ]
          },
          "metadata": {
            "tags": []
          }
        },
        {
          "output_type": "display_data",
          "data": {
            "application/javascript": [
              "window[\"77ce614c-d15e-11e9-8d65-0242ac1c0002\"].needsUpdate = true;\n",
              "//# sourceURL=js_93f1f03368"
            ],
            "text/plain": [
              "<IPython.core.display.Javascript object>"
            ]
          },
          "metadata": {
            "tags": []
          }
        },
        {
          "output_type": "display_data",
          "data": {
            "application/javascript": [
              "window[\"77e240c2-d15e-11e9-8d65-0242ac1c0002\"] = window[\"744a96a8-d15e-11e9-8d65-0242ac1c0002\"].getAttribute(\"position\");\n",
              "//# sourceURL=js_64de2a3e87"
            ],
            "text/plain": [
              "<IPython.core.display.Javascript object>"
            ]
          },
          "metadata": {
            "tags": []
          }
        },
        {
          "output_type": "display_data",
          "data": {
            "application/javascript": [
              "window[\"77e28762-d15e-11e9-8d65-0242ac1c0002\"] = window[\"77e240c2-d15e-11e9-8d65-0242ac1c0002\"].copyArray([-1.3823654651641846, -0.8312310576438904, -0.874130129814148, 0.35781824588775635, -1.0105950832366943, -0.8621666431427002, 0.5357405543327332, 0.7245724201202393, -0.7276624441146851, -1.2044432163238525, 0.903936505317688, -0.7396258115768433, -1.4080214500427246, -0.9638066291809082, 0.8700945377349854, 0.3321622610092163, -1.143170714378357, 0.8820579051971436, 0.5100845098495483, 0.5919968485832214, 1.0165621042251587, -1.2300992012023926, 0.7713608145713806, 1.0045987367630005]);\n",
              "//# sourceURL=js_fdf1e3f739"
            ],
            "text/plain": [
              "<IPython.core.display.Javascript object>"
            ]
          },
          "metadata": {
            "tags": []
          }
        },
        {
          "output_type": "display_data",
          "data": {
            "application/javascript": [
              "window[\"77e2c54c-d15e-11e9-8d65-0242ac1c0002\"] = window[\"744a96a8-d15e-11e9-8d65-0242ac1c0002\"].getAttribute(\"position\");\n",
              "//# sourceURL=js_b4ad6f8af2"
            ],
            "text/plain": [
              "<IPython.core.display.Javascript object>"
            ]
          },
          "metadata": {
            "tags": []
          }
        },
        {
          "output_type": "display_data",
          "data": {
            "application/javascript": [
              "window[\"77e2c54c-d15e-11e9-8d65-0242ac1c0002\"].needsUpdate = true;\n",
              "//# sourceURL=js_5f1b4f0e7e"
            ],
            "text/plain": [
              "<IPython.core.display.Javascript object>"
            ]
          },
          "metadata": {
            "tags": []
          }
        },
        {
          "output_type": "display_data",
          "data": {
            "application/javascript": [
              "window[\"77f6abf2-d15e-11e9-8d65-0242ac1c0002\"] = window[\"744a96a8-d15e-11e9-8d65-0242ac1c0002\"].getAttribute(\"position\");\n",
              "//# sourceURL=js_4960b00cdb"
            ],
            "text/plain": [
              "<IPython.core.display.Javascript object>"
            ]
          },
          "metadata": {
            "tags": []
          }
        },
        {
          "output_type": "display_data",
          "data": {
            "application/javascript": [
              "window[\"77f6f2d8-d15e-11e9-8d65-0242ac1c0002\"] = window[\"77f6abf2-d15e-11e9-8d65-0242ac1c0002\"].copyArray([-1.3240455389022827, -0.860883355140686, -0.8427704572677612, 0.3830431401729584, -0.99889075756073, -0.8426349759101868, 0.5208414793014526, 0.7057026028633118, -0.7500556707382202, -1.1862472295761108, 0.8437100648880005, -0.7501911520957947, -1.331640601158142, -0.9531508088111877, 0.867383599281311, 0.3754481375217438, -1.0911582708358765, 0.8675190806388855, 0.5132464170455933, 0.6134351491928101, 0.960098385810852, -1.1938421726226807, 0.751442551612854, 0.9599629044532776]);\n",
              "//# sourceURL=js_83399cd392"
            ],
            "text/plain": [
              "<IPython.core.display.Javascript object>"
            ]
          },
          "metadata": {
            "tags": []
          }
        },
        {
          "output_type": "display_data",
          "data": {
            "application/javascript": [
              "window[\"77f72d66-d15e-11e9-8d65-0242ac1c0002\"] = window[\"744a96a8-d15e-11e9-8d65-0242ac1c0002\"].getAttribute(\"position\");\n",
              "//# sourceURL=js_3ca2fb76eb"
            ],
            "text/plain": [
              "<IPython.core.display.Javascript object>"
            ]
          },
          "metadata": {
            "tags": []
          }
        },
        {
          "output_type": "display_data",
          "data": {
            "application/javascript": [
              "window[\"77f72d66-d15e-11e9-8d65-0242ac1c0002\"].needsUpdate = true;\n",
              "//# sourceURL=js_962618a800"
            ],
            "text/plain": [
              "<IPython.core.display.Javascript object>"
            ]
          },
          "metadata": {
            "tags": []
          }
        },
        {
          "output_type": "display_data",
          "data": {
            "application/javascript": [
              "window[\"780b819e-d15e-11e9-8d65-0242ac1c0002\"] = window[\"744a96a8-d15e-11e9-8d65-0242ac1c0002\"].getAttribute(\"position\");\n",
              "//# sourceURL=js_6559a90256"
            ],
            "text/plain": [
              "<IPython.core.display.Javascript object>"
            ]
          },
          "metadata": {
            "tags": []
          }
        },
        {
          "output_type": "display_data",
          "data": {
            "application/javascript": [
              "window[\"780bce60-d15e-11e9-8d65-0242ac1c0002\"] = window[\"780b819e-d15e-11e9-8d65-0242ac1c0002\"].copyArray([-1.2744475603103638, -0.8937597274780273, -0.8201788067817688, 0.4147247076034546, -0.9926584362983704, -0.8323955535888672, 0.5139628648757935, 0.6956870555877686, -0.7787835001945496, -1.175209403038025, 0.7945858240127563, -0.766566812992096, -1.26539146900177, -0.9479951858520508, 0.8710365891456604, 0.42378079891204834, -1.0468939542770386, 0.8588199019432068, 0.5230189561843872, 0.6414515972137451, 0.9124318957328796, -1.1661533117294312, 0.7403503060340881, 0.924648642539978]);\n",
              "//# sourceURL=js_b80fbb9d87"
            ],
            "text/plain": [
              "<IPython.core.display.Javascript object>"
            ]
          },
          "metadata": {
            "tags": []
          }
        },
        {
          "output_type": "display_data",
          "data": {
            "application/javascript": [
              "window[\"780c1780-d15e-11e9-8d65-0242ac1c0002\"] = window[\"744a96a8-d15e-11e9-8d65-0242ac1c0002\"].getAttribute(\"position\");\n",
              "//# sourceURL=js_c3d4f1662f"
            ],
            "text/plain": [
              "<IPython.core.display.Javascript object>"
            ]
          },
          "metadata": {
            "tags": []
          }
        },
        {
          "output_type": "display_data",
          "data": {
            "application/javascript": [
              "window[\"780c1780-d15e-11e9-8d65-0242ac1c0002\"].needsUpdate = true;\n",
              "//# sourceURL=js_6dff74282a"
            ],
            "text/plain": [
              "<IPython.core.display.Javascript object>"
            ]
          },
          "metadata": {
            "tags": []
          }
        },
        {
          "output_type": "display_data",
          "data": {
            "application/javascript": [
              "window[\"78201c08-d15e-11e9-8d65-0242ac1c0002\"] = window[\"744a96a8-d15e-11e9-8d65-0242ac1c0002\"].getAttribute(\"position\");\n",
              "//# sourceURL=js_bb567cb08f"
            ],
            "text/plain": [
              "<IPython.core.display.Javascript object>"
            ]
          },
          "metadata": {
            "tags": []
          }
        },
        {
          "output_type": "display_data",
          "data": {
            "application/javascript": [
              "window[\"7820628a-d15e-11e9-8d65-0242ac1c0002\"] = window[\"78201c08-d15e-11e9-8d65-0242ac1c0002\"].copyArray([-1.2313110828399658, -0.9294743537902832, -0.8078791499137878, 0.45431870222091675, -0.9916750192642212, -0.8289260268211365, 0.5167424082756042, 0.6939842104911804, -0.8111457228660583, -1.1688874959945679, 0.7561848759651184, -0.7900989651679993, -1.2109355926513672, -0.9480199217796326, 0.8788041472434998, 0.4746943712234497, -1.0102205276489258, 0.8577573895454407, 0.5371180176734924, 0.675438642501831, 0.8755375742912292, -1.1485118865966797, 0.737639307975769, 0.8965844511985779]);\n",
              "//# sourceURL=js_bab7895385"
            ],
            "text/plain": [
              "<IPython.core.display.Javascript object>"
            ]
          },
          "metadata": {
            "tags": []
          }
        },
        {
          "output_type": "display_data",
          "data": {
            "application/javascript": [
              "window[\"7820a484-d15e-11e9-8d65-0242ac1c0002\"] = window[\"744a96a8-d15e-11e9-8d65-0242ac1c0002\"].getAttribute(\"position\");\n",
              "//# sourceURL=js_dc1f9b9498"
            ],
            "text/plain": [
              "<IPython.core.display.Javascript object>"
            ]
          },
          "metadata": {
            "tags": []
          }
        },
        {
          "output_type": "display_data",
          "data": {
            "application/javascript": [
              "window[\"7820a484-d15e-11e9-8d65-0242ac1c0002\"].needsUpdate = true;\n",
              "//# sourceURL=js_d9dda86de2"
            ],
            "text/plain": [
              "<IPython.core.display.Javascript object>"
            ]
          },
          "metadata": {
            "tags": []
          }
        },
        {
          "output_type": "display_data",
          "data": {
            "application/javascript": [
              "window[\"7834b8d4-d15e-11e9-8d65-0242ac1c0002\"] = window[\"744a96a8-d15e-11e9-8d65-0242ac1c0002\"].getAttribute(\"position\");\n",
              "//# sourceURL=js_6d4771e3db"
            ],
            "text/plain": [
              "<IPython.core.display.Javascript object>"
            ]
          },
          "metadata": {
            "tags": []
          }
        },
        {
          "output_type": "display_data",
          "data": {
            "application/javascript": [
              "window[\"783506fe-d15e-11e9-8d65-0242ac1c0002\"] = window[\"7834b8d4-d15e-11e9-8d65-0242ac1c0002\"].copyArray([-1.1930596828460693, -0.9675037264823914, -0.8063986897468567, 0.502271831035614, -0.9953671097755432, -0.8301782011985779, 0.5299270749092102, 0.7000684142112732, -0.8451383709907532, -1.1654043197631836, 0.7279318571090698, -0.8213589191436768, -1.1690385341644287, -0.9529349207878113, 0.8890956044197083, 0.5262929201126099, -0.9807983636856079, 0.8653161525726318, 0.5539482235908508, 0.7146372199058533, 0.8503559231758118, -1.141383171081543, 0.7425006031990051, 0.874135434627533]);\n",
              "//# sourceURL=js_7285142cfd"
            ],
            "text/plain": [
              "<IPython.core.display.Javascript object>"
            ]
          },
          "metadata": {
            "tags": []
          }
        },
        {
          "output_type": "display_data",
          "data": {
            "application/javascript": [
              "window[\"783544f2-d15e-11e9-8d65-0242ac1c0002\"] = window[\"744a96a8-d15e-11e9-8d65-0242ac1c0002\"].getAttribute(\"position\");\n",
              "//# sourceURL=js_fc2fcf0125"
            ],
            "text/plain": [
              "<IPython.core.display.Javascript object>"
            ]
          },
          "metadata": {
            "tags": []
          }
        },
        {
          "output_type": "display_data",
          "data": {
            "application/javascript": [
              "window[\"783544f2-d15e-11e9-8d65-0242ac1c0002\"].needsUpdate = true;\n",
              "//# sourceURL=js_1a122edda6"
            ],
            "text/plain": [
              "<IPython.core.display.Javascript object>"
            ]
          },
          "metadata": {
            "tags": []
          }
        },
        {
          "output_type": "display_data",
          "data": {
            "application/javascript": [
              "window[\"784959ba-d15e-11e9-8d65-0242ac1c0002\"] = window[\"744a96a8-d15e-11e9-8d65-0242ac1c0002\"].getAttribute(\"position\");\n",
              "//# sourceURL=js_081698f6f9"
            ],
            "text/plain": [
              "<IPython.core.display.Javascript object>"
            ]
          },
          "metadata": {
            "tags": []
          }
        },
        {
          "output_type": "display_data",
          "data": {
            "application/javascript": [
              "window[\"7849b428-d15e-11e9-8d65-0242ac1c0002\"] = window[\"784959ba-d15e-11e9-8d65-0242ac1c0002\"].copyArray([-1.159035563468933, -1.0071922540664673, -0.815089762210846, 0.5578104257583618, -1.0029972791671753, -0.8349443674087524, 0.5530993938446045, 0.7133798003196716, -0.8796586990356445, -1.1637464761734009, 0.7091848254203796, -0.8598040342330933, -1.1392970085144043, -0.9624266028404236, 0.9011789560317993, 0.5775489807128906, -0.9582316279411316, 0.881324291229248, 0.5728379487991333, 0.7581454515457153, 0.8366100192070007, -1.144007921218872, 0.7539504766464233, 0.8564646244049072]);\n",
              "//# sourceURL=js_9d01641fae"
            ],
            "text/plain": [
              "<IPython.core.display.Javascript object>"
            ]
          },
          "metadata": {
            "tags": []
          }
        },
        {
          "output_type": "display_data",
          "data": {
            "application/javascript": [
              "window[\"7849edbc-d15e-11e9-8d65-0242ac1c0002\"] = window[\"744a96a8-d15e-11e9-8d65-0242ac1c0002\"].getAttribute(\"position\");\n",
              "//# sourceURL=js_37dd38703c"
            ],
            "text/plain": [
              "<IPython.core.display.Javascript object>"
            ]
          },
          "metadata": {
            "tags": []
          }
        },
        {
          "output_type": "display_data",
          "data": {
            "application/javascript": [
              "window[\"7849edbc-d15e-11e9-8d65-0242ac1c0002\"].needsUpdate = true;\n",
              "//# sourceURL=js_78e3b06884"
            ],
            "text/plain": [
              "<IPython.core.display.Javascript object>"
            ]
          },
          "metadata": {
            "tags": []
          }
        },
        {
          "output_type": "display_data",
          "data": {
            "application/javascript": [
              "window[\"785de150-d15e-11e9-8d65-0242ac1c0002\"] = window[\"744a96a8-d15e-11e9-8d65-0242ac1c0002\"].getAttribute(\"position\");\n",
              "//# sourceURL=js_5fd4dd8156"
            ],
            "text/plain": [
              "<IPython.core.display.Javascript object>"
            ]
          },
          "metadata": {
            "tags": []
          }
        },
        {
          "output_type": "display_data",
          "data": {
            "application/javascript": [
              "window[\"785e3092-d15e-11e9-8d65-0242ac1c0002\"] = window[\"785de150-d15e-11e9-8d65-0242ac1c0002\"].copyArray([-1.1294684410095215, -1.0477451086044312, -0.8322093486785889, 0.6190014481544495, -1.0138094425201416, -0.8429612517356873, 0.5846540331840515, 0.7332231998443604, -0.9144563674926758, -1.1638158559799194, 0.6992875337600708, -0.9037044644355774, -1.120114803314209, -0.9760535955429077, 0.9151277542114258, 0.6283550262451172, -0.9421179294586182, 0.9043758511543274, 0.5940076112747192, 0.8049147129058838, 0.8328807353973389, -1.1544623374938965, 0.7709790468215942, 0.8436326384544373]);\n",
              "//# sourceURL=js_8a6fd42b01"
            ],
            "text/plain": [
              "<IPython.core.display.Javascript object>"
            ]
          },
          "metadata": {
            "tags": []
          }
        },
        {
          "output_type": "display_data",
          "data": {
            "application/javascript": [
              "window[\"785e77be-d15e-11e9-8d65-0242ac1c0002\"] = window[\"744a96a8-d15e-11e9-8d65-0242ac1c0002\"].getAttribute(\"position\");\n",
              "//# sourceURL=js_2d8dec20a9"
            ],
            "text/plain": [
              "<IPython.core.display.Javascript object>"
            ]
          },
          "metadata": {
            "tags": []
          }
        },
        {
          "output_type": "display_data",
          "data": {
            "application/javascript": [
              "window[\"785e77be-d15e-11e9-8d65-0242ac1c0002\"].needsUpdate = true;\n",
              "//# sourceURL=js_8bba2ca16e"
            ],
            "text/plain": [
              "<IPython.core.display.Javascript object>"
            ]
          },
          "metadata": {
            "tags": []
          }
        },
        {
          "output_type": "display_data",
          "data": {
            "application/javascript": [
              "window[\"7872cffc-d15e-11e9-8d65-0242ac1c0002\"] = window[\"744a96a8-d15e-11e9-8d65-0242ac1c0002\"].getAttribute(\"position\");\n",
              "//# sourceURL=js_839a9c7461"
            ],
            "text/plain": [
              "<IPython.core.display.Javascript object>"
            ]
          },
          "metadata": {
            "tags": []
          }
        },
        {
          "output_type": "display_data",
          "data": {
            "application/javascript": [
              "window[\"787321a0-d15e-11e9-8d65-0242ac1c0002\"] = window[\"7872cffc-d15e-11e9-8d65-0242ac1c0002\"].copyArray([-1.1052277088165283, -1.0882055759429932, -0.8552290797233582, 0.6830559372901917, -1.0270875692367554, -0.8547497987747192, 0.622049868106842, 0.7586676478385925, -0.9498832821846008, -1.166233777999878, 0.6975496411323547, -0.9503625631332397, -1.1089553833007812, -0.9931439757347107, 0.9315678477287292, 0.679328203201294, -0.9320259690284729, 0.9320471286773682, 0.6183221340179443, 0.853729248046875, 0.8369136452674866, -1.1699614524841309, 0.792611300945282, 0.8364343643188477]);\n",
              "//# sourceURL=js_c3ada275bd"
            ],
            "text/plain": [
              "<IPython.core.display.Javascript object>"
            ]
          },
          "metadata": {
            "tags": []
          }
        },
        {
          "output_type": "display_data",
          "data": {
            "application/javascript": [
              "window[\"7873650c-d15e-11e9-8d65-0242ac1c0002\"] = window[\"744a96a8-d15e-11e9-8d65-0242ac1c0002\"].getAttribute(\"position\");\n",
              "//# sourceURL=js_f45a896a61"
            ],
            "text/plain": [
              "<IPython.core.display.Javascript object>"
            ]
          },
          "metadata": {
            "tags": []
          }
        },
        {
          "output_type": "display_data",
          "data": {
            "application/javascript": [
              "window[\"7873650c-d15e-11e9-8d65-0242ac1c0002\"].needsUpdate = true;\n",
              "//# sourceURL=js_2b64505bbc"
            ],
            "text/plain": [
              "<IPython.core.display.Javascript object>"
            ]
          },
          "metadata": {
            "tags": []
          }
        },
        {
          "output_type": "display_data",
          "data": {
            "application/javascript": [
              "window[\"78892cfc-d15e-11e9-8d65-0242ac1c0002\"] = window[\"744a96a8-d15e-11e9-8d65-0242ac1c0002\"].getAttribute(\"position\");\n",
              "//# sourceURL=js_7f0ed2b699"
            ],
            "text/plain": [
              "<IPython.core.display.Javascript object>"
            ]
          },
          "metadata": {
            "tags": []
          }
        },
        {
          "output_type": "display_data",
          "data": {
            "application/javascript": [
              "window[\"7889de90-d15e-11e9-8d65-0242ac1c0002\"] = window[\"78892cfc-d15e-11e9-8d65-0242ac1c0002\"].copyArray([-1.0873998403549194, -1.1274434328079224, -0.8813033699989319, 0.7468044757843018, -1.0421302318572998, -0.8712055683135986, 0.6622916460037231, 0.7885131239891052, -0.9864813089370728, -1.171912670135498, 0.7031999826431274, -0.996579110622406, -1.1028228998184204, -1.0127586126327515, 0.9512618780136108, 0.7313812971115112, -0.9274454116821289, 0.9613596796989441, 0.6468685865402222, 0.9031979441642761, 0.84608393907547, -1.1873358488082886, 0.8178848028182983, 0.8359861373901367]);\n",
              "//# sourceURL=js_0565a7cbae"
            ],
            "text/plain": [
              "<IPython.core.display.Javascript object>"
            ]
          },
          "metadata": {
            "tags": []
          }
        },
        {
          "output_type": "display_data",
          "data": {
            "application/javascript": [
              "window[\"788a19f0-d15e-11e9-8d65-0242ac1c0002\"] = window[\"744a96a8-d15e-11e9-8d65-0242ac1c0002\"].getAttribute(\"position\");\n",
              "//# sourceURL=js_d673ce811e"
            ],
            "text/plain": [
              "<IPython.core.display.Javascript object>"
            ]
          },
          "metadata": {
            "tags": []
          }
        },
        {
          "output_type": "display_data",
          "data": {
            "application/javascript": [
              "window[\"788a19f0-d15e-11e9-8d65-0242ac1c0002\"].needsUpdate = true;\n",
              "//# sourceURL=js_bfd658217a"
            ],
            "text/plain": [
              "<IPython.core.display.Javascript object>"
            ]
          },
          "metadata": {
            "tags": []
          }
        },
        {
          "output_type": "display_data",
          "data": {
            "application/javascript": [
              "window[\"789e2094-d15e-11e9-8d65-0242ac1c0002\"] = window[\"744a96a8-d15e-11e9-8d65-0242ac1c0002\"].getAttribute(\"position\");\n",
              "//# sourceURL=js_6f1e47869c"
            ],
            "text/plain": [
              "<IPython.core.display.Javascript object>"
            ]
          },
          "metadata": {
            "tags": []
          }
        },
        {
          "output_type": "display_data",
          "data": {
            "application/javascript": [
              "window[\"789e69aa-d15e-11e9-8d65-0242ac1c0002\"] = window[\"789e2094-d15e-11e9-8d65-0242ac1c0002\"].copyArray([-1.076728343963623, -1.1641826629638672, -0.9078195095062256, 0.8072707056999207, -1.05818510055542, -0.8929811716079712, 0.7025597095489502, 0.8213521838188171, -1.024448037147522, -1.1814392805099487, 0.7153546810150146, -1.0392862558364868, -1.098892331123352, -1.0337508916854858, 0.9745738506317139, 0.7851066589355469, -0.9277533292770386, 0.9894121289253235, 0.6803956627845764, 0.9517839550971985, 0.8579453229904175, -1.2036033868789673, 0.845786452293396, 0.8431069850921631]);\n",
              "//# sourceURL=js_c33cc4a9c7"
            ],
            "text/plain": [
              "<IPython.core.display.Javascript object>"
            ]
          },
          "metadata": {
            "tags": []
          }
        },
        {
          "output_type": "display_data",
          "data": {
            "application/javascript": [
              "window[\"789eda5c-d15e-11e9-8d65-0242ac1c0002\"] = window[\"744a96a8-d15e-11e9-8d65-0242ac1c0002\"].getAttribute(\"position\");\n",
              "//# sourceURL=js_c60f8362c9"
            ],
            "text/plain": [
              "<IPython.core.display.Javascript object>"
            ]
          },
          "metadata": {
            "tags": []
          }
        },
        {
          "output_type": "display_data",
          "data": {
            "application/javascript": [
              "window[\"789eda5c-d15e-11e9-8d65-0242ac1c0002\"].needsUpdate = true;\n",
              "//# sourceURL=js_b1899666a3"
            ],
            "text/plain": [
              "<IPython.core.display.Javascript object>"
            ]
          },
          "metadata": {
            "tags": []
          }
        },
        {
          "output_type": "display_data",
          "data": {
            "application/javascript": [
              "window[\"78b31e4a-d15e-11e9-8d65-0242ac1c0002\"] = window[\"744a96a8-d15e-11e9-8d65-0242ac1c0002\"].getAttribute(\"position\");\n",
              "//# sourceURL=js_215ea4399d"
            ],
            "text/plain": [
              "<IPython.core.display.Javascript object>"
            ]
          },
          "metadata": {
            "tags": []
          }
        },
        {
          "output_type": "display_data",
          "data": {
            "application/javascript": [
              "window[\"78b3660c-d15e-11e9-8d65-0242ac1c0002\"] = window[\"78b31e4a-d15e-11e9-8d65-0242ac1c0002\"].copyArray([-1.073058843612671, -1.197074055671692, -0.9329043626785278, 0.862217903137207, -1.0743874311447144, -0.9198404550552368, 0.740827202796936, 0.8557040095329285, -1.063124656677246, -1.1944496631622314, 0.7330174446105957, -1.076188564300537, -1.0951265096664429, -1.0548979043960571, 1.0009565353393555, 0.8401503562927246, -0.9322112798690796, 1.0140204429626465, 0.7187595963478088, 0.9978801608085632, 0.8707362413406372, -1.2165172100067139, 0.8751935958862305, 0.8576723337173462]);\n",
              "//# sourceURL=js_b04e8e7411"
            ],
            "text/plain": [
              "<IPython.core.display.Javascript object>"
            ]
          },
          "metadata": {
            "tags": []
          }
        },
        {
          "output_type": "display_data",
          "data": {
            "application/javascript": [
              "window[\"78b3af4a-d15e-11e9-8d65-0242ac1c0002\"] = window[\"744a96a8-d15e-11e9-8d65-0242ac1c0002\"].getAttribute(\"position\");\n",
              "//# sourceURL=js_c216849744"
            ],
            "text/plain": [
              "<IPython.core.display.Javascript object>"
            ]
          },
          "metadata": {
            "tags": []
          }
        },
        {
          "output_type": "display_data",
          "data": {
            "application/javascript": [
              "window[\"78b3af4a-d15e-11e9-8d65-0242ac1c0002\"].needsUpdate = true;\n",
              "//# sourceURL=js_b561f3da2b"
            ],
            "text/plain": [
              "<IPython.core.display.Javascript object>"
            ]
          },
          "metadata": {
            "tags": []
          }
        },
        {
          "output_type": "display_data",
          "data": {
            "application/javascript": [
              "window[\"78c7c714-d15e-11e9-8d65-0242ac1c0002\"] = window[\"744a96a8-d15e-11e9-8d65-0242ac1c0002\"].getAttribute(\"position\");\n",
              "//# sourceURL=js_796b7bcb77"
            ],
            "text/plain": [
              "<IPython.core.display.Javascript object>"
            ]
          },
          "metadata": {
            "tags": []
          }
        },
        {
          "output_type": "display_data",
          "data": {
            "application/javascript": [
              "window[\"78c812c8-d15e-11e9-8d65-0242ac1c0002\"] = window[\"78c7c714-d15e-11e9-8d65-0242ac1c0002\"].copyArray([-1.0750325918197632, -1.224780797958374, -0.9557164311408997, 0.9104915261268616, -1.089730978012085, -0.9502776265144348, 0.7762377858161926, 0.890145480632782, -1.1007431745529175, -1.2092862129211426, 0.7550955414772034, -1.1061819791793823, -1.0906540155410767, -1.0750296115875244, 1.028699278831482, 0.8948699831962585, -0.939979612827301, 1.0341380834579468, 0.7606163620948792, 1.0398967266082764, 0.8836724162101746, -1.2249077558517456, 0.9048468470573425, 0.8782336115837097]);\n",
              "//# sourceURL=js_bc053b5c4c"
            ],
            "text/plain": [
              "<IPython.core.display.Javascript object>"
            ]
          },
          "metadata": {
            "tags": []
          }
        },
        {
          "output_type": "display_data",
          "data": {
            "application/javascript": [
              "window[\"78c853d2-d15e-11e9-8d65-0242ac1c0002\"] = window[\"744a96a8-d15e-11e9-8d65-0242ac1c0002\"].getAttribute(\"position\");\n",
              "//# sourceURL=js_3f9fac8b51"
            ],
            "text/plain": [
              "<IPython.core.display.Javascript object>"
            ]
          },
          "metadata": {
            "tags": []
          }
        },
        {
          "output_type": "display_data",
          "data": {
            "application/javascript": [
              "window[\"78c853d2-d15e-11e9-8d65-0242ac1c0002\"].needsUpdate = true;\n",
              "//# sourceURL=js_c5d8eb84f1"
            ],
            "text/plain": [
              "<IPython.core.display.Javascript object>"
            ]
          },
          "metadata": {
            "tags": []
          }
        },
        {
          "output_type": "display_data",
          "data": {
            "application/javascript": [
              "window[\"78dc69a8-d15e-11e9-8d65-0242ac1c0002\"] = window[\"744a96a8-d15e-11e9-8d65-0242ac1c0002\"].getAttribute(\"position\");\n",
              "//# sourceURL=js_2a87f9de47"
            ],
            "text/plain": [
              "<IPython.core.display.Javascript object>"
            ]
          },
          "metadata": {
            "tags": []
          }
        },
        {
          "output_type": "display_data",
          "data": {
            "application/javascript": [
              "window[\"78dcbc64-d15e-11e9-8d65-0242ac1c0002\"] = window[\"78dc69a8-d15e-11e9-8d65-0242ac1c0002\"].copyArray([-1.0801998376846313, -1.2460620403289795, -0.9764057993888855, 0.9520367383956909, -1.10309898853302, -0.9816182851791382, 0.8090864419937134, 0.923379123210907, -1.1345981359481812, -1.2231501340866089, 0.7804160118103027, -1.1293853521347046, -1.0857502222061157, -1.0930943489074707, 1.0551015138626099, 0.9464863538742065, -0.9501312971115112, 1.0498887300491333, 0.8035361766815186, 1.0763468742370605, 0.8969091773033142, -1.2287005186080933, 0.9333837628364563, 0.9021216630935669]);\n",
              "//# sourceURL=js_52e8821fcc"
            ],
            "text/plain": [
              "<IPython.core.display.Javascript object>"
            ]
          },
          "metadata": {
            "tags": []
          }
        },
        {
          "output_type": "display_data",
          "data": {
            "application/javascript": [
              "window[\"78dd02e6-d15e-11e9-8d65-0242ac1c0002\"] = window[\"744a96a8-d15e-11e9-8d65-0242ac1c0002\"].getAttribute(\"position\");\n",
              "//# sourceURL=js_e205a41278"
            ],
            "text/plain": [
              "<IPython.core.display.Javascript object>"
            ]
          },
          "metadata": {
            "tags": []
          }
        },
        {
          "output_type": "display_data",
          "data": {
            "application/javascript": [
              "window[\"78dd02e6-d15e-11e9-8d65-0242ac1c0002\"].needsUpdate = true;\n",
              "//# sourceURL=js_498db654f9"
            ],
            "text/plain": [
              "<IPython.core.display.Javascript object>"
            ]
          },
          "metadata": {
            "tags": []
          }
        },
        {
          "output_type": "display_data",
          "data": {
            "application/javascript": [
              "window[\"78f148b4-d15e-11e9-8d65-0242ac1c0002\"] = window[\"744a96a8-d15e-11e9-8d65-0242ac1c0002\"].getAttribute(\"position\");\n",
              "//# sourceURL=js_db3dc9b61b"
            ],
            "text/plain": [
              "<IPython.core.display.Javascript object>"
            ]
          },
          "metadata": {
            "tags": []
          }
        },
        {
          "output_type": "display_data",
          "data": {
            "application/javascript": [
              "window[\"78f198fa-d15e-11e9-8d65-0242ac1c0002\"] = window[\"78f148b4-d15e-11e9-8d65-0242ac1c0002\"].copyArray([-1.0855543613433838, -1.2598599195480347, -0.9957281947135925, 0.9875603914260864, -1.1133713722229004, -1.0106101036071777, 0.8403765559196472, 0.954239547252655, -1.161631464958191, -1.2327382564544678, 0.8077508211135864, -1.1467496156692505, -1.0813939571380615, -1.1081640720367432, 1.0770612955093384, 0.9917209148406982, -0.9616754055023193, 1.062179446220398, 0.844537079334259, 1.1059354543685913, 0.9111579060554504, -1.228577733039856, 0.9594468474388123, 0.9260398149490356]);\n",
              "//# sourceURL=js_c7443ea356"
            ],
            "text/plain": [
              "<IPython.core.display.Javascript object>"
            ]
          },
          "metadata": {
            "tags": []
          }
        },
        {
          "output_type": "display_data",
          "data": {
            "application/javascript": [
              "window[\"78f1e396-d15e-11e9-8d65-0242ac1c0002\"] = window[\"744a96a8-d15e-11e9-8d65-0242ac1c0002\"].getAttribute(\"position\");\n",
              "//# sourceURL=js_02d913ac9e"
            ],
            "text/plain": [
              "<IPython.core.display.Javascript object>"
            ]
          },
          "metadata": {
            "tags": []
          }
        },
        {
          "output_type": "display_data",
          "data": {
            "application/javascript": [
              "window[\"78f1e396-d15e-11e9-8d65-0242ac1c0002\"].needsUpdate = true;\n",
              "//# sourceURL=js_f74c2945f6"
            ],
            "text/plain": [
              "<IPython.core.display.Javascript object>"
            ]
          },
          "metadata": {
            "tags": []
          }
        },
        {
          "output_type": "display_data",
          "data": {
            "application/javascript": [
              "window[\"79067338-d15e-11e9-8d65-0242ac1c0002\"] = window[\"744a96a8-d15e-11e9-8d65-0242ac1c0002\"].getAttribute(\"position\");\n",
              "//# sourceURL=js_240db838fb"
            ],
            "text/plain": [
              "<IPython.core.display.Javascript object>"
            ]
          },
          "metadata": {
            "tags": []
          }
        },
        {
          "output_type": "display_data",
          "data": {
            "application/javascript": [
              "window[\"7906bf32-d15e-11e9-8d65-0242ac1c0002\"] = window[\"79067338-d15e-11e9-8d65-0242ac1c0002\"].copyArray([-1.0883350372314453, -1.2654086351394653, -1.0144011974334717, 1.0179181098937988, -1.119593858718872, -1.034316897392273, 0.8710767030715942, 0.9816886782646179, -1.1792659759521484, -1.2351763248443604, 0.8358737826347351, -1.1593502759933472, -1.0785250663757324, -1.1194270849227905, 1.0919115543365479, 1.0277280807495117, -0.9736121296882629, 1.0719958543777466, 0.8808866739273071, 1.127670168876648, 0.9270467758178711, -1.2253663539886475, 0.9818554520606995, 0.9469625353813171]);\n",
              "//# sourceURL=js_0f720f3225"
            ],
            "text/plain": [
              "<IPython.core.display.Javascript object>"
            ]
          },
          "metadata": {
            "tags": []
          }
        },
        {
          "output_type": "display_data",
          "data": {
            "application/javascript": [
              "window[\"79070546-d15e-11e9-8d65-0242ac1c0002\"] = window[\"744a96a8-d15e-11e9-8d65-0242ac1c0002\"].getAttribute(\"position\");\n",
              "//# sourceURL=js_c508cdbafd"
            ],
            "text/plain": [
              "<IPython.core.display.Javascript object>"
            ]
          },
          "metadata": {
            "tags": []
          }
        },
        {
          "output_type": "display_data",
          "data": {
            "application/javascript": [
              "window[\"79070546-d15e-11e9-8d65-0242ac1c0002\"].needsUpdate = true;\n",
              "//# sourceURL=js_40baebc5c1"
            ],
            "text/plain": [
              "<IPython.core.display.Javascript object>"
            ]
          },
          "metadata": {
            "tags": []
          }
        },
        {
          "output_type": "display_data",
          "data": {
            "application/javascript": [
              "window[\"791b17fc-d15e-11e9-8d65-0242ac1c0002\"] = window[\"744a96a8-d15e-11e9-8d65-0242ac1c0002\"].getAttribute(\"position\");\n",
              "//# sourceURL=js_3dada07014"
            ],
            "text/plain": [
              "<IPython.core.display.Javascript object>"
            ]
          },
          "metadata": {
            "tags": []
          }
        },
        {
          "output_type": "display_data",
          "data": {
            "application/javascript": [
              "window[\"791b6612-d15e-11e9-8d65-0242ac1c0002\"] = window[\"791b17fc-d15e-11e9-8d65-0242ac1c0002\"].copyArray([-1.0868053436279297, -1.262354850769043, -1.0324581861495972, 1.043470859527588, -1.1211575269699097, -1.0509785413742065, 0.9013816714286804, 1.0048446655273438, -1.1861860752105713, -1.228894829750061, 0.8636476397514343, -1.1676654815673828, -1.0773051977157593, -1.1262156963348389, 1.0982067584991455, 1.0529712438583374, -0.9850186705589294, 1.079686164855957, 0.9108818769454956, 1.1409838199615479, 0.9444789290428162, -1.2193944454193115, 0.9997864961624146, 0.9629992842674255]);\n",
              "//# sourceURL=js_7c497e1a7c"
            ],
            "text/plain": [
              "<IPython.core.display.Javascript object>"
            ]
          },
          "metadata": {
            "tags": []
          }
        },
        {
          "output_type": "display_data",
          "data": {
            "application/javascript": [
              "window[\"791bb23e-d15e-11e9-8d65-0242ac1c0002\"] = window[\"744a96a8-d15e-11e9-8d65-0242ac1c0002\"].getAttribute(\"position\");\n",
              "//# sourceURL=js_6f84731573"
            ],
            "text/plain": [
              "<IPython.core.display.Javascript object>"
            ]
          },
          "metadata": {
            "tags": []
          }
        },
        {
          "output_type": "display_data",
          "data": {
            "application/javascript": [
              "window[\"791bb23e-d15e-11e9-8d65-0242ac1c0002\"].needsUpdate = true;\n",
              "//# sourceURL=js_9e9dfa8ce4"
            ],
            "text/plain": [
              "<IPython.core.display.Javascript object>"
            ]
          },
          "metadata": {
            "tags": []
          }
        },
        {
          "output_type": "display_data",
          "data": {
            "application/javascript": [
              "window[\"792fe614-d15e-11e9-8d65-0242ac1c0002\"] = window[\"744a96a8-d15e-11e9-8d65-0242ac1c0002\"].getAttribute(\"position\");\n",
              "//# sourceURL=js_f67a232496"
            ],
            "text/plain": [
              "<IPython.core.display.Javascript object>"
            ]
          },
          "metadata": {
            "tags": []
          }
        },
        {
          "output_type": "display_data",
          "data": {
            "application/javascript": [
              "window[\"79303060-d15e-11e9-8d65-0242ac1c0002\"] = window[\"792fe614-d15e-11e9-8d65-0242ac1c0002\"].copyArray([-1.080674409866333, -1.2508411407470703, -1.0489400625228882, 1.0637568235397339, -1.1178946495056152, -1.0604463815689087, 0.9303703308105469, 1.0230504274368286, -1.1827354431152344, -1.21406090259552, 0.8901039958000183, -1.1712292432785034, -1.0767760276794434, -1.128073811531067, 1.0961253643035889, 1.0676552057266235, -0.9951273798942566, 1.084619164466858, 0.9342687129974365, 1.145817756652832, 0.9623299241065979, -1.2101625204086304, 1.012871265411377, 0.9738362431526184]);\n",
              "//# sourceURL=js_418629c761"
            ],
            "text/plain": [
              "<IPython.core.display.Javascript object>"
            ]
          },
          "metadata": {
            "tags": []
          }
        },
        {
          "output_type": "display_data",
          "data": {
            "application/javascript": [
              "window[\"793077d2-d15e-11e9-8d65-0242ac1c0002\"] = window[\"744a96a8-d15e-11e9-8d65-0242ac1c0002\"].getAttribute(\"position\");\n",
              "//# sourceURL=js_118061cec0"
            ],
            "text/plain": [
              "<IPython.core.display.Javascript object>"
            ]
          },
          "metadata": {
            "tags": []
          }
        },
        {
          "output_type": "display_data",
          "data": {
            "application/javascript": [
              "window[\"793077d2-d15e-11e9-8d65-0242ac1c0002\"].needsUpdate = true;\n",
              "//# sourceURL=js_7c3ddea7a1"
            ],
            "text/plain": [
              "<IPython.core.display.Javascript object>"
            ]
          },
          "metadata": {
            "tags": []
          }
        },
        {
          "output_type": "display_data",
          "data": {
            "application/javascript": [
              "window[\"79450990-d15e-11e9-8d65-0242ac1c0002\"] = window[\"744a96a8-d15e-11e9-8d65-0242ac1c0002\"].getAttribute(\"position\");\n",
              "//# sourceURL=js_ab09268179"
            ],
            "text/plain": [
              "<IPython.core.display.Javascript object>"
            ]
          },
          "metadata": {
            "tags": []
          }
        },
        {
          "output_type": "display_data",
          "data": {
            "application/javascript": [
              "window[\"794554cc-d15e-11e9-8d65-0242ac1c0002\"] = window[\"79450990-d15e-11e9-8d65-0242ac1c0002\"].copyArray([-1.0709744691848755, -1.231510043144226, -1.0621225833892822, 1.0776727199554443, -1.1100462675094604, -1.064008116722107, 0.9562647938728333, 1.035951852798462, -1.1707484722137451, -1.1923820972442627, 0.9144881367683411, -1.1688629388809204, -1.0751186609268188, -1.124833345413208, 1.087306261062622, 1.0735282897949219, -1.003369688987732, 1.0854207277297974, 0.9521206021308899, 1.14262855052948, 0.9786803126335144, -1.1965265274047852, 1.0211647748947144, 0.9805658459663391]);\n",
              "//# sourceURL=js_495fbb2496"
            ],
            "text/plain": [
              "<IPython.core.display.Javascript object>"
            ]
          },
          "metadata": {
            "tags": []
          }
        },
        {
          "output_type": "display_data",
          "data": {
            "application/javascript": [
              "window[\"79459e5a-d15e-11e9-8d65-0242ac1c0002\"] = window[\"744a96a8-d15e-11e9-8d65-0242ac1c0002\"].getAttribute(\"position\");\n",
              "//# sourceURL=js_4a44639cec"
            ],
            "text/plain": [
              "<IPython.core.display.Javascript object>"
            ]
          },
          "metadata": {
            "tags": []
          }
        },
        {
          "output_type": "display_data",
          "data": {
            "application/javascript": [
              "window[\"79459e5a-d15e-11e9-8d65-0242ac1c0002\"].needsUpdate = true;\n",
              "//# sourceURL=js_ca38c50df0"
            ],
            "text/plain": [
              "<IPython.core.display.Javascript object>"
            ]
          },
          "metadata": {
            "tags": []
          }
        },
        {
          "output_type": "display_data",
          "data": {
            "application/javascript": [
              "window[\"79599d56-d15e-11e9-8d65-0242ac1c0002\"] = window[\"744a96a8-d15e-11e9-8d65-0242ac1c0002\"].getAttribute(\"position\");\n",
              "//# sourceURL=js_e47902e655"
            ],
            "text/plain": [
              "<IPython.core.display.Javascript object>"
            ]
          },
          "metadata": {
            "tags": []
          }
        },
        {
          "output_type": "display_data",
          "data": {
            "application/javascript": [
              "window[\"7959e770-d15e-11e9-8d65-0242ac1c0002\"] = window[\"79599d56-d15e-11e9-8d65-0242ac1c0002\"].copyArray([-1.0594580173492432, -1.2054330110549927, -1.07016921043396, 1.084077000617981, -1.098149299621582, -1.0636945962905884, 0.9771544337272644, 1.0435571670532227, -1.1528890132904053, -1.1663806438446045, 0.9362735152244568, -1.1593636274337769, -1.0703777074813843, -1.1166729927062988, 1.0741949081420898, 1.0731573104858398, -1.0093892812728882, 1.0806695222854614, 0.9662347435951233, 1.1323171854019165, 0.9914751648902893, -1.1773003339767456, 1.0250334739685059, 0.9850005507469177]);\n",
              "//# sourceURL=js_568146331c"
            ],
            "text/plain": [
              "<IPython.core.display.Javascript object>"
            ]
          },
          "metadata": {
            "tags": []
          }
        },
        {
          "output_type": "display_data",
          "data": {
            "application/javascript": [
              "window[\"795a2d8e-d15e-11e9-8d65-0242ac1c0002\"] = window[\"744a96a8-d15e-11e9-8d65-0242ac1c0002\"].getAttribute(\"position\");\n",
              "//# sourceURL=js_8d922e53ca"
            ],
            "text/plain": [
              "<IPython.core.display.Javascript object>"
            ]
          },
          "metadata": {
            "tags": []
          }
        },
        {
          "output_type": "display_data",
          "data": {
            "application/javascript": [
              "window[\"795a2d8e-d15e-11e9-8d65-0242ac1c0002\"].needsUpdate = true;\n",
              "//# sourceURL=js_063c2d6946"
            ],
            "text/plain": [
              "<IPython.core.display.Javascript object>"
            ]
          },
          "metadata": {
            "tags": []
          }
        },
        {
          "output_type": "display_data",
          "data": {
            "application/javascript": [
              "window[\"796ead2c-d15e-11e9-8d65-0242ac1c0002\"] = window[\"744a96a8-d15e-11e9-8d65-0242ac1c0002\"].getAttribute(\"position\");\n",
              "//# sourceURL=js_09eebbb6ae"
            ],
            "text/plain": [
              "<IPython.core.display.Javascript object>"
            ]
          },
          "metadata": {
            "tags": []
          }
        },
        {
          "output_type": "display_data",
          "data": {
            "application/javascript": [
              "window[\"796f00b0-d15e-11e9-8d65-0242ac1c0002\"] = window[\"796ead2c-d15e-11e9-8d65-0242ac1c0002\"].copyArray([-1.0477776527404785, -1.1740059852600098, -1.0719109773635864, 1.0825179815292358, -1.082921028137207, -1.061385989189148, 0.991828441619873, 1.0462545156478882, -1.131770133972168, -1.1384673118591309, 0.9551695585250854, -1.142295002937317, -1.0612940788269043, -1.1041346788406372, 1.059169054031372, 1.0690016746520996, -1.013049602508545, 1.069693922996521, 0.9783120155334473, 1.1161258220672607, 0.9993098378181458, -1.151983618736267, 1.025040864944458, 0.9887848496437073]);\n",
              "//# sourceURL=js_cc5069fb87"
            ],
            "text/plain": [
              "<IPython.core.display.Javascript object>"
            ]
          },
          "metadata": {
            "tags": []
          }
        },
        {
          "output_type": "display_data",
          "data": {
            "application/javascript": [
              "window[\"796f4444-d15e-11e9-8d65-0242ac1c0002\"] = window[\"744a96a8-d15e-11e9-8d65-0242ac1c0002\"].getAttribute(\"position\");\n",
              "//# sourceURL=js_f407aecb8a"
            ],
            "text/plain": [
              "<IPython.core.display.Javascript object>"
            ]
          },
          "metadata": {
            "tags": []
          }
        },
        {
          "output_type": "display_data",
          "data": {
            "application/javascript": [
              "window[\"796f4444-d15e-11e9-8d65-0242ac1c0002\"].needsUpdate = true;\n",
              "//# sourceURL=js_9fd464fb0f"
            ],
            "text/plain": [
              "<IPython.core.display.Javascript object>"
            ]
          },
          "metadata": {
            "tags": []
          }
        },
        {
          "output_type": "display_data",
          "data": {
            "application/javascript": [
              "window[\"79834ef8-d15e-11e9-8d65-0242ac1c0002\"] = window[\"744a96a8-d15e-11e9-8d65-0242ac1c0002\"].getAttribute(\"position\");\n",
              "//# sourceURL=js_28c37dfd52"
            ],
            "text/plain": [
              "<IPython.core.display.Javascript object>"
            ]
          },
          "metadata": {
            "tags": []
          }
        },
        {
          "output_type": "display_data",
          "data": {
            "application/javascript": [
              "window[\"7983978c-d15e-11e9-8d65-0242ac1c0002\"] = window[\"79834ef8-d15e-11e9-8d65-0242ac1c0002\"].copyArray([-1.0368252992630005, -1.138832449913025, -1.0673856735229492, 1.0737218856811523, -1.0651887655258179, -1.0581321716308594, 1.0003228187561035, 1.0447684526443481, -1.1092383861541748, -1.1102243661880493, 0.9711247086524963, -1.1184918880462646, -1.0478525161743164, -1.088079571723938, 1.0438275337219238, 1.0626946687698364, -1.014435887336731, 1.0530810356140137, 0.9892956018447876, 1.095521330833435, 1.0019748210906982, -1.1212515830993652, 1.021877646446228, 0.9927213191986084]);\n",
              "//# sourceURL=js_13861f34d6"
            ],
            "text/plain": [
              "<IPython.core.display.Javascript object>"
            ]
          },
          "metadata": {
            "tags": []
          }
        },
        {
          "output_type": "display_data",
          "data": {
            "application/javascript": [
              "window[\"7983dde6-d15e-11e9-8d65-0242ac1c0002\"] = window[\"744a96a8-d15e-11e9-8d65-0242ac1c0002\"].getAttribute(\"position\");\n",
              "//# sourceURL=js_514f2df652"
            ],
            "text/plain": [
              "<IPython.core.display.Javascript object>"
            ]
          },
          "metadata": {
            "tags": []
          }
        },
        {
          "output_type": "display_data",
          "data": {
            "application/javascript": [
              "window[\"7983dde6-d15e-11e9-8d65-0242ac1c0002\"].needsUpdate = true;\n",
              "//# sourceURL=js_6eb2fc0925"
            ],
            "text/plain": [
              "<IPython.core.display.Javascript object>"
            ]
          },
          "metadata": {
            "tags": []
          }
        },
        {
          "output_type": "display_data",
          "data": {
            "application/javascript": [
              "window[\"7997ef48-d15e-11e9-8d65-0242ac1c0002\"] = window[\"744a96a8-d15e-11e9-8d65-0242ac1c0002\"].getAttribute(\"position\");\n",
              "//# sourceURL=js_583d802f1c"
            ],
            "text/plain": [
              "<IPython.core.display.Javascript object>"
            ]
          },
          "metadata": {
            "tags": []
          }
        },
        {
          "output_type": "display_data",
          "data": {
            "application/javascript": [
              "window[\"79983ef8-d15e-11e9-8d65-0242ac1c0002\"] = window[\"7997ef48-d15e-11e9-8d65-0242ac1c0002\"].copyArray([-1.0265318155288696, -1.1015976667404175, -1.0578941106796265, 1.059612512588501, -1.0458577871322632, -1.0539813041687012, 1.0039396286010742, 1.0400443077087402, -1.0861223936080933, -1.0822046995162964, 0.9843044281005859, -1.090035080909729, -1.0313010215759277, -1.0695724487304688, 1.0287472009658813, 1.0548433065414429, -1.013832688331604, 1.032659888267517, 0.9991704225540161, 1.072069525718689, 1.0005189180374146, -1.0869739055633545, 1.0163296461105347, 0.9966061115264893]);\n",
              "//# sourceURL=js_007031dfa3"
            ],
            "text/plain": [
              "<IPython.core.display.Javascript object>"
            ]
          },
          "metadata": {
            "tags": []
          }
        },
        {
          "output_type": "display_data",
          "data": {
            "application/javascript": [
              "window[\"79988d86-d15e-11e9-8d65-0242ac1c0002\"] = window[\"744a96a8-d15e-11e9-8d65-0242ac1c0002\"].getAttribute(\"position\");\n",
              "//# sourceURL=js_2d741befa6"
            ],
            "text/plain": [
              "<IPython.core.display.Javascript object>"
            ]
          },
          "metadata": {
            "tags": []
          }
        },
        {
          "output_type": "display_data",
          "data": {
            "application/javascript": [
              "window[\"79988d86-d15e-11e9-8d65-0242ac1c0002\"].needsUpdate = true;\n",
              "//# sourceURL=js_f6800dc5dd"
            ],
            "text/plain": [
              "<IPython.core.display.Javascript object>"
            ]
          },
          "metadata": {
            "tags": []
          }
        },
        {
          "output_type": "display_data",
          "data": {
            "application/javascript": [
              "window[\"79aded48-d15e-11e9-8d65-0242ac1c0002\"] = window[\"744a96a8-d15e-11e9-8d65-0242ac1c0002\"].getAttribute(\"position\");\n",
              "//# sourceURL=js_e66c804f0d"
            ],
            "text/plain": [
              "<IPython.core.display.Javascript object>"
            ]
          },
          "metadata": {
            "tags": []
          }
        },
        {
          "output_type": "display_data",
          "data": {
            "application/javascript": [
              "window[\"79ae3abe-d15e-11e9-8d65-0242ac1c0002\"] = window[\"79aded48-d15e-11e9-8d65-0242ac1c0002\"].copyArray([-1.0161668062210083, -1.0639442205429077, -1.0455824136734009, 1.0428600311279297, -1.0258793830871582, -1.0483304262161255, 1.0047773122787476, 1.0331002473831177, -1.0624933242797852, -1.0542494058609009, 0.9950352907180786, -1.0597453117370605, -1.0136810541152954, -1.04973304271698, 1.0137474536895752, 1.045345664024353, -1.011668086051941, 1.0109994411468506, 1.0072630643844604, 1.0473114252090454, 0.9968364834785461, -1.0517637729644775, 1.009246587753296, 0.9995844960212708]);\n",
              "//# sourceURL=js_94b4970219"
            ],
            "text/plain": [
              "<IPython.core.display.Javascript object>"
            ]
          },
          "metadata": {
            "tags": []
          }
        },
        {
          "output_type": "display_data",
          "data": {
            "application/javascript": [
              "window[\"79ae8762-d15e-11e9-8d65-0242ac1c0002\"] = window[\"744a96a8-d15e-11e9-8d65-0242ac1c0002\"].getAttribute(\"position\");\n",
              "//# sourceURL=js_c41a125a03"
            ],
            "text/plain": [
              "<IPython.core.display.Javascript object>"
            ]
          },
          "metadata": {
            "tags": []
          }
        },
        {
          "output_type": "display_data",
          "data": {
            "application/javascript": [
              "window[\"79ae8762-d15e-11e9-8d65-0242ac1c0002\"].needsUpdate = true;\n",
              "//# sourceURL=js_94e96ac168"
            ],
            "text/plain": [
              "<IPython.core.display.Javascript object>"
            ]
          },
          "metadata": {
            "tags": []
          }
        },
        {
          "output_type": "display_data",
          "data": {
            "application/javascript": [
              "window[\"79c3e332-d15e-11e9-8d65-0242ac1c0002\"] = window[\"744a96a8-d15e-11e9-8d65-0242ac1c0002\"].getAttribute(\"position\");\n",
              "//# sourceURL=js_e7be90d3bb"
            ],
            "text/plain": [
              "<IPython.core.display.Javascript object>"
            ]
          },
          "metadata": {
            "tags": []
          }
        },
        {
          "output_type": "display_data",
          "data": {
            "application/javascript": [
              "window[\"79c44930-d15e-11e9-8d65-0242ac1c0002\"] = window[\"79c3e332-d15e-11e9-8d65-0242ac1c0002\"].copyArray([-1.0049200057983398, -1.0273725986480713, -1.0327551364898682, 1.026174783706665, -1.0062060356140137, -1.0405371189117432, 1.0050169229507446, 1.0249024629592896, -1.0382177829742432, -1.0260778665542603, 1.003735899925232, -1.0304358005523682, -0.9971144795417786, -1.0296107530593872, 0.9984486103057861, 1.0339802503585815, -1.0084441900253296, 0.9906666278839111, 1.0128223896026611, 1.0226643085479736, 0.9929859638214111, -1.0182723999023438, 1.001497745513916, 1.0007679462432861]);\n",
              "//# sourceURL=js_0d10e2cf22"
            ],
            "text/plain": [
              "<IPython.core.display.Javascript object>"
            ]
          },
          "metadata": {
            "tags": []
          }
        },
        {
          "output_type": "display_data",
          "data": {
            "application/javascript": [
              "window[\"79c49750-d15e-11e9-8d65-0242ac1c0002\"] = window[\"744a96a8-d15e-11e9-8d65-0242ac1c0002\"].getAttribute(\"position\");\n",
              "//# sourceURL=js_b350abcf43"
            ],
            "text/plain": [
              "<IPython.core.display.Javascript object>"
            ]
          },
          "metadata": {
            "tags": []
          }
        },
        {
          "output_type": "display_data",
          "data": {
            "application/javascript": [
              "window[\"79c49750-d15e-11e9-8d65-0242ac1c0002\"].needsUpdate = true;\n",
              "//# sourceURL=js_9b9b6024ee"
            ],
            "text/plain": [
              "<IPython.core.display.Javascript object>"
            ]
          },
          "metadata": {
            "tags": []
          }
        },
        {
          "output_type": "display_data",
          "data": {
            "application/javascript": [
              "window[\"79d9e718-d15e-11e9-8d65-0242ac1c0002\"] = window[\"744a96a8-d15e-11e9-8d65-0242ac1c0002\"].getAttribute(\"position\");\n",
              "//# sourceURL=js_7fdfa18367"
            ],
            "text/plain": [
              "<IPython.core.display.Javascript object>"
            ]
          },
          "metadata": {
            "tags": []
          }
        },
        {
          "output_type": "display_data",
          "data": {
            "application/javascript": [
              "window[\"79da3556-d15e-11e9-8d65-0242ac1c0002\"] = window[\"79d9e718-d15e-11e9-8d65-0242ac1c0002\"].copyArray([-0.9924601912498474, -0.9931796789169312, -1.0212030410766602, 1.0116291046142578, -0.9877355694770813, -1.030471920967102, 1.0062637329101562, 1.0163036584854126, -1.013501763343811, -0.997825562953949, 1.010859489440918, -1.0042330026626587, -0.9831456542015076, -1.0101248025894165, 0.9828220009803772, 1.0209436416625977, -1.0046806335449219, 0.9735532402992249, 1.015578269958496, 0.9993586540222168, 0.9905233383178711, -0.9885110259056091, 0.9939145445823669, 0.999792218208313]);\n",
              "//# sourceURL=js_15d3bdfa2f"
            ],
            "text/plain": [
              "<IPython.core.display.Javascript object>"
            ]
          },
          "metadata": {
            "tags": []
          }
        },
        {
          "output_type": "display_data",
          "data": {
            "application/javascript": [
              "window[\"79da816e-d15e-11e9-8d65-0242ac1c0002\"] = window[\"744a96a8-d15e-11e9-8d65-0242ac1c0002\"].getAttribute(\"position\");\n",
              "//# sourceURL=js_00b4d17674"
            ],
            "text/plain": [
              "<IPython.core.display.Javascript object>"
            ]
          },
          "metadata": {
            "tags": []
          }
        },
        {
          "output_type": "display_data",
          "data": {
            "application/javascript": [
              "window[\"79da816e-d15e-11e9-8d65-0242ac1c0002\"].needsUpdate = true;\n",
              "//# sourceURL=js_db8a642c9e"
            ],
            "text/plain": [
              "<IPython.core.display.Javascript object>"
            ]
          },
          "metadata": {
            "tags": []
          }
        },
        {
          "output_type": "display_data",
          "data": {
            "application/javascript": [
              "window[\"79efb8e0-d15e-11e9-8d65-0242ac1c0002\"] = window[\"744a96a8-d15e-11e9-8d65-0242ac1c0002\"].getAttribute(\"position\");\n",
              "//# sourceURL=js_e3a46366d4"
            ],
            "text/plain": [
              "<IPython.core.display.Javascript object>"
            ]
          },
          "metadata": {
            "tags": []
          }
        },
        {
          "output_type": "display_data",
          "data": {
            "application/javascript": [
              "window[\"79f006ce-d15e-11e9-8d65-0242ac1c0002\"] = window[\"79efb8e0-d15e-11e9-8d65-0242ac1c0002\"].copyArray([-0.9792208671569824, -0.962430477142334, -1.0118064880371094, 1.000271201133728, -0.9712480902671814, -1.0187742710113525, 1.0091919898986816, 1.008034586906433, -0.9891815781593323, -0.9702999591827393, 1.0168521404266357, -0.9822136759757996, -0.9723857045173645, -0.9920541644096375, 0.9674839377403259, 1.0071063041687012, -1.0008716583251953, 0.9605160355567932, 1.0160272121429443, 0.9784108400344849, 0.9901089072227478, -0.9634648561477661, 0.9872284531593323, 0.997076690196991]);\n",
              "//# sourceURL=js_905280bb57"
            ],
            "text/plain": [
              "<IPython.core.display.Javascript object>"
            ]
          },
          "metadata": {
            "tags": []
          }
        },
        {
          "output_type": "display_data",
          "data": {
            "application/javascript": [
              "window[\"79f0534a-d15e-11e9-8d65-0242ac1c0002\"] = window[\"744a96a8-d15e-11e9-8d65-0242ac1c0002\"].getAttribute(\"position\");\n",
              "//# sourceURL=js_55c8e5590f"
            ],
            "text/plain": [
              "<IPython.core.display.Javascript object>"
            ]
          },
          "metadata": {
            "tags": []
          }
        },
        {
          "output_type": "display_data",
          "data": {
            "application/javascript": [
              "window[\"79f0534a-d15e-11e9-8d65-0242ac1c0002\"].needsUpdate = true;\n",
              "//# sourceURL=js_25f1071351"
            ],
            "text/plain": [
              "<IPython.core.display.Javascript object>"
            ]
          },
          "metadata": {
            "tags": []
          }
        },
        {
          "output_type": "display_data",
          "data": {
            "application/javascript": [
              "window[\"7a0576e4-d15e-11e9-8d65-0242ac1c0002\"] = window[\"744a96a8-d15e-11e9-8d65-0242ac1c0002\"].getAttribute(\"position\");\n",
              "//# sourceURL=js_d1f6fa1be9"
            ],
            "text/plain": [
              "<IPython.core.display.Javascript object>"
            ]
          },
          "metadata": {
            "tags": []
          }
        },
        {
          "output_type": "display_data",
          "data": {
            "application/javascript": [
              "window[\"7a05cedc-d15e-11e9-8d65-0242ac1c0002\"] = window[\"7a0576e4-d15e-11e9-8d65-0242ac1c0002\"].copyArray([-0.9663256406784058, -0.935941755771637, -1.004534363746643, 0.9921402931213379, -0.9573487639427185, -1.0067421197891235, 1.0135879516601562, 1.000707745552063, -0.9666618704795837, -0.9448779821395874, 1.0221147537231445, -0.964454174041748, -0.9645566940307617, -0.9760436415672302, 0.9536383748054504, 0.9939092397689819, -0.9974506497383118, 0.9514306783676147, 1.0153568983078003, 0.960605800151825, 0.991510808467865, -0.9431090354919434, 0.9820128083229065, 0.9937185645103455]);\n",
              "//# sourceURL=js_03164110d1"
            ],
            "text/plain": [
              "<IPython.core.display.Javascript object>"
            ]
          },
          "metadata": {
            "tags": []
          }
        },
        {
          "output_type": "display_data",
          "data": {
            "application/javascript": [
              "window[\"7a061cca-d15e-11e9-8d65-0242ac1c0002\"] = window[\"744a96a8-d15e-11e9-8d65-0242ac1c0002\"].getAttribute(\"position\");\n",
              "//# sourceURL=js_f50961d97f"
            ],
            "text/plain": [
              "<IPython.core.display.Javascript object>"
            ]
          },
          "metadata": {
            "tags": []
          }
        },
        {
          "output_type": "display_data",
          "data": {
            "application/javascript": [
              "window[\"7a061cca-d15e-11e9-8d65-0242ac1c0002\"].needsUpdate = true;\n",
              "//# sourceURL=js_d9715df172"
            ],
            "text/plain": [
              "<IPython.core.display.Javascript object>"
            ]
          },
          "metadata": {
            "tags": []
          }
        },
        {
          "output_type": "display_data",
          "data": {
            "application/javascript": [
              "window[\"7a1a47cc-d15e-11e9-8d65-0242ac1c0002\"] = window[\"744a96a8-d15e-11e9-8d65-0242ac1c0002\"].getAttribute(\"position\");\n",
              "//# sourceURL=js_708dbad4a2"
            ],
            "text/plain": [
              "<IPython.core.display.Javascript object>"
            ]
          },
          "metadata": {
            "tags": []
          }
        },
        {
          "output_type": "display_data",
          "data": {
            "application/javascript": [
              "window[\"7a1a9e20-d15e-11e9-8d65-0242ac1c0002\"] = window[\"7a1a47cc-d15e-11e9-8d65-0242ac1c0002\"].copyArray([-0.9552199244499207, -0.9142741560935974, -0.9987735748291016, 0.9866249561309814, -0.9464341402053833, -0.9959473013877869, 1.0187046527862549, 0.9948114156723022, -0.9475706815719604, -0.923140287399292, 1.0269713401794434, -0.9503969550132751, -0.9588460326194763, -0.9625974893569946, 0.942734956741333, 0.9829988479614258, -0.9947574138641357, 0.9455612301826477, 1.0150785446166992, 0.946488082408905, 0.9939378499984741, -0.9267663955688477, 0.9786480665206909, 0.9911115765571594]);\n",
              "//# sourceURL=js_eb56bf8cd0"
            ],
            "text/plain": [
              "<IPython.core.display.Javascript object>"
            ]
          },
          "metadata": {
            "tags": []
          }
        },
        {
          "output_type": "display_data",
          "data": {
            "application/javascript": [
              "window[\"7a1ae5d8-d15e-11e9-8d65-0242ac1c0002\"] = window[\"744a96a8-d15e-11e9-8d65-0242ac1c0002\"].getAttribute(\"position\");\n",
              "//# sourceURL=js_9e47463a96"
            ],
            "text/plain": [
              "<IPython.core.display.Javascript object>"
            ]
          },
          "metadata": {
            "tags": []
          }
        },
        {
          "output_type": "display_data",
          "data": {
            "application/javascript": [
              "window[\"7a1ae5d8-d15e-11e9-8d65-0242ac1c0002\"].needsUpdate = true;\n",
              "//# sourceURL=js_7964e2df01"
            ],
            "text/plain": [
              "<IPython.core.display.Javascript object>"
            ]
          },
          "metadata": {
            "tags": []
          }
        },
        {
          "output_type": "display_data",
          "data": {
            "application/javascript": [
              "window[\"7a2ecbc0-d15e-11e9-8d65-0242ac1c0002\"] = window[\"744a96a8-d15e-11e9-8d65-0242ac1c0002\"].getAttribute(\"position\");\n",
              "//# sourceURL=js_a3f7cafe07"
            ],
            "text/plain": [
              "<IPython.core.display.Javascript object>"
            ]
          },
          "metadata": {
            "tags": []
          }
        },
        {
          "output_type": "display_data",
          "data": {
            "application/javascript": [
              "window[\"7a2f608a-d15e-11e9-8d65-0242ac1c0002\"] = window[\"7a2ecbc0-d15e-11e9-8d65-0242ac1c0002\"].copyArray([-0.947178840637207, -0.897736132144928, -0.9938046336174011, 0.9829621315002441, -0.9386950731277466, -0.9877555966377258, 1.023734211921692, 0.9906907081604004, -0.9332900643348694, -0.9064067602157593, 1.0316495895385742, -0.9393391013145447, -0.954379677772522, -0.9520615339279175, 0.9360024333000183, 0.9757612943649292, -0.9930204749107361, 0.9420514702796936, 1.016533374786377, 0.9363653063774109, 0.99651700258255, -0.9136075973510742, 0.9773242473602295, 0.9904679656028748]);\n",
              "//# sourceURL=js_e45c78c08e"
            ],
            "text/plain": [
              "<IPython.core.display.Javascript object>"
            ]
          },
          "metadata": {
            "tags": []
          }
        },
        {
          "output_type": "display_data",
          "data": {
            "application/javascript": [
              "window[\"7a2fbac6-d15e-11e9-8d65-0242ac1c0002\"] = window[\"744a96a8-d15e-11e9-8d65-0242ac1c0002\"].getAttribute(\"position\");\n",
              "//# sourceURL=js_7e1b3f6bee"
            ],
            "text/plain": [
              "<IPython.core.display.Javascript object>"
            ]
          },
          "metadata": {
            "tags": []
          }
        },
        {
          "output_type": "display_data",
          "data": {
            "application/javascript": [
              "window[\"7a2fbac6-d15e-11e9-8d65-0242ac1c0002\"].needsUpdate = true;\n",
              "//# sourceURL=js_e9db8a49e4"
            ],
            "text/plain": [
              "<IPython.core.display.Javascript object>"
            ]
          },
          "metadata": {
            "tags": []
          }
        },
        {
          "output_type": "display_data",
          "data": {
            "application/javascript": [
              "window[\"7a439f1e-d15e-11e9-8d65-0242ac1c0002\"] = window[\"744a96a8-d15e-11e9-8d65-0242ac1c0002\"].getAttribute(\"position\");\n",
              "//# sourceURL=js_1cc17794cc"
            ],
            "text/plain": [
              "<IPython.core.display.Javascript object>"
            ]
          },
          "metadata": {
            "tags": []
          }
        },
        {
          "output_type": "display_data",
          "data": {
            "application/javascript": [
              "window[\"7a43ee38-d15e-11e9-8d65-0242ac1c0002\"] = window[\"7a439f1e-d15e-11e9-8d65-0242ac1c0002\"].copyArray([-0.9428809881210327, -0.8864077925682068, -0.9892181754112244, 0.9806735515594482, -0.9341515302658081, -0.9829244017601013, 1.0282046794891357, 0.9885326027870178, -0.9245490431785583, -0.8953498601913452, 1.0362764596939087, -0.9308427572250366, -0.9506185054779053, -0.9446094632148743, 0.9340431094169617, 0.9729361534118652, -0.9923533201217651, 0.9403368234634399, 1.0204672813415527, 0.9303309321403503, 0.9987122416496277, -0.9030873775482178, 0.9780746698379517, 0.9924184679985046]);\n",
              "//# sourceURL=js_e29d5ac982"
            ],
            "text/plain": [
              "<IPython.core.display.Javascript object>"
            ]
          },
          "metadata": {
            "tags": []
          }
        },
        {
          "output_type": "display_data",
          "data": {
            "application/javascript": [
              "window[\"7a4440cc-d15e-11e9-8d65-0242ac1c0002\"] = window[\"744a96a8-d15e-11e9-8d65-0242ac1c0002\"].getAttribute(\"position\");\n",
              "//# sourceURL=js_4778119508"
            ],
            "text/plain": [
              "<IPython.core.display.Javascript object>"
            ]
          },
          "metadata": {
            "tags": []
          }
        },
        {
          "output_type": "display_data",
          "data": {
            "application/javascript": [
              "window[\"7a4440cc-d15e-11e9-8d65-0242ac1c0002\"].needsUpdate = true;\n",
              "//# sourceURL=js_0e4de15cde"
            ],
            "text/plain": [
              "<IPython.core.display.Javascript object>"
            ]
          },
          "metadata": {
            "tags": []
          }
        },
        {
          "output_type": "display_data",
          "data": {
            "application/javascript": [
              "window[\"7a58efcc-d15e-11e9-8d65-0242ac1c0002\"] = window[\"744a96a8-d15e-11e9-8d65-0242ac1c0002\"].getAttribute(\"position\");\n",
              "//# sourceURL=js_5af3ed7afc"
            ],
            "text/plain": [
              "<IPython.core.display.Javascript object>"
            ]
          },
          "metadata": {
            "tags": []
          }
        },
        {
          "output_type": "display_data",
          "data": {
            "application/javascript": [
              "window[\"7a5953cc-d15e-11e9-8d65-0242ac1c0002\"] = window[\"7a58efcc-d15e-11e9-8d65-0242ac1c0002\"].copyArray([-0.9422075748443604, -0.8801707625389099, -0.9851201772689819, 0.9797823429107666, -0.9326934218406677, -0.9814257025718689, 1.0321638584136963, 0.988361120223999, -0.9212342500686646, -0.8898260593414307, 1.0408838987350464, -0.9249287247657776, -0.9475430846214294, -0.9402389526367188, 0.9366449117660522, 0.9744468927383423, -0.9927617311477661, 0.9403393864631653, 1.026828408241272, 0.9282929301261902, 1.0005308389663696, -0.895161509513855, 0.980815589427948, 0.9968363642692566]);\n",
              "//# sourceURL=js_6bc9186a6c"
            ],
            "text/plain": [
              "<IPython.core.display.Javascript object>"
            ]
          },
          "metadata": {
            "tags": []
          }
        },
        {
          "output_type": "display_data",
          "data": {
            "application/javascript": [
              "window[\"7a599288-d15e-11e9-8d65-0242ac1c0002\"] = window[\"744a96a8-d15e-11e9-8d65-0242ac1c0002\"].getAttribute(\"position\");\n",
              "//# sourceURL=js_de111b69ce"
            ],
            "text/plain": [
              "<IPython.core.display.Javascript object>"
            ]
          },
          "metadata": {
            "tags": []
          }
        },
        {
          "output_type": "display_data",
          "data": {
            "application/javascript": [
              "window[\"7a599288-d15e-11e9-8d65-0242ac1c0002\"].needsUpdate = true;\n",
              "//# sourceURL=js_837958f678"
            ],
            "text/plain": [
              "<IPython.core.display.Javascript object>"
            ]
          },
          "metadata": {
            "tags": []
          }
        },
        {
          "output_type": "display_data",
          "data": {
            "application/javascript": [
              "window[\"7a6d5868-d15e-11e9-8d65-0242ac1c0002\"] = window[\"744a96a8-d15e-11e9-8d65-0242ac1c0002\"].getAttribute(\"position\");\n",
              "//# sourceURL=js_cb31983eca"
            ],
            "text/plain": [
              "<IPython.core.display.Javascript object>"
            ]
          },
          "metadata": {
            "tags": []
          }
        },
        {
          "output_type": "display_data",
          "data": {
            "application/javascript": [
              "window[\"7a6da638-d15e-11e9-8d65-0242ac1c0002\"] = window[\"7a6d5868-d15e-11e9-8d65-0242ac1c0002\"].copyArray([-0.9443310499191284, -0.8787376880645752, -0.9820719361305237, 0.980758547782898, -0.9341051578521729, -0.9825419783592224, 1.0361137390136719, 0.9900479316711426, -0.9224852919578552, -0.888975977897644, 1.0454152822494507, -0.9220151305198669, -0.9455880522727966, -0.9387831687927246, 0.9428771138191223, 0.9795016050338745, -0.9941505193710327, 0.942406952381134, 1.0348566770553589, 0.9300024509429932, 1.0024638175964355, -0.8902329206466675, 0.9853699207305908, 1.0029338598251343]);\n",
              "//# sourceURL=js_e7ffba6c26"
            ],
            "text/plain": [
              "<IPython.core.display.Javascript object>"
            ]
          },
          "metadata": {
            "tags": []
          }
        },
        {
          "output_type": "display_data",
          "data": {
            "application/javascript": [
              "window[\"7a6dedf0-d15e-11e9-8d65-0242ac1c0002\"] = window[\"744a96a8-d15e-11e9-8d65-0242ac1c0002\"].getAttribute(\"position\");\n",
              "//# sourceURL=js_ff64ae68a9"
            ],
            "text/plain": [
              "<IPython.core.display.Javascript object>"
            ]
          },
          "metadata": {
            "tags": []
          }
        },
        {
          "output_type": "display_data",
          "data": {
            "application/javascript": [
              "window[\"7a6dedf0-d15e-11e9-8d65-0242ac1c0002\"].needsUpdate = true;\n",
              "//# sourceURL=js_ccc7114ffa"
            ],
            "text/plain": [
              "<IPython.core.display.Javascript object>"
            ]
          },
          "metadata": {
            "tags": []
          }
        },
        {
          "output_type": "display_data",
          "data": {
            "application/javascript": [
              "window[\"7a81eb7a-d15e-11e9-8d65-0242ac1c0002\"] = window[\"744a96a8-d15e-11e9-8d65-0242ac1c0002\"].getAttribute(\"position\");\n",
              "//# sourceURL=js_5cbed2da6c"
            ],
            "text/plain": [
              "<IPython.core.display.Javascript object>"
            ]
          },
          "metadata": {
            "tags": []
          }
        },
        {
          "output_type": "display_data",
          "data": {
            "application/javascript": [
              "window[\"7a827aae-d15e-11e9-8d65-0242ac1c0002\"] = window[\"7a81eb7a-d15e-11e9-8d65-0242ac1c0002\"].copyArray([-0.9480401277542114, -0.8816748857498169, -0.9808120727539062, 0.9842399954795837, -0.9380693435668945, -0.9851803779602051, 1.0407402515411377, 0.993337094783783, -0.9270204305648804, -0.8915396928787231, 1.0497313737869263, -0.9226521253585815, -0.9453722238540649, -0.9399376511573792, 0.9514155387878418, 0.9869077205657959, -0.9963319897651672, 0.947047233581543, 1.0434081554412842, 0.9350743293762207, 1.0052071809768677, -0.888871967792511, 0.9914687871932983, 1.0095754861831665]);\n",
              "//# sourceURL=js_6d9a26a1a2"
            ],
            "text/plain": [
              "<IPython.core.display.Javascript object>"
            ]
          },
          "metadata": {
            "tags": []
          }
        },
        {
          "output_type": "display_data",
          "data": {
            "application/javascript": [
              "window[\"7a83150e-d15e-11e9-8d65-0242ac1c0002\"] = window[\"744a96a8-d15e-11e9-8d65-0242ac1c0002\"].getAttribute(\"position\");\n",
              "//# sourceURL=js_4e4a29914a"
            ],
            "text/plain": [
              "<IPython.core.display.Javascript object>"
            ]
          },
          "metadata": {
            "tags": []
          }
        },
        {
          "output_type": "display_data",
          "data": {
            "application/javascript": [
              "window[\"7a83150e-d15e-11e9-8d65-0242ac1c0002\"].needsUpdate = true;\n",
              "//# sourceURL=js_c3aaaa4249"
            ],
            "text/plain": [
              "<IPython.core.display.Javascript object>"
            ]
          },
          "metadata": {
            "tags": []
          }
        },
        {
          "output_type": "display_data",
          "data": {
            "application/javascript": [
              "window[\"7a972c88-d15e-11e9-8d65-0242ac1c0002\"] = window[\"744a96a8-d15e-11e9-8d65-0242ac1c0002\"].getAttribute(\"position\");\n",
              "//# sourceURL=js_546f5a3b5a"
            ],
            "text/plain": [
              "<IPython.core.display.Javascript object>"
            ]
          },
          "metadata": {
            "tags": []
          }
        },
        {
          "output_type": "display_data",
          "data": {
            "application/javascript": [
              "window[\"7a97e984-d15e-11e9-8d65-0242ac1c0002\"] = window[\"7a972c88-d15e-11e9-8d65-0242ac1c0002\"].copyArray([-0.9521614909172058, -0.8884250521659851, -0.9818807244300842, 0.9906555414199829, -0.9441677927970886, -0.9882745146751404, 1.0465564727783203, 0.9978846907615662, -0.933560311794281, -0.8962606191635132, 1.0536274909973145, -0.9271664619445801, -0.9473420977592468, -0.9433003067970276, 0.9609656929969788, 0.9954750537872314, -0.9990431666374207, 0.9545718431472778, 1.0513758659362793, 0.9430094361305237, 1.0092861652374268, -0.8914411067962646, 0.9987521767616272, 1.015679955482483]);\n",
              "//# sourceURL=js_8582aa0330"
            ],
            "text/plain": [
              "<IPython.core.display.Javascript object>"
            ]
          },
          "metadata": {
            "tags": []
          }
        },
        {
          "output_type": "display_data",
          "data": {
            "application/javascript": [
              "window[\"7a98200c-d15e-11e9-8d65-0242ac1c0002\"] = window[\"744a96a8-d15e-11e9-8d65-0242ac1c0002\"].getAttribute(\"position\");\n",
              "//# sourceURL=js_d5162992b7"
            ],
            "text/plain": [
              "<IPython.core.display.Javascript object>"
            ]
          },
          "metadata": {
            "tags": []
          }
        },
        {
          "output_type": "display_data",
          "data": {
            "application/javascript": [
              "window[\"7a98200c-d15e-11e9-8d65-0242ac1c0002\"].needsUpdate = true;\n",
              "//# sourceURL=js_6138b6789f"
            ],
            "text/plain": [
              "<IPython.core.display.Javascript object>"
            ]
          },
          "metadata": {
            "tags": []
          }
        },
        {
          "output_type": "display_data",
          "data": {
            "application/javascript": [
              "window[\"7aacba26-d15e-11e9-8d65-0242ac1c0002\"] = window[\"744a96a8-d15e-11e9-8d65-0242ac1c0002\"].getAttribute(\"position\");\n",
              "//# sourceURL=js_17d4323f47"
            ],
            "text/plain": [
              "<IPython.core.display.Javascript object>"
            ]
          },
          "metadata": {
            "tags": []
          }
        },
        {
          "output_type": "display_data",
          "data": {
            "application/javascript": [
              "window[\"7aad07ec-d15e-11e9-8d65-0242ac1c0002\"] = window[\"7aacba26-d15e-11e9-8d65-0242ac1c0002\"].copyArray([-0.9559154510498047, -0.8983340859413147, -0.9853053689002991, 0.9999102354049683, -0.9518933296203613, -0.9911225438117981, 1.0536006689071655, 1.003299593925476, -0.9411830306053162, -0.9022250175476074, 1.056858777999878, -0.9353659749031067, -0.9514695405960083, -0.9484142065048218, 0.9706159234046936, 1.0043561458587646, -1.0019733905792236, 0.9647988677024841, 1.058046579360962, 0.953219473361969, 1.0147383213043213, -0.897779107093811, 1.0067787170410156, 1.0205554962158203]);\n",
              "//# sourceURL=js_34c9d3f948"
            ],
            "text/plain": [
              "<IPython.core.display.Javascript object>"
            ]
          },
          "metadata": {
            "tags": []
          }
        },
        {
          "output_type": "display_data",
          "data": {
            "application/javascript": [
              "window[\"7aad6a8e-d15e-11e9-8d65-0242ac1c0002\"] = window[\"744a96a8-d15e-11e9-8d65-0242ac1c0002\"].getAttribute(\"position\");\n",
              "//# sourceURL=js_d9072fba03"
            ],
            "text/plain": [
              "<IPython.core.display.Javascript object>"
            ]
          },
          "metadata": {
            "tags": []
          }
        },
        {
          "output_type": "display_data",
          "data": {
            "application/javascript": [
              "window[\"7aad6a8e-d15e-11e9-8d65-0242ac1c0002\"].needsUpdate = true;\n",
              "//# sourceURL=js_e76c15bf86"
            ],
            "text/plain": [
              "<IPython.core.display.Javascript object>"
            ]
          },
          "metadata": {
            "tags": []
          }
        },
        {
          "output_type": "display_data",
          "data": {
            "application/javascript": [
              "window[\"7ac1da28-d15e-11e9-8d65-0242ac1c0002\"] = window[\"744a96a8-d15e-11e9-8d65-0242ac1c0002\"].getAttribute(\"position\");\n",
              "//# sourceURL=js_b0fe5bc85b"
            ],
            "text/plain": [
              "<IPython.core.display.Javascript object>"
            ]
          },
          "metadata": {
            "tags": []
          }
        },
        {
          "output_type": "display_data",
          "data": {
            "application/javascript": [
              "window[\"7ac22c08-d15e-11e9-8d65-0242ac1c0002\"] = window[\"7ac1da28-d15e-11e9-8d65-0242ac1c0002\"].copyArray([-0.9590710997581482, -0.9106799364089966, -0.9904899001121521, 1.011271357536316, -0.9606767296791077, -0.9935393929481506, 1.061323881149292, 1.009174108505249, -0.9494830369949341, -0.9090186953544617, 1.0591709613800049, -0.9464334845542908, -0.9571407437324524, -0.9547994136810303, 0.979994535446167, 1.0132018327713013, -1.0047962665557861, 0.9769449830055237, 1.0632542371749878, 0.9650546312332153, 1.0210014581680298, -0.9070882797241211, 1.0150513648986816, 1.0240509510040283]);\n",
              "//# sourceURL=js_39d97a12be"
            ],
            "text/plain": [
              "<IPython.core.display.Javascript object>"
            ]
          },
          "metadata": {
            "tags": []
          }
        },
        {
          "output_type": "display_data",
          "data": {
            "application/javascript": [
              "window[\"7ac29486-d15e-11e9-8d65-0242ac1c0002\"] = window[\"744a96a8-d15e-11e9-8d65-0242ac1c0002\"].getAttribute(\"position\");\n",
              "//# sourceURL=js_9c469c1b81"
            ],
            "text/plain": [
              "<IPython.core.display.Javascript object>"
            ]
          },
          "metadata": {
            "tags": []
          }
        },
        {
          "output_type": "display_data",
          "data": {
            "application/javascript": [
              "window[\"7ac29486-d15e-11e9-8d65-0242ac1c0002\"].needsUpdate = true;\n",
              "//# sourceURL=js_c2d73f0764"
            ],
            "text/plain": [
              "<IPython.core.display.Javascript object>"
            ]
          },
          "metadata": {
            "tags": []
          }
        },
        {
          "output_type": "display_data",
          "data": {
            "application/javascript": [
              "window[\"7ad6c546-d15e-11e9-8d65-0242ac1c0002\"] = window[\"744a96a8-d15e-11e9-8d65-0242ac1c0002\"].getAttribute(\"position\");\n",
              "//# sourceURL=js_5fd1365a7f"
            ],
            "text/plain": [
              "<IPython.core.display.Javascript object>"
            ]
          },
          "metadata": {
            "tags": []
          }
        },
        {
          "output_type": "display_data",
          "data": {
            "application/javascript": [
              "window[\"7ad70b0a-d15e-11e9-8d65-0242ac1c0002\"] = window[\"7ad6c546-d15e-11e9-8d65-0242ac1c0002\"].copyArray([-0.9618568420410156, -0.9246978759765625, -0.9963597059249878, 1.0235161781311035, -0.9699253439903259, -0.9957754611968994, 1.0687248706817627, 1.0150978565216064, -0.9584822654724121, -0.9166481494903564, 1.060325264930725, -0.9590665102005005, -0.9632902145385742, -0.9619680643081665, 0.9891781806945801, 1.022082805633545, -1.0071955919265747, 0.9897624254226685, 1.067291498184204, 0.9778276681900024, 1.0270556211471558, -0.9180815815925598, 1.023055076599121, 1.0264713764190674]);\n",
              "//# sourceURL=js_975b3a8e40"
            ],
            "text/plain": [
              "<IPython.core.display.Javascript object>"
            ]
          },
          "metadata": {
            "tags": []
          }
        },
        {
          "output_type": "display_data",
          "data": {
            "application/javascript": [
              "window[\"7ad79624-d15e-11e9-8d65-0242ac1c0002\"] = window[\"744a96a8-d15e-11e9-8d65-0242ac1c0002\"].getAttribute(\"position\");\n",
              "//# sourceURL=js_ac3ead7b2e"
            ],
            "text/plain": [
              "<IPython.core.display.Javascript object>"
            ]
          },
          "metadata": {
            "tags": []
          }
        },
        {
          "output_type": "display_data",
          "data": {
            "application/javascript": [
              "window[\"7ad79624-d15e-11e9-8d65-0242ac1c0002\"].needsUpdate = true;\n",
              "//# sourceURL=js_adee35562a"
            ],
            "text/plain": [
              "<IPython.core.display.Javascript object>"
            ]
          },
          "metadata": {
            "tags": []
          }
        },
        {
          "output_type": "display_data",
          "data": {
            "application/javascript": [
              "window[\"7aed47b2-d15e-11e9-8d65-0242ac1c0002\"] = window[\"744a96a8-d15e-11e9-8d65-0242ac1c0002\"].getAttribute(\"position\");\n",
              "//# sourceURL=js_98432c011c"
            ],
            "text/plain": [
              "<IPython.core.display.Javascript object>"
            ]
          },
          "metadata": {
            "tags": []
          }
        },
        {
          "output_type": "display_data",
          "data": {
            "application/javascript": [
              "window[\"7aed9d5c-d15e-11e9-8d65-0242ac1c0002\"] = window[\"7aed47b2-d15e-11e9-8d65-0242ac1c0002\"].copyArray([-0.9646749496459961, -0.9396114349365234, -1.001710057258606, 1.0352771282196045, -0.979066789150238, -0.9982458353042603, 1.0746763944625854, 1.0206658840179443, -0.9683487415313721, -0.9252756237983704, 1.0601214170455933, -0.9718129634857178, -0.9687279462814331, -0.969434380531311, 0.9984078407287598, 1.031224012374878, -1.0088897943496704, 1.0018720626831055, 1.0706233978271484, 0.9908429384231567, 1.0317691564559937, -0.9293286800384521, 1.0302983522415161, 1.028304934501648]);\n",
              "//# sourceURL=js_124500258a"
            ],
            "text/plain": [
              "<IPython.core.display.Javascript object>"
            ]
          },
          "metadata": {
            "tags": []
          }
        },
        {
          "output_type": "display_data",
          "data": {
            "application/javascript": [
              "window[\"7aee0800-d15e-11e9-8d65-0242ac1c0002\"] = window[\"744a96a8-d15e-11e9-8d65-0242ac1c0002\"].getAttribute(\"position\");\n",
              "//# sourceURL=js_c8e1f4b3c2"
            ],
            "text/plain": [
              "<IPython.core.display.Javascript object>"
            ]
          },
          "metadata": {
            "tags": []
          }
        },
        {
          "output_type": "display_data",
          "data": {
            "application/javascript": [
              "window[\"7aee0800-d15e-11e9-8d65-0242ac1c0002\"].needsUpdate = true;\n",
              "//# sourceURL=js_a8ebc280a8"
            ],
            "text/plain": [
              "<IPython.core.display.Javascript object>"
            ]
          },
          "metadata": {
            "tags": []
          }
        },
        {
          "output_type": "display_data",
          "data": {
            "application/javascript": [
              "window[\"7b02841a-d15e-11e9-8d65-0242ac1c0002\"] = window[\"744a96a8-d15e-11e9-8d65-0242ac1c0002\"].getAttribute(\"position\");\n",
              "//# sourceURL=js_b6436e774c"
            ],
            "text/plain": [
              "<IPython.core.display.Javascript object>"
            ]
          },
          "metadata": {
            "tags": []
          }
        },
        {
          "output_type": "display_data",
          "data": {
            "application/javascript": [
              "window[\"7b02d01e-d15e-11e9-8d65-0242ac1c0002\"] = window[\"7b02841a-d15e-11e9-8d65-0242ac1c0002\"].copyArray([-0.9677602052688599, -0.9546687006950378, -1.0056025981903076, 1.04544198513031, -0.9875902533531189, -1.0011967420578003, 1.0783131122589111, 1.0254958868026733, -0.9790581464767456, -0.9348890781402588, 1.0584173202514648, -0.9834639430046082, -0.972527265548706, -0.9767324328422546, 1.0077470541000366, 1.0406749248504639, -1.0096538066864014, 1.012152910232544, 1.073546051979065, 1.0034321546554565, 1.0342915058135986, -0.9396560192108154, 1.0363537073135376, 1.0298856496810913]);\n",
              "//# sourceURL=js_8a611d2427"
            ],
            "text/plain": [
              "<IPython.core.display.Javascript object>"
            ]
          },
          "metadata": {
            "tags": []
          }
        },
        {
          "output_type": "display_data",
          "data": {
            "application/javascript": [
              "window[\"7b03253c-d15e-11e9-8d65-0242ac1c0002\"] = window[\"744a96a8-d15e-11e9-8d65-0242ac1c0002\"].getAttribute(\"position\");\n",
              "//# sourceURL=js_f2cfad47c8"
            ],
            "text/plain": [
              "<IPython.core.display.Javascript object>"
            ]
          },
          "metadata": {
            "tags": []
          }
        },
        {
          "output_type": "display_data",
          "data": {
            "application/javascript": [
              "window[\"7b03253c-d15e-11e9-8d65-0242ac1c0002\"].needsUpdate = true;\n",
              "//# sourceURL=js_2fedbfc80b"
            ],
            "text/plain": [
              "<IPython.core.display.Javascript object>"
            ]
          },
          "metadata": {
            "tags": []
          }
        },
        {
          "output_type": "display_data",
          "data": {
            "application/javascript": [
              "window[\"7b177ad2-d15e-11e9-8d65-0242ac1c0002\"] = window[\"744a96a8-d15e-11e9-8d65-0242ac1c0002\"].getAttribute(\"position\");\n",
              "//# sourceURL=js_38ab50d25e"
            ],
            "text/plain": [
              "<IPython.core.display.Javascript object>"
            ]
          },
          "metadata": {
            "tags": []
          }
        },
        {
          "output_type": "display_data",
          "data": {
            "application/javascript": [
              "window[\"7b17ce88-d15e-11e9-8d65-0242ac1c0002\"] = window[\"7b177ad2-d15e-11e9-8d65-0242ac1c0002\"].copyArray([-0.9709446430206299, -0.9691824316978455, -1.0076442956924438, 1.0534355640411377, -0.9950767159461975, -1.0044716596603394, 1.0793068408966064, 1.0292558670043945, -0.9901663064956665, -0.9450734853744507, 1.055150032043457, -0.993338942527771, -0.9742999076843262, -0.9834460616111755, 1.0168510675430298, 1.0500802993774414, -1.0093402862548828, 1.0200237035751343, 1.0759515762329102, 1.0149922370910645, 1.0343290567398071, -0.9484286308288574, 1.0408865213394165, 1.0311564207077026]);\n",
              "//# sourceURL=js_9ae831434a"
            ],
            "text/plain": [
              "<IPython.core.display.Javascript object>"
            ]
          },
          "metadata": {
            "tags": []
          }
        },
        {
          "output_type": "display_data",
          "data": {
            "application/javascript": [
              "window[\"7b18480e-d15e-11e9-8d65-0242ac1c0002\"] = window[\"744a96a8-d15e-11e9-8d65-0242ac1c0002\"].getAttribute(\"position\");\n",
              "//# sourceURL=js_d3b2b0feb6"
            ],
            "text/plain": [
              "<IPython.core.display.Javascript object>"
            ]
          },
          "metadata": {
            "tags": []
          }
        },
        {
          "output_type": "display_data",
          "data": {
            "application/javascript": [
              "window[\"7b18480e-d15e-11e9-8d65-0242ac1c0002\"].needsUpdate = true;\n",
              "//# sourceURL=js_200d0fd25d"
            ],
            "text/plain": [
              "<IPython.core.display.Javascript object>"
            ]
          },
          "metadata": {
            "tags": []
          }
        },
        {
          "output_type": "display_data",
          "data": {
            "application/javascript": [
              "window[\"7b2ca920-d15e-11e9-8d65-0242ac1c0002\"] = window[\"744a96a8-d15e-11e9-8d65-0242ac1c0002\"].getAttribute(\"position\");\n",
              "//# sourceURL=js_bc87adcea4"
            ],
            "text/plain": [
              "<IPython.core.display.Javascript object>"
            ]
          },
          "metadata": {
            "tags": []
          }
        },
        {
          "output_type": "display_data",
          "data": {
            "application/javascript": [
              "window[\"7b2cf380-d15e-11e9-8d65-0242ac1c0002\"] = window[\"7b2ca920-d15e-11e9-8d65-0242ac1c0002\"].copyArray([-0.9736529588699341, -0.9825649261474609, -1.0080293416976929, 1.0592694282531738, -1.0012154579162598, -1.0074944496154785, 1.0779181718826294, 1.031696081161499, -1.0008132457733154, -0.955004096031189, 1.0503466129302979, -1.0013481378555298, -0.9742487668991089, -0.9892408847808838, 1.0249676704406738, 1.0586735010147095, -1.0078914165496826, 1.0255025625228882, 1.0773223638534546, 1.0250201225280762, 1.0321837663650513, -0.9556000232696533, 1.043670654296875, 1.031648874282837]);\n",
              "//# sourceURL=js_5aade9fd39"
            ],
            "text/plain": [
              "<IPython.core.display.Javascript object>"
            ]
          },
          "metadata": {
            "tags": []
          }
        },
        {
          "output_type": "display_data",
          "data": {
            "application/javascript": [
              "window[\"7b2d64aa-d15e-11e9-8d65-0242ac1c0002\"] = window[\"744a96a8-d15e-11e9-8d65-0242ac1c0002\"].getAttribute(\"position\");\n",
              "//# sourceURL=js_2c9790cb96"
            ],
            "text/plain": [
              "<IPython.core.display.Javascript object>"
            ]
          },
          "metadata": {
            "tags": []
          }
        },
        {
          "output_type": "display_data",
          "data": {
            "application/javascript": [
              "window[\"7b2d64aa-d15e-11e9-8d65-0242ac1c0002\"].needsUpdate = true;\n",
              "//# sourceURL=js_14d0d6b01a"
            ],
            "text/plain": [
              "<IPython.core.display.Javascript object>"
            ]
          },
          "metadata": {
            "tags": []
          }
        },
        {
          "output_type": "display_data",
          "data": {
            "application/javascript": [
              "window[\"7b41aec4-d15e-11e9-8d65-0242ac1c0002\"] = window[\"744a96a8-d15e-11e9-8d65-0242ac1c0002\"].getAttribute(\"position\");\n",
              "//# sourceURL=js_7fd9060e77"
            ],
            "text/plain": [
              "<IPython.core.display.Javascript object>"
            ]
          },
          "metadata": {
            "tags": []
          }
        },
        {
          "output_type": "display_data",
          "data": {
            "application/javascript": [
              "window[\"7b41f97e-d15e-11e9-8d65-0242ac1c0002\"] = window[\"7b41aec4-d15e-11e9-8d65-0242ac1c0002\"].copyArray([-0.9751266241073608, -0.9943516850471497, -1.0073375701904297, 1.0633506774902344, -1.005806565284729, -1.009486436843872, 1.0748050212860107, 1.0326719284057617, -1.0099610090255737, -0.9636722803115845, 1.0441267490386963, -1.0078121423721313, -0.972975492477417, -0.9938892722129822, 1.0311719179153442, 1.0655018091201782, -1.0053441524505615, 1.0290230512619019, 1.0769561529159546, 1.0331343412399292, 1.0285484790802002, -0.9615211486816406, 1.0445891618728638, 1.0306973457336426]);\n",
              "//# sourceURL=js_4723176b79"
            ],
            "text/plain": [
              "<IPython.core.display.Javascript object>"
            ]
          },
          "metadata": {
            "tags": []
          }
        },
        {
          "output_type": "display_data",
          "data": {
            "application/javascript": [
              "window[\"7b4266c0-d15e-11e9-8d65-0242ac1c0002\"] = window[\"744a96a8-d15e-11e9-8d65-0242ac1c0002\"].getAttribute(\"position\");\n",
              "//# sourceURL=js_e0a36ae20e"
            ],
            "text/plain": [
              "<IPython.core.display.Javascript object>"
            ]
          },
          "metadata": {
            "tags": []
          }
        },
        {
          "output_type": "display_data",
          "data": {
            "application/javascript": [
              "window[\"7b4266c0-d15e-11e9-8d65-0242ac1c0002\"].needsUpdate = true;\n",
              "//# sourceURL=js_7c1a79215b"
            ],
            "text/plain": [
              "<IPython.core.display.Javascript object>"
            ]
          },
          "metadata": {
            "tags": []
          }
        },
        {
          "output_type": "display_data",
          "data": {
            "application/javascript": [
              "window[\"7b56ab76-d15e-11e9-8d65-0242ac1c0002\"] = window[\"744a96a8-d15e-11e9-8d65-0242ac1c0002\"].getAttribute(\"position\");\n",
              "//# sourceURL=js_1e71afb0ac"
            ],
            "text/plain": [
              "<IPython.core.display.Javascript object>"
            ]
          },
          "metadata": {
            "tags": []
          }
        },
        {
          "output_type": "display_data",
          "data": {
            "application/javascript": [
              "window[\"7b56f928-d15e-11e9-8d65-0242ac1c0002\"] = window[\"7b56ab76-d15e-11e9-8d65-0242ac1c0002\"].copyArray([-0.9747685194015503, -1.0042179822921753, -1.0061991214752197, 1.0661561489105225, -1.0087627172470093, -1.0098050832748413, 1.0706886053085327, 1.0321534872055054, -1.0167505741119385, -0.9702361822128296, 1.0366981029510498, -1.0131447315216064, -0.9711471796035767, -0.997280478477478, 1.0347187519073486, 1.0697776079177856, -1.0018250942230225, 1.0311129093170166, 1.0743099451065063, 1.0390909910202026, 1.0241672992706299, -0.9666147232055664, 1.0436357259750366, 1.0277732610702515]);\n",
              "//# sourceURL=js_309ef65306"
            ],
            "text/plain": [
              "<IPython.core.display.Javascript object>"
            ]
          },
          "metadata": {
            "tags": []
          }
        },
        {
          "output_type": "display_data",
          "data": {
            "application/javascript": [
              "window[\"7b5751a2-d15e-11e9-8d65-0242ac1c0002\"] = window[\"744a96a8-d15e-11e9-8d65-0242ac1c0002\"].getAttribute(\"position\");\n",
              "//# sourceURL=js_ef9d815e7e"
            ],
            "text/plain": [
              "<IPython.core.display.Javascript object>"
            ]
          },
          "metadata": {
            "tags": []
          }
        },
        {
          "output_type": "display_data",
          "data": {
            "application/javascript": [
              "window[\"7b5751a2-d15e-11e9-8d65-0242ac1c0002\"].needsUpdate = true;\n",
              "//# sourceURL=js_2649323e90"
            ],
            "text/plain": [
              "<IPython.core.display.Javascript object>"
            ]
          },
          "metadata": {
            "tags": []
          }
        },
        {
          "output_type": "display_data",
          "data": {
            "application/javascript": [
              "window[\"7b6bbb10-d15e-11e9-8d65-0242ac1c0002\"] = window[\"744a96a8-d15e-11e9-8d65-0242ac1c0002\"].getAttribute(\"position\");\n",
              "//# sourceURL=js_937ac18c4a"
            ],
            "text/plain": [
              "<IPython.core.display.Javascript object>"
            ]
          },
          "metadata": {
            "tags": []
          }
        },
        {
          "output_type": "display_data",
          "data": {
            "application/javascript": [
              "window[\"7b6c0994-d15e-11e9-8d65-0242ac1c0002\"] = window[\"7b6bbb10-d15e-11e9-8d65-0242ac1c0002\"].copyArray([-0.9724271297454834, -1.0119839906692505, -1.004988431930542, 1.0679402351379395, -1.0101099014282227, -1.0082381963729858, 1.0660459995269775, 1.0302212238311768, -1.0208020210266113, -0.9743212461471558, 1.0283472537994385, -1.017552137374878, -0.9691886901855469, -0.9994173049926758, 1.0353412628173828, 1.0711785554885864, -0.9975433349609375, 1.0320913791656494, 1.069284439086914, 1.0427879095077515, 1.0195276737213135, -0.9710829257965088, 1.0409138202667236, 1.0227774381637573]);\n",
              "//# sourceURL=js_682aeff08d"
            ],
            "text/plain": [
              "<IPython.core.display.Javascript object>"
            ]
          },
          "metadata": {
            "tags": []
          }
        },
        {
          "output_type": "display_data",
          "data": {
            "application/javascript": [
              "window[\"7b6c76ae-d15e-11e9-8d65-0242ac1c0002\"] = window[\"744a96a8-d15e-11e9-8d65-0242ac1c0002\"].getAttribute(\"position\");\n",
              "//# sourceURL=js_65acc4a6cf"
            ],
            "text/plain": [
              "<IPython.core.display.Javascript object>"
            ]
          },
          "metadata": {
            "tags": []
          }
        },
        {
          "output_type": "display_data",
          "data": {
            "application/javascript": [
              "window[\"7b6c76ae-d15e-11e9-8d65-0242ac1c0002\"].needsUpdate = true;\n",
              "//# sourceURL=js_d5926e14b2"
            ],
            "text/plain": [
              "<IPython.core.display.Javascript object>"
            ]
          },
          "metadata": {
            "tags": []
          }
        },
        {
          "output_type": "display_data",
          "data": {
            "application/javascript": [
              "window[\"7b80d2ca-d15e-11e9-8d65-0242ac1c0002\"] = window[\"744a96a8-d15e-11e9-8d65-0242ac1c0002\"].getAttribute(\"position\");\n",
              "//# sourceURL=js_f56132561b"
            ],
            "text/plain": [
              "<IPython.core.display.Javascript object>"
            ]
          },
          "metadata": {
            "tags": []
          }
        },
        {
          "output_type": "display_data",
          "data": {
            "application/javascript": [
              "window[\"7b8127de-d15e-11e9-8d65-0242ac1c0002\"] = window[\"7b80d2ca-d15e-11e9-8d65-0242ac1c0002\"].copyArray([-0.9684933423995972, -1.0176138877868652, -1.0036983489990234, 1.0686140060424805, -1.0099860429763794, -1.0051088333129883, 1.060974359512329, 1.02704918384552, -1.02231764793396, -0.9761329889297485, 1.0194213390350342, -1.0209071636199951, -0.9671473503112793, -1.000400185585022, 1.0333507061004639, 1.0699599981307983, -0.9927724003791809, 1.031940221786499, 1.062320351600647, 1.0442628860473633, 1.0147314071655273, -0.9747869968414307, 1.0366350412368774, 1.0161418914794922]);\n",
              "//# sourceURL=js_93110c4726"
            ],
            "text/plain": [
              "<IPython.core.display.Javascript object>"
            ]
          },
          "metadata": {
            "tags": []
          }
        },
        {
          "output_type": "display_data",
          "data": {
            "application/javascript": [
              "window[\"7b81a3d0-d15e-11e9-8d65-0242ac1c0002\"] = window[\"744a96a8-d15e-11e9-8d65-0242ac1c0002\"].getAttribute(\"position\");\n",
              "//# sourceURL=js_2d2b01b0b7"
            ],
            "text/plain": [
              "<IPython.core.display.Javascript object>"
            ]
          },
          "metadata": {
            "tags": []
          }
        },
        {
          "output_type": "display_data",
          "data": {
            "application/javascript": [
              "window[\"7b81a3d0-d15e-11e9-8d65-0242ac1c0002\"].needsUpdate = true;\n",
              "//# sourceURL=js_32bf41cadd"
            ],
            "text/plain": [
              "<IPython.core.display.Javascript object>"
            ]
          },
          "metadata": {
            "tags": []
          }
        },
        {
          "output_type": "display_data",
          "data": {
            "application/javascript": [
              "window[\"7b96454c-d15e-11e9-8d65-0242ac1c0002\"] = window[\"744a96a8-d15e-11e9-8d65-0242ac1c0002\"].getAttribute(\"position\");\n",
              "//# sourceURL=js_1ec5e302a1"
            ],
            "text/plain": [
              "<IPython.core.display.Javascript object>"
            ]
          },
          "metadata": {
            "tags": []
          }
        },
        {
          "output_type": "display_data",
          "data": {
            "application/javascript": [
              "window[\"7b969858-d15e-11e9-8d65-0242ac1c0002\"] = window[\"7b96454c-d15e-11e9-8d65-0242ac1c0002\"].copyArray([-0.9637590646743774, -1.02120041847229, -1.0020424127578735, 1.0678504705429077, -1.008623719215393, -1.0011446475982666, 1.0552839040756226, 1.0228794813156128, -1.0219483375549316, -0.9763257503509521, 1.010303020477295, -1.0228461027145386, -0.9647856950759888, -1.000402569770813, 1.0294995307922363, 1.066823959350586, -0.9878261089324951, 1.0303972959518433, 1.0542572736740112, 1.0436773300170898, 1.0095936059951782, -0.9773522615432739, 1.0311006307601929, 1.0086958408355713]);\n",
              "//# sourceURL=js_c725084004"
            ],
            "text/plain": [
              "<IPython.core.display.Javascript object>"
            ]
          },
          "metadata": {
            "tags": []
          }
        },
        {
          "output_type": "display_data",
          "data": {
            "application/javascript": [
              "window[\"7b96fda2-d15e-11e9-8d65-0242ac1c0002\"] = window[\"744a96a8-d15e-11e9-8d65-0242ac1c0002\"].getAttribute(\"position\");\n",
              "//# sourceURL=js_848ba1bd95"
            ],
            "text/plain": [
              "<IPython.core.display.Javascript object>"
            ]
          },
          "metadata": {
            "tags": []
          }
        },
        {
          "output_type": "display_data",
          "data": {
            "application/javascript": [
              "window[\"7b96fda2-d15e-11e9-8d65-0242ac1c0002\"].needsUpdate = true;\n",
              "//# sourceURL=js_20af7babd7"
            ],
            "text/plain": [
              "<IPython.core.display.Javascript object>"
            ]
          },
          "metadata": {
            "tags": []
          }
        },
        {
          "output_type": "display_data",
          "data": {
            "application/javascript": [
              "window[\"7bab62f6-d15e-11e9-8d65-0242ac1c0002\"] = window[\"744a96a8-d15e-11e9-8d65-0242ac1c0002\"].getAttribute(\"position\");\n",
              "//# sourceURL=js_75cf1f1e58"
            ],
            "text/plain": [
              "<IPython.core.display.Javascript object>"
            ]
          },
          "metadata": {
            "tags": []
          }
        },
        {
          "output_type": "display_data",
          "data": {
            "application/javascript": [
              "window[\"7babb440-d15e-11e9-8d65-0242ac1c0002\"] = window[\"7bab62f6-d15e-11e9-8d65-0242ac1c0002\"].copyArray([-0.9591199159622192, -1.0229411125183105, -0.9997062087059021, 1.0653365850448608, -1.0063234567642212, -0.9971840977668762, 1.0487490892410278, 1.018000602722168, -1.0204975605010986, -0.9757072925567627, 1.0013830661773682, -1.023019552230835, -0.9618328809738159, -0.9996492862701416, 1.024684190750122, 1.0626235008239746, -0.983031690120697, 1.0272061824798584, 1.0460361242294312, 1.041292428970337, 1.0038928985595703, -0.9784203767776489, 1.0246747732162476, 1.0013707876205444]);\n",
              "//# sourceURL=js_8b24f1db35"
            ],
            "text/plain": [
              "<IPython.core.display.Javascript object>"
            ]
          },
          "metadata": {
            "tags": []
          }
        },
        {
          "output_type": "display_data",
          "data": {
            "application/javascript": [
              "window[\"7bac0832-d15e-11e9-8d65-0242ac1c0002\"] = window[\"744a96a8-d15e-11e9-8d65-0242ac1c0002\"].getAttribute(\"position\");\n",
              "//# sourceURL=js_de6b3065a6"
            ],
            "text/plain": [
              "<IPython.core.display.Javascript object>"
            ]
          },
          "metadata": {
            "tags": []
          }
        },
        {
          "output_type": "display_data",
          "data": {
            "application/javascript": [
              "window[\"7bac0832-d15e-11e9-8d65-0242ac1c0002\"].needsUpdate = true;\n",
              "//# sourceURL=js_072bce734c"
            ],
            "text/plain": [
              "<IPython.core.display.Javascript object>"
            ]
          },
          "metadata": {
            "tags": []
          }
        },
        {
          "output_type": "display_data",
          "data": {
            "application/javascript": [
              "window[\"7bc0493c-d15e-11e9-8d65-0242ac1c0002\"] = window[\"744a96a8-d15e-11e9-8d65-0242ac1c0002\"].getAttribute(\"position\");\n",
              "//# sourceURL=js_00d291b57b"
            ],
            "text/plain": [
              "<IPython.core.display.Javascript object>"
            ]
          },
          "metadata": {
            "tags": []
          }
        },
        {
          "output_type": "display_data",
          "data": {
            "application/javascript": [
              "window[\"7bc095b8-d15e-11e9-8d65-0242ac1c0002\"] = window[\"7bc0493c-d15e-11e9-8d65-0242ac1c0002\"].copyArray([-0.9552665948867798, -1.0231127738952637, -0.9966058731079102, 1.0610285997390747, -1.0034210681915283, -0.9938657283782959, 1.041372299194336, 1.0127242803573608, -1.0186117887496948, -0.9749229550361633, 0.9930328726768494, -1.021351933479309, -0.9582481980323792, -0.9983943700790405, 1.0196336507797241, 1.0580470561981201, -0.978702962398529, 1.0223737955093384, 1.0383906364440918, 1.037442684173584, 0.9976277351379395, -0.9779044985771179, 1.0177509784698486, 0.9948875904083252]);\n",
              "//# sourceURL=js_55d257b271"
            ],
            "text/plain": [
              "<IPython.core.display.Javascript object>"
            ]
          },
          "metadata": {
            "tags": []
          }
        },
        {
          "output_type": "display_data",
          "data": {
            "application/javascript": [
              "window[\"7bc0de4c-d15e-11e9-8d65-0242ac1c0002\"] = window[\"744a96a8-d15e-11e9-8d65-0242ac1c0002\"].getAttribute(\"position\");\n",
              "//# sourceURL=js_c07b35652d"
            ],
            "text/plain": [
              "<IPython.core.display.Javascript object>"
            ]
          },
          "metadata": {
            "tags": []
          }
        },
        {
          "output_type": "display_data",
          "data": {
            "application/javascript": [
              "window[\"7bc0de4c-d15e-11e9-8d65-0242ac1c0002\"].needsUpdate = true;\n",
              "//# sourceURL=js_79293ef687"
            ],
            "text/plain": [
              "<IPython.core.display.Javascript object>"
            ]
          },
          "metadata": {
            "tags": []
          }
        },
        {
          "output_type": "display_data",
          "data": {
            "application/javascript": [
              "window[\"7bd5b7b8-d15e-11e9-8d65-0242ac1c0002\"] = window[\"744a96a8-d15e-11e9-8d65-0242ac1c0002\"].getAttribute(\"position\");\n",
              "//# sourceURL=js_2f49309b8d"
            ],
            "text/plain": [
              "<IPython.core.display.Javascript object>"
            ]
          },
          "metadata": {
            "tags": []
          }
        },
        {
          "output_type": "display_data",
          "data": {
            "application/javascript": [
              "window[\"7bd60c22-d15e-11e9-8d65-0242ac1c0002\"] = window[\"7bd5b7b8-d15e-11e9-8d65-0242ac1c0002\"].copyArray([-0.9525056481361389, -1.0220407247543335, -0.993019700050354, 1.0552780628204346, -1.0002555847167969, -0.9914461374282837, 1.033514142036438, 1.007371187210083, -1.0165982246398926, -0.974269449710846, 0.9855860471725464, -1.018171787261963, -0.9543518424034119, -0.9969072937965393, 1.0147244930267334, 1.053431749343872, -0.9751222133636475, 1.0162980556488037, 1.031667947769165, 1.032504677772522, 0.9911460876464844, -0.9761157631874084, 1.0107195377349854, 0.9895725250244141]);\n",
              "//# sourceURL=js_e8531642f7"
            ],
            "text/plain": [
              "<IPython.core.display.Javascript object>"
            ]
          },
          "metadata": {
            "tags": []
          }
        },
        {
          "output_type": "display_data",
          "data": {
            "application/javascript": [
              "window[\"7bd6542a-d15e-11e9-8d65-0242ac1c0002\"] = window[\"744a96a8-d15e-11e9-8d65-0242ac1c0002\"].getAttribute(\"position\");\n",
              "//# sourceURL=js_c6db7a5a77"
            ],
            "text/plain": [
              "<IPython.core.display.Javascript object>"
            ]
          },
          "metadata": {
            "tags": []
          }
        },
        {
          "output_type": "display_data",
          "data": {
            "application/javascript": [
              "window[\"7bd6542a-d15e-11e9-8d65-0242ac1c0002\"].needsUpdate = true;\n",
              "//# sourceURL=js_201eaa9731"
            ],
            "text/plain": [
              "<IPython.core.display.Javascript object>"
            ]
          },
          "metadata": {
            "tags": []
          }
        },
        {
          "output_type": "display_data",
          "data": {
            "application/javascript": [
              "window[\"7bea3b20-d15e-11e9-8d65-0242ac1c0002\"] = window[\"744a96a8-d15e-11e9-8d65-0242ac1c0002\"].getAttribute(\"position\");\n",
              "//# sourceURL=js_450a3554b9"
            ],
            "text/plain": [
              "<IPython.core.display.Javascript object>"
            ]
          },
          "metadata": {
            "tags": []
          }
        },
        {
          "output_type": "display_data",
          "data": {
            "application/javascript": [
              "window[\"7bea8c4c-d15e-11e9-8d65-0242ac1c0002\"] = window[\"7bea3b20-d15e-11e9-8d65-0242ac1c0002\"].copyArray([-0.9507761001586914, -1.02006995677948, -0.9895265698432922, 1.0487655401229858, -0.9971430897712708, -0.9898176193237305, 1.02583646774292, 1.0022468566894531, -1.0144374370574951, -0.973704993724823, 0.97931969165802, -1.014146327972412, -0.9507673382759094, -0.9954487085342407, 1.0099947452545166, 1.0487741231918335, -0.9725215435028076, 1.0097036361694336, 1.0258451700210571, 1.026868224143982, 0.9850837588310242, -0.9736964106559753, 1.003941297531128, 0.9853748083114624]);\n",
              "//# sourceURL=js_f9a59e2816"
            ],
            "text/plain": [
              "<IPython.core.display.Javascript object>"
            ]
          },
          "metadata": {
            "tags": []
          }
        },
        {
          "output_type": "display_data",
          "data": {
            "application/javascript": [
              "window[\"7bead0e4-d15e-11e9-8d65-0242ac1c0002\"] = window[\"744a96a8-d15e-11e9-8d65-0242ac1c0002\"].getAttribute(\"position\");\n",
              "//# sourceURL=js_59621d486c"
            ],
            "text/plain": [
              "<IPython.core.display.Javascript object>"
            ]
          },
          "metadata": {
            "tags": []
          }
        },
        {
          "output_type": "display_data",
          "data": {
            "application/javascript": [
              "window[\"7bead0e4-d15e-11e9-8d65-0242ac1c0002\"].needsUpdate = true;\n",
              "//# sourceURL=js_378bd3c610"
            ],
            "text/plain": [
              "<IPython.core.display.Javascript object>"
            ]
          },
          "metadata": {
            "tags": []
          }
        },
        {
          "output_type": "display_data",
          "data": {
            "application/javascript": [
              "window[\"7bfeecd2-d15e-11e9-8d65-0242ac1c0002\"] = window[\"744a96a8-d15e-11e9-8d65-0242ac1c0002\"].getAttribute(\"position\");\n",
              "//# sourceURL=js_ddf4386d75"
            ],
            "text/plain": [
              "<IPython.core.display.Javascript object>"
            ]
          },
          "metadata": {
            "tags": []
          }
        },
        {
          "output_type": "display_data",
          "data": {
            "application/javascript": [
              "window[\"7bff3494-d15e-11e9-8d65-0242ac1c0002\"] = window[\"7bfeecd2-d15e-11e9-8d65-0242ac1c0002\"].copyArray([-0.9498263597488403, -1.0175361633300781, -0.9867986440658569, 1.0422863960266113, -0.9943569898605347, -0.9886893630027771, 1.0190868377685547, 0.9976204633712769, -1.0119556188583374, -0.9730258584022522, 0.974441409111023, -1.010064959526062, -0.9482065439224243, -0.9942493438720703, 1.0053130388259888, 1.0439062118530273, -0.9710702896118164, 1.0034223794937134, 1.0207066535949707, 1.0209071636199951, 0.9801560640335083, -0.9714060425758362, 0.9977281093597412, 0.9820467829704285]);\n",
              "//# sourceURL=js_23067bbb2d"
            ],
            "text/plain": [
              "<IPython.core.display.Javascript object>"
            ]
          },
          "metadata": {
            "tags": []
          }
        },
        {
          "output_type": "display_data",
          "data": {
            "application/javascript": [
              "window[\"7bff77ce-d15e-11e9-8d65-0242ac1c0002\"] = window[\"744a96a8-d15e-11e9-8d65-0242ac1c0002\"].getAttribute(\"position\");\n",
              "//# sourceURL=js_f97417b6e2"
            ],
            "text/plain": [
              "<IPython.core.display.Javascript object>"
            ]
          },
          "metadata": {
            "tags": []
          }
        },
        {
          "output_type": "display_data",
          "data": {
            "application/javascript": [
              "window[\"7bff77ce-d15e-11e9-8d65-0242ac1c0002\"].needsUpdate = true;\n",
              "//# sourceURL=js_203160b8d9"
            ],
            "text/plain": [
              "<IPython.core.display.Javascript object>"
            ]
          },
          "metadata": {
            "tags": []
          }
        },
        {
          "output_type": "display_data",
          "data": {
            "application/javascript": [
              "window[\"7c135c6c-d15e-11e9-8d65-0242ac1c0002\"] = window[\"744a96a8-d15e-11e9-8d65-0242ac1c0002\"].getAttribute(\"position\");\n",
              "//# sourceURL=js_d98ef110dc"
            ],
            "text/plain": [
              "<IPython.core.display.Javascript object>"
            ]
          },
          "metadata": {
            "tags": []
          }
        },
        {
          "output_type": "display_data",
          "data": {
            "application/javascript": [
              "window[\"7c13ac4e-d15e-11e9-8d65-0242ac1c0002\"] = window[\"7c135c6c-d15e-11e9-8d65-0242ac1c0002\"].copyArray([-0.9494459629058838, -1.0147428512573242, -0.9853475093841553, 1.0364904403686523, -0.9921185970306396, -0.9878239035606384, 1.013840913772583, 0.9937058091163635, -1.0090479850769043, -0.9720955491065979, 0.9710814356803894, -1.006571888923645, -0.9472116827964783, -0.9934917092323303, 1.0006043910980225, 1.0387248992919922, -0.9708673357963562, 0.9981282353401184, 1.0160752534866333, 1.0149569511413574, 0.9769037961959839, -0.9698610901832581, 0.9923326969146729, 0.979380190372467]);\n",
              "//# sourceURL=js_e15505a95c"
            ],
            "text/plain": [
              "<IPython.core.display.Javascript object>"
            ]
          },
          "metadata": {
            "tags": []
          }
        },
        {
          "output_type": "display_data",
          "data": {
            "application/javascript": [
              "window[\"7c13f820-d15e-11e9-8d65-0242ac1c0002\"] = window[\"744a96a8-d15e-11e9-8d65-0242ac1c0002\"].getAttribute(\"position\");\n",
              "//# sourceURL=js_352e53aac1"
            ],
            "text/plain": [
              "<IPython.core.display.Javascript object>"
            ]
          },
          "metadata": {
            "tags": []
          }
        },
        {
          "output_type": "display_data",
          "data": {
            "application/javascript": [
              "window[\"7c13f820-d15e-11e9-8d65-0242ac1c0002\"].needsUpdate = true;\n",
              "//# sourceURL=js_424e237dc0"
            ],
            "text/plain": [
              "<IPython.core.display.Javascript object>"
            ]
          },
          "metadata": {
            "tags": []
          }
        },
        {
          "output_type": "display_data",
          "data": {
            "application/javascript": [
              "window[\"7c27f3f2-d15e-11e9-8d65-0242ac1c0002\"] = window[\"744a96a8-d15e-11e9-8d65-0242ac1c0002\"].getAttribute(\"position\");\n",
              "//# sourceURL=js_ba1cf6bb02"
            ],
            "text/plain": [
              "<IPython.core.display.Javascript object>"
            ]
          },
          "metadata": {
            "tags": []
          }
        },
        {
          "output_type": "display_data",
          "data": {
            "application/javascript": [
              "window[\"7c284712-d15e-11e9-8d65-0242ac1c0002\"] = window[\"7c27f3f2-d15e-11e9-8d65-0242ac1c0002\"].copyArray([-0.9496279954910278, -1.0119495391845703, -0.9853482842445374, 1.0316981077194214, -0.9905897378921509, -0.9872025847434998, 1.0103217363357544, 0.9906495213508606, -1.005835771560669, -0.97100430727005, 0.9692896008491516, -1.0039814710617065, -0.947974681854248, -0.9932975172996521, 0.9960053563117981, 1.0333513021469116, -0.9719375967979431, 0.9941511154174805, 1.0119750499725342, 1.0093014240264893, 0.9755179286003113, -0.9693511128425598, 0.9879417419433594, 0.9773722290992737]);\n",
              "//# sourceURL=js_f6a2fb5e38"
            ],
            "text/plain": [
              "<IPython.core.display.Javascript object>"
            ]
          },
          "metadata": {
            "tags": []
          }
        },
        {
          "output_type": "display_data",
          "data": {
            "application/javascript": [
              "window[\"7c2887e0-d15e-11e9-8d65-0242ac1c0002\"] = window[\"744a96a8-d15e-11e9-8d65-0242ac1c0002\"].getAttribute(\"position\");\n",
              "//# sourceURL=js_7aeced171e"
            ],
            "text/plain": [
              "<IPython.core.display.Javascript object>"
            ]
          },
          "metadata": {
            "tags": []
          }
        },
        {
          "output_type": "display_data",
          "data": {
            "application/javascript": [
              "window[\"7c2887e0-d15e-11e9-8d65-0242ac1c0002\"].needsUpdate = true;\n",
              "//# sourceURL=js_dae17c99b0"
            ],
            "text/plain": [
              "<IPython.core.display.Javascript object>"
            ]
          },
          "metadata": {
            "tags": []
          }
        },
        {
          "output_type": "display_data",
          "data": {
            "application/javascript": [
              "window[\"7c3d301e-d15e-11e9-8d65-0242ac1c0002\"] = window[\"744a96a8-d15e-11e9-8d65-0242ac1c0002\"].getAttribute(\"position\");\n",
              "//# sourceURL=js_376cd714b5"
            ],
            "text/plain": [
              "<IPython.core.display.Javascript object>"
            ]
          },
          "metadata": {
            "tags": []
          }
        },
        {
          "output_type": "display_data",
          "data": {
            "application/javascript": [
              "window[\"7c3d7d94-d15e-11e9-8d65-0242ac1c0002\"] = window[\"7c3d301e-d15e-11e9-8d65-0242ac1c0002\"].copyArray([-0.9505895376205444, -1.0093600749969482, -0.9866140484809875, 1.0278682708740234, -0.9898684024810791, -0.9870458245277405, 1.0083738565444946, 0.9885275959968567, -1.0026779174804688, -0.9700839519500732, 0.9690360426902771, -1.0022461414337158, -0.9503117799758911, -0.9937244057655334, 0.9918779730796814, 1.0281460285186768, -0.9742328524589539, 0.9914461374282837, 1.008651614189148, 1.0041632652282715, 0.9758140444755554, -0.9698061943054199, 0.9846715927124023, 0.9762458205223083]);\n",
              "//# sourceURL=js_7b475288a0"
            ],
            "text/plain": [
              "<IPython.core.display.Javascript object>"
            ]
          },
          "metadata": {
            "tags": []
          }
        },
        {
          "output_type": "display_data",
          "data": {
            "application/javascript": [
              "window[\"7c3dc060-d15e-11e9-8d65-0242ac1c0002\"] = window[\"744a96a8-d15e-11e9-8d65-0242ac1c0002\"].getAttribute(\"position\");\n",
              "//# sourceURL=js_0d5d75ee46"
            ],
            "text/plain": [
              "<IPython.core.display.Javascript object>"
            ]
          },
          "metadata": {
            "tags": []
          }
        },
        {
          "output_type": "display_data",
          "data": {
            "application/javascript": [
              "window[\"7c3dc060-d15e-11e9-8d65-0242ac1c0002\"].needsUpdate = true;\n",
              "//# sourceURL=js_695e79e175"
            ],
            "text/plain": [
              "<IPython.core.display.Javascript object>"
            ]
          },
          "metadata": {
            "tags": []
          }
        },
        {
          "output_type": "display_data",
          "data": {
            "application/javascript": [
              "window[\"7c51a3be-d15e-11e9-8d65-0242ac1c0002\"] = window[\"744a96a8-d15e-11e9-8d65-0242ac1c0002\"].getAttribute(\"position\");\n",
              "//# sourceURL=js_d875f555a6"
            ],
            "text/plain": [
              "<IPython.core.display.Javascript object>"
            ]
          },
          "metadata": {
            "tags": []
          }
        },
        {
          "output_type": "display_data",
          "data": {
            "application/javascript": [
              "window[\"7c51ed42-d15e-11e9-8d65-0242ac1c0002\"] = window[\"7c51a3be-d15e-11e9-8d65-0242ac1c0002\"].copyArray([-0.9526541829109192, -1.0071189403533936, -0.9887214303016663, 1.02471923828125, -0.9899857044219971, -0.9876905679702759, 1.0075926780700684, 0.9873493909835815, -1.0000492334365845, -0.969780683517456, 0.9702159762382507, -1.0010801553726196, -0.9537920355796814, -0.994769811630249, 0.9886875748634338, 1.0235813856124878, -0.9776363968849182, 0.9897184371948242, 1.0064548254013062, 0.9996985793113708, 0.9773597121238708, -0.970918595790863, 0.9825652837753296, 0.9763288497924805]);\n",
              "//# sourceURL=js_d221bd70fa"
            ],
            "text/plain": [
              "<IPython.core.display.Javascript object>"
            ]
          },
          "metadata": {
            "tags": []
          }
        },
        {
          "output_type": "display_data",
          "data": {
            "application/javascript": [
              "window[\"7c5245a8-d15e-11e9-8d65-0242ac1c0002\"] = window[\"744a96a8-d15e-11e9-8d65-0242ac1c0002\"].getAttribute(\"position\");\n",
              "//# sourceURL=js_a96545d627"
            ],
            "text/plain": [
              "<IPython.core.display.Javascript object>"
            ]
          },
          "metadata": {
            "tags": []
          }
        },
        {
          "output_type": "display_data",
          "data": {
            "application/javascript": [
              "window[\"7c5245a8-d15e-11e9-8d65-0242ac1c0002\"].needsUpdate = true;\n",
              "//# sourceURL=js_c4af742b2a"
            ],
            "text/plain": [
              "<IPython.core.display.Javascript object>"
            ]
          },
          "metadata": {
            "tags": []
          }
        },
        {
          "output_type": "display_data",
          "data": {
            "application/javascript": [
              "window[\"7c65f364-d15e-11e9-8d65-0242ac1c0002\"] = window[\"744a96a8-d15e-11e9-8d65-0242ac1c0002\"].getAttribute(\"position\");\n",
              "//# sourceURL=js_3383695f83"
            ],
            "text/plain": [
              "<IPython.core.display.Javascript object>"
            ]
          },
          "metadata": {
            "tags": []
          }
        },
        {
          "output_type": "display_data",
          "data": {
            "application/javascript": [
              "window[\"7c6640da-d15e-11e9-8d65-0242ac1c0002\"] = window[\"7c65f364-d15e-11e9-8d65-0242ac1c0002\"].copyArray([-0.9560603499412537, -1.0053116083145142, -0.9912148118019104, 1.0219295024871826, -0.9909059405326843, -0.9893949031829834, 1.0075322389602661, 0.9870644807815552, -0.9983429908752441, -0.9704576730728149, 0.9726587533950806, -1.000162959098816, -0.9579454064369202, -0.9963771104812622, 0.9868072271347046, 1.0200444459915161, -0.9819713830947876, 0.9886271357536316, 1.0056471824645996, 0.9959989786148071, 0.9796790480613708, -0.9723427295684814, 0.9815933108329773, 0.9778591394424438]);\n",
              "//# sourceURL=js_d6dce48286"
            ],
            "text/plain": [
              "<IPython.core.display.Javascript object>"
            ]
          },
          "metadata": {
            "tags": []
          }
        },
        {
          "output_type": "display_data",
          "data": {
            "application/javascript": [
              "window[\"7c66884c-d15e-11e9-8d65-0242ac1c0002\"] = window[\"744a96a8-d15e-11e9-8d65-0242ac1c0002\"].getAttribute(\"position\");\n",
              "//# sourceURL=js_54bc45b3f2"
            ],
            "text/plain": [
              "<IPython.core.display.Javascript object>"
            ]
          },
          "metadata": {
            "tags": []
          }
        },
        {
          "output_type": "display_data",
          "data": {
            "application/javascript": [
              "window[\"7c66884c-d15e-11e9-8d65-0242ac1c0002\"].needsUpdate = true;\n",
              "//# sourceURL=js_8da0e6ee7f"
            ],
            "text/plain": [
              "<IPython.core.display.Javascript object>"
            ]
          },
          "metadata": {
            "tags": []
          }
        },
        {
          "output_type": "display_data",
          "data": {
            "application/javascript": [
              "window[\"7c7a5372-d15e-11e9-8d65-0242ac1c0002\"] = window[\"744a96a8-d15e-11e9-8d65-0242ac1c0002\"].getAttribute(\"position\");\n",
              "//# sourceURL=js_e972aff95e"
            ],
            "text/plain": [
              "<IPython.core.display.Javascript object>"
            ]
          },
          "metadata": {
            "tags": []
          }
        },
        {
          "output_type": "display_data",
          "data": {
            "application/javascript": [
              "window[\"7c7aa5ca-d15e-11e9-8d65-0242ac1c0002\"] = window[\"7c7a5372-d15e-11e9-8d65-0242ac1c0002\"].copyArray([-0.960798978805542, -1.003967523574829, -0.9937863945960999, 1.0193148851394653, -0.9925341606140137, -0.992173433303833, 1.0078860521316528, 0.9875726699829102, -0.9977046251296997, -0.9722278118133545, 0.9761393070220947, -0.9993175864219666, -0.9624438881874084, -0.9984457492828369, 0.986352801322937, 1.0176700353622437, -0.9870123863220215, 0.9879657626152039, 1.0062412023544312, 0.9930944442749023, 0.9824345707893372, -0.973872721195221, 0.9816610813140869, 0.9808216094970703]);\n",
              "//# sourceURL=js_03e70e2223"
            ],
            "text/plain": [
              "<IPython.core.display.Javascript object>"
            ]
          },
          "metadata": {
            "tags": []
          }
        },
        {
          "output_type": "display_data",
          "data": {
            "application/javascript": [
              "window[\"7c7ae814-d15e-11e9-8d65-0242ac1c0002\"] = window[\"744a96a8-d15e-11e9-8d65-0242ac1c0002\"].getAttribute(\"position\");\n",
              "//# sourceURL=js_9dbb5b049c"
            ],
            "text/plain": [
              "<IPython.core.display.Javascript object>"
            ]
          },
          "metadata": {
            "tags": []
          }
        },
        {
          "output_type": "display_data",
          "data": {
            "application/javascript": [
              "window[\"7c7ae814-d15e-11e9-8d65-0242ac1c0002\"].needsUpdate = true;\n",
              "//# sourceURL=js_ceba81f5a1"
            ],
            "text/plain": [
              "<IPython.core.display.Javascript object>"
            ]
          },
          "metadata": {
            "tags": []
          }
        },
        {
          "output_type": "display_data",
          "data": {
            "application/javascript": [
              "window[\"7c903552-d15e-11e9-8d65-0242ac1c0002\"] = window[\"744a96a8-d15e-11e9-8d65-0242ac1c0002\"].getAttribute(\"position\");\n",
              "//# sourceURL=js_0631cca348"
            ],
            "text/plain": [
              "<IPython.core.display.Javascript object>"
            ]
          },
          "metadata": {
            "tags": []
          }
        },
        {
          "output_type": "display_data",
          "data": {
            "application/javascript": [
              "window[\"7c907f8a-d15e-11e9-8d65-0242ac1c0002\"] = window[\"7c903552-d15e-11e9-8d65-0242ac1c0002\"].copyArray([-0.9665604829788208, -1.003068208694458, -0.9963515996932983, 1.0169026851654053, -0.9947285652160645, -0.9957441091537476, 1.0085636377334595, 0.9887334108352661, -0.9979750514030457, -0.9748995304107666, 0.980393648147583, -0.9985825419425964, -0.9671773314476013, -1.0008399486541748, 0.9871278405189514, 1.01628577709198, -0.9925001859664917, 0.9877353310585022, 1.0079467296600342, 0.9909617304801941, 0.9855043888092041, -0.9755164384841919, 0.9826220273971558, 0.9848968982696533]);\n",
              "//# sourceURL=js_655604da91"
            ],
            "text/plain": [
              "<IPython.core.display.Javascript object>"
            ]
          },
          "metadata": {
            "tags": []
          }
        },
        {
          "output_type": "display_data",
          "data": {
            "application/javascript": [
              "window[\"7c90de3a-d15e-11e9-8d65-0242ac1c0002\"] = window[\"744a96a8-d15e-11e9-8d65-0242ac1c0002\"].getAttribute(\"position\");\n",
              "//# sourceURL=js_a9c4de872f"
            ],
            "text/plain": [
              "<IPython.core.display.Javascript object>"
            ]
          },
          "metadata": {
            "tags": []
          }
        },
        {
          "output_type": "display_data",
          "data": {
            "application/javascript": [
              "window[\"7c90de3a-d15e-11e9-8d65-0242ac1c0002\"].needsUpdate = true;\n",
              "//# sourceURL=js_fe3c2dae75"
            ],
            "text/plain": [
              "<IPython.core.display.Javascript object>"
            ]
          },
          "metadata": {
            "tags": []
          }
        },
        {
          "output_type": "display_data",
          "data": {
            "application/javascript": [
              "window[\"7ca5f928-d15e-11e9-8d65-0242ac1c0002\"] = window[\"744a96a8-d15e-11e9-8d65-0242ac1c0002\"].getAttribute(\"position\");\n",
              "//# sourceURL=js_3a897f5a71"
            ],
            "text/plain": [
              "<IPython.core.display.Javascript object>"
            ]
          },
          "metadata": {
            "tags": []
          }
        },
        {
          "output_type": "display_data",
          "data": {
            "application/javascript": [
              "window[\"7ca6a0bc-d15e-11e9-8d65-0242ac1c0002\"] = window[\"7ca5f928-d15e-11e9-8d65-0242ac1c0002\"].copyArray([-0.9728161692619324, -1.0025571584701538, -0.9989948272705078, 1.0148752927780151, -0.9973151683807373, -0.9996117353439331, 1.0096335411071777, 0.9903761744499207, -0.9987688064575195, -0.9780579209327698, 0.9851341247558594, -0.9981518983840942, -0.9721970558166504, -1.0033985376358032, 0.9887033700942993, 1.015494465827942, -0.9981565475463867, 0.988086462020874, 1.0102527141571045, 0.9895347952842712, 0.9889293909072876, -0.9774388074874878, 0.98429274559021, 0.9895462989807129]);\n",
              "//# sourceURL=js_6b1c5d176f"
            ],
            "text/plain": [
              "<IPython.core.display.Javascript object>"
            ]
          },
          "metadata": {
            "tags": []
          }
        },
        {
          "output_type": "display_data",
          "data": {
            "application/javascript": [
              "window[\"7ca6f2f6-d15e-11e9-8d65-0242ac1c0002\"] = window[\"744a96a8-d15e-11e9-8d65-0242ac1c0002\"].getAttribute(\"position\");\n",
              "//# sourceURL=js_cfd0702d47"
            ],
            "text/plain": [
              "<IPython.core.display.Javascript object>"
            ]
          },
          "metadata": {
            "tags": []
          }
        },
        {
          "output_type": "display_data",
          "data": {
            "application/javascript": [
              "window[\"7ca6f2f6-d15e-11e9-8d65-0242ac1c0002\"].needsUpdate = true;\n",
              "//# sourceURL=js_487c369f68"
            ],
            "text/plain": [
              "<IPython.core.display.Javascript object>"
            ]
          },
          "metadata": {
            "tags": []
          }
        },
        {
          "output_type": "display_data",
          "data": {
            "application/javascript": [
              "window[\"7cbc7072-d15e-11e9-8d65-0242ac1c0002\"] = window[\"744a96a8-d15e-11e9-8d65-0242ac1c0002\"].getAttribute(\"position\");\n",
              "//# sourceURL=js_29c4ab8157"
            ],
            "text/plain": [
              "<IPython.core.display.Javascript object>"
            ]
          },
          "metadata": {
            "tags": []
          }
        },
        {
          "output_type": "display_data",
          "data": {
            "application/javascript": [
              "window[\"7cbcb938-d15e-11e9-8d65-0242ac1c0002\"] = window[\"7cbc7072-d15e-11e9-8d65-0242ac1c0002\"].copyArray([-0.9789943099021912, -1.002350091934204, -1.0018254518508911, 1.0134241580963135, -1.000103235244751, -1.0032439231872559, 1.011179804801941, 0.9923123717308044, -0.9996456503868103, -0.981238603591919, 0.9900655150413513, -0.9982271194458008, -0.9775717258453369, -1.0059467554092407, 0.9905908703804016, 1.014846682548523, -1.0036998987197876, 0.9891723394393921, 1.0126023292541504, 0.988715648651123, 0.9927706718444824, -0.9798160195350647, 0.9864688515663147, 0.9941891431808472]);\n",
              "//# sourceURL=js_ae217877ab"
            ],
            "text/plain": [
              "<IPython.core.display.Javascript object>"
            ]
          },
          "metadata": {
            "tags": []
          }
        },
        {
          "output_type": "display_data",
          "data": {
            "application/javascript": [
              "window[\"7cbd399e-d15e-11e9-8d65-0242ac1c0002\"] = window[\"744a96a8-d15e-11e9-8d65-0242ac1c0002\"].getAttribute(\"position\");\n",
              "//# sourceURL=js_3bf8ce0d82"
            ],
            "text/plain": [
              "<IPython.core.display.Javascript object>"
            ]
          },
          "metadata": {
            "tags": []
          }
        },
        {
          "output_type": "display_data",
          "data": {
            "application/javascript": [
              "window[\"7cbd399e-d15e-11e9-8d65-0242ac1c0002\"].needsUpdate = true;\n",
              "//# sourceURL=js_4d0494810f"
            ],
            "text/plain": [
              "<IPython.core.display.Javascript object>"
            ]
          },
          "metadata": {
            "tags": []
          }
        },
        {
          "output_type": "display_data",
          "data": {
            "application/javascript": [
              "window[\"7cd29618-d15e-11e9-8d65-0242ac1c0002\"] = window[\"744a96a8-d15e-11e9-8d65-0242ac1c0002\"].getAttribute(\"position\");\n",
              "//# sourceURL=js_acb65968c6"
            ],
            "text/plain": [
              "<IPython.core.display.Javascript object>"
            ]
          },
          "metadata": {
            "tags": []
          }
        },
        {
          "output_type": "display_data",
          "data": {
            "application/javascript": [
              "window[\"7cd2dcd6-d15e-11e9-8d65-0242ac1c0002\"] = window[\"7cd29618-d15e-11e9-8d65-0242ac1c0002\"].copyArray([-0.984660267829895, -1.0023475885391235, -1.0048266649246216, 1.0125973224639893, -1.002898931503296, -1.006250023841858, 1.0131529569625854, 0.9943501949310303, -1.0002880096435547, -0.9841046929359436, 0.9949016571044922, -0.998864471912384, -0.9832385182380676, -1.008310079574585, 0.9924221634864807, 1.0140191316604614, -1.0088615417480469, 0.9909986853599548, 1.014574646949768, 0.9883877038955688, 0.9969608187675476, -0.9826829433441162, 0.9889390468597412, 0.9983841776847839]);\n",
              "//# sourceURL=js_6e2077ea0e"
            ],
            "text/plain": [
              "<IPython.core.display.Javascript object>"
            ]
          },
          "metadata": {
            "tags": []
          }
        },
        {
          "output_type": "display_data",
          "data": {
            "application/javascript": [
              "window[\"7cd33186-d15e-11e9-8d65-0242ac1c0002\"] = window[\"744a96a8-d15e-11e9-8d65-0242ac1c0002\"].getAttribute(\"position\");\n",
              "//# sourceURL=js_36d3766ce9"
            ],
            "text/plain": [
              "<IPython.core.display.Javascript object>"
            ]
          },
          "metadata": {
            "tags": []
          }
        },
        {
          "output_type": "display_data",
          "data": {
            "application/javascript": [
              "window[\"7cd33186-d15e-11e9-8d65-0242ac1c0002\"].needsUpdate = true;\n",
              "//# sourceURL=js_89a5a5475e"
            ],
            "text/plain": [
              "<IPython.core.display.Javascript object>"
            ]
          },
          "metadata": {
            "tags": []
          }
        },
        {
          "output_type": "display_data",
          "data": {
            "application/javascript": [
              "window[\"7ce85d68-d15e-11e9-8d65-0242ac1c0002\"] = window[\"744a96a8-d15e-11e9-8d65-0242ac1c0002\"].getAttribute(\"position\");\n",
              "//# sourceURL=js_9d21795b68"
            ],
            "text/plain": [
              "<IPython.core.display.Javascript object>"
            ]
          },
          "metadata": {
            "tags": []
          }
        },
        {
          "output_type": "display_data",
          "data": {
            "application/javascript": [
              "window[\"7ce8a46c-d15e-11e9-8d65-0242ac1c0002\"] = window[\"7ce85d68-d15e-11e9-8d65-0242ac1c0002\"].copyArray([-0.9896185994148254, -1.002447247505188, -1.007782220840454, 1.0122255086898804, -1.0055185556411743, -1.008480191230774, 1.0152993202209473, 0.996310293674469, -1.0005989074707031, -0.986544668674469, 0.9993814826011658, -0.9999009370803833, -0.9889325499534607, -1.0103296041488647, 0.9940487146377563, 1.0129114389419556, -1.0134007930755615, 0.9933507442474365, 1.015985369682312, 0.9884279370307922, 1.0012321472167969, -0.9858587384223938, 0.9914991855621338, 1.0019301176071167]);\n",
              "//# sourceURL=js_4cdfca68b7"
            ],
            "text/plain": [
              "<IPython.core.display.Javascript object>"
            ]
          },
          "metadata": {
            "tags": []
          }
        },
        {
          "output_type": "display_data",
          "data": {
            "application/javascript": [
              "window[\"7ce8f71e-d15e-11e9-8d65-0242ac1c0002\"] = window[\"744a96a8-d15e-11e9-8d65-0242ac1c0002\"].getAttribute(\"position\");\n",
              "//# sourceURL=js_cdfd09a8b9"
            ],
            "text/plain": [
              "<IPython.core.display.Javascript object>"
            ]
          },
          "metadata": {
            "tags": []
          }
        },
        {
          "output_type": "display_data",
          "data": {
            "application/javascript": [
              "window[\"7ce8f71e-d15e-11e9-8d65-0242ac1c0002\"].needsUpdate = true;\n",
              "//# sourceURL=js_b1483c69c9"
            ],
            "text/plain": [
              "<IPython.core.display.Javascript object>"
            ]
          },
          "metadata": {
            "tags": []
          }
        },
        {
          "output_type": "display_data",
          "data": {
            "application/javascript": [
              "window[\"7cfeb31a-d15e-11e9-8d65-0242ac1c0002\"] = window[\"744a96a8-d15e-11e9-8d65-0242ac1c0002\"].getAttribute(\"position\");\n",
              "//# sourceURL=js_bedd3ff461"
            ],
            "text/plain": [
              "<IPython.core.display.Javascript object>"
            ]
          },
          "metadata": {
            "tags": []
          }
        },
        {
          "output_type": "display_data",
          "data": {
            "application/javascript": [
              "window[\"7cfef9d8-d15e-11e9-8d65-0242ac1c0002\"] = window[\"7cfeb31a-d15e-11e9-8d65-0242ac1c0002\"].copyArray([-0.9938938617706299, -1.0025540590286255, -1.0103219747543335, 1.0119667053222656, -1.0077992677688599, -1.0100046396255493, 1.0172103643417358, 0.9980396032333374, -1.0006827116012573, -0.9886500835418701, 1.0032849311828613, -1.0010000467300415, -0.9942353963851929, -1.0118752717971802, 0.9955236911773682, 1.011625051498413, -1.017120599746704, 0.9958410263061523, 1.0168688297271729, 0.9887184500694275, 1.0051630735397339, -0.9889917373657227, 0.9939635992050171, 1.0048457384109497]);\n",
              "//# sourceURL=js_04eda7f506"
            ],
            "text/plain": [
              "<IPython.core.display.Javascript object>"
            ]
          },
          "metadata": {
            "tags": []
          }
        },
        {
          "output_type": "display_data",
          "data": {
            "application/javascript": [
              "window[\"7cff840c-d15e-11e9-8d65-0242ac1c0002\"] = window[\"744a96a8-d15e-11e9-8d65-0242ac1c0002\"].getAttribute(\"position\");\n",
              "//# sourceURL=js_00edf87387"
            ],
            "text/plain": [
              "<IPython.core.display.Javascript object>"
            ]
          },
          "metadata": {
            "tags": []
          }
        },
        {
          "output_type": "display_data",
          "data": {
            "application/javascript": [
              "window[\"7cff840c-d15e-11e9-8d65-0242ac1c0002\"].needsUpdate = true;\n",
              "//# sourceURL=js_671e8cc2bb"
            ],
            "text/plain": [
              "<IPython.core.display.Javascript object>"
            ]
          },
          "metadata": {
            "tags": []
          }
        },
        {
          "output_type": "display_data",
          "data": {
            "application/javascript": [
              "window[\"7d14a6fc-d15e-11e9-8d65-0242ac1c0002\"] = window[\"744a96a8-d15e-11e9-8d65-0242ac1c0002\"].getAttribute(\"position\");\n",
              "//# sourceURL=js_57583235d4"
            ],
            "text/plain": [
              "<IPython.core.display.Javascript object>"
            ]
          },
          "metadata": {
            "tags": []
          }
        },
        {
          "output_type": "display_data",
          "data": {
            "application/javascript": [
              "window[\"7d14f882-d15e-11e9-8d65-0242ac1c0002\"] = window[\"7d14a6fc-d15e-11e9-8d65-0242ac1c0002\"].copyArray([-0.9976128935813904, -1.002588152885437, -1.0120593309402466, 1.0114434957504272, -1.0096105337142944, -1.0109937191009521, 1.018460750579834, 0.9994198679924011, -1.0007244348526, -0.9905957579612732, 1.0064424276351929, -1.0017898082733154, -0.9987141489982605, -1.0128536224365234, 0.9969831705093384, 1.0103423595428467, -1.0198761224746704, 0.9980486035346985, 1.0173594951629639, 0.9891543388366699, 1.0083180665969849, -0.9916968941688538, 0.9961767792701721, 1.0072524547576904]);\n",
              "//# sourceURL=js_57cce4e6e7"
            ],
            "text/plain": [
              "<IPython.core.display.Javascript object>"
            ]
          },
          "metadata": {
            "tags": []
          }
        },
        {
          "output_type": "display_data",
          "data": {
            "application/javascript": [
              "window[\"7d154c42-d15e-11e9-8d65-0242ac1c0002\"] = window[\"744a96a8-d15e-11e9-8d65-0242ac1c0002\"].getAttribute(\"position\");\n",
              "//# sourceURL=js_085feefc26"
            ],
            "text/plain": [
              "<IPython.core.display.Javascript object>"
            ]
          },
          "metadata": {
            "tags": []
          }
        },
        {
          "output_type": "display_data",
          "data": {
            "application/javascript": [
              "window[\"7d154c42-d15e-11e9-8d65-0242ac1c0002\"].needsUpdate = true;\n",
              "//# sourceURL=js_c0a439e111"
            ],
            "text/plain": [
              "<IPython.core.display.Javascript object>"
            ]
          },
          "metadata": {
            "tags": []
          }
        },
        {
          "output_type": "display_data",
          "data": {
            "application/javascript": [
              "window[\"7d295d36-d15e-11e9-8d65-0242ac1c0002\"] = window[\"744a96a8-d15e-11e9-8d65-0242ac1c0002\"].getAttribute(\"position\");\n",
              "//# sourceURL=js_70578a1ca5"
            ],
            "text/plain": [
              "<IPython.core.display.Javascript object>"
            ]
          },
          "metadata": {
            "tags": []
          }
        },
        {
          "output_type": "display_data",
          "data": {
            "application/javascript": [
              "window[\"7d29a21e-d15e-11e9-8d65-0242ac1c0002\"] = window[\"7d295d36-d15e-11e9-8d65-0242ac1c0002\"].copyArray([-1.0008596181869507, -1.0024908781051636, -1.0127487182617188, 1.0104033946990967, -1.0108609199523926, -1.0115739107131958, 1.0187671184539795, 1.0003739595413208, -1.0008456707000732, -0.9924958944320679, 1.0087440013885498, -1.0020203590393066, -1.0020790100097656, -1.0132139921188354, 0.9985031485557556, 1.0091840028762817, -1.0215840339660645, 0.999677836894989, 1.0175477266311646, 0.9896507263183594, 1.010406255722046, -0.9937152862548828, 0.9980208277702332, 1.009231448173523]);\n",
              "//# sourceURL=js_6e65b49e92"
            ],
            "text/plain": [
              "<IPython.core.display.Javascript object>"
            ]
          },
          "metadata": {
            "tags": []
          }
        },
        {
          "output_type": "display_data",
          "data": {
            "application/javascript": [
              "window[\"7d29f43a-d15e-11e9-8d65-0242ac1c0002\"] = window[\"744a96a8-d15e-11e9-8d65-0242ac1c0002\"].getAttribute(\"position\");\n",
              "//# sourceURL=js_4d12c3992f"
            ],
            "text/plain": [
              "<IPython.core.display.Javascript object>"
            ]
          },
          "metadata": {
            "tags": []
          }
        },
        {
          "output_type": "display_data",
          "data": {
            "application/javascript": [
              "window[\"7d29f43a-d15e-11e9-8d65-0242ac1c0002\"].needsUpdate = true;\n",
              "//# sourceURL=js_88bd4e0acf"
            ],
            "text/plain": [
              "<IPython.core.display.Javascript object>"
            ]
          },
          "metadata": {
            "tags": []
          }
        },
        {
          "output_type": "display_data",
          "data": {
            "application/javascript": [
              "window[\"7d3ddb76-d15e-11e9-8d65-0242ac1c0002\"] = window[\"744a96a8-d15e-11e9-8d65-0242ac1c0002\"].getAttribute(\"position\");\n",
              "//# sourceURL=js_02d570d34f"
            ],
            "text/plain": [
              "<IPython.core.display.Javascript object>"
            ]
          },
          "metadata": {
            "tags": []
          }
        },
        {
          "output_type": "display_data",
          "data": {
            "application/javascript": [
              "window[\"7d3e28ba-d15e-11e9-8d65-0242ac1c0002\"] = window[\"7d3ddb76-d15e-11e9-8d65-0242ac1c0002\"].copyArray([-1.0035887956619263, -1.0022302865982056, -1.0123820304870605, 1.0088131427764893, -1.011505365371704, -1.0117396116256714, 1.0180845260620117, 1.0008679628372192, -1.0010167360305786, -0.9943172931671143, 1.0101431608200073, -1.0016592741012573, -1.0042805671691895, -1.012949824333191, 1.0000125169754028, 1.0081212520599365, -1.022225022315979, 1.0006550550460815, 1.0173927545547485, 0.9901483654975891, 1.0113778114318848, -0.995009183883667, 0.9994234442710876, 1.0107353925704956]);\n",
              "//# sourceURL=js_cf46890a46"
            ],
            "text/plain": [
              "<IPython.core.display.Javascript object>"
            ]
          },
          "metadata": {
            "tags": []
          }
        },
        {
          "output_type": "display_data",
          "data": {
            "application/javascript": [
              "window[\"7d3e7a68-d15e-11e9-8d65-0242ac1c0002\"] = window[\"744a96a8-d15e-11e9-8d65-0242ac1c0002\"].getAttribute(\"position\");\n",
              "//# sourceURL=js_d6fb13f89d"
            ],
            "text/plain": [
              "<IPython.core.display.Javascript object>"
            ]
          },
          "metadata": {
            "tags": []
          }
        },
        {
          "output_type": "display_data",
          "data": {
            "application/javascript": [
              "window[\"7d3e7a68-d15e-11e9-8d65-0242ac1c0002\"].needsUpdate = true;\n",
              "//# sourceURL=js_ff61f2378c"
            ],
            "text/plain": [
              "<IPython.core.display.Javascript object>"
            ]
          },
          "metadata": {
            "tags": []
          }
        },
        {
          "output_type": "display_data",
          "data": {
            "application/javascript": [
              "window[\"7d53c792-d15e-11e9-8d65-0242ac1c0002\"] = window[\"744a96a8-d15e-11e9-8d65-0242ac1c0002\"].getAttribute(\"position\");\n",
              "//# sourceURL=js_93822257ee"
            ],
            "text/plain": [
              "<IPython.core.display.Javascript object>"
            ]
          },
          "metadata": {
            "tags": []
          }
        },
        {
          "output_type": "display_data",
          "data": {
            "application/javascript": [
              "window[\"7d54138c-d15e-11e9-8d65-0242ac1c0002\"] = window[\"7d53c792-d15e-11e9-8d65-0242ac1c0002\"].copyArray([-1.0056349039077759, -1.0018012523651123, -1.0111713409423828, 1.0068461894989014, -1.0115445852279663, -1.0113635063171387, 1.0165902376174927, 1.0009100437164307, -1.0010687112808228, -0.995890736579895, 1.0106533765792847, -1.000876545906067, -1.0054928064346313, -1.012096881866455, 1.0013068914413452, 1.0069881677627563, -1.021840214729309, 1.0011147260665894, 1.0167323350906372, 0.9906142950057983, 1.0114095211029053, -0.99574875831604, 1.000357747077942, 1.0116016864776611]);\n",
              "//# sourceURL=js_94572a1e18"
            ],
            "text/plain": [
              "<IPython.core.display.Javascript object>"
            ]
          },
          "metadata": {
            "tags": []
          }
        },
        {
          "output_type": "display_data",
          "data": {
            "application/javascript": [
              "window[\"7d54685a-d15e-11e9-8d65-0242ac1c0002\"] = window[\"744a96a8-d15e-11e9-8d65-0242ac1c0002\"].getAttribute(\"position\");\n",
              "//# sourceURL=js_4313c54a38"
            ],
            "text/plain": [
              "<IPython.core.display.Javascript object>"
            ]
          },
          "metadata": {
            "tags": []
          }
        },
        {
          "output_type": "display_data",
          "data": {
            "application/javascript": [
              "window[\"7d54685a-d15e-11e9-8d65-0242ac1c0002\"].needsUpdate = true;\n",
              "//# sourceURL=js_466a300521"
            ],
            "text/plain": [
              "<IPython.core.display.Javascript object>"
            ]
          },
          "metadata": {
            "tags": []
          }
        }
      ]
    },
    {
      "cell_type": "code",
      "metadata": {
        "id": "QONkW8FGKSgD",
        "colab_type": "code",
        "colab": {}
      },
      "source": [
        ""
      ],
      "execution_count": 0,
      "outputs": []
    }
  ]
}