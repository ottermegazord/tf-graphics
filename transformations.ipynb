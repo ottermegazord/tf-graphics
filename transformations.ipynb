{
  "nbformat": 4,
  "nbformat_minor": 0,
  "metadata": {
    "colab": {
      "name": "Untitled3.ipynb",
      "version": "0.3.2",
      "provenance": [],
      "include_colab_link": true
    },
    "kernelspec": {
      "name": "python3",
      "display_name": "Python 3"
    },
    "accelerator": "GPU"
  },
  "cells": [
    {
      "cell_type": "markdown",
      "metadata": {
        "id": "view-in-github",
        "colab_type": "text"
      },
      "source": [
        "<a href=\"https://colab.research.google.com/github/ottermegazord/tf-graphics/blob/master/transformations.ipynb\" target=\"_parent\"><img src=\"https://colab.research.google.com/assets/colab-badge.svg\" alt=\"Open In Colab\"/></a>"
      ]
    },
    {
      "cell_type": "markdown",
      "metadata": {
        "id": "M2oLwlfh9XSQ",
        "colab_type": "text"
      },
      "source": [
        "# Transformation with Tensorflow Graphics!\n",
        "\n",
        "Note: Use TF v.1.14.0"
      ]
    },
    {
      "cell_type": "code",
      "metadata": {
        "id": "nctaAl7O8v87",
        "colab_type": "code",
        "colab": {
          "base_uri": "https://localhost:8080/",
          "height": 34
        },
        "outputId": "91367081-b465-4ce5-c60e-2b11bd4d68b2"
      },
      "source": [
        "import tensorflow as tf\n",
        "print(tf.__version__)"
      ],
      "execution_count": 1,
      "outputs": [
        {
          "output_type": "stream",
          "text": [
            "1.14.0\n"
          ],
          "name": "stdout"
        }
      ]
    },
    {
      "cell_type": "markdown",
      "metadata": {
        "id": "5o-2nFRw_YH0",
        "colab_type": "text"
      },
      "source": [
        "## Install tensorflow packages"
      ]
    },
    {
      "cell_type": "code",
      "metadata": {
        "id": "2HQWkz6R9hYs",
        "colab_type": "code",
        "colab": {}
      },
      "source": [
        "#!pip install tensorflow==1.14.0\n",
        "# !pip install tensorflow_graphics"
      ],
      "execution_count": 0,
      "outputs": []
    },
    {
      "cell_type": "markdown",
      "metadata": {
        "id": "z9LB7ATr_nTi",
        "colab_type": "text"
      },
      "source": [
        "## Import packages"
      ]
    },
    {
      "cell_type": "code",
      "metadata": {
        "id": "Zjdnw1dR-rVu",
        "colab_type": "code",
        "colab": {
          "base_uri": "https://localhost:8080/",
          "height": 54
        },
        "outputId": "5b4117dc-36b7-45fc-87ec-72d28ecfb520"
      },
      "source": [
        "from __future__ import absolute_import\n",
        "from __future__ import division\n",
        "from __future__ import print_function\n",
        "\n",
        "import time\n",
        "\n",
        "import matplotlib.pyplot as plt\n",
        "import numpy as np\n",
        "import tensorflow as tf\n",
        "from tensorflow import keras\n",
        "from tensorflow.keras import layers\n",
        "\n",
        "from tensorflow_graphics.geometry.transformation import quaternion\n",
        "from tensorflow_graphics.math import vector\n",
        "from tensorflow_graphics.notebooks import threejs_visualization\n",
        "from tensorflow_graphics.notebooks.resources import tfg_simplified_logo\n"
      ],
      "execution_count": 3,
      "outputs": [
        {
          "output_type": "stream",
          "text": [
            "Warning: To use the exr data format, please install the OpenEXR package following the instructions detailed in the README at github.com/tensorflow/graphics.\n"
          ],
          "name": "stderr"
        }
      ]
    },
    {
      "cell_type": "code",
      "metadata": {
        "id": "NBTYyUdCD-b5",
        "colab_type": "code",
        "colab": {}
      },
      "source": [
        "# Enable eager execution\n",
        "tf.enable_eager_execution()"
      ],
      "execution_count": 0,
      "outputs": []
    },
    {
      "cell_type": "code",
      "metadata": {
        "id": "ej4FgXlD_sPy",
        "colab_type": "code",
        "colab": {}
      },
      "source": [
        "# Load demo pic\n",
        "vertices = tfg_simplified_logo.mesh['vertices'].astype(np.float32)\n",
        "faces = tfg_simplified_logo.mesh['faces']\n",
        "num_vertices = vertices.shape[0]"
      ],
      "execution_count": 0,
      "outputs": []
    },
    {
      "cell_type": "code",
      "metadata": {
        "id": "M3O3hFvKAVNA",
        "colab_type": "code",
        "colab": {
          "base_uri": "https://localhost:8080/",
          "height": 34
        },
        "outputId": "3ff44dea-977d-4eae-8b20-d273fc6f3a83"
      },
      "source": [
        "print(num_vertices)"
      ],
      "execution_count": 6,
      "outputs": [
        {
          "output_type": "stream",
          "text": [
            "38\n"
          ],
          "name": "stdout"
        }
      ]
    },
    {
      "cell_type": "markdown",
      "metadata": {
        "id": "n7Zha-2HAc_J",
        "colab_type": "text"
      },
      "source": [
        "## Modeling"
      ]
    },
    {
      "cell_type": "code",
      "metadata": {
        "id": "rPZ2uAQBArYO",
        "colab_type": "code",
        "colab": {}
      },
      "source": [
        "# Create model\n",
        "\n",
        "model = tf.keras.Sequential([\n",
        "    \n",
        "    tf.keras.layers.Flatten(input_shape=(num_vertices, 3)),\n",
        "    tf.keras.layers.Dense(64, activation='relu'),\n",
        "    tf.keras.layers.Dense(64, activation='relu'),\n",
        "    tf.keras.layers.Dense(7)\n",
        "    \n",
        "])"
      ],
      "execution_count": 0,
      "outputs": []
    },
    {
      "cell_type": "markdown",
      "metadata": {
        "id": "ebL1VkrYBQAl",
        "colab_type": "text"
      },
      "source": [
        "## Data Processing"
      ]
    },
    {
      "cell_type": "markdown",
      "metadata": {
        "id": "XJ3CXyyfBxCv",
        "colab_type": "text"
      },
      "source": [
        "In mathematics, the quaternions are a number system that extends the complex numbers. "
      ]
    },
    {
      "cell_type": "code",
      "metadata": {
        "id": "rBFTV69hAWyB",
        "colab_type": "code",
        "colab": {}
      },
      "source": [
        "def generate_training_data(num_samples):\n",
        "  \n",
        "  # random_angles.shape: (num_samples, 3)\n",
        "  random_angles = np.random.uniform(-np.pi, np.pi,\n",
        "                                   (num_samples, 3)).astype(np.float32)\n",
        "  \n",
        "  # random_quaternion.shape: (num_samples, 4)\n",
        "  random_quaternion = quaternion.from_euler(random_angles)\n",
        "  \n",
        "  # random_translation.shape: (num_samples, 3)\n",
        "  random_translation = np.random.uniform(-2.0, 2.0,\n",
        "                                        (num_samples, 3)).astype(np.float32)\n",
        "  \n",
        "  # data.shape: (num_samples, num_vertices, 3)\n",
        "  data = quaternion.rotate(vertices[tf.newaxis, :, :],\n",
        "                          random_quaternion[:, tf.newaxis, :]) + random_translation[:, tf.newaxis,:]\n",
        "\n",
        "  # target.shape: (num_samples, 4+3)\n",
        "  target = tf.concat((random_quaternion, random_translation), axis=-1)\n",
        "  \n",
        "  return np.array(data), np.array(target)\n",
        "  "
      ],
      "execution_count": 0,
      "outputs": []
    },
    {
      "cell_type": "code",
      "metadata": {
        "id": "u5il42vDBkIW",
        "colab_type": "code",
        "colab": {}
      },
      "source": [
        "NUM_SAMPLES = 10000\n",
        "\n",
        "# Generate data\n",
        "data, target = generate_training_data(NUM_SAMPLES)"
      ],
      "execution_count": 0,
      "outputs": []
    },
    {
      "cell_type": "markdown",
      "metadata": {
        "id": "PSJ_2-jnCwIf",
        "colab_type": "text"
      },
      "source": [
        "### Sanity check"
      ]
    },
    {
      "cell_type": "code",
      "metadata": {
        "id": "7PHZNRoaCmCV",
        "colab_type": "code",
        "colab": {
          "base_uri": "https://localhost:8080/",
          "height": 51
        },
        "outputId": "e44c8454-3f9c-4d45-fbc8-794d1d8e1264"
      },
      "source": [
        "print(data.shape)\n",
        "print(target.shape)"
      ],
      "execution_count": 10,
      "outputs": [
        {
          "output_type": "stream",
          "text": [
            "(10000, 38, 3)\n",
            "(10000, 7)\n"
          ],
          "name": "stdout"
        }
      ]
    },
    {
      "cell_type": "markdown",
      "metadata": {
        "id": "LCWBkZYYC6V7",
        "colab_type": "text"
      },
      "source": [
        "## Training"
      ]
    },
    {
      "cell_type": "markdown",
      "metadata": {
        "id": "fUGJZQ0lEJIp",
        "colab_type": "text"
      },
      "source": [
        "### Define pose estimation loss as loss function\n",
        "\n",
        "We define the\n",
        "pose estimation loss as the distance between the points sampled on the objects model in ground truth pose and corresponding points on the same model transformed by the\n",
        "predicted pose. See [paper](http://ai.stanford.edu/~yukez/papers/cvpr2019wang.pdf)."
      ]
    },
    {
      "cell_type": "code",
      "metadata": {
        "id": "guzO6sPTCt_X",
        "colab_type": "code",
        "colab": {}
      },
      "source": [
        "def pose_estimation_loss(y_true, y_pred):\n",
        "  \"\"\"\n",
        "  params: y_true: Ground truth\n",
        "  params: y_pred: Predicted value\n",
        "  \n",
        "  return: Scalar value of pose estimation loss\n",
        "  \"\"\"\n",
        "  \n",
        "  # y_true.shape: (batch, 7)\n",
        "  y_true_q, y_true_t = tf.split(y_true, (4,3), axis=-1)\n",
        "  \n",
        "  # y_pred.shape: (batch, 7)\n",
        "  y_pred_q, y_pred_t = tf.split(y_pred, (4, 3), axis=-1)\n",
        "  \n",
        "  # vertices.shape: (num_vertices, 3)\n",
        "  # corners.shape: (num_vertices, 1, 3)\n",
        "  corners = tf.expand_dims(vertices, axis=1)\n",
        "  \n",
        "  # transformed_corners.shape: (num_vertices, batch, 3)\n",
        "  # pad (standard broadcast) q and t shape with 1's \n",
        "  transformed_corners = quaternion.rotate(corners, y_pred_q) + y_pred_t\n",
        "  \n",
        "  # recovered_corners.shape: (num_vertices, batch, 3)\n",
        "  recovered_corners = quaternion.rotate(transformed_corners - y_true_t,\n",
        "                                        quaternion.inverse(y_true_q))\n",
        "  \n",
        "  # vertex_error.shape:(num_vertices, batch)\n",
        "  vertex_error = tf.reduce_sum((recovered_corners - corners)**2, axis=-1)\n",
        "  \n",
        "  return tf.reduce_mean(vertex_error)"
      ],
      "execution_count": 0,
      "outputs": []
    },
    {
      "cell_type": "code",
      "metadata": {
        "id": "kSeuMY9_EzhG",
        "colab_type": "code",
        "colab": {}
      },
      "source": [
        "model.compile(\n",
        "    loss=pose_estimation_loss,\n",
        "    optimizer='adam'\n",
        ")"
      ],
      "execution_count": 0,
      "outputs": []
    },
    {
      "cell_type": "markdown",
      "metadata": {
        "id": "ConPXnflGTKE",
        "colab_type": "text"
      },
      "source": [
        "### Summary of model"
      ]
    },
    {
      "cell_type": "code",
      "metadata": {
        "id": "q439GPWHF2OE",
        "colab_type": "code",
        "colab": {
          "base_uri": "https://localhost:8080/",
          "height": 289
        },
        "outputId": "06419d04-7181-4fde-f9f0-9a14fe29d4ce"
      },
      "source": [
        "model.summary()"
      ],
      "execution_count": 13,
      "outputs": [
        {
          "output_type": "stream",
          "text": [
            "Model: \"sequential\"\n",
            "_________________________________________________________________\n",
            "Layer (type)                 Output Shape              Param #   \n",
            "=================================================================\n",
            "flatten (Flatten)            (None, 114)               0         \n",
            "_________________________________________________________________\n",
            "dense (Dense)                (None, 64)                7360      \n",
            "_________________________________________________________________\n",
            "dense_1 (Dense)              (None, 64)                4160      \n",
            "_________________________________________________________________\n",
            "dense_2 (Dense)              (None, 7)                 455       \n",
            "=================================================================\n",
            "Total params: 11,975\n",
            "Trainable params: 11,975\n",
            "Non-trainable params: 0\n",
            "_________________________________________________________________\n"
          ],
          "name": "stdout"
        }
      ]
    },
    {
      "cell_type": "markdown",
      "metadata": {
        "id": "2nyjssxyG9bm",
        "colab_type": "text"
      },
      "source": [
        "### Callbacks"
      ]
    },
    {
      "cell_type": "code",
      "metadata": {
        "id": "5yBp2K9OGWPH",
        "colab_type": "code",
        "colab": {}
      },
      "source": [
        "class ProgressLog(tf.keras.callbacks.Callback):\n",
        "  \n",
        "  def __init__(self, num_epochs, step=5):\n",
        "    self.num_epochs = num_epochs\n",
        "    self.current_epoch = 0\n",
        "    self.step = step\n",
        "    self.last_percentage_report = 0\n",
        "    \n",
        "  def on_epoch_end(self, batch, logs={}):\n",
        "    self.current_epoch += 1\n",
        "    training_percentage = int(self.current_epoch / self.num_epochs * 100)\n",
        "    \n",
        "    if training_percentage - self.last_percentage_report >= self.step:\n",
        "      print('Training ' + str(\n",
        "          training_percentage) + '% complete. Training loss: ' + str(\n",
        "              logs.get('loss')) + ' | Validation loss: ' + str(\n",
        "                  logs.get('val_loss')))\n",
        "      self.last_percentage_report = training_percentage"
      ],
      "execution_count": 0,
      "outputs": []
    },
    {
      "cell_type": "code",
      "metadata": {
        "id": "g-gHfS4qHi4M",
        "colab_type": "code",
        "colab": {}
      },
      "source": [
        "reduce_lr_callback = keras.callbacks.ReduceLROnPlateau(\n",
        "    monitor='val_loss',\n",
        "    factor=0.5,\n",
        "    patience=10,\n",
        "    verbose=1,\n",
        "    mode='auto',\n",
        "    min_delta=0.0001,\n",
        "    cooldown=0,\n",
        "    min_lr=0\n",
        ")"
      ],
      "execution_count": 0,
      "outputs": []
    },
    {
      "cell_type": "markdown",
      "metadata": {
        "id": "4iXHwCIYH5qd",
        "colab_type": "text"
      },
      "source": [
        "### Start training!"
      ]
    },
    {
      "cell_type": "code",
      "metadata": {
        "id": "xeY34KV1H1YL",
        "colab_type": "code",
        "colab": {}
      },
      "source": [
        "EPOCHS = 100\n",
        "pl = ProgressLog(EPOCHS)"
      ],
      "execution_count": 0,
      "outputs": []
    },
    {
      "cell_type": "code",
      "metadata": {
        "id": "YIOZK6TMIAGc",
        "colab_type": "code",
        "colab": {
          "base_uri": "https://localhost:8080/",
          "height": 462
        },
        "outputId": "05026bf9-b2da-4f51-80bc-98755a663f19"
      },
      "source": [
        "history = model.fit(\n",
        "    data,\n",
        "    target,\n",
        "    epochs=EPOCHS,\n",
        "    validation_split=0.2,\n",
        "    verbose=0,\n",
        "    batch_size=32,\n",
        "    callbacks=[pl,reduce_lr_callback]\n",
        ")"
      ],
      "execution_count": 17,
      "outputs": [
        {
          "output_type": "stream",
          "text": [
            "WARNING:tensorflow:From /usr/local/lib/python3.6/dist-packages/tensorflow/python/ops/math_grad.py:1205: add_dispatch_support.<locals>.wrapper (from tensorflow.python.ops.array_ops) is deprecated and will be removed in a future version.\n",
            "Instructions for updating:\n",
            "Use tf.where in 2.0, which has the same broadcast rule as np.where\n",
            "Training 5% complete. Training loss: 4.644863576889038 | Validation loss: 4.345002346038818\n",
            "Training 10% complete. Training loss: 2.3823212385177612 | Validation loss: 2.371367790222168\n",
            "Training 15% complete. Training loss: 1.5314404339790344 | Validation loss: 1.5466568603515625\n",
            "Training 20% complete. Training loss: 1.0307740408182144 | Validation loss: 1.0622038192749024\n",
            "Training 25% complete. Training loss: 0.72419804251194 | Validation loss: 0.7385922660827636\n",
            "Training 30% complete. Training loss: 0.5416432018876076 | Validation loss: 0.5480868825912476\n",
            "Training 35% complete. Training loss: 0.4289468449354172 | Validation loss: 0.46147021842002867\n",
            "Training 40% complete. Training loss: 0.36205285900831224 | Validation loss: 0.3597484440803528\n",
            "Training 45% complete. Training loss: 0.31341855275630953 | Validation loss: 0.32822899091243746\n",
            "Training 50% complete. Training loss: 0.30340600103139875 | Validation loss: 0.395784254193306\n",
            "Training 55% complete. Training loss: 0.24116207951307297 | Validation loss: 0.23313179755210878\n",
            "Training 60% complete. Training loss: 0.26144763338565824 | Validation loss: 0.21846067821979523\n",
            "Training 65% complete. Training loss: 0.2055758615732193 | Validation loss: 0.25887830889225005\n",
            "Training 70% complete. Training loss: 0.20824153961241246 | Validation loss: 0.20897583472728729\n",
            "Training 75% complete. Training loss: 0.18332556019723414 | Validation loss: 0.1736479219198227\n",
            "Training 80% complete. Training loss: 0.19430539870262145 | Validation loss: 0.19021658712625503\n",
            "Training 85% complete. Training loss: 0.19620166221261023 | Validation loss: 0.18383803820610045\n",
            "Training 90% complete. Training loss: 0.18604120498895646 | Validation loss: 0.19639033633470535\n",
            "\n",
            "Epoch 00091: ReduceLROnPlateau reducing learning rate to 0.0005000000237487257.\n",
            "Training 95% complete. Training loss: 0.09701524236053229 | Validation loss: 0.11577904495596886\n",
            "Training 100% complete. Training loss: 0.10657934608310461 | Validation loss: 0.13711745548248291\n"
          ],
          "name": "stdout"
        }
      ]
    },
    {
      "cell_type": "markdown",
      "metadata": {
        "id": "OjL6VnobI6OT",
        "colab_type": "text"
      },
      "source": [
        "### Results"
      ]
    },
    {
      "cell_type": "code",
      "metadata": {
        "id": "5q_o0o_sIK3W",
        "colab_type": "code",
        "colab": {
          "base_uri": "https://localhost:8080/",
          "height": 283
        },
        "outputId": "8e6090f8-7c31-42f2-dd18-20e406d68b6a"
      },
      "source": [
        "plt.plot(history.history['loss'])\n",
        "plt.plot(history.history['val_loss'])\n",
        "plt.ylim([0,1])\n",
        "plt.legend(['loss', 'val_loss'], loc='upper left')\n",
        "plt.xlabel('Train epoch')\n",
        "_ = plt.ylabel('Error [Mean Square Distance]')\n"
      ],
      "execution_count": 18,
      "outputs": [
        {
          "output_type": "display_data",
          "data": {
            "image/png": "[encoded data removed]",
            "text/plain": [
              "<Figure size 432x288 with 1 Axes>"
            ]
          },
          "metadata": {
            "tags": []
          }
        }
      ]
    },
    {
      "cell_type": "markdown",
      "metadata": {
        "id": "6SV47ChWKetN",
        "colab_type": "text"
      },
      "source": [
        "## Applying Model"
      ]
    },
    {
      "cell_type": "markdown",
      "metadata": {
        "id": "zk2C8LB1KnAk",
        "colab_type": "text"
      },
      "source": [
        "### Applying a quaternion and a translation"
      ]
    },
    {
      "cell_type": "code",
      "metadata": {
        "id": "x2P8FxSLKsqd",
        "colab_type": "code",
        "colab": {}
      },
      "source": [
        "# Defines the loss function to be optimized.\n",
        "def transform_points(target_points, quaternion_variable, translation_variable):\n",
        "  return quaternion.rotate(target_points,\n",
        "                           quaternion_variable) + translation_variable"
      ],
      "execution_count": 0,
      "outputs": []
    },
    {
      "cell_type": "code",
      "metadata": {
        "id": "2v-WHFCAJyOw",
        "colab_type": "code",
        "colab": {}
      },
      "source": [
        "class Viewer(object):\n",
        "\n",
        "  def __init__(self, my_vertices):\n",
        "    my_vertices = np.asarray(my_vertices)\n",
        "    context = threejs_visualization.build_context()\n",
        "    light1 = context.THREE.PointLight.new_object(0x808080)\n",
        "    light1.position.set(10., 10., 10.)\n",
        "    light2 = context.THREE.AmbientLight.new_object(0x808080)\n",
        "    lights = (light1, light2)\n",
        "\n",
        "    material = context.THREE.MeshLambertMaterial.new_object({\n",
        "        'color': 0xfffacd,\n",
        "    })\n",
        "\n",
        "    material_deformed = context.THREE.MeshLambertMaterial.new_object({\n",
        "        'color': 0xf0fff0,\n",
        "    })\n",
        "\n",
        "    camera = threejs_visualization.build_perspective_camera(\n",
        "        field_of_view=30, position=(10.0, 10.0, 10.0))\n",
        "\n",
        "    mesh = {'vertices': vertices, 'faces': faces, 'material': material}\n",
        "    transformed_mesh = {\n",
        "        'vertices': my_vertices,\n",
        "        'faces': faces,\n",
        "        'material': material_deformed\n",
        "    }\n",
        "    geometries = threejs_visualization.triangular_mesh_renderer(\n",
        "        [mesh, transformed_mesh],\n",
        "        lights=lights,\n",
        "        camera=camera,\n",
        "        width=400,\n",
        "        height=400)\n",
        "\n",
        "    self.geometries = geometries\n",
        "\n",
        "  def update(self, transformed_points):\n",
        "    self.geometries[1].getAttribute('position').copyArray(\n",
        "        transformed_points.numpy().ravel().tolist())\n",
        "    self.geometries[1].getAttribute('position').needsUpdate = True"
      ],
      "execution_count": 0,
      "outputs": []
    },
    {
      "cell_type": "code",
      "metadata": {
        "id": "80PDYcLpJ7UQ",
        "colab_type": "code",
        "colab": {}
      },
      "source": [
        "def get_random_transform():\n",
        "  # Forms a random translation\n",
        "  with tf.name_scope('translation_variable'):\n",
        "    random_translation = tf.Variable(\n",
        "        np.random.uniform(-2.0, 2.0, (3,)), dtype=tf.float32)\n",
        "\n",
        "  # Forms a random quaternion\n",
        "  hi = np.pi\n",
        "  lo = -hi\n",
        "  random_angles = np.random.uniform(lo, hi, (3,)).astype(np.float32)\n",
        "  with tf.name_scope('rotation_variable'):\n",
        "    random_quaternion = tf.Variable(quaternion.from_euler(random_angles))\n",
        "\n",
        "  return random_quaternion, random_translation"
      ],
      "execution_count": 0,
      "outputs": []
    },
    {
      "cell_type": "markdown",
      "metadata": {
        "id": "GTJ0Qt5SK58q",
        "colab_type": "text"
      },
      "source": [
        "### View initial orientation"
      ]
    },
    {
      "cell_type": "code",
      "metadata": {
        "id": "2yzSLulhJQSo",
        "colab_type": "code",
        "colab": {
          "base_uri": "https://localhost:8080/",
          "height": 421
        },
        "outputId": "646c99d8-3b1f-4cdc-802f-c28c672402e0"
      },
      "source": [
        "random_quaternion, random_translation = get_random_transform()\n",
        "\n",
        "initial_orientation = transform_points(vertices, random_quaternion,\n",
        "                                       random_translation).numpy()\n",
        "viewer = Viewer(initial_orientation)"
      ],
      "execution_count": 35,
      "outputs": [
        {
          "output_type": "display_data",
          "data": {
            "text/html": [
              "<script src='https://www.gstatic.com/external_hosted/threejs-r98/three.min.js'></script>"
            ],
            "text/plain": [
              "<IPython.core.display.HTML object>"
            ]
          },
          "metadata": {
            "tags": []
          }
        },
        {
          "output_type": "display_data",
          "data": {
            "text/html": [
              "<script src='https://www.gstatic.com/external_hosted/threejs-r98/examples/js/controls/OrbitControls.js'></script>"
            ],
            "text/plain": [
              "<IPython.core.display.HTML object>"
            ]
          },
          "metadata": {
            "tags": []
          }
        },
        {
          "output_type": "display_data",
          "data": {
            "application/javascript": [
              "window[\"e045e6de-d12f-11e9-9ccb-0242ac1c0002\"] = new THREE.PointLight(8421504);\n",
              "//# sourceURL=js_5e30e60f10"
            ],
            "text/plain": [
              "<IPython.core.display.Javascript object>"
            ]
          },
          "metadata": {
            "tags": []
          }
        },
        {
          "output_type": "display_data",
          "data": {
            "application/javascript": [
              "window[\"e0468508-d12f-11e9-9ccb-0242ac1c0002\"] = window[\"e045e6de-d12f-11e9-9ccb-0242ac1c0002\"].position.set(10.0, 10.0, 10.0);\n",
              "//# sourceURL=js_7d7c3098db"
            ],
            "text/plain": [
              "<IPython.core.display.Javascript object>"
            ]
          },
          "metadata": {
            "tags": []
          }
        },
        {
          "output_type": "display_data",
          "data": {
            "application/javascript": [
              "window[\"e04703ca-d12f-11e9-9ccb-0242ac1c0002\"] = new THREE.AmbientLight(8421504);\n",
              "//# sourceURL=js_f960733842"
            ],
            "text/plain": [
              "<IPython.core.display.Javascript object>"
            ]
          },
          "metadata": {
            "tags": []
          }
        },
        {
          "output_type": "display_data",
          "data": {
            "application/javascript": [
              "window[\"e047b162-d12f-11e9-9ccb-0242ac1c0002\"] = new THREE.MeshLambertMaterial({\"color\": 16775885});\n",
              "//# sourceURL=js_7a1e42d2c8"
            ],
            "text/plain": [
              "<IPython.core.display.Javascript object>"
            ]
          },
          "metadata": {
            "tags": []
          }
        },
        {
          "output_type": "display_data",
          "data": {
            "application/javascript": [
              "window[\"e0485158-d12f-11e9-9ccb-0242ac1c0002\"] = new THREE.MeshLambertMaterial({\"color\": 15794160});\n",
              "//# sourceURL=js_5551f09584"
            ],
            "text/plain": [
              "<IPython.core.display.Javascript object>"
            ]
          },
          "metadata": {
            "tags": []
          }
        },
        {
          "output_type": "display_data",
          "data": {
            "text/html": [
              "<script src='https://www.gstatic.com/external_hosted/threejs-r98/three.min.js'></script>"
            ],
            "text/plain": [
              "<IPython.core.display.HTML object>"
            ]
          },
          "metadata": {
            "tags": []
          }
        },
        {
          "output_type": "display_data",
          "data": {
            "text/html": [
              "<script src='https://www.gstatic.com/external_hosted/threejs-r98/examples/js/controls/OrbitControls.js'></script>"
            ],
            "text/plain": [
              "<IPython.core.display.HTML object>"
            ]
          },
          "metadata": {
            "tags": []
          }
        },
        {
          "output_type": "display_data",
          "data": {
            "application/javascript": [
              "window[\"e0494dec-d12f-11e9-9ccb-0242ac1c0002\"] = new THREE.PerspectiveCamera(30, 1.0, 0.01, 1000.0);\n",
              "//# sourceURL=js_d6508f1e07"
            ],
            "text/plain": [
              "<IPython.core.display.Javascript object>"
            ]
          },
          "metadata": {
            "tags": []
          }
        },
        {
          "output_type": "display_data",
          "data": {
            "application/javascript": [
              "window[\"e04a1d6c-d12f-11e9-9ccb-0242ac1c0002\"] = window[\"e0494dec-d12f-11e9-9ccb-0242ac1c0002\"].position.set(10.0, 10.0, 10.0);\n",
              "//# sourceURL=js_a66874aa91"
            ],
            "text/plain": [
              "<IPython.core.display.Javascript object>"
            ]
          },
          "metadata": {
            "tags": []
          }
        },
        {
          "output_type": "display_data",
          "data": {
            "application/javascript": [
              "window[\"e04af21e-d12f-11e9-9ccb-0242ac1c0002\"] = new THREE.OrbitControls(window[\"e0494dec-d12f-11e9-9ccb-0242ac1c0002\"]);\n",
              "//# sourceURL=js_35537234f4"
            ],
            "text/plain": [
              "<IPython.core.display.Javascript object>"
            ]
          },
          "metadata": {
            "tags": []
          }
        },
        {
          "output_type": "display_data",
          "data": {
            "application/javascript": [
              "window[\"e04af21e-d12f-11e9-9ccb-0242ac1c0002\"].enableZoom = false;\n",
              "//# sourceURL=js_58928cb8c2"
            ],
            "text/plain": [
              "<IPython.core.display.Javascript object>"
            ]
          },
          "metadata": {
            "tags": []
          }
        },
        {
          "output_type": "display_data",
          "data": {
            "text/html": [
              "<script src='https://www.gstatic.com/external_hosted/threejs-r98/three.min.js'></script>"
            ],
            "text/plain": [
              "<IPython.core.display.HTML object>"
            ]
          },
          "metadata": {
            "tags": []
          }
        },
        {
          "output_type": "display_data",
          "data": {
            "text/html": [
              "<script src='https://www.gstatic.com/external_hosted/threejs-r98/examples/js/controls/OrbitControls.js'></script>"
            ],
            "text/plain": [
              "<IPython.core.display.HTML object>"
            ]
          },
          "metadata": {
            "tags": []
          }
        },
        {
          "output_type": "display_data",
          "data": {
            "application/javascript": [
              "window[\"e04c3098-d12f-11e9-9ccb-0242ac1c0002\"] = new THREE.WebGLRenderer({\"antialias\": true});\n",
              "//# sourceURL=js_e9ba3d1e37"
            ],
            "text/plain": [
              "<IPython.core.display.Javascript object>"
            ]
          },
          "metadata": {
            "tags": []
          }
        },
        {
          "output_type": "display_data",
          "data": {
            "application/javascript": [
              "window[\"e04c8d40-d12f-11e9-9ccb-0242ac1c0002\"] = window[\"e04c3098-d12f-11e9-9ccb-0242ac1c0002\"].setSize(400, 400);\n",
              "//# sourceURL=js_3546988245"
            ],
            "text/plain": [
              "<IPython.core.display.Javascript object>"
            ]
          },
          "metadata": {
            "tags": []
          }
        },
        {
          "output_type": "display_data",
          "data": {
            "application/javascript": [
              "window[\"e04ce876-d12f-11e9-9ccb-0242ac1c0002\"] = new THREE.Color(\"rgb(0, 0, 0)\");\n",
              "//# sourceURL=js_79c9ae7e9c"
            ],
            "text/plain": [
              "<IPython.core.display.Javascript object>"
            ]
          },
          "metadata": {
            "tags": []
          }
        },
        {
          "output_type": "display_data",
          "data": {
            "application/javascript": [
              "window[\"e04d3d26-d12f-11e9-9ccb-0242ac1c0002\"] = window[\"e04c3098-d12f-11e9-9ccb-0242ac1c0002\"].setClearColor(window[\"e04ce876-d12f-11e9-9ccb-0242ac1c0002\"]);\n",
              "//# sourceURL=js_80e66b511b"
            ],
            "text/plain": [
              "<IPython.core.display.Javascript object>"
            ]
          },
          "metadata": {
            "tags": []
          }
        },
        {
          "output_type": "display_data",
          "data": {
            "application/javascript": [
              "window[\"e04d9078-d12f-11e9-9ccb-0242ac1c0002\"] = window[\"e04c3098-d12f-11e9-9ccb-0242ac1c0002\"].clear();\n",
              "//# sourceURL=js_0f1a47853e"
            ],
            "text/plain": [
              "<IPython.core.display.Javascript object>"
            ]
          },
          "metadata": {
            "tags": []
          }
        },
        {
          "output_type": "display_data",
          "data": {
            "application/javascript": [
              "window[\"e04ded52-d12f-11e9-9ccb-0242ac1c0002\"] = document.body.appendChild(window[\"e04c3098-d12f-11e9-9ccb-0242ac1c0002\"].domElement);\n",
              "//# sourceURL=js_9c6432df70"
            ],
            "text/plain": [
              "<IPython.core.display.Javascript object>"
            ]
          },
          "metadata": {
            "tags": []
          }
        },
        {
          "output_type": "display_data",
          "data": {
            "application/javascript": [
              "window[\"e04e42d4-d12f-11e9-9ccb-0242ac1c0002\"] = new THREE.Scene();\n",
              "//# sourceURL=js_1ee0331a17"
            ],
            "text/plain": [
              "<IPython.core.display.Javascript object>"
            ]
          },
          "metadata": {
            "tags": []
          }
        },
        {
          "output_type": "display_data",
          "data": {
            "application/javascript": [
              "window[\"e04e955e-d12f-11e9-9ccb-0242ac1c0002\"] = window[\"e04e42d4-d12f-11e9-9ccb-0242ac1c0002\"].add(window[\"e045e6de-d12f-11e9-9ccb-0242ac1c0002\"]);\n",
              "//# sourceURL=js_e735ebb6fc"
            ],
            "text/plain": [
              "<IPython.core.display.Javascript object>"
            ]
          },
          "metadata": {
            "tags": []
          }
        },
        {
          "output_type": "display_data",
          "data": {
            "application/javascript": [
              "window[\"e04ef08a-d12f-11e9-9ccb-0242ac1c0002\"] = window[\"e04e42d4-d12f-11e9-9ccb-0242ac1c0002\"].add(window[\"e04703ca-d12f-11e9-9ccb-0242ac1c0002\"]);\n",
              "//# sourceURL=js_f8206b6c47"
            ],
            "text/plain": [
              "<IPython.core.display.Javascript object>"
            ]
          },
          "metadata": {
            "tags": []
          }
        },
        {
          "output_type": "display_data",
          "data": {
            "application/javascript": [
              "window[\"e04f4a3a-d12f-11e9-9ccb-0242ac1c0002\"] = new THREE.MeshLambertMaterial({\"color\": 8421504});\n",
              "//# sourceURL=js_10517cd6cb"
            ],
            "text/plain": [
              "<IPython.core.display.Javascript object>"
            ]
          },
          "metadata": {
            "tags": []
          }
        },
        {
          "output_type": "display_data",
          "data": {
            "application/javascript": [
              "window[\"e04f4a3a-d12f-11e9-9ccb-0242ac1c0002\"][\"vertexColors\"] = THREE.NoColors;\n",
              "//# sourceURL=js_95bc30128e"
            ],
            "text/plain": [
              "<IPython.core.display.Javascript object>"
            ]
          },
          "metadata": {
            "tags": []
          }
        },
        {
          "output_type": "display_data",
          "data": {
            "application/javascript": [
              "window[\"e0500a2e-d12f-11e9-9ccb-0242ac1c0002\"] = new Float32Array([1.0, -1.0, 2.0, 1.0, -2.0, 2.0, 1.0, -2.0, -2.0, 1.0, -1.0, -2.0, 1.0, -1.0, -1.0, 1.0, 1.0, -1.0, 1.0, 1.0, -2.0, 1.0, 2.0, -2.0, 1.0, 2.0, 1.0, 1.0, 1.0, 1.0, 2.0, -1.0, 2.0, 2.0, -2.0, 2.0, 2.0, -2.0, -2.0, 2.0, -1.0, -2.0, 2.0, -1.0, -1.0, 2.0, 1.0, -1.0, 2.0, 1.0, -2.0, 2.0, 2.0, -2.0, 2.0, 2.0, 1.0, 2.0, 1.0, 1.0, -1.0, -2.0, 2.0, -1.0, -2.0, 1.0, -1.0, 2.0, 1.0, -1.0, 2.0, 2.0, -1.0, 1.0, 1.0, -1.0, 1.0, -2.0, -1.0, 2.0, -2.0, -2.0, -2.0, 2.0, -2.0, -2.0, 1.0, -2.0, 2.0, 1.0, -2.0, 2.0, 2.0, -2.0, 1.0, 1.0, -2.0, 1.0, -2.0, -2.0, 2.0, -2.0, -1.0, -1.0, 2.0, -1.0, -1.0, 1.0, 1.0, -1.0, 1.0, 1.0, -2.0, 1.0]);\n",
              "//# sourceURL=js_881b5f26d2"
            ],
            "text/plain": [
              "<IPython.core.display.Javascript object>"
            ]
          },
          "metadata": {
            "tags": []
          }
        },
        {
          "output_type": "display_data",
          "data": {
            "application/javascript": [
              "window[\"e0506488-d12f-11e9-9ccb-0242ac1c0002\"] = new Uint32Array([2, 1, 0, 3, 2, 0, 3, 4, 6, 5, 6, 4, 7, 6, 8, 9, 8, 6, 10, 11, 12, 12, 13, 10, 14, 13, 16, 16, 15, 14, 16, 17, 18, 18, 19, 16, 0, 1, 10, 1, 11, 10, 0, 14, 4, 14, 0, 10, 1, 2, 12, 1, 12, 11, 4, 14, 5, 5, 14, 15, 5, 19, 9, 19, 5, 15, 9, 19, 18, 18, 8, 9, 8, 18, 17, 17, 7, 8, 7, 12, 2, 12, 7, 17, 20, 21, 22, 22, 23, 20, 22, 24, 25, 26, 22, 25, 28, 27, 29, 30, 29, 27, 31, 29, 32, 29, 33, 32, 20, 28, 21, 28, 20, 27, 20, 30, 27, 20, 23, 30, 23, 33, 30, 33, 23, 26, 26, 25, 33, 25, 32, 33, 25, 24, 32, 24, 31, 32, 24, 21, 31, 21, 28, 31, 1, 0, 20, 20, 0, 34, 0, 35, 34, 36, 35, 0, 36, 37, 21, 35, 36, 21, 1, 21, 37, 20, 21, 1]);\n",
              "//# sourceURL=js_b2b88e175f"
            ],
            "text/plain": [
              "<IPython.core.display.Javascript object>"
            ]
          },
          "metadata": {
            "tags": []
          }
        },
        {
          "output_type": "display_data",
          "data": {
            "application/javascript": [
              "window[\"e050b406-d12f-11e9-9ccb-0242ac1c0002\"] = new THREE.BufferGeometry();\n",
              "//# sourceURL=js_b1d4f88666"
            ],
            "text/plain": [
              "<IPython.core.display.Javascript object>"
            ]
          },
          "metadata": {
            "tags": []
          }
        },
        {
          "output_type": "display_data",
          "data": {
            "application/javascript": [
              "window[\"e0510514-d12f-11e9-9ccb-0242ac1c0002\"] = new THREE.BufferAttribute(window[\"e0500a2e-d12f-11e9-9ccb-0242ac1c0002\"], 3);\n",
              "//# sourceURL=js_60c1749c20"
            ],
            "text/plain": [
              "<IPython.core.display.Javascript object>"
            ]
          },
          "metadata": {
            "tags": []
          }
        },
        {
          "output_type": "display_data",
          "data": {
            "application/javascript": [
              "window[\"e0515d8e-d12f-11e9-9ccb-0242ac1c0002\"] = window[\"e050b406-d12f-11e9-9ccb-0242ac1c0002\"].addAttribute(\"position\", window[\"e0510514-d12f-11e9-9ccb-0242ac1c0002\"]);\n",
              "//# sourceURL=js_56c8e138cf"
            ],
            "text/plain": [
              "<IPython.core.display.Javascript object>"
            ]
          },
          "metadata": {
            "tags": []
          }
        },
        {
          "output_type": "display_data",
          "data": {
            "application/javascript": [
              "window[\"e051ab7c-d12f-11e9-9ccb-0242ac1c0002\"] = new THREE.BufferAttribute(window[\"e0506488-d12f-11e9-9ccb-0242ac1c0002\"], 1);\n",
              "//# sourceURL=js_2d68865f7a"
            ],
            "text/plain": [
              "<IPython.core.display.Javascript object>"
            ]
          },
          "metadata": {
            "tags": []
          }
        },
        {
          "output_type": "display_data",
          "data": {
            "application/javascript": [
              "window[\"e051f97e-d12f-11e9-9ccb-0242ac1c0002\"] = window[\"e050b406-d12f-11e9-9ccb-0242ac1c0002\"].setIndex(window[\"e051ab7c-d12f-11e9-9ccb-0242ac1c0002\"]);\n",
              "//# sourceURL=js_98a5e96353"
            ],
            "text/plain": [
              "<IPython.core.display.Javascript object>"
            ]
          },
          "metadata": {
            "tags": []
          }
        },
        {
          "output_type": "display_data",
          "data": {
            "application/javascript": [
              "window[\"e052546e-d12f-11e9-9ccb-0242ac1c0002\"] = window[\"e050b406-d12f-11e9-9ccb-0242ac1c0002\"].computeVertexNormals();\n",
              "//# sourceURL=js_116e040f41"
            ],
            "text/plain": [
              "<IPython.core.display.Javascript object>"
            ]
          },
          "metadata": {
            "tags": []
          }
        },
        {
          "output_type": "display_data",
          "data": {
            "application/javascript": [
              "window[\"e052a536-d12f-11e9-9ccb-0242ac1c0002\"] = new THREE.Mesh(window[\"e050b406-d12f-11e9-9ccb-0242ac1c0002\"], window[\"e047b162-d12f-11e9-9ccb-0242ac1c0002\"]);\n",
              "//# sourceURL=js_6a35c119b5"
            ],
            "text/plain": [
              "<IPython.core.display.Javascript object>"
            ]
          },
          "metadata": {
            "tags": []
          }
        },
        {
          "output_type": "display_data",
          "data": {
            "application/javascript": [
              "window[\"e052fb44-d12f-11e9-9ccb-0242ac1c0002\"] = window[\"e04e42d4-d12f-11e9-9ccb-0242ac1c0002\"].add(window[\"e052a536-d12f-11e9-9ccb-0242ac1c0002\"]);\n",
              "//# sourceURL=js_61761b9cb2"
            ],
            "text/plain": [
              "<IPython.core.display.Javascript object>"
            ]
          },
          "metadata": {
            "tags": []
          }
        },
        {
          "output_type": "display_data",
          "data": {
            "application/javascript": [
              "window[\"e04f4a3a-d12f-11e9-9ccb-0242ac1c0002\"][\"vertexColors\"] = THREE.NoColors;\n",
              "//# sourceURL=js_95bc30128e"
            ],
            "text/plain": [
              "<IPython.core.display.Javascript object>"
            ]
          },
          "metadata": {
            "tags": []
          }
        },
        {
          "output_type": "display_data",
          "data": {
            "application/javascript": [
              "window[\"e053a148-d12f-11e9-9ccb-0242ac1c0002\"] = new Float32Array([3.2736711502075195, -0.8773122429847717, 2.674184799194336, 3.1379940509796143, -0.024205446243286133, 3.1779708862304688, -0.8248095512390137, -0.4706385135650635, 2.866713047027588, -0.6891322135925293, -1.3237452507019043, 2.362926959991455, 0.30156850814819336, -1.21213698387146, 2.4407413005828857, 0.5729231238365173, -2.9183502197265625, 1.4331691265106201, -0.4177776575088501, -3.029958724975586, 1.3553547859191895, -0.2821004390716553, -3.8830652236938477, 0.8515686988830566, 2.690002202987671, -3.5482404232025146, 1.0850121974945068, 2.5543248653411865, -2.695133686065674, 1.5887982845306396, 3.2635138034820557, -1.3869712352752686, 3.534501075744629, 3.1278367042541504, -0.5338644981384277, 4.038287162780762, -0.8349671363830566, -0.9802974462509155, 3.727029323577881, -0.6992897987365723, -1.8334041833877563, 3.223243236541748, 0.2914111614227295, -1.721795916557312, 3.301057815551758, 0.5627658367156982, -3.428009510040283, 2.293485641479492, -0.4279351234436035, -3.5396175384521484, 2.2156710624694824, -0.2922579050064087, -4.39272403717041, 1.7118849754333496, 2.679844856262207, -4.057899475097656, 1.945328712463379, 2.5441675186157227, -3.2047929763793945, 2.4491147994995117, 3.158308744430542, 0.995112419128418, 1.4573380947113037, 2.1676077842712402, 0.8835043907165527, 1.379523515701294, 2.7103168964385986, -2.5289225578308105, -0.6356205940246582, 3.7010178565979004, -2.417314291000366, -0.557806134223938, 2.5746397972106934, -1.6758158206939697, -0.1318345069885254, -0.39746296405792236, -2.0106406211853027, -0.3652780055999756, -0.26178574562072754, -2.8637473583221436, -0.869064211845398, 3.168466091156006, 1.5047712326049805, 0.5970218181610107, 2.177765369415283, 1.3931632041931152, 0.519207239151001, 2.7204742431640625, -2.019263505935669, -1.4959369897842407, 3.7111754417419434, -1.9076553583145142, -1.418122410774231, 2.5847971439361572, -1.1661568880081177, -0.9921509027481079, -0.38730549812316895, -1.5009815692901611, -1.225594401359558, -0.25162839889526367, -2.354088306427002, -1.729380488395691, 3.2939858436584473, 0.1420058012008667, 0.9535520672798157, 2.3032851219177246, 0.030397415161132812, 0.8757376074790955, 2.282970428466797, -0.9889204502105713, 2.596370220184326, 2.1472930908203125, -0.13581359386444092, 3.100156307220459]);\n",
              "//# sourceURL=js_e98b8ce671"
            ],
            "text/plain": [
              "<IPython.core.display.Javascript object>"
            ]
          },
          "metadata": {
            "tags": []
          }
        },
        {
          "output_type": "display_data",
          "data": {
            "application/javascript": [
              "window[\"e053f35a-d12f-11e9-9ccb-0242ac1c0002\"] = new Uint32Array([2, 1, 0, 3, 2, 0, 3, 4, 6, 5, 6, 4, 7, 6, 8, 9, 8, 6, 10, 11, 12, 12, 13, 10, 14, 13, 16, 16, 15, 14, 16, 17, 18, 18, 19, 16, 0, 1, 10, 1, 11, 10, 0, 14, 4, 14, 0, 10, 1, 2, 12, 1, 12, 11, 4, 14, 5, 5, 14, 15, 5, 19, 9, 19, 5, 15, 9, 19, 18, 18, 8, 9, 8, 18, 17, 17, 7, 8, 7, 12, 2, 12, 7, 17, 20, 21, 22, 22, 23, 20, 22, 24, 25, 26, 22, 25, 28, 27, 29, 30, 29, 27, 31, 29, 32, 29, 33, 32, 20, 28, 21, 28, 20, 27, 20, 30, 27, 20, 23, 30, 23, 33, 30, 33, 23, 26, 26, 25, 33, 25, 32, 33, 25, 24, 32, 24, 31, 32, 24, 21, 31, 21, 28, 31, 1, 0, 20, 20, 0, 34, 0, 35, 34, 36, 35, 0, 36, 37, 21, 35, 36, 21, 1, 21, 37, 20, 21, 1]);\n",
              "//# sourceURL=js_96674991b1"
            ],
            "text/plain": [
              "<IPython.core.display.Javascript object>"
            ]
          },
          "metadata": {
            "tags": []
          }
        },
        {
          "output_type": "display_data",
          "data": {
            "application/javascript": [
              "window[\"e0544094-d12f-11e9-9ccb-0242ac1c0002\"] = new THREE.BufferGeometry();\n",
              "//# sourceURL=js_848c848e82"
            ],
            "text/plain": [
              "<IPython.core.display.Javascript object>"
            ]
          },
          "metadata": {
            "tags": []
          }
        },
        {
          "output_type": "display_data",
          "data": {
            "application/javascript": [
              "window[\"e05490a8-d12f-11e9-9ccb-0242ac1c0002\"] = new THREE.BufferAttribute(window[\"e053a148-d12f-11e9-9ccb-0242ac1c0002\"], 3);\n",
              "//# sourceURL=js_983c7ee41e"
            ],
            "text/plain": [
              "<IPython.core.display.Javascript object>"
            ]
          },
          "metadata": {
            "tags": []
          }
        },
        {
          "output_type": "display_data",
          "data": {
            "application/javascript": [
              "window[\"e054ea76-d12f-11e9-9ccb-0242ac1c0002\"] = window[\"e0544094-d12f-11e9-9ccb-0242ac1c0002\"].addAttribute(\"position\", window[\"e05490a8-d12f-11e9-9ccb-0242ac1c0002\"]);\n",
              "//# sourceURL=js_9c286c6099"
            ],
            "text/plain": [
              "<IPython.core.display.Javascript object>"
            ]
          },
          "metadata": {
            "tags": []
          }
        },
        {
          "output_type": "display_data",
          "data": {
            "application/javascript": [
              "window[\"e0553bca-d12f-11e9-9ccb-0242ac1c0002\"] = new THREE.BufferAttribute(window[\"e053f35a-d12f-11e9-9ccb-0242ac1c0002\"], 1);\n",
              "//# sourceURL=js_5b945f3872"
            ],
            "text/plain": [
              "<IPython.core.display.Javascript object>"
            ]
          },
          "metadata": {
            "tags": []
          }
        },
        {
          "output_type": "display_data",
          "data": {
            "application/javascript": [
              "window[\"e0558f80-d12f-11e9-9ccb-0242ac1c0002\"] = window[\"e0544094-d12f-11e9-9ccb-0242ac1c0002\"].setIndex(window[\"e0553bca-d12f-11e9-9ccb-0242ac1c0002\"]);\n",
              "//# sourceURL=js_495f9a56be"
            ],
            "text/plain": [
              "<IPython.core.display.Javascript object>"
            ]
          },
          "metadata": {
            "tags": []
          }
        },
        {
          "output_type": "display_data",
          "data": {
            "application/javascript": [
              "window[\"e055dbb6-d12f-11e9-9ccb-0242ac1c0002\"] = window[\"e0544094-d12f-11e9-9ccb-0242ac1c0002\"].computeVertexNormals();\n",
              "//# sourceURL=js_c49d304612"
            ],
            "text/plain": [
              "<IPython.core.display.Javascript object>"
            ]
          },
          "metadata": {
            "tags": []
          }
        },
        {
          "output_type": "display_data",
          "data": {
            "application/javascript": [
              "window[\"e056382c-d12f-11e9-9ccb-0242ac1c0002\"] = new THREE.Mesh(window[\"e0544094-d12f-11e9-9ccb-0242ac1c0002\"], window[\"e0485158-d12f-11e9-9ccb-0242ac1c0002\"]);\n",
              "//# sourceURL=js_29d30c154c"
            ],
            "text/plain": [
              "<IPython.core.display.Javascript object>"
            ]
          },
          "metadata": {
            "tags": []
          }
        },
        {
          "output_type": "display_data",
          "data": {
            "application/javascript": [
              "window[\"e0568778-d12f-11e9-9ccb-0242ac1c0002\"] = window[\"e04e42d4-d12f-11e9-9ccb-0242ac1c0002\"].add(window[\"e056382c-d12f-11e9-9ccb-0242ac1c0002\"]);\n",
              "//# sourceURL=js_d082a2efd9"
            ],
            "text/plain": [
              "<IPython.core.display.Javascript object>"
            ]
          },
          "metadata": {
            "tags": []
          }
        }
      ]
    },
    {
      "cell_type": "markdown",
      "metadata": {
        "id": "xks68pH9K9mV",
        "colab_type": "text"
      },
      "source": [
        "### View predicted orientation"
      ]
    },
    {
      "cell_type": "code",
      "metadata": {
        "id": "q3DlmyK6Kh4D",
        "colab_type": "code",
        "colab": {
          "base_uri": "https://localhost:8080/",
          "height": 421
        },
        "outputId": "11e7d6d5-5a07-4699-bf21-a34ae1d48c28"
      },
      "source": [
        "predicted_transformation = model.predict(initial_orientation[tf.newaxis, :, :])\n",
        "\n",
        "predicted_inverse_q = quaternion.inverse(predicted_transformation[0, 0:4])\n",
        "predicted_inverse_t = -predicted_transformation[0, 4:]\n",
        "\n",
        "predicted_aligned = quaternion.rotate(initial_orientation + predicted_inverse_t, predicted_inverse_q)\n",
        "\n",
        "viewer = Viewer(predicted_aligned)"
      ],
      "execution_count": 36,
      "outputs": [
        {
          "output_type": "display_data",
          "data": {
            "text/html": [
              "<script src='https://www.gstatic.com/external_hosted/threejs-r98/three.min.js'></script>"
            ],
            "text/plain": [
              "<IPython.core.display.HTML object>"
            ]
          },
          "metadata": {
            "tags": []
          }
        },
        {
          "output_type": "display_data",
          "data": {
            "text/html": [
              "<script src='https://www.gstatic.com/external_hosted/threejs-r98/examples/js/controls/OrbitControls.js'></script>"
            ],
            "text/plain": [
              "<IPython.core.display.HTML object>"
            ]
          },
          "metadata": {
            "tags": []
          }
        },
        {
          "output_type": "display_data",
          "data": {
            "application/javascript": [
              "window[\"e2a1dec4-d12f-11e9-9ccb-0242ac1c0002\"] = new THREE.PointLight(8421504);\n",
              "//# sourceURL=js_ae59af9b26"
            ],
            "text/plain": [
              "<IPython.core.display.Javascript object>"
            ]
          },
          "metadata": {
            "tags": []
          }
        },
        {
          "output_type": "display_data",
          "data": {
            "application/javascript": [
              "window[\"e2a231f8-d12f-11e9-9ccb-0242ac1c0002\"] = window[\"e2a1dec4-d12f-11e9-9ccb-0242ac1c0002\"].position.set(10.0, 10.0, 10.0);\n",
              "//# sourceURL=js_0b0fe75846"
            ],
            "text/plain": [
              "<IPython.core.display.Javascript object>"
            ]
          },
          "metadata": {
            "tags": []
          }
        },
        {
          "output_type": "display_data",
          "data": {
            "application/javascript": [
              "window[\"e2a28324-d12f-11e9-9ccb-0242ac1c0002\"] = new THREE.AmbientLight(8421504);\n",
              "//# sourceURL=js_66afef0e5c"
            ],
            "text/plain": [
              "<IPython.core.display.Javascript object>"
            ]
          },
          "metadata": {
            "tags": []
          }
        },
        {
          "output_type": "display_data",
          "data": {
            "application/javascript": [
              "window[\"e2a2e508-d12f-11e9-9ccb-0242ac1c0002\"] = new THREE.MeshLambertMaterial({\"color\": 16775885});\n",
              "//# sourceURL=js_9da2bc15fa"
            ],
            "text/plain": [
              "<IPython.core.display.Javascript object>"
            ]
          },
          "metadata": {
            "tags": []
          }
        },
        {
          "output_type": "display_data",
          "data": {
            "application/javascript": [
              "window[\"e2a33dfa-d12f-11e9-9ccb-0242ac1c0002\"] = new THREE.MeshLambertMaterial({\"color\": 15794160});\n",
              "//# sourceURL=js_d11bf2c6b7"
            ],
            "text/plain": [
              "<IPython.core.display.Javascript object>"
            ]
          },
          "metadata": {
            "tags": []
          }
        },
        {
          "output_type": "display_data",
          "data": {
            "text/html": [
              "<script src='https://www.gstatic.com/external_hosted/threejs-r98/three.min.js'></script>"
            ],
            "text/plain": [
              "<IPython.core.display.HTML object>"
            ]
          },
          "metadata": {
            "tags": []
          }
        },
        {
          "output_type": "display_data",
          "data": {
            "text/html": [
              "<script src='https://www.gstatic.com/external_hosted/threejs-r98/examples/js/controls/OrbitControls.js'></script>"
            ],
            "text/plain": [
              "<IPython.core.display.HTML object>"
            ]
          },
          "metadata": {
            "tags": []
          }
        },
        {
          "output_type": "display_data",
          "data": {
            "application/javascript": [
              "window[\"e2a43d22-d12f-11e9-9ccb-0242ac1c0002\"] = new THREE.PerspectiveCamera(30, 1.0, 0.01, 1000.0);\n",
              "//# sourceURL=js_84aec085d1"
            ],
            "text/plain": [
              "<IPython.core.display.Javascript object>"
            ]
          },
          "metadata": {
            "tags": []
          }
        },
        {
          "output_type": "display_data",
          "data": {
            "application/javascript": [
              "window[\"e2a49f10-d12f-11e9-9ccb-0242ac1c0002\"] = window[\"e2a43d22-d12f-11e9-9ccb-0242ac1c0002\"].position.set(10.0, 10.0, 10.0);\n",
              "//# sourceURL=js_af47115e90"
            ],
            "text/plain": [
              "<IPython.core.display.Javascript object>"
            ]
          },
          "metadata": {
            "tags": []
          }
        },
        {
          "output_type": "display_data",
          "data": {
            "application/javascript": [
              "window[\"e2a4f5fa-d12f-11e9-9ccb-0242ac1c0002\"] = new THREE.OrbitControls(window[\"e2a43d22-d12f-11e9-9ccb-0242ac1c0002\"]);\n",
              "//# sourceURL=js_10b293d6bd"
            ],
            "text/plain": [
              "<IPython.core.display.Javascript object>"
            ]
          },
          "metadata": {
            "tags": []
          }
        },
        {
          "output_type": "display_data",
          "data": {
            "application/javascript": [
              "window[\"e2a4f5fa-d12f-11e9-9ccb-0242ac1c0002\"].enableZoom = false;\n",
              "//# sourceURL=js_05983486cf"
            ],
            "text/plain": [
              "<IPython.core.display.Javascript object>"
            ]
          },
          "metadata": {
            "tags": []
          }
        },
        {
          "output_type": "display_data",
          "data": {
            "text/html": [
              "<script src='https://www.gstatic.com/external_hosted/threejs-r98/three.min.js'></script>"
            ],
            "text/plain": [
              "<IPython.core.display.HTML object>"
            ]
          },
          "metadata": {
            "tags": []
          }
        },
        {
          "output_type": "display_data",
          "data": {
            "text/html": [
              "<script src='https://www.gstatic.com/external_hosted/threejs-r98/examples/js/controls/OrbitControls.js'></script>"
            ],
            "text/plain": [
              "<IPython.core.display.HTML object>"
            ]
          },
          "metadata": {
            "tags": []
          }
        },
        {
          "output_type": "display_data",
          "data": {
            "application/javascript": [
              "window[\"e2a649aa-d12f-11e9-9ccb-0242ac1c0002\"] = new THREE.WebGLRenderer({\"antialias\": true});\n",
              "//# sourceURL=js_47ee84bcfb"
            ],
            "text/plain": [
              "<IPython.core.display.Javascript object>"
            ]
          },
          "metadata": {
            "tags": []
          }
        },
        {
          "output_type": "display_data",
          "data": {
            "application/javascript": [
              "window[\"e2a699a0-d12f-11e9-9ccb-0242ac1c0002\"] = window[\"e2a649aa-d12f-11e9-9ccb-0242ac1c0002\"].setSize(400, 400);\n",
              "//# sourceURL=js_1062c66735"
            ],
            "text/plain": [
              "<IPython.core.display.Javascript object>"
            ]
          },
          "metadata": {
            "tags": []
          }
        },
        {
          "output_type": "display_data",
          "data": {
            "application/javascript": [
              "window[\"e2a6f06c-d12f-11e9-9ccb-0242ac1c0002\"] = new THREE.Color(\"rgb(0, 0, 0)\");\n",
              "//# sourceURL=js_7ec8da14c3"
            ],
            "text/plain": [
              "<IPython.core.display.Javascript object>"
            ]
          },
          "metadata": {
            "tags": []
          }
        },
        {
          "output_type": "display_data",
          "data": {
            "application/javascript": [
              "window[\"e2a73fd6-d12f-11e9-9ccb-0242ac1c0002\"] = window[\"e2a649aa-d12f-11e9-9ccb-0242ac1c0002\"].setClearColor(window[\"e2a6f06c-d12f-11e9-9ccb-0242ac1c0002\"]);\n",
              "//# sourceURL=js_ea182a4f3d"
            ],
            "text/plain": [
              "<IPython.core.display.Javascript object>"
            ]
          },
          "metadata": {
            "tags": []
          }
        },
        {
          "output_type": "display_data",
          "data": {
            "application/javascript": [
              "window[\"e2a79dd2-d12f-11e9-9ccb-0242ac1c0002\"] = window[\"e2a649aa-d12f-11e9-9ccb-0242ac1c0002\"].clear();\n",
              "//# sourceURL=js_01cd2af551"
            ],
            "text/plain": [
              "<IPython.core.display.Javascript object>"
            ]
          },
          "metadata": {
            "tags": []
          }
        },
        {
          "output_type": "display_data",
          "data": {
            "application/javascript": [
              "window[\"e2a7e698-d12f-11e9-9ccb-0242ac1c0002\"] = document.body.appendChild(window[\"e2a649aa-d12f-11e9-9ccb-0242ac1c0002\"].domElement);\n",
              "//# sourceURL=js_b6e41ecb71"
            ],
            "text/plain": [
              "<IPython.core.display.Javascript object>"
            ]
          },
          "metadata": {
            "tags": []
          }
        },
        {
          "output_type": "display_data",
          "data": {
            "application/javascript": [
              "window[\"e2a839ea-d12f-11e9-9ccb-0242ac1c0002\"] = new THREE.Scene();\n",
              "//# sourceURL=js_5db0caba37"
            ],
            "text/plain": [
              "<IPython.core.display.Javascript object>"
            ]
          },
          "metadata": {
            "tags": []
          }
        },
        {
          "output_type": "display_data",
          "data": {
            "application/javascript": [
              "window[\"e2a89340-d12f-11e9-9ccb-0242ac1c0002\"] = window[\"e2a839ea-d12f-11e9-9ccb-0242ac1c0002\"].add(window[\"e2a1dec4-d12f-11e9-9ccb-0242ac1c0002\"]);\n",
              "//# sourceURL=js_0f076daa29"
            ],
            "text/plain": [
              "<IPython.core.display.Javascript object>"
            ]
          },
          "metadata": {
            "tags": []
          }
        },
        {
          "output_type": "display_data",
          "data": {
            "application/javascript": [
              "window[\"e2a8e1ec-d12f-11e9-9ccb-0242ac1c0002\"] = window[\"e2a839ea-d12f-11e9-9ccb-0242ac1c0002\"].add(window[\"e2a28324-d12f-11e9-9ccb-0242ac1c0002\"]);\n",
              "//# sourceURL=js_ef87a72a39"
            ],
            "text/plain": [
              "<IPython.core.display.Javascript object>"
            ]
          },
          "metadata": {
            "tags": []
          }
        },
        {
          "output_type": "display_data",
          "data": {
            "application/javascript": [
              "window[\"e2a93b06-d12f-11e9-9ccb-0242ac1c0002\"] = new THREE.MeshLambertMaterial({\"color\": 8421504});\n",
              "//# sourceURL=js_23594fbb50"
            ],
            "text/plain": [
              "<IPython.core.display.Javascript object>"
            ]
          },
          "metadata": {
            "tags": []
          }
        },
        {
          "output_type": "display_data",
          "data": {
            "application/javascript": [
              "window[\"e2a93b06-d12f-11e9-9ccb-0242ac1c0002\"][\"vertexColors\"] = THREE.NoColors;\n",
              "//# sourceURL=js_83ba860c31"
            ],
            "text/plain": [
              "<IPython.core.display.Javascript object>"
            ]
          },
          "metadata": {
            "tags": []
          }
        },
        {
          "output_type": "display_data",
          "data": {
            "application/javascript": [
              "window[\"e2a9e54c-d12f-11e9-9ccb-0242ac1c0002\"] = new Float32Array([1.0, -1.0, 2.0, 1.0, -2.0, 2.0, 1.0, -2.0, -2.0, 1.0, -1.0, -2.0, 1.0, -1.0, -1.0, 1.0, 1.0, -1.0, 1.0, 1.0, -2.0, 1.0, 2.0, -2.0, 1.0, 2.0, 1.0, 1.0, 1.0, 1.0, 2.0, -1.0, 2.0, 2.0, -2.0, 2.0, 2.0, -2.0, -2.0, 2.0, -1.0, -2.0, 2.0, -1.0, -1.0, 2.0, 1.0, -1.0, 2.0, 1.0, -2.0, 2.0, 2.0, -2.0, 2.0, 2.0, 1.0, 2.0, 1.0, 1.0, -1.0, -2.0, 2.0, -1.0, -2.0, 1.0, -1.0, 2.0, 1.0, -1.0, 2.0, 2.0, -1.0, 1.0, 1.0, -1.0, 1.0, -2.0, -1.0, 2.0, -2.0, -2.0, -2.0, 2.0, -2.0, -2.0, 1.0, -2.0, 2.0, 1.0, -2.0, 2.0, 2.0, -2.0, 1.0, 1.0, -2.0, 1.0, -2.0, -2.0, 2.0, -2.0, -1.0, -1.0, 2.0, -1.0, -1.0, 1.0, 1.0, -1.0, 1.0, 1.0, -2.0, 1.0]);\n",
              "//# sourceURL=js_61fc5954cc"
            ],
            "text/plain": [
              "<IPython.core.display.Javascript object>"
            ]
          },
          "metadata": {
            "tags": []
          }
        },
        {
          "output_type": "display_data",
          "data": {
            "application/javascript": [
              "window[\"e2aa44e2-d12f-11e9-9ccb-0242ac1c0002\"] = new Uint32Array([2, 1, 0, 3, 2, 0, 3, 4, 6, 5, 6, 4, 7, 6, 8, 9, 8, 6, 10, 11, 12, 12, 13, 10, 14, 13, 16, 16, 15, 14, 16, 17, 18, 18, 19, 16, 0, 1, 10, 1, 11, 10, 0, 14, 4, 14, 0, 10, 1, 2, 12, 1, 12, 11, 4, 14, 5, 5, 14, 15, 5, 19, 9, 19, 5, 15, 9, 19, 18, 18, 8, 9, 8, 18, 17, 17, 7, 8, 7, 12, 2, 12, 7, 17, 20, 21, 22, 22, 23, 20, 22, 24, 25, 26, 22, 25, 28, 27, 29, 30, 29, 27, 31, 29, 32, 29, 33, 32, 20, 28, 21, 28, 20, 27, 20, 30, 27, 20, 23, 30, 23, 33, 30, 33, 23, 26, 26, 25, 33, 25, 32, 33, 25, 24, 32, 24, 31, 32, 24, 21, 31, 21, 28, 31, 1, 0, 20, 20, 0, 34, 0, 35, 34, 36, 35, 0, 36, 37, 21, 35, 36, 21, 1, 21, 37, 20, 21, 1]);\n",
              "//# sourceURL=js_2b92a23fa2"
            ],
            "text/plain": [
              "<IPython.core.display.Javascript object>"
            ]
          },
          "metadata": {
            "tags": []
          }
        },
        {
          "output_type": "display_data",
          "data": {
            "application/javascript": [
              "window[\"e2aa93de-d12f-11e9-9ccb-0242ac1c0002\"] = new THREE.BufferGeometry();\n",
              "//# sourceURL=js_78f074b721"
            ],
            "text/plain": [
              "<IPython.core.display.Javascript object>"
            ]
          },
          "metadata": {
            "tags": []
          }
        },
        {
          "output_type": "display_data",
          "data": {
            "application/javascript": [
              "window[\"e2aae884-d12f-11e9-9ccb-0242ac1c0002\"] = new THREE.BufferAttribute(window[\"e2a9e54c-d12f-11e9-9ccb-0242ac1c0002\"], 3);\n",
              "//# sourceURL=js_340cdb2325"
            ],
            "text/plain": [
              "<IPython.core.display.Javascript object>"
            ]
          },
          "metadata": {
            "tags": []
          }
        },
        {
          "output_type": "display_data",
          "data": {
            "application/javascript": [
              "window[\"e2ab4608-d12f-11e9-9ccb-0242ac1c0002\"] = window[\"e2aa93de-d12f-11e9-9ccb-0242ac1c0002\"].addAttribute(\"position\", window[\"e2aae884-d12f-11e9-9ccb-0242ac1c0002\"]);\n",
              "//# sourceURL=js_4e5f6e6da5"
            ],
            "text/plain": [
              "<IPython.core.display.Javascript object>"
            ]
          },
          "metadata": {
            "tags": []
          }
        },
        {
          "output_type": "display_data",
          "data": {
            "application/javascript": [
              "window[\"e2aba4e0-d12f-11e9-9ccb-0242ac1c0002\"] = new THREE.BufferAttribute(window[\"e2aa44e2-d12f-11e9-9ccb-0242ac1c0002\"], 1);\n",
              "//# sourceURL=js_b2c177a57c"
            ],
            "text/plain": [
              "<IPython.core.display.Javascript object>"
            ]
          },
          "metadata": {
            "tags": []
          }
        },
        {
          "output_type": "display_data",
          "data": {
            "application/javascript": [
              "window[\"e2abf8fa-d12f-11e9-9ccb-0242ac1c0002\"] = window[\"e2aa93de-d12f-11e9-9ccb-0242ac1c0002\"].setIndex(window[\"e2aba4e0-d12f-11e9-9ccb-0242ac1c0002\"]);\n",
              "//# sourceURL=js_95e0d1f7e3"
            ],
            "text/plain": [
              "<IPython.core.display.Javascript object>"
            ]
          },
          "metadata": {
            "tags": []
          }
        },
        {
          "output_type": "display_data",
          "data": {
            "application/javascript": [
              "window[\"e2ac3d4c-d12f-11e9-9ccb-0242ac1c0002\"] = window[\"e2aa93de-d12f-11e9-9ccb-0242ac1c0002\"].computeVertexNormals();\n",
              "//# sourceURL=js_7a319c85e3"
            ],
            "text/plain": [
              "<IPython.core.display.Javascript object>"
            ]
          },
          "metadata": {
            "tags": []
          }
        },
        {
          "output_type": "display_data",
          "data": {
            "application/javascript": [
              "window[\"e2ac88b0-d12f-11e9-9ccb-0242ac1c0002\"] = new THREE.Mesh(window[\"e2aa93de-d12f-11e9-9ccb-0242ac1c0002\"], window[\"e2a2e508-d12f-11e9-9ccb-0242ac1c0002\"]);\n",
              "//# sourceURL=js_81015e4092"
            ],
            "text/plain": [
              "<IPython.core.display.Javascript object>"
            ]
          },
          "metadata": {
            "tags": []
          }
        },
        {
          "output_type": "display_data",
          "data": {
            "application/javascript": [
              "window[\"e2acc91a-d12f-11e9-9ccb-0242ac1c0002\"] = window[\"e2a839ea-d12f-11e9-9ccb-0242ac1c0002\"].add(window[\"e2ac88b0-d12f-11e9-9ccb-0242ac1c0002\"]);\n",
              "//# sourceURL=js_820adc1f14"
            ],
            "text/plain": [
              "<IPython.core.display.Javascript object>"
            ]
          },
          "metadata": {
            "tags": []
          }
        },
        {
          "output_type": "display_data",
          "data": {
            "application/javascript": [
              "window[\"e2a93b06-d12f-11e9-9ccb-0242ac1c0002\"][\"vertexColors\"] = THREE.NoColors;\n",
              "//# sourceURL=js_83ba860c31"
            ],
            "text/plain": [
              "<IPython.core.display.Javascript object>"
            ]
          },
          "metadata": {
            "tags": []
          }
        },
        {
          "output_type": "display_data",
          "data": {
            "application/javascript": [
              "window[\"e2ad6c44-d12f-11e9-9ccb-0242ac1c0002\"] = new Float32Array([0.894964337348938, -1.1521191596984863, 2.034446954727173, 0.8846358060836792, -2.158830165863037, 1.989546298980713, 1.138062834739685, -1.9821674823760986, -2.0296566486358643, 1.1483914852142334, -0.975456953048706, -1.9847558736801147, 1.0850344896316528, -1.0196224451065063, -0.9799553751945496, 1.1056917905807495, 0.9937989115715027, -0.890153706073761, 1.1690489053726196, 1.0379645824432373, -1.8949543237686157, 1.1793773174285889, 2.04467511177063, -1.8500535488128662, 0.9893069267272949, 1.912178635597229, 1.1643486022949219, 0.9789783358573914, 0.905467689037323, 1.1194478273391724, 1.900681972503662, -1.1652402877807617, 2.0972847938537598, 1.8903535604476929, -2.1719510555267334, 2.052384376525879, 2.143780469894409, -1.9952888488769531, -1.9668190479278564, 2.154109001159668, -0.9885781407356262, -1.921918272972107, 2.0907530784606934, -1.0327438116073608, -0.9171174168586731, 2.1114096641540527, 0.9806780219078064, -0.827315628528595, 2.1747665405273438, 1.0248433351516724, -1.832116723060608, 2.1850950717926025, 2.0315539836883545, -1.7872157096862793, 1.9950249195098877, 1.899057149887085, 1.2271865606307983, 1.9846965074539185, 0.8923467993736267, 1.1822856664657593, -1.1268000602722168, -2.132587432861328, 1.86387038230896, -1.0634435415267944, -2.0884220600128174, 0.8590695261955261, -1.0221288204193115, 1.9384207725524902, 1.0386728048324585, -1.0854856967926025, 1.89425528049469, 2.043473482131958, -1.0324574708938599, 0.9317100048065186, 0.9937721490859985, -0.8423869609832764, 1.064206838607788, -2.020630121231079, -0.8320585489273071, 2.0709176063537598, -1.9757294654846191, -2.1325178146362305, -2.1194663047790527, 1.8010324239730835, -2.0691611766815186, -2.075300693511963, 0.7962319254875183, -2.027846574783325, 1.951541781425476, 0.975834846496582, -2.091203451156616, 1.9073764085769653, 1.9806357622146606, -2.038175106048584, 0.9448312520980835, 0.9309342503547668, -1.8481049537658691, 1.0773279666900635, -2.083468198776245, -1.8377763032913208, 2.084038496017456, -2.038567304611206, -1.1164714097976685, -1.125877022743225, 1.90877103805542, -1.053114652633667, -1.0817112922668457, 0.9039705395698547, 0.9583208560943604, -1.1079535484313965, 1.0296462774276733, 0.947992205619812, -2.1146645545959473, 0.9847455024719238]);\n",
              "//# sourceURL=js_0aea15e838"
            ],
            "text/plain": [
              "<IPython.core.display.Javascript object>"
            ]
          },
          "metadata": {
            "tags": []
          }
        },
        {
          "output_type": "display_data",
          "data": {
            "application/javascript": [
              "window[\"e2adb44c-d12f-11e9-9ccb-0242ac1c0002\"] = new Uint32Array([2, 1, 0, 3, 2, 0, 3, 4, 6, 5, 6, 4, 7, 6, 8, 9, 8, 6, 10, 11, 12, 12, 13, 10, 14, 13, 16, 16, 15, 14, 16, 17, 18, 18, 19, 16, 0, 1, 10, 1, 11, 10, 0, 14, 4, 14, 0, 10, 1, 2, 12, 1, 12, 11, 4, 14, 5, 5, 14, 15, 5, 19, 9, 19, 5, 15, 9, 19, 18, 18, 8, 9, 8, 18, 17, 17, 7, 8, 7, 12, 2, 12, 7, 17, 20, 21, 22, 22, 23, 20, 22, 24, 25, 26, 22, 25, 28, 27, 29, 30, 29, 27, 31, 29, 32, 29, 33, 32, 20, 28, 21, 28, 20, 27, 20, 30, 27, 20, 23, 30, 23, 33, 30, 33, 23, 26, 26, 25, 33, 25, 32, 33, 25, 24, 32, 24, 31, 32, 24, 21, 31, 21, 28, 31, 1, 0, 20, 20, 0, 34, 0, 35, 34, 36, 35, 0, 36, 37, 21, 35, 36, 21, 1, 21, 37, 20, 21, 1]);\n",
              "//# sourceURL=js_c23ea1afb1"
            ],
            "text/plain": [
              "<IPython.core.display.Javascript object>"
            ]
          },
          "metadata": {
            "tags": []
          }
        },
        {
          "output_type": "display_data",
          "data": {
            "application/javascript": [
              "window[\"e2adffba-d12f-11e9-9ccb-0242ac1c0002\"] = new THREE.BufferGeometry();\n",
              "//# sourceURL=js_301f457192"
            ],
            "text/plain": [
              "<IPython.core.display.Javascript object>"
            ]
          },
          "metadata": {
            "tags": []
          }
        },
        {
          "output_type": "display_data",
          "data": {
            "application/javascript": [
              "window[\"e2ae6720-d12f-11e9-9ccb-0242ac1c0002\"] = new THREE.BufferAttribute(window[\"e2ad6c44-d12f-11e9-9ccb-0242ac1c0002\"], 3);\n",
              "//# sourceURL=js_156fd09136"
            ],
            "text/plain": [
              "<IPython.core.display.Javascript object>"
            ]
          },
          "metadata": {
            "tags": []
          }
        },
        {
          "output_type": "display_data",
          "data": {
            "application/javascript": [
              "window[\"e2aeb87e-d12f-11e9-9ccb-0242ac1c0002\"] = window[\"e2adffba-d12f-11e9-9ccb-0242ac1c0002\"].addAttribute(\"position\", window[\"e2ae6720-d12f-11e9-9ccb-0242ac1c0002\"]);\n",
              "//# sourceURL=js_05db592aee"
            ],
            "text/plain": [
              "<IPython.core.display.Javascript object>"
            ]
          },
          "metadata": {
            "tags": []
          }
        },
        {
          "output_type": "display_data",
          "data": {
            "application/javascript": [
              "window[\"e2af12c4-d12f-11e9-9ccb-0242ac1c0002\"] = new THREE.BufferAttribute(window[\"e2adb44c-d12f-11e9-9ccb-0242ac1c0002\"], 1);\n",
              "//# sourceURL=js_1ae58365e4"
            ],
            "text/plain": [
              "<IPython.core.display.Javascript object>"
            ]
          },
          "metadata": {
            "tags": []
          }
        },
        {
          "output_type": "display_data",
          "data": {
            "application/javascript": [
              "window[\"e2af6800-d12f-11e9-9ccb-0242ac1c0002\"] = window[\"e2adffba-d12f-11e9-9ccb-0242ac1c0002\"].setIndex(window[\"e2af12c4-d12f-11e9-9ccb-0242ac1c0002\"]);\n",
              "//# sourceURL=js_eb5ca6750d"
            ],
            "text/plain": [
              "<IPython.core.display.Javascript object>"
            ]
          },
          "metadata": {
            "tags": []
          }
        },
        {
          "output_type": "display_data",
          "data": {
            "application/javascript": [
              "window[\"e2afb6e8-d12f-11e9-9ccb-0242ac1c0002\"] = window[\"e2adffba-d12f-11e9-9ccb-0242ac1c0002\"].computeVertexNormals();\n",
              "//# sourceURL=js_6c95202722"
            ],
            "text/plain": [
              "<IPython.core.display.Javascript object>"
            ]
          },
          "metadata": {
            "tags": []
          }
        },
        {
          "output_type": "display_data",
          "data": {
            "application/javascript": [
              "window[\"e2b00c56-d12f-11e9-9ccb-0242ac1c0002\"] = new THREE.Mesh(window[\"e2adffba-d12f-11e9-9ccb-0242ac1c0002\"], window[\"e2a33dfa-d12f-11e9-9ccb-0242ac1c0002\"]);\n",
              "//# sourceURL=js_4cdf4e5332"
            ],
            "text/plain": [
              "<IPython.core.display.Javascript object>"
            ]
          },
          "metadata": {
            "tags": []
          }
        },
        {
          "output_type": "display_data",
          "data": {
            "application/javascript": [
              "window[\"e2b05738-d12f-11e9-9ccb-0242ac1c0002\"] = window[\"e2a839ea-d12f-11e9-9ccb-0242ac1c0002\"].add(window[\"e2b00c56-d12f-11e9-9ccb-0242ac1c0002\"]);\n",
              "//# sourceURL=js_823f524136"
            ],
            "text/plain": [
              "<IPython.core.display.Javascript object>"
            ]
          },
          "metadata": {
            "tags": []
          }
        }
      ]
    },
    {
      "cell_type": "code",
      "metadata": {
        "id": "3x9SmZwWLcmW",
        "colab_type": "code",
        "colab": {}
      },
      "source": [
        ""
      ],
      "execution_count": 0,
      "outputs": []
    }
  ]
}